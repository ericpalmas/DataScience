{
 "cells": [
  {
   "cell_type": "markdown",
   "metadata": {},
   "source": [
    "# Esercitazione 5"
   ]
  },
  {
   "cell_type": "markdown",
   "metadata": {},
   "source": [
    "## Istruzioni\n",
    "Valgono le stesse istruzioni delle esercitazioni precedenti. \n",
    "\n",
    "Scrivi il programma Python nella cella sotto il testo dell'esercizio (o creane una nuova). Stampa sempre a video il risultato finale per verificare la correttezza dell'esercizio.  Talvolta richiamiamo alcuni concetti importanti in una cella di codice sotto il testo dell'esercizio, prova a eseguirla ed eventualmente modificarla per assicurarti di aver capito il necessario.\n",
    "\n",
    "**Nota.** Alcuni esercizi potrebbero richiedere una semplice risposta a delle domande. In questo caso potete scrivere la soluzione in una cella di tipo \"Markdown\".  \n",
    "\n",
    "\n",
    "## Consegna\n",
    "Valgono le regole delle esercitazioni precedenti.\n",
    "\n",
    "E' obbligatorio **consegnare la soluzione di tutti gli esercizi** (tranne quelli marcati come opzionali) **entro l'inizio della lezione successiva** (in questo caso entro Lunedi' 5 novembre), nell'apposito assignment su iCorsi.  Per consegnare:\n",
    "- eseguire l'intero notebook partendo da zero (`Kernel -> Restart & Run All`), e controllare che le soluzioni siano quelle attese;\n",
    "- esportare il notebook in formato html (`File -> Download as...`) e consegnare il file risultante.\n",
    "\n",
    "Nel caso non abbiate potuto completare uno o piu' esercizi, descrivete il problema incontrato e **consegnate comunque il file con il resto delle soluzioni**."
   ]
  },
  {
   "attachments": {
    "FigRegr1.png": {
     "image/png": "[encoded data removed]"
    }
   },
   "cell_type": "markdown",
   "metadata": {},
   "source": [
    "## Esercizio 1\n",
    "\n",
    "### 1.1\n",
    "Si consideri lo scatter plot in figura, che riporta la relazione tra la variabile indipendente ``x`` e la variabile target ``y``.\n",
    "![FigRegr11](attachment:FigRegr1.png)\n",
    "\n",
    "Una tra le seguenti 4 rette rappresenta il modello di regressione lineare che minimizza il sum-of-squares error (SSE). Quale? Motivate la vostra risposta.\n",
    "- $y = 2x+4$\n",
    "- $y = 2x-4$\n",
    "- $y = -2x-4$\n",
    "- $y = -2x+4$"
   ]
  },
  {
   "cell_type": "markdown",
   "metadata": {},
   "source": [
    "**Soluzione esercizio 1.1**\n",
    "\n"
   ]
  },
  {
   "cell_type": "code",
   "execution_count": 3,
   "metadata": {},
   "outputs": [],
   "source": [
    "Il modello di regressione lineare è 2x-4, perchè è la retta che più approssima i punti e il suo andamento. "
   ]
  },
  {
   "cell_type": "markdown",
   "metadata": {},
   "source": [
    "### 1.2\n",
    "\n",
    "Scrivere una funzione Python ``computePerformance(x,y,w,b)`` che calcola il SSE e il coefficiente di determinazione $R^2$ tra le osservazioni e la retta di regressione $y = wx + b$. \n",
    "\n",
    "La funzione riceve come argomenti di ingresso:\n",
    "    - x: numpy array contente una sequenza della variabile esplicativa \n",
    "    - y: numpy array della stessa dimensione di $x$ contente una sequenza della variabile target\n",
    "    - w: coefficiente angolare della retta di regressione\n",
    "    - b: valore dell'intercetta della retta di regressione\n",
    "e restituisce il SSE e l' $R^2$.    \n",
    "\n",
    "Testate la funzione ``computePerformance(x,y,w,b)`` per vari valori di $w$ e $b$ su un set di osservazioni generato in questo modo:\n",
    "    - x: array di dimensione 1000 che assume valori casuali (es. valori generati da una distribuzione Gaussiana con media nulla e varianza unitaria)\n",
    "    - y=3x-1 + errore, dove errore è un array di variabili casuali Gaussiane a media nulla e varianza $0.1$, e  generato col comando  errore = 0.1*np.random.randn(1000)\n",
    "\n",
    "Se non avete fatto errori, dovreste osservare che il SSE è \"basso\" e l' $R^2$ è \"prossimo a 1\" per valori di $w$ e $b$ vicini a $3$ e $-1$."
   ]
  },
  {
   "cell_type": "code",
   "execution_count": 5,
   "metadata": {
    "scrolled": true
   },
   "outputs": [
    {
     "name": "stdout",
     "output_type": "stream",
     "text": [
      "(w,b)=(3, 1), (SSE, R2) = (4008.22211587966, nan)\n",
      "(w,b)=(3, -1), (SSE, R2) = (9.544407441925983, nan)\n",
      "(w,b)=(-3, 1), (SSE, R2) = (41864.52842185895, nan)\n",
      "(w,b)=(-3, -1), (SSE, R2) = (37027.24149228595, nan)\n"
     ]
    }
   ],
   "source": [
    "# Solution\n",
    "import numpy as np\n",
    "def computePerformance(x,y,w,b):\n",
    "    y_hat = b + w*x\n",
    "    e = y - y_hat\n",
    "    SSE = np.sum(e**2)\n",
    "    R2 = np.nan\n",
    "    return SSE, R2\n",
    "\n",
    "\n",
    "x = np.random.randn(1000)\n",
    "y = 3*x - 1 + 0.1*np.random.randn(1000)\n",
    "\n",
    "(w,b) = (3,1)\n",
    "print(f\"(w,b)={(w,b)}, (SSE, R2) = {computePerformance(x,y,w,b)}\")\n",
    "\n",
    "(w,b) = (3,-1)\n",
    "print(f\"(w,b)={(w,b)}, (SSE, R2) = {computePerformance(x,y,w,b)}\")\n",
    "\n",
    "(w,b) = (-3,1)\n",
    "print(f\"(w,b)={(w,b)}, (SSE, R2) = {computePerformance(x,y,w,b)}\")\n",
    "\n",
    "(w,b) = (-3,-1)\n",
    "print(f\"(w,b)={(w,b)}, (SSE, R2) = {computePerformance(x,y,w,b)}\")"
   ]
  },
  {
   "cell_type": "code",
   "execution_count": 6,
   "metadata": {},
   "outputs": [
    {
     "data": {
      "text/html": [
       "        <script type=\"text/javascript\">\n",
       "        window.PlotlyConfig = {MathJaxConfig: 'local'};\n",
       "        if (window.MathJax) {MathJax.Hub.Config({SVG: {font: \"STIX-Web\"}});}\n",
       "        if (typeof require !== 'undefined') {\n",
       "        require.undef(\"plotly\");\n",
       "        requirejs.config({\n",
       "            paths: {\n",
       "                'plotly': ['https://cdn.plot.ly/plotly-latest.min']\n",
       "            }\n",
       "        });\n",
       "        require(['plotly'], function(Plotly) {\n",
       "            window._Plotly = Plotly;\n",
       "        });\n",
       "        }\n",
       "        </script>\n",
       "        "
      ]
     },
     "metadata": {},
     "output_type": "display_data"
    },
    {
     "data": {
      "application/vnd.plotly.v1+json": {
       "config": {
        "linkText": "Export to plot.ly",
        "plotlyServerURL": "https://plot.ly",
        "showLink": false
       },
       "data": [
        {
         "mode": "markers",
         "type": "scatter",
         "x": [
          0.3697912231275372,
          -0.1522715410311959,
          1.2949490268356414,
          -0.6401194626897339,
          0.28831091346404186,
          -0.3840029221497643,
          -0.13929610099138554,
          2.257518663894492,
          0.8539173813633567,
          -0.9205959361791941,
          -0.185917799843242,
          -1.8989742374016996,
          1.9821343977017658,
          -0.6013668429225342,
          -0.22070500060750375,
          0.7990193574692399,
          0.8246176050151848,
          -0.39371605221052575,
          0.3179915403153519,
          -0.3915515583307807,
          0.16410521624480606,
          0.07090998964214179,
          0.6090516380078045,
          -1.0694482812570896,
          0.8814444476804313,
          0.9276481270919011,
          -0.7415759985755368,
          -0.7791456512971853,
          -1.3250848227139573,
          -0.25537493294635183,
          -0.5714330119673271,
          0.8884327702971679,
          0.6208392100404672,
          0.3172658151153796,
          0.9301344422993105,
          0.45640295088507504,
          2.4445649908614873,
          -3.1007532704247285,
          -1.0017649196604121,
          -1.5764777803014158,
          0.8407230423653517,
          -0.4122212988571141,
          0.5164852968038374,
          -0.8963209641641264,
          0.8210551996932673,
          1.0825764459174987,
          -0.35896003618345784,
          -0.416373591906683,
          -2.3182395431066056,
          0.0356756354280955,
          -0.821404597238674,
          0.7069272773412559,
          -0.568081715211379,
          1.2175133108641998,
          -0.17445746919810046,
          0.7292962264482866,
          -0.29770660267800086,
          1.7009566707309058,
          0.31110262903620656,
          0.5222655736790531,
          0.021145208577617394,
          0.6998262464456313,
          0.018893110528473717,
          0.25068724917710306,
          0.9524027540901578,
          -1.2392884251653267,
          -0.014616057914589156,
          -1.2411451216193072,
          -0.6580742916744221,
          -0.5926530137419865,
          0.4036533330011778,
          1.752146461442136,
          -2.2062030749951003,
          1.0805354010405537,
          -1.917003680192857,
          0.4466554954457689,
          -0.8284927472875622,
          1.7446971266857048,
          -2.204186947885988,
          -0.15663422404603786,
          0.8809050507200895,
          -1.0756548596720028,
          -0.755282844090469,
          0.16639374184506195,
          -0.8137426157313838,
          -0.9170706952490012,
          -0.1708404269794756,
          0.5285312530406534,
          2.068117205903815,
          1.2863504012791809,
          0.43067064215024986,
          0.9005750284239262,
          0.5721634286030648,
          0.47006608512334574,
          -0.8399488651320244,
          -2.2633500992344207,
          0.11952299629061486,
          1.8590815707537747,
          0.06387066798980631,
          -0.420233795415513,
          -0.8088260507505362,
          -1.2762922890303088,
          1.633325478520992,
          1.8817853949055507,
          -0.2752696347460168,
          -0.9673307333241163,
          2.200687992414232,
          -0.5629189000912982,
          -1.111175824424996,
          -0.8247745812980862,
          -1.854965756973237,
          -0.15875404341173785,
          -0.909302847637271,
          -0.2340586585400788,
          -0.30019168370868743,
          0.35097640558433374,
          -0.23944543993459663,
          0.8780597614685368,
          -1.0845673001432317,
          -0.373566277153441,
          0.9043220125217937,
          -0.6827489174329217,
          0.02628009822320145,
          -0.5535316087634048,
          -0.27472768321671803,
          1.8675904752505847,
          0.3060662742415513,
          -1.4460003545914504,
          -0.25501301360383377,
          -0.8754048423456127,
          1.1216403693944081,
          2.7616682732105113,
          -0.41994719324219715,
          -1.1139880521593544,
          0.33257052565867967,
          -1.5207650581591663,
          -0.2705335707190535,
          1.1064051915581967,
          0.37966725759140424,
          -0.9665747441954397,
          0.8949172666637595,
          -0.6852284575402313,
          -0.4150693236252966,
          0.28370447457224574,
          -1.4722797620894,
          -1.1403868646174833,
          -0.25633013394324516,
          -0.028688568202710034,
          0.5141209957157418,
          1.9197068118464033,
          0.19232935047924063,
          0.5220922907845067,
          -2.2972549613478,
          -0.08467684768608338,
          1.0210175462631617,
          0.27348399941651375,
          -0.5452969483900035,
          0.7654461653949977,
          -0.14792939421810578,
          -1.4398081708424069,
          0.8448728065707707,
          2.4567041449808955,
          0.9992066773605456,
          -0.5710363254809981,
          -0.4070857889829875,
          -0.6913829493451136,
          -0.2023749175842099,
          0.045844146233405256,
          0.3723976910394757,
          -0.24467824537196906,
          1.252700897566119,
          -0.2917447409612437,
          -0.03545923089138299,
          0.5908159587113833,
          1.7036566402595414,
          -0.048523406263682144,
          1.041490323427106,
          -0.5216117772746784,
          2.9901061268613627,
          -0.9850146761315807,
          -1.4037698786635209,
          -2.474362924446793,
          0.7465576654160547,
          0.7502728047450632,
          -1.5554026401346228,
          0.9965527756380803,
          0.2837353074005322,
          -0.15185560212957705,
          1.2502544620418825,
          2.5987340545785416,
          -0.04365827743602493,
          2.2615810906307106,
          -0.9955008897543772,
          -0.363489737025142,
          -0.22437670303677704,
          -0.6548734673485732,
          -1.4122834747145818,
          -1.6666360034249506,
          -1.3731073726661647,
          0.9580897129210906,
          -0.16473306446373623,
          -1.4137031973588516,
          -0.15812984407524108,
          -0.33204823472032013,
          0.23580624592298738,
          1.780037190926481,
          0.7656693604808551,
          -1.4768379316370688,
          0.5750052686401539,
          0.5168217692234516,
          -0.9214118627850655,
          -0.21507358683566874,
          -0.46254403206954364,
          1.180290461500168,
          -1.5298935331966972,
          -0.39398822249904314,
          1.8680719857054557,
          -1.8147148699240758,
          0.2667235350191644,
          0.6911657144087427,
          1.1054635571085842,
          0.11179070231463553,
          0.8295855576845734,
          -0.7493710358754707,
          -0.5985885389309569,
          -1.832904115547471,
          -0.3687083522719266,
          -1.8216407375412658,
          -0.697507678756367,
          0.17067754955841705,
          1.1659432072857947,
          0.2528875121627568,
          -0.09217871476433047,
          -0.5780552735385296,
          0.022092926232534116,
          0.3143229314260251,
          -1.230656469968182,
          -0.39519485019414163,
          0.8892398685981586,
          2.047582979459488,
          -1.3444885396116428,
          -0.5989867317523059,
          -0.5842538352105686,
          0.9559489329478743,
          0.41385986298664235,
          -0.3528219582996125,
          1.384307434517315,
          -0.7362174523825277,
          -0.6176132618054345,
          0.3277238332049803,
          -1.1441644071399484,
          -1.014121470913975,
          0.9829425217947936,
          1.111119590643009,
          0.7670356148370188,
          0.18234228137206954,
          1.2982081498632219,
          -0.4904125140158762,
          0.6059674669835836,
          0.5414479110632395,
          -1.9339739511627438,
          0.9989999175239399,
          -1.7915629218379339,
          0.9351099208036875,
          0.21361422987203818,
          0.1374715753509737,
          1.5974174342951641,
          0.16163540964801454,
          0.2995797198614746,
          0.8893780191489906,
          -1.4881863440744576,
          1.2918264181207393,
          1.5023958756021896,
          0.8971891206096417,
          -0.4590965510354401,
          0.18707837524139767,
          0.5547611877912927,
          0.9172019238949729,
          0.7522199945563682,
          -1.6326087367651696,
          0.38838956068467057,
          0.14745281145797087,
          -0.31012977267964,
          -0.4931047426172753,
          0.4614922138732902,
          0.21911480204882935,
          -0.2696931390631805,
          -0.5488528686255049,
          -0.8646718229255329,
          -0.28878334658913357,
          0.15591523365705176,
          -1.8487288090920757,
          1.3406999052723234,
          -1.592981724033259,
          -0.8311763003810795,
          0.32316025449406166,
          -0.5223113253264645,
          -0.6167084026134215,
          0.35297577477189074,
          2.145066961911711,
          1.495702094328919,
          -1.4757582598351866,
          0.06142614823337514,
          1.9773959077598746,
          -0.3119878456751037,
          0.9884271357957279,
          0.07581744159018586,
          -0.8264433245676213,
          0.881350962130408,
          1.041600837253535,
          -0.65053086249323,
          1.6795202142066366,
          -0.2913973192872474,
          -1.1552374454978533,
          0.7437035999502645,
          1.8104263501854396,
          -1.0356975653802798,
          1.6025976388147316,
          -1.3542660370091482,
          0.6050553852504091,
          -0.9152707384538661,
          -1.4276671903013938,
          -0.17813573232839852,
          0.867729362229166,
          0.045196943426836805,
          0.5120911076287602,
          0.9204190187838743,
          -2.4589179292670718,
          -0.45636841758770846,
          -0.28937186378723173,
          0.10470644433299323,
          0.857510263657202,
          1.128423460044637,
          0.7299595640092941,
          -1.342826856512945,
          0.44195535604070263,
          -0.2146354167226673,
          -0.07400723954359018,
          -0.03437900677402277,
          0.10346158366586952,
          -1.5335462045099753,
          -0.4125605897841576,
          -0.027576861848841422,
          -0.4846279649753411,
          -0.5129928001580444,
          0.717889598300435,
          -0.4555790981820493,
          1.1578010429272652,
          1.3517597521446614,
          -0.4276598666758565,
          -0.23679806488551192,
          -1.8248061994553928,
          -0.8496642936493091,
          -0.6070016059395624,
          0.10485067421795137,
          -1.1902716212117068,
          -0.28847673464969065,
          -1.4770485151650021,
          -2.9936727140825856,
          -0.6155144415191053,
          -0.5335561242698197,
          -0.18055638803532983,
          -0.0014962636520519917,
          -1.567683727682599,
          -0.7310849444215629,
          0.7620218744155492,
          1.94234719937134,
          -1.250269839489684,
          -0.6002720867682808,
          0.8712790204035298,
          -1.0384675462062738,
          0.28224416382088374,
          0.6255438230545043,
          0.26772660023440725,
          -0.35210032608392594,
          0.5335295674806061,
          -0.49123387090577403,
          0.9119355751800771,
          -0.35367713932240935,
          0.5857188279753442,
          -1.5123022202272831,
          -0.5963186878783339,
          0.13706470833785994,
          1.4133938034548421,
          -0.09423374236477058,
          -0.9394094228984325,
          0.23412940469390792,
          -1.31315373012779,
          0.1926215912524075,
          1.0471111814268754,
          -1.497663551314108,
          -1.5320356947071674,
          -1.7207434450556796,
          -0.9129408453047849,
          1.1239048973347363,
          0.363094464509708,
          0.10219313608042462,
          -2.431276632569374,
          -0.9671814615096905,
          -2.0805854273267883,
          1.3926235756019407,
          -0.6396182736904414,
          0.3176053958881976,
          0.005123485601686661,
          1.030294022963629,
          -0.882105748819189,
          -1.4946501488351673,
          -0.9225925868433104,
          1.3856087660127758,
          0.8999806701144414,
          2.5465451221986255,
          -2.1316853641332445,
          0.2291712282249048,
          -1.2443984468850413,
          -0.43347556091982803,
          -2.9742641183307237,
          1.1666730536517154,
          0.09937379683326425,
          0.4094686420058491,
          0.24803398420610767,
          -0.01677671805098641,
          -0.11719402782038413,
          -0.14489363660185775,
          0.33122059008114674,
          0.35169685555805474,
          0.6047919615992093,
          0.2811691689387651,
          1.7496872406493307,
          -0.8335701195892795,
          -1.53266769517005,
          0.054289580224497355,
          0.08972256955934678,
          2.0882959652576676,
          0.31597031406862447,
          -0.9244094649646187,
          1.4103430635893845,
          1.2183333268052847,
          0.7183643700640318,
          1.0798480538690571,
          1.183496316401446,
          -0.2881912840916861,
          -0.645274585653259,
          -1.2835999375663998,
          -0.20967633465403007,
          0.3882067113668286,
          0.5455051392293337,
          1.0996489707404886,
          1.134732862011004,
          0.9004587735006485,
          -1.2731073116027571,
          -0.6801996225640603,
          0.17857932918633998,
          -0.764396541619278,
          0.13937520503663517,
          -0.48773444613426054,
          0.3239445792956729,
          -0.2346468926551466,
          1.2082537729568779,
          0.8914356142224776,
          0.095405922131794,
          0.611853927467082,
          -0.48916382399476455,
          -0.463913216979782,
          0.6990025411366766,
          0.34666034850350746,
          0.845999276154017,
          1.4793162109074973,
          -1.1926681334401212,
          0.7706831573587317,
          -1.950382672590253,
          1.4209398491127363,
          0.18150390871863503,
          -0.03584852265379147,
          -0.5069909743327352,
          -1.1425770038234977,
          2.008919832844613,
          0.36912555099638883,
          1.3866622183222796,
          1.439552312859329,
          1.4029268351610782,
          1.950973517924328,
          0.8669905300844949,
          -1.0526055031752475,
          0.06649584263289188,
          0.010452629896494777,
          0.752207146627037,
          -0.20815889483473476,
          0.8542764341445436,
          -0.5891111686215341,
          -3.2226987061844734,
          0.042293223043637446,
          -0.18749741383686563,
          -0.5623251249770622,
          -0.13061857820660452,
          0.7072295462013962,
          -0.7954084364576578,
          0.4634879356785935,
          -0.10023248121360465,
          0.7046954531680802,
          -1.0793317496392645,
          -0.17995511837319117,
          1.201193694926284,
          2.8323147347063427,
          -1.410804464928095,
          0.8744291230191991,
          -1.414713735289753,
          -0.15394644989061923,
          -0.32808553564513904,
          -1.182391892719013,
          -0.07599385622964967,
          -0.7786296903218903,
          0.04570047942896808,
          -0.9395110011430591,
          1.0538378973942524,
          0.6654185098653975,
          1.4319057083168323,
          1.2701768847956771,
          -0.35156228853079324,
          -2.6984884675151077,
          0.09872271655864458,
          -0.1072923071351301,
          0.2518122164828773,
          1.745033773536899,
          1.3572748430791883,
          -0.41461059478619694,
          -0.3120021049063356,
          0.8583659792836931,
          -0.16284595248102288,
          -0.8259271982894486,
          0.25012352667431564,
          -1.3667593604588175,
          -1.0300317790131372,
          0.1857896864498418,
          -1.7426034485366833,
          -0.6085688172747526,
          -0.4446088682880828,
          1.2743583381472898,
          -0.8852536829575992,
          1.458011476625046,
          -0.37266223208045707,
          0.7258438941174287,
          0.2534047668057193,
          -0.20556582016526065,
          0.3543935357836632,
          -0.3087794506809401,
          -0.06881532051605022,
          -0.36085241612872404,
          0.9180016074576054,
          1.8492649962797962,
          1.378530248869909,
          -0.451545435100437,
          -0.2650361880009213,
          -0.6348021580586715,
          0.27398830912225836,
          -1.0311197383214203,
          0.4266627759642551,
          0.5124401769266209,
          -0.44974581004988595,
          0.6963067711237024,
          -0.5769146061613656,
          1.4068134270500936,
          1.9872433342693907,
          1.693027328716507,
          -0.27128867095672293,
          0.34737063110292465,
          0.6210493598066238,
          -0.246461377729721,
          -0.4742926329272504,
          -0.1715495654167183,
          0.8379995741132406,
          0.037638100633768816,
          -0.7268765888277802,
          0.9050344488985343,
          0.6029437646980094,
          -1.0204175673327571,
          -1.5518622962201818,
          -1.4702752054381967,
          0.965906017020541,
          -1.1172959507322637,
          1.2597583736722648,
          0.9790661156382323,
          0.19207600661312818,
          -0.3831289425943694,
          1.0659932104143572,
          0.39716471708405393,
          -0.44306151902509744,
          -1.3794100672513376,
          0.5962336704939702,
          -0.442504318149014,
          -1.0726756436388436,
          0.26517731991037313,
          -0.07831617222722423,
          0.20597133797885317,
          0.9837079998070503,
          0.06481124135145552,
          2.08851957894982,
          0.9859629807240354,
          0.4331420314434248,
          -1.3251891030018763,
          0.5959701826276246,
          0.937211922932436,
          -1.2118282377394782,
          -0.4396510038984632,
          -0.09326913727760748,
          0.3830094386169782,
          0.2867228113694971,
          0.5593033722182583,
          -1.5390540351776227,
          -1.1175436308865416,
          -0.09345951577286642,
          -0.843411307686636,
          -0.003968991869124644,
          -1.693290961653312,
          -0.8025127804109061,
          -0.6208936037805812,
          1.0074736776810314,
          -0.9971838750436058,
          -1.1453325187747723,
          -0.1917812690187328,
          1.2077618221055755,
          0.16017744490537342,
          1.3484708430602657,
          1.0727301002953724,
          -0.6703675886511453,
          -1.227133959458435,
          -2.7188878780065053,
          1.03482914670125,
          0.24049785428206547,
          0.6404806288489622,
          -1.3474104880812352,
          1.3687259998321433,
          0.16255317402069613,
          0.09345952927669401,
          -0.02191485054418039,
          0.25291692066684873,
          -0.8985672730193933,
          -1.4964282880447477,
          1.7034059724568151,
          0.6049671579669654,
          0.5458838370668063,
          -1.3889317278104227,
          -1.6296427928090602,
          -0.39824937349908524,
          -0.20667409316630064,
          -1.0462585240930966,
          1.1858996163059181,
          -0.569293340330475,
          0.48331957750531995,
          -0.9117052601617688,
          -0.25735548999782026,
          -0.4560847801408867,
          0.6908653890055304,
          -0.07703016873600871,
          0.8719988424815435,
          -0.17652308499673344,
          0.35814457434545727,
          -1.5024616639781108,
          0.16120258422922815,
          0.19348553280457126,
          -0.5126975585222283,
          -1.5174377911355585,
          0.17901006056532776,
          0.010200955143806487,
          -1.248670929189135,
          1.0235924427880672,
          -0.9282620587129319,
          -1.0194981363042412,
          -1.8647859479948274,
          -0.5853030740302655,
          1.00981976833482,
          -1.4138049189365787,
          0.38292891077456376,
          -0.032836518532863894,
          1.6570396107512062,
          -0.46375610188994904,
          -0.06701650003936242,
          0.8331488727210513,
          1.0299749041986714,
          0.934077018113372,
          0.42635513675847014,
          0.08766341447922192,
          0.6802767551400455,
          1.806638726821974,
          -0.00954424450523605,
          0.3069157660697165,
          -0.28911196404196493,
          -1.4322780575163185,
          -1.3484737514346863,
          -0.974913229705507,
          -1.0689872882266185,
          -1.0109446061688891,
          -0.5152109877130288,
          0.8632243476765011,
          0.795934059224034,
          0.5227145051026741,
          0.6185147392131466,
          -0.16692511126309897,
          -0.10169164452788013,
          0.6156990284980952,
          -1.7732360957926248,
          -0.4112421548852204,
          0.30279191709978887,
          -0.5414328971552831,
          0.47197704627984693,
          0.9920236529820543,
          1.4720508667719738,
          -0.9797460151877577,
          0.662813367520862,
          -0.6092620062958349,
          -0.5351930515085978,
          -0.7402418370585746,
          -0.5890624687848705,
          -1.32814987111812,
          0.08323349577014684,
          -1.2013770935654249,
          0.1761200738941373,
          0.6616311526681157,
          -0.5525617362768981,
          -1.856311851390777,
          -1.4602469913098701,
          -1.091800777116109,
          -1.272085502844482,
          0.1384875695258901,
          -0.4611541500171494,
          0.5720086489120957,
          0.12770981005297777,
          1.747728849532334,
          -0.21509689718902975,
          0.44981609321059907,
          -0.1014679993857923,
          0.05900149745363405,
          1.1375645418805906,
          -1.8575702316110778,
          -0.34656320239652544,
          0.07083365555626815,
          -1.0883477411555744,
          1.3823864476745933,
          -0.5048155186644805,
          0.7294782099307291,
          0.25720438037532245,
          -0.8899210382353742,
          -1.3105457244375167,
          -0.46270258830744065,
          -1.8736055542759875,
          -0.29776953545445906,
          -0.6135315225591025,
          -0.22220214614400943,
          -0.39561143169375435,
          -1.3451240823363837,
          0.5872858982281665,
          -0.6143363504473248,
          -0.5480457807975657,
          -1.4939814498499764,
          0.5376097991519052,
          0.25632250522802263,
          -0.7015401498179875,
          -0.15191138105102833,
          0.1257592714182674,
          -1.0149119496509063,
          1.8312315585552295,
          -1.3163060573957086,
          0.3791718807278605,
          -0.5052841208649509,
          0.6342050511331153,
          0.43422430648825877,
          0.31475099685846225,
          -0.8862364743398101,
          0.8998753641318344,
          -0.5538032956878369,
          1.998125760763852,
          0.20279384412205062,
          0.2775742773853735,
          1.1388588584269335,
          0.6022901566870615,
          1.3476024681719438,
          -0.975937870984813,
          -1.188943213719947,
          -0.39086137000982474,
          -1.1643564533878923,
          2.244763628892264,
          -1.2941234309897023,
          0.0734633240138593,
          1.6524308608196494,
          -1.3631649540735864,
          0.05357881106552588,
          0.0802601469304703,
          -1.251722604278277,
          -1.314434242250727,
          0.3598126452712431,
          -0.8091809791395919,
          0.5792724510153908,
          -0.043431248764588246,
          -0.11470033039218448,
          0.12077722182254925,
          0.5859280402982032,
          0.09497947344031532,
          1.9211205790885215,
          1.840358368102722,
          -0.8934337389986745,
          -0.2347446959360769,
          1.2041798310172054,
          -0.26740629552614625,
          -1.5738917278860605,
          0.5787663550485298,
          1.4296139842254714,
          -0.6633057044457806,
          -0.7423987493992139,
          -1.9863290336779085,
          -0.6608749180980624,
          1.28715170711091,
          0.5967169551934792,
          -0.600641655398489,
          0.6256625084954375,
          -1.7679705395274934,
          -0.3176568219753141,
          1.4428083186277672,
          -0.4479288885684834,
          0.8319028328377379,
          -0.8240339378476526,
          0.04247384977552048,
          -0.020483291450443534,
          -0.8562615412453811,
          -0.367211155053392,
          -0.10103253325328257,
          -0.1317063597759588,
          -0.8093637690563069,
          -0.49222893969036596,
          0.8308439093580643,
          0.019837421647507264,
          -1.053131853648233,
          -1.3453570614088353,
          1.85763042269165,
          -1.0869710864107551,
          -0.25977232660731503,
          0.6668717489348767,
          0.7406130915766453,
          0.6609527456528633,
          0.7965286097777547,
          -1.8871010367680097,
          0.45900815694988156,
          -0.7591478975080036,
          -0.1752926983877749,
          -1.1543976231028485,
          0.2610450171675762,
          -1.0232563371208543,
          -0.7661161569488041,
          -0.15136021507656663,
          0.19368188739197925,
          -1.18984306433312,
          -0.07852630891131405,
          -0.18973482569854808,
          0.7755080794980502,
          0.1980707031941181,
          -1.1181118712600966,
          -0.8202243699127982,
          -1.088206954483015,
          1.6714842701176562,
          -1.065868912757437,
          0.23688703825289337,
          0.3140564697993269,
          0.9710179812179535,
          -1.2781659149863112,
          0.1753416252973732,
          0.2701316446023335,
          -1.1654631831636777,
          0.7627875167631855,
          -2.055443147757272,
          2.1258885070835496,
          -1.4027546230436685,
          1.0035996633268436,
          0.016227320040261624,
          -0.03038922226520357,
          -0.8856074783754366,
          1.043304953184176,
          -1.5688969890127396,
          1.1680421737749924,
          0.5382387607049872,
          0.2998857453415739,
          1.2875138795311936,
          -0.7588091709695045,
          1.765169957072211,
          -0.5015173988291288,
          -1.3079288129181252,
          0.26988552832429613,
          -1.1724798084144483,
          -0.7392701727813159,
          -0.8378231434940933,
          0.7674334203922264,
          0.9505899440923472,
          -0.1672102514221218,
          -0.7056631519137482,
          -0.2886927890948605,
          1.5851723123967099,
          -0.9467308655219319,
          0.0041330638406264315,
          -0.4089235259059301,
          -1.9094813165246707,
          -1.368842426585382,
          1.6148966940827165,
          0.8449656479366061,
          0.4939879543550859,
          1.5484424477297372,
          -0.4633077863510259,
          1.5179014506363437,
          -2.007729776672108,
          -0.5626925825484815,
          0.31713573892716374,
          0.7541287508742245,
          2.1926358612953356,
          -0.33365862913972394,
          1.3283285972233043,
          -1.5058412077836103,
          -0.19297126160415073,
          -0.3325399410542257,
          -0.9168205547533758,
          -0.48268713395071866,
          0.3883240887529398,
          0.21995347601871612,
          -0.6122106582629235,
          1.6608678067035911,
          -0.8649952045679937,
          -1.3879331880728036,
          0.19468345670618264,
          0.21361382926632064,
          -0.529459932273369,
          -0.8787597120726087,
          -0.17049947012562733,
          1.2757023359664963,
          -0.4810593077101864,
          -1.5917339375659085,
          -0.9115364633796245,
          0.049288772597347395,
          0.1800722692098737,
          1.454283199239731,
          -1.803662751367318,
          -0.10055584211860119,
          0.7934646642644094,
          -0.5225539285830679,
          -1.6332658819077739,
          0.8921011709933475,
          -1.3233809954029043,
          0.37985596534293403,
          -1.0953018770733416,
          -0.5795374393634539,
          -1.0460188448540395,
          0.6612942136044747,
          0.8984716565130079,
          0.24693970194471523,
          -0.2444786671550618,
          -0.42816955163429143,
          -0.14843609134960128,
          1.0749156865598175,
          0.2581204084591221,
          -0.06265068860243672,
          -1.9422027488692266,
          2.7006571053337214,
          1.691393710612649,
          -0.7488027067253232,
          -0.16519657711912164,
          -0.5026898567854875,
          0.8120672906357669,
          -1.3201871754417596,
          -3.544512817358704,
          -0.7912180964654478,
          -0.6335004216419969,
          -0.6333123276241639,
          0.6491153788181663,
          0.3055754908495263,
          1.2895877663273818,
          0.8275123732971469,
          -0.31449237048517115,
          -0.2597526164877884,
          1.6006072747729925,
          -0.7848607160792769,
          -0.06505959357272187,
          0.666115745233237,
          0.41893908914762057,
          -1.0285738358897425,
          -0.48565731580400157,
          0.646946073379938,
          1.4026439014324945,
          0.27783147855766616,
          -0.1418987930821509,
          2.819452905840433,
          0.2726290143378471,
          -1.046571205147577,
          0.5382109496609786,
          -1.637867589455444,
          1.256939507870926,
          -0.6816504266115817,
          0.14194109425082793,
          -0.006972543824080106,
          0.10969363138259507,
          0.24773150823342843,
          -0.31480784340254314,
          0.11826741496424753,
          -0.16692418663633585,
          -0.5054437729874185,
          -0.24955478869249226,
          -0.8928880605580952
         ],
         "y": [
          0.16749122143511241,
          -1.443523494882883,
          3.001973452807006,
          -2.78427036523834,
          -0.24875327783080628,
          -2.166728505968137,
          -1.6232555772845825,
          5.894310879638685,
          1.5574176091350982,
          -3.8020798838842262,
          -1.5613954804079422,
          -6.5781376493757415,
          4.825031253595105,
          -2.568296660129305,
          -1.6504947508482555,
          1.4766361882570835,
          1.549012522733761,
          -2.2908730961917727,
          -0.146664930869927,
          -2.2120794460201108,
          -0.5648242823555514,
          -0.797718543126452,
          0.9224366521999334,
          -4.120917252085876,
          1.4150865173353433,
          1.8293359897720143,
          -3.163844676168077,
          -3.2867305971822165,
          -5.007553191481705,
          -1.622644705709221,
          -2.681262437492442,
          1.738177058357397,
          1.017035148069959,
          -0.04637261110835747,
          1.7728403529574575,
          0.4774703623230003,
          6.232703835181786,
          -10.156826760488128,
          -3.991762271238464,
          -5.636783823294288,
          1.5362532531596853,
          -2.1264331224364525,
          0.6339707136214394,
          -3.8424869742555368,
          1.4170080879384965,
          2.4047206022678824,
          -2.207083519283845,
          -2.249816272930688,
          -7.975785140174506,
          -0.8478878727515923,
          -3.443162291226399,
          1.226096829081015,
          -2.7931873275434786,
          2.6294565254139224,
          -1.5298926804235358,
          1.331360163888485,
          -1.8014828723175123,
          4.01829221854519,
          -0.024112203947092493,
          0.6059530768018452,
          -1.0435351134905966,
          1.1142004695295766,
          -0.9497737292824046,
          -0.1971254579338606,
          1.8972815228285451,
          -4.719664068831247,
          -1.0563959399755554,
          -4.562317939115778,
          -2.7599015623282432,
          -2.698656725554939,
          0.18605060964627107,
          4.319411399869027,
          -7.849400161853689,
          2.1545605220471526,
          -6.680307473436816,
          0.36415477830697396,
          -3.5005231268090484,
          4.189743458657705,
          -7.713009811177783,
          -1.5956205845850302,
          1.4735387830704922,
          -4.204577464275947,
          -3.315832365267305,
          -0.407429605504,
          -3.3950807114847192,
          -3.833279578590114,
          -1.4690022571768415,
          0.6390334194768389,
          5.15384647649923,
          2.910237079523522,
          0.3805172894877619,
          1.869972452114255,
          0.6183847467948146,
          0.43241340470174416,
          -3.739150895453031,
          -7.825570142210176,
          -0.7311443781383407,
          4.561165930898196,
          -0.8917397817790846,
          -2.336607206825347,
          -3.3372496221077452,
          -4.842331258689449,
          3.750188117946283,
          4.694906384256017,
          -1.7567424110346368,
          -3.9459190759693077,
          5.525132370035184,
          -2.7632399461328485,
          -4.358862802007737,
          -3.642516964218461,
          -6.569160402877776,
          -1.6208435459652912,
          -3.8480609660104035,
          -1.707943247481125,
          -1.8970725726877828,
          -0.08483770923198625,
          -1.713488884997263,
          1.6975945593330184,
          -4.020962683888335,
          -2.034326622035999,
          1.6236208376657004,
          -2.9565183414730964,
          -1.1045489078844746,
          -2.6627522537470942,
          -1.8067647517729977,
          4.609833657324757,
          -0.031997368009125345,
          -5.321123746267178,
          -1.9807204789799764,
          -3.784187404651946,
          2.3623005860148965,
          7.13299817887994,
          -2.1790851218971112,
          -4.144713787132653,
          -0.10396350168997014,
          -5.677688129324425,
          -1.707159191012951,
          2.3640919569569125,
          0.3506027121931269,
          -3.876091041730223,
          1.6241412574058134,
          -3.1695331852460384,
          -2.189238284790082,
          -0.29452132837841605,
          -5.350313117785516,
          -4.416849534698302,
          -1.7341571090746886,
          -1.3040448519379173,
          0.6175204303144035,
          4.758581401758729,
          -0.43851763909953634,
          0.583068473495564,
          -7.888046860933119,
          -1.1858463581982537,
          2.1512682142385624,
          -0.16348334530138048,
          -2.77553831642056,
          1.2872373003673538,
          -1.4856057838944243,
          -5.3138557095681795,
          1.4793292307524408,
          6.323394677232539,
          1.8880901846461715,
          -2.5483666358653614,
          -2.3882015687508664,
          -3.2898113858238127,
          -1.5316577908529698,
          -0.8672325479581907,
          0.15936391592093693,
          -1.7753841115594247,
          2.5657087550646054,
          -1.8786642367985582,
          -1.1696029341987537,
          0.8370878872759818,
          4.124496147071896,
          -1.26195919469735,
          2.162862588827601,
          -2.6234899879422438,
          8.025074169180057,
          -3.977026150309227,
          -5.202170656048569,
          -8.419125870277156,
          1.1201565289480353,
          1.264830572559754,
          -5.564171311768762,
          1.9349495582863236,
          -0.39011227765636924,
          -1.362693957929999,
          2.760743595622515,
          6.916284579219258,
          -1.220576060336466,
          5.910454627057528,
          -3.914134025969447,
          -2.1462051438797185,
          -1.7296930217240754,
          -2.9523332005433334,
          -5.288082044031869,
          -6.002276648354637,
          -5.170751860358122,
          1.827005104310331,
          -1.4693766958389052,
          -5.217176445814313,
          -1.6084152517020314,
          -2.036557424580213,
          -0.16793554595346055,
          4.33875670000021,
          1.4725107374995456,
          -5.352533642948104,
          0.7782797214185276,
          0.4902557995097154,
          -3.7306721130228864,
          -1.829928334550345,
          -2.257839865978856,
          2.5780742623483883,
          -5.4184694568909055,
          -1.97280539173746,
          4.612381162097692,
          -6.327003416541144,
          -0.24762824374870107,
          1.210937377641201,
          2.185137138259911,
          -0.7538475439121152,
          1.6096362521317207,
          -3.300637004563438,
          -2.862365889560102,
          -6.592588698691242,
          -2.1064465694736656,
          -6.434217489796017,
          -2.9363356280536403,
          -0.6036493994951923,
          2.6296968446831808,
          -0.2815049885587977,
          -1.2708773295386853,
          -2.617122487691387,
          -1.0801787545427488,
          -0.12715866495094402,
          -4.740308378762589,
          -2.380728395997178,
          1.7419894519334482,
          5.2457754295863275,
          -5.075843283292771,
          -2.6223416245467477,
          -2.936655938118411,
          1.9148437636090292,
          0.03106942985343844,
          -1.820606919096082,
          3.1405131593330546,
          -3.2394158609191197,
          -2.8130138965431195,
          -0.1695311778972726,
          -4.410262053436668,
          -3.9922633552272915,
          1.9981848016549777,
          2.3574179730439595,
          1.2128487592452295,
          -0.48098041556958704,
          2.915280518369525,
          -2.4994688362746045,
          0.8617587087823062,
          0.623231366144111,
          -6.967658324180948,
          2.0357126325575106,
          -6.5160853744499745,
          1.9020753359757,
          -0.3884192811652678,
          -0.6253247042625737,
          3.6723837317116605,
          -0.5550210349539388,
          -0.10666051758715676,
          1.8398484332974891,
          -5.4871497783041345,
          2.9523441483658868,
          3.7171251474221574,
          1.681269639264655,
          -2.3111064175289986,
          -0.5221974579147571,
          0.5891391039992473,
          1.7543572573118564,
          1.1128096298646373,
          -5.9484876272498814,
          0.32286988834421226,
          -0.5732053816548267,
          -1.8271014785762343,
          -2.5124088899577113,
          0.4365923592715651,
          -0.5896893321320176,
          -1.774771133547527,
          -2.5620343271925994,
          -3.640130762986468,
          -1.869929629459838,
          -0.4021951222492246,
          -6.5170801027408345,
          3.208296129471384,
          -5.879584338246598,
          -3.561802676458758,
          -0.060938491658684035,
          -2.6010191333526604,
          -2.9429349209612,
          0.1560943824643802,
          5.548961891457175,
          3.3615215868866914,
          -5.311320887845394,
          -0.7654717252338357,
          4.997792875090232,
          -1.9715210634243656,
          2.140776189720682,
          -0.7696139361815305,
          -3.4750501639486107,
          1.627848088512644,
          2.189831038537376,
          -2.984140499845921,
          3.9224119365526544,
          -1.9377553803968297,
          -4.56329779495705,
          1.2132674491308584,
          4.598120371234113,
          -4.086196380125565,
          3.685504728063974,
          -5.125491596863018,
          0.9174888506191369,
          -3.68445102591783,
          -5.172333301598922,
          -1.698002470800773,
          1.6150774939097967,
          -0.9215406221643793,
          0.665885619891599,
          1.6764281159584307,
          -8.237424018921791,
          -2.3523734251821047,
          -2.0364470239692563,
          -0.784563151218605,
          1.4785427078674538,
          2.268499406225799,
          1.0029549515782712,
          -4.914318466830047,
          0.21116250006888787,
          -1.8066191723752,
          -1.1576814872909886,
          -1.0473999724593808,
          -1.1188379010768057,
          -5.566395326522137,
          -2.282411492335727,
          -1.058636935311867,
          -2.397489496779131,
          -2.5652198749668633,
          1.1223316767325908,
          -2.306357038399715,
          2.4302658808963873,
          3.0347282747332187,
          -2.279191805897108,
          -1.7242203256704383,
          -6.6222942096320105,
          -3.5670761918312928,
          -2.8558651490592117,
          -0.38673627716882525,
          -4.526658866272353,
          -1.8644402967494629,
          -5.592073315480673,
          -10.03517409869697,
          -2.828033262426568,
          -2.5284132132163886,
          -1.328634079295666,
          -0.8676488110886302,
          -5.710725095799323,
          -3.217478653328008,
          1.1979103763500838,
          4.775043389067557,
          -4.687727988801356,
          -2.8136515868187275,
          1.5231960570891847,
          -4.156976397901232,
          -0.31229020292090137,
          0.8469625684523066,
          -0.046175476096015355,
          -2.0860774160014723,
          0.7250364778127683,
          -2.311128745407955,
          1.8185134213133627,
          -2.1222154080354985,
          0.7252682824231582,
          -5.504659616459417,
          -2.726243104877169,
          -0.7046552342382899,
          3.2264676521560895,
          -1.1177840694567887,
          -3.6500177733445445,
          -0.3907301462772981,
          -5.041252953419432,
          -0.3674727140899883,
          2.0998333946329955,
          -5.575031211384793,
          -5.497779097730839,
          -6.173083888072148,
          -3.663327925422994,
          2.4254421737532557,
          0.051240498878062486,
          -0.6734549560182519,
          -8.32118724514228,
          -3.874123684269712,
          -7.411703819051302,
          3.0543017588873242,
          -2.873309965928854,
          0.044647210296408904,
          -1.1285169460652935,
          2.1884314689256907,
          -3.7598564716748406,
          -5.32895779881891,
          -3.7689108512400735,
          3.2298536190860374,
          1.7042107097934935,
          6.643614231899975,
          -7.3229614627025805,
          -0.3063691866962053,
          -4.700038582518352,
          -2.2677169102768198,
          -9.838463312082355,
          2.6238947701918205,
          -0.7783921235402164,
          0.1877252362704952,
          -0.22397026368258144,
          -0.9966006990466394,
          -1.3655635108226023,
          -1.2670174004541073,
          0.009773655820796808,
          0.03637119990168252,
          0.9666885278794252,
          -0.27714270856683265,
          4.209611337527372,
          -3.387010154965967,
          -5.56118225532026,
          -0.9170096557930385,
          -0.9479602704702441,
          5.263064579144949,
          -0.21160340369939357,
          -3.8477410837829704,
          3.384833906394949,
          2.682087867985261,
          1.2842217157202271,
          2.036472260377686,
          2.4429275523377307,
          -1.7621006154468262,
          -3.069205584389987,
          -4.7634838765088645,
          -1.7939471367137534,
          0.16370835744800805,
          0.658315148498325,
          2.4320145678893503,
          2.3055483557017054,
          1.6140700595059236,
          -4.66826334431969,
          -3.0037564734410935,
          -0.4145031754475573,
          -3.2534957118781573,
          -0.5694930780887908,
          -2.4871906749785295,
          -0.14159320033432193,
          -1.8774076844441736,
          2.487751860482642,
          1.8013187137004216,
          -0.7398280757491978,
          0.8296138122597767,
          -2.356316646367871,
          -2.2603998257425966,
          1.1737630371854937,
          -0.14836111902637375,
          1.5331537826999886,
          3.287847912584067,
          -4.695478484403613,
          1.361501385736014,
          -6.847881636935869,
          3.064967308365152,
          -0.3775398816697092,
          -1.204195371007647,
          -2.5587525867503227,
          -4.284794242178248,
          5.129756144001841,
          0.21771333108626173,
          3.169263038437711,
          3.212443045387003,
          3.3179402661500124,
          4.943029892817165,
          1.6762338810086057,
          -4.087330885351182,
          -0.6612707074742167,
          -0.8788728261369385,
          1.4286368545442651,
          -1.6950059033367173,
          1.5940995833657063,
          -2.699277393056912,
          -10.62872739425619,
          -0.829520848240807,
          -1.6614846313920912,
          -2.767102646947838,
          -1.435404864269786,
          1.1419084866488969,
          -3.4365213337355187,
          0.5218754745538668,
          -1.4222005869344723,
          1.2180535349105008,
          -4.227403837831693,
          -1.3725173292650827,
          2.578349332426458,
          7.43579563065528,
          -5.549965436184765,
          1.746073294353659,
          -5.240884804425446,
          -1.4318686280886048,
          -1.9430233559290107,
          -4.491250394466472,
          -1.232556997164123,
          -3.4175435224773514,
          -0.8893536820063153,
          -3.8658980280459363,
          2.1855487204053112,
          0.920787812508136,
          3.387400892217405,
          2.808249596308636,
          -1.9686648448642021,
          -8.964222811097612,
          -0.742385913211536,
          -1.3972142313803388,
          -0.42906418133911717,
          4.18682055773749,
          2.974199625401704,
          -2.279615800322505,
          -1.9312690310662122,
          1.7440105454768033,
          -1.5030134327386973,
          -3.3393745516872055,
          -0.1833498437122808,
          -5.104049844887983,
          -4.063053054504918,
          -0.4463482479097379,
          -6.074753755451222,
          -2.7656649315248876,
          -2.503311797520154,
          2.8889177115509286,
          -3.877745892990387,
          3.3753806595585223,
          -2.1219021587097107,
          1.0801883216077486,
          -0.16094503389269166,
          -1.564986203673356,
          0.10846288610188579,
          -1.950112026661009,
          -1.1745810557156264,
          -2.223863392736904,
          1.6787103324084007,
          4.515025097863771,
          3.1667152750400476,
          -2.398642399804563,
          -1.6525913177089846,
          -2.8179920178945412,
          -0.18300341340130713,
          -4.019229101899963,
          0.22398823866405654,
          0.5968987448525198,
          -2.4483317955111694,
          0.9942102728151903,
          -2.8623413996091727,
          3.15617297085128,
          4.8763778315445245,
          4.15901605361296,
          -1.7665076178673231,
          0.20580923903025716,
          0.9239738098013817,
          -1.748194444135791,
          -2.30372092193175,
          -1.6603288625347725,
          1.3978316132557755,
          -0.8723004965674215,
          -3.147122419290686,
          1.695854309974451,
          0.6846232470522662,
          -4.000389846505927,
          -5.695954363510476,
          -5.366360877087404,
          1.9153028023977492,
          -4.406458582966031,
          2.7177834745934675,
          2.100137388412964,
          -0.510107146089565,
          -2.0940178073256375,
          2.465951234222326,
          0.20720557043298238,
          -2.287150284619487,
          -5.14088791084271,
          0.6296562145542706,
          -2.413069126636825,
          -4.162302179610505,
          -0.18497381006793395,
          -1.2404410385366333,
          -0.37334975635166207,
          1.972304078212869,
          -0.6703371208305817,
          5.396991571082706,
          2.0252860252935836,
          0.3879531799778171,
          -5.133612288757359,
          0.736060259279038,
          1.8070597755461653,
          -4.60904876819652,
          -2.3032181821056272,
          -1.2848419189885718,
          0.16651769964176238,
          -0.1193095505904822,
          0.738774582008742,
          -5.595595894561637,
          -4.431741260804671,
          -1.2630888210812035,
          -3.5358953859762186,
          -1.0656332596068947,
          -6.140452600254566,
          -3.236815973821641,
          -2.870118270930713,
          2.062019539301902,
          -4.098045457713655,
          -4.393483682406412,
          -1.6552075156954664,
          2.5670905685316914,
          -0.4915641831557633,
          3.0787914764865527,
          2.2734220981465545,
          -3.209290846091086,
          -4.948713191049897,
          -9.017824516495924,
          2.0731651875989314,
          -0.307400117763426,
          0.9444707344976201,
          -5.198868544920842,
          3.1457603612436134,
          -0.5268279945848794,
          -0.6906155758986919,
          -1.0986044543299827,
          -0.14946579907649743,
          -3.79674549814947,
          -5.416754724918763,
          4.156719390255843,
          0.8692747003010535,
          0.4768136996886876,
          -5.151910847983856,
          -5.986309827711786,
          -2.365005281415201,
          -1.6052236482434012,
          -4.159578247590539,
          2.5130565102888314,
          -2.8083097566165858,
          0.6135723162098001,
          -3.8112844345019194,
          -1.727752441143262,
          -2.2984189047946284,
          1.025328232932154,
          -1.2373308206935603,
          1.6056964549653439,
          -1.5009826882028032,
          0.12471393904577861,
          -5.606993178076936,
          -0.29079447054082586,
          -0.4560719995411164,
          -2.701564752187944,
          -5.431319676316727,
          -0.3585265855946138,
          -1.1462195393713237,
          -4.816819844732068,
          2.1341205840805357,
          -3.6556104821114763,
          -4.051043221666686,
          -6.5115974077800525,
          -2.804580512618782,
          2.095495757960374,
          -5.277009396870381,
          0.19851189306818343,
          -1.0394489135510034,
          4.00731737259454,
          -2.3488301539690117,
          -1.3248354690885678,
          1.4923565290064753,
          1.9181091546640574,
          1.5911566825000438,
          0.2081420993270769,
          -0.8390359338144483,
          1.1275410909552546,
          4.39723523323983,
          -1.0783207819219778,
          -0.12760002377077803,
          -2.031421151163462,
          -5.24715461751144,
          -5.147345901828808,
          -3.868957987333036,
          -4.190781373269881,
          -3.9827580906251865,
          -2.542311505095308,
          1.6213505504186037,
          1.3180366772164682,
          0.6643404261609421,
          0.9703166045544414,
          -1.4691150404569622,
          -1.347379020863026,
          0.8978914713880999,
          -6.265769256471527,
          -2.3407783497174615,
          -0.0733078636365046,
          -2.702944761450525,
          0.5171025792927124,
          1.930057531954741,
          3.4477785857462964,
          -3.8738677628515883,
          0.9755939018274369,
          -2.7738221022718217,
          -2.490617907889675,
          -3.2045358875278627,
          -2.822943915603608,
          -5.288006686061315,
          -0.7864529572174639,
          -4.652041114043197,
          -0.6590770319048103,
          0.9982882472968084,
          -2.4790157262908448,
          -6.621615947745594,
          -5.314344824196522,
          -4.233570632313229,
          -4.791896130186728,
          -0.6104899786174725,
          -2.309672177118771,
          0.6875461949425522,
          -0.5757163018469414,
          4.211147861917337,
          -1.619546376067255,
          0.3437368458037734,
          -1.4880633940032066,
          -0.75208007630329,
          2.4340065383573424,
          -6.388907752034702,
          -2.0051829336625793,
          -0.8543155185317926,
          -4.251996456106158,
          3.1671172362597297,
          -2.5586518782123293,
          1.1703189283328286,
          -0.1663138668912606,
          -3.6200004273923083,
          -4.97078141327777,
          -2.3488570324980453,
          -6.623498679373184,
          -1.9024637869945427,
          -2.8463245052959207,
          -1.790404483757008,
          -2.0685144549782466,
          -5.00255527793573,
          0.636887135123782,
          -2.895349547207362,
          -2.8077830930825356,
          -5.4447979481377375,
          0.7142880359709801,
          -0.25927920475845856,
          -3.0966797069847676,
          -1.6021825072521878,
          -0.6134517442779943,
          -3.912066530598606,
          4.428916920551899,
          -4.949943041621534,
          0.25230408484350575,
          -2.664765785017253,
          0.8711801966942512,
          0.2899563863680985,
          0.009586729018512236,
          -3.748526409553373,
          1.8334054157718116,
          -2.5087674097484216,
          5.133450753092835,
          -0.4340814277039264,
          -0.16030460711172959,
          2.4264587391733863,
          1.0137369242101057,
          2.9981808798320024,
          -3.937862889765831,
          -4.478994346412881,
          -2.0964710390765524,
          -4.441318049501416,
          5.533240584540878,
          -4.78881319075866,
          -0.7939464731876841,
          3.9278774342451275,
          -5.017299936814321,
          -0.7870586889939221,
          -0.8471633123844204,
          -4.79641445697848,
          -5.112299871855585,
          0.03291406917712905,
          -3.413211616676755,
          0.8754240876465306,
          -1.0395857437578613,
          -1.4463461624142169,
          -0.6732365633925429,
          0.6443695325287778,
          -0.7016310148886339,
          4.9380339136855325,
          4.625630534426474,
          -3.7018182217410467,
          -1.7584027507982778,
          2.6828459829972635,
          -2.053884633299646,
          -5.8205580302335544,
          0.7194896774162851,
          3.372242022444505,
          -3.0489248941459794,
          -3.4520423005444973,
          -6.9187793207111214,
          -3.0119741444309533,
          3.0401724368752023,
          0.8070508177246984,
          -2.926796436635248,
          0.919188918794799,
          -6.177621174008423,
          -2.088828024208076,
          3.3260241402703343,
          -2.306367078580492,
          1.4930321442587737,
          -3.3700203069386836,
          -0.8785975938878943,
          -1.0501965145074268,
          -3.7285575593900036,
          -2.0664772831971288,
          -1.2529525396300967,
          -1.4373525799845916,
          -3.430489639554302,
          -2.415956945265948,
          1.4464071543951118,
          -0.954993756917291,
          -4.23911929475453,
          -5.208598343523392,
          4.579376447983809,
          -4.240000660371945,
          -1.685896555385999,
          1.0752112082318435,
          1.1330045221271372,
          0.8054534661675365,
          1.4142644179628039,
          -6.729132126986582,
          0.34189527924366736,
          -3.3492134361330232,
          -1.5693129861647306,
          -4.460911441708971,
          -0.030269759201747043,
          -4.0793273665351295,
          -3.226567687247126,
          -1.517313392898496,
          -0.36758174385347053,
          -4.458307837269451,
          -1.117695531386767,
          -1.536783938125677,
          1.4953881702487974,
          -0.3642277943890643,
          -4.265355340427713,
          -3.541987597033322,
          -4.315063624195512,
          4.157876697673789,
          -4.120098289613822,
          -0.25418720376403336,
          -0.1349146640123016,
          2.027632363504912,
          -4.841342800277814,
          -0.49801796318842667,
          -0.16932064341644112,
          -4.4325627945962465,
          1.221526905559876,
          -7.269817490381074,
          5.4881076112095215,
          -5.224486995010574,
          1.9645674019151222,
          -1.1327941721669132,
          -1.3550192427051218,
          -3.582505137215377,
          2.2221192185332885,
          -5.760110801430047,
          2.5104821354250357,
          0.7798040108190295,
          -0.0871939350995112,
          2.7833902637156642,
          -3.113509336731017,
          4.3526203466017215,
          -2.7260656412404685,
          -4.961441209918266,
          -0.25079006866499665,
          -4.5882640315258865,
          -3.2682211586377248,
          -3.5426931129526515,
          1.4153523826142171,
          1.904066091130801,
          -1.495777045678215,
          -3.0113173214584776,
          -1.8310415918648042,
          3.6837464667642315,
          -4.005129450092369,
          -1.0233080895548348,
          -2.19338457418203,
          -6.787082644519377,
          -5.1617023568922775,
          3.941602480915703,
          1.5200626899990572,
          0.5347322574954143,
          3.6783477737879346,
          -2.374389483701725,
          3.4731993002509474,
          -6.920611832852235,
          -2.6366477357820424,
          -0.022213711134279716,
          1.3716098560715386,
          5.617737647557863,
          -2.0372417738404915,
          3.138619969988744,
          -5.452886652288515,
          -1.544435932007947,
          -1.9431293124673532,
          -3.6651142686356675,
          -2.506215132995662,
          0.23822135387965607,
          -0.29594647440179345,
          -2.955668034416558,
          4.050558918718732,
          -3.6195213532173116,
          -5.157799611541088,
          -0.5503348514016664,
          -0.37560333061376555,
          -2.662445803140604,
          -3.885463682946465,
          -1.4653302114665074,
          2.8539483747232497,
          -2.665267953155625,
          -5.633661672077711,
          -3.81720958022175,
          -0.9071854282085448,
          -0.4424385238699411,
          3.258645510296759,
          -6.402591157111036,
          -1.060894649880821,
          1.459826064326828,
          -2.448549120508158,
          -5.755970223702406,
          1.7151070996529223,
          -4.9424516238525955,
          0.12461066679451839,
          -4.375585021432328,
          -2.7679953632340055,
          -4.143165445966534,
          0.9688385732420375,
          1.6436638396257874,
          -0.2488415074886813,
          -1.8279259380299677,
          -2.3265831892223807,
          -1.622719574715204,
          2.320666094025252,
          -0.06220317771670977,
          -1.226342371720977,
          -6.666932833192798,
          6.984194259805178,
          3.9626572928195594,
          -3.074007181280273,
          -1.4950682645386544,
          -2.554346331371151,
          1.3181066471593104,
          -5.037346035065936,
          -11.461411115948955,
          -3.196918377209029,
          -2.793908824171439,
          -2.73416419097183,
          0.8367643544405747,
          -0.029594200547367965,
          2.810085817951525,
          1.5510843926692983,
          -1.8655715933880936,
          -1.7298172084365377,
          3.7211669965444885,
          -3.219157537843511,
          -1.1391010027623532,
          0.7819413571095646,
          0.32105121817833804,
          -4.183834761684015,
          -2.5547892253673252,
          0.8579670740684443,
          3.1352213917180913,
          -0.08167297917505778,
          -1.345696396434757,
          7.506847748308298,
          -0.02941326479934553,
          -4.054440461469065,
          0.5364515348805521,
          -5.70150691579313,
          2.6970038272429346,
          -3.090293658776609,
          -0.5537370588554567,
          -0.9076650158158999,
          -0.5327521747313294,
          -0.029015794639328074,
          -1.7829973917062962,
          -0.7234991068067578,
          -1.5997358516617568,
          -2.5988843129309505,
          -1.672176985225757,
          -3.6632649575331953
         ]
        }
       ],
       "layout": {
        "template": {
         "data": {
          "bar": [
           {
            "error_x": {
             "color": "#2a3f5f"
            },
            "error_y": {
             "color": "#2a3f5f"
            },
            "marker": {
             "line": {
              "color": "#E5ECF6",
              "width": 0.5
             }
            },
            "type": "bar"
           }
          ],
          "barpolar": [
           {
            "marker": {
             "line": {
              "color": "#E5ECF6",
              "width": 0.5
             }
            },
            "type": "barpolar"
           }
          ],
          "carpet": [
           {
            "aaxis": {
             "endlinecolor": "#2a3f5f",
             "gridcolor": "white",
             "linecolor": "white",
             "minorgridcolor": "white",
             "startlinecolor": "#2a3f5f"
            },
            "baxis": {
             "endlinecolor": "#2a3f5f",
             "gridcolor": "white",
             "linecolor": "white",
             "minorgridcolor": "white",
             "startlinecolor": "#2a3f5f"
            },
            "type": "carpet"
           }
          ],
          "choropleth": [
           {
            "colorbar": {
             "outlinewidth": 0,
             "ticks": ""
            },
            "type": "choropleth"
           }
          ],
          "contour": [
           {
            "colorbar": {
             "outlinewidth": 0,
             "ticks": ""
            },
            "colorscale": [
             [
              0,
              "#0d0887"
             ],
             [
              0.1111111111111111,
              "#46039f"
             ],
             [
              0.2222222222222222,
              "#7201a8"
             ],
             [
              0.3333333333333333,
              "#9c179e"
             ],
             [
              0.4444444444444444,
              "#bd3786"
             ],
             [
              0.5555555555555556,
              "#d8576b"
             ],
             [
              0.6666666666666666,
              "#ed7953"
             ],
             [
              0.7777777777777778,
              "#fb9f3a"
             ],
             [
              0.8888888888888888,
              "#fdca26"
             ],
             [
              1,
              "#f0f921"
             ]
            ],
            "type": "contour"
           }
          ],
          "contourcarpet": [
           {
            "colorbar": {
             "outlinewidth": 0,
             "ticks": ""
            },
            "type": "contourcarpet"
           }
          ],
          "heatmap": [
           {
            "colorbar": {
             "outlinewidth": 0,
             "ticks": ""
            },
            "colorscale": [
             [
              0,
              "#0d0887"
             ],
             [
              0.1111111111111111,
              "#46039f"
             ],
             [
              0.2222222222222222,
              "#7201a8"
             ],
             [
              0.3333333333333333,
              "#9c179e"
             ],
             [
              0.4444444444444444,
              "#bd3786"
             ],
             [
              0.5555555555555556,
              "#d8576b"
             ],
             [
              0.6666666666666666,
              "#ed7953"
             ],
             [
              0.7777777777777778,
              "#fb9f3a"
             ],
             [
              0.8888888888888888,
              "#fdca26"
             ],
             [
              1,
              "#f0f921"
             ]
            ],
            "type": "heatmap"
           }
          ],
          "heatmapgl": [
           {
            "colorbar": {
             "outlinewidth": 0,
             "ticks": ""
            },
            "colorscale": [
             [
              0,
              "#0d0887"
             ],
             [
              0.1111111111111111,
              "#46039f"
             ],
             [
              0.2222222222222222,
              "#7201a8"
             ],
             [
              0.3333333333333333,
              "#9c179e"
             ],
             [
              0.4444444444444444,
              "#bd3786"
             ],
             [
              0.5555555555555556,
              "#d8576b"
             ],
             [
              0.6666666666666666,
              "#ed7953"
             ],
             [
              0.7777777777777778,
              "#fb9f3a"
             ],
             [
              0.8888888888888888,
              "#fdca26"
             ],
             [
              1,
              "#f0f921"
             ]
            ],
            "type": "heatmapgl"
           }
          ],
          "histogram": [
           {
            "marker": {
             "colorbar": {
              "outlinewidth": 0,
              "ticks": ""
             }
            },
            "type": "histogram"
           }
          ],
          "histogram2d": [
           {
            "colorbar": {
             "outlinewidth": 0,
             "ticks": ""
            },
            "colorscale": [
             [
              0,
              "#0d0887"
             ],
             [
              0.1111111111111111,
              "#46039f"
             ],
             [
              0.2222222222222222,
              "#7201a8"
             ],
             [
              0.3333333333333333,
              "#9c179e"
             ],
             [
              0.4444444444444444,
              "#bd3786"
             ],
             [
              0.5555555555555556,
              "#d8576b"
             ],
             [
              0.6666666666666666,
              "#ed7953"
             ],
             [
              0.7777777777777778,
              "#fb9f3a"
             ],
             [
              0.8888888888888888,
              "#fdca26"
             ],
             [
              1,
              "#f0f921"
             ]
            ],
            "type": "histogram2d"
           }
          ],
          "histogram2dcontour": [
           {
            "colorbar": {
             "outlinewidth": 0,
             "ticks": ""
            },
            "colorscale": [
             [
              0,
              "#0d0887"
             ],
             [
              0.1111111111111111,
              "#46039f"
             ],
             [
              0.2222222222222222,
              "#7201a8"
             ],
             [
              0.3333333333333333,
              "#9c179e"
             ],
             [
              0.4444444444444444,
              "#bd3786"
             ],
             [
              0.5555555555555556,
              "#d8576b"
             ],
             [
              0.6666666666666666,
              "#ed7953"
             ],
             [
              0.7777777777777778,
              "#fb9f3a"
             ],
             [
              0.8888888888888888,
              "#fdca26"
             ],
             [
              1,
              "#f0f921"
             ]
            ],
            "type": "histogram2dcontour"
           }
          ],
          "mesh3d": [
           {
            "colorbar": {
             "outlinewidth": 0,
             "ticks": ""
            },
            "type": "mesh3d"
           }
          ],
          "parcoords": [
           {
            "line": {
             "colorbar": {
              "outlinewidth": 0,
              "ticks": ""
             }
            },
            "type": "parcoords"
           }
          ],
          "scatter": [
           {
            "marker": {
             "colorbar": {
              "outlinewidth": 0,
              "ticks": ""
             }
            },
            "type": "scatter"
           }
          ],
          "scatter3d": [
           {
            "line": {
             "colorbar": {
              "outlinewidth": 0,
              "ticks": ""
             }
            },
            "marker": {
             "colorbar": {
              "outlinewidth": 0,
              "ticks": ""
             }
            },
            "type": "scatter3d"
           }
          ],
          "scattercarpet": [
           {
            "marker": {
             "colorbar": {
              "outlinewidth": 0,
              "ticks": ""
             }
            },
            "type": "scattercarpet"
           }
          ],
          "scattergeo": [
           {
            "marker": {
             "colorbar": {
              "outlinewidth": 0,
              "ticks": ""
             }
            },
            "type": "scattergeo"
           }
          ],
          "scattergl": [
           {
            "marker": {
             "colorbar": {
              "outlinewidth": 0,
              "ticks": ""
             }
            },
            "type": "scattergl"
           }
          ],
          "scattermapbox": [
           {
            "marker": {
             "colorbar": {
              "outlinewidth": 0,
              "ticks": ""
             }
            },
            "type": "scattermapbox"
           }
          ],
          "scatterpolar": [
           {
            "marker": {
             "colorbar": {
              "outlinewidth": 0,
              "ticks": ""
             }
            },
            "type": "scatterpolar"
           }
          ],
          "scatterpolargl": [
           {
            "marker": {
             "colorbar": {
              "outlinewidth": 0,
              "ticks": ""
             }
            },
            "type": "scatterpolargl"
           }
          ],
          "scatterternary": [
           {
            "marker": {
             "colorbar": {
              "outlinewidth": 0,
              "ticks": ""
             }
            },
            "type": "scatterternary"
           }
          ],
          "surface": [
           {
            "colorbar": {
             "outlinewidth": 0,
             "ticks": ""
            },
            "colorscale": [
             [
              0,
              "#0d0887"
             ],
             [
              0.1111111111111111,
              "#46039f"
             ],
             [
              0.2222222222222222,
              "#7201a8"
             ],
             [
              0.3333333333333333,
              "#9c179e"
             ],
             [
              0.4444444444444444,
              "#bd3786"
             ],
             [
              0.5555555555555556,
              "#d8576b"
             ],
             [
              0.6666666666666666,
              "#ed7953"
             ],
             [
              0.7777777777777778,
              "#fb9f3a"
             ],
             [
              0.8888888888888888,
              "#fdca26"
             ],
             [
              1,
              "#f0f921"
             ]
            ],
            "type": "surface"
           }
          ],
          "table": [
           {
            "cells": {
             "fill": {
              "color": "#EBF0F8"
             },
             "line": {
              "color": "white"
             }
            },
            "header": {
             "fill": {
              "color": "#C8D4E3"
             },
             "line": {
              "color": "white"
             }
            },
            "type": "table"
           }
          ]
         },
         "layout": {
          "annotationdefaults": {
           "arrowcolor": "#2a3f5f",
           "arrowhead": 0,
           "arrowwidth": 1
          },
          "colorscale": {
           "diverging": [
            [
             0,
             "#8e0152"
            ],
            [
             0.1,
             "#c51b7d"
            ],
            [
             0.2,
             "#de77ae"
            ],
            [
             0.3,
             "#f1b6da"
            ],
            [
             0.4,
             "#fde0ef"
            ],
            [
             0.5,
             "#f7f7f7"
            ],
            [
             0.6,
             "#e6f5d0"
            ],
            [
             0.7,
             "#b8e186"
            ],
            [
             0.8,
             "#7fbc41"
            ],
            [
             0.9,
             "#4d9221"
            ],
            [
             1,
             "#276419"
            ]
           ],
           "sequential": [
            [
             0,
             "#0d0887"
            ],
            [
             0.1111111111111111,
             "#46039f"
            ],
            [
             0.2222222222222222,
             "#7201a8"
            ],
            [
             0.3333333333333333,
             "#9c179e"
            ],
            [
             0.4444444444444444,
             "#bd3786"
            ],
            [
             0.5555555555555556,
             "#d8576b"
            ],
            [
             0.6666666666666666,
             "#ed7953"
            ],
            [
             0.7777777777777778,
             "#fb9f3a"
            ],
            [
             0.8888888888888888,
             "#fdca26"
            ],
            [
             1,
             "#f0f921"
            ]
           ],
           "sequentialminus": [
            [
             0,
             "#0d0887"
            ],
            [
             0.1111111111111111,
             "#46039f"
            ],
            [
             0.2222222222222222,
             "#7201a8"
            ],
            [
             0.3333333333333333,
             "#9c179e"
            ],
            [
             0.4444444444444444,
             "#bd3786"
            ],
            [
             0.5555555555555556,
             "#d8576b"
            ],
            [
             0.6666666666666666,
             "#ed7953"
            ],
            [
             0.7777777777777778,
             "#fb9f3a"
            ],
            [
             0.8888888888888888,
             "#fdca26"
            ],
            [
             1,
             "#f0f921"
            ]
           ]
          },
          "colorway": [
           "#636efa",
           "#EF553B",
           "#00cc96",
           "#ab63fa",
           "#FFA15A",
           "#19d3f3",
           "#FF6692",
           "#B6E880",
           "#FF97FF",
           "#FECB52"
          ],
          "font": {
           "color": "#2a3f5f"
          },
          "geo": {
           "bgcolor": "white",
           "lakecolor": "white",
           "landcolor": "#E5ECF6",
           "showlakes": true,
           "showland": true,
           "subunitcolor": "white"
          },
          "hoverlabel": {
           "align": "left"
          },
          "hovermode": "closest",
          "mapbox": {
           "style": "light"
          },
          "paper_bgcolor": "white",
          "plot_bgcolor": "#E5ECF6",
          "polar": {
           "angularaxis": {
            "gridcolor": "white",
            "linecolor": "white",
            "ticks": ""
           },
           "bgcolor": "#E5ECF6",
           "radialaxis": {
            "gridcolor": "white",
            "linecolor": "white",
            "ticks": ""
           }
          },
          "scene": {
           "xaxis": {
            "backgroundcolor": "#E5ECF6",
            "gridcolor": "white",
            "gridwidth": 2,
            "linecolor": "white",
            "showbackground": true,
            "ticks": "",
            "zerolinecolor": "white"
           },
           "yaxis": {
            "backgroundcolor": "#E5ECF6",
            "gridcolor": "white",
            "gridwidth": 2,
            "linecolor": "white",
            "showbackground": true,
            "ticks": "",
            "zerolinecolor": "white"
           },
           "zaxis": {
            "backgroundcolor": "#E5ECF6",
            "gridcolor": "white",
            "gridwidth": 2,
            "linecolor": "white",
            "showbackground": true,
            "ticks": "",
            "zerolinecolor": "white"
           }
          },
          "shapedefaults": {
           "line": {
            "color": "#2a3f5f"
           }
          },
          "ternary": {
           "aaxis": {
            "gridcolor": "white",
            "linecolor": "white",
            "ticks": ""
           },
           "baxis": {
            "gridcolor": "white",
            "linecolor": "white",
            "ticks": ""
           },
           "bgcolor": "#E5ECF6",
           "caxis": {
            "gridcolor": "white",
            "linecolor": "white",
            "ticks": ""
           }
          },
          "title": {
           "x": 0.05
          },
          "xaxis": {
           "automargin": true,
           "gridcolor": "white",
           "linecolor": "white",
           "ticks": "",
           "zerolinecolor": "white",
           "zerolinewidth": 2
          },
          "yaxis": {
           "automargin": true,
           "gridcolor": "white",
           "linecolor": "white",
           "ticks": "",
           "zerolinecolor": "white",
           "zerolinewidth": 2
          }
         }
        }
       }
      },
      "text/html": [
       "<div>\n",
       "        \n",
       "        \n",
       "            <div id=\"b0bfbf14-c10d-49be-8f2b-bae4d5fbec10\" class=\"plotly-graph-div\" style=\"height:525px; width:100%;\"></div>\n",
       "            <script type=\"text/javascript\">\n",
       "                require([\"plotly\"], function(Plotly) {\n",
       "                    window.PLOTLYENV=window.PLOTLYENV || {};\n",
       "                    \n",
       "                if (document.getElementById(\"b0bfbf14-c10d-49be-8f2b-bae4d5fbec10\")) {\n",
       "                    Plotly.newPlot(\n",
       "                        'b0bfbf14-c10d-49be-8f2b-bae4d5fbec10',\n",
       "                        [{\"mode\": \"markers\", \"type\": \"scatter\", \"x\": [0.3697912231275372, -0.1522715410311959, 1.2949490268356414, -0.6401194626897339, 0.28831091346404186, -0.3840029221497643, -0.13929610099138554, 2.257518663894492, 0.8539173813633567, -0.9205959361791941, -0.185917799843242, -1.8989742374016996, 1.9821343977017658, -0.6013668429225342, -0.22070500060750375, 0.7990193574692399, 0.8246176050151848, -0.39371605221052575, 0.3179915403153519, -0.3915515583307807, 0.16410521624480606, 0.07090998964214179, 0.6090516380078045, -1.0694482812570896, 0.8814444476804313, 0.9276481270919011, -0.7415759985755368, -0.7791456512971853, -1.3250848227139573, -0.25537493294635183, -0.5714330119673271, 0.8884327702971679, 0.6208392100404672, 0.3172658151153796, 0.9301344422993105, 0.45640295088507504, 2.4445649908614873, -3.1007532704247285, -1.0017649196604121, -1.5764777803014158, 0.8407230423653517, -0.4122212988571141, 0.5164852968038374, -0.8963209641641264, 0.8210551996932673, 1.0825764459174987, -0.35896003618345784, -0.416373591906683, -2.3182395431066056, 0.0356756354280955, -0.821404597238674, 0.7069272773412559, -0.568081715211379, 1.2175133108641998, -0.17445746919810046, 0.7292962264482866, -0.29770660267800086, 1.7009566707309058, 0.31110262903620656, 0.5222655736790531, 0.021145208577617394, 0.6998262464456313, 0.018893110528473717, 0.25068724917710306, 0.9524027540901578, -1.2392884251653267, -0.014616057914589156, -1.2411451216193072, -0.6580742916744221, -0.5926530137419865, 0.4036533330011778, 1.752146461442136, -2.2062030749951003, 1.0805354010405537, -1.917003680192857, 0.4466554954457689, -0.8284927472875622, 1.7446971266857048, -2.204186947885988, -0.15663422404603786, 0.8809050507200895, -1.0756548596720028, -0.755282844090469, 0.16639374184506195, -0.8137426157313838, -0.9170706952490012, -0.1708404269794756, 0.5285312530406534, 2.068117205903815, 1.2863504012791809, 0.43067064215024986, 0.9005750284239262, 0.5721634286030648, 0.47006608512334574, -0.8399488651320244, -2.2633500992344207, 0.11952299629061486, 1.8590815707537747, 0.06387066798980631, -0.420233795415513, -0.8088260507505362, -1.2762922890303088, 1.633325478520992, 1.8817853949055507, -0.2752696347460168, -0.9673307333241163, 2.200687992414232, -0.5629189000912982, -1.111175824424996, -0.8247745812980862, -1.854965756973237, -0.15875404341173785, -0.909302847637271, -0.2340586585400788, -0.30019168370868743, 0.35097640558433374, -0.23944543993459663, 0.8780597614685368, -1.0845673001432317, -0.373566277153441, 0.9043220125217937, -0.6827489174329217, 0.02628009822320145, -0.5535316087634048, -0.27472768321671803, 1.8675904752505847, 0.3060662742415513, -1.4460003545914504, -0.25501301360383377, -0.8754048423456127, 1.1216403693944081, 2.7616682732105113, -0.41994719324219715, -1.1139880521593544, 0.33257052565867967, -1.5207650581591663, -0.2705335707190535, 1.1064051915581967, 0.37966725759140424, -0.9665747441954397, 0.8949172666637595, -0.6852284575402313, -0.4150693236252966, 0.28370447457224574, -1.4722797620894, -1.1403868646174833, -0.25633013394324516, -0.028688568202710034, 0.5141209957157418, 1.9197068118464033, 0.19232935047924063, 0.5220922907845067, -2.2972549613478, -0.08467684768608338, 1.0210175462631617, 0.27348399941651375, -0.5452969483900035, 0.7654461653949977, -0.14792939421810578, -1.4398081708424069, 0.8448728065707707, 2.4567041449808955, 0.9992066773605456, -0.5710363254809981, -0.4070857889829875, -0.6913829493451136, -0.2023749175842099, 0.045844146233405256, 0.3723976910394757, -0.24467824537196906, 1.252700897566119, -0.2917447409612437, -0.03545923089138299, 0.5908159587113833, 1.7036566402595414, -0.048523406263682144, 1.041490323427106, -0.5216117772746784, 2.9901061268613627, -0.9850146761315807, -1.4037698786635209, -2.474362924446793, 0.7465576654160547, 0.7502728047450632, -1.5554026401346228, 0.9965527756380803, 0.2837353074005322, -0.15185560212957705, 1.2502544620418825, 2.5987340545785416, -0.04365827743602493, 2.2615810906307106, -0.9955008897543772, -0.363489737025142, -0.22437670303677704, -0.6548734673485732, -1.4122834747145818, -1.6666360034249506, -1.3731073726661647, 0.9580897129210906, -0.16473306446373623, -1.4137031973588516, -0.15812984407524108, -0.33204823472032013, 0.23580624592298738, 1.780037190926481, 0.7656693604808551, -1.4768379316370688, 0.5750052686401539, 0.5168217692234516, -0.9214118627850655, -0.21507358683566874, -0.46254403206954364, 1.180290461500168, -1.5298935331966972, -0.39398822249904314, 1.8680719857054557, -1.8147148699240758, 0.2667235350191644, 0.6911657144087427, 1.1054635571085842, 0.11179070231463553, 0.8295855576845734, -0.7493710358754707, -0.5985885389309569, -1.832904115547471, -0.3687083522719266, -1.8216407375412658, -0.697507678756367, 0.17067754955841705, 1.1659432072857947, 0.2528875121627568, -0.09217871476433047, -0.5780552735385296, 0.022092926232534116, 0.3143229314260251, -1.230656469968182, -0.39519485019414163, 0.8892398685981586, 2.047582979459488, -1.3444885396116428, -0.5989867317523059, -0.5842538352105686, 0.9559489329478743, 0.41385986298664235, -0.3528219582996125, 1.384307434517315, -0.7362174523825277, -0.6176132618054345, 0.3277238332049803, -1.1441644071399484, -1.014121470913975, 0.9829425217947936, 1.111119590643009, 0.7670356148370188, 0.18234228137206954, 1.2982081498632219, -0.4904125140158762, 0.6059674669835836, 0.5414479110632395, -1.9339739511627438, 0.9989999175239399, -1.7915629218379339, 0.9351099208036875, 0.21361422987203818, 0.1374715753509737, 1.5974174342951641, 0.16163540964801454, 0.2995797198614746, 0.8893780191489906, -1.4881863440744576, 1.2918264181207393, 1.5023958756021896, 0.8971891206096417, -0.4590965510354401, 0.18707837524139767, 0.5547611877912927, 0.9172019238949729, 0.7522199945563682, -1.6326087367651696, 0.38838956068467057, 0.14745281145797087, -0.31012977267964, -0.4931047426172753, 0.4614922138732902, 0.21911480204882935, -0.2696931390631805, -0.5488528686255049, -0.8646718229255329, -0.28878334658913357, 0.15591523365705176, -1.8487288090920757, 1.3406999052723234, -1.592981724033259, -0.8311763003810795, 0.32316025449406166, -0.5223113253264645, -0.6167084026134215, 0.35297577477189074, 2.145066961911711, 1.495702094328919, -1.4757582598351866, 0.06142614823337514, 1.9773959077598746, -0.3119878456751037, 0.9884271357957279, 0.07581744159018586, -0.8264433245676213, 0.881350962130408, 1.041600837253535, -0.65053086249323, 1.6795202142066366, -0.2913973192872474, -1.1552374454978533, 0.7437035999502645, 1.8104263501854396, -1.0356975653802798, 1.6025976388147316, -1.3542660370091482, 0.6050553852504091, -0.9152707384538661, -1.4276671903013938, -0.17813573232839852, 0.867729362229166, 0.045196943426836805, 0.5120911076287602, 0.9204190187838743, -2.4589179292670718, -0.45636841758770846, -0.28937186378723173, 0.10470644433299323, 0.857510263657202, 1.128423460044637, 0.7299595640092941, -1.342826856512945, 0.44195535604070263, -0.2146354167226673, -0.07400723954359018, -0.03437900677402277, 0.10346158366586952, -1.5335462045099753, -0.4125605897841576, -0.027576861848841422, -0.4846279649753411, -0.5129928001580444, 0.717889598300435, -0.4555790981820493, 1.1578010429272652, 1.3517597521446614, -0.4276598666758565, -0.23679806488551192, -1.8248061994553928, -0.8496642936493091, -0.6070016059395624, 0.10485067421795137, -1.1902716212117068, -0.28847673464969065, -1.4770485151650021, -2.9936727140825856, -0.6155144415191053, -0.5335561242698197, -0.18055638803532983, -0.0014962636520519917, -1.567683727682599, -0.7310849444215629, 0.7620218744155492, 1.94234719937134, -1.250269839489684, -0.6002720867682808, 0.8712790204035298, -1.0384675462062738, 0.28224416382088374, 0.6255438230545043, 0.26772660023440725, -0.35210032608392594, 0.5335295674806061, -0.49123387090577403, 0.9119355751800771, -0.35367713932240935, 0.5857188279753442, -1.5123022202272831, -0.5963186878783339, 0.13706470833785994, 1.4133938034548421, -0.09423374236477058, -0.9394094228984325, 0.23412940469390792, -1.31315373012779, 0.1926215912524075, 1.0471111814268754, -1.497663551314108, -1.5320356947071674, -1.7207434450556796, -0.9129408453047849, 1.1239048973347363, 0.363094464509708, 0.10219313608042462, -2.431276632569374, -0.9671814615096905, -2.0805854273267883, 1.3926235756019407, -0.6396182736904414, 0.3176053958881976, 0.005123485601686661, 1.030294022963629, -0.882105748819189, -1.4946501488351673, -0.9225925868433104, 1.3856087660127758, 0.8999806701144414, 2.5465451221986255, -2.1316853641332445, 0.2291712282249048, -1.2443984468850413, -0.43347556091982803, -2.9742641183307237, 1.1666730536517154, 0.09937379683326425, 0.4094686420058491, 0.24803398420610767, -0.01677671805098641, -0.11719402782038413, -0.14489363660185775, 0.33122059008114674, 0.35169685555805474, 0.6047919615992093, 0.2811691689387651, 1.7496872406493307, -0.8335701195892795, -1.53266769517005, 0.054289580224497355, 0.08972256955934678, 2.0882959652576676, 0.31597031406862447, -0.9244094649646187, 1.4103430635893845, 1.2183333268052847, 0.7183643700640318, 1.0798480538690571, 1.183496316401446, -0.2881912840916861, -0.645274585653259, -1.2835999375663998, -0.20967633465403007, 0.3882067113668286, 0.5455051392293337, 1.0996489707404886, 1.134732862011004, 0.9004587735006485, -1.2731073116027571, -0.6801996225640603, 0.17857932918633998, -0.764396541619278, 0.13937520503663517, -0.48773444613426054, 0.3239445792956729, -0.2346468926551466, 1.2082537729568779, 0.8914356142224776, 0.095405922131794, 0.611853927467082, -0.48916382399476455, -0.463913216979782, 0.6990025411366766, 0.34666034850350746, 0.845999276154017, 1.4793162109074973, -1.1926681334401212, 0.7706831573587317, -1.950382672590253, 1.4209398491127363, 0.18150390871863503, -0.03584852265379147, -0.5069909743327352, -1.1425770038234977, 2.008919832844613, 0.36912555099638883, 1.3866622183222796, 1.439552312859329, 1.4029268351610782, 1.950973517924328, 0.8669905300844949, -1.0526055031752475, 0.06649584263289188, 0.010452629896494777, 0.752207146627037, -0.20815889483473476, 0.8542764341445436, -0.5891111686215341, -3.2226987061844734, 0.042293223043637446, -0.18749741383686563, -0.5623251249770622, -0.13061857820660452, 0.7072295462013962, -0.7954084364576578, 0.4634879356785935, -0.10023248121360465, 0.7046954531680802, -1.0793317496392645, -0.17995511837319117, 1.201193694926284, 2.8323147347063427, -1.410804464928095, 0.8744291230191991, -1.414713735289753, -0.15394644989061923, -0.32808553564513904, -1.182391892719013, -0.07599385622964967, -0.7786296903218903, 0.04570047942896808, -0.9395110011430591, 1.0538378973942524, 0.6654185098653975, 1.4319057083168323, 1.2701768847956771, -0.35156228853079324, -2.6984884675151077, 0.09872271655864458, -0.1072923071351301, 0.2518122164828773, 1.745033773536899, 1.3572748430791883, -0.41461059478619694, -0.3120021049063356, 0.8583659792836931, -0.16284595248102288, -0.8259271982894486, 0.25012352667431564, -1.3667593604588175, -1.0300317790131372, 0.1857896864498418, -1.7426034485366833, -0.6085688172747526, -0.4446088682880828, 1.2743583381472898, -0.8852536829575992, 1.458011476625046, -0.37266223208045707, 0.7258438941174287, 0.2534047668057193, -0.20556582016526065, 0.3543935357836632, -0.3087794506809401, -0.06881532051605022, -0.36085241612872404, 0.9180016074576054, 1.8492649962797962, 1.378530248869909, -0.451545435100437, -0.2650361880009213, -0.6348021580586715, 0.27398830912225836, -1.0311197383214203, 0.4266627759642551, 0.5124401769266209, -0.44974581004988595, 0.6963067711237024, -0.5769146061613656, 1.4068134270500936, 1.9872433342693907, 1.693027328716507, -0.27128867095672293, 0.34737063110292465, 0.6210493598066238, -0.246461377729721, -0.4742926329272504, -0.1715495654167183, 0.8379995741132406, 0.037638100633768816, -0.7268765888277802, 0.9050344488985343, 0.6029437646980094, -1.0204175673327571, -1.5518622962201818, -1.4702752054381967, 0.965906017020541, -1.1172959507322637, 1.2597583736722648, 0.9790661156382323, 0.19207600661312818, -0.3831289425943694, 1.0659932104143572, 0.39716471708405393, -0.44306151902509744, -1.3794100672513376, 0.5962336704939702, -0.442504318149014, -1.0726756436388436, 0.26517731991037313, -0.07831617222722423, 0.20597133797885317, 0.9837079998070503, 0.06481124135145552, 2.08851957894982, 0.9859629807240354, 0.4331420314434248, -1.3251891030018763, 0.5959701826276246, 0.937211922932436, -1.2118282377394782, -0.4396510038984632, -0.09326913727760748, 0.3830094386169782, 0.2867228113694971, 0.5593033722182583, -1.5390540351776227, -1.1175436308865416, -0.09345951577286642, -0.843411307686636, -0.003968991869124644, -1.693290961653312, -0.8025127804109061, -0.6208936037805812, 1.0074736776810314, -0.9971838750436058, -1.1453325187747723, -0.1917812690187328, 1.2077618221055755, 0.16017744490537342, 1.3484708430602657, 1.0727301002953724, -0.6703675886511453, -1.227133959458435, -2.7188878780065053, 1.03482914670125, 0.24049785428206547, 0.6404806288489622, -1.3474104880812352, 1.3687259998321433, 0.16255317402069613, 0.09345952927669401, -0.02191485054418039, 0.25291692066684873, -0.8985672730193933, -1.4964282880447477, 1.7034059724568151, 0.6049671579669654, 0.5458838370668063, -1.3889317278104227, -1.6296427928090602, -0.39824937349908524, -0.20667409316630064, -1.0462585240930966, 1.1858996163059181, -0.569293340330475, 0.48331957750531995, -0.9117052601617688, -0.25735548999782026, -0.4560847801408867, 0.6908653890055304, -0.07703016873600871, 0.8719988424815435, -0.17652308499673344, 0.35814457434545727, -1.5024616639781108, 0.16120258422922815, 0.19348553280457126, -0.5126975585222283, -1.5174377911355585, 0.17901006056532776, 0.010200955143806487, -1.248670929189135, 1.0235924427880672, -0.9282620587129319, -1.0194981363042412, -1.8647859479948274, -0.5853030740302655, 1.00981976833482, -1.4138049189365787, 0.38292891077456376, -0.032836518532863894, 1.6570396107512062, -0.46375610188994904, -0.06701650003936242, 0.8331488727210513, 1.0299749041986714, 0.934077018113372, 0.42635513675847014, 0.08766341447922192, 0.6802767551400455, 1.806638726821974, -0.00954424450523605, 0.3069157660697165, -0.28911196404196493, -1.4322780575163185, -1.3484737514346863, -0.974913229705507, -1.0689872882266185, -1.0109446061688891, -0.5152109877130288, 0.8632243476765011, 0.795934059224034, 0.5227145051026741, 0.6185147392131466, -0.16692511126309897, -0.10169164452788013, 0.6156990284980952, -1.7732360957926248, -0.4112421548852204, 0.30279191709978887, -0.5414328971552831, 0.47197704627984693, 0.9920236529820543, 1.4720508667719738, -0.9797460151877577, 0.662813367520862, -0.6092620062958349, -0.5351930515085978, -0.7402418370585746, -0.5890624687848705, -1.32814987111812, 0.08323349577014684, -1.2013770935654249, 0.1761200738941373, 0.6616311526681157, -0.5525617362768981, -1.856311851390777, -1.4602469913098701, -1.091800777116109, -1.272085502844482, 0.1384875695258901, -0.4611541500171494, 0.5720086489120957, 0.12770981005297777, 1.747728849532334, -0.21509689718902975, 0.44981609321059907, -0.1014679993857923, 0.05900149745363405, 1.1375645418805906, -1.8575702316110778, -0.34656320239652544, 0.07083365555626815, -1.0883477411555744, 1.3823864476745933, -0.5048155186644805, 0.7294782099307291, 0.25720438037532245, -0.8899210382353742, -1.3105457244375167, -0.46270258830744065, -1.8736055542759875, -0.29776953545445906, -0.6135315225591025, -0.22220214614400943, -0.39561143169375435, -1.3451240823363837, 0.5872858982281665, -0.6143363504473248, -0.5480457807975657, -1.4939814498499764, 0.5376097991519052, 0.25632250522802263, -0.7015401498179875, -0.15191138105102833, 0.1257592714182674, -1.0149119496509063, 1.8312315585552295, -1.3163060573957086, 0.3791718807278605, -0.5052841208649509, 0.6342050511331153, 0.43422430648825877, 0.31475099685846225, -0.8862364743398101, 0.8998753641318344, -0.5538032956878369, 1.998125760763852, 0.20279384412205062, 0.2775742773853735, 1.1388588584269335, 0.6022901566870615, 1.3476024681719438, -0.975937870984813, -1.188943213719947, -0.39086137000982474, -1.1643564533878923, 2.244763628892264, -1.2941234309897023, 0.0734633240138593, 1.6524308608196494, -1.3631649540735864, 0.05357881106552588, 0.0802601469304703, -1.251722604278277, -1.314434242250727, 0.3598126452712431, -0.8091809791395919, 0.5792724510153908, -0.043431248764588246, -0.11470033039218448, 0.12077722182254925, 0.5859280402982032, 0.09497947344031532, 1.9211205790885215, 1.840358368102722, -0.8934337389986745, -0.2347446959360769, 1.2041798310172054, -0.26740629552614625, -1.5738917278860605, 0.5787663550485298, 1.4296139842254714, -0.6633057044457806, -0.7423987493992139, -1.9863290336779085, -0.6608749180980624, 1.28715170711091, 0.5967169551934792, -0.600641655398489, 0.6256625084954375, -1.7679705395274934, -0.3176568219753141, 1.4428083186277672, -0.4479288885684834, 0.8319028328377379, -0.8240339378476526, 0.04247384977552048, -0.020483291450443534, -0.8562615412453811, -0.367211155053392, -0.10103253325328257, -0.1317063597759588, -0.8093637690563069, -0.49222893969036596, 0.8308439093580643, 0.019837421647507264, -1.053131853648233, -1.3453570614088353, 1.85763042269165, -1.0869710864107551, -0.25977232660731503, 0.6668717489348767, 0.7406130915766453, 0.6609527456528633, 0.7965286097777547, -1.8871010367680097, 0.45900815694988156, -0.7591478975080036, -0.1752926983877749, -1.1543976231028485, 0.2610450171675762, -1.0232563371208543, -0.7661161569488041, -0.15136021507656663, 0.19368188739197925, -1.18984306433312, -0.07852630891131405, -0.18973482569854808, 0.7755080794980502, 0.1980707031941181, -1.1181118712600966, -0.8202243699127982, -1.088206954483015, 1.6714842701176562, -1.065868912757437, 0.23688703825289337, 0.3140564697993269, 0.9710179812179535, -1.2781659149863112, 0.1753416252973732, 0.2701316446023335, -1.1654631831636777, 0.7627875167631855, -2.055443147757272, 2.1258885070835496, -1.4027546230436685, 1.0035996633268436, 0.016227320040261624, -0.03038922226520357, -0.8856074783754366, 1.043304953184176, -1.5688969890127396, 1.1680421737749924, 0.5382387607049872, 0.2998857453415739, 1.2875138795311936, -0.7588091709695045, 1.765169957072211, -0.5015173988291288, -1.3079288129181252, 0.26988552832429613, -1.1724798084144483, -0.7392701727813159, -0.8378231434940933, 0.7674334203922264, 0.9505899440923472, -0.1672102514221218, -0.7056631519137482, -0.2886927890948605, 1.5851723123967099, -0.9467308655219319, 0.0041330638406264315, -0.4089235259059301, -1.9094813165246707, -1.368842426585382, 1.6148966940827165, 0.8449656479366061, 0.4939879543550859, 1.5484424477297372, -0.4633077863510259, 1.5179014506363437, -2.007729776672108, -0.5626925825484815, 0.31713573892716374, 0.7541287508742245, 2.1926358612953356, -0.33365862913972394, 1.3283285972233043, -1.5058412077836103, -0.19297126160415073, -0.3325399410542257, -0.9168205547533758, -0.48268713395071866, 0.3883240887529398, 0.21995347601871612, -0.6122106582629235, 1.6608678067035911, -0.8649952045679937, -1.3879331880728036, 0.19468345670618264, 0.21361382926632064, -0.529459932273369, -0.8787597120726087, -0.17049947012562733, 1.2757023359664963, -0.4810593077101864, -1.5917339375659085, -0.9115364633796245, 0.049288772597347395, 0.1800722692098737, 1.454283199239731, -1.803662751367318, -0.10055584211860119, 0.7934646642644094, -0.5225539285830679, -1.6332658819077739, 0.8921011709933475, -1.3233809954029043, 0.37985596534293403, -1.0953018770733416, -0.5795374393634539, -1.0460188448540395, 0.6612942136044747, 0.8984716565130079, 0.24693970194471523, -0.2444786671550618, -0.42816955163429143, -0.14843609134960128, 1.0749156865598175, 0.2581204084591221, -0.06265068860243672, -1.9422027488692266, 2.7006571053337214, 1.691393710612649, -0.7488027067253232, -0.16519657711912164, -0.5026898567854875, 0.8120672906357669, -1.3201871754417596, -3.544512817358704, -0.7912180964654478, -0.6335004216419969, -0.6333123276241639, 0.6491153788181663, 0.3055754908495263, 1.2895877663273818, 0.8275123732971469, -0.31449237048517115, -0.2597526164877884, 1.6006072747729925, -0.7848607160792769, -0.06505959357272187, 0.666115745233237, 0.41893908914762057, -1.0285738358897425, -0.48565731580400157, 0.646946073379938, 1.4026439014324945, 0.27783147855766616, -0.1418987930821509, 2.819452905840433, 0.2726290143378471, -1.046571205147577, 0.5382109496609786, -1.637867589455444, 1.256939507870926, -0.6816504266115817, 0.14194109425082793, -0.006972543824080106, 0.10969363138259507, 0.24773150823342843, -0.31480784340254314, 0.11826741496424753, -0.16692418663633585, -0.5054437729874185, -0.24955478869249226, -0.8928880605580952], \"y\": [0.16749122143511241, -1.443523494882883, 3.001973452807006, -2.78427036523834, -0.24875327783080628, -2.166728505968137, -1.6232555772845825, 5.894310879638685, 1.5574176091350982, -3.8020798838842262, -1.5613954804079422, -6.5781376493757415, 4.825031253595105, -2.568296660129305, -1.6504947508482555, 1.4766361882570835, 1.549012522733761, -2.2908730961917727, -0.146664930869927, -2.2120794460201108, -0.5648242823555514, -0.797718543126452, 0.9224366521999334, -4.120917252085876, 1.4150865173353433, 1.8293359897720143, -3.163844676168077, -3.2867305971822165, -5.007553191481705, -1.622644705709221, -2.681262437492442, 1.738177058357397, 1.017035148069959, -0.04637261110835747, 1.7728403529574575, 0.4774703623230003, 6.232703835181786, -10.156826760488128, -3.991762271238464, -5.636783823294288, 1.5362532531596853, -2.1264331224364525, 0.6339707136214394, -3.8424869742555368, 1.4170080879384965, 2.4047206022678824, -2.207083519283845, -2.249816272930688, -7.975785140174506, -0.8478878727515923, -3.443162291226399, 1.226096829081015, -2.7931873275434786, 2.6294565254139224, -1.5298926804235358, 1.331360163888485, -1.8014828723175123, 4.01829221854519, -0.024112203947092493, 0.6059530768018452, -1.0435351134905966, 1.1142004695295766, -0.9497737292824046, -0.1971254579338606, 1.8972815228285451, -4.719664068831247, -1.0563959399755554, -4.562317939115778, -2.7599015623282432, -2.698656725554939, 0.18605060964627107, 4.319411399869027, -7.849400161853689, 2.1545605220471526, -6.680307473436816, 0.36415477830697396, -3.5005231268090484, 4.189743458657705, -7.713009811177783, -1.5956205845850302, 1.4735387830704922, -4.204577464275947, -3.315832365267305, -0.407429605504, -3.3950807114847192, -3.833279578590114, -1.4690022571768415, 0.6390334194768389, 5.15384647649923, 2.910237079523522, 0.3805172894877619, 1.869972452114255, 0.6183847467948146, 0.43241340470174416, -3.739150895453031, -7.825570142210176, -0.7311443781383407, 4.561165930898196, -0.8917397817790846, -2.336607206825347, -3.3372496221077452, -4.842331258689449, 3.750188117946283, 4.694906384256017, -1.7567424110346368, -3.9459190759693077, 5.525132370035184, -2.7632399461328485, -4.358862802007737, -3.642516964218461, -6.569160402877776, -1.6208435459652912, -3.8480609660104035, -1.707943247481125, -1.8970725726877828, -0.08483770923198625, -1.713488884997263, 1.6975945593330184, -4.020962683888335, -2.034326622035999, 1.6236208376657004, -2.9565183414730964, -1.1045489078844746, -2.6627522537470942, -1.8067647517729977, 4.609833657324757, -0.031997368009125345, -5.321123746267178, -1.9807204789799764, -3.784187404651946, 2.3623005860148965, 7.13299817887994, -2.1790851218971112, -4.144713787132653, -0.10396350168997014, -5.677688129324425, -1.707159191012951, 2.3640919569569125, 0.3506027121931269, -3.876091041730223, 1.6241412574058134, -3.1695331852460384, -2.189238284790082, -0.29452132837841605, -5.350313117785516, -4.416849534698302, -1.7341571090746886, -1.3040448519379173, 0.6175204303144035, 4.758581401758729, -0.43851763909953634, 0.583068473495564, -7.888046860933119, -1.1858463581982537, 2.1512682142385624, -0.16348334530138048, -2.77553831642056, 1.2872373003673538, -1.4856057838944243, -5.3138557095681795, 1.4793292307524408, 6.323394677232539, 1.8880901846461715, -2.5483666358653614, -2.3882015687508664, -3.2898113858238127, -1.5316577908529698, -0.8672325479581907, 0.15936391592093693, -1.7753841115594247, 2.5657087550646054, -1.8786642367985582, -1.1696029341987537, 0.8370878872759818, 4.124496147071896, -1.26195919469735, 2.162862588827601, -2.6234899879422438, 8.025074169180057, -3.977026150309227, -5.202170656048569, -8.419125870277156, 1.1201565289480353, 1.264830572559754, -5.564171311768762, 1.9349495582863236, -0.39011227765636924, -1.362693957929999, 2.760743595622515, 6.916284579219258, -1.220576060336466, 5.910454627057528, -3.914134025969447, -2.1462051438797185, -1.7296930217240754, -2.9523332005433334, -5.288082044031869, -6.002276648354637, -5.170751860358122, 1.827005104310331, -1.4693766958389052, -5.217176445814313, -1.6084152517020314, -2.036557424580213, -0.16793554595346055, 4.33875670000021, 1.4725107374995456, -5.352533642948104, 0.7782797214185276, 0.4902557995097154, -3.7306721130228864, -1.829928334550345, -2.257839865978856, 2.5780742623483883, -5.4184694568909055, -1.97280539173746, 4.612381162097692, -6.327003416541144, -0.24762824374870107, 1.210937377641201, 2.185137138259911, -0.7538475439121152, 1.6096362521317207, -3.300637004563438, -2.862365889560102, -6.592588698691242, -2.1064465694736656, -6.434217489796017, -2.9363356280536403, -0.6036493994951923, 2.6296968446831808, -0.2815049885587977, -1.2708773295386853, -2.617122487691387, -1.0801787545427488, -0.12715866495094402, -4.740308378762589, -2.380728395997178, 1.7419894519334482, 5.2457754295863275, -5.075843283292771, -2.6223416245467477, -2.936655938118411, 1.9148437636090292, 0.03106942985343844, -1.820606919096082, 3.1405131593330546, -3.2394158609191197, -2.8130138965431195, -0.1695311778972726, -4.410262053436668, -3.9922633552272915, 1.9981848016549777, 2.3574179730439595, 1.2128487592452295, -0.48098041556958704, 2.915280518369525, -2.4994688362746045, 0.8617587087823062, 0.623231366144111, -6.967658324180948, 2.0357126325575106, -6.5160853744499745, 1.9020753359757, -0.3884192811652678, -0.6253247042625737, 3.6723837317116605, -0.5550210349539388, -0.10666051758715676, 1.8398484332974891, -5.4871497783041345, 2.9523441483658868, 3.7171251474221574, 1.681269639264655, -2.3111064175289986, -0.5221974579147571, 0.5891391039992473, 1.7543572573118564, 1.1128096298646373, -5.9484876272498814, 0.32286988834421226, -0.5732053816548267, -1.8271014785762343, -2.5124088899577113, 0.4365923592715651, -0.5896893321320176, -1.774771133547527, -2.5620343271925994, -3.640130762986468, -1.869929629459838, -0.4021951222492246, -6.5170801027408345, 3.208296129471384, -5.879584338246598, -3.561802676458758, -0.060938491658684035, -2.6010191333526604, -2.9429349209612, 0.1560943824643802, 5.548961891457175, 3.3615215868866914, -5.311320887845394, -0.7654717252338357, 4.997792875090232, -1.9715210634243656, 2.140776189720682, -0.7696139361815305, -3.4750501639486107, 1.627848088512644, 2.189831038537376, -2.984140499845921, 3.9224119365526544, -1.9377553803968297, -4.56329779495705, 1.2132674491308584, 4.598120371234113, -4.086196380125565, 3.685504728063974, -5.125491596863018, 0.9174888506191369, -3.68445102591783, -5.172333301598922, -1.698002470800773, 1.6150774939097967, -0.9215406221643793, 0.665885619891599, 1.6764281159584307, -8.237424018921791, -2.3523734251821047, -2.0364470239692563, -0.784563151218605, 1.4785427078674538, 2.268499406225799, 1.0029549515782712, -4.914318466830047, 0.21116250006888787, -1.8066191723752, -1.1576814872909886, -1.0473999724593808, -1.1188379010768057, -5.566395326522137, -2.282411492335727, -1.058636935311867, -2.397489496779131, -2.5652198749668633, 1.1223316767325908, -2.306357038399715, 2.4302658808963873, 3.0347282747332187, -2.279191805897108, -1.7242203256704383, -6.6222942096320105, -3.5670761918312928, -2.8558651490592117, -0.38673627716882525, -4.526658866272353, -1.8644402967494629, -5.592073315480673, -10.03517409869697, -2.828033262426568, -2.5284132132163886, -1.328634079295666, -0.8676488110886302, -5.710725095799323, -3.217478653328008, 1.1979103763500838, 4.775043389067557, -4.687727988801356, -2.8136515868187275, 1.5231960570891847, -4.156976397901232, -0.31229020292090137, 0.8469625684523066, -0.046175476096015355, -2.0860774160014723, 0.7250364778127683, -2.311128745407955, 1.8185134213133627, -2.1222154080354985, 0.7252682824231582, -5.504659616459417, -2.726243104877169, -0.7046552342382899, 3.2264676521560895, -1.1177840694567887, -3.6500177733445445, -0.3907301462772981, -5.041252953419432, -0.3674727140899883, 2.0998333946329955, -5.575031211384793, -5.497779097730839, -6.173083888072148, -3.663327925422994, 2.4254421737532557, 0.051240498878062486, -0.6734549560182519, -8.32118724514228, -3.874123684269712, -7.411703819051302, 3.0543017588873242, -2.873309965928854, 0.044647210296408904, -1.1285169460652935, 2.1884314689256907, -3.7598564716748406, -5.32895779881891, -3.7689108512400735, 3.2298536190860374, 1.7042107097934935, 6.643614231899975, -7.3229614627025805, -0.3063691866962053, -4.700038582518352, -2.2677169102768198, -9.838463312082355, 2.6238947701918205, -0.7783921235402164, 0.1877252362704952, -0.22397026368258144, -0.9966006990466394, -1.3655635108226023, -1.2670174004541073, 0.009773655820796808, 0.03637119990168252, 0.9666885278794252, -0.27714270856683265, 4.209611337527372, -3.387010154965967, -5.56118225532026, -0.9170096557930385, -0.9479602704702441, 5.263064579144949, -0.21160340369939357, -3.8477410837829704, 3.384833906394949, 2.682087867985261, 1.2842217157202271, 2.036472260377686, 2.4429275523377307, -1.7621006154468262, -3.069205584389987, -4.7634838765088645, -1.7939471367137534, 0.16370835744800805, 0.658315148498325, 2.4320145678893503, 2.3055483557017054, 1.6140700595059236, -4.66826334431969, -3.0037564734410935, -0.4145031754475573, -3.2534957118781573, -0.5694930780887908, -2.4871906749785295, -0.14159320033432193, -1.8774076844441736, 2.487751860482642, 1.8013187137004216, -0.7398280757491978, 0.8296138122597767, -2.356316646367871, -2.2603998257425966, 1.1737630371854937, -0.14836111902637375, 1.5331537826999886, 3.287847912584067, -4.695478484403613, 1.361501385736014, -6.847881636935869, 3.064967308365152, -0.3775398816697092, -1.204195371007647, -2.5587525867503227, -4.284794242178248, 5.129756144001841, 0.21771333108626173, 3.169263038437711, 3.212443045387003, 3.3179402661500124, 4.943029892817165, 1.6762338810086057, -4.087330885351182, -0.6612707074742167, -0.8788728261369385, 1.4286368545442651, -1.6950059033367173, 1.5940995833657063, -2.699277393056912, -10.62872739425619, -0.829520848240807, -1.6614846313920912, -2.767102646947838, -1.435404864269786, 1.1419084866488969, -3.4365213337355187, 0.5218754745538668, -1.4222005869344723, 1.2180535349105008, -4.227403837831693, -1.3725173292650827, 2.578349332426458, 7.43579563065528, -5.549965436184765, 1.746073294353659, -5.240884804425446, -1.4318686280886048, -1.9430233559290107, -4.491250394466472, -1.232556997164123, -3.4175435224773514, -0.8893536820063153, -3.8658980280459363, 2.1855487204053112, 0.920787812508136, 3.387400892217405, 2.808249596308636, -1.9686648448642021, -8.964222811097612, -0.742385913211536, -1.3972142313803388, -0.42906418133911717, 4.18682055773749, 2.974199625401704, -2.279615800322505, -1.9312690310662122, 1.7440105454768033, -1.5030134327386973, -3.3393745516872055, -0.1833498437122808, -5.104049844887983, -4.063053054504918, -0.4463482479097379, -6.074753755451222, -2.7656649315248876, -2.503311797520154, 2.8889177115509286, -3.877745892990387, 3.3753806595585223, -2.1219021587097107, 1.0801883216077486, -0.16094503389269166, -1.564986203673356, 0.10846288610188579, -1.950112026661009, -1.1745810557156264, -2.223863392736904, 1.6787103324084007, 4.515025097863771, 3.1667152750400476, -2.398642399804563, -1.6525913177089846, -2.8179920178945412, -0.18300341340130713, -4.019229101899963, 0.22398823866405654, 0.5968987448525198, -2.4483317955111694, 0.9942102728151903, -2.8623413996091727, 3.15617297085128, 4.8763778315445245, 4.15901605361296, -1.7665076178673231, 0.20580923903025716, 0.9239738098013817, -1.748194444135791, -2.30372092193175, -1.6603288625347725, 1.3978316132557755, -0.8723004965674215, -3.147122419290686, 1.695854309974451, 0.6846232470522662, -4.000389846505927, -5.695954363510476, -5.366360877087404, 1.9153028023977492, -4.406458582966031, 2.7177834745934675, 2.100137388412964, -0.510107146089565, -2.0940178073256375, 2.465951234222326, 0.20720557043298238, -2.287150284619487, -5.14088791084271, 0.6296562145542706, -2.413069126636825, -4.162302179610505, -0.18497381006793395, -1.2404410385366333, -0.37334975635166207, 1.972304078212869, -0.6703371208305817, 5.396991571082706, 2.0252860252935836, 0.3879531799778171, -5.133612288757359, 0.736060259279038, 1.8070597755461653, -4.60904876819652, -2.3032181821056272, -1.2848419189885718, 0.16651769964176238, -0.1193095505904822, 0.738774582008742, -5.595595894561637, -4.431741260804671, -1.2630888210812035, -3.5358953859762186, -1.0656332596068947, -6.140452600254566, -3.236815973821641, -2.870118270930713, 2.062019539301902, -4.098045457713655, -4.393483682406412, -1.6552075156954664, 2.5670905685316914, -0.4915641831557633, 3.0787914764865527, 2.2734220981465545, -3.209290846091086, -4.948713191049897, -9.017824516495924, 2.0731651875989314, -0.307400117763426, 0.9444707344976201, -5.198868544920842, 3.1457603612436134, -0.5268279945848794, -0.6906155758986919, -1.0986044543299827, -0.14946579907649743, -3.79674549814947, -5.416754724918763, 4.156719390255843, 0.8692747003010535, 0.4768136996886876, -5.151910847983856, -5.986309827711786, -2.365005281415201, -1.6052236482434012, -4.159578247590539, 2.5130565102888314, -2.8083097566165858, 0.6135723162098001, -3.8112844345019194, -1.727752441143262, -2.2984189047946284, 1.025328232932154, -1.2373308206935603, 1.6056964549653439, -1.5009826882028032, 0.12471393904577861, -5.606993178076936, -0.29079447054082586, -0.4560719995411164, -2.701564752187944, -5.431319676316727, -0.3585265855946138, -1.1462195393713237, -4.816819844732068, 2.1341205840805357, -3.6556104821114763, -4.051043221666686, -6.5115974077800525, -2.804580512618782, 2.095495757960374, -5.277009396870381, 0.19851189306818343, -1.0394489135510034, 4.00731737259454, -2.3488301539690117, -1.3248354690885678, 1.4923565290064753, 1.9181091546640574, 1.5911566825000438, 0.2081420993270769, -0.8390359338144483, 1.1275410909552546, 4.39723523323983, -1.0783207819219778, -0.12760002377077803, -2.031421151163462, -5.24715461751144, -5.147345901828808, -3.868957987333036, -4.190781373269881, -3.9827580906251865, -2.542311505095308, 1.6213505504186037, 1.3180366772164682, 0.6643404261609421, 0.9703166045544414, -1.4691150404569622, -1.347379020863026, 0.8978914713880999, -6.265769256471527, -2.3407783497174615, -0.0733078636365046, -2.702944761450525, 0.5171025792927124, 1.930057531954741, 3.4477785857462964, -3.8738677628515883, 0.9755939018274369, -2.7738221022718217, -2.490617907889675, -3.2045358875278627, -2.822943915603608, -5.288006686061315, -0.7864529572174639, -4.652041114043197, -0.6590770319048103, 0.9982882472968084, -2.4790157262908448, -6.621615947745594, -5.314344824196522, -4.233570632313229, -4.791896130186728, -0.6104899786174725, -2.309672177118771, 0.6875461949425522, -0.5757163018469414, 4.211147861917337, -1.619546376067255, 0.3437368458037734, -1.4880633940032066, -0.75208007630329, 2.4340065383573424, -6.388907752034702, -2.0051829336625793, -0.8543155185317926, -4.251996456106158, 3.1671172362597297, -2.5586518782123293, 1.1703189283328286, -0.1663138668912606, -3.6200004273923083, -4.97078141327777, -2.3488570324980453, -6.623498679373184, -1.9024637869945427, -2.8463245052959207, -1.790404483757008, -2.0685144549782466, -5.00255527793573, 0.636887135123782, -2.895349547207362, -2.8077830930825356, -5.4447979481377375, 0.7142880359709801, -0.25927920475845856, -3.0966797069847676, -1.6021825072521878, -0.6134517442779943, -3.912066530598606, 4.428916920551899, -4.949943041621534, 0.25230408484350575, -2.664765785017253, 0.8711801966942512, 0.2899563863680985, 0.009586729018512236, -3.748526409553373, 1.8334054157718116, -2.5087674097484216, 5.133450753092835, -0.4340814277039264, -0.16030460711172959, 2.4264587391733863, 1.0137369242101057, 2.9981808798320024, -3.937862889765831, -4.478994346412881, -2.0964710390765524, -4.441318049501416, 5.533240584540878, -4.78881319075866, -0.7939464731876841, 3.9278774342451275, -5.017299936814321, -0.7870586889939221, -0.8471633123844204, -4.79641445697848, -5.112299871855585, 0.03291406917712905, -3.413211616676755, 0.8754240876465306, -1.0395857437578613, -1.4463461624142169, -0.6732365633925429, 0.6443695325287778, -0.7016310148886339, 4.9380339136855325, 4.625630534426474, -3.7018182217410467, -1.7584027507982778, 2.6828459829972635, -2.053884633299646, -5.8205580302335544, 0.7194896774162851, 3.372242022444505, -3.0489248941459794, -3.4520423005444973, -6.9187793207111214, -3.0119741444309533, 3.0401724368752023, 0.8070508177246984, -2.926796436635248, 0.919188918794799, -6.177621174008423, -2.088828024208076, 3.3260241402703343, -2.306367078580492, 1.4930321442587737, -3.3700203069386836, -0.8785975938878943, -1.0501965145074268, -3.7285575593900036, -2.0664772831971288, -1.2529525396300967, -1.4373525799845916, -3.430489639554302, -2.415956945265948, 1.4464071543951118, -0.954993756917291, -4.23911929475453, -5.208598343523392, 4.579376447983809, -4.240000660371945, -1.685896555385999, 1.0752112082318435, 1.1330045221271372, 0.8054534661675365, 1.4142644179628039, -6.729132126986582, 0.34189527924366736, -3.3492134361330232, -1.5693129861647306, -4.460911441708971, -0.030269759201747043, -4.0793273665351295, -3.226567687247126, -1.517313392898496, -0.36758174385347053, -4.458307837269451, -1.117695531386767, -1.536783938125677, 1.4953881702487974, -0.3642277943890643, -4.265355340427713, -3.541987597033322, -4.315063624195512, 4.157876697673789, -4.120098289613822, -0.25418720376403336, -0.1349146640123016, 2.027632363504912, -4.841342800277814, -0.49801796318842667, -0.16932064341644112, -4.4325627945962465, 1.221526905559876, -7.269817490381074, 5.4881076112095215, -5.224486995010574, 1.9645674019151222, -1.1327941721669132, -1.3550192427051218, -3.582505137215377, 2.2221192185332885, -5.760110801430047, 2.5104821354250357, 0.7798040108190295, -0.0871939350995112, 2.7833902637156642, -3.113509336731017, 4.3526203466017215, -2.7260656412404685, -4.961441209918266, -0.25079006866499665, -4.5882640315258865, -3.2682211586377248, -3.5426931129526515, 1.4153523826142171, 1.904066091130801, -1.495777045678215, -3.0113173214584776, -1.8310415918648042, 3.6837464667642315, -4.005129450092369, -1.0233080895548348, -2.19338457418203, -6.787082644519377, -5.1617023568922775, 3.941602480915703, 1.5200626899990572, 0.5347322574954143, 3.6783477737879346, -2.374389483701725, 3.4731993002509474, -6.920611832852235, -2.6366477357820424, -0.022213711134279716, 1.3716098560715386, 5.617737647557863, -2.0372417738404915, 3.138619969988744, -5.452886652288515, -1.544435932007947, -1.9431293124673532, -3.6651142686356675, -2.506215132995662, 0.23822135387965607, -0.29594647440179345, -2.955668034416558, 4.050558918718732, -3.6195213532173116, -5.157799611541088, -0.5503348514016664, -0.37560333061376555, -2.662445803140604, -3.885463682946465, -1.4653302114665074, 2.8539483747232497, -2.665267953155625, -5.633661672077711, -3.81720958022175, -0.9071854282085448, -0.4424385238699411, 3.258645510296759, -6.402591157111036, -1.060894649880821, 1.459826064326828, -2.448549120508158, -5.755970223702406, 1.7151070996529223, -4.9424516238525955, 0.12461066679451839, -4.375585021432328, -2.7679953632340055, -4.143165445966534, 0.9688385732420375, 1.6436638396257874, -0.2488415074886813, -1.8279259380299677, -2.3265831892223807, -1.622719574715204, 2.320666094025252, -0.06220317771670977, -1.226342371720977, -6.666932833192798, 6.984194259805178, 3.9626572928195594, -3.074007181280273, -1.4950682645386544, -2.554346331371151, 1.3181066471593104, -5.037346035065936, -11.461411115948955, -3.196918377209029, -2.793908824171439, -2.73416419097183, 0.8367643544405747, -0.029594200547367965, 2.810085817951525, 1.5510843926692983, -1.8655715933880936, -1.7298172084365377, 3.7211669965444885, -3.219157537843511, -1.1391010027623532, 0.7819413571095646, 0.32105121817833804, -4.183834761684015, -2.5547892253673252, 0.8579670740684443, 3.1352213917180913, -0.08167297917505778, -1.345696396434757, 7.506847748308298, -0.02941326479934553, -4.054440461469065, 0.5364515348805521, -5.70150691579313, 2.6970038272429346, -3.090293658776609, -0.5537370588554567, -0.9076650158158999, -0.5327521747313294, -0.029015794639328074, -1.7829973917062962, -0.7234991068067578, -1.5997358516617568, -2.5988843129309505, -1.672176985225757, -3.6632649575331953]}],\n",
       "                        {\"template\": {\"data\": {\"bar\": [{\"error_x\": {\"color\": \"#2a3f5f\"}, \"error_y\": {\"color\": \"#2a3f5f\"}, \"marker\": {\"line\": {\"color\": \"#E5ECF6\", \"width\": 0.5}}, \"type\": \"bar\"}], \"barpolar\": [{\"marker\": {\"line\": {\"color\": \"#E5ECF6\", \"width\": 0.5}}, \"type\": \"barpolar\"}], \"carpet\": [{\"aaxis\": {\"endlinecolor\": \"#2a3f5f\", \"gridcolor\": \"white\", \"linecolor\": \"white\", \"minorgridcolor\": \"white\", \"startlinecolor\": \"#2a3f5f\"}, \"baxis\": {\"endlinecolor\": \"#2a3f5f\", \"gridcolor\": \"white\", \"linecolor\": \"white\", \"minorgridcolor\": \"white\", \"startlinecolor\": \"#2a3f5f\"}, \"type\": \"carpet\"}], \"choropleth\": [{\"colorbar\": {\"outlinewidth\": 0, \"ticks\": \"\"}, \"type\": \"choropleth\"}], \"contour\": [{\"colorbar\": {\"outlinewidth\": 0, \"ticks\": \"\"}, \"colorscale\": [[0.0, \"#0d0887\"], [0.1111111111111111, \"#46039f\"], [0.2222222222222222, \"#7201a8\"], [0.3333333333333333, \"#9c179e\"], [0.4444444444444444, \"#bd3786\"], [0.5555555555555556, \"#d8576b\"], [0.6666666666666666, \"#ed7953\"], [0.7777777777777778, \"#fb9f3a\"], [0.8888888888888888, \"#fdca26\"], [1.0, \"#f0f921\"]], \"type\": \"contour\"}], \"contourcarpet\": [{\"colorbar\": {\"outlinewidth\": 0, \"ticks\": \"\"}, \"type\": \"contourcarpet\"}], \"heatmap\": [{\"colorbar\": {\"outlinewidth\": 0, \"ticks\": \"\"}, \"colorscale\": [[0.0, \"#0d0887\"], [0.1111111111111111, \"#46039f\"], [0.2222222222222222, \"#7201a8\"], [0.3333333333333333, \"#9c179e\"], [0.4444444444444444, \"#bd3786\"], [0.5555555555555556, \"#d8576b\"], [0.6666666666666666, \"#ed7953\"], [0.7777777777777778, \"#fb9f3a\"], [0.8888888888888888, \"#fdca26\"], [1.0, \"#f0f921\"]], \"type\": \"heatmap\"}], \"heatmapgl\": [{\"colorbar\": {\"outlinewidth\": 0, \"ticks\": \"\"}, \"colorscale\": [[0.0, \"#0d0887\"], [0.1111111111111111, \"#46039f\"], [0.2222222222222222, \"#7201a8\"], [0.3333333333333333, \"#9c179e\"], [0.4444444444444444, \"#bd3786\"], [0.5555555555555556, \"#d8576b\"], [0.6666666666666666, \"#ed7953\"], [0.7777777777777778, \"#fb9f3a\"], [0.8888888888888888, \"#fdca26\"], [1.0, \"#f0f921\"]], \"type\": \"heatmapgl\"}], \"histogram\": [{\"marker\": {\"colorbar\": {\"outlinewidth\": 0, \"ticks\": \"\"}}, \"type\": \"histogram\"}], \"histogram2d\": [{\"colorbar\": {\"outlinewidth\": 0, \"ticks\": \"\"}, \"colorscale\": [[0.0, \"#0d0887\"], [0.1111111111111111, \"#46039f\"], [0.2222222222222222, \"#7201a8\"], [0.3333333333333333, \"#9c179e\"], [0.4444444444444444, \"#bd3786\"], [0.5555555555555556, \"#d8576b\"], [0.6666666666666666, \"#ed7953\"], [0.7777777777777778, \"#fb9f3a\"], [0.8888888888888888, \"#fdca26\"], [1.0, \"#f0f921\"]], \"type\": \"histogram2d\"}], \"histogram2dcontour\": [{\"colorbar\": {\"outlinewidth\": 0, \"ticks\": \"\"}, \"colorscale\": [[0.0, \"#0d0887\"], [0.1111111111111111, \"#46039f\"], [0.2222222222222222, \"#7201a8\"], [0.3333333333333333, \"#9c179e\"], [0.4444444444444444, \"#bd3786\"], [0.5555555555555556, \"#d8576b\"], [0.6666666666666666, \"#ed7953\"], [0.7777777777777778, \"#fb9f3a\"], [0.8888888888888888, \"#fdca26\"], [1.0, \"#f0f921\"]], \"type\": \"histogram2dcontour\"}], \"mesh3d\": [{\"colorbar\": {\"outlinewidth\": 0, \"ticks\": \"\"}, \"type\": \"mesh3d\"}], \"parcoords\": [{\"line\": {\"colorbar\": {\"outlinewidth\": 0, \"ticks\": \"\"}}, \"type\": \"parcoords\"}], \"scatter\": [{\"marker\": {\"colorbar\": {\"outlinewidth\": 0, \"ticks\": \"\"}}, \"type\": \"scatter\"}], \"scatter3d\": [{\"line\": {\"colorbar\": {\"outlinewidth\": 0, \"ticks\": \"\"}}, \"marker\": {\"colorbar\": {\"outlinewidth\": 0, \"ticks\": \"\"}}, \"type\": \"scatter3d\"}], \"scattercarpet\": [{\"marker\": {\"colorbar\": {\"outlinewidth\": 0, \"ticks\": \"\"}}, \"type\": \"scattercarpet\"}], \"scattergeo\": [{\"marker\": {\"colorbar\": {\"outlinewidth\": 0, \"ticks\": \"\"}}, \"type\": \"scattergeo\"}], \"scattergl\": [{\"marker\": {\"colorbar\": {\"outlinewidth\": 0, \"ticks\": \"\"}}, \"type\": \"scattergl\"}], \"scattermapbox\": [{\"marker\": {\"colorbar\": {\"outlinewidth\": 0, \"ticks\": \"\"}}, \"type\": \"scattermapbox\"}], \"scatterpolar\": [{\"marker\": {\"colorbar\": {\"outlinewidth\": 0, \"ticks\": \"\"}}, \"type\": \"scatterpolar\"}], \"scatterpolargl\": [{\"marker\": {\"colorbar\": {\"outlinewidth\": 0, \"ticks\": \"\"}}, \"type\": \"scatterpolargl\"}], \"scatterternary\": [{\"marker\": {\"colorbar\": {\"outlinewidth\": 0, \"ticks\": \"\"}}, \"type\": \"scatterternary\"}], \"surface\": [{\"colorbar\": {\"outlinewidth\": 0, \"ticks\": \"\"}, \"colorscale\": [[0.0, \"#0d0887\"], [0.1111111111111111, \"#46039f\"], [0.2222222222222222, \"#7201a8\"], [0.3333333333333333, \"#9c179e\"], [0.4444444444444444, \"#bd3786\"], [0.5555555555555556, \"#d8576b\"], [0.6666666666666666, \"#ed7953\"], [0.7777777777777778, \"#fb9f3a\"], [0.8888888888888888, \"#fdca26\"], [1.0, \"#f0f921\"]], \"type\": \"surface\"}], \"table\": [{\"cells\": {\"fill\": {\"color\": \"#EBF0F8\"}, \"line\": {\"color\": \"white\"}}, \"header\": {\"fill\": {\"color\": \"#C8D4E3\"}, \"line\": {\"color\": \"white\"}}, \"type\": \"table\"}]}, \"layout\": {\"annotationdefaults\": {\"arrowcolor\": \"#2a3f5f\", \"arrowhead\": 0, \"arrowwidth\": 1}, \"colorscale\": {\"diverging\": [[0, \"#8e0152\"], [0.1, \"#c51b7d\"], [0.2, \"#de77ae\"], [0.3, \"#f1b6da\"], [0.4, \"#fde0ef\"], [0.5, \"#f7f7f7\"], [0.6, \"#e6f5d0\"], [0.7, \"#b8e186\"], [0.8, \"#7fbc41\"], [0.9, \"#4d9221\"], [1, \"#276419\"]], \"sequential\": [[0.0, \"#0d0887\"], [0.1111111111111111, \"#46039f\"], [0.2222222222222222, \"#7201a8\"], [0.3333333333333333, \"#9c179e\"], [0.4444444444444444, \"#bd3786\"], [0.5555555555555556, \"#d8576b\"], [0.6666666666666666, \"#ed7953\"], [0.7777777777777778, \"#fb9f3a\"], [0.8888888888888888, \"#fdca26\"], [1.0, \"#f0f921\"]], \"sequentialminus\": [[0.0, \"#0d0887\"], [0.1111111111111111, \"#46039f\"], [0.2222222222222222, \"#7201a8\"], [0.3333333333333333, \"#9c179e\"], [0.4444444444444444, \"#bd3786\"], [0.5555555555555556, \"#d8576b\"], [0.6666666666666666, \"#ed7953\"], [0.7777777777777778, \"#fb9f3a\"], [0.8888888888888888, \"#fdca26\"], [1.0, \"#f0f921\"]]}, \"colorway\": [\"#636efa\", \"#EF553B\", \"#00cc96\", \"#ab63fa\", \"#FFA15A\", \"#19d3f3\", \"#FF6692\", \"#B6E880\", \"#FF97FF\", \"#FECB52\"], \"font\": {\"color\": \"#2a3f5f\"}, \"geo\": {\"bgcolor\": \"white\", \"lakecolor\": \"white\", \"landcolor\": \"#E5ECF6\", \"showlakes\": true, \"showland\": true, \"subunitcolor\": \"white\"}, \"hoverlabel\": {\"align\": \"left\"}, \"hovermode\": \"closest\", \"mapbox\": {\"style\": \"light\"}, \"paper_bgcolor\": \"white\", \"plot_bgcolor\": \"#E5ECF6\", \"polar\": {\"angularaxis\": {\"gridcolor\": \"white\", \"linecolor\": \"white\", \"ticks\": \"\"}, \"bgcolor\": \"#E5ECF6\", \"radialaxis\": {\"gridcolor\": \"white\", \"linecolor\": \"white\", \"ticks\": \"\"}}, \"scene\": {\"xaxis\": {\"backgroundcolor\": \"#E5ECF6\", \"gridcolor\": \"white\", \"gridwidth\": 2, \"linecolor\": \"white\", \"showbackground\": true, \"ticks\": \"\", \"zerolinecolor\": \"white\"}, \"yaxis\": {\"backgroundcolor\": \"#E5ECF6\", \"gridcolor\": \"white\", \"gridwidth\": 2, \"linecolor\": \"white\", \"showbackground\": true, \"ticks\": \"\", \"zerolinecolor\": \"white\"}, \"zaxis\": {\"backgroundcolor\": \"#E5ECF6\", \"gridcolor\": \"white\", \"gridwidth\": 2, \"linecolor\": \"white\", \"showbackground\": true, \"ticks\": \"\", \"zerolinecolor\": \"white\"}}, \"shapedefaults\": {\"line\": {\"color\": \"#2a3f5f\"}}, \"ternary\": {\"aaxis\": {\"gridcolor\": \"white\", \"linecolor\": \"white\", \"ticks\": \"\"}, \"baxis\": {\"gridcolor\": \"white\", \"linecolor\": \"white\", \"ticks\": \"\"}, \"bgcolor\": \"#E5ECF6\", \"caxis\": {\"gridcolor\": \"white\", \"linecolor\": \"white\", \"ticks\": \"\"}}, \"title\": {\"x\": 0.05}, \"xaxis\": {\"automargin\": true, \"gridcolor\": \"white\", \"linecolor\": \"white\", \"ticks\": \"\", \"zerolinecolor\": \"white\", \"zerolinewidth\": 2}, \"yaxis\": {\"automargin\": true, \"gridcolor\": \"white\", \"linecolor\": \"white\", \"ticks\": \"\", \"zerolinecolor\": \"white\", \"zerolinewidth\": 2}}}},\n",
       "                        {\"responsive\": true}\n",
       "                    ).then(function(){\n",
       "                            \n",
       "var gd = document.getElementById('b0bfbf14-c10d-49be-8f2b-bae4d5fbec10');\n",
       "var x = new MutationObserver(function (mutations, observer) {{\n",
       "        var display = window.getComputedStyle(gd).display;\n",
       "        if (!display || display === 'none') {{\n",
       "            console.log([gd, 'removed!']);\n",
       "            Plotly.purge(gd);\n",
       "            observer.disconnect();\n",
       "        }}\n",
       "}});\n",
       "\n",
       "// Listen for the removal of the full notebook cells\n",
       "var notebookContainer = gd.closest('#notebook-container');\n",
       "if (notebookContainer) {{\n",
       "    x.observe(notebookContainer, {childList: true});\n",
       "}}\n",
       "\n",
       "// Listen for the clearing of the current output cell\n",
       "var outputEl = gd.closest('.output');\n",
       "if (outputEl) {{\n",
       "    x.observe(outputEl, {childList: true});\n",
       "}}\n",
       "\n",
       "                        })\n",
       "                };\n",
       "                });\n",
       "            </script>\n",
       "        </div>"
      ]
     },
     "metadata": {},
     "output_type": "display_data"
    }
   ],
   "source": [
    "import plotly.offline as py\n",
    "import plotly.graph_objs as go\n",
    "py.init_notebook_mode(connected=True)\n",
    "\n",
    "data = [go.Scatter(x=x,y=y,mode = \"markers\")]\n",
    "py.iplot(data)"
   ]
  },
  {
   "cell_type": "markdown",
   "metadata": {},
   "source": [
    "## Regressione lineare tramite pacchetto scikit-learn\n",
    "Il pacchetto Python [scikit-learn](http://scikit-learn.org/stable/index.html) ci permette di calcolare un modello di regressione lineare (sia semplice che multipla) con pochi comandi e in maniera molto efficiente. \n",
    "\n",
    "Familiarizzate con i comandi principli si scikit-learn eseguendo le celle di questo esercizio oppure guardano gli esempi disponibili [online](http://scikit-learn.org/stable/modules/linear_model.html).\n",
    "\n",
    "La seguente cella importa il modulo ``linear_model`` dal pacchetto ``scikit-learn`` dove sono definite classi e metodi necessari per costruire un modello di regressione lineare del tipo ``y = x*w+b``. Una volta importato il modulo ``linear_model``, viene costruito un oggetto ``linRegr`` della classe ``LinearRegression``. All'oggetto ``linRegr``viene applicato il metodo ``fit`` per ricavare il modello di regressione.\n",
    "\n",
    "Nota: il metoto ``fit`` riceve come parametri di ingresso:\n",
    "    - x: array di dimensione DUE con i valori delle variabili esplicative. L'array ha m righe e n colonne (dove m è il numero di osservazioni, e n è il numero di variabili esplicative. Nota bene: (i) n=1 nel caso di regressione semplice, (ii) x deve sempre essere un array di dimensione DUE!! Se avete un array di dimensione 1, fate il reshape dell'array tramite il comando np.reshape per trasformarlo in un vettore colonna di dimensione DUE)\n",
    "    - y: array con i valori della variabile target di lunghezza m. Nota: y puo' anche essere un array di dimensione 1.\n",
    "    \n",
    "Una volta eseguito il comando fit, potete visualizzare i parametri ``w`` e ``b`` del modello di regressione accedendo agli attributi coef_ e intercept_ dell'oggetto ``linRegr``.     "
   ]
  },
  {
   "cell_type": "code",
   "execution_count": 12,
   "metadata": {},
   "outputs": [
    {
     "name": "stdout",
     "output_type": "stream",
     "text": [
      "Parametri w: [3.00079853]\n",
      "Intercetta b: -0.9996415246806526\n"
     ]
    }
   ],
   "source": [
    "from sklearn import linear_model\n",
    "\n",
    "# Definisco l'oggetto della classe LinearRegression\n",
    "linRegr = linear_model.LinearRegression()\n",
    "\n",
    "\n",
    "m = len(x) # Numero di osservazioni\n",
    "x = np.reshape(x,(m,1)) # Trasformo l'array delle variabili esplicative in un array di dimensione 2 (con m righe e 1 colonna)\n",
    "\n",
    "\n",
    "# Costruisco il modello di regressione lineare\n",
    "linRegr.fit(X=x,y=y)\n",
    "\n",
    "# Stampo i parametri w e b del modello di regressione\n",
    "w = linRegr.coef_\n",
    "b = linRegr.intercept_\n",
    "print(f\"Parametri w: {w}\")\n",
    "print(f\"Intercetta b: {b}\")"
   ]
  },
  {
   "cell_type": "code",
   "execution_count": 9,
   "metadata": {},
   "outputs": [
    {
     "data": {
      "text/plain": [
       "array([-0.99964152,  2.00115701])"
      ]
     },
     "execution_count": 9,
     "metadata": {},
     "output_type": "execute_result"
    }
   ],
   "source": [
    "linRegr.predict(np.array([[0],[1]]))"
   ]
  },
  {
   "cell_type": "markdown",
   "metadata": {},
   "source": [
    "Dato un qualunque set di valori della variabile indipendente ``x``, possiamo usare il modello di regressione lineare appena calcolato per stimare il valore della variabile target ``y``. Basta usare il metodo ``predict`` e fornire come ingresso i valori della variabile indipendente."
   ]
  },
  {
   "cell_type": "code",
   "execution_count": 17,
   "metadata": {},
   "outputs": [
    {
     "data": {
      "text/html": [
       "        <script type=\"text/javascript\">\n",
       "        window.PlotlyConfig = {MathJaxConfig: 'local'};\n",
       "        if (window.MathJax) {MathJax.Hub.Config({SVG: {font: \"STIX-Web\"}});}\n",
       "        if (typeof require !== 'undefined') {\n",
       "        require.undef(\"plotly\");\n",
       "        requirejs.config({\n",
       "            paths: {\n",
       "                'plotly': ['https://cdn.plot.ly/plotly-latest.min']\n",
       "            }\n",
       "        });\n",
       "        require(['plotly'], function(Plotly) {\n",
       "            window._Plotly = Plotly;\n",
       "        });\n",
       "        }\n",
       "        </script>\n",
       "        "
      ]
     },
     "metadata": {},
     "output_type": "display_data"
    },
    {
     "data": {
      "application/vnd.plotly.v1+json": {
       "config": {
        "linkText": "Export to plot.ly",
        "plotlyServerURL": "https://plot.ly",
        "showLink": false
       },
       "data": [
        {
         "mode": "markers",
         "name": "data",
         "type": "scatter",
         "x": [
          0.3697912231275372,
          -0.1522715410311959,
          1.2949490268356414,
          -0.6401194626897339,
          0.28831091346404186,
          -0.3840029221497643,
          -0.13929610099138554,
          2.257518663894492,
          0.8539173813633567,
          -0.9205959361791941,
          -0.185917799843242,
          -1.8989742374016996,
          1.9821343977017658,
          -0.6013668429225342,
          -0.22070500060750375,
          0.7990193574692399,
          0.8246176050151848,
          -0.39371605221052575,
          0.3179915403153519,
          -0.3915515583307807,
          0.16410521624480606,
          0.07090998964214179,
          0.6090516380078045,
          -1.0694482812570896,
          0.8814444476804313,
          0.9276481270919011,
          -0.7415759985755368,
          -0.7791456512971853,
          -1.3250848227139573,
          -0.25537493294635183,
          -0.5714330119673271,
          0.8884327702971679,
          0.6208392100404672,
          0.3172658151153796,
          0.9301344422993105,
          0.45640295088507504,
          2.4445649908614873,
          -3.1007532704247285,
          -1.0017649196604121,
          -1.5764777803014158,
          0.8407230423653517,
          -0.4122212988571141,
          0.5164852968038374,
          -0.8963209641641264,
          0.8210551996932673,
          1.0825764459174987,
          -0.35896003618345784,
          -0.416373591906683,
          -2.3182395431066056,
          0.0356756354280955,
          -0.821404597238674,
          0.7069272773412559,
          -0.568081715211379,
          1.2175133108641998,
          -0.17445746919810046,
          0.7292962264482866,
          -0.29770660267800086,
          1.7009566707309058,
          0.31110262903620656,
          0.5222655736790531,
          0.021145208577617394,
          0.6998262464456313,
          0.018893110528473717,
          0.25068724917710306,
          0.9524027540901578,
          -1.2392884251653267,
          -0.014616057914589156,
          -1.2411451216193072,
          -0.6580742916744221,
          -0.5926530137419865,
          0.4036533330011778,
          1.752146461442136,
          -2.2062030749951003,
          1.0805354010405537,
          -1.917003680192857,
          0.4466554954457689,
          -0.8284927472875622,
          1.7446971266857048,
          -2.204186947885988,
          -0.15663422404603786,
          0.8809050507200895,
          -1.0756548596720028,
          -0.755282844090469,
          0.16639374184506195,
          -0.8137426157313838,
          -0.9170706952490012,
          -0.1708404269794756,
          0.5285312530406534,
          2.068117205903815,
          1.2863504012791809,
          0.43067064215024986,
          0.9005750284239262,
          0.5721634286030648,
          0.47006608512334574,
          -0.8399488651320244,
          -2.2633500992344207,
          0.11952299629061486,
          1.8590815707537747,
          0.06387066798980631,
          -0.420233795415513,
          -0.8088260507505362,
          -1.2762922890303088,
          1.633325478520992,
          1.8817853949055507,
          -0.2752696347460168,
          -0.9673307333241163,
          2.200687992414232,
          -0.5629189000912982,
          -1.111175824424996,
          -0.8247745812980862,
          -1.854965756973237,
          -0.15875404341173785,
          -0.909302847637271,
          -0.2340586585400788,
          -0.30019168370868743,
          0.35097640558433374,
          -0.23944543993459663,
          0.8780597614685368,
          -1.0845673001432317,
          -0.373566277153441,
          0.9043220125217937,
          -0.6827489174329217,
          0.02628009822320145,
          -0.5535316087634048,
          -0.27472768321671803,
          1.8675904752505847,
          0.3060662742415513,
          -1.4460003545914504,
          -0.25501301360383377,
          -0.8754048423456127,
          1.1216403693944081,
          2.7616682732105113,
          -0.41994719324219715,
          -1.1139880521593544,
          0.33257052565867967,
          -1.5207650581591663,
          -0.2705335707190535,
          1.1064051915581967,
          0.37966725759140424,
          -0.9665747441954397,
          0.8949172666637595,
          -0.6852284575402313,
          -0.4150693236252966,
          0.28370447457224574,
          -1.4722797620894,
          -1.1403868646174833,
          -0.25633013394324516,
          -0.028688568202710034,
          0.5141209957157418,
          1.9197068118464033,
          0.19232935047924063,
          0.5220922907845067,
          -2.2972549613478,
          -0.08467684768608338,
          1.0210175462631617,
          0.27348399941651375,
          -0.5452969483900035,
          0.7654461653949977,
          -0.14792939421810578,
          -1.4398081708424069,
          0.8448728065707707,
          2.4567041449808955,
          0.9992066773605456,
          -0.5710363254809981,
          -0.4070857889829875,
          -0.6913829493451136,
          -0.2023749175842099,
          0.045844146233405256,
          0.3723976910394757,
          -0.24467824537196906,
          1.252700897566119,
          -0.2917447409612437,
          -0.03545923089138299,
          0.5908159587113833,
          1.7036566402595414,
          -0.048523406263682144,
          1.041490323427106,
          -0.5216117772746784,
          2.9901061268613627,
          -0.9850146761315807,
          -1.4037698786635209,
          -2.474362924446793,
          0.7465576654160547,
          0.7502728047450632,
          -1.5554026401346228,
          0.9965527756380803,
          0.2837353074005322,
          -0.15185560212957705,
          1.2502544620418825,
          2.5987340545785416,
          -0.04365827743602493,
          2.2615810906307106,
          -0.9955008897543772,
          -0.363489737025142,
          -0.22437670303677704,
          -0.6548734673485732,
          -1.4122834747145818,
          -1.6666360034249506,
          -1.3731073726661647,
          0.9580897129210906,
          -0.16473306446373623,
          -1.4137031973588516,
          -0.15812984407524108,
          -0.33204823472032013,
          0.23580624592298738,
          1.780037190926481,
          0.7656693604808551,
          -1.4768379316370688,
          0.5750052686401539,
          0.5168217692234516,
          -0.9214118627850655,
          -0.21507358683566874,
          -0.46254403206954364,
          1.180290461500168,
          -1.5298935331966972,
          -0.39398822249904314,
          1.8680719857054557,
          -1.8147148699240758,
          0.2667235350191644,
          0.6911657144087427,
          1.1054635571085842,
          0.11179070231463553,
          0.8295855576845734,
          -0.7493710358754707,
          -0.5985885389309569,
          -1.832904115547471,
          -0.3687083522719266,
          -1.8216407375412658,
          -0.697507678756367,
          0.17067754955841705,
          1.1659432072857947,
          0.2528875121627568,
          -0.09217871476433047,
          -0.5780552735385296,
          0.022092926232534116,
          0.3143229314260251,
          -1.230656469968182,
          -0.39519485019414163,
          0.8892398685981586,
          2.047582979459488,
          -1.3444885396116428,
          -0.5989867317523059,
          -0.5842538352105686,
          0.9559489329478743,
          0.41385986298664235,
          -0.3528219582996125,
          1.384307434517315,
          -0.7362174523825277,
          -0.6176132618054345,
          0.3277238332049803,
          -1.1441644071399484,
          -1.014121470913975,
          0.9829425217947936,
          1.111119590643009,
          0.7670356148370188,
          0.18234228137206954,
          1.2982081498632219,
          -0.4904125140158762,
          0.6059674669835836,
          0.5414479110632395,
          -1.9339739511627438,
          0.9989999175239399,
          -1.7915629218379339,
          0.9351099208036875,
          0.21361422987203818,
          0.1374715753509737,
          1.5974174342951641,
          0.16163540964801454,
          0.2995797198614746,
          0.8893780191489906,
          -1.4881863440744576,
          1.2918264181207393,
          1.5023958756021896,
          0.8971891206096417,
          -0.4590965510354401,
          0.18707837524139767,
          0.5547611877912927,
          0.9172019238949729,
          0.7522199945563682,
          -1.6326087367651696,
          0.38838956068467057,
          0.14745281145797087,
          -0.31012977267964,
          -0.4931047426172753,
          0.4614922138732902,
          0.21911480204882935,
          -0.2696931390631805,
          -0.5488528686255049,
          -0.8646718229255329,
          -0.28878334658913357,
          0.15591523365705176,
          -1.8487288090920757,
          1.3406999052723234,
          -1.592981724033259,
          -0.8311763003810795,
          0.32316025449406166,
          -0.5223113253264645,
          -0.6167084026134215,
          0.35297577477189074,
          2.145066961911711,
          1.495702094328919,
          -1.4757582598351866,
          0.06142614823337514,
          1.9773959077598746,
          -0.3119878456751037,
          0.9884271357957279,
          0.07581744159018586,
          -0.8264433245676213,
          0.881350962130408,
          1.041600837253535,
          -0.65053086249323,
          1.6795202142066366,
          -0.2913973192872474,
          -1.1552374454978533,
          0.7437035999502645,
          1.8104263501854396,
          -1.0356975653802798,
          1.6025976388147316,
          -1.3542660370091482,
          0.6050553852504091,
          -0.9152707384538661,
          -1.4276671903013938,
          -0.17813573232839852,
          0.867729362229166,
          0.045196943426836805,
          0.5120911076287602,
          0.9204190187838743,
          -2.4589179292670718,
          -0.45636841758770846,
          -0.28937186378723173,
          0.10470644433299323,
          0.857510263657202,
          1.128423460044637,
          0.7299595640092941,
          -1.342826856512945,
          0.44195535604070263,
          -0.2146354167226673,
          -0.07400723954359018,
          -0.03437900677402277,
          0.10346158366586952,
          -1.5335462045099753,
          -0.4125605897841576,
          -0.027576861848841422,
          -0.4846279649753411,
          -0.5129928001580444,
          0.717889598300435,
          -0.4555790981820493,
          1.1578010429272652,
          1.3517597521446614,
          -0.4276598666758565,
          -0.23679806488551192,
          -1.8248061994553928,
          -0.8496642936493091,
          -0.6070016059395624,
          0.10485067421795137,
          -1.1902716212117068,
          -0.28847673464969065,
          -1.4770485151650021,
          -2.9936727140825856,
          -0.6155144415191053,
          -0.5335561242698197,
          -0.18055638803532983,
          -0.0014962636520519917,
          -1.567683727682599,
          -0.7310849444215629,
          0.7620218744155492,
          1.94234719937134,
          -1.250269839489684,
          -0.6002720867682808,
          0.8712790204035298,
          -1.0384675462062738,
          0.28224416382088374,
          0.6255438230545043,
          0.26772660023440725,
          -0.35210032608392594,
          0.5335295674806061,
          -0.49123387090577403,
          0.9119355751800771,
          -0.35367713932240935,
          0.5857188279753442,
          -1.5123022202272831,
          -0.5963186878783339,
          0.13706470833785994,
          1.4133938034548421,
          -0.09423374236477058,
          -0.9394094228984325,
          0.23412940469390792,
          -1.31315373012779,
          0.1926215912524075,
          1.0471111814268754,
          -1.497663551314108,
          -1.5320356947071674,
          -1.7207434450556796,
          -0.9129408453047849,
          1.1239048973347363,
          0.363094464509708,
          0.10219313608042462,
          -2.431276632569374,
          -0.9671814615096905,
          -2.0805854273267883,
          1.3926235756019407,
          -0.6396182736904414,
          0.3176053958881976,
          0.005123485601686661,
          1.030294022963629,
          -0.882105748819189,
          -1.4946501488351673,
          -0.9225925868433104,
          1.3856087660127758,
          0.8999806701144414,
          2.5465451221986255,
          -2.1316853641332445,
          0.2291712282249048,
          -1.2443984468850413,
          -0.43347556091982803,
          -2.9742641183307237,
          1.1666730536517154,
          0.09937379683326425,
          0.4094686420058491,
          0.24803398420610767,
          -0.01677671805098641,
          -0.11719402782038413,
          -0.14489363660185775,
          0.33122059008114674,
          0.35169685555805474,
          0.6047919615992093,
          0.2811691689387651,
          1.7496872406493307,
          -0.8335701195892795,
          -1.53266769517005,
          0.054289580224497355,
          0.08972256955934678,
          2.0882959652576676,
          0.31597031406862447,
          -0.9244094649646187,
          1.4103430635893845,
          1.2183333268052847,
          0.7183643700640318,
          1.0798480538690571,
          1.183496316401446,
          -0.2881912840916861,
          -0.645274585653259,
          -1.2835999375663998,
          -0.20967633465403007,
          0.3882067113668286,
          0.5455051392293337,
          1.0996489707404886,
          1.134732862011004,
          0.9004587735006485,
          -1.2731073116027571,
          -0.6801996225640603,
          0.17857932918633998,
          -0.764396541619278,
          0.13937520503663517,
          -0.48773444613426054,
          0.3239445792956729,
          -0.2346468926551466,
          1.2082537729568779,
          0.8914356142224776,
          0.095405922131794,
          0.611853927467082,
          -0.48916382399476455,
          -0.463913216979782,
          0.6990025411366766,
          0.34666034850350746,
          0.845999276154017,
          1.4793162109074973,
          -1.1926681334401212,
          0.7706831573587317,
          -1.950382672590253,
          1.4209398491127363,
          0.18150390871863503,
          -0.03584852265379147,
          -0.5069909743327352,
          -1.1425770038234977,
          2.008919832844613,
          0.36912555099638883,
          1.3866622183222796,
          1.439552312859329,
          1.4029268351610782,
          1.950973517924328,
          0.8669905300844949,
          -1.0526055031752475,
          0.06649584263289188,
          0.010452629896494777,
          0.752207146627037,
          -0.20815889483473476,
          0.8542764341445436,
          -0.5891111686215341,
          -3.2226987061844734,
          0.042293223043637446,
          -0.18749741383686563,
          -0.5623251249770622,
          -0.13061857820660452,
          0.7072295462013962,
          -0.7954084364576578,
          0.4634879356785935,
          -0.10023248121360465,
          0.7046954531680802,
          -1.0793317496392645,
          -0.17995511837319117,
          1.201193694926284,
          2.8323147347063427,
          -1.410804464928095,
          0.8744291230191991,
          -1.414713735289753,
          -0.15394644989061923,
          -0.32808553564513904,
          -1.182391892719013,
          -0.07599385622964967,
          -0.7786296903218903,
          0.04570047942896808,
          -0.9395110011430591,
          1.0538378973942524,
          0.6654185098653975,
          1.4319057083168323,
          1.2701768847956771,
          -0.35156228853079324,
          -2.6984884675151077,
          0.09872271655864458,
          -0.1072923071351301,
          0.2518122164828773,
          1.745033773536899,
          1.3572748430791883,
          -0.41461059478619694,
          -0.3120021049063356,
          0.8583659792836931,
          -0.16284595248102288,
          -0.8259271982894486,
          0.25012352667431564,
          -1.3667593604588175,
          -1.0300317790131372,
          0.1857896864498418,
          -1.7426034485366833,
          -0.6085688172747526,
          -0.4446088682880828,
          1.2743583381472898,
          -0.8852536829575992,
          1.458011476625046,
          -0.37266223208045707,
          0.7258438941174287,
          0.2534047668057193,
          -0.20556582016526065,
          0.3543935357836632,
          -0.3087794506809401,
          -0.06881532051605022,
          -0.36085241612872404,
          0.9180016074576054,
          1.8492649962797962,
          1.378530248869909,
          -0.451545435100437,
          -0.2650361880009213,
          -0.6348021580586715,
          0.27398830912225836,
          -1.0311197383214203,
          0.4266627759642551,
          0.5124401769266209,
          -0.44974581004988595,
          0.6963067711237024,
          -0.5769146061613656,
          1.4068134270500936,
          1.9872433342693907,
          1.693027328716507,
          -0.27128867095672293,
          0.34737063110292465,
          0.6210493598066238,
          -0.246461377729721,
          -0.4742926329272504,
          -0.1715495654167183,
          0.8379995741132406,
          0.037638100633768816,
          -0.7268765888277802,
          0.9050344488985343,
          0.6029437646980094,
          -1.0204175673327571,
          -1.5518622962201818,
          -1.4702752054381967,
          0.965906017020541,
          -1.1172959507322637,
          1.2597583736722648,
          0.9790661156382323,
          0.19207600661312818,
          -0.3831289425943694,
          1.0659932104143572,
          0.39716471708405393,
          -0.44306151902509744,
          -1.3794100672513376,
          0.5962336704939702,
          -0.442504318149014,
          -1.0726756436388436,
          0.26517731991037313,
          -0.07831617222722423,
          0.20597133797885317,
          0.9837079998070503,
          0.06481124135145552,
          2.08851957894982,
          0.9859629807240354,
          0.4331420314434248,
          -1.3251891030018763,
          0.5959701826276246,
          0.937211922932436,
          -1.2118282377394782,
          -0.4396510038984632,
          -0.09326913727760748,
          0.3830094386169782,
          0.2867228113694971,
          0.5593033722182583,
          -1.5390540351776227,
          -1.1175436308865416,
          -0.09345951577286642,
          -0.843411307686636,
          -0.003968991869124644,
          -1.693290961653312,
          -0.8025127804109061,
          -0.6208936037805812,
          1.0074736776810314,
          -0.9971838750436058,
          -1.1453325187747723,
          -0.1917812690187328,
          1.2077618221055755,
          0.16017744490537342,
          1.3484708430602657,
          1.0727301002953724,
          -0.6703675886511453,
          -1.227133959458435,
          -2.7188878780065053,
          1.03482914670125,
          0.24049785428206547,
          0.6404806288489622,
          -1.3474104880812352,
          1.3687259998321433,
          0.16255317402069613,
          0.09345952927669401,
          -0.02191485054418039,
          0.25291692066684873,
          -0.8985672730193933,
          -1.4964282880447477,
          1.7034059724568151,
          0.6049671579669654,
          0.5458838370668063,
          -1.3889317278104227,
          -1.6296427928090602,
          -0.39824937349908524,
          -0.20667409316630064,
          -1.0462585240930966,
          1.1858996163059181,
          -0.569293340330475,
          0.48331957750531995,
          -0.9117052601617688,
          -0.25735548999782026,
          -0.4560847801408867,
          0.6908653890055304,
          -0.07703016873600871,
          0.8719988424815435,
          -0.17652308499673344,
          0.35814457434545727,
          -1.5024616639781108,
          0.16120258422922815,
          0.19348553280457126,
          -0.5126975585222283,
          -1.5174377911355585,
          0.17901006056532776,
          0.010200955143806487,
          -1.248670929189135,
          1.0235924427880672,
          -0.9282620587129319,
          -1.0194981363042412,
          -1.8647859479948274,
          -0.5853030740302655,
          1.00981976833482,
          -1.4138049189365787,
          0.38292891077456376,
          -0.032836518532863894,
          1.6570396107512062,
          -0.46375610188994904,
          -0.06701650003936242,
          0.8331488727210513,
          1.0299749041986714,
          0.934077018113372,
          0.42635513675847014,
          0.08766341447922192,
          0.6802767551400455,
          1.806638726821974,
          -0.00954424450523605,
          0.3069157660697165,
          -0.28911196404196493,
          -1.4322780575163185,
          -1.3484737514346863,
          -0.974913229705507,
          -1.0689872882266185,
          -1.0109446061688891,
          -0.5152109877130288,
          0.8632243476765011,
          0.795934059224034,
          0.5227145051026741,
          0.6185147392131466,
          -0.16692511126309897,
          -0.10169164452788013,
          0.6156990284980952,
          -1.7732360957926248,
          -0.4112421548852204,
          0.30279191709978887,
          -0.5414328971552831,
          0.47197704627984693,
          0.9920236529820543,
          1.4720508667719738,
          -0.9797460151877577,
          0.662813367520862,
          -0.6092620062958349,
          -0.5351930515085978,
          -0.7402418370585746,
          -0.5890624687848705,
          -1.32814987111812,
          0.08323349577014684,
          -1.2013770935654249,
          0.1761200738941373,
          0.6616311526681157,
          -0.5525617362768981,
          -1.856311851390777,
          -1.4602469913098701,
          -1.091800777116109,
          -1.272085502844482,
          0.1384875695258901,
          -0.4611541500171494,
          0.5720086489120957,
          0.12770981005297777,
          1.747728849532334,
          -0.21509689718902975,
          0.44981609321059907,
          -0.1014679993857923,
          0.05900149745363405,
          1.1375645418805906,
          -1.8575702316110778,
          -0.34656320239652544,
          0.07083365555626815,
          -1.0883477411555744,
          1.3823864476745933,
          -0.5048155186644805,
          0.7294782099307291,
          0.25720438037532245,
          -0.8899210382353742,
          -1.3105457244375167,
          -0.46270258830744065,
          -1.8736055542759875,
          -0.29776953545445906,
          -0.6135315225591025,
          -0.22220214614400943,
          -0.39561143169375435,
          -1.3451240823363837,
          0.5872858982281665,
          -0.6143363504473248,
          -0.5480457807975657,
          -1.4939814498499764,
          0.5376097991519052,
          0.25632250522802263,
          -0.7015401498179875,
          -0.15191138105102833,
          0.1257592714182674,
          -1.0149119496509063,
          1.8312315585552295,
          -1.3163060573957086,
          0.3791718807278605,
          -0.5052841208649509,
          0.6342050511331153,
          0.43422430648825877,
          0.31475099685846225,
          -0.8862364743398101,
          0.8998753641318344,
          -0.5538032956878369,
          1.998125760763852,
          0.20279384412205062,
          0.2775742773853735,
          1.1388588584269335,
          0.6022901566870615,
          1.3476024681719438,
          -0.975937870984813,
          -1.188943213719947,
          -0.39086137000982474,
          -1.1643564533878923,
          2.244763628892264,
          -1.2941234309897023,
          0.0734633240138593,
          1.6524308608196494,
          -1.3631649540735864,
          0.05357881106552588,
          0.0802601469304703,
          -1.251722604278277,
          -1.314434242250727,
          0.3598126452712431,
          -0.8091809791395919,
          0.5792724510153908,
          -0.043431248764588246,
          -0.11470033039218448,
          0.12077722182254925,
          0.5859280402982032,
          0.09497947344031532,
          1.9211205790885215,
          1.840358368102722,
          -0.8934337389986745,
          -0.2347446959360769,
          1.2041798310172054,
          -0.26740629552614625,
          -1.5738917278860605,
          0.5787663550485298,
          1.4296139842254714,
          -0.6633057044457806,
          -0.7423987493992139,
          -1.9863290336779085,
          -0.6608749180980624,
          1.28715170711091,
          0.5967169551934792,
          -0.600641655398489,
          0.6256625084954375,
          -1.7679705395274934,
          -0.3176568219753141,
          1.4428083186277672,
          -0.4479288885684834,
          0.8319028328377379,
          -0.8240339378476526,
          0.04247384977552048,
          -0.020483291450443534,
          -0.8562615412453811,
          -0.367211155053392,
          -0.10103253325328257,
          -0.1317063597759588,
          -0.8093637690563069,
          -0.49222893969036596,
          0.8308439093580643,
          0.019837421647507264,
          -1.053131853648233,
          -1.3453570614088353,
          1.85763042269165,
          -1.0869710864107551,
          -0.25977232660731503,
          0.6668717489348767,
          0.7406130915766453,
          0.6609527456528633,
          0.7965286097777547,
          -1.8871010367680097,
          0.45900815694988156,
          -0.7591478975080036,
          -0.1752926983877749,
          -1.1543976231028485,
          0.2610450171675762,
          -1.0232563371208543,
          -0.7661161569488041,
          -0.15136021507656663,
          0.19368188739197925,
          -1.18984306433312,
          -0.07852630891131405,
          -0.18973482569854808,
          0.7755080794980502,
          0.1980707031941181,
          -1.1181118712600966,
          -0.8202243699127982,
          -1.088206954483015,
          1.6714842701176562,
          -1.065868912757437,
          0.23688703825289337,
          0.3140564697993269,
          0.9710179812179535,
          -1.2781659149863112,
          0.1753416252973732,
          0.2701316446023335,
          -1.1654631831636777,
          0.7627875167631855,
          -2.055443147757272,
          2.1258885070835496,
          -1.4027546230436685,
          1.0035996633268436,
          0.016227320040261624,
          -0.03038922226520357,
          -0.8856074783754366,
          1.043304953184176,
          -1.5688969890127396,
          1.1680421737749924,
          0.5382387607049872,
          0.2998857453415739,
          1.2875138795311936,
          -0.7588091709695045,
          1.765169957072211,
          -0.5015173988291288,
          -1.3079288129181252,
          0.26988552832429613,
          -1.1724798084144483,
          -0.7392701727813159,
          -0.8378231434940933,
          0.7674334203922264,
          0.9505899440923472,
          -0.1672102514221218,
          -0.7056631519137482,
          -0.2886927890948605,
          1.5851723123967099,
          -0.9467308655219319,
          0.0041330638406264315,
          -0.4089235259059301,
          -1.9094813165246707,
          -1.368842426585382,
          1.6148966940827165,
          0.8449656479366061,
          0.4939879543550859,
          1.5484424477297372,
          -0.4633077863510259,
          1.5179014506363437,
          -2.007729776672108,
          -0.5626925825484815,
          0.31713573892716374,
          0.7541287508742245,
          2.1926358612953356,
          -0.33365862913972394,
          1.3283285972233043,
          -1.5058412077836103,
          -0.19297126160415073,
          -0.3325399410542257,
          -0.9168205547533758,
          -0.48268713395071866,
          0.3883240887529398,
          0.21995347601871612,
          -0.6122106582629235,
          1.6608678067035911,
          -0.8649952045679937,
          -1.3879331880728036,
          0.19468345670618264,
          0.21361382926632064,
          -0.529459932273369,
          -0.8787597120726087,
          -0.17049947012562733,
          1.2757023359664963,
          -0.4810593077101864,
          -1.5917339375659085,
          -0.9115364633796245,
          0.049288772597347395,
          0.1800722692098737,
          1.454283199239731,
          -1.803662751367318,
          -0.10055584211860119,
          0.7934646642644094,
          -0.5225539285830679,
          -1.6332658819077739,
          0.8921011709933475,
          -1.3233809954029043,
          0.37985596534293403,
          -1.0953018770733416,
          -0.5795374393634539,
          -1.0460188448540395,
          0.6612942136044747,
          0.8984716565130079,
          0.24693970194471523,
          -0.2444786671550618,
          -0.42816955163429143,
          -0.14843609134960128,
          1.0749156865598175,
          0.2581204084591221,
          -0.06265068860243672,
          -1.9422027488692266,
          2.7006571053337214,
          1.691393710612649,
          -0.7488027067253232,
          -0.16519657711912164,
          -0.5026898567854875,
          0.8120672906357669,
          -1.3201871754417596,
          -3.544512817358704,
          -0.7912180964654478,
          -0.6335004216419969,
          -0.6333123276241639,
          0.6491153788181663,
          0.3055754908495263,
          1.2895877663273818,
          0.8275123732971469,
          -0.31449237048517115,
          -0.2597526164877884,
          1.6006072747729925,
          -0.7848607160792769,
          -0.06505959357272187,
          0.666115745233237,
          0.41893908914762057,
          -1.0285738358897425,
          -0.48565731580400157,
          0.646946073379938,
          1.4026439014324945,
          0.27783147855766616,
          -0.1418987930821509,
          2.819452905840433,
          0.2726290143378471,
          -1.046571205147577,
          0.5382109496609786,
          -1.637867589455444,
          1.256939507870926,
          -0.6816504266115817,
          0.14194109425082793,
          -0.006972543824080106,
          0.10969363138259507,
          0.24773150823342843,
          -0.31480784340254314,
          0.11826741496424753,
          -0.16692418663633585,
          -0.5054437729874185,
          -0.24955478869249226,
          -0.8928880605580952
         ],
         "y": [
          0.16749122143511241,
          -1.443523494882883,
          3.001973452807006,
          -2.78427036523834,
          -0.24875327783080628,
          -2.166728505968137,
          -1.6232555772845825,
          5.894310879638685,
          1.5574176091350982,
          -3.8020798838842262,
          -1.5613954804079422,
          -6.5781376493757415,
          4.825031253595105,
          -2.568296660129305,
          -1.6504947508482555,
          1.4766361882570835,
          1.549012522733761,
          -2.2908730961917727,
          -0.146664930869927,
          -2.2120794460201108,
          -0.5648242823555514,
          -0.797718543126452,
          0.9224366521999334,
          -4.120917252085876,
          1.4150865173353433,
          1.8293359897720143,
          -3.163844676168077,
          -3.2867305971822165,
          -5.007553191481705,
          -1.622644705709221,
          -2.681262437492442,
          1.738177058357397,
          1.017035148069959,
          -0.04637261110835747,
          1.7728403529574575,
          0.4774703623230003,
          6.232703835181786,
          -10.156826760488128,
          -3.991762271238464,
          -5.636783823294288,
          1.5362532531596853,
          -2.1264331224364525,
          0.6339707136214394,
          -3.8424869742555368,
          1.4170080879384965,
          2.4047206022678824,
          -2.207083519283845,
          -2.249816272930688,
          -7.975785140174506,
          -0.8478878727515923,
          -3.443162291226399,
          1.226096829081015,
          -2.7931873275434786,
          2.6294565254139224,
          -1.5298926804235358,
          1.331360163888485,
          -1.8014828723175123,
          4.01829221854519,
          -0.024112203947092493,
          0.6059530768018452,
          -1.0435351134905966,
          1.1142004695295766,
          -0.9497737292824046,
          -0.1971254579338606,
          1.8972815228285451,
          -4.719664068831247,
          -1.0563959399755554,
          -4.562317939115778,
          -2.7599015623282432,
          -2.698656725554939,
          0.18605060964627107,
          4.319411399869027,
          -7.849400161853689,
          2.1545605220471526,
          -6.680307473436816,
          0.36415477830697396,
          -3.5005231268090484,
          4.189743458657705,
          -7.713009811177783,
          -1.5956205845850302,
          1.4735387830704922,
          -4.204577464275947,
          -3.315832365267305,
          -0.407429605504,
          -3.3950807114847192,
          -3.833279578590114,
          -1.4690022571768415,
          0.6390334194768389,
          5.15384647649923,
          2.910237079523522,
          0.3805172894877619,
          1.869972452114255,
          0.6183847467948146,
          0.43241340470174416,
          -3.739150895453031,
          -7.825570142210176,
          -0.7311443781383407,
          4.561165930898196,
          -0.8917397817790846,
          -2.336607206825347,
          -3.3372496221077452,
          -4.842331258689449,
          3.750188117946283,
          4.694906384256017,
          -1.7567424110346368,
          -3.9459190759693077,
          5.525132370035184,
          -2.7632399461328485,
          -4.358862802007737,
          -3.642516964218461,
          -6.569160402877776,
          -1.6208435459652912,
          -3.8480609660104035,
          -1.707943247481125,
          -1.8970725726877828,
          -0.08483770923198625,
          -1.713488884997263,
          1.6975945593330184,
          -4.020962683888335,
          -2.034326622035999,
          1.6236208376657004,
          -2.9565183414730964,
          -1.1045489078844746,
          -2.6627522537470942,
          -1.8067647517729977,
          4.609833657324757,
          -0.031997368009125345,
          -5.321123746267178,
          -1.9807204789799764,
          -3.784187404651946,
          2.3623005860148965,
          7.13299817887994,
          -2.1790851218971112,
          -4.144713787132653,
          -0.10396350168997014,
          -5.677688129324425,
          -1.707159191012951,
          2.3640919569569125,
          0.3506027121931269,
          -3.876091041730223,
          1.6241412574058134,
          -3.1695331852460384,
          -2.189238284790082,
          -0.29452132837841605,
          -5.350313117785516,
          -4.416849534698302,
          -1.7341571090746886,
          -1.3040448519379173,
          0.6175204303144035,
          4.758581401758729,
          -0.43851763909953634,
          0.583068473495564,
          -7.888046860933119,
          -1.1858463581982537,
          2.1512682142385624,
          -0.16348334530138048,
          -2.77553831642056,
          1.2872373003673538,
          -1.4856057838944243,
          -5.3138557095681795,
          1.4793292307524408,
          6.323394677232539,
          1.8880901846461715,
          -2.5483666358653614,
          -2.3882015687508664,
          -3.2898113858238127,
          -1.5316577908529698,
          -0.8672325479581907,
          0.15936391592093693,
          -1.7753841115594247,
          2.5657087550646054,
          -1.8786642367985582,
          -1.1696029341987537,
          0.8370878872759818,
          4.124496147071896,
          -1.26195919469735,
          2.162862588827601,
          -2.6234899879422438,
          8.025074169180057,
          -3.977026150309227,
          -5.202170656048569,
          -8.419125870277156,
          1.1201565289480353,
          1.264830572559754,
          -5.564171311768762,
          1.9349495582863236,
          -0.39011227765636924,
          -1.362693957929999,
          2.760743595622515,
          6.916284579219258,
          -1.220576060336466,
          5.910454627057528,
          -3.914134025969447,
          -2.1462051438797185,
          -1.7296930217240754,
          -2.9523332005433334,
          -5.288082044031869,
          -6.002276648354637,
          -5.170751860358122,
          1.827005104310331,
          -1.4693766958389052,
          -5.217176445814313,
          -1.6084152517020314,
          -2.036557424580213,
          -0.16793554595346055,
          4.33875670000021,
          1.4725107374995456,
          -5.352533642948104,
          0.7782797214185276,
          0.4902557995097154,
          -3.7306721130228864,
          -1.829928334550345,
          -2.257839865978856,
          2.5780742623483883,
          -5.4184694568909055,
          -1.97280539173746,
          4.612381162097692,
          -6.327003416541144,
          -0.24762824374870107,
          1.210937377641201,
          2.185137138259911,
          -0.7538475439121152,
          1.6096362521317207,
          -3.300637004563438,
          -2.862365889560102,
          -6.592588698691242,
          -2.1064465694736656,
          -6.434217489796017,
          -2.9363356280536403,
          -0.6036493994951923,
          2.6296968446831808,
          -0.2815049885587977,
          -1.2708773295386853,
          -2.617122487691387,
          -1.0801787545427488,
          -0.12715866495094402,
          -4.740308378762589,
          -2.380728395997178,
          1.7419894519334482,
          5.2457754295863275,
          -5.075843283292771,
          -2.6223416245467477,
          -2.936655938118411,
          1.9148437636090292,
          0.03106942985343844,
          -1.820606919096082,
          3.1405131593330546,
          -3.2394158609191197,
          -2.8130138965431195,
          -0.1695311778972726,
          -4.410262053436668,
          -3.9922633552272915,
          1.9981848016549777,
          2.3574179730439595,
          1.2128487592452295,
          -0.48098041556958704,
          2.915280518369525,
          -2.4994688362746045,
          0.8617587087823062,
          0.623231366144111,
          -6.967658324180948,
          2.0357126325575106,
          -6.5160853744499745,
          1.9020753359757,
          -0.3884192811652678,
          -0.6253247042625737,
          3.6723837317116605,
          -0.5550210349539388,
          -0.10666051758715676,
          1.8398484332974891,
          -5.4871497783041345,
          2.9523441483658868,
          3.7171251474221574,
          1.681269639264655,
          -2.3111064175289986,
          -0.5221974579147571,
          0.5891391039992473,
          1.7543572573118564,
          1.1128096298646373,
          -5.9484876272498814,
          0.32286988834421226,
          -0.5732053816548267,
          -1.8271014785762343,
          -2.5124088899577113,
          0.4365923592715651,
          -0.5896893321320176,
          -1.774771133547527,
          -2.5620343271925994,
          -3.640130762986468,
          -1.869929629459838,
          -0.4021951222492246,
          -6.5170801027408345,
          3.208296129471384,
          -5.879584338246598,
          -3.561802676458758,
          -0.060938491658684035,
          -2.6010191333526604,
          -2.9429349209612,
          0.1560943824643802,
          5.548961891457175,
          3.3615215868866914,
          -5.311320887845394,
          -0.7654717252338357,
          4.997792875090232,
          -1.9715210634243656,
          2.140776189720682,
          -0.7696139361815305,
          -3.4750501639486107,
          1.627848088512644,
          2.189831038537376,
          -2.984140499845921,
          3.9224119365526544,
          -1.9377553803968297,
          -4.56329779495705,
          1.2132674491308584,
          4.598120371234113,
          -4.086196380125565,
          3.685504728063974,
          -5.125491596863018,
          0.9174888506191369,
          -3.68445102591783,
          -5.172333301598922,
          -1.698002470800773,
          1.6150774939097967,
          -0.9215406221643793,
          0.665885619891599,
          1.6764281159584307,
          -8.237424018921791,
          -2.3523734251821047,
          -2.0364470239692563,
          -0.784563151218605,
          1.4785427078674538,
          2.268499406225799,
          1.0029549515782712,
          -4.914318466830047,
          0.21116250006888787,
          -1.8066191723752,
          -1.1576814872909886,
          -1.0473999724593808,
          -1.1188379010768057,
          -5.566395326522137,
          -2.282411492335727,
          -1.058636935311867,
          -2.397489496779131,
          -2.5652198749668633,
          1.1223316767325908,
          -2.306357038399715,
          2.4302658808963873,
          3.0347282747332187,
          -2.279191805897108,
          -1.7242203256704383,
          -6.6222942096320105,
          -3.5670761918312928,
          -2.8558651490592117,
          -0.38673627716882525,
          -4.526658866272353,
          -1.8644402967494629,
          -5.592073315480673,
          -10.03517409869697,
          -2.828033262426568,
          -2.5284132132163886,
          -1.328634079295666,
          -0.8676488110886302,
          -5.710725095799323,
          -3.217478653328008,
          1.1979103763500838,
          4.775043389067557,
          -4.687727988801356,
          -2.8136515868187275,
          1.5231960570891847,
          -4.156976397901232,
          -0.31229020292090137,
          0.8469625684523066,
          -0.046175476096015355,
          -2.0860774160014723,
          0.7250364778127683,
          -2.311128745407955,
          1.8185134213133627,
          -2.1222154080354985,
          0.7252682824231582,
          -5.504659616459417,
          -2.726243104877169,
          -0.7046552342382899,
          3.2264676521560895,
          -1.1177840694567887,
          -3.6500177733445445,
          -0.3907301462772981,
          -5.041252953419432,
          -0.3674727140899883,
          2.0998333946329955,
          -5.575031211384793,
          -5.497779097730839,
          -6.173083888072148,
          -3.663327925422994,
          2.4254421737532557,
          0.051240498878062486,
          -0.6734549560182519,
          -8.32118724514228,
          -3.874123684269712,
          -7.411703819051302,
          3.0543017588873242,
          -2.873309965928854,
          0.044647210296408904,
          -1.1285169460652935,
          2.1884314689256907,
          -3.7598564716748406,
          -5.32895779881891,
          -3.7689108512400735,
          3.2298536190860374,
          1.7042107097934935,
          6.643614231899975,
          -7.3229614627025805,
          -0.3063691866962053,
          -4.700038582518352,
          -2.2677169102768198,
          -9.838463312082355,
          2.6238947701918205,
          -0.7783921235402164,
          0.1877252362704952,
          -0.22397026368258144,
          -0.9966006990466394,
          -1.3655635108226023,
          -1.2670174004541073,
          0.009773655820796808,
          0.03637119990168252,
          0.9666885278794252,
          -0.27714270856683265,
          4.209611337527372,
          -3.387010154965967,
          -5.56118225532026,
          -0.9170096557930385,
          -0.9479602704702441,
          5.263064579144949,
          -0.21160340369939357,
          -3.8477410837829704,
          3.384833906394949,
          2.682087867985261,
          1.2842217157202271,
          2.036472260377686,
          2.4429275523377307,
          -1.7621006154468262,
          -3.069205584389987,
          -4.7634838765088645,
          -1.7939471367137534,
          0.16370835744800805,
          0.658315148498325,
          2.4320145678893503,
          2.3055483557017054,
          1.6140700595059236,
          -4.66826334431969,
          -3.0037564734410935,
          -0.4145031754475573,
          -3.2534957118781573,
          -0.5694930780887908,
          -2.4871906749785295,
          -0.14159320033432193,
          -1.8774076844441736,
          2.487751860482642,
          1.8013187137004216,
          -0.7398280757491978,
          0.8296138122597767,
          -2.356316646367871,
          -2.2603998257425966,
          1.1737630371854937,
          -0.14836111902637375,
          1.5331537826999886,
          3.287847912584067,
          -4.695478484403613,
          1.361501385736014,
          -6.847881636935869,
          3.064967308365152,
          -0.3775398816697092,
          -1.204195371007647,
          -2.5587525867503227,
          -4.284794242178248,
          5.129756144001841,
          0.21771333108626173,
          3.169263038437711,
          3.212443045387003,
          3.3179402661500124,
          4.943029892817165,
          1.6762338810086057,
          -4.087330885351182,
          -0.6612707074742167,
          -0.8788728261369385,
          1.4286368545442651,
          -1.6950059033367173,
          1.5940995833657063,
          -2.699277393056912,
          -10.62872739425619,
          -0.829520848240807,
          -1.6614846313920912,
          -2.767102646947838,
          -1.435404864269786,
          1.1419084866488969,
          -3.4365213337355187,
          0.5218754745538668,
          -1.4222005869344723,
          1.2180535349105008,
          -4.227403837831693,
          -1.3725173292650827,
          2.578349332426458,
          7.43579563065528,
          -5.549965436184765,
          1.746073294353659,
          -5.240884804425446,
          -1.4318686280886048,
          -1.9430233559290107,
          -4.491250394466472,
          -1.232556997164123,
          -3.4175435224773514,
          -0.8893536820063153,
          -3.8658980280459363,
          2.1855487204053112,
          0.920787812508136,
          3.387400892217405,
          2.808249596308636,
          -1.9686648448642021,
          -8.964222811097612,
          -0.742385913211536,
          -1.3972142313803388,
          -0.42906418133911717,
          4.18682055773749,
          2.974199625401704,
          -2.279615800322505,
          -1.9312690310662122,
          1.7440105454768033,
          -1.5030134327386973,
          -3.3393745516872055,
          -0.1833498437122808,
          -5.104049844887983,
          -4.063053054504918,
          -0.4463482479097379,
          -6.074753755451222,
          -2.7656649315248876,
          -2.503311797520154,
          2.8889177115509286,
          -3.877745892990387,
          3.3753806595585223,
          -2.1219021587097107,
          1.0801883216077486,
          -0.16094503389269166,
          -1.564986203673356,
          0.10846288610188579,
          -1.950112026661009,
          -1.1745810557156264,
          -2.223863392736904,
          1.6787103324084007,
          4.515025097863771,
          3.1667152750400476,
          -2.398642399804563,
          -1.6525913177089846,
          -2.8179920178945412,
          -0.18300341340130713,
          -4.019229101899963,
          0.22398823866405654,
          0.5968987448525198,
          -2.4483317955111694,
          0.9942102728151903,
          -2.8623413996091727,
          3.15617297085128,
          4.8763778315445245,
          4.15901605361296,
          -1.7665076178673231,
          0.20580923903025716,
          0.9239738098013817,
          -1.748194444135791,
          -2.30372092193175,
          -1.6603288625347725,
          1.3978316132557755,
          -0.8723004965674215,
          -3.147122419290686,
          1.695854309974451,
          0.6846232470522662,
          -4.000389846505927,
          -5.695954363510476,
          -5.366360877087404,
          1.9153028023977492,
          -4.406458582966031,
          2.7177834745934675,
          2.100137388412964,
          -0.510107146089565,
          -2.0940178073256375,
          2.465951234222326,
          0.20720557043298238,
          -2.287150284619487,
          -5.14088791084271,
          0.6296562145542706,
          -2.413069126636825,
          -4.162302179610505,
          -0.18497381006793395,
          -1.2404410385366333,
          -0.37334975635166207,
          1.972304078212869,
          -0.6703371208305817,
          5.396991571082706,
          2.0252860252935836,
          0.3879531799778171,
          -5.133612288757359,
          0.736060259279038,
          1.8070597755461653,
          -4.60904876819652,
          -2.3032181821056272,
          -1.2848419189885718,
          0.16651769964176238,
          -0.1193095505904822,
          0.738774582008742,
          -5.595595894561637,
          -4.431741260804671,
          -1.2630888210812035,
          -3.5358953859762186,
          -1.0656332596068947,
          -6.140452600254566,
          -3.236815973821641,
          -2.870118270930713,
          2.062019539301902,
          -4.098045457713655,
          -4.393483682406412,
          -1.6552075156954664,
          2.5670905685316914,
          -0.4915641831557633,
          3.0787914764865527,
          2.2734220981465545,
          -3.209290846091086,
          -4.948713191049897,
          -9.017824516495924,
          2.0731651875989314,
          -0.307400117763426,
          0.9444707344976201,
          -5.198868544920842,
          3.1457603612436134,
          -0.5268279945848794,
          -0.6906155758986919,
          -1.0986044543299827,
          -0.14946579907649743,
          -3.79674549814947,
          -5.416754724918763,
          4.156719390255843,
          0.8692747003010535,
          0.4768136996886876,
          -5.151910847983856,
          -5.986309827711786,
          -2.365005281415201,
          -1.6052236482434012,
          -4.159578247590539,
          2.5130565102888314,
          -2.8083097566165858,
          0.6135723162098001,
          -3.8112844345019194,
          -1.727752441143262,
          -2.2984189047946284,
          1.025328232932154,
          -1.2373308206935603,
          1.6056964549653439,
          -1.5009826882028032,
          0.12471393904577861,
          -5.606993178076936,
          -0.29079447054082586,
          -0.4560719995411164,
          -2.701564752187944,
          -5.431319676316727,
          -0.3585265855946138,
          -1.1462195393713237,
          -4.816819844732068,
          2.1341205840805357,
          -3.6556104821114763,
          -4.051043221666686,
          -6.5115974077800525,
          -2.804580512618782,
          2.095495757960374,
          -5.277009396870381,
          0.19851189306818343,
          -1.0394489135510034,
          4.00731737259454,
          -2.3488301539690117,
          -1.3248354690885678,
          1.4923565290064753,
          1.9181091546640574,
          1.5911566825000438,
          0.2081420993270769,
          -0.8390359338144483,
          1.1275410909552546,
          4.39723523323983,
          -1.0783207819219778,
          -0.12760002377077803,
          -2.031421151163462,
          -5.24715461751144,
          -5.147345901828808,
          -3.868957987333036,
          -4.190781373269881,
          -3.9827580906251865,
          -2.542311505095308,
          1.6213505504186037,
          1.3180366772164682,
          0.6643404261609421,
          0.9703166045544414,
          -1.4691150404569622,
          -1.347379020863026,
          0.8978914713880999,
          -6.265769256471527,
          -2.3407783497174615,
          -0.0733078636365046,
          -2.702944761450525,
          0.5171025792927124,
          1.930057531954741,
          3.4477785857462964,
          -3.8738677628515883,
          0.9755939018274369,
          -2.7738221022718217,
          -2.490617907889675,
          -3.2045358875278627,
          -2.822943915603608,
          -5.288006686061315,
          -0.7864529572174639,
          -4.652041114043197,
          -0.6590770319048103,
          0.9982882472968084,
          -2.4790157262908448,
          -6.621615947745594,
          -5.314344824196522,
          -4.233570632313229,
          -4.791896130186728,
          -0.6104899786174725,
          -2.309672177118771,
          0.6875461949425522,
          -0.5757163018469414,
          4.211147861917337,
          -1.619546376067255,
          0.3437368458037734,
          -1.4880633940032066,
          -0.75208007630329,
          2.4340065383573424,
          -6.388907752034702,
          -2.0051829336625793,
          -0.8543155185317926,
          -4.251996456106158,
          3.1671172362597297,
          -2.5586518782123293,
          1.1703189283328286,
          -0.1663138668912606,
          -3.6200004273923083,
          -4.97078141327777,
          -2.3488570324980453,
          -6.623498679373184,
          -1.9024637869945427,
          -2.8463245052959207,
          -1.790404483757008,
          -2.0685144549782466,
          -5.00255527793573,
          0.636887135123782,
          -2.895349547207362,
          -2.8077830930825356,
          -5.4447979481377375,
          0.7142880359709801,
          -0.25927920475845856,
          -3.0966797069847676,
          -1.6021825072521878,
          -0.6134517442779943,
          -3.912066530598606,
          4.428916920551899,
          -4.949943041621534,
          0.25230408484350575,
          -2.664765785017253,
          0.8711801966942512,
          0.2899563863680985,
          0.009586729018512236,
          -3.748526409553373,
          1.8334054157718116,
          -2.5087674097484216,
          5.133450753092835,
          -0.4340814277039264,
          -0.16030460711172959,
          2.4264587391733863,
          1.0137369242101057,
          2.9981808798320024,
          -3.937862889765831,
          -4.478994346412881,
          -2.0964710390765524,
          -4.441318049501416,
          5.533240584540878,
          -4.78881319075866,
          -0.7939464731876841,
          3.9278774342451275,
          -5.017299936814321,
          -0.7870586889939221,
          -0.8471633123844204,
          -4.79641445697848,
          -5.112299871855585,
          0.03291406917712905,
          -3.413211616676755,
          0.8754240876465306,
          -1.0395857437578613,
          -1.4463461624142169,
          -0.6732365633925429,
          0.6443695325287778,
          -0.7016310148886339,
          4.9380339136855325,
          4.625630534426474,
          -3.7018182217410467,
          -1.7584027507982778,
          2.6828459829972635,
          -2.053884633299646,
          -5.8205580302335544,
          0.7194896774162851,
          3.372242022444505,
          -3.0489248941459794,
          -3.4520423005444973,
          -6.9187793207111214,
          -3.0119741444309533,
          3.0401724368752023,
          0.8070508177246984,
          -2.926796436635248,
          0.919188918794799,
          -6.177621174008423,
          -2.088828024208076,
          3.3260241402703343,
          -2.306367078580492,
          1.4930321442587737,
          -3.3700203069386836,
          -0.8785975938878943,
          -1.0501965145074268,
          -3.7285575593900036,
          -2.0664772831971288,
          -1.2529525396300967,
          -1.4373525799845916,
          -3.430489639554302,
          -2.415956945265948,
          1.4464071543951118,
          -0.954993756917291,
          -4.23911929475453,
          -5.208598343523392,
          4.579376447983809,
          -4.240000660371945,
          -1.685896555385999,
          1.0752112082318435,
          1.1330045221271372,
          0.8054534661675365,
          1.4142644179628039,
          -6.729132126986582,
          0.34189527924366736,
          -3.3492134361330232,
          -1.5693129861647306,
          -4.460911441708971,
          -0.030269759201747043,
          -4.0793273665351295,
          -3.226567687247126,
          -1.517313392898496,
          -0.36758174385347053,
          -4.458307837269451,
          -1.117695531386767,
          -1.536783938125677,
          1.4953881702487974,
          -0.3642277943890643,
          -4.265355340427713,
          -3.541987597033322,
          -4.315063624195512,
          4.157876697673789,
          -4.120098289613822,
          -0.25418720376403336,
          -0.1349146640123016,
          2.027632363504912,
          -4.841342800277814,
          -0.49801796318842667,
          -0.16932064341644112,
          -4.4325627945962465,
          1.221526905559876,
          -7.269817490381074,
          5.4881076112095215,
          -5.224486995010574,
          1.9645674019151222,
          -1.1327941721669132,
          -1.3550192427051218,
          -3.582505137215377,
          2.2221192185332885,
          -5.760110801430047,
          2.5104821354250357,
          0.7798040108190295,
          -0.0871939350995112,
          2.7833902637156642,
          -3.113509336731017,
          4.3526203466017215,
          -2.7260656412404685,
          -4.961441209918266,
          -0.25079006866499665,
          -4.5882640315258865,
          -3.2682211586377248,
          -3.5426931129526515,
          1.4153523826142171,
          1.904066091130801,
          -1.495777045678215,
          -3.0113173214584776,
          -1.8310415918648042,
          3.6837464667642315,
          -4.005129450092369,
          -1.0233080895548348,
          -2.19338457418203,
          -6.787082644519377,
          -5.1617023568922775,
          3.941602480915703,
          1.5200626899990572,
          0.5347322574954143,
          3.6783477737879346,
          -2.374389483701725,
          3.4731993002509474,
          -6.920611832852235,
          -2.6366477357820424,
          -0.022213711134279716,
          1.3716098560715386,
          5.617737647557863,
          -2.0372417738404915,
          3.138619969988744,
          -5.452886652288515,
          -1.544435932007947,
          -1.9431293124673532,
          -3.6651142686356675,
          -2.506215132995662,
          0.23822135387965607,
          -0.29594647440179345,
          -2.955668034416558,
          4.050558918718732,
          -3.6195213532173116,
          -5.157799611541088,
          -0.5503348514016664,
          -0.37560333061376555,
          -2.662445803140604,
          -3.885463682946465,
          -1.4653302114665074,
          2.8539483747232497,
          -2.665267953155625,
          -5.633661672077711,
          -3.81720958022175,
          -0.9071854282085448,
          -0.4424385238699411,
          3.258645510296759,
          -6.402591157111036,
          -1.060894649880821,
          1.459826064326828,
          -2.448549120508158,
          -5.755970223702406,
          1.7151070996529223,
          -4.9424516238525955,
          0.12461066679451839,
          -4.375585021432328,
          -2.7679953632340055,
          -4.143165445966534,
          0.9688385732420375,
          1.6436638396257874,
          -0.2488415074886813,
          -1.8279259380299677,
          -2.3265831892223807,
          -1.622719574715204,
          2.320666094025252,
          -0.06220317771670977,
          -1.226342371720977,
          -6.666932833192798,
          6.984194259805178,
          3.9626572928195594,
          -3.074007181280273,
          -1.4950682645386544,
          -2.554346331371151,
          1.3181066471593104,
          -5.037346035065936,
          -11.461411115948955,
          -3.196918377209029,
          -2.793908824171439,
          -2.73416419097183,
          0.8367643544405747,
          -0.029594200547367965,
          2.810085817951525,
          1.5510843926692983,
          -1.8655715933880936,
          -1.7298172084365377,
          3.7211669965444885,
          -3.219157537843511,
          -1.1391010027623532,
          0.7819413571095646,
          0.32105121817833804,
          -4.183834761684015,
          -2.5547892253673252,
          0.8579670740684443,
          3.1352213917180913,
          -0.08167297917505778,
          -1.345696396434757,
          7.506847748308298,
          -0.02941326479934553,
          -4.054440461469065,
          0.5364515348805521,
          -5.70150691579313,
          2.6970038272429346,
          -3.090293658776609,
          -0.5537370588554567,
          -0.9076650158158999,
          -0.5327521747313294,
          -0.029015794639328074,
          -1.7829973917062962,
          -0.7234991068067578,
          -1.5997358516617568,
          -2.5988843129309505,
          -1.672176985225757,
          -3.6632649575331953
         ]
        },
        {
         "mode": "markers",
         "name": "retta ",
         "type": "scatter",
         "x": [
          0.3697912231275372,
          -0.1522715410311959,
          1.2949490268356414,
          -0.6401194626897339,
          0.28831091346404186,
          -0.3840029221497643,
          -0.13929610099138554,
          2.257518663894492,
          0.8539173813633567,
          -0.9205959361791941,
          -0.185917799843242,
          -1.8989742374016996,
          1.9821343977017658,
          -0.6013668429225342,
          -0.22070500060750375,
          0.7990193574692399,
          0.8246176050151848,
          -0.39371605221052575,
          0.3179915403153519,
          -0.3915515583307807,
          0.16410521624480606,
          0.07090998964214179,
          0.6090516380078045,
          -1.0694482812570896,
          0.8814444476804313,
          0.9276481270919011,
          -0.7415759985755368,
          -0.7791456512971853,
          -1.3250848227139573,
          -0.25537493294635183,
          -0.5714330119673271,
          0.8884327702971679,
          0.6208392100404672,
          0.3172658151153796,
          0.9301344422993105,
          0.45640295088507504,
          2.4445649908614873,
          -3.1007532704247285,
          -1.0017649196604121,
          -1.5764777803014158,
          0.8407230423653517,
          -0.4122212988571141,
          0.5164852968038374,
          -0.8963209641641264,
          0.8210551996932673,
          1.0825764459174987,
          -0.35896003618345784,
          -0.416373591906683,
          -2.3182395431066056,
          0.0356756354280955,
          -0.821404597238674,
          0.7069272773412559,
          -0.568081715211379,
          1.2175133108641998,
          -0.17445746919810046,
          0.7292962264482866,
          -0.29770660267800086,
          1.7009566707309058,
          0.31110262903620656,
          0.5222655736790531,
          0.021145208577617394,
          0.6998262464456313,
          0.018893110528473717,
          0.25068724917710306,
          0.9524027540901578,
          -1.2392884251653267,
          -0.014616057914589156,
          -1.2411451216193072,
          -0.6580742916744221,
          -0.5926530137419865,
          0.4036533330011778,
          1.752146461442136,
          -2.2062030749951003,
          1.0805354010405537,
          -1.917003680192857,
          0.4466554954457689,
          -0.8284927472875622,
          1.7446971266857048,
          -2.204186947885988,
          -0.15663422404603786,
          0.8809050507200895,
          -1.0756548596720028,
          -0.755282844090469,
          0.16639374184506195,
          -0.8137426157313838,
          -0.9170706952490012,
          -0.1708404269794756,
          0.5285312530406534,
          2.068117205903815,
          1.2863504012791809,
          0.43067064215024986,
          0.9005750284239262,
          0.5721634286030648,
          0.47006608512334574,
          -0.8399488651320244,
          -2.2633500992344207,
          0.11952299629061486,
          1.8590815707537747,
          0.06387066798980631,
          -0.420233795415513,
          -0.8088260507505362,
          -1.2762922890303088,
          1.633325478520992,
          1.8817853949055507,
          -0.2752696347460168,
          -0.9673307333241163,
          2.200687992414232,
          -0.5629189000912982,
          -1.111175824424996,
          -0.8247745812980862,
          -1.854965756973237,
          -0.15875404341173785,
          -0.909302847637271,
          -0.2340586585400788,
          -0.30019168370868743,
          0.35097640558433374,
          -0.23944543993459663,
          0.8780597614685368,
          -1.0845673001432317,
          -0.373566277153441,
          0.9043220125217937,
          -0.6827489174329217,
          0.02628009822320145,
          -0.5535316087634048,
          -0.27472768321671803,
          1.8675904752505847,
          0.3060662742415513,
          -1.4460003545914504,
          -0.25501301360383377,
          -0.8754048423456127,
          1.1216403693944081,
          2.7616682732105113,
          -0.41994719324219715,
          -1.1139880521593544,
          0.33257052565867967,
          -1.5207650581591663,
          -0.2705335707190535,
          1.1064051915581967,
          0.37966725759140424,
          -0.9665747441954397,
          0.8949172666637595,
          -0.6852284575402313,
          -0.4150693236252966,
          0.28370447457224574,
          -1.4722797620894,
          -1.1403868646174833,
          -0.25633013394324516,
          -0.028688568202710034,
          0.5141209957157418,
          1.9197068118464033,
          0.19232935047924063,
          0.5220922907845067,
          -2.2972549613478,
          -0.08467684768608338,
          1.0210175462631617,
          0.27348399941651375,
          -0.5452969483900035,
          0.7654461653949977,
          -0.14792939421810578,
          -1.4398081708424069,
          0.8448728065707707,
          2.4567041449808955,
          0.9992066773605456,
          -0.5710363254809981,
          -0.4070857889829875,
          -0.6913829493451136,
          -0.2023749175842099,
          0.045844146233405256,
          0.3723976910394757,
          -0.24467824537196906,
          1.252700897566119,
          -0.2917447409612437,
          -0.03545923089138299,
          0.5908159587113833,
          1.7036566402595414,
          -0.048523406263682144,
          1.041490323427106,
          -0.5216117772746784,
          2.9901061268613627,
          -0.9850146761315807,
          -1.4037698786635209,
          -2.474362924446793,
          0.7465576654160547,
          0.7502728047450632,
          -1.5554026401346228,
          0.9965527756380803,
          0.2837353074005322,
          -0.15185560212957705,
          1.2502544620418825,
          2.5987340545785416,
          -0.04365827743602493,
          2.2615810906307106,
          -0.9955008897543772,
          -0.363489737025142,
          -0.22437670303677704,
          -0.6548734673485732,
          -1.4122834747145818,
          -1.6666360034249506,
          -1.3731073726661647,
          0.9580897129210906,
          -0.16473306446373623,
          -1.4137031973588516,
          -0.15812984407524108,
          -0.33204823472032013,
          0.23580624592298738,
          1.780037190926481,
          0.7656693604808551,
          -1.4768379316370688,
          0.5750052686401539,
          0.5168217692234516,
          -0.9214118627850655,
          -0.21507358683566874,
          -0.46254403206954364,
          1.180290461500168,
          -1.5298935331966972,
          -0.39398822249904314,
          1.8680719857054557,
          -1.8147148699240758,
          0.2667235350191644,
          0.6911657144087427,
          1.1054635571085842,
          0.11179070231463553,
          0.8295855576845734,
          -0.7493710358754707,
          -0.5985885389309569,
          -1.832904115547471,
          -0.3687083522719266,
          -1.8216407375412658,
          -0.697507678756367,
          0.17067754955841705,
          1.1659432072857947,
          0.2528875121627568,
          -0.09217871476433047,
          -0.5780552735385296,
          0.022092926232534116,
          0.3143229314260251,
          -1.230656469968182,
          -0.39519485019414163,
          0.8892398685981586,
          2.047582979459488,
          -1.3444885396116428,
          -0.5989867317523059,
          -0.5842538352105686,
          0.9559489329478743,
          0.41385986298664235,
          -0.3528219582996125,
          1.384307434517315,
          -0.7362174523825277,
          -0.6176132618054345,
          0.3277238332049803,
          -1.1441644071399484,
          -1.014121470913975,
          0.9829425217947936,
          1.111119590643009,
          0.7670356148370188,
          0.18234228137206954,
          1.2982081498632219,
          -0.4904125140158762,
          0.6059674669835836,
          0.5414479110632395,
          -1.9339739511627438,
          0.9989999175239399,
          -1.7915629218379339,
          0.9351099208036875,
          0.21361422987203818,
          0.1374715753509737,
          1.5974174342951641,
          0.16163540964801454,
          0.2995797198614746,
          0.8893780191489906,
          -1.4881863440744576,
          1.2918264181207393,
          1.5023958756021896,
          0.8971891206096417,
          -0.4590965510354401,
          0.18707837524139767,
          0.5547611877912927,
          0.9172019238949729,
          0.7522199945563682,
          -1.6326087367651696,
          0.38838956068467057,
          0.14745281145797087,
          -0.31012977267964,
          -0.4931047426172753,
          0.4614922138732902,
          0.21911480204882935,
          -0.2696931390631805,
          -0.5488528686255049,
          -0.8646718229255329,
          -0.28878334658913357,
          0.15591523365705176,
          -1.8487288090920757,
          1.3406999052723234,
          -1.592981724033259,
          -0.8311763003810795,
          0.32316025449406166,
          -0.5223113253264645,
          -0.6167084026134215,
          0.35297577477189074,
          2.145066961911711,
          1.495702094328919,
          -1.4757582598351866,
          0.06142614823337514,
          1.9773959077598746,
          -0.3119878456751037,
          0.9884271357957279,
          0.07581744159018586,
          -0.8264433245676213,
          0.881350962130408,
          1.041600837253535,
          -0.65053086249323,
          1.6795202142066366,
          -0.2913973192872474,
          -1.1552374454978533,
          0.7437035999502645,
          1.8104263501854396,
          -1.0356975653802798,
          1.6025976388147316,
          -1.3542660370091482,
          0.6050553852504091,
          -0.9152707384538661,
          -1.4276671903013938,
          -0.17813573232839852,
          0.867729362229166,
          0.045196943426836805,
          0.5120911076287602,
          0.9204190187838743,
          -2.4589179292670718,
          -0.45636841758770846,
          -0.28937186378723173,
          0.10470644433299323,
          0.857510263657202,
          1.128423460044637,
          0.7299595640092941,
          -1.342826856512945,
          0.44195535604070263,
          -0.2146354167226673,
          -0.07400723954359018,
          -0.03437900677402277,
          0.10346158366586952,
          -1.5335462045099753,
          -0.4125605897841576,
          -0.027576861848841422,
          -0.4846279649753411,
          -0.5129928001580444,
          0.717889598300435,
          -0.4555790981820493,
          1.1578010429272652,
          1.3517597521446614,
          -0.4276598666758565,
          -0.23679806488551192,
          -1.8248061994553928,
          -0.8496642936493091,
          -0.6070016059395624,
          0.10485067421795137,
          -1.1902716212117068,
          -0.28847673464969065,
          -1.4770485151650021,
          -2.9936727140825856,
          -0.6155144415191053,
          -0.5335561242698197,
          -0.18055638803532983,
          -0.0014962636520519917,
          -1.567683727682599,
          -0.7310849444215629,
          0.7620218744155492,
          1.94234719937134,
          -1.250269839489684,
          -0.6002720867682808,
          0.8712790204035298,
          -1.0384675462062738,
          0.28224416382088374,
          0.6255438230545043,
          0.26772660023440725,
          -0.35210032608392594,
          0.5335295674806061,
          -0.49123387090577403,
          0.9119355751800771,
          -0.35367713932240935,
          0.5857188279753442,
          -1.5123022202272831,
          -0.5963186878783339,
          0.13706470833785994,
          1.4133938034548421,
          -0.09423374236477058,
          -0.9394094228984325,
          0.23412940469390792,
          -1.31315373012779,
          0.1926215912524075,
          1.0471111814268754,
          -1.497663551314108,
          -1.5320356947071674,
          -1.7207434450556796,
          -0.9129408453047849,
          1.1239048973347363,
          0.363094464509708,
          0.10219313608042462,
          -2.431276632569374,
          -0.9671814615096905,
          -2.0805854273267883,
          1.3926235756019407,
          -0.6396182736904414,
          0.3176053958881976,
          0.005123485601686661,
          1.030294022963629,
          -0.882105748819189,
          -1.4946501488351673,
          -0.9225925868433104,
          1.3856087660127758,
          0.8999806701144414,
          2.5465451221986255,
          -2.1316853641332445,
          0.2291712282249048,
          -1.2443984468850413,
          -0.43347556091982803,
          -2.9742641183307237,
          1.1666730536517154,
          0.09937379683326425,
          0.4094686420058491,
          0.24803398420610767,
          -0.01677671805098641,
          -0.11719402782038413,
          -0.14489363660185775,
          0.33122059008114674,
          0.35169685555805474,
          0.6047919615992093,
          0.2811691689387651,
          1.7496872406493307,
          -0.8335701195892795,
          -1.53266769517005,
          0.054289580224497355,
          0.08972256955934678,
          2.0882959652576676,
          0.31597031406862447,
          -0.9244094649646187,
          1.4103430635893845,
          1.2183333268052847,
          0.7183643700640318,
          1.0798480538690571,
          1.183496316401446,
          -0.2881912840916861,
          -0.645274585653259,
          -1.2835999375663998,
          -0.20967633465403007,
          0.3882067113668286,
          0.5455051392293337,
          1.0996489707404886,
          1.134732862011004,
          0.9004587735006485,
          -1.2731073116027571,
          -0.6801996225640603,
          0.17857932918633998,
          -0.764396541619278,
          0.13937520503663517,
          -0.48773444613426054,
          0.3239445792956729,
          -0.2346468926551466,
          1.2082537729568779,
          0.8914356142224776,
          0.095405922131794,
          0.611853927467082,
          -0.48916382399476455,
          -0.463913216979782,
          0.6990025411366766,
          0.34666034850350746,
          0.845999276154017,
          1.4793162109074973,
          -1.1926681334401212,
          0.7706831573587317,
          -1.950382672590253,
          1.4209398491127363,
          0.18150390871863503,
          -0.03584852265379147,
          -0.5069909743327352,
          -1.1425770038234977,
          2.008919832844613,
          0.36912555099638883,
          1.3866622183222796,
          1.439552312859329,
          1.4029268351610782,
          1.950973517924328,
          0.8669905300844949,
          -1.0526055031752475,
          0.06649584263289188,
          0.010452629896494777,
          0.752207146627037,
          -0.20815889483473476,
          0.8542764341445436,
          -0.5891111686215341,
          -3.2226987061844734,
          0.042293223043637446,
          -0.18749741383686563,
          -0.5623251249770622,
          -0.13061857820660452,
          0.7072295462013962,
          -0.7954084364576578,
          0.4634879356785935,
          -0.10023248121360465,
          0.7046954531680802,
          -1.0793317496392645,
          -0.17995511837319117,
          1.201193694926284,
          2.8323147347063427,
          -1.410804464928095,
          0.8744291230191991,
          -1.414713735289753,
          -0.15394644989061923,
          -0.32808553564513904,
          -1.182391892719013,
          -0.07599385622964967,
          -0.7786296903218903,
          0.04570047942896808,
          -0.9395110011430591,
          1.0538378973942524,
          0.6654185098653975,
          1.4319057083168323,
          1.2701768847956771,
          -0.35156228853079324,
          -2.6984884675151077,
          0.09872271655864458,
          -0.1072923071351301,
          0.2518122164828773,
          1.745033773536899,
          1.3572748430791883,
          -0.41461059478619694,
          -0.3120021049063356,
          0.8583659792836931,
          -0.16284595248102288,
          -0.8259271982894486,
          0.25012352667431564,
          -1.3667593604588175,
          -1.0300317790131372,
          0.1857896864498418,
          -1.7426034485366833,
          -0.6085688172747526,
          -0.4446088682880828,
          1.2743583381472898,
          -0.8852536829575992,
          1.458011476625046,
          -0.37266223208045707,
          0.7258438941174287,
          0.2534047668057193,
          -0.20556582016526065,
          0.3543935357836632,
          -0.3087794506809401,
          -0.06881532051605022,
          -0.36085241612872404,
          0.9180016074576054,
          1.8492649962797962,
          1.378530248869909,
          -0.451545435100437,
          -0.2650361880009213,
          -0.6348021580586715,
          0.27398830912225836,
          -1.0311197383214203,
          0.4266627759642551,
          0.5124401769266209,
          -0.44974581004988595,
          0.6963067711237024,
          -0.5769146061613656,
          1.4068134270500936,
          1.9872433342693907,
          1.693027328716507,
          -0.27128867095672293,
          0.34737063110292465,
          0.6210493598066238,
          -0.246461377729721,
          -0.4742926329272504,
          -0.1715495654167183,
          0.8379995741132406,
          0.037638100633768816,
          -0.7268765888277802,
          0.9050344488985343,
          0.6029437646980094,
          -1.0204175673327571,
          -1.5518622962201818,
          -1.4702752054381967,
          0.965906017020541,
          -1.1172959507322637,
          1.2597583736722648,
          0.9790661156382323,
          0.19207600661312818,
          -0.3831289425943694,
          1.0659932104143572,
          0.39716471708405393,
          -0.44306151902509744,
          -1.3794100672513376,
          0.5962336704939702,
          -0.442504318149014,
          -1.0726756436388436,
          0.26517731991037313,
          -0.07831617222722423,
          0.20597133797885317,
          0.9837079998070503,
          0.06481124135145552,
          2.08851957894982,
          0.9859629807240354,
          0.4331420314434248,
          -1.3251891030018763,
          0.5959701826276246,
          0.937211922932436,
          -1.2118282377394782,
          -0.4396510038984632,
          -0.09326913727760748,
          0.3830094386169782,
          0.2867228113694971,
          0.5593033722182583,
          -1.5390540351776227,
          -1.1175436308865416,
          -0.09345951577286642,
          -0.843411307686636,
          -0.003968991869124644,
          -1.693290961653312,
          -0.8025127804109061,
          -0.6208936037805812,
          1.0074736776810314,
          -0.9971838750436058,
          -1.1453325187747723,
          -0.1917812690187328,
          1.2077618221055755,
          0.16017744490537342,
          1.3484708430602657,
          1.0727301002953724,
          -0.6703675886511453,
          -1.227133959458435,
          -2.7188878780065053,
          1.03482914670125,
          0.24049785428206547,
          0.6404806288489622,
          -1.3474104880812352,
          1.3687259998321433,
          0.16255317402069613,
          0.09345952927669401,
          -0.02191485054418039,
          0.25291692066684873,
          -0.8985672730193933,
          -1.4964282880447477,
          1.7034059724568151,
          0.6049671579669654,
          0.5458838370668063,
          -1.3889317278104227,
          -1.6296427928090602,
          -0.39824937349908524,
          -0.20667409316630064,
          -1.0462585240930966,
          1.1858996163059181,
          -0.569293340330475,
          0.48331957750531995,
          -0.9117052601617688,
          -0.25735548999782026,
          -0.4560847801408867,
          0.6908653890055304,
          -0.07703016873600871,
          0.8719988424815435,
          -0.17652308499673344,
          0.35814457434545727,
          -1.5024616639781108,
          0.16120258422922815,
          0.19348553280457126,
          -0.5126975585222283,
          -1.5174377911355585,
          0.17901006056532776,
          0.010200955143806487,
          -1.248670929189135,
          1.0235924427880672,
          -0.9282620587129319,
          -1.0194981363042412,
          -1.8647859479948274,
          -0.5853030740302655,
          1.00981976833482,
          -1.4138049189365787,
          0.38292891077456376,
          -0.032836518532863894,
          1.6570396107512062,
          -0.46375610188994904,
          -0.06701650003936242,
          0.8331488727210513,
          1.0299749041986714,
          0.934077018113372,
          0.42635513675847014,
          0.08766341447922192,
          0.6802767551400455,
          1.806638726821974,
          -0.00954424450523605,
          0.3069157660697165,
          -0.28911196404196493,
          -1.4322780575163185,
          -1.3484737514346863,
          -0.974913229705507,
          -1.0689872882266185,
          -1.0109446061688891,
          -0.5152109877130288,
          0.8632243476765011,
          0.795934059224034,
          0.5227145051026741,
          0.6185147392131466,
          -0.16692511126309897,
          -0.10169164452788013,
          0.6156990284980952,
          -1.7732360957926248,
          -0.4112421548852204,
          0.30279191709978887,
          -0.5414328971552831,
          0.47197704627984693,
          0.9920236529820543,
          1.4720508667719738,
          -0.9797460151877577,
          0.662813367520862,
          -0.6092620062958349,
          -0.5351930515085978,
          -0.7402418370585746,
          -0.5890624687848705,
          -1.32814987111812,
          0.08323349577014684,
          -1.2013770935654249,
          0.1761200738941373,
          0.6616311526681157,
          -0.5525617362768981,
          -1.856311851390777,
          -1.4602469913098701,
          -1.091800777116109,
          -1.272085502844482,
          0.1384875695258901,
          -0.4611541500171494,
          0.5720086489120957,
          0.12770981005297777,
          1.747728849532334,
          -0.21509689718902975,
          0.44981609321059907,
          -0.1014679993857923,
          0.05900149745363405,
          1.1375645418805906,
          -1.8575702316110778,
          -0.34656320239652544,
          0.07083365555626815,
          -1.0883477411555744,
          1.3823864476745933,
          -0.5048155186644805,
          0.7294782099307291,
          0.25720438037532245,
          -0.8899210382353742,
          -1.3105457244375167,
          -0.46270258830744065,
          -1.8736055542759875,
          -0.29776953545445906,
          -0.6135315225591025,
          -0.22220214614400943,
          -0.39561143169375435,
          -1.3451240823363837,
          0.5872858982281665,
          -0.6143363504473248,
          -0.5480457807975657,
          -1.4939814498499764,
          0.5376097991519052,
          0.25632250522802263,
          -0.7015401498179875,
          -0.15191138105102833,
          0.1257592714182674,
          -1.0149119496509063,
          1.8312315585552295,
          -1.3163060573957086,
          0.3791718807278605,
          -0.5052841208649509,
          0.6342050511331153,
          0.43422430648825877,
          0.31475099685846225,
          -0.8862364743398101,
          0.8998753641318344,
          -0.5538032956878369,
          1.998125760763852,
          0.20279384412205062,
          0.2775742773853735,
          1.1388588584269335,
          0.6022901566870615,
          1.3476024681719438,
          -0.975937870984813,
          -1.188943213719947,
          -0.39086137000982474,
          -1.1643564533878923,
          2.244763628892264,
          -1.2941234309897023,
          0.0734633240138593,
          1.6524308608196494,
          -1.3631649540735864,
          0.05357881106552588,
          0.0802601469304703,
          -1.251722604278277,
          -1.314434242250727,
          0.3598126452712431,
          -0.8091809791395919,
          0.5792724510153908,
          -0.043431248764588246,
          -0.11470033039218448,
          0.12077722182254925,
          0.5859280402982032,
          0.09497947344031532,
          1.9211205790885215,
          1.840358368102722,
          -0.8934337389986745,
          -0.2347446959360769,
          1.2041798310172054,
          -0.26740629552614625,
          -1.5738917278860605,
          0.5787663550485298,
          1.4296139842254714,
          -0.6633057044457806,
          -0.7423987493992139,
          -1.9863290336779085,
          -0.6608749180980624,
          1.28715170711091,
          0.5967169551934792,
          -0.600641655398489,
          0.6256625084954375,
          -1.7679705395274934,
          -0.3176568219753141,
          1.4428083186277672,
          -0.4479288885684834,
          0.8319028328377379,
          -0.8240339378476526,
          0.04247384977552048,
          -0.020483291450443534,
          -0.8562615412453811,
          -0.367211155053392,
          -0.10103253325328257,
          -0.1317063597759588,
          -0.8093637690563069,
          -0.49222893969036596,
          0.8308439093580643,
          0.019837421647507264,
          -1.053131853648233,
          -1.3453570614088353,
          1.85763042269165,
          -1.0869710864107551,
          -0.25977232660731503,
          0.6668717489348767,
          0.7406130915766453,
          0.6609527456528633,
          0.7965286097777547,
          -1.8871010367680097,
          0.45900815694988156,
          -0.7591478975080036,
          -0.1752926983877749,
          -1.1543976231028485,
          0.2610450171675762,
          -1.0232563371208543,
          -0.7661161569488041,
          -0.15136021507656663,
          0.19368188739197925,
          -1.18984306433312,
          -0.07852630891131405,
          -0.18973482569854808,
          0.7755080794980502,
          0.1980707031941181,
          -1.1181118712600966,
          -0.8202243699127982,
          -1.088206954483015,
          1.6714842701176562,
          -1.065868912757437,
          0.23688703825289337,
          0.3140564697993269,
          0.9710179812179535,
          -1.2781659149863112,
          0.1753416252973732,
          0.2701316446023335,
          -1.1654631831636777,
          0.7627875167631855,
          -2.055443147757272,
          2.1258885070835496,
          -1.4027546230436685,
          1.0035996633268436,
          0.016227320040261624,
          -0.03038922226520357,
          -0.8856074783754366,
          1.043304953184176,
          -1.5688969890127396,
          1.1680421737749924,
          0.5382387607049872,
          0.2998857453415739,
          1.2875138795311936,
          -0.7588091709695045,
          1.765169957072211,
          -0.5015173988291288,
          -1.3079288129181252,
          0.26988552832429613,
          -1.1724798084144483,
          -0.7392701727813159,
          -0.8378231434940933,
          0.7674334203922264,
          0.9505899440923472,
          -0.1672102514221218,
          -0.7056631519137482,
          -0.2886927890948605,
          1.5851723123967099,
          -0.9467308655219319,
          0.0041330638406264315,
          -0.4089235259059301,
          -1.9094813165246707,
          -1.368842426585382,
          1.6148966940827165,
          0.8449656479366061,
          0.4939879543550859,
          1.5484424477297372,
          -0.4633077863510259,
          1.5179014506363437,
          -2.007729776672108,
          -0.5626925825484815,
          0.31713573892716374,
          0.7541287508742245,
          2.1926358612953356,
          -0.33365862913972394,
          1.3283285972233043,
          -1.5058412077836103,
          -0.19297126160415073,
          -0.3325399410542257,
          -0.9168205547533758,
          -0.48268713395071866,
          0.3883240887529398,
          0.21995347601871612,
          -0.6122106582629235,
          1.6608678067035911,
          -0.8649952045679937,
          -1.3879331880728036,
          0.19468345670618264,
          0.21361382926632064,
          -0.529459932273369,
          -0.8787597120726087,
          -0.17049947012562733,
          1.2757023359664963,
          -0.4810593077101864,
          -1.5917339375659085,
          -0.9115364633796245,
          0.049288772597347395,
          0.1800722692098737,
          1.454283199239731,
          -1.803662751367318,
          -0.10055584211860119,
          0.7934646642644094,
          -0.5225539285830679,
          -1.6332658819077739,
          0.8921011709933475,
          -1.3233809954029043,
          0.37985596534293403,
          -1.0953018770733416,
          -0.5795374393634539,
          -1.0460188448540395,
          0.6612942136044747,
          0.8984716565130079,
          0.24693970194471523,
          -0.2444786671550618,
          -0.42816955163429143,
          -0.14843609134960128,
          1.0749156865598175,
          0.2581204084591221,
          -0.06265068860243672,
          -1.9422027488692266,
          2.7006571053337214,
          1.691393710612649,
          -0.7488027067253232,
          -0.16519657711912164,
          -0.5026898567854875,
          0.8120672906357669,
          -1.3201871754417596,
          -3.544512817358704,
          -0.7912180964654478,
          -0.6335004216419969,
          -0.6333123276241639,
          0.6491153788181663,
          0.3055754908495263,
          1.2895877663273818,
          0.8275123732971469,
          -0.31449237048517115,
          -0.2597526164877884,
          1.6006072747729925,
          -0.7848607160792769,
          -0.06505959357272187,
          0.666115745233237,
          0.41893908914762057,
          -1.0285738358897425,
          -0.48565731580400157,
          0.646946073379938,
          1.4026439014324945,
          0.27783147855766616,
          -0.1418987930821509,
          2.819452905840433,
          0.2726290143378471,
          -1.046571205147577,
          0.5382109496609786,
          -1.637867589455444,
          1.256939507870926,
          -0.6816504266115817,
          0.14194109425082793,
          -0.006972543824080106,
          0.10969363138259507,
          0.24773150823342843,
          -0.31480784340254314,
          0.11826741496424753,
          -0.16692418663633585,
          -0.5054437729874185,
          -0.24955478869249226,
          -0.8928880605580952
         ],
         "y": [
          0.11002743570540796,
          -1.4565777418341737,
          2.886239617138802,
          -2.920511070145279,
          -0.13447855811327591,
          -2.151956930663599,
          -1.4176410603798328,
          5.774717173259419,
          1.5627925017923272,
          -3.762164460719278,
          -1.5575433859645824,
          -6.6980806330926255,
          4.9483444708781965,
          -2.8042222655446527,
          -1.6619327670330077,
          1.3980545921507468,
          1.4748697758692009,
          -2.181104077114131,
          -0.04541297655851684,
          -2.174608867052127,
          -0.5071948322898536,
          -0.7868549316899272,
          0.8279997380122034,
          -4.208840359667392,
          1.6453956820522637,
          1.7840436155129606,
          -3.2249616943342185,
          -3.33770065315834,
          -4.975954118603999,
          -1.765970249182323,
          -2.7143968694860217,
          1.6663662303183107,
          0.8633718668916638,
          -0.04759073167495298,
          1.7915045465433503,
          0.36993178141996286,
          6.336005517082311,
          -10.304377394031414,
          -4.005736227386471,
          -5.7303337372847825,
          1.5231989486650592,
          -2.236634594129472,
          0.5502267969948303,
          -3.6893201602744554,
          1.4641797152003395,
          2.2489522875780836,
          -2.076808275159372,
          -2.2490947890269157,
          -7.9562113479664305,
          -0.8925861301751067,
          -3.4645112362038155,
          1.1217048130750955,
          -2.704340303092515,
          2.6538706341433778,
          -1.5231532425611825,
          1.1888295227709946,
          -1.8929990616707257,
          4.104586759884988,
          -0.06608521142841939,
          0.5675722433702629,
          -0.9361890137718727,
          1.1003960499709495,
          -0.9429471062970132,
          -0.24737959476336002,
          1.8583272639283432,
          -4.718496414585365,
          -1.0435013698491,
          -4.7240679865832504,
          -2.9743898946474956,
          -2.7780738197108663,
          0.211640805385093,
          4.258197008826239,
          -7.6200124786608106,
          2.2428275231027524,
          -6.752183358595938,
          0.3406816314238018,
          -3.485781346481953,
          4.2358430560070675,
          -7.613962487386671,
          -1.4696692746310567,
          1.6437770604442234,
          -4.227465051078351,
          -3.266093176266339,
          -0.5003274280227248,
          -3.4415191733263266,
          -3.7515859229026347,
          -1.5122992275727585,
          0.5863742848154202,
          5.206361555712401,
          2.8604368741713313,
          0.2927143070824,
          1.7028027007090967,
          0.7173056532947216,
          0.4109320946171421,
          -3.5201588481192494,
          -7.791499185242087,
          -0.6409770925875996,
          4.579087728121895,
          -0.8079785177872536,
          -2.260678482058604,
          -3.4267655523376366,
          -4.8295375550376365,
          3.9016391774234065,
          4.647217330361265,
          -1.8256702411845964,
          -3.9024061714961,
          5.604179777573876,
          -2.688847735046924,
          -4.334056310048739,
          -3.474623879430169,
          -6.566020049522799,
          -1.47603042547679,
          -3.7282761771741018,
          -1.7020044041856315,
          -1.9004562891854144,
          0.05356795879721943,
          -1.718169049899302,
          1.6352389206282893,
          -4.254209489382124,
          -2.1206386616548336,
          1.7140466450983056,
          -3.0484334754598668,
          -0.9207802444492238,
          -2.6606783649884256,
          -1.8240439538297741,
          4.604621236265064,
          -0.08119829751481622,
          -5.338797269445221,
          -1.7648842021497326,
          -3.6265550925766386,
          2.366175251894553,
          7.287568582000943,
          -2.2598184466769693,
          -4.342495238912332,
          -0.0016643787075759642,
          -5.563151082334247,
          -1.811458267193776,
          2.3204575525726985,
          0.13966342545002275,
          -3.900137600426763,
          1.685824897511342,
          -3.0558740757798066,
          -2.245180942679699,
          -0.14830155318846827,
          -5.417656476949327,
          -4.42171275664594,
          -1.7688366149338346,
          -1.0857301380966782,
          0.5431320057548507,
          4.761011862738821,
          -0.42249989164514323,
          0.5670522563142756,
          -7.893240845780123,
          -1.2537396851125944,
          2.064226431717577,
          -0.17897114005641068,
          -2.6359678082088425,
          1.2973082065800514,
          -1.4435478340414094,
          -5.320215773526508,
          1.535651555010685,
          6.372432672972391,
          1.9987764082811488,
          -2.7132064932592392,
          -2.2212239636259214,
          -3.074342465767724,
          -1.606927880761725,
          -0.8620724778537511,
          0.11784892079544995,
          -1.7338716447864417,
          2.7594614927467096,
          -1.8751087157689312,
          -1.1060475327695993,
          0.7732781383061597,
          4.112688824489376,
          -1.14525049107962,
          2.1256611114257384,
          -2.5648933814395405,
          7.973064558432317,
          -3.9554721211547204,
          -5.212072119174708,
          -8.424706161873821,
          1.2406276235266867,
          1.251776008180176,
          -5.66709148756051,
          1.9908125838819983,
          -0.1482090300825356,
          -1.455329592987806,
          2.7521202326111367,
          6.798635817530501,
          -1.130651219624038,
          5.786907697455472,
          -3.9869391356251573,
          -2.0904009948062576,
          -1.6729508063014342,
          -2.9647848657016946,
          -5.237619705726997,
          -6.000880401095791,
          -5.12006011611756,
          1.8753926816532602,
          -1.4939722630866274,
          -5.2418800073571425,
          -1.4741573290226724,
          -1.9960513807713824,
          -0.2920344875183484,
          4.341891468985526,
          1.2979779700665723,
          -5.431334625447406,
          0.7258334427129484,
          0.5512364829384665,
          -3.764612892082335,
          -1.6450340288400227,
          -2.3876429781991027,
          2.5421723623265087,
          -5.590543796847953,
          -2.1819208053170147,
          4.606066152132327,
          -6.44523524665836,
          -0.19925793171167483,
          1.0744075381277418,
          2.317631897296384,
          -0.6641801490180794,
          1.4897776009583499,
          -3.248353030839263,
          -2.7958851349986777,
          -6.499817508266442,
          -2.106061007790279,
          -6.466018380053303,
          -3.09272154480846,
          -0.4874725841149421,
          2.4991191429077038,
          -0.24077704882076956,
          -1.2762512768460785,
          -2.7342689423031374,
          -0.9333451040219968,
          -0.05642173273680584,
          -4.692593656080978,
          -2.185541651936003,
          1.6687881697170202,
          5.144742479093729,
          -5.034180763832012,
          -2.797080031433381,
          -2.7528695770838287,
          1.868968632247212,
          0.24226854560653532,
          -2.058389140041646,
          3.154386195944102,
          -3.208881776771853,
          -2.8529744955173117,
          -0.016208326319206212,
          -4.433048400710895,
          -4.042815748278099,
          1.9499709540965844,
          2.3346045144368643,
          1.3020778241361324,
          -0.45246907398464975,
          2.8960195887433153,
          -2.4712706779789295,
          0.8187447621229577,
          0.625134573278627,
          -6.803107722850331,
          1.9981559636664947,
          -6.375760914773526,
          1.8064349551471017,
          -0.3586282567588758,
          -0.5871170228491509,
          3.793886370938249,
          -0.5146062243056968,
          -0.10066314039169777,
          1.6692027316874802,
          -5.465388924857012,
          2.8768692974836956,
          3.5087458168782892,
          1.6926422735024609,
          -2.3772977821646775,
          -0.43825701044290477,
          0.6650850345719052,
          1.7526966642698292,
          1.2576191325120916,
          -5.898771429174313,
          0.16583729978867578,
          -0.5571653441680173,
          -1.9302784920039429,
          -2.4793495136202117,
          0.38520363433605065,
          -0.3421221478325338,
          -1.8089363011125896,
          -2.646638408439891,
          -3.5943474636314385,
          -1.8662221678773951,
          -0.5317713200357481,
          -6.5473042254620335,
          3.0235287860979922,
          -5.779858747446714,
          -3.493834148671899,
          -0.029902706626438236,
          -2.5669925842080654,
          -2.8502591953801026,
          0.05956766292491611,
          5.437272270761453,
          3.4886591278440284,
          -5.428094747886712,
          -0.8153140290896044,
          4.934125217205416,
          -1.935854194725493,
          1.9664291757522037,
          -0.772128657076718,
          -3.479631441787639,
          1.6451151507507684,
          2.125992741154115,
          -2.951753583416408,
          4.040260272564755,
          -1.8740661733187927,
          -4.466276357986381,
          1.2320631480599311,
          4.433083213550716,
          -4.107561260930136,
          3.8094311210683327,
          -5.063521063692306,
          0.816007788594817,
          -3.7461846151898537,
          -5.283783136913153,
          -1.5341909691716284,
          1.6042394737312708,
          -0.8640146030871454,
          0.5370407205584898,
          1.7623505178973917,
          -8.378358842975077,
          -2.3691112033131434,
          -1.8679881894229027,
          -0.68543857998653,
          1.5735740177138817,
          2.3865299403762963,
          1.1908200651518621,
          -5.029194387624843,
          0.3265774599857182,
          -1.643719168607121,
          -1.2217223406362392,
          -1.1028059978214277,
          -0.6891741560519367,
          -5.6015047275713945,
          -2.2376527378460707,
          -1.0823941312993333,
          -2.453912411696068,
          -2.5390295675401284,
          1.1546005297427544,
          -2.366742614797487,
          2.4746861480339835,
          3.0567171583829222,
          -2.2829626258128117,
          -1.7102248107320663,
          -6.475517293525837,
          -3.549312891774748,
          -2.821131054147705,
          -0.6850057751591345,
          -4.571406861121568,
          -1.8653020872188926,
          -5.431966544189393,
          -9.983050217499791,
          -2.8466763586781774,
          -2.6007359603966336,
          -1.541454869269216,
          -1.0041315104547697,
          -5.703944557075015,
          -3.1934801544049187,
          1.287032599227647,
          4.8289511044413445,
          -4.751449426595268,
          -2.8009371228814706,
          1.6148912827784363,
          -4.115873415333026,
          -0.15268365155088826,
          0.8774894627289908,
          -0.19624793508389093,
          -2.0562236671464555,
          0.6013732194611784,
          -2.473735404530334,
          1.7368934127646591,
          -2.0609553660014805,
          0.7579826758639331,
          -5.537755810671594,
          -2.789073769286716,
          -0.5883379487857885,
          3.241668529222141,
          -1.2824180006575805,
          -3.818619944092863,
          -0.2970663502209505,
          -4.940151313457929,
          -0.4216229359613394,
          2.1425281738733797,
          -5.49382811445173,
          -5.596971991968968,
          -6.163245932640093,
          -3.7391930752428393,
          2.372970644018942,
          0.08993181225995917,
          -0.6929805117072718,
          -8.295412880356386,
          -3.9019582368541474,
          -7.243059225646034,
          3.179341259922508,
          -2.9190071029307574,
          -0.046571718189578726,
          -0.984266976596217,
          2.0920632694045085,
          -3.646663162901534,
          -5.48478550070944,
          -3.768156007105818,
          3.1582912295884182,
          1.7010191511651005,
          6.642027345734223,
          -7.396399841121531,
          -0.3119448389023105,
          -4.733830560272512,
          -2.3004143525764977,
          -9.924808931813317,
          2.501309264812878,
          -0.7014407807880583,
          0.2290913761232517,
          -0.2553415083996331,
          -1.0499850756196847,
          -1.3513171916016302,
          -1.4344381370358528,
          -0.005715263410138172,
          0.05572988402245238,
          0.8152173072883769,
          -0.15590949461761117,
          4.250817382675483,
          -3.501017517843426,
          -5.598868498031711,
          -0.8367294319111164,
          -0.7304021694465552,
          5.266913947206959,
          -0.05147826931733779,
          -3.7736080923093795,
          3.232513873505115,
          2.65633133677755,
          1.1560252241551185,
          2.2407649327179184,
          2.5517924870156845,
          -1.8644455076027957,
          -2.9359805555787513,
          -4.85146633605447,
          -1.6288379624037062,
          0.1652886058236841,
          0.6373094976130699,
          2.3001834950450024,
          2.4054631845497565,
          1.7024538431057108,
          -4.81998007944102,
          -3.040783555153696,
          -0.46376093538851226,
          -3.2934415464535314,
          -0.5814046136784241,
          -2.463234335804819,
          -0.027549105911288896,
          -1.7037695762559966,
          2.626084626362091,
          1.6753771599683382,
          -0.713347573376816,
          0.8364088441144993,
          -2.467523610793688,
          -2.391751626271035,
          1.0979242762870811,
          0.04061634103479472,
          1.5390318632851092,
          3.439488392888577,
          -4.578598311504207,
          1.3130233643893612,
          -6.852346990060978,
          3.264312691972681,
          -0.4549848614143366,
          -1.1072157189196792,
          -2.521019297399963,
          -4.428284923165427,
          5.028722165397464,
          0.1080298877498832,
          3.1614524277348113,
          3.320164945904575,
          3.2102592661068585,
          4.854836948512208,
          1.6020223873143924,
          -4.158298575884587,
          -0.8001008975658026,
          -0.9682752882068809,
          1.2575805784645846,
          -1.6242844312179616,
          1.563869946851876,
          -2.7674454560644275,
          -10.670311078933045,
          -0.8727280829572865,
          -1.5622834893215276,
          -2.6870659355543762,
          -1.3916015627252514,
          1.122611861027592,
          -3.386501995032751,
          0.391192393404426,
          -1.3004190074032635,
          1.115007558367246,
          -4.23849865710317,
          -1.5396505801483058,
          2.604898754555308,
          7.499564380116454,
          -5.233181495327381,
          1.624344106090669,
          -5.244912428099122,
          -1.461603805884744,
          -1.9841601191944074,
          -4.547761383409415,
          -1.2276837770761326,
          -3.33615235821988,
          -0.8625035929899446,
          -3.8189247599404625,
          2.162713693289445,
          0.9971453644698037,
          3.297219026200501,
          2.811903409611934,
          -2.054609124845576,
          -9.09726176302935,
          -0.7033945415218978,
          -1.3216041226815238,
          -0.2440037945209722,
          4.236853265384733,
          3.0732668351761983,
          -2.243804389851653,
          -1.9358969838056752,
          1.5761418479116989,
          -1.4883094202146987,
          -3.4780826508085454,
          -0.24907121242351904,
          -5.101011010389554,
          -4.090559377503529,
          -0.44212410587987183,
          -6.228843399047334,
          -2.8258339396254004,
          -2.3338231650099095,
          2.8244511087010133,
          -3.6561094790503863,
          3.375557177478537,
          -2.1179258045248144,
          1.1784697689723789,
          -0.23922487184626873,
          -1.6165031365502776,
          0.06382207809113771,
          -1.9262264477293092,
          -1.2061424376278007,
          -2.0824869261256085,
          1.755096353532541,
          4.549630165827792,
          3.137050025720551,
          -2.35463840453402,
          -1.7949617291903035,
          -2.9045549102015586,
          -0.17745780823054091,
          -4.093824124201285,
          0.2806875081054935,
          0.5380882071959058,
          -2.3492380923199008,
          1.0898348135831344,
          -2.730846029309534,
          3.2219221453511317,
          4.963675360242544,
          4.080792401989617,
          -1.8137241708802812,
          0.04274775601811831,
          0.8640024840019461,
          -1.7392224657521815,
          -2.4228981624338726,
          -1.514427209155906,
          1.5150263691257058,
          -0.8866971674621592,
          -3.1808517271069645,
          1.7161845231334651,
          0.8096712407360186,
          -4.061709065183868,
          -5.65646762873087,
          -5.411641206288324,
          1.898847835539125,
          -4.352421576101781,
          2.780639556702423,
          1.9383386401833307,
          -0.42326012554726655,
          -2.149334294094696,
          2.199189338785052,
          0.19216977625086173,
          -2.3291798816093756,
          -5.138973232791364,
          0.7895355998830159,
          -2.3275078340370716,
          -4.218525023972458,
          -0.20389781174396493,
          -1.2346525795180112,
          -0.3815630355503362,
          1.9522679993938605,
          -0.8051560466221439,
          5.267584966846636,
          1.9590347428245947,
          0.3001304484512307,
          -4.976267042739151,
          0.7887449258798601,
          1.8127426400543047,
          -4.636093924404201,
          -2.318945612815906,
          -1.2795234151257704,
          0.14969263737318295,
          -0.13924413255102452,
          0.6787152149432073,
          -5.61803261776646,
          -4.353164814345733,
          -1.28009470263532,
          -3.5305489406624875,
          -1.0115516696644704,
          -6.080866560681299,
          -3.407820699955358,
          -2.8628181409085824,
          2.023584010726545,
          -3.99198943541445,
          -4.436553668392661,
          -1.5751384756727518,
          2.6246083809685183,
          -0.5189812827685855,
          3.046847804822773,
          2.219405388066252,
          -3.0112796021978903,
          -4.682023311706006,
          -9.15847628413406,
          2.1056722620695734,
          -0.2779559160305627,
          0.9223118076652522,
          -5.042948942517086,
          3.1076294495773706,
          -0.5118521983212517,
          -0.7191883062037192,
          -1.0654035760746887,
          -0.2406887998247923,
          -3.6960608805950947,
          -5.490121338243465,
          4.1119366209143395,
          0.8157430362919672,
          0.6384458935287286,
          -5.167545817841888,
          -5.88987122889778,
          -2.194707660992694,
          -1.6198288405474863,
          -4.139252570357157,
          2.5590043058466896,
          -2.7079761459741105,
          0.45070315513232806,
          -3.7354853331565803,
          -1.7719135018796166,
          -2.3682600644784264,
          1.0735063220979466,
          -1.2307935421263698,
          1.6170513238151507,
          -1.5293517394223033,
          0.0750781891097555,
          -5.508226283901637,
          -0.5159050461880315,
          -0.4190304214178202,
          -2.538143606872085,
          -5.5531666243263285,
          -0.46246839729773626,
          -0.9690305134358872,
          -4.746651418908781,
          2.071953177435682,
          -3.785168949982862,
          -4.058950037901038,
          -6.595488464347676,
          -2.756018131396185,
          2.030624156121946,
          -5.2421852533185,
          0.14945098954168923,
          -1.0981773013680667,
          3.9728005106638213,
          -2.3912801555397363,
          -1.2007445397777512,
          1.500470391497331,
          2.091105658282332,
          1.8033354222678506,
          0.27976434482765755,
          -0.7365812789930459,
          1.0417319651133599,
          4.421717318912861,
          -1.028281879603687,
          -0.07864914368189402,
          -1.8672082826482215,
          -5.2976194204939,
          -5.0461395816297765,
          -3.925159715524285,
          -4.207457012457197,
          -4.033282617207136,
          -2.5456859015040956,
          1.5907208326642936,
          1.3887962336984216,
          0.5689193961283,
          0.8563965982398415,
          -1.5005501539094377,
          -1.304797662538156,
          0.8479472176528898,
          -6.320765802037007,
          -2.2336963803336705,
          -0.09102398362683906,
          -2.6243725689269413,
          0.41666650405481953,
          1.9772215992537885,
          3.4176865588549643,
          -3.9396619311163747,
          0.9893278571404817,
          -2.8279140602239092,
          -2.605648049255638,
          -3.220958144409498,
          -2.767299317665943,
          -4.985151711363001,
          -0.7498745725626413,
          -4.604732146284154,
          -0.4711406650650094,
          0.9857802685430436,
          -2.657767973052385,
          -6.570059407678085,
          -5.381548556029637,
          -4.275915696480773,
          -4.8169138372167755,
          -0.5840682290181276,
          -2.383472222173323,
          0.7168411906249105,
          -0.6164101138482954,
          4.244940645481865,
          -1.6451039785142243,
          0.35016594856425487,
          -1.3041265485235587,
          -0.822589917595824,
          2.413960485352233,
          -6.57383555319885,
          -2.039607874500648,
          -0.7870839949029397,
          -4.265553831231255,
          3.148621701441908,
          -2.5144911932190657,
          1.1893756185383886,
          -0.2278229970154101,
          -3.6701152719273433,
          -4.932325213804914,
          -2.3881187735254,
          -6.621954325949951,
          -1.8931879102540856,
          -2.840726018369215,
          -1.666425399164701,
          -2.186791729089489,
          -5.0360878995089475,
          0.7626851379818657,
          -2.8431411447166175,
          -2.644216500468699,
          -5.482778869774741,
          0.6136171726803256,
          -0.23046932666492959,
          -3.1048221780600826,
          -1.4554969742935462,
          -0.622263287324577,
          -4.045187815713337,
          4.495515452334159,
          -4.949610812503371,
          0.13817689928393728,
          -2.5158973740154424,
          0.9034800632531791,
          0.3033781378195598,
          -0.05513719461453148,
          -3.6590586379897214,
          1.7007031491268325,
          -2.6614936427130704,
          4.996331329717573,
          -0.3910980544588166,
          -0.1666970399222677,
          2.4178444685475164,
          0.8077098947747102,
          3.0442419867306083,
          -3.9282344575734873,
          -4.567420577867241,
          -2.1725377509501596,
          -4.493640663497769,
          5.736441882918824,
          -4.883045219695627,
          -0.7791928896495065,
          3.958970580623902,
          -5.0902249209768025,
          -0.8388623069616373,
          -0.7587969934029299,
          -4.755808881043669,
          -4.943993872359688,
          0.08008373389908818,
          -3.4278306209273235,
          0.7386383973304725,
          -1.1299699523195295,
          -1.3438341080139127,
          -0.6372134144495945,
          0.7586104798957417,
          -0.7146272599851916,
          4.765254293406917,
          4.522903169047799,
          -3.6806561792295547,
          -1.7040630641980696,
          2.613859547360391,
          -1.8020739443783111,
          -5.722573514986966,
          0.7371197052948627,
          3.2903420239059513,
          -2.9900883104245017,
          -3.227430603800065,
          -6.960214777728949,
          -2.9827940103148887,
          2.8628414315367703,
          0.7909858399009887,
          -2.8020461238853507,
          0.8778456138261946,
          -6.304964928513929,
          -1.9528656504985744,
          3.329935563242422,
          -2.343785877001433,
          1.4967312768417105,
          -3.4724013576496127,
          -0.8721860585249829,
          -1.0611077556443311,
          -3.5691099026919533,
          -2.101568220571229,
          -1.3028198023913533,
          -1.3948657760642904,
          -3.4283791366415004,
          -2.4767214054807405,
          1.49355366081589,
          -0.9401134188750228,
          -4.159878047612491,
          -5.0367870227681,
          4.57473312514391,
          -4.26142276769066,
          -1.7791659416352137,
          1.0015062421395937,
          1.2227891550618994,
          0.9837445057659643,
          1.3905803601286388,
          -6.662451550032702,
          0.3777494799609805,
          -3.2776914228969605,
          -1.5256595970894251,
          -4.463756220174314,
          -0.2162980197581461,
          -4.070227641403419,
          -3.298601765614063,
          -1.4538430362451837,
          -0.4184412008597084,
          -4.570120848268408,
          -1.2352831573716465,
          -1.5689975115568586,
          1.3275019836735042,
          -0.4052712488330058,
          -4.354869989225869,
          -3.4609696117740976,
          -4.26513135879058,
          4.016146023320219,
          -4.198099395919645,
          -0.28879124747880214,
          -0.05722133039566912,
          1.9141878102105006,
          -4.835159929060376,
          -0.4734766324732659,
          -0.18903088146950964,
          -4.496961736586895,
          1.2893301376622897,
          -7.167612309962969,
          5.379721591621518,
          -5.209025541598638,
          2.0119588741303485,
          -0.9509466064869923,
          -1.0908334583148886,
          -3.6571711478217015,
          2.1311064497411887,
          -5.707585309896316,
          2.5054177184721915,
          0.6155045595869927,
          -0.09974481957953418,
          2.863928238004749,
          -3.276674972796678,
          4.297277895425415,
          -2.5045942000509474,
          -4.924472389552933,
          -0.18976942683593012,
          -4.518017215355671,
          -3.218042375670395,
          -3.513779985743655,
          1.303271558463166,
          1.8528873863438116,
          -1.501405802080725,
          -3.1171944767062687,
          -1.8659504230813035,
          3.757141227092117,
          -3.8405901183869746,
          -0.9872390327652202,
          -2.2267386418908552,
          -6.729610260725406,
          -5.107261872169157,
          3.846338108090706,
          1.5359301532452134,
          0.48271680474727197,
          3.6469223030316527,
          -2.3899348509275975,
          3.555274923715429,
          -7.0244340959404905,
          -2.6881686016961366,
          -0.04798106410990832,
          1.2633469256731944,
          5.580016954313692,
          -2.0008838499848958,
          2.986404983036187,
          -5.518367614000038,
          -1.5787094036789915,
          -1.9975268924175094,
          -3.750835301669974,
          -2.4480883688019106,
          0.16564083171189525,
          -0.33960545621287863,
          -2.8367623707251326,
          3.98428815546704,
          -3.595317866790179,
          -5.164549401260724,
          -0.4154356931295713,
          -0.3586294588959258,
          -2.588444113457163,
          -3.636622380736429,
          -1.5112760847454454,
          2.828484175387092,
          -2.443203590205103,
          -5.776114391644275,
          -3.7349788080201143,
          -0.8517358481093621,
          -0.4592809231539817,
          3.364369368164937,
          -6.412070065491497,
          -1.3013893483330516,
          1.3813860769227855,
          -2.567720587704916,
          -5.900743389355112,
          1.6773743617509083,
          -4.970841276106162,
          0.14022969939423857,
          -4.286421792101139,
          -2.7387166233382723,
          -4.138533341247874,
          0.9847691822946959,
          1.696490905361566,
          -0.25862522900581264,
          -1.7332727507656531,
          -2.2844920876890766,
          -1.4450683300509735,
          2.22596389212535,
          -0.22507418128409717,
          -1.1876436192164646,
          -6.827800686947618,
          7.10448635885573,
          4.075890243177831,
          -3.2466475895584574,
          -1.4953631711835724,
          -2.5081125101680053,
          1.437208810873491,
          -4.961257265847699,
          -11.636010392086051,
          -3.3739276289255917,
          -2.9006486614702585,
          -2.9000842292172204,
          0.9482229527175393,
          -0.08267103959830069,
          2.8701515544632112,
          1.4835563922870696,
          -1.9433697691048508,
          -1.7791067955374258,
          3.8034584395690074,
          -3.354850411180302,
          -1.1948722577207462,
          0.9992376273397313,
          0.2575102800261607,
          -4.086184383915643,
          -2.4570012861540707,
          0.9417133041378912,
          3.209410238988799,
          -0.1659252310214122,
          -1.4254512149912324,
          7.460968622906242,
          -0.18153677802738655,
          -4.1401908632071684,
          0.6154211042468921,
          -5.914552186619786,
          2.772180708337164,
          -3.0451371258131648,
          -0.5737048970851044,
          -1.0205647239688216,
          -0.6704730363974281,
          -0.2562491778551327,
          -1.944316439772936,
          -0.644744839191552,
          -1.5005473792908022,
          -2.516376457870553,
          -1.7485051688354867,
          -3.6790187081648242
         ]
        }
       ],
       "layout": {
        "template": {
         "data": {
          "bar": [
           {
            "error_x": {
             "color": "#2a3f5f"
            },
            "error_y": {
             "color": "#2a3f5f"
            },
            "marker": {
             "line": {
              "color": "#E5ECF6",
              "width": 0.5
             }
            },
            "type": "bar"
           }
          ],
          "barpolar": [
           {
            "marker": {
             "line": {
              "color": "#E5ECF6",
              "width": 0.5
             }
            },
            "type": "barpolar"
           }
          ],
          "carpet": [
           {
            "aaxis": {
             "endlinecolor": "#2a3f5f",
             "gridcolor": "white",
             "linecolor": "white",
             "minorgridcolor": "white",
             "startlinecolor": "#2a3f5f"
            },
            "baxis": {
             "endlinecolor": "#2a3f5f",
             "gridcolor": "white",
             "linecolor": "white",
             "minorgridcolor": "white",
             "startlinecolor": "#2a3f5f"
            },
            "type": "carpet"
           }
          ],
          "choropleth": [
           {
            "colorbar": {
             "outlinewidth": 0,
             "ticks": ""
            },
            "type": "choropleth"
           }
          ],
          "contour": [
           {
            "colorbar": {
             "outlinewidth": 0,
             "ticks": ""
            },
            "colorscale": [
             [
              0,
              "#0d0887"
             ],
             [
              0.1111111111111111,
              "#46039f"
             ],
             [
              0.2222222222222222,
              "#7201a8"
             ],
             [
              0.3333333333333333,
              "#9c179e"
             ],
             [
              0.4444444444444444,
              "#bd3786"
             ],
             [
              0.5555555555555556,
              "#d8576b"
             ],
             [
              0.6666666666666666,
              "#ed7953"
             ],
             [
              0.7777777777777778,
              "#fb9f3a"
             ],
             [
              0.8888888888888888,
              "#fdca26"
             ],
             [
              1,
              "#f0f921"
             ]
            ],
            "type": "contour"
           }
          ],
          "contourcarpet": [
           {
            "colorbar": {
             "outlinewidth": 0,
             "ticks": ""
            },
            "type": "contourcarpet"
           }
          ],
          "heatmap": [
           {
            "colorbar": {
             "outlinewidth": 0,
             "ticks": ""
            },
            "colorscale": [
             [
              0,
              "#0d0887"
             ],
             [
              0.1111111111111111,
              "#46039f"
             ],
             [
              0.2222222222222222,
              "#7201a8"
             ],
             [
              0.3333333333333333,
              "#9c179e"
             ],
             [
              0.4444444444444444,
              "#bd3786"
             ],
             [
              0.5555555555555556,
              "#d8576b"
             ],
             [
              0.6666666666666666,
              "#ed7953"
             ],
             [
              0.7777777777777778,
              "#fb9f3a"
             ],
             [
              0.8888888888888888,
              "#fdca26"
             ],
             [
              1,
              "#f0f921"
             ]
            ],
            "type": "heatmap"
           }
          ],
          "heatmapgl": [
           {
            "colorbar": {
             "outlinewidth": 0,
             "ticks": ""
            },
            "colorscale": [
             [
              0,
              "#0d0887"
             ],
             [
              0.1111111111111111,
              "#46039f"
             ],
             [
              0.2222222222222222,
              "#7201a8"
             ],
             [
              0.3333333333333333,
              "#9c179e"
             ],
             [
              0.4444444444444444,
              "#bd3786"
             ],
             [
              0.5555555555555556,
              "#d8576b"
             ],
             [
              0.6666666666666666,
              "#ed7953"
             ],
             [
              0.7777777777777778,
              "#fb9f3a"
             ],
             [
              0.8888888888888888,
              "#fdca26"
             ],
             [
              1,
              "#f0f921"
             ]
            ],
            "type": "heatmapgl"
           }
          ],
          "histogram": [
           {
            "marker": {
             "colorbar": {
              "outlinewidth": 0,
              "ticks": ""
             }
            },
            "type": "histogram"
           }
          ],
          "histogram2d": [
           {
            "colorbar": {
             "outlinewidth": 0,
             "ticks": ""
            },
            "colorscale": [
             [
              0,
              "#0d0887"
             ],
             [
              0.1111111111111111,
              "#46039f"
             ],
             [
              0.2222222222222222,
              "#7201a8"
             ],
             [
              0.3333333333333333,
              "#9c179e"
             ],
             [
              0.4444444444444444,
              "#bd3786"
             ],
             [
              0.5555555555555556,
              "#d8576b"
             ],
             [
              0.6666666666666666,
              "#ed7953"
             ],
             [
              0.7777777777777778,
              "#fb9f3a"
             ],
             [
              0.8888888888888888,
              "#fdca26"
             ],
             [
              1,
              "#f0f921"
             ]
            ],
            "type": "histogram2d"
           }
          ],
          "histogram2dcontour": [
           {
            "colorbar": {
             "outlinewidth": 0,
             "ticks": ""
            },
            "colorscale": [
             [
              0,
              "#0d0887"
             ],
             [
              0.1111111111111111,
              "#46039f"
             ],
             [
              0.2222222222222222,
              "#7201a8"
             ],
             [
              0.3333333333333333,
              "#9c179e"
             ],
             [
              0.4444444444444444,
              "#bd3786"
             ],
             [
              0.5555555555555556,
              "#d8576b"
             ],
             [
              0.6666666666666666,
              "#ed7953"
             ],
             [
              0.7777777777777778,
              "#fb9f3a"
             ],
             [
              0.8888888888888888,
              "#fdca26"
             ],
             [
              1,
              "#f0f921"
             ]
            ],
            "type": "histogram2dcontour"
           }
          ],
          "mesh3d": [
           {
            "colorbar": {
             "outlinewidth": 0,
             "ticks": ""
            },
            "type": "mesh3d"
           }
          ],
          "parcoords": [
           {
            "line": {
             "colorbar": {
              "outlinewidth": 0,
              "ticks": ""
             }
            },
            "type": "parcoords"
           }
          ],
          "scatter": [
           {
            "marker": {
             "colorbar": {
              "outlinewidth": 0,
              "ticks": ""
             }
            },
            "type": "scatter"
           }
          ],
          "scatter3d": [
           {
            "line": {
             "colorbar": {
              "outlinewidth": 0,
              "ticks": ""
             }
            },
            "marker": {
             "colorbar": {
              "outlinewidth": 0,
              "ticks": ""
             }
            },
            "type": "scatter3d"
           }
          ],
          "scattercarpet": [
           {
            "marker": {
             "colorbar": {
              "outlinewidth": 0,
              "ticks": ""
             }
            },
            "type": "scattercarpet"
           }
          ],
          "scattergeo": [
           {
            "marker": {
             "colorbar": {
              "outlinewidth": 0,
              "ticks": ""
             }
            },
            "type": "scattergeo"
           }
          ],
          "scattergl": [
           {
            "marker": {
             "colorbar": {
              "outlinewidth": 0,
              "ticks": ""
             }
            },
            "type": "scattergl"
           }
          ],
          "scattermapbox": [
           {
            "marker": {
             "colorbar": {
              "outlinewidth": 0,
              "ticks": ""
             }
            },
            "type": "scattermapbox"
           }
          ],
          "scatterpolar": [
           {
            "marker": {
             "colorbar": {
              "outlinewidth": 0,
              "ticks": ""
             }
            },
            "type": "scatterpolar"
           }
          ],
          "scatterpolargl": [
           {
            "marker": {
             "colorbar": {
              "outlinewidth": 0,
              "ticks": ""
             }
            },
            "type": "scatterpolargl"
           }
          ],
          "scatterternary": [
           {
            "marker": {
             "colorbar": {
              "outlinewidth": 0,
              "ticks": ""
             }
            },
            "type": "scatterternary"
           }
          ],
          "surface": [
           {
            "colorbar": {
             "outlinewidth": 0,
             "ticks": ""
            },
            "colorscale": [
             [
              0,
              "#0d0887"
             ],
             [
              0.1111111111111111,
              "#46039f"
             ],
             [
              0.2222222222222222,
              "#7201a8"
             ],
             [
              0.3333333333333333,
              "#9c179e"
             ],
             [
              0.4444444444444444,
              "#bd3786"
             ],
             [
              0.5555555555555556,
              "#d8576b"
             ],
             [
              0.6666666666666666,
              "#ed7953"
             ],
             [
              0.7777777777777778,
              "#fb9f3a"
             ],
             [
              0.8888888888888888,
              "#fdca26"
             ],
             [
              1,
              "#f0f921"
             ]
            ],
            "type": "surface"
           }
          ],
          "table": [
           {
            "cells": {
             "fill": {
              "color": "#EBF0F8"
             },
             "line": {
              "color": "white"
             }
            },
            "header": {
             "fill": {
              "color": "#C8D4E3"
             },
             "line": {
              "color": "white"
             }
            },
            "type": "table"
           }
          ]
         },
         "layout": {
          "annotationdefaults": {
           "arrowcolor": "#2a3f5f",
           "arrowhead": 0,
           "arrowwidth": 1
          },
          "colorscale": {
           "diverging": [
            [
             0,
             "#8e0152"
            ],
            [
             0.1,
             "#c51b7d"
            ],
            [
             0.2,
             "#de77ae"
            ],
            [
             0.3,
             "#f1b6da"
            ],
            [
             0.4,
             "#fde0ef"
            ],
            [
             0.5,
             "#f7f7f7"
            ],
            [
             0.6,
             "#e6f5d0"
            ],
            [
             0.7,
             "#b8e186"
            ],
            [
             0.8,
             "#7fbc41"
            ],
            [
             0.9,
             "#4d9221"
            ],
            [
             1,
             "#276419"
            ]
           ],
           "sequential": [
            [
             0,
             "#0d0887"
            ],
            [
             0.1111111111111111,
             "#46039f"
            ],
            [
             0.2222222222222222,
             "#7201a8"
            ],
            [
             0.3333333333333333,
             "#9c179e"
            ],
            [
             0.4444444444444444,
             "#bd3786"
            ],
            [
             0.5555555555555556,
             "#d8576b"
            ],
            [
             0.6666666666666666,
             "#ed7953"
            ],
            [
             0.7777777777777778,
             "#fb9f3a"
            ],
            [
             0.8888888888888888,
             "#fdca26"
            ],
            [
             1,
             "#f0f921"
            ]
           ],
           "sequentialminus": [
            [
             0,
             "#0d0887"
            ],
            [
             0.1111111111111111,
             "#46039f"
            ],
            [
             0.2222222222222222,
             "#7201a8"
            ],
            [
             0.3333333333333333,
             "#9c179e"
            ],
            [
             0.4444444444444444,
             "#bd3786"
            ],
            [
             0.5555555555555556,
             "#d8576b"
            ],
            [
             0.6666666666666666,
             "#ed7953"
            ],
            [
             0.7777777777777778,
             "#fb9f3a"
            ],
            [
             0.8888888888888888,
             "#fdca26"
            ],
            [
             1,
             "#f0f921"
            ]
           ]
          },
          "colorway": [
           "#636efa",
           "#EF553B",
           "#00cc96",
           "#ab63fa",
           "#FFA15A",
           "#19d3f3",
           "#FF6692",
           "#B6E880",
           "#FF97FF",
           "#FECB52"
          ],
          "font": {
           "color": "#2a3f5f"
          },
          "geo": {
           "bgcolor": "white",
           "lakecolor": "white",
           "landcolor": "#E5ECF6",
           "showlakes": true,
           "showland": true,
           "subunitcolor": "white"
          },
          "hoverlabel": {
           "align": "left"
          },
          "hovermode": "closest",
          "mapbox": {
           "style": "light"
          },
          "paper_bgcolor": "white",
          "plot_bgcolor": "#E5ECF6",
          "polar": {
           "angularaxis": {
            "gridcolor": "white",
            "linecolor": "white",
            "ticks": ""
           },
           "bgcolor": "#E5ECF6",
           "radialaxis": {
            "gridcolor": "white",
            "linecolor": "white",
            "ticks": ""
           }
          },
          "scene": {
           "xaxis": {
            "backgroundcolor": "#E5ECF6",
            "gridcolor": "white",
            "gridwidth": 2,
            "linecolor": "white",
            "showbackground": true,
            "ticks": "",
            "zerolinecolor": "white"
           },
           "yaxis": {
            "backgroundcolor": "#E5ECF6",
            "gridcolor": "white",
            "gridwidth": 2,
            "linecolor": "white",
            "showbackground": true,
            "ticks": "",
            "zerolinecolor": "white"
           },
           "zaxis": {
            "backgroundcolor": "#E5ECF6",
            "gridcolor": "white",
            "gridwidth": 2,
            "linecolor": "white",
            "showbackground": true,
            "ticks": "",
            "zerolinecolor": "white"
           }
          },
          "shapedefaults": {
           "line": {
            "color": "#2a3f5f"
           }
          },
          "ternary": {
           "aaxis": {
            "gridcolor": "white",
            "linecolor": "white",
            "ticks": ""
           },
           "baxis": {
            "gridcolor": "white",
            "linecolor": "white",
            "ticks": ""
           },
           "bgcolor": "#E5ECF6",
           "caxis": {
            "gridcolor": "white",
            "linecolor": "white",
            "ticks": ""
           }
          },
          "title": {
           "x": 0.05
          },
          "xaxis": {
           "automargin": true,
           "gridcolor": "white",
           "linecolor": "white",
           "ticks": "",
           "zerolinecolor": "white",
           "zerolinewidth": 2
          },
          "yaxis": {
           "automargin": true,
           "gridcolor": "white",
           "linecolor": "white",
           "ticks": "",
           "zerolinecolor": "white",
           "zerolinewidth": 2
          }
         }
        }
       }
      },
      "text/html": [
       "<div>\n",
       "        \n",
       "        \n",
       "            <div id=\"82a57310-ccbf-4748-91ec-290087d22261\" class=\"plotly-graph-div\" style=\"height:525px; width:100%;\"></div>\n",
       "            <script type=\"text/javascript\">\n",
       "                require([\"plotly\"], function(Plotly) {\n",
       "                    window.PLOTLYENV=window.PLOTLYENV || {};\n",
       "                    \n",
       "                if (document.getElementById(\"82a57310-ccbf-4748-91ec-290087d22261\")) {\n",
       "                    Plotly.newPlot(\n",
       "                        '82a57310-ccbf-4748-91ec-290087d22261',\n",
       "                        [{\"mode\": \"markers\", \"name\": \"data\", \"type\": \"scatter\", \"x\": [0.3697912231275372, -0.1522715410311959, 1.2949490268356414, -0.6401194626897339, 0.28831091346404186, -0.3840029221497643, -0.13929610099138554, 2.257518663894492, 0.8539173813633567, -0.9205959361791941, -0.185917799843242, -1.8989742374016996, 1.9821343977017658, -0.6013668429225342, -0.22070500060750375, 0.7990193574692399, 0.8246176050151848, -0.39371605221052575, 0.3179915403153519, -0.3915515583307807, 0.16410521624480606, 0.07090998964214179, 0.6090516380078045, -1.0694482812570896, 0.8814444476804313, 0.9276481270919011, -0.7415759985755368, -0.7791456512971853, -1.3250848227139573, -0.25537493294635183, -0.5714330119673271, 0.8884327702971679, 0.6208392100404672, 0.3172658151153796, 0.9301344422993105, 0.45640295088507504, 2.4445649908614873, -3.1007532704247285, -1.0017649196604121, -1.5764777803014158, 0.8407230423653517, -0.4122212988571141, 0.5164852968038374, -0.8963209641641264, 0.8210551996932673, 1.0825764459174987, -0.35896003618345784, -0.416373591906683, -2.3182395431066056, 0.0356756354280955, -0.821404597238674, 0.7069272773412559, -0.568081715211379, 1.2175133108641998, -0.17445746919810046, 0.7292962264482866, -0.29770660267800086, 1.7009566707309058, 0.31110262903620656, 0.5222655736790531, 0.021145208577617394, 0.6998262464456313, 0.018893110528473717, 0.25068724917710306, 0.9524027540901578, -1.2392884251653267, -0.014616057914589156, -1.2411451216193072, -0.6580742916744221, -0.5926530137419865, 0.4036533330011778, 1.752146461442136, -2.2062030749951003, 1.0805354010405537, -1.917003680192857, 0.4466554954457689, -0.8284927472875622, 1.7446971266857048, -2.204186947885988, -0.15663422404603786, 0.8809050507200895, -1.0756548596720028, -0.755282844090469, 0.16639374184506195, -0.8137426157313838, -0.9170706952490012, -0.1708404269794756, 0.5285312530406534, 2.068117205903815, 1.2863504012791809, 0.43067064215024986, 0.9005750284239262, 0.5721634286030648, 0.47006608512334574, -0.8399488651320244, -2.2633500992344207, 0.11952299629061486, 1.8590815707537747, 0.06387066798980631, -0.420233795415513, -0.8088260507505362, -1.2762922890303088, 1.633325478520992, 1.8817853949055507, -0.2752696347460168, -0.9673307333241163, 2.200687992414232, -0.5629189000912982, -1.111175824424996, -0.8247745812980862, -1.854965756973237, -0.15875404341173785, -0.909302847637271, -0.2340586585400788, -0.30019168370868743, 0.35097640558433374, -0.23944543993459663, 0.8780597614685368, -1.0845673001432317, -0.373566277153441, 0.9043220125217937, -0.6827489174329217, 0.02628009822320145, -0.5535316087634048, -0.27472768321671803, 1.8675904752505847, 0.3060662742415513, -1.4460003545914504, -0.25501301360383377, -0.8754048423456127, 1.1216403693944081, 2.7616682732105113, -0.41994719324219715, -1.1139880521593544, 0.33257052565867967, -1.5207650581591663, -0.2705335707190535, 1.1064051915581967, 0.37966725759140424, -0.9665747441954397, 0.8949172666637595, -0.6852284575402313, -0.4150693236252966, 0.28370447457224574, -1.4722797620894, -1.1403868646174833, -0.25633013394324516, -0.028688568202710034, 0.5141209957157418, 1.9197068118464033, 0.19232935047924063, 0.5220922907845067, -2.2972549613478, -0.08467684768608338, 1.0210175462631617, 0.27348399941651375, -0.5452969483900035, 0.7654461653949977, -0.14792939421810578, -1.4398081708424069, 0.8448728065707707, 2.4567041449808955, 0.9992066773605456, -0.5710363254809981, -0.4070857889829875, -0.6913829493451136, -0.2023749175842099, 0.045844146233405256, 0.3723976910394757, -0.24467824537196906, 1.252700897566119, -0.2917447409612437, -0.03545923089138299, 0.5908159587113833, 1.7036566402595414, -0.048523406263682144, 1.041490323427106, -0.5216117772746784, 2.9901061268613627, -0.9850146761315807, -1.4037698786635209, -2.474362924446793, 0.7465576654160547, 0.7502728047450632, -1.5554026401346228, 0.9965527756380803, 0.2837353074005322, -0.15185560212957705, 1.2502544620418825, 2.5987340545785416, -0.04365827743602493, 2.2615810906307106, -0.9955008897543772, -0.363489737025142, -0.22437670303677704, -0.6548734673485732, -1.4122834747145818, -1.6666360034249506, -1.3731073726661647, 0.9580897129210906, -0.16473306446373623, -1.4137031973588516, -0.15812984407524108, -0.33204823472032013, 0.23580624592298738, 1.780037190926481, 0.7656693604808551, -1.4768379316370688, 0.5750052686401539, 0.5168217692234516, -0.9214118627850655, -0.21507358683566874, -0.46254403206954364, 1.180290461500168, -1.5298935331966972, -0.39398822249904314, 1.8680719857054557, -1.8147148699240758, 0.2667235350191644, 0.6911657144087427, 1.1054635571085842, 0.11179070231463553, 0.8295855576845734, -0.7493710358754707, -0.5985885389309569, -1.832904115547471, -0.3687083522719266, -1.8216407375412658, -0.697507678756367, 0.17067754955841705, 1.1659432072857947, 0.2528875121627568, -0.09217871476433047, -0.5780552735385296, 0.022092926232534116, 0.3143229314260251, -1.230656469968182, -0.39519485019414163, 0.8892398685981586, 2.047582979459488, -1.3444885396116428, -0.5989867317523059, -0.5842538352105686, 0.9559489329478743, 0.41385986298664235, -0.3528219582996125, 1.384307434517315, -0.7362174523825277, -0.6176132618054345, 0.3277238332049803, -1.1441644071399484, -1.014121470913975, 0.9829425217947936, 1.111119590643009, 0.7670356148370188, 0.18234228137206954, 1.2982081498632219, -0.4904125140158762, 0.6059674669835836, 0.5414479110632395, -1.9339739511627438, 0.9989999175239399, -1.7915629218379339, 0.9351099208036875, 0.21361422987203818, 0.1374715753509737, 1.5974174342951641, 0.16163540964801454, 0.2995797198614746, 0.8893780191489906, -1.4881863440744576, 1.2918264181207393, 1.5023958756021896, 0.8971891206096417, -0.4590965510354401, 0.18707837524139767, 0.5547611877912927, 0.9172019238949729, 0.7522199945563682, -1.6326087367651696, 0.38838956068467057, 0.14745281145797087, -0.31012977267964, -0.4931047426172753, 0.4614922138732902, 0.21911480204882935, -0.2696931390631805, -0.5488528686255049, -0.8646718229255329, -0.28878334658913357, 0.15591523365705176, -1.8487288090920757, 1.3406999052723234, -1.592981724033259, -0.8311763003810795, 0.32316025449406166, -0.5223113253264645, -0.6167084026134215, 0.35297577477189074, 2.145066961911711, 1.495702094328919, -1.4757582598351866, 0.06142614823337514, 1.9773959077598746, -0.3119878456751037, 0.9884271357957279, 0.07581744159018586, -0.8264433245676213, 0.881350962130408, 1.041600837253535, -0.65053086249323, 1.6795202142066366, -0.2913973192872474, -1.1552374454978533, 0.7437035999502645, 1.8104263501854396, -1.0356975653802798, 1.6025976388147316, -1.3542660370091482, 0.6050553852504091, -0.9152707384538661, -1.4276671903013938, -0.17813573232839852, 0.867729362229166, 0.045196943426836805, 0.5120911076287602, 0.9204190187838743, -2.4589179292670718, -0.45636841758770846, -0.28937186378723173, 0.10470644433299323, 0.857510263657202, 1.128423460044637, 0.7299595640092941, -1.342826856512945, 0.44195535604070263, -0.2146354167226673, -0.07400723954359018, -0.03437900677402277, 0.10346158366586952, -1.5335462045099753, -0.4125605897841576, -0.027576861848841422, -0.4846279649753411, -0.5129928001580444, 0.717889598300435, -0.4555790981820493, 1.1578010429272652, 1.3517597521446614, -0.4276598666758565, -0.23679806488551192, -1.8248061994553928, -0.8496642936493091, -0.6070016059395624, 0.10485067421795137, -1.1902716212117068, -0.28847673464969065, -1.4770485151650021, -2.9936727140825856, -0.6155144415191053, -0.5335561242698197, -0.18055638803532983, -0.0014962636520519917, -1.567683727682599, -0.7310849444215629, 0.7620218744155492, 1.94234719937134, -1.250269839489684, -0.6002720867682808, 0.8712790204035298, -1.0384675462062738, 0.28224416382088374, 0.6255438230545043, 0.26772660023440725, -0.35210032608392594, 0.5335295674806061, -0.49123387090577403, 0.9119355751800771, -0.35367713932240935, 0.5857188279753442, -1.5123022202272831, -0.5963186878783339, 0.13706470833785994, 1.4133938034548421, -0.09423374236477058, -0.9394094228984325, 0.23412940469390792, -1.31315373012779, 0.1926215912524075, 1.0471111814268754, -1.497663551314108, -1.5320356947071674, -1.7207434450556796, -0.9129408453047849, 1.1239048973347363, 0.363094464509708, 0.10219313608042462, -2.431276632569374, -0.9671814615096905, -2.0805854273267883, 1.3926235756019407, -0.6396182736904414, 0.3176053958881976, 0.005123485601686661, 1.030294022963629, -0.882105748819189, -1.4946501488351673, -0.9225925868433104, 1.3856087660127758, 0.8999806701144414, 2.5465451221986255, -2.1316853641332445, 0.2291712282249048, -1.2443984468850413, -0.43347556091982803, -2.9742641183307237, 1.1666730536517154, 0.09937379683326425, 0.4094686420058491, 0.24803398420610767, -0.01677671805098641, -0.11719402782038413, -0.14489363660185775, 0.33122059008114674, 0.35169685555805474, 0.6047919615992093, 0.2811691689387651, 1.7496872406493307, -0.8335701195892795, -1.53266769517005, 0.054289580224497355, 0.08972256955934678, 2.0882959652576676, 0.31597031406862447, -0.9244094649646187, 1.4103430635893845, 1.2183333268052847, 0.7183643700640318, 1.0798480538690571, 1.183496316401446, -0.2881912840916861, -0.645274585653259, -1.2835999375663998, -0.20967633465403007, 0.3882067113668286, 0.5455051392293337, 1.0996489707404886, 1.134732862011004, 0.9004587735006485, -1.2731073116027571, -0.6801996225640603, 0.17857932918633998, -0.764396541619278, 0.13937520503663517, -0.48773444613426054, 0.3239445792956729, -0.2346468926551466, 1.2082537729568779, 0.8914356142224776, 0.095405922131794, 0.611853927467082, -0.48916382399476455, -0.463913216979782, 0.6990025411366766, 0.34666034850350746, 0.845999276154017, 1.4793162109074973, -1.1926681334401212, 0.7706831573587317, -1.950382672590253, 1.4209398491127363, 0.18150390871863503, -0.03584852265379147, -0.5069909743327352, -1.1425770038234977, 2.008919832844613, 0.36912555099638883, 1.3866622183222796, 1.439552312859329, 1.4029268351610782, 1.950973517924328, 0.8669905300844949, -1.0526055031752475, 0.06649584263289188, 0.010452629896494777, 0.752207146627037, -0.20815889483473476, 0.8542764341445436, -0.5891111686215341, -3.2226987061844734, 0.042293223043637446, -0.18749741383686563, -0.5623251249770622, -0.13061857820660452, 0.7072295462013962, -0.7954084364576578, 0.4634879356785935, -0.10023248121360465, 0.7046954531680802, -1.0793317496392645, -0.17995511837319117, 1.201193694926284, 2.8323147347063427, -1.410804464928095, 0.8744291230191991, -1.414713735289753, -0.15394644989061923, -0.32808553564513904, -1.182391892719013, -0.07599385622964967, -0.7786296903218903, 0.04570047942896808, -0.9395110011430591, 1.0538378973942524, 0.6654185098653975, 1.4319057083168323, 1.2701768847956771, -0.35156228853079324, -2.6984884675151077, 0.09872271655864458, -0.1072923071351301, 0.2518122164828773, 1.745033773536899, 1.3572748430791883, -0.41461059478619694, -0.3120021049063356, 0.8583659792836931, -0.16284595248102288, -0.8259271982894486, 0.25012352667431564, -1.3667593604588175, -1.0300317790131372, 0.1857896864498418, -1.7426034485366833, -0.6085688172747526, -0.4446088682880828, 1.2743583381472898, -0.8852536829575992, 1.458011476625046, -0.37266223208045707, 0.7258438941174287, 0.2534047668057193, -0.20556582016526065, 0.3543935357836632, -0.3087794506809401, -0.06881532051605022, -0.36085241612872404, 0.9180016074576054, 1.8492649962797962, 1.378530248869909, -0.451545435100437, -0.2650361880009213, -0.6348021580586715, 0.27398830912225836, -1.0311197383214203, 0.4266627759642551, 0.5124401769266209, -0.44974581004988595, 0.6963067711237024, -0.5769146061613656, 1.4068134270500936, 1.9872433342693907, 1.693027328716507, -0.27128867095672293, 0.34737063110292465, 0.6210493598066238, -0.246461377729721, -0.4742926329272504, -0.1715495654167183, 0.8379995741132406, 0.037638100633768816, -0.7268765888277802, 0.9050344488985343, 0.6029437646980094, -1.0204175673327571, -1.5518622962201818, -1.4702752054381967, 0.965906017020541, -1.1172959507322637, 1.2597583736722648, 0.9790661156382323, 0.19207600661312818, -0.3831289425943694, 1.0659932104143572, 0.39716471708405393, -0.44306151902509744, -1.3794100672513376, 0.5962336704939702, -0.442504318149014, -1.0726756436388436, 0.26517731991037313, -0.07831617222722423, 0.20597133797885317, 0.9837079998070503, 0.06481124135145552, 2.08851957894982, 0.9859629807240354, 0.4331420314434248, -1.3251891030018763, 0.5959701826276246, 0.937211922932436, -1.2118282377394782, -0.4396510038984632, -0.09326913727760748, 0.3830094386169782, 0.2867228113694971, 0.5593033722182583, -1.5390540351776227, -1.1175436308865416, -0.09345951577286642, -0.843411307686636, -0.003968991869124644, -1.693290961653312, -0.8025127804109061, -0.6208936037805812, 1.0074736776810314, -0.9971838750436058, -1.1453325187747723, -0.1917812690187328, 1.2077618221055755, 0.16017744490537342, 1.3484708430602657, 1.0727301002953724, -0.6703675886511453, -1.227133959458435, -2.7188878780065053, 1.03482914670125, 0.24049785428206547, 0.6404806288489622, -1.3474104880812352, 1.3687259998321433, 0.16255317402069613, 0.09345952927669401, -0.02191485054418039, 0.25291692066684873, -0.8985672730193933, -1.4964282880447477, 1.7034059724568151, 0.6049671579669654, 0.5458838370668063, -1.3889317278104227, -1.6296427928090602, -0.39824937349908524, -0.20667409316630064, -1.0462585240930966, 1.1858996163059181, -0.569293340330475, 0.48331957750531995, -0.9117052601617688, -0.25735548999782026, -0.4560847801408867, 0.6908653890055304, -0.07703016873600871, 0.8719988424815435, -0.17652308499673344, 0.35814457434545727, -1.5024616639781108, 0.16120258422922815, 0.19348553280457126, -0.5126975585222283, -1.5174377911355585, 0.17901006056532776, 0.010200955143806487, -1.248670929189135, 1.0235924427880672, -0.9282620587129319, -1.0194981363042412, -1.8647859479948274, -0.5853030740302655, 1.00981976833482, -1.4138049189365787, 0.38292891077456376, -0.032836518532863894, 1.6570396107512062, -0.46375610188994904, -0.06701650003936242, 0.8331488727210513, 1.0299749041986714, 0.934077018113372, 0.42635513675847014, 0.08766341447922192, 0.6802767551400455, 1.806638726821974, -0.00954424450523605, 0.3069157660697165, -0.28911196404196493, -1.4322780575163185, -1.3484737514346863, -0.974913229705507, -1.0689872882266185, -1.0109446061688891, -0.5152109877130288, 0.8632243476765011, 0.795934059224034, 0.5227145051026741, 0.6185147392131466, -0.16692511126309897, -0.10169164452788013, 0.6156990284980952, -1.7732360957926248, -0.4112421548852204, 0.30279191709978887, -0.5414328971552831, 0.47197704627984693, 0.9920236529820543, 1.4720508667719738, -0.9797460151877577, 0.662813367520862, -0.6092620062958349, -0.5351930515085978, -0.7402418370585746, -0.5890624687848705, -1.32814987111812, 0.08323349577014684, -1.2013770935654249, 0.1761200738941373, 0.6616311526681157, -0.5525617362768981, -1.856311851390777, -1.4602469913098701, -1.091800777116109, -1.272085502844482, 0.1384875695258901, -0.4611541500171494, 0.5720086489120957, 0.12770981005297777, 1.747728849532334, -0.21509689718902975, 0.44981609321059907, -0.1014679993857923, 0.05900149745363405, 1.1375645418805906, -1.8575702316110778, -0.34656320239652544, 0.07083365555626815, -1.0883477411555744, 1.3823864476745933, -0.5048155186644805, 0.7294782099307291, 0.25720438037532245, -0.8899210382353742, -1.3105457244375167, -0.46270258830744065, -1.8736055542759875, -0.29776953545445906, -0.6135315225591025, -0.22220214614400943, -0.39561143169375435, -1.3451240823363837, 0.5872858982281665, -0.6143363504473248, -0.5480457807975657, -1.4939814498499764, 0.5376097991519052, 0.25632250522802263, -0.7015401498179875, -0.15191138105102833, 0.1257592714182674, -1.0149119496509063, 1.8312315585552295, -1.3163060573957086, 0.3791718807278605, -0.5052841208649509, 0.6342050511331153, 0.43422430648825877, 0.31475099685846225, -0.8862364743398101, 0.8998753641318344, -0.5538032956878369, 1.998125760763852, 0.20279384412205062, 0.2775742773853735, 1.1388588584269335, 0.6022901566870615, 1.3476024681719438, -0.975937870984813, -1.188943213719947, -0.39086137000982474, -1.1643564533878923, 2.244763628892264, -1.2941234309897023, 0.0734633240138593, 1.6524308608196494, -1.3631649540735864, 0.05357881106552588, 0.0802601469304703, -1.251722604278277, -1.314434242250727, 0.3598126452712431, -0.8091809791395919, 0.5792724510153908, -0.043431248764588246, -0.11470033039218448, 0.12077722182254925, 0.5859280402982032, 0.09497947344031532, 1.9211205790885215, 1.840358368102722, -0.8934337389986745, -0.2347446959360769, 1.2041798310172054, -0.26740629552614625, -1.5738917278860605, 0.5787663550485298, 1.4296139842254714, -0.6633057044457806, -0.7423987493992139, -1.9863290336779085, -0.6608749180980624, 1.28715170711091, 0.5967169551934792, -0.600641655398489, 0.6256625084954375, -1.7679705395274934, -0.3176568219753141, 1.4428083186277672, -0.4479288885684834, 0.8319028328377379, -0.8240339378476526, 0.04247384977552048, -0.020483291450443534, -0.8562615412453811, -0.367211155053392, -0.10103253325328257, -0.1317063597759588, -0.8093637690563069, -0.49222893969036596, 0.8308439093580643, 0.019837421647507264, -1.053131853648233, -1.3453570614088353, 1.85763042269165, -1.0869710864107551, -0.25977232660731503, 0.6668717489348767, 0.7406130915766453, 0.6609527456528633, 0.7965286097777547, -1.8871010367680097, 0.45900815694988156, -0.7591478975080036, -0.1752926983877749, -1.1543976231028485, 0.2610450171675762, -1.0232563371208543, -0.7661161569488041, -0.15136021507656663, 0.19368188739197925, -1.18984306433312, -0.07852630891131405, -0.18973482569854808, 0.7755080794980502, 0.1980707031941181, -1.1181118712600966, -0.8202243699127982, -1.088206954483015, 1.6714842701176562, -1.065868912757437, 0.23688703825289337, 0.3140564697993269, 0.9710179812179535, -1.2781659149863112, 0.1753416252973732, 0.2701316446023335, -1.1654631831636777, 0.7627875167631855, -2.055443147757272, 2.1258885070835496, -1.4027546230436685, 1.0035996633268436, 0.016227320040261624, -0.03038922226520357, -0.8856074783754366, 1.043304953184176, -1.5688969890127396, 1.1680421737749924, 0.5382387607049872, 0.2998857453415739, 1.2875138795311936, -0.7588091709695045, 1.765169957072211, -0.5015173988291288, -1.3079288129181252, 0.26988552832429613, -1.1724798084144483, -0.7392701727813159, -0.8378231434940933, 0.7674334203922264, 0.9505899440923472, -0.1672102514221218, -0.7056631519137482, -0.2886927890948605, 1.5851723123967099, -0.9467308655219319, 0.0041330638406264315, -0.4089235259059301, -1.9094813165246707, -1.368842426585382, 1.6148966940827165, 0.8449656479366061, 0.4939879543550859, 1.5484424477297372, -0.4633077863510259, 1.5179014506363437, -2.007729776672108, -0.5626925825484815, 0.31713573892716374, 0.7541287508742245, 2.1926358612953356, -0.33365862913972394, 1.3283285972233043, -1.5058412077836103, -0.19297126160415073, -0.3325399410542257, -0.9168205547533758, -0.48268713395071866, 0.3883240887529398, 0.21995347601871612, -0.6122106582629235, 1.6608678067035911, -0.8649952045679937, -1.3879331880728036, 0.19468345670618264, 0.21361382926632064, -0.529459932273369, -0.8787597120726087, -0.17049947012562733, 1.2757023359664963, -0.4810593077101864, -1.5917339375659085, -0.9115364633796245, 0.049288772597347395, 0.1800722692098737, 1.454283199239731, -1.803662751367318, -0.10055584211860119, 0.7934646642644094, -0.5225539285830679, -1.6332658819077739, 0.8921011709933475, -1.3233809954029043, 0.37985596534293403, -1.0953018770733416, -0.5795374393634539, -1.0460188448540395, 0.6612942136044747, 0.8984716565130079, 0.24693970194471523, -0.2444786671550618, -0.42816955163429143, -0.14843609134960128, 1.0749156865598175, 0.2581204084591221, -0.06265068860243672, -1.9422027488692266, 2.7006571053337214, 1.691393710612649, -0.7488027067253232, -0.16519657711912164, -0.5026898567854875, 0.8120672906357669, -1.3201871754417596, -3.544512817358704, -0.7912180964654478, -0.6335004216419969, -0.6333123276241639, 0.6491153788181663, 0.3055754908495263, 1.2895877663273818, 0.8275123732971469, -0.31449237048517115, -0.2597526164877884, 1.6006072747729925, -0.7848607160792769, -0.06505959357272187, 0.666115745233237, 0.41893908914762057, -1.0285738358897425, -0.48565731580400157, 0.646946073379938, 1.4026439014324945, 0.27783147855766616, -0.1418987930821509, 2.819452905840433, 0.2726290143378471, -1.046571205147577, 0.5382109496609786, -1.637867589455444, 1.256939507870926, -0.6816504266115817, 0.14194109425082793, -0.006972543824080106, 0.10969363138259507, 0.24773150823342843, -0.31480784340254314, 0.11826741496424753, -0.16692418663633585, -0.5054437729874185, -0.24955478869249226, -0.8928880605580952], \"y\": [0.16749122143511241, -1.443523494882883, 3.001973452807006, -2.78427036523834, -0.24875327783080628, -2.166728505968137, -1.6232555772845825, 5.894310879638685, 1.5574176091350982, -3.8020798838842262, -1.5613954804079422, -6.5781376493757415, 4.825031253595105, -2.568296660129305, -1.6504947508482555, 1.4766361882570835, 1.549012522733761, -2.2908730961917727, -0.146664930869927, -2.2120794460201108, -0.5648242823555514, -0.797718543126452, 0.9224366521999334, -4.120917252085876, 1.4150865173353433, 1.8293359897720143, -3.163844676168077, -3.2867305971822165, -5.007553191481705, -1.622644705709221, -2.681262437492442, 1.738177058357397, 1.017035148069959, -0.04637261110835747, 1.7728403529574575, 0.4774703623230003, 6.232703835181786, -10.156826760488128, -3.991762271238464, -5.636783823294288, 1.5362532531596853, -2.1264331224364525, 0.6339707136214394, -3.8424869742555368, 1.4170080879384965, 2.4047206022678824, -2.207083519283845, -2.249816272930688, -7.975785140174506, -0.8478878727515923, -3.443162291226399, 1.226096829081015, -2.7931873275434786, 2.6294565254139224, -1.5298926804235358, 1.331360163888485, -1.8014828723175123, 4.01829221854519, -0.024112203947092493, 0.6059530768018452, -1.0435351134905966, 1.1142004695295766, -0.9497737292824046, -0.1971254579338606, 1.8972815228285451, -4.719664068831247, -1.0563959399755554, -4.562317939115778, -2.7599015623282432, -2.698656725554939, 0.18605060964627107, 4.319411399869027, -7.849400161853689, 2.1545605220471526, -6.680307473436816, 0.36415477830697396, -3.5005231268090484, 4.189743458657705, -7.713009811177783, -1.5956205845850302, 1.4735387830704922, -4.204577464275947, -3.315832365267305, -0.407429605504, -3.3950807114847192, -3.833279578590114, -1.4690022571768415, 0.6390334194768389, 5.15384647649923, 2.910237079523522, 0.3805172894877619, 1.869972452114255, 0.6183847467948146, 0.43241340470174416, -3.739150895453031, -7.825570142210176, -0.7311443781383407, 4.561165930898196, -0.8917397817790846, -2.336607206825347, -3.3372496221077452, -4.842331258689449, 3.750188117946283, 4.694906384256017, -1.7567424110346368, -3.9459190759693077, 5.525132370035184, -2.7632399461328485, -4.358862802007737, -3.642516964218461, -6.569160402877776, -1.6208435459652912, -3.8480609660104035, -1.707943247481125, -1.8970725726877828, -0.08483770923198625, -1.713488884997263, 1.6975945593330184, -4.020962683888335, -2.034326622035999, 1.6236208376657004, -2.9565183414730964, -1.1045489078844746, -2.6627522537470942, -1.8067647517729977, 4.609833657324757, -0.031997368009125345, -5.321123746267178, -1.9807204789799764, -3.784187404651946, 2.3623005860148965, 7.13299817887994, -2.1790851218971112, -4.144713787132653, -0.10396350168997014, -5.677688129324425, -1.707159191012951, 2.3640919569569125, 0.3506027121931269, -3.876091041730223, 1.6241412574058134, -3.1695331852460384, -2.189238284790082, -0.29452132837841605, -5.350313117785516, -4.416849534698302, -1.7341571090746886, -1.3040448519379173, 0.6175204303144035, 4.758581401758729, -0.43851763909953634, 0.583068473495564, -7.888046860933119, -1.1858463581982537, 2.1512682142385624, -0.16348334530138048, -2.77553831642056, 1.2872373003673538, -1.4856057838944243, -5.3138557095681795, 1.4793292307524408, 6.323394677232539, 1.8880901846461715, -2.5483666358653614, -2.3882015687508664, -3.2898113858238127, -1.5316577908529698, -0.8672325479581907, 0.15936391592093693, -1.7753841115594247, 2.5657087550646054, -1.8786642367985582, -1.1696029341987537, 0.8370878872759818, 4.124496147071896, -1.26195919469735, 2.162862588827601, -2.6234899879422438, 8.025074169180057, -3.977026150309227, -5.202170656048569, -8.419125870277156, 1.1201565289480353, 1.264830572559754, -5.564171311768762, 1.9349495582863236, -0.39011227765636924, -1.362693957929999, 2.760743595622515, 6.916284579219258, -1.220576060336466, 5.910454627057528, -3.914134025969447, -2.1462051438797185, -1.7296930217240754, -2.9523332005433334, -5.288082044031869, -6.002276648354637, -5.170751860358122, 1.827005104310331, -1.4693766958389052, -5.217176445814313, -1.6084152517020314, -2.036557424580213, -0.16793554595346055, 4.33875670000021, 1.4725107374995456, -5.352533642948104, 0.7782797214185276, 0.4902557995097154, -3.7306721130228864, -1.829928334550345, -2.257839865978856, 2.5780742623483883, -5.4184694568909055, -1.97280539173746, 4.612381162097692, -6.327003416541144, -0.24762824374870107, 1.210937377641201, 2.185137138259911, -0.7538475439121152, 1.6096362521317207, -3.300637004563438, -2.862365889560102, -6.592588698691242, -2.1064465694736656, -6.434217489796017, -2.9363356280536403, -0.6036493994951923, 2.6296968446831808, -0.2815049885587977, -1.2708773295386853, -2.617122487691387, -1.0801787545427488, -0.12715866495094402, -4.740308378762589, -2.380728395997178, 1.7419894519334482, 5.2457754295863275, -5.075843283292771, -2.6223416245467477, -2.936655938118411, 1.9148437636090292, 0.03106942985343844, -1.820606919096082, 3.1405131593330546, -3.2394158609191197, -2.8130138965431195, -0.1695311778972726, -4.410262053436668, -3.9922633552272915, 1.9981848016549777, 2.3574179730439595, 1.2128487592452295, -0.48098041556958704, 2.915280518369525, -2.4994688362746045, 0.8617587087823062, 0.623231366144111, -6.967658324180948, 2.0357126325575106, -6.5160853744499745, 1.9020753359757, -0.3884192811652678, -0.6253247042625737, 3.6723837317116605, -0.5550210349539388, -0.10666051758715676, 1.8398484332974891, -5.4871497783041345, 2.9523441483658868, 3.7171251474221574, 1.681269639264655, -2.3111064175289986, -0.5221974579147571, 0.5891391039992473, 1.7543572573118564, 1.1128096298646373, -5.9484876272498814, 0.32286988834421226, -0.5732053816548267, -1.8271014785762343, -2.5124088899577113, 0.4365923592715651, -0.5896893321320176, -1.774771133547527, -2.5620343271925994, -3.640130762986468, -1.869929629459838, -0.4021951222492246, -6.5170801027408345, 3.208296129471384, -5.879584338246598, -3.561802676458758, -0.060938491658684035, -2.6010191333526604, -2.9429349209612, 0.1560943824643802, 5.548961891457175, 3.3615215868866914, -5.311320887845394, -0.7654717252338357, 4.997792875090232, -1.9715210634243656, 2.140776189720682, -0.7696139361815305, -3.4750501639486107, 1.627848088512644, 2.189831038537376, -2.984140499845921, 3.9224119365526544, -1.9377553803968297, -4.56329779495705, 1.2132674491308584, 4.598120371234113, -4.086196380125565, 3.685504728063974, -5.125491596863018, 0.9174888506191369, -3.68445102591783, -5.172333301598922, -1.698002470800773, 1.6150774939097967, -0.9215406221643793, 0.665885619891599, 1.6764281159584307, -8.237424018921791, -2.3523734251821047, -2.0364470239692563, -0.784563151218605, 1.4785427078674538, 2.268499406225799, 1.0029549515782712, -4.914318466830047, 0.21116250006888787, -1.8066191723752, -1.1576814872909886, -1.0473999724593808, -1.1188379010768057, -5.566395326522137, -2.282411492335727, -1.058636935311867, -2.397489496779131, -2.5652198749668633, 1.1223316767325908, -2.306357038399715, 2.4302658808963873, 3.0347282747332187, -2.279191805897108, -1.7242203256704383, -6.6222942096320105, -3.5670761918312928, -2.8558651490592117, -0.38673627716882525, -4.526658866272353, -1.8644402967494629, -5.592073315480673, -10.03517409869697, -2.828033262426568, -2.5284132132163886, -1.328634079295666, -0.8676488110886302, -5.710725095799323, -3.217478653328008, 1.1979103763500838, 4.775043389067557, -4.687727988801356, -2.8136515868187275, 1.5231960570891847, -4.156976397901232, -0.31229020292090137, 0.8469625684523066, -0.046175476096015355, -2.0860774160014723, 0.7250364778127683, -2.311128745407955, 1.8185134213133627, -2.1222154080354985, 0.7252682824231582, -5.504659616459417, -2.726243104877169, -0.7046552342382899, 3.2264676521560895, -1.1177840694567887, -3.6500177733445445, -0.3907301462772981, -5.041252953419432, -0.3674727140899883, 2.0998333946329955, -5.575031211384793, -5.497779097730839, -6.173083888072148, -3.663327925422994, 2.4254421737532557, 0.051240498878062486, -0.6734549560182519, -8.32118724514228, -3.874123684269712, -7.411703819051302, 3.0543017588873242, -2.873309965928854, 0.044647210296408904, -1.1285169460652935, 2.1884314689256907, -3.7598564716748406, -5.32895779881891, -3.7689108512400735, 3.2298536190860374, 1.7042107097934935, 6.643614231899975, -7.3229614627025805, -0.3063691866962053, -4.700038582518352, -2.2677169102768198, -9.838463312082355, 2.6238947701918205, -0.7783921235402164, 0.1877252362704952, -0.22397026368258144, -0.9966006990466394, -1.3655635108226023, -1.2670174004541073, 0.009773655820796808, 0.03637119990168252, 0.9666885278794252, -0.27714270856683265, 4.209611337527372, -3.387010154965967, -5.56118225532026, -0.9170096557930385, -0.9479602704702441, 5.263064579144949, -0.21160340369939357, -3.8477410837829704, 3.384833906394949, 2.682087867985261, 1.2842217157202271, 2.036472260377686, 2.4429275523377307, -1.7621006154468262, -3.069205584389987, -4.7634838765088645, -1.7939471367137534, 0.16370835744800805, 0.658315148498325, 2.4320145678893503, 2.3055483557017054, 1.6140700595059236, -4.66826334431969, -3.0037564734410935, -0.4145031754475573, -3.2534957118781573, -0.5694930780887908, -2.4871906749785295, -0.14159320033432193, -1.8774076844441736, 2.487751860482642, 1.8013187137004216, -0.7398280757491978, 0.8296138122597767, -2.356316646367871, -2.2603998257425966, 1.1737630371854937, -0.14836111902637375, 1.5331537826999886, 3.287847912584067, -4.695478484403613, 1.361501385736014, -6.847881636935869, 3.064967308365152, -0.3775398816697092, -1.204195371007647, -2.5587525867503227, -4.284794242178248, 5.129756144001841, 0.21771333108626173, 3.169263038437711, 3.212443045387003, 3.3179402661500124, 4.943029892817165, 1.6762338810086057, -4.087330885351182, -0.6612707074742167, -0.8788728261369385, 1.4286368545442651, -1.6950059033367173, 1.5940995833657063, -2.699277393056912, -10.62872739425619, -0.829520848240807, -1.6614846313920912, -2.767102646947838, -1.435404864269786, 1.1419084866488969, -3.4365213337355187, 0.5218754745538668, -1.4222005869344723, 1.2180535349105008, -4.227403837831693, -1.3725173292650827, 2.578349332426458, 7.43579563065528, -5.549965436184765, 1.746073294353659, -5.240884804425446, -1.4318686280886048, -1.9430233559290107, -4.491250394466472, -1.232556997164123, -3.4175435224773514, -0.8893536820063153, -3.8658980280459363, 2.1855487204053112, 0.920787812508136, 3.387400892217405, 2.808249596308636, -1.9686648448642021, -8.964222811097612, -0.742385913211536, -1.3972142313803388, -0.42906418133911717, 4.18682055773749, 2.974199625401704, -2.279615800322505, -1.9312690310662122, 1.7440105454768033, -1.5030134327386973, -3.3393745516872055, -0.1833498437122808, -5.104049844887983, -4.063053054504918, -0.4463482479097379, -6.074753755451222, -2.7656649315248876, -2.503311797520154, 2.8889177115509286, -3.877745892990387, 3.3753806595585223, -2.1219021587097107, 1.0801883216077486, -0.16094503389269166, -1.564986203673356, 0.10846288610188579, -1.950112026661009, -1.1745810557156264, -2.223863392736904, 1.6787103324084007, 4.515025097863771, 3.1667152750400476, -2.398642399804563, -1.6525913177089846, -2.8179920178945412, -0.18300341340130713, -4.019229101899963, 0.22398823866405654, 0.5968987448525198, -2.4483317955111694, 0.9942102728151903, -2.8623413996091727, 3.15617297085128, 4.8763778315445245, 4.15901605361296, -1.7665076178673231, 0.20580923903025716, 0.9239738098013817, -1.748194444135791, -2.30372092193175, -1.6603288625347725, 1.3978316132557755, -0.8723004965674215, -3.147122419290686, 1.695854309974451, 0.6846232470522662, -4.000389846505927, -5.695954363510476, -5.366360877087404, 1.9153028023977492, -4.406458582966031, 2.7177834745934675, 2.100137388412964, -0.510107146089565, -2.0940178073256375, 2.465951234222326, 0.20720557043298238, -2.287150284619487, -5.14088791084271, 0.6296562145542706, -2.413069126636825, -4.162302179610505, -0.18497381006793395, -1.2404410385366333, -0.37334975635166207, 1.972304078212869, -0.6703371208305817, 5.396991571082706, 2.0252860252935836, 0.3879531799778171, -5.133612288757359, 0.736060259279038, 1.8070597755461653, -4.60904876819652, -2.3032181821056272, -1.2848419189885718, 0.16651769964176238, -0.1193095505904822, 0.738774582008742, -5.595595894561637, -4.431741260804671, -1.2630888210812035, -3.5358953859762186, -1.0656332596068947, -6.140452600254566, -3.236815973821641, -2.870118270930713, 2.062019539301902, -4.098045457713655, -4.393483682406412, -1.6552075156954664, 2.5670905685316914, -0.4915641831557633, 3.0787914764865527, 2.2734220981465545, -3.209290846091086, -4.948713191049897, -9.017824516495924, 2.0731651875989314, -0.307400117763426, 0.9444707344976201, -5.198868544920842, 3.1457603612436134, -0.5268279945848794, -0.6906155758986919, -1.0986044543299827, -0.14946579907649743, -3.79674549814947, -5.416754724918763, 4.156719390255843, 0.8692747003010535, 0.4768136996886876, -5.151910847983856, -5.986309827711786, -2.365005281415201, -1.6052236482434012, -4.159578247590539, 2.5130565102888314, -2.8083097566165858, 0.6135723162098001, -3.8112844345019194, -1.727752441143262, -2.2984189047946284, 1.025328232932154, -1.2373308206935603, 1.6056964549653439, -1.5009826882028032, 0.12471393904577861, -5.606993178076936, -0.29079447054082586, -0.4560719995411164, -2.701564752187944, -5.431319676316727, -0.3585265855946138, -1.1462195393713237, -4.816819844732068, 2.1341205840805357, -3.6556104821114763, -4.051043221666686, -6.5115974077800525, -2.804580512618782, 2.095495757960374, -5.277009396870381, 0.19851189306818343, -1.0394489135510034, 4.00731737259454, -2.3488301539690117, -1.3248354690885678, 1.4923565290064753, 1.9181091546640574, 1.5911566825000438, 0.2081420993270769, -0.8390359338144483, 1.1275410909552546, 4.39723523323983, -1.0783207819219778, -0.12760002377077803, -2.031421151163462, -5.24715461751144, -5.147345901828808, -3.868957987333036, -4.190781373269881, -3.9827580906251865, -2.542311505095308, 1.6213505504186037, 1.3180366772164682, 0.6643404261609421, 0.9703166045544414, -1.4691150404569622, -1.347379020863026, 0.8978914713880999, -6.265769256471527, -2.3407783497174615, -0.0733078636365046, -2.702944761450525, 0.5171025792927124, 1.930057531954741, 3.4477785857462964, -3.8738677628515883, 0.9755939018274369, -2.7738221022718217, -2.490617907889675, -3.2045358875278627, -2.822943915603608, -5.288006686061315, -0.7864529572174639, -4.652041114043197, -0.6590770319048103, 0.9982882472968084, -2.4790157262908448, -6.621615947745594, -5.314344824196522, -4.233570632313229, -4.791896130186728, -0.6104899786174725, -2.309672177118771, 0.6875461949425522, -0.5757163018469414, 4.211147861917337, -1.619546376067255, 0.3437368458037734, -1.4880633940032066, -0.75208007630329, 2.4340065383573424, -6.388907752034702, -2.0051829336625793, -0.8543155185317926, -4.251996456106158, 3.1671172362597297, -2.5586518782123293, 1.1703189283328286, -0.1663138668912606, -3.6200004273923083, -4.97078141327777, -2.3488570324980453, -6.623498679373184, -1.9024637869945427, -2.8463245052959207, -1.790404483757008, -2.0685144549782466, -5.00255527793573, 0.636887135123782, -2.895349547207362, -2.8077830930825356, -5.4447979481377375, 0.7142880359709801, -0.25927920475845856, -3.0966797069847676, -1.6021825072521878, -0.6134517442779943, -3.912066530598606, 4.428916920551899, -4.949943041621534, 0.25230408484350575, -2.664765785017253, 0.8711801966942512, 0.2899563863680985, 0.009586729018512236, -3.748526409553373, 1.8334054157718116, -2.5087674097484216, 5.133450753092835, -0.4340814277039264, -0.16030460711172959, 2.4264587391733863, 1.0137369242101057, 2.9981808798320024, -3.937862889765831, -4.478994346412881, -2.0964710390765524, -4.441318049501416, 5.533240584540878, -4.78881319075866, -0.7939464731876841, 3.9278774342451275, -5.017299936814321, -0.7870586889939221, -0.8471633123844204, -4.79641445697848, -5.112299871855585, 0.03291406917712905, -3.413211616676755, 0.8754240876465306, -1.0395857437578613, -1.4463461624142169, -0.6732365633925429, 0.6443695325287778, -0.7016310148886339, 4.9380339136855325, 4.625630534426474, -3.7018182217410467, -1.7584027507982778, 2.6828459829972635, -2.053884633299646, -5.8205580302335544, 0.7194896774162851, 3.372242022444505, -3.0489248941459794, -3.4520423005444973, -6.9187793207111214, -3.0119741444309533, 3.0401724368752023, 0.8070508177246984, -2.926796436635248, 0.919188918794799, -6.177621174008423, -2.088828024208076, 3.3260241402703343, -2.306367078580492, 1.4930321442587737, -3.3700203069386836, -0.8785975938878943, -1.0501965145074268, -3.7285575593900036, -2.0664772831971288, -1.2529525396300967, -1.4373525799845916, -3.430489639554302, -2.415956945265948, 1.4464071543951118, -0.954993756917291, -4.23911929475453, -5.208598343523392, 4.579376447983809, -4.240000660371945, -1.685896555385999, 1.0752112082318435, 1.1330045221271372, 0.8054534661675365, 1.4142644179628039, -6.729132126986582, 0.34189527924366736, -3.3492134361330232, -1.5693129861647306, -4.460911441708971, -0.030269759201747043, -4.0793273665351295, -3.226567687247126, -1.517313392898496, -0.36758174385347053, -4.458307837269451, -1.117695531386767, -1.536783938125677, 1.4953881702487974, -0.3642277943890643, -4.265355340427713, -3.541987597033322, -4.315063624195512, 4.157876697673789, -4.120098289613822, -0.25418720376403336, -0.1349146640123016, 2.027632363504912, -4.841342800277814, -0.49801796318842667, -0.16932064341644112, -4.4325627945962465, 1.221526905559876, -7.269817490381074, 5.4881076112095215, -5.224486995010574, 1.9645674019151222, -1.1327941721669132, -1.3550192427051218, -3.582505137215377, 2.2221192185332885, -5.760110801430047, 2.5104821354250357, 0.7798040108190295, -0.0871939350995112, 2.7833902637156642, -3.113509336731017, 4.3526203466017215, -2.7260656412404685, -4.961441209918266, -0.25079006866499665, -4.5882640315258865, -3.2682211586377248, -3.5426931129526515, 1.4153523826142171, 1.904066091130801, -1.495777045678215, -3.0113173214584776, -1.8310415918648042, 3.6837464667642315, -4.005129450092369, -1.0233080895548348, -2.19338457418203, -6.787082644519377, -5.1617023568922775, 3.941602480915703, 1.5200626899990572, 0.5347322574954143, 3.6783477737879346, -2.374389483701725, 3.4731993002509474, -6.920611832852235, -2.6366477357820424, -0.022213711134279716, 1.3716098560715386, 5.617737647557863, -2.0372417738404915, 3.138619969988744, -5.452886652288515, -1.544435932007947, -1.9431293124673532, -3.6651142686356675, -2.506215132995662, 0.23822135387965607, -0.29594647440179345, -2.955668034416558, 4.050558918718732, -3.6195213532173116, -5.157799611541088, -0.5503348514016664, -0.37560333061376555, -2.662445803140604, -3.885463682946465, -1.4653302114665074, 2.8539483747232497, -2.665267953155625, -5.633661672077711, -3.81720958022175, -0.9071854282085448, -0.4424385238699411, 3.258645510296759, -6.402591157111036, -1.060894649880821, 1.459826064326828, -2.448549120508158, -5.755970223702406, 1.7151070996529223, -4.9424516238525955, 0.12461066679451839, -4.375585021432328, -2.7679953632340055, -4.143165445966534, 0.9688385732420375, 1.6436638396257874, -0.2488415074886813, -1.8279259380299677, -2.3265831892223807, -1.622719574715204, 2.320666094025252, -0.06220317771670977, -1.226342371720977, -6.666932833192798, 6.984194259805178, 3.9626572928195594, -3.074007181280273, -1.4950682645386544, -2.554346331371151, 1.3181066471593104, -5.037346035065936, -11.461411115948955, -3.196918377209029, -2.793908824171439, -2.73416419097183, 0.8367643544405747, -0.029594200547367965, 2.810085817951525, 1.5510843926692983, -1.8655715933880936, -1.7298172084365377, 3.7211669965444885, -3.219157537843511, -1.1391010027623532, 0.7819413571095646, 0.32105121817833804, -4.183834761684015, -2.5547892253673252, 0.8579670740684443, 3.1352213917180913, -0.08167297917505778, -1.345696396434757, 7.506847748308298, -0.02941326479934553, -4.054440461469065, 0.5364515348805521, -5.70150691579313, 2.6970038272429346, -3.090293658776609, -0.5537370588554567, -0.9076650158158999, -0.5327521747313294, -0.029015794639328074, -1.7829973917062962, -0.7234991068067578, -1.5997358516617568, -2.5988843129309505, -1.672176985225757, -3.6632649575331953]}, {\"mode\": \"markers\", \"name\": \"retta \", \"type\": \"scatter\", \"x\": [0.3697912231275372, -0.1522715410311959, 1.2949490268356414, -0.6401194626897339, 0.28831091346404186, -0.3840029221497643, -0.13929610099138554, 2.257518663894492, 0.8539173813633567, -0.9205959361791941, -0.185917799843242, -1.8989742374016996, 1.9821343977017658, -0.6013668429225342, -0.22070500060750375, 0.7990193574692399, 0.8246176050151848, -0.39371605221052575, 0.3179915403153519, -0.3915515583307807, 0.16410521624480606, 0.07090998964214179, 0.6090516380078045, -1.0694482812570896, 0.8814444476804313, 0.9276481270919011, -0.7415759985755368, -0.7791456512971853, -1.3250848227139573, -0.25537493294635183, -0.5714330119673271, 0.8884327702971679, 0.6208392100404672, 0.3172658151153796, 0.9301344422993105, 0.45640295088507504, 2.4445649908614873, -3.1007532704247285, -1.0017649196604121, -1.5764777803014158, 0.8407230423653517, -0.4122212988571141, 0.5164852968038374, -0.8963209641641264, 0.8210551996932673, 1.0825764459174987, -0.35896003618345784, -0.416373591906683, -2.3182395431066056, 0.0356756354280955, -0.821404597238674, 0.7069272773412559, -0.568081715211379, 1.2175133108641998, -0.17445746919810046, 0.7292962264482866, -0.29770660267800086, 1.7009566707309058, 0.31110262903620656, 0.5222655736790531, 0.021145208577617394, 0.6998262464456313, 0.018893110528473717, 0.25068724917710306, 0.9524027540901578, -1.2392884251653267, -0.014616057914589156, -1.2411451216193072, -0.6580742916744221, -0.5926530137419865, 0.4036533330011778, 1.752146461442136, -2.2062030749951003, 1.0805354010405537, -1.917003680192857, 0.4466554954457689, -0.8284927472875622, 1.7446971266857048, -2.204186947885988, -0.15663422404603786, 0.8809050507200895, -1.0756548596720028, -0.755282844090469, 0.16639374184506195, -0.8137426157313838, -0.9170706952490012, -0.1708404269794756, 0.5285312530406534, 2.068117205903815, 1.2863504012791809, 0.43067064215024986, 0.9005750284239262, 0.5721634286030648, 0.47006608512334574, -0.8399488651320244, -2.2633500992344207, 0.11952299629061486, 1.8590815707537747, 0.06387066798980631, -0.420233795415513, -0.8088260507505362, -1.2762922890303088, 1.633325478520992, 1.8817853949055507, -0.2752696347460168, -0.9673307333241163, 2.200687992414232, -0.5629189000912982, -1.111175824424996, -0.8247745812980862, -1.854965756973237, -0.15875404341173785, -0.909302847637271, -0.2340586585400788, -0.30019168370868743, 0.35097640558433374, -0.23944543993459663, 0.8780597614685368, -1.0845673001432317, -0.373566277153441, 0.9043220125217937, -0.6827489174329217, 0.02628009822320145, -0.5535316087634048, -0.27472768321671803, 1.8675904752505847, 0.3060662742415513, -1.4460003545914504, -0.25501301360383377, -0.8754048423456127, 1.1216403693944081, 2.7616682732105113, -0.41994719324219715, -1.1139880521593544, 0.33257052565867967, -1.5207650581591663, -0.2705335707190535, 1.1064051915581967, 0.37966725759140424, -0.9665747441954397, 0.8949172666637595, -0.6852284575402313, -0.4150693236252966, 0.28370447457224574, -1.4722797620894, -1.1403868646174833, -0.25633013394324516, -0.028688568202710034, 0.5141209957157418, 1.9197068118464033, 0.19232935047924063, 0.5220922907845067, -2.2972549613478, -0.08467684768608338, 1.0210175462631617, 0.27348399941651375, -0.5452969483900035, 0.7654461653949977, -0.14792939421810578, -1.4398081708424069, 0.8448728065707707, 2.4567041449808955, 0.9992066773605456, -0.5710363254809981, -0.4070857889829875, -0.6913829493451136, -0.2023749175842099, 0.045844146233405256, 0.3723976910394757, -0.24467824537196906, 1.252700897566119, -0.2917447409612437, -0.03545923089138299, 0.5908159587113833, 1.7036566402595414, -0.048523406263682144, 1.041490323427106, -0.5216117772746784, 2.9901061268613627, -0.9850146761315807, -1.4037698786635209, -2.474362924446793, 0.7465576654160547, 0.7502728047450632, -1.5554026401346228, 0.9965527756380803, 0.2837353074005322, -0.15185560212957705, 1.2502544620418825, 2.5987340545785416, -0.04365827743602493, 2.2615810906307106, -0.9955008897543772, -0.363489737025142, -0.22437670303677704, -0.6548734673485732, -1.4122834747145818, -1.6666360034249506, -1.3731073726661647, 0.9580897129210906, -0.16473306446373623, -1.4137031973588516, -0.15812984407524108, -0.33204823472032013, 0.23580624592298738, 1.780037190926481, 0.7656693604808551, -1.4768379316370688, 0.5750052686401539, 0.5168217692234516, -0.9214118627850655, -0.21507358683566874, -0.46254403206954364, 1.180290461500168, -1.5298935331966972, -0.39398822249904314, 1.8680719857054557, -1.8147148699240758, 0.2667235350191644, 0.6911657144087427, 1.1054635571085842, 0.11179070231463553, 0.8295855576845734, -0.7493710358754707, -0.5985885389309569, -1.832904115547471, -0.3687083522719266, -1.8216407375412658, -0.697507678756367, 0.17067754955841705, 1.1659432072857947, 0.2528875121627568, -0.09217871476433047, -0.5780552735385296, 0.022092926232534116, 0.3143229314260251, -1.230656469968182, -0.39519485019414163, 0.8892398685981586, 2.047582979459488, -1.3444885396116428, -0.5989867317523059, -0.5842538352105686, 0.9559489329478743, 0.41385986298664235, -0.3528219582996125, 1.384307434517315, -0.7362174523825277, -0.6176132618054345, 0.3277238332049803, -1.1441644071399484, -1.014121470913975, 0.9829425217947936, 1.111119590643009, 0.7670356148370188, 0.18234228137206954, 1.2982081498632219, -0.4904125140158762, 0.6059674669835836, 0.5414479110632395, -1.9339739511627438, 0.9989999175239399, -1.7915629218379339, 0.9351099208036875, 0.21361422987203818, 0.1374715753509737, 1.5974174342951641, 0.16163540964801454, 0.2995797198614746, 0.8893780191489906, -1.4881863440744576, 1.2918264181207393, 1.5023958756021896, 0.8971891206096417, -0.4590965510354401, 0.18707837524139767, 0.5547611877912927, 0.9172019238949729, 0.7522199945563682, -1.6326087367651696, 0.38838956068467057, 0.14745281145797087, -0.31012977267964, -0.4931047426172753, 0.4614922138732902, 0.21911480204882935, -0.2696931390631805, -0.5488528686255049, -0.8646718229255329, -0.28878334658913357, 0.15591523365705176, -1.8487288090920757, 1.3406999052723234, -1.592981724033259, -0.8311763003810795, 0.32316025449406166, -0.5223113253264645, -0.6167084026134215, 0.35297577477189074, 2.145066961911711, 1.495702094328919, -1.4757582598351866, 0.06142614823337514, 1.9773959077598746, -0.3119878456751037, 0.9884271357957279, 0.07581744159018586, -0.8264433245676213, 0.881350962130408, 1.041600837253535, -0.65053086249323, 1.6795202142066366, -0.2913973192872474, -1.1552374454978533, 0.7437035999502645, 1.8104263501854396, -1.0356975653802798, 1.6025976388147316, -1.3542660370091482, 0.6050553852504091, -0.9152707384538661, -1.4276671903013938, -0.17813573232839852, 0.867729362229166, 0.045196943426836805, 0.5120911076287602, 0.9204190187838743, -2.4589179292670718, -0.45636841758770846, -0.28937186378723173, 0.10470644433299323, 0.857510263657202, 1.128423460044637, 0.7299595640092941, -1.342826856512945, 0.44195535604070263, -0.2146354167226673, -0.07400723954359018, -0.03437900677402277, 0.10346158366586952, -1.5335462045099753, -0.4125605897841576, -0.027576861848841422, -0.4846279649753411, -0.5129928001580444, 0.717889598300435, -0.4555790981820493, 1.1578010429272652, 1.3517597521446614, -0.4276598666758565, -0.23679806488551192, -1.8248061994553928, -0.8496642936493091, -0.6070016059395624, 0.10485067421795137, -1.1902716212117068, -0.28847673464969065, -1.4770485151650021, -2.9936727140825856, -0.6155144415191053, -0.5335561242698197, -0.18055638803532983, -0.0014962636520519917, -1.567683727682599, -0.7310849444215629, 0.7620218744155492, 1.94234719937134, -1.250269839489684, -0.6002720867682808, 0.8712790204035298, -1.0384675462062738, 0.28224416382088374, 0.6255438230545043, 0.26772660023440725, -0.35210032608392594, 0.5335295674806061, -0.49123387090577403, 0.9119355751800771, -0.35367713932240935, 0.5857188279753442, -1.5123022202272831, -0.5963186878783339, 0.13706470833785994, 1.4133938034548421, -0.09423374236477058, -0.9394094228984325, 0.23412940469390792, -1.31315373012779, 0.1926215912524075, 1.0471111814268754, -1.497663551314108, -1.5320356947071674, -1.7207434450556796, -0.9129408453047849, 1.1239048973347363, 0.363094464509708, 0.10219313608042462, -2.431276632569374, -0.9671814615096905, -2.0805854273267883, 1.3926235756019407, -0.6396182736904414, 0.3176053958881976, 0.005123485601686661, 1.030294022963629, -0.882105748819189, -1.4946501488351673, -0.9225925868433104, 1.3856087660127758, 0.8999806701144414, 2.5465451221986255, -2.1316853641332445, 0.2291712282249048, -1.2443984468850413, -0.43347556091982803, -2.9742641183307237, 1.1666730536517154, 0.09937379683326425, 0.4094686420058491, 0.24803398420610767, -0.01677671805098641, -0.11719402782038413, -0.14489363660185775, 0.33122059008114674, 0.35169685555805474, 0.6047919615992093, 0.2811691689387651, 1.7496872406493307, -0.8335701195892795, -1.53266769517005, 0.054289580224497355, 0.08972256955934678, 2.0882959652576676, 0.31597031406862447, -0.9244094649646187, 1.4103430635893845, 1.2183333268052847, 0.7183643700640318, 1.0798480538690571, 1.183496316401446, -0.2881912840916861, -0.645274585653259, -1.2835999375663998, -0.20967633465403007, 0.3882067113668286, 0.5455051392293337, 1.0996489707404886, 1.134732862011004, 0.9004587735006485, -1.2731073116027571, -0.6801996225640603, 0.17857932918633998, -0.764396541619278, 0.13937520503663517, -0.48773444613426054, 0.3239445792956729, -0.2346468926551466, 1.2082537729568779, 0.8914356142224776, 0.095405922131794, 0.611853927467082, -0.48916382399476455, -0.463913216979782, 0.6990025411366766, 0.34666034850350746, 0.845999276154017, 1.4793162109074973, -1.1926681334401212, 0.7706831573587317, -1.950382672590253, 1.4209398491127363, 0.18150390871863503, -0.03584852265379147, -0.5069909743327352, -1.1425770038234977, 2.008919832844613, 0.36912555099638883, 1.3866622183222796, 1.439552312859329, 1.4029268351610782, 1.950973517924328, 0.8669905300844949, -1.0526055031752475, 0.06649584263289188, 0.010452629896494777, 0.752207146627037, -0.20815889483473476, 0.8542764341445436, -0.5891111686215341, -3.2226987061844734, 0.042293223043637446, -0.18749741383686563, -0.5623251249770622, -0.13061857820660452, 0.7072295462013962, -0.7954084364576578, 0.4634879356785935, -0.10023248121360465, 0.7046954531680802, -1.0793317496392645, -0.17995511837319117, 1.201193694926284, 2.8323147347063427, -1.410804464928095, 0.8744291230191991, -1.414713735289753, -0.15394644989061923, -0.32808553564513904, -1.182391892719013, -0.07599385622964967, -0.7786296903218903, 0.04570047942896808, -0.9395110011430591, 1.0538378973942524, 0.6654185098653975, 1.4319057083168323, 1.2701768847956771, -0.35156228853079324, -2.6984884675151077, 0.09872271655864458, -0.1072923071351301, 0.2518122164828773, 1.745033773536899, 1.3572748430791883, -0.41461059478619694, -0.3120021049063356, 0.8583659792836931, -0.16284595248102288, -0.8259271982894486, 0.25012352667431564, -1.3667593604588175, -1.0300317790131372, 0.1857896864498418, -1.7426034485366833, -0.6085688172747526, -0.4446088682880828, 1.2743583381472898, -0.8852536829575992, 1.458011476625046, -0.37266223208045707, 0.7258438941174287, 0.2534047668057193, -0.20556582016526065, 0.3543935357836632, -0.3087794506809401, -0.06881532051605022, -0.36085241612872404, 0.9180016074576054, 1.8492649962797962, 1.378530248869909, -0.451545435100437, -0.2650361880009213, -0.6348021580586715, 0.27398830912225836, -1.0311197383214203, 0.4266627759642551, 0.5124401769266209, -0.44974581004988595, 0.6963067711237024, -0.5769146061613656, 1.4068134270500936, 1.9872433342693907, 1.693027328716507, -0.27128867095672293, 0.34737063110292465, 0.6210493598066238, -0.246461377729721, -0.4742926329272504, -0.1715495654167183, 0.8379995741132406, 0.037638100633768816, -0.7268765888277802, 0.9050344488985343, 0.6029437646980094, -1.0204175673327571, -1.5518622962201818, -1.4702752054381967, 0.965906017020541, -1.1172959507322637, 1.2597583736722648, 0.9790661156382323, 0.19207600661312818, -0.3831289425943694, 1.0659932104143572, 0.39716471708405393, -0.44306151902509744, -1.3794100672513376, 0.5962336704939702, -0.442504318149014, -1.0726756436388436, 0.26517731991037313, -0.07831617222722423, 0.20597133797885317, 0.9837079998070503, 0.06481124135145552, 2.08851957894982, 0.9859629807240354, 0.4331420314434248, -1.3251891030018763, 0.5959701826276246, 0.937211922932436, -1.2118282377394782, -0.4396510038984632, -0.09326913727760748, 0.3830094386169782, 0.2867228113694971, 0.5593033722182583, -1.5390540351776227, -1.1175436308865416, -0.09345951577286642, -0.843411307686636, -0.003968991869124644, -1.693290961653312, -0.8025127804109061, -0.6208936037805812, 1.0074736776810314, -0.9971838750436058, -1.1453325187747723, -0.1917812690187328, 1.2077618221055755, 0.16017744490537342, 1.3484708430602657, 1.0727301002953724, -0.6703675886511453, -1.227133959458435, -2.7188878780065053, 1.03482914670125, 0.24049785428206547, 0.6404806288489622, -1.3474104880812352, 1.3687259998321433, 0.16255317402069613, 0.09345952927669401, -0.02191485054418039, 0.25291692066684873, -0.8985672730193933, -1.4964282880447477, 1.7034059724568151, 0.6049671579669654, 0.5458838370668063, -1.3889317278104227, -1.6296427928090602, -0.39824937349908524, -0.20667409316630064, -1.0462585240930966, 1.1858996163059181, -0.569293340330475, 0.48331957750531995, -0.9117052601617688, -0.25735548999782026, -0.4560847801408867, 0.6908653890055304, -0.07703016873600871, 0.8719988424815435, -0.17652308499673344, 0.35814457434545727, -1.5024616639781108, 0.16120258422922815, 0.19348553280457126, -0.5126975585222283, -1.5174377911355585, 0.17901006056532776, 0.010200955143806487, -1.248670929189135, 1.0235924427880672, -0.9282620587129319, -1.0194981363042412, -1.8647859479948274, -0.5853030740302655, 1.00981976833482, -1.4138049189365787, 0.38292891077456376, -0.032836518532863894, 1.6570396107512062, -0.46375610188994904, -0.06701650003936242, 0.8331488727210513, 1.0299749041986714, 0.934077018113372, 0.42635513675847014, 0.08766341447922192, 0.6802767551400455, 1.806638726821974, -0.00954424450523605, 0.3069157660697165, -0.28911196404196493, -1.4322780575163185, -1.3484737514346863, -0.974913229705507, -1.0689872882266185, -1.0109446061688891, -0.5152109877130288, 0.8632243476765011, 0.795934059224034, 0.5227145051026741, 0.6185147392131466, -0.16692511126309897, -0.10169164452788013, 0.6156990284980952, -1.7732360957926248, -0.4112421548852204, 0.30279191709978887, -0.5414328971552831, 0.47197704627984693, 0.9920236529820543, 1.4720508667719738, -0.9797460151877577, 0.662813367520862, -0.6092620062958349, -0.5351930515085978, -0.7402418370585746, -0.5890624687848705, -1.32814987111812, 0.08323349577014684, -1.2013770935654249, 0.1761200738941373, 0.6616311526681157, -0.5525617362768981, -1.856311851390777, -1.4602469913098701, -1.091800777116109, -1.272085502844482, 0.1384875695258901, -0.4611541500171494, 0.5720086489120957, 0.12770981005297777, 1.747728849532334, -0.21509689718902975, 0.44981609321059907, -0.1014679993857923, 0.05900149745363405, 1.1375645418805906, -1.8575702316110778, -0.34656320239652544, 0.07083365555626815, -1.0883477411555744, 1.3823864476745933, -0.5048155186644805, 0.7294782099307291, 0.25720438037532245, -0.8899210382353742, -1.3105457244375167, -0.46270258830744065, -1.8736055542759875, -0.29776953545445906, -0.6135315225591025, -0.22220214614400943, -0.39561143169375435, -1.3451240823363837, 0.5872858982281665, -0.6143363504473248, -0.5480457807975657, -1.4939814498499764, 0.5376097991519052, 0.25632250522802263, -0.7015401498179875, -0.15191138105102833, 0.1257592714182674, -1.0149119496509063, 1.8312315585552295, -1.3163060573957086, 0.3791718807278605, -0.5052841208649509, 0.6342050511331153, 0.43422430648825877, 0.31475099685846225, -0.8862364743398101, 0.8998753641318344, -0.5538032956878369, 1.998125760763852, 0.20279384412205062, 0.2775742773853735, 1.1388588584269335, 0.6022901566870615, 1.3476024681719438, -0.975937870984813, -1.188943213719947, -0.39086137000982474, -1.1643564533878923, 2.244763628892264, -1.2941234309897023, 0.0734633240138593, 1.6524308608196494, -1.3631649540735864, 0.05357881106552588, 0.0802601469304703, -1.251722604278277, -1.314434242250727, 0.3598126452712431, -0.8091809791395919, 0.5792724510153908, -0.043431248764588246, -0.11470033039218448, 0.12077722182254925, 0.5859280402982032, 0.09497947344031532, 1.9211205790885215, 1.840358368102722, -0.8934337389986745, -0.2347446959360769, 1.2041798310172054, -0.26740629552614625, -1.5738917278860605, 0.5787663550485298, 1.4296139842254714, -0.6633057044457806, -0.7423987493992139, -1.9863290336779085, -0.6608749180980624, 1.28715170711091, 0.5967169551934792, -0.600641655398489, 0.6256625084954375, -1.7679705395274934, -0.3176568219753141, 1.4428083186277672, -0.4479288885684834, 0.8319028328377379, -0.8240339378476526, 0.04247384977552048, -0.020483291450443534, -0.8562615412453811, -0.367211155053392, -0.10103253325328257, -0.1317063597759588, -0.8093637690563069, -0.49222893969036596, 0.8308439093580643, 0.019837421647507264, -1.053131853648233, -1.3453570614088353, 1.85763042269165, -1.0869710864107551, -0.25977232660731503, 0.6668717489348767, 0.7406130915766453, 0.6609527456528633, 0.7965286097777547, -1.8871010367680097, 0.45900815694988156, -0.7591478975080036, -0.1752926983877749, -1.1543976231028485, 0.2610450171675762, -1.0232563371208543, -0.7661161569488041, -0.15136021507656663, 0.19368188739197925, -1.18984306433312, -0.07852630891131405, -0.18973482569854808, 0.7755080794980502, 0.1980707031941181, -1.1181118712600966, -0.8202243699127982, -1.088206954483015, 1.6714842701176562, -1.065868912757437, 0.23688703825289337, 0.3140564697993269, 0.9710179812179535, -1.2781659149863112, 0.1753416252973732, 0.2701316446023335, -1.1654631831636777, 0.7627875167631855, -2.055443147757272, 2.1258885070835496, -1.4027546230436685, 1.0035996633268436, 0.016227320040261624, -0.03038922226520357, -0.8856074783754366, 1.043304953184176, -1.5688969890127396, 1.1680421737749924, 0.5382387607049872, 0.2998857453415739, 1.2875138795311936, -0.7588091709695045, 1.765169957072211, -0.5015173988291288, -1.3079288129181252, 0.26988552832429613, -1.1724798084144483, -0.7392701727813159, -0.8378231434940933, 0.7674334203922264, 0.9505899440923472, -0.1672102514221218, -0.7056631519137482, -0.2886927890948605, 1.5851723123967099, -0.9467308655219319, 0.0041330638406264315, -0.4089235259059301, -1.9094813165246707, -1.368842426585382, 1.6148966940827165, 0.8449656479366061, 0.4939879543550859, 1.5484424477297372, -0.4633077863510259, 1.5179014506363437, -2.007729776672108, -0.5626925825484815, 0.31713573892716374, 0.7541287508742245, 2.1926358612953356, -0.33365862913972394, 1.3283285972233043, -1.5058412077836103, -0.19297126160415073, -0.3325399410542257, -0.9168205547533758, -0.48268713395071866, 0.3883240887529398, 0.21995347601871612, -0.6122106582629235, 1.6608678067035911, -0.8649952045679937, -1.3879331880728036, 0.19468345670618264, 0.21361382926632064, -0.529459932273369, -0.8787597120726087, -0.17049947012562733, 1.2757023359664963, -0.4810593077101864, -1.5917339375659085, -0.9115364633796245, 0.049288772597347395, 0.1800722692098737, 1.454283199239731, -1.803662751367318, -0.10055584211860119, 0.7934646642644094, -0.5225539285830679, -1.6332658819077739, 0.8921011709933475, -1.3233809954029043, 0.37985596534293403, -1.0953018770733416, -0.5795374393634539, -1.0460188448540395, 0.6612942136044747, 0.8984716565130079, 0.24693970194471523, -0.2444786671550618, -0.42816955163429143, -0.14843609134960128, 1.0749156865598175, 0.2581204084591221, -0.06265068860243672, -1.9422027488692266, 2.7006571053337214, 1.691393710612649, -0.7488027067253232, -0.16519657711912164, -0.5026898567854875, 0.8120672906357669, -1.3201871754417596, -3.544512817358704, -0.7912180964654478, -0.6335004216419969, -0.6333123276241639, 0.6491153788181663, 0.3055754908495263, 1.2895877663273818, 0.8275123732971469, -0.31449237048517115, -0.2597526164877884, 1.6006072747729925, -0.7848607160792769, -0.06505959357272187, 0.666115745233237, 0.41893908914762057, -1.0285738358897425, -0.48565731580400157, 0.646946073379938, 1.4026439014324945, 0.27783147855766616, -0.1418987930821509, 2.819452905840433, 0.2726290143378471, -1.046571205147577, 0.5382109496609786, -1.637867589455444, 1.256939507870926, -0.6816504266115817, 0.14194109425082793, -0.006972543824080106, 0.10969363138259507, 0.24773150823342843, -0.31480784340254314, 0.11826741496424753, -0.16692418663633585, -0.5054437729874185, -0.24955478869249226, -0.8928880605580952], \"y\": [0.11002743570540796, -1.4565777418341737, 2.886239617138802, -2.920511070145279, -0.13447855811327591, -2.151956930663599, -1.4176410603798328, 5.774717173259419, 1.5627925017923272, -3.762164460719278, -1.5575433859645824, -6.6980806330926255, 4.9483444708781965, -2.8042222655446527, -1.6619327670330077, 1.3980545921507468, 1.4748697758692009, -2.181104077114131, -0.04541297655851684, -2.174608867052127, -0.5071948322898536, -0.7868549316899272, 0.8279997380122034, -4.208840359667392, 1.6453956820522637, 1.7840436155129606, -3.2249616943342185, -3.33770065315834, -4.975954118603999, -1.765970249182323, -2.7143968694860217, 1.6663662303183107, 0.8633718668916638, -0.04759073167495298, 1.7915045465433503, 0.36993178141996286, 6.336005517082311, -10.304377394031414, -4.005736227386471, -5.7303337372847825, 1.5231989486650592, -2.236634594129472, 0.5502267969948303, -3.6893201602744554, 1.4641797152003395, 2.2489522875780836, -2.076808275159372, -2.2490947890269157, -7.9562113479664305, -0.8925861301751067, -3.4645112362038155, 1.1217048130750955, -2.704340303092515, 2.6538706341433778, -1.5231532425611825, 1.1888295227709946, -1.8929990616707257, 4.104586759884988, -0.06608521142841939, 0.5675722433702629, -0.9361890137718727, 1.1003960499709495, -0.9429471062970132, -0.24737959476336002, 1.8583272639283432, -4.718496414585365, -1.0435013698491, -4.7240679865832504, -2.9743898946474956, -2.7780738197108663, 0.211640805385093, 4.258197008826239, -7.6200124786608106, 2.2428275231027524, -6.752183358595938, 0.3406816314238018, -3.485781346481953, 4.2358430560070675, -7.613962487386671, -1.4696692746310567, 1.6437770604442234, -4.227465051078351, -3.266093176266339, -0.5003274280227248, -3.4415191733263266, -3.7515859229026347, -1.5122992275727585, 0.5863742848154202, 5.206361555712401, 2.8604368741713313, 0.2927143070824, 1.7028027007090967, 0.7173056532947216, 0.4109320946171421, -3.5201588481192494, -7.791499185242087, -0.6409770925875996, 4.579087728121895, -0.8079785177872536, -2.260678482058604, -3.4267655523376366, -4.8295375550376365, 3.9016391774234065, 4.647217330361265, -1.8256702411845964, -3.9024061714961, 5.604179777573876, -2.688847735046924, -4.334056310048739, -3.474623879430169, -6.566020049522799, -1.47603042547679, -3.7282761771741018, -1.7020044041856315, -1.9004562891854144, 0.05356795879721943, -1.718169049899302, 1.6352389206282893, -4.254209489382124, -2.1206386616548336, 1.7140466450983056, -3.0484334754598668, -0.9207802444492238, -2.6606783649884256, -1.8240439538297741, 4.604621236265064, -0.08119829751481622, -5.338797269445221, -1.7648842021497326, -3.6265550925766386, 2.366175251894553, 7.287568582000943, -2.2598184466769693, -4.342495238912332, -0.0016643787075759642, -5.563151082334247, -1.811458267193776, 2.3204575525726985, 0.13966342545002275, -3.900137600426763, 1.685824897511342, -3.0558740757798066, -2.245180942679699, -0.14830155318846827, -5.417656476949327, -4.42171275664594, -1.7688366149338346, -1.0857301380966782, 0.5431320057548507, 4.761011862738821, -0.42249989164514323, 0.5670522563142756, -7.893240845780123, -1.2537396851125944, 2.064226431717577, -0.17897114005641068, -2.6359678082088425, 1.2973082065800514, -1.4435478340414094, -5.320215773526508, 1.535651555010685, 6.372432672972391, 1.9987764082811488, -2.7132064932592392, -2.2212239636259214, -3.074342465767724, -1.606927880761725, -0.8620724778537511, 0.11784892079544995, -1.7338716447864417, 2.7594614927467096, -1.8751087157689312, -1.1060475327695993, 0.7732781383061597, 4.112688824489376, -1.14525049107962, 2.1256611114257384, -2.5648933814395405, 7.973064558432317, -3.9554721211547204, -5.212072119174708, -8.424706161873821, 1.2406276235266867, 1.251776008180176, -5.66709148756051, 1.9908125838819983, -0.1482090300825356, -1.455329592987806, 2.7521202326111367, 6.798635817530501, -1.130651219624038, 5.786907697455472, -3.9869391356251573, -2.0904009948062576, -1.6729508063014342, -2.9647848657016946, -5.237619705726997, -6.000880401095791, -5.12006011611756, 1.8753926816532602, -1.4939722630866274, -5.2418800073571425, -1.4741573290226724, -1.9960513807713824, -0.2920344875183484, 4.341891468985526, 1.2979779700665723, -5.431334625447406, 0.7258334427129484, 0.5512364829384665, -3.764612892082335, -1.6450340288400227, -2.3876429781991027, 2.5421723623265087, -5.590543796847953, -2.1819208053170147, 4.606066152132327, -6.44523524665836, -0.19925793171167483, 1.0744075381277418, 2.317631897296384, -0.6641801490180794, 1.4897776009583499, -3.248353030839263, -2.7958851349986777, -6.499817508266442, -2.106061007790279, -6.466018380053303, -3.09272154480846, -0.4874725841149421, 2.4991191429077038, -0.24077704882076956, -1.2762512768460785, -2.7342689423031374, -0.9333451040219968, -0.05642173273680584, -4.692593656080978, -2.185541651936003, 1.6687881697170202, 5.144742479093729, -5.034180763832012, -2.797080031433381, -2.7528695770838287, 1.868968632247212, 0.24226854560653532, -2.058389140041646, 3.154386195944102, -3.208881776771853, -2.8529744955173117, -0.016208326319206212, -4.433048400710895, -4.042815748278099, 1.9499709540965844, 2.3346045144368643, 1.3020778241361324, -0.45246907398464975, 2.8960195887433153, -2.4712706779789295, 0.8187447621229577, 0.625134573278627, -6.803107722850331, 1.9981559636664947, -6.375760914773526, 1.8064349551471017, -0.3586282567588758, -0.5871170228491509, 3.793886370938249, -0.5146062243056968, -0.10066314039169777, 1.6692027316874802, -5.465388924857012, 2.8768692974836956, 3.5087458168782892, 1.6926422735024609, -2.3772977821646775, -0.43825701044290477, 0.6650850345719052, 1.7526966642698292, 1.2576191325120916, -5.898771429174313, 0.16583729978867578, -0.5571653441680173, -1.9302784920039429, -2.4793495136202117, 0.38520363433605065, -0.3421221478325338, -1.8089363011125896, -2.646638408439891, -3.5943474636314385, -1.8662221678773951, -0.5317713200357481, -6.5473042254620335, 3.0235287860979922, -5.779858747446714, -3.493834148671899, -0.029902706626438236, -2.5669925842080654, -2.8502591953801026, 0.05956766292491611, 5.437272270761453, 3.4886591278440284, -5.428094747886712, -0.8153140290896044, 4.934125217205416, -1.935854194725493, 1.9664291757522037, -0.772128657076718, -3.479631441787639, 1.6451151507507684, 2.125992741154115, -2.951753583416408, 4.040260272564755, -1.8740661733187927, -4.466276357986381, 1.2320631480599311, 4.433083213550716, -4.107561260930136, 3.8094311210683327, -5.063521063692306, 0.816007788594817, -3.7461846151898537, -5.283783136913153, -1.5341909691716284, 1.6042394737312708, -0.8640146030871454, 0.5370407205584898, 1.7623505178973917, -8.378358842975077, -2.3691112033131434, -1.8679881894229027, -0.68543857998653, 1.5735740177138817, 2.3865299403762963, 1.1908200651518621, -5.029194387624843, 0.3265774599857182, -1.643719168607121, -1.2217223406362392, -1.1028059978214277, -0.6891741560519367, -5.6015047275713945, -2.2376527378460707, -1.0823941312993333, -2.453912411696068, -2.5390295675401284, 1.1546005297427544, -2.366742614797487, 2.4746861480339835, 3.0567171583829222, -2.2829626258128117, -1.7102248107320663, -6.475517293525837, -3.549312891774748, -2.821131054147705, -0.6850057751591345, -4.571406861121568, -1.8653020872188926, -5.431966544189393, -9.983050217499791, -2.8466763586781774, -2.6007359603966336, -1.541454869269216, -1.0041315104547697, -5.703944557075015, -3.1934801544049187, 1.287032599227647, 4.8289511044413445, -4.751449426595268, -2.8009371228814706, 1.6148912827784363, -4.115873415333026, -0.15268365155088826, 0.8774894627289908, -0.19624793508389093, -2.0562236671464555, 0.6013732194611784, -2.473735404530334, 1.7368934127646591, -2.0609553660014805, 0.7579826758639331, -5.537755810671594, -2.789073769286716, -0.5883379487857885, 3.241668529222141, -1.2824180006575805, -3.818619944092863, -0.2970663502209505, -4.940151313457929, -0.4216229359613394, 2.1425281738733797, -5.49382811445173, -5.596971991968968, -6.163245932640093, -3.7391930752428393, 2.372970644018942, 0.08993181225995917, -0.6929805117072718, -8.295412880356386, -3.9019582368541474, -7.243059225646034, 3.179341259922508, -2.9190071029307574, -0.046571718189578726, -0.984266976596217, 2.0920632694045085, -3.646663162901534, -5.48478550070944, -3.768156007105818, 3.1582912295884182, 1.7010191511651005, 6.642027345734223, -7.396399841121531, -0.3119448389023105, -4.733830560272512, -2.3004143525764977, -9.924808931813317, 2.501309264812878, -0.7014407807880583, 0.2290913761232517, -0.2553415083996331, -1.0499850756196847, -1.3513171916016302, -1.4344381370358528, -0.005715263410138172, 0.05572988402245238, 0.8152173072883769, -0.15590949461761117, 4.250817382675483, -3.501017517843426, -5.598868498031711, -0.8367294319111164, -0.7304021694465552, 5.266913947206959, -0.05147826931733779, -3.7736080923093795, 3.232513873505115, 2.65633133677755, 1.1560252241551185, 2.2407649327179184, 2.5517924870156845, -1.8644455076027957, -2.9359805555787513, -4.85146633605447, -1.6288379624037062, 0.1652886058236841, 0.6373094976130699, 2.3001834950450024, 2.4054631845497565, 1.7024538431057108, -4.81998007944102, -3.040783555153696, -0.46376093538851226, -3.2934415464535314, -0.5814046136784241, -2.463234335804819, -0.027549105911288896, -1.7037695762559966, 2.626084626362091, 1.6753771599683382, -0.713347573376816, 0.8364088441144993, -2.467523610793688, -2.391751626271035, 1.0979242762870811, 0.04061634103479472, 1.5390318632851092, 3.439488392888577, -4.578598311504207, 1.3130233643893612, -6.852346990060978, 3.264312691972681, -0.4549848614143366, -1.1072157189196792, -2.521019297399963, -4.428284923165427, 5.028722165397464, 0.1080298877498832, 3.1614524277348113, 3.320164945904575, 3.2102592661068585, 4.854836948512208, 1.6020223873143924, -4.158298575884587, -0.8001008975658026, -0.9682752882068809, 1.2575805784645846, -1.6242844312179616, 1.563869946851876, -2.7674454560644275, -10.670311078933045, -0.8727280829572865, -1.5622834893215276, -2.6870659355543762, -1.3916015627252514, 1.122611861027592, -3.386501995032751, 0.391192393404426, -1.3004190074032635, 1.115007558367246, -4.23849865710317, -1.5396505801483058, 2.604898754555308, 7.499564380116454, -5.233181495327381, 1.624344106090669, -5.244912428099122, -1.461603805884744, -1.9841601191944074, -4.547761383409415, -1.2276837770761326, -3.33615235821988, -0.8625035929899446, -3.8189247599404625, 2.162713693289445, 0.9971453644698037, 3.297219026200501, 2.811903409611934, -2.054609124845576, -9.09726176302935, -0.7033945415218978, -1.3216041226815238, -0.2440037945209722, 4.236853265384733, 3.0732668351761983, -2.243804389851653, -1.9358969838056752, 1.5761418479116989, -1.4883094202146987, -3.4780826508085454, -0.24907121242351904, -5.101011010389554, -4.090559377503529, -0.44212410587987183, -6.228843399047334, -2.8258339396254004, -2.3338231650099095, 2.8244511087010133, -3.6561094790503863, 3.375557177478537, -2.1179258045248144, 1.1784697689723789, -0.23922487184626873, -1.6165031365502776, 0.06382207809113771, -1.9262264477293092, -1.2061424376278007, -2.0824869261256085, 1.755096353532541, 4.549630165827792, 3.137050025720551, -2.35463840453402, -1.7949617291903035, -2.9045549102015586, -0.17745780823054091, -4.093824124201285, 0.2806875081054935, 0.5380882071959058, -2.3492380923199008, 1.0898348135831344, -2.730846029309534, 3.2219221453511317, 4.963675360242544, 4.080792401989617, -1.8137241708802812, 0.04274775601811831, 0.8640024840019461, -1.7392224657521815, -2.4228981624338726, -1.514427209155906, 1.5150263691257058, -0.8866971674621592, -3.1808517271069645, 1.7161845231334651, 0.8096712407360186, -4.061709065183868, -5.65646762873087, -5.411641206288324, 1.898847835539125, -4.352421576101781, 2.780639556702423, 1.9383386401833307, -0.42326012554726655, -2.149334294094696, 2.199189338785052, 0.19216977625086173, -2.3291798816093756, -5.138973232791364, 0.7895355998830159, -2.3275078340370716, -4.218525023972458, -0.20389781174396493, -1.2346525795180112, -0.3815630355503362, 1.9522679993938605, -0.8051560466221439, 5.267584966846636, 1.9590347428245947, 0.3001304484512307, -4.976267042739151, 0.7887449258798601, 1.8127426400543047, -4.636093924404201, -2.318945612815906, -1.2795234151257704, 0.14969263737318295, -0.13924413255102452, 0.6787152149432073, -5.61803261776646, -4.353164814345733, -1.28009470263532, -3.5305489406624875, -1.0115516696644704, -6.080866560681299, -3.407820699955358, -2.8628181409085824, 2.023584010726545, -3.99198943541445, -4.436553668392661, -1.5751384756727518, 2.6246083809685183, -0.5189812827685855, 3.046847804822773, 2.219405388066252, -3.0112796021978903, -4.682023311706006, -9.15847628413406, 2.1056722620695734, -0.2779559160305627, 0.9223118076652522, -5.042948942517086, 3.1076294495773706, -0.5118521983212517, -0.7191883062037192, -1.0654035760746887, -0.2406887998247923, -3.6960608805950947, -5.490121338243465, 4.1119366209143395, 0.8157430362919672, 0.6384458935287286, -5.167545817841888, -5.88987122889778, -2.194707660992694, -1.6198288405474863, -4.139252570357157, 2.5590043058466896, -2.7079761459741105, 0.45070315513232806, -3.7354853331565803, -1.7719135018796166, -2.3682600644784264, 1.0735063220979466, -1.2307935421263698, 1.6170513238151507, -1.5293517394223033, 0.0750781891097555, -5.508226283901637, -0.5159050461880315, -0.4190304214178202, -2.538143606872085, -5.5531666243263285, -0.46246839729773626, -0.9690305134358872, -4.746651418908781, 2.071953177435682, -3.785168949982862, -4.058950037901038, -6.595488464347676, -2.756018131396185, 2.030624156121946, -5.2421852533185, 0.14945098954168923, -1.0981773013680667, 3.9728005106638213, -2.3912801555397363, -1.2007445397777512, 1.500470391497331, 2.091105658282332, 1.8033354222678506, 0.27976434482765755, -0.7365812789930459, 1.0417319651133599, 4.421717318912861, -1.028281879603687, -0.07864914368189402, -1.8672082826482215, -5.2976194204939, -5.0461395816297765, -3.925159715524285, -4.207457012457197, -4.033282617207136, -2.5456859015040956, 1.5907208326642936, 1.3887962336984216, 0.5689193961283, 0.8563965982398415, -1.5005501539094377, -1.304797662538156, 0.8479472176528898, -6.320765802037007, -2.2336963803336705, -0.09102398362683906, -2.6243725689269413, 0.41666650405481953, 1.9772215992537885, 3.4176865588549643, -3.9396619311163747, 0.9893278571404817, -2.8279140602239092, -2.605648049255638, -3.220958144409498, -2.767299317665943, -4.985151711363001, -0.7498745725626413, -4.604732146284154, -0.4711406650650094, 0.9857802685430436, -2.657767973052385, -6.570059407678085, -5.381548556029637, -4.275915696480773, -4.8169138372167755, -0.5840682290181276, -2.383472222173323, 0.7168411906249105, -0.6164101138482954, 4.244940645481865, -1.6451039785142243, 0.35016594856425487, -1.3041265485235587, -0.822589917595824, 2.413960485352233, -6.57383555319885, -2.039607874500648, -0.7870839949029397, -4.265553831231255, 3.148621701441908, -2.5144911932190657, 1.1893756185383886, -0.2278229970154101, -3.6701152719273433, -4.932325213804914, -2.3881187735254, -6.621954325949951, -1.8931879102540856, -2.840726018369215, -1.666425399164701, -2.186791729089489, -5.0360878995089475, 0.7626851379818657, -2.8431411447166175, -2.644216500468699, -5.482778869774741, 0.6136171726803256, -0.23046932666492959, -3.1048221780600826, -1.4554969742935462, -0.622263287324577, -4.045187815713337, 4.495515452334159, -4.949610812503371, 0.13817689928393728, -2.5158973740154424, 0.9034800632531791, 0.3033781378195598, -0.05513719461453148, -3.6590586379897214, 1.7007031491268325, -2.6614936427130704, 4.996331329717573, -0.3910980544588166, -0.1666970399222677, 2.4178444685475164, 0.8077098947747102, 3.0442419867306083, -3.9282344575734873, -4.567420577867241, -2.1725377509501596, -4.493640663497769, 5.736441882918824, -4.883045219695627, -0.7791928896495065, 3.958970580623902, -5.0902249209768025, -0.8388623069616373, -0.7587969934029299, -4.755808881043669, -4.943993872359688, 0.08008373389908818, -3.4278306209273235, 0.7386383973304725, -1.1299699523195295, -1.3438341080139127, -0.6372134144495945, 0.7586104798957417, -0.7146272599851916, 4.765254293406917, 4.522903169047799, -3.6806561792295547, -1.7040630641980696, 2.613859547360391, -1.8020739443783111, -5.722573514986966, 0.7371197052948627, 3.2903420239059513, -2.9900883104245017, -3.227430603800065, -6.960214777728949, -2.9827940103148887, 2.8628414315367703, 0.7909858399009887, -2.8020461238853507, 0.8778456138261946, -6.304964928513929, -1.9528656504985744, 3.329935563242422, -2.343785877001433, 1.4967312768417105, -3.4724013576496127, -0.8721860585249829, -1.0611077556443311, -3.5691099026919533, -2.101568220571229, -1.3028198023913533, -1.3948657760642904, -3.4283791366415004, -2.4767214054807405, 1.49355366081589, -0.9401134188750228, -4.159878047612491, -5.0367870227681, 4.57473312514391, -4.26142276769066, -1.7791659416352137, 1.0015062421395937, 1.2227891550618994, 0.9837445057659643, 1.3905803601286388, -6.662451550032702, 0.3777494799609805, -3.2776914228969605, -1.5256595970894251, -4.463756220174314, -0.2162980197581461, -4.070227641403419, -3.298601765614063, -1.4538430362451837, -0.4184412008597084, -4.570120848268408, -1.2352831573716465, -1.5689975115568586, 1.3275019836735042, -0.4052712488330058, -4.354869989225869, -3.4609696117740976, -4.26513135879058, 4.016146023320219, -4.198099395919645, -0.28879124747880214, -0.05722133039566912, 1.9141878102105006, -4.835159929060376, -0.4734766324732659, -0.18903088146950964, -4.496961736586895, 1.2893301376622897, -7.167612309962969, 5.379721591621518, -5.209025541598638, 2.0119588741303485, -0.9509466064869923, -1.0908334583148886, -3.6571711478217015, 2.1311064497411887, -5.707585309896316, 2.5054177184721915, 0.6155045595869927, -0.09974481957953418, 2.863928238004749, -3.276674972796678, 4.297277895425415, -2.5045942000509474, -4.924472389552933, -0.18976942683593012, -4.518017215355671, -3.218042375670395, -3.513779985743655, 1.303271558463166, 1.8528873863438116, -1.501405802080725, -3.1171944767062687, -1.8659504230813035, 3.757141227092117, -3.8405901183869746, -0.9872390327652202, -2.2267386418908552, -6.729610260725406, -5.107261872169157, 3.846338108090706, 1.5359301532452134, 0.48271680474727197, 3.6469223030316527, -2.3899348509275975, 3.555274923715429, -7.0244340959404905, -2.6881686016961366, -0.04798106410990832, 1.2633469256731944, 5.580016954313692, -2.0008838499848958, 2.986404983036187, -5.518367614000038, -1.5787094036789915, -1.9975268924175094, -3.750835301669974, -2.4480883688019106, 0.16564083171189525, -0.33960545621287863, -2.8367623707251326, 3.98428815546704, -3.595317866790179, -5.164549401260724, -0.4154356931295713, -0.3586294588959258, -2.588444113457163, -3.636622380736429, -1.5112760847454454, 2.828484175387092, -2.443203590205103, -5.776114391644275, -3.7349788080201143, -0.8517358481093621, -0.4592809231539817, 3.364369368164937, -6.412070065491497, -1.3013893483330516, 1.3813860769227855, -2.567720587704916, -5.900743389355112, 1.6773743617509083, -4.970841276106162, 0.14022969939423857, -4.286421792101139, -2.7387166233382723, -4.138533341247874, 0.9847691822946959, 1.696490905361566, -0.25862522900581264, -1.7332727507656531, -2.2844920876890766, -1.4450683300509735, 2.22596389212535, -0.22507418128409717, -1.1876436192164646, -6.827800686947618, 7.10448635885573, 4.075890243177831, -3.2466475895584574, -1.4953631711835724, -2.5081125101680053, 1.437208810873491, -4.961257265847699, -11.636010392086051, -3.3739276289255917, -2.9006486614702585, -2.9000842292172204, 0.9482229527175393, -0.08267103959830069, 2.8701515544632112, 1.4835563922870696, -1.9433697691048508, -1.7791067955374258, 3.8034584395690074, -3.354850411180302, -1.1948722577207462, 0.9992376273397313, 0.2575102800261607, -4.086184383915643, -2.4570012861540707, 0.9417133041378912, 3.209410238988799, -0.1659252310214122, -1.4254512149912324, 7.460968622906242, -0.18153677802738655, -4.1401908632071684, 0.6154211042468921, -5.914552186619786, 2.772180708337164, -3.0451371258131648, -0.5737048970851044, -1.0205647239688216, -0.6704730363974281, -0.2562491778551327, -1.944316439772936, -0.644744839191552, -1.5005473792908022, -2.516376457870553, -1.7485051688354867, -3.6790187081648242]}],\n",
       "                        {\"template\": {\"data\": {\"bar\": [{\"error_x\": {\"color\": \"#2a3f5f\"}, \"error_y\": {\"color\": \"#2a3f5f\"}, \"marker\": {\"line\": {\"color\": \"#E5ECF6\", \"width\": 0.5}}, \"type\": \"bar\"}], \"barpolar\": [{\"marker\": {\"line\": {\"color\": \"#E5ECF6\", \"width\": 0.5}}, \"type\": \"barpolar\"}], \"carpet\": [{\"aaxis\": {\"endlinecolor\": \"#2a3f5f\", \"gridcolor\": \"white\", \"linecolor\": \"white\", \"minorgridcolor\": \"white\", \"startlinecolor\": \"#2a3f5f\"}, \"baxis\": {\"endlinecolor\": \"#2a3f5f\", \"gridcolor\": \"white\", \"linecolor\": \"white\", \"minorgridcolor\": \"white\", \"startlinecolor\": \"#2a3f5f\"}, \"type\": \"carpet\"}], \"choropleth\": [{\"colorbar\": {\"outlinewidth\": 0, \"ticks\": \"\"}, \"type\": \"choropleth\"}], \"contour\": [{\"colorbar\": {\"outlinewidth\": 0, \"ticks\": \"\"}, \"colorscale\": [[0.0, \"#0d0887\"], [0.1111111111111111, \"#46039f\"], [0.2222222222222222, \"#7201a8\"], [0.3333333333333333, \"#9c179e\"], [0.4444444444444444, \"#bd3786\"], [0.5555555555555556, \"#d8576b\"], [0.6666666666666666, \"#ed7953\"], [0.7777777777777778, \"#fb9f3a\"], [0.8888888888888888, \"#fdca26\"], [1.0, \"#f0f921\"]], \"type\": \"contour\"}], \"contourcarpet\": [{\"colorbar\": {\"outlinewidth\": 0, \"ticks\": \"\"}, \"type\": \"contourcarpet\"}], \"heatmap\": [{\"colorbar\": {\"outlinewidth\": 0, \"ticks\": \"\"}, \"colorscale\": [[0.0, \"#0d0887\"], [0.1111111111111111, \"#46039f\"], [0.2222222222222222, \"#7201a8\"], [0.3333333333333333, \"#9c179e\"], [0.4444444444444444, \"#bd3786\"], [0.5555555555555556, \"#d8576b\"], [0.6666666666666666, \"#ed7953\"], [0.7777777777777778, \"#fb9f3a\"], [0.8888888888888888, \"#fdca26\"], [1.0, \"#f0f921\"]], \"type\": \"heatmap\"}], \"heatmapgl\": [{\"colorbar\": {\"outlinewidth\": 0, \"ticks\": \"\"}, \"colorscale\": [[0.0, \"#0d0887\"], [0.1111111111111111, \"#46039f\"], [0.2222222222222222, \"#7201a8\"], [0.3333333333333333, \"#9c179e\"], [0.4444444444444444, \"#bd3786\"], [0.5555555555555556, \"#d8576b\"], [0.6666666666666666, \"#ed7953\"], [0.7777777777777778, \"#fb9f3a\"], [0.8888888888888888, \"#fdca26\"], [1.0, \"#f0f921\"]], \"type\": \"heatmapgl\"}], \"histogram\": [{\"marker\": {\"colorbar\": {\"outlinewidth\": 0, \"ticks\": \"\"}}, \"type\": \"histogram\"}], \"histogram2d\": [{\"colorbar\": {\"outlinewidth\": 0, \"ticks\": \"\"}, \"colorscale\": [[0.0, \"#0d0887\"], [0.1111111111111111, \"#46039f\"], [0.2222222222222222, \"#7201a8\"], [0.3333333333333333, \"#9c179e\"], [0.4444444444444444, \"#bd3786\"], [0.5555555555555556, \"#d8576b\"], [0.6666666666666666, \"#ed7953\"], [0.7777777777777778, \"#fb9f3a\"], [0.8888888888888888, \"#fdca26\"], [1.0, \"#f0f921\"]], \"type\": \"histogram2d\"}], \"histogram2dcontour\": [{\"colorbar\": {\"outlinewidth\": 0, \"ticks\": \"\"}, \"colorscale\": [[0.0, \"#0d0887\"], [0.1111111111111111, \"#46039f\"], [0.2222222222222222, \"#7201a8\"], [0.3333333333333333, \"#9c179e\"], [0.4444444444444444, \"#bd3786\"], [0.5555555555555556, \"#d8576b\"], [0.6666666666666666, \"#ed7953\"], [0.7777777777777778, \"#fb9f3a\"], [0.8888888888888888, \"#fdca26\"], [1.0, \"#f0f921\"]], \"type\": \"histogram2dcontour\"}], \"mesh3d\": [{\"colorbar\": {\"outlinewidth\": 0, \"ticks\": \"\"}, \"type\": \"mesh3d\"}], \"parcoords\": [{\"line\": {\"colorbar\": {\"outlinewidth\": 0, \"ticks\": \"\"}}, \"type\": \"parcoords\"}], \"scatter\": [{\"marker\": {\"colorbar\": {\"outlinewidth\": 0, \"ticks\": \"\"}}, \"type\": \"scatter\"}], \"scatter3d\": [{\"line\": {\"colorbar\": {\"outlinewidth\": 0, \"ticks\": \"\"}}, \"marker\": {\"colorbar\": {\"outlinewidth\": 0, \"ticks\": \"\"}}, \"type\": \"scatter3d\"}], \"scattercarpet\": [{\"marker\": {\"colorbar\": {\"outlinewidth\": 0, \"ticks\": \"\"}}, \"type\": \"scattercarpet\"}], \"scattergeo\": [{\"marker\": {\"colorbar\": {\"outlinewidth\": 0, \"ticks\": \"\"}}, \"type\": \"scattergeo\"}], \"scattergl\": [{\"marker\": {\"colorbar\": {\"outlinewidth\": 0, \"ticks\": \"\"}}, \"type\": \"scattergl\"}], \"scattermapbox\": [{\"marker\": {\"colorbar\": {\"outlinewidth\": 0, \"ticks\": \"\"}}, \"type\": \"scattermapbox\"}], \"scatterpolar\": [{\"marker\": {\"colorbar\": {\"outlinewidth\": 0, \"ticks\": \"\"}}, \"type\": \"scatterpolar\"}], \"scatterpolargl\": [{\"marker\": {\"colorbar\": {\"outlinewidth\": 0, \"ticks\": \"\"}}, \"type\": \"scatterpolargl\"}], \"scatterternary\": [{\"marker\": {\"colorbar\": {\"outlinewidth\": 0, \"ticks\": \"\"}}, \"type\": \"scatterternary\"}], \"surface\": [{\"colorbar\": {\"outlinewidth\": 0, \"ticks\": \"\"}, \"colorscale\": [[0.0, \"#0d0887\"], [0.1111111111111111, \"#46039f\"], [0.2222222222222222, \"#7201a8\"], [0.3333333333333333, \"#9c179e\"], [0.4444444444444444, \"#bd3786\"], [0.5555555555555556, \"#d8576b\"], [0.6666666666666666, \"#ed7953\"], [0.7777777777777778, \"#fb9f3a\"], [0.8888888888888888, \"#fdca26\"], [1.0, \"#f0f921\"]], \"type\": \"surface\"}], \"table\": [{\"cells\": {\"fill\": {\"color\": \"#EBF0F8\"}, \"line\": {\"color\": \"white\"}}, \"header\": {\"fill\": {\"color\": \"#C8D4E3\"}, \"line\": {\"color\": \"white\"}}, \"type\": \"table\"}]}, \"layout\": {\"annotationdefaults\": {\"arrowcolor\": \"#2a3f5f\", \"arrowhead\": 0, \"arrowwidth\": 1}, \"colorscale\": {\"diverging\": [[0, \"#8e0152\"], [0.1, \"#c51b7d\"], [0.2, \"#de77ae\"], [0.3, \"#f1b6da\"], [0.4, \"#fde0ef\"], [0.5, \"#f7f7f7\"], [0.6, \"#e6f5d0\"], [0.7, \"#b8e186\"], [0.8, \"#7fbc41\"], [0.9, \"#4d9221\"], [1, \"#276419\"]], \"sequential\": [[0.0, \"#0d0887\"], [0.1111111111111111, \"#46039f\"], [0.2222222222222222, \"#7201a8\"], [0.3333333333333333, \"#9c179e\"], [0.4444444444444444, \"#bd3786\"], [0.5555555555555556, \"#d8576b\"], [0.6666666666666666, \"#ed7953\"], [0.7777777777777778, \"#fb9f3a\"], [0.8888888888888888, \"#fdca26\"], [1.0, \"#f0f921\"]], \"sequentialminus\": [[0.0, \"#0d0887\"], [0.1111111111111111, \"#46039f\"], [0.2222222222222222, \"#7201a8\"], [0.3333333333333333, \"#9c179e\"], [0.4444444444444444, \"#bd3786\"], [0.5555555555555556, \"#d8576b\"], [0.6666666666666666, \"#ed7953\"], [0.7777777777777778, \"#fb9f3a\"], [0.8888888888888888, \"#fdca26\"], [1.0, \"#f0f921\"]]}, \"colorway\": [\"#636efa\", \"#EF553B\", \"#00cc96\", \"#ab63fa\", \"#FFA15A\", \"#19d3f3\", \"#FF6692\", \"#B6E880\", \"#FF97FF\", \"#FECB52\"], \"font\": {\"color\": \"#2a3f5f\"}, \"geo\": {\"bgcolor\": \"white\", \"lakecolor\": \"white\", \"landcolor\": \"#E5ECF6\", \"showlakes\": true, \"showland\": true, \"subunitcolor\": \"white\"}, \"hoverlabel\": {\"align\": \"left\"}, \"hovermode\": \"closest\", \"mapbox\": {\"style\": \"light\"}, \"paper_bgcolor\": \"white\", \"plot_bgcolor\": \"#E5ECF6\", \"polar\": {\"angularaxis\": {\"gridcolor\": \"white\", \"linecolor\": \"white\", \"ticks\": \"\"}, \"bgcolor\": \"#E5ECF6\", \"radialaxis\": {\"gridcolor\": \"white\", \"linecolor\": \"white\", \"ticks\": \"\"}}, \"scene\": {\"xaxis\": {\"backgroundcolor\": \"#E5ECF6\", \"gridcolor\": \"white\", \"gridwidth\": 2, \"linecolor\": \"white\", \"showbackground\": true, \"ticks\": \"\", \"zerolinecolor\": \"white\"}, \"yaxis\": {\"backgroundcolor\": \"#E5ECF6\", \"gridcolor\": \"white\", \"gridwidth\": 2, \"linecolor\": \"white\", \"showbackground\": true, \"ticks\": \"\", \"zerolinecolor\": \"white\"}, \"zaxis\": {\"backgroundcolor\": \"#E5ECF6\", \"gridcolor\": \"white\", \"gridwidth\": 2, \"linecolor\": \"white\", \"showbackground\": true, \"ticks\": \"\", \"zerolinecolor\": \"white\"}}, \"shapedefaults\": {\"line\": {\"color\": \"#2a3f5f\"}}, \"ternary\": {\"aaxis\": {\"gridcolor\": \"white\", \"linecolor\": \"white\", \"ticks\": \"\"}, \"baxis\": {\"gridcolor\": \"white\", \"linecolor\": \"white\", \"ticks\": \"\"}, \"bgcolor\": \"#E5ECF6\", \"caxis\": {\"gridcolor\": \"white\", \"linecolor\": \"white\", \"ticks\": \"\"}}, \"title\": {\"x\": 0.05}, \"xaxis\": {\"automargin\": true, \"gridcolor\": \"white\", \"linecolor\": \"white\", \"ticks\": \"\", \"zerolinecolor\": \"white\", \"zerolinewidth\": 2}, \"yaxis\": {\"automargin\": true, \"gridcolor\": \"white\", \"linecolor\": \"white\", \"ticks\": \"\", \"zerolinecolor\": \"white\", \"zerolinewidth\": 2}}}},\n",
       "                        {\"responsive\": true}\n",
       "                    ).then(function(){\n",
       "                            \n",
       "var gd = document.getElementById('82a57310-ccbf-4748-91ec-290087d22261');\n",
       "var x = new MutationObserver(function (mutations, observer) {{\n",
       "        var display = window.getComputedStyle(gd).display;\n",
       "        if (!display || display === 'none') {{\n",
       "            console.log([gd, 'removed!']);\n",
       "            Plotly.purge(gd);\n",
       "            observer.disconnect();\n",
       "        }}\n",
       "}});\n",
       "\n",
       "// Listen for the removal of the full notebook cells\n",
       "var notebookContainer = gd.closest('#notebook-container');\n",
       "if (notebookContainer) {{\n",
       "    x.observe(notebookContainer, {childList: true});\n",
       "}}\n",
       "\n",
       "// Listen for the clearing of the current output cell\n",
       "var outputEl = gd.closest('.output');\n",
       "if (outputEl) {{\n",
       "    x.observe(outputEl, {childList: true});\n",
       "}}\n",
       "\n",
       "                        })\n",
       "                };\n",
       "                });\n",
       "            </script>\n",
       "        </div>"
      ]
     },
     "metadata": {},
     "output_type": "display_data"
    }
   ],
   "source": [
    "import plotly.offline as py\n",
    "import plotly.graph_objs as go\n",
    "py.init_notebook_mode(connected=True)\n",
    "\n",
    "# Predico l'uscita per i valori della variabile indipendente x\n",
    "yhat = linRegr.predict(x)\n",
    "\n",
    "\n",
    "# Plotto variabile target (vera) e variabile target stimata dal modello di regressione lineare\n",
    "\n",
    "data=[\n",
    "    go.Scatter(x=x[:,0],y=y,mode=\"markers\",name=\"data\"),\n",
    "    go.Scatter(x=x[:,0],y=yhat,mode=\"markers\",name=\"retta \")\n",
    "]\n",
    "layout = go.Layout()\n",
    "fig = go.Figure(data, layout)\n",
    "py.iplot(fig)\n",
    "# ATTENZIONE: quando plottate lo scatter plot con plotly, i valori delle coordinate 'x' e 'y' devono essere array di dimensione UNO!!!!!\n"
   ]
  },
  {
   "cell_type": "markdown",
   "metadata": {},
   "source": [
    "Trick: il metodo ``score`` fornisce il coefficiente di determinazione $R^2$ per il modello di regressione lineare calcolato e per un set di valori della variabile esplicativa ``x`` e della corrispondente variabile target ``y``."
   ]
  },
  {
   "cell_type": "code",
   "execution_count": 18,
   "metadata": {},
   "outputs": [
    {
     "data": {
      "text/plain": [
       "0.998968865023907"
      ]
     },
     "execution_count": 18,
     "metadata": {},
     "output_type": "execute_result"
    }
   ],
   "source": [
    "R2Tool = linRegr.score(x,y)\n",
    "R2Tool "
   ]
  },
  {
   "cell_type": "markdown",
   "metadata": {},
   "source": [
    "### 1.3.1 (opzionale)\n",
    "Ripete l'esercizio sulla regressione semplice visto a lezione in cui si analizzava la relazione tra lunghezza della mano e altezza di una persona.\n",
    "\n",
    "Nello specifico: \n",
    "    - Calcolate i parametri del modello di regressione lineare ``y=x*w+b`` utilizzando il pacchetto scikit-learn\n",
    "    - Disegnare in un unico grafico lo scatter plot delle osservazioni e la retta di regressione \n",
    "    - Calcolate il coeffiente di determinazione ``R^2`` utilizzando il metodo ``score``\n",
    "    - Usate il metodo ``predict`` per calcolate il valore della funzione ``y = x*w+b`` per ogni valore di x. Calcolate il SSE"
   ]
  },
  {
   "cell_type": "code",
   "execution_count": 20,
   "metadata": {},
   "outputs": [
    {
     "name": "stderr",
     "output_type": "stream",
     "text": [
      "C:\\Users\\ericpalmas\\Anaconda3\\lib\\site-packages\\ipykernel_launcher.py:7: FutureWarning:\n",
      "\n",
      "read_table is deprecated, use read_csv instead, passing sep='\\t'.\n",
      "\n"
     ]
    },
    {
     "name": "stdout",
     "output_type": "stream",
     "text": [
      "Parametri w: [6.14601322]\n",
      "Intercetta b: 451.4775962062031\n"
     ]
    }
   ],
   "source": [
    "# Punto 1\n",
    "\n",
    "import pandas as pd\n",
    "\n",
    "# Leggiamo il dataset\n",
    "df = pd.read_table(\"http://users.stat.ufl.edu/~winner/data/stature_hand_foot.dat\",\n",
    "                   delim_whitespace=True, names = [\"id\", \"sex\", \"stature\", \"hand\", \"foot\"])\n",
    "x = df[\"hand\"].values # Variabile esplicativa\n",
    "y = df[\"stature\"].values # Variabile target \n",
    "m = len(x)\n",
    "x = np.reshape(x,(m,1))\n",
    "\n",
    "linRegr = linear_model.LinearRegression()\n",
    "# Costruisco il modello di regressione lineare\n",
    "linRegr.fit(x,y)\n",
    "# Stampo i parametri w e b del modello di regressione\n",
    "w = linRegr.coef_\n",
    "b = linRegr.intercept_\n",
    "print(f\"Parametri w: {w}\")\n",
    "print(f\"Intercetta b: {b}\")"
   ]
  },
  {
   "cell_type": "code",
   "execution_count": 21,
   "metadata": {},
   "outputs": [
    {
     "data": {
      "text/html": [
       "        <script type=\"text/javascript\">\n",
       "        window.PlotlyConfig = {MathJaxConfig: 'local'};\n",
       "        if (window.MathJax) {MathJax.Hub.Config({SVG: {font: \"STIX-Web\"}});}\n",
       "        if (typeof require !== 'undefined') {\n",
       "        require.undef(\"plotly\");\n",
       "        requirejs.config({\n",
       "            paths: {\n",
       "                'plotly': ['https://cdn.plot.ly/plotly-latest.min']\n",
       "            }\n",
       "        });\n",
       "        require(['plotly'], function(Plotly) {\n",
       "            window._Plotly = Plotly;\n",
       "        });\n",
       "        }\n",
       "        </script>\n",
       "        "
      ]
     },
     "metadata": {},
     "output_type": "display_data"
    },
    {
     "data": {
      "application/vnd.plotly.v1+json": {
       "config": {
        "linkText": "Export to plot.ly",
        "plotlyServerURL": "https://plot.ly",
        "showLink": false
       },
       "data": [
        {
         "mode": "markers",
         "name": "data",
         "type": "scatter",
         "x": [
          208.6,
          208.5,
          206.8,
          204.7,
          200.6,
          197.6,
          204.2,
          213.2,
          215.5,
          211.7,
          216,
          203.3,
          214.1,
          233.2,
          205.6,
          207.7,
          201.3,
          199.8,
          219.9,
          207.3,
          200.4,
          204.1,
          200.4,
          220.3,
          216.5,
          198,
          230.9,
          202,
          202.9,
          200.5,
          196.9,
          212.7,
          200.2,
          214.9,
          211.8,
          210,
          220.1,
          218.7,
          205.5,
          206.2,
          197.5,
          206.2,
          206.8,
          209.8,
          203.7,
          212.3,
          203.7,
          220.4,
          207.6,
          203.7,
          214.3,
          219.3,
          213,
          208.8,
          210.4,
          234,
          211.4,
          231.5,
          210.2,
          186.9,
          218.4,
          207.5,
          197,
          187.8,
          213.8,
          216.1,
          214.3,
          210.2,
          211.3,
          211.3,
          186,
          202.7,
          213.8,
          207.3,
          205.4,
          204,
          209.2,
          216.6,
          208.1,
          197.1,
          197.8,
          201.7,
          172.2,
          219.4,
          183.8,
          178.9,
          186.9,
          185.2,
          191.4,
          208.2,
          207.2,
          194.5,
          200.5,
          189.7,
          190.4,
          179.1,
          188.1,
          188.6,
          186.1,
          188.7,
          187.2,
          179,
          201.5,
          201.3,
          182.1,
          189.9,
          189.2,
          202.1,
          192.9,
          183.4,
          185.9,
          184.7,
          191.7,
          181.2,
          212.4,
          168.1,
          182.8,
          190.8,
          180.4,
          207.4,
          192.1,
          189.7,
          182.1,
          184.9,
          184.7,
          185.2,
          187,
          187.8,
          187.4,
          191.9,
          188.7,
          202.7,
          189.5,
          189.1,
          187.3,
          203.3,
          189.1,
          183.4,
          172.5,
          201.3,
          178.2,
          182.3,
          191.4,
          179.8,
          189.8,
          184.7,
          181.4,
          200.7,
          190.1,
          200.9,
          188.1,
          186.7,
          181.1,
          183,
          188
         ],
         "y": [
          1743.8,
          1762.9,
          1909.5,
          1827,
          1641.2,
          1627.2,
          1701.4,
          1800.1,
          1828,
          1793.2,
          1829.9,
          1734.3,
          1821.9,
          1835.2,
          1733.4,
          1753.4,
          1645,
          1689.5,
          1784.7,
          1756.3,
          1827,
          1698.7,
          1659.3,
          1812.2,
          1691.5,
          1703.9,
          1820.8,
          1668.4,
          1732.8,
          1688.9,
          1735.5,
          1735.4,
          1676.3,
          1823.1,
          1772.6,
          1768,
          1875.2,
          1867.6,
          1759.4,
          1737.8,
          1636,
          1677.6,
          1746.4,
          1759.1,
          1688,
          1765.6,
          1691.7,
          1796.3,
          1763.5,
          1724.8,
          1830.9,
          1787.1,
          1772,
          1759.2,
          1752.4,
          1858.8,
          1772.1,
          1827.3,
          1780.9,
          1676.7,
          1770,
          1724.8,
          1697.2,
          1657.5,
          1783.3,
          1710.3,
          1807.2,
          1751.6,
          1758.4,
          1754.3,
          1671.5,
          1715,
          1756.9,
          1741.9,
          1745.6,
          1661.2,
          1754.8,
          1824.9,
          1740.5,
          1679.3,
          1592.1,
          1598.7,
          1628.4,
          1659.9,
          1587,
          1534.8,
          1618.8,
          1589.3,
          1616.3,
          1701.2,
          1710.3,
          1624.2,
          1664.7,
          1671.1,
          1571.5,
          1562.7,
          1605.3,
          1605.4,
          1609.3,
          1606.9,
          1610,
          1524,
          1645.4,
          1655.5,
          1570.4,
          1548.8,
          1565.2,
          1667.3,
          1683.8,
          1554,
          1610.4,
          1581.2,
          1690.4,
          1586.3,
          1696.8,
          1499.5,
          1579.5,
          1564.2,
          1559,
          1637.3,
          1543.3,
          1607.5,
          1578,
          1621,
          1591.5,
          1575,
          1602.2,
          1574,
          1601.9,
          1554,
          1619,
          1650.8,
          1620.3,
          1574.9,
          1573.8,
          1688.8,
          1631.1,
          1588.6,
          1493.7,
          1638.5,
          1539,
          1568,
          1563.6,
          1566.4,
          1565.4,
          1618.6,
          1535.6,
          1646.6,
          1524.1,
          1673.9,
          1517.8,
          1598.3,
          1542.6,
          1631.5,
          1564.5
         ]
        },
        {
         "mode": "markers",
         "name": "retta ",
         "type": "scatter",
         "x": [
          208.6,
          208.5,
          206.8,
          204.7,
          200.6,
          197.6,
          204.2,
          213.2,
          215.5,
          211.7,
          216,
          203.3,
          214.1,
          233.2,
          205.6,
          207.7,
          201.3,
          199.8,
          219.9,
          207.3,
          200.4,
          204.1,
          200.4,
          220.3,
          216.5,
          198,
          230.9,
          202,
          202.9,
          200.5,
          196.9,
          212.7,
          200.2,
          214.9,
          211.8,
          210,
          220.1,
          218.7,
          205.5,
          206.2,
          197.5,
          206.2,
          206.8,
          209.8,
          203.7,
          212.3,
          203.7,
          220.4,
          207.6,
          203.7,
          214.3,
          219.3,
          213,
          208.8,
          210.4,
          234,
          211.4,
          231.5,
          210.2,
          186.9,
          218.4,
          207.5,
          197,
          187.8,
          213.8,
          216.1,
          214.3,
          210.2,
          211.3,
          211.3,
          186,
          202.7,
          213.8,
          207.3,
          205.4,
          204,
          209.2,
          216.6,
          208.1,
          197.1,
          197.8,
          201.7,
          172.2,
          219.4,
          183.8,
          178.9,
          186.9,
          185.2,
          191.4,
          208.2,
          207.2,
          194.5,
          200.5,
          189.7,
          190.4,
          179.1,
          188.1,
          188.6,
          186.1,
          188.7,
          187.2,
          179,
          201.5,
          201.3,
          182.1,
          189.9,
          189.2,
          202.1,
          192.9,
          183.4,
          185.9,
          184.7,
          191.7,
          181.2,
          212.4,
          168.1,
          182.8,
          190.8,
          180.4,
          207.4,
          192.1,
          189.7,
          182.1,
          184.9,
          184.7,
          185.2,
          187,
          187.8,
          187.4,
          191.9,
          188.7,
          202.7,
          189.5,
          189.1,
          187.3,
          203.3,
          189.1,
          183.4,
          172.5,
          201.3,
          178.2,
          182.3,
          191.4,
          179.8,
          189.8,
          184.7,
          181.4,
          200.7,
          190.1,
          200.9,
          188.1,
          186.7,
          181.1,
          183,
          188
         ],
         "y": [
          1733.5359540444135,
          1732.9213527223435,
          1722.473130247152,
          1709.56650248368,
          1684.3678482788064,
          1665.9298086167037,
          1706.4934958733295,
          1761.8076148596379,
          1775.94344526725,
          1752.5885950285865,
          1779.0164518776005,
          1700.9620839746988,
          1767.3390267582686,
          1884.727879273656,
          1715.0979143823108,
          1728.0045421457828,
          1688.670057533297,
          1679.4510377022457,
          1802.985903438334,
          1725.5461368575025,
          1683.138645634666,
          1705.8788945512595,
          1683.138645634666,
          1805.4443087266145,
          1782.0894584879509,
          1668.388213904984,
          1870.592048866044,
          1692.9722667877877,
          1698.5036786864184,
          1683.7532469567363,
          1661.627599362213,
          1758.7346082492872,
          1681.9094429905258,
          1772.2558373348295,
          1753.2031963506565,
          1742.1403725533949,
          1804.2151060824742,
          1795.610687573493,
          1714.4833130602408,
          1718.7855223147315,
          1665.3152072946334,
          1718.7855223147315,
          1722.473130247152,
          1740.9111699092548,
          1703.4204892629791,
          1756.2762029610071,
          1703.4204892629791,
          1806.0589100486845,
          1727.3899408237128,
          1703.4204892629791,
          1768.5682294024089,
          1799.2982955059135,
          1760.5784122154976,
          1734.7651566885538,
          1744.5987778416754,
          1889.6446898502168,
          1750.7447910623762,
          1874.2796567984647,
          1743.3695751975351,
          1600.167467155204,
          1793.7668836072826,
          1726.7753395016427,
          1662.242200684283,
          1605.6988790538346,
          1765.4952227920585,
          1779.6310531996705,
          1768.5682294024089,
          1743.3695751975351,
          1750.1301897403062,
          1750.1301897403062,
          1594.636055256573,
          1697.2744760422781,
          1765.4952227920585,
          1725.5461368575025,
          1713.8687117381708,
          1705.2642932291894,
          1737.2235619768342,
          1782.704059810021,
          1730.4629474340632,
          1662.856802006353,
          1667.159011260844,
          1691.1284628215772,
          1509.8210728109004,
          1799.9128968279836,
          1581.1148261710312,
          1550.9993613895965,
          1600.167467155204,
          1589.7192446800123,
          1627.824526648358,
          1731.0775487561332,
          1724.9315355354322,
          1646.8771676325307,
          1683.7532469567363,
          1617.3763041731663,
          1621.678513427657,
          1552.2285640337366,
          1607.542683020045,
          1610.6156896303953,
          1595.250656578643,
          1611.2302909524653,
          1602.011271121414,
          1551.6139627116665,
          1689.899260177437,
          1688.670057533297,
          1570.6666036958395,
          1618.6055068173066,
          1614.303297562816,
          1693.5868681098577,
          1637.0435464794093,
          1578.6564208827506,
          1594.021453934503,
          1586.6462380696616,
          1629.668330614568,
          1565.1351917972086,
          1756.8908042830772,
          1484.6224186060267,
          1574.9688129503302,
          1624.1369187159376,
          1560.2183812206479,
          1726.1607381795725,
          1632.1267359028486,
          1617.3763041731663,
          1570.6666036958395,
          1587.875440713802,
          1586.6462380696616,
          1589.7192446800123,
          1600.782068477274,
          1605.6988790538346,
          1603.2404737655543,
          1630.8975332587083,
          1611.2302909524653,
          1697.2744760422781,
          1616.1471015290263,
          1613.6886962407457,
          1602.6258724434842,
          1700.9620839746988,
          1613.6886962407457,
          1578.6564208827506,
          1511.6648767771107,
          1688.670057533297,
          1546.6971521351059,
          1571.8958063399798,
          1627.824526648358,
          1556.5307732882275,
          1617.9909054952366,
          1586.6462380696616,
          1566.3643944413488,
          1684.9824496008764,
          1619.8347094614467,
          1686.2116522450167,
          1607.542683020045,
          1598.9382645110636,
          1564.5205904751385,
          1576.1980155944702,
          1606.928081697975
         ]
        }
       ],
       "layout": {
        "template": {
         "data": {
          "bar": [
           {
            "error_x": {
             "color": "#2a3f5f"
            },
            "error_y": {
             "color": "#2a3f5f"
            },
            "marker": {
             "line": {
              "color": "#E5ECF6",
              "width": 0.5
             }
            },
            "type": "bar"
           }
          ],
          "barpolar": [
           {
            "marker": {
             "line": {
              "color": "#E5ECF6",
              "width": 0.5
             }
            },
            "type": "barpolar"
           }
          ],
          "carpet": [
           {
            "aaxis": {
             "endlinecolor": "#2a3f5f",
             "gridcolor": "white",
             "linecolor": "white",
             "minorgridcolor": "white",
             "startlinecolor": "#2a3f5f"
            },
            "baxis": {
             "endlinecolor": "#2a3f5f",
             "gridcolor": "white",
             "linecolor": "white",
             "minorgridcolor": "white",
             "startlinecolor": "#2a3f5f"
            },
            "type": "carpet"
           }
          ],
          "choropleth": [
           {
            "colorbar": {
             "outlinewidth": 0,
             "ticks": ""
            },
            "type": "choropleth"
           }
          ],
          "contour": [
           {
            "colorbar": {
             "outlinewidth": 0,
             "ticks": ""
            },
            "colorscale": [
             [
              0,
              "#0d0887"
             ],
             [
              0.1111111111111111,
              "#46039f"
             ],
             [
              0.2222222222222222,
              "#7201a8"
             ],
             [
              0.3333333333333333,
              "#9c179e"
             ],
             [
              0.4444444444444444,
              "#bd3786"
             ],
             [
              0.5555555555555556,
              "#d8576b"
             ],
             [
              0.6666666666666666,
              "#ed7953"
             ],
             [
              0.7777777777777778,
              "#fb9f3a"
             ],
             [
              0.8888888888888888,
              "#fdca26"
             ],
             [
              1,
              "#f0f921"
             ]
            ],
            "type": "contour"
           }
          ],
          "contourcarpet": [
           {
            "colorbar": {
             "outlinewidth": 0,
             "ticks": ""
            },
            "type": "contourcarpet"
           }
          ],
          "heatmap": [
           {
            "colorbar": {
             "outlinewidth": 0,
             "ticks": ""
            },
            "colorscale": [
             [
              0,
              "#0d0887"
             ],
             [
              0.1111111111111111,
              "#46039f"
             ],
             [
              0.2222222222222222,
              "#7201a8"
             ],
             [
              0.3333333333333333,
              "#9c179e"
             ],
             [
              0.4444444444444444,
              "#bd3786"
             ],
             [
              0.5555555555555556,
              "#d8576b"
             ],
             [
              0.6666666666666666,
              "#ed7953"
             ],
             [
              0.7777777777777778,
              "#fb9f3a"
             ],
             [
              0.8888888888888888,
              "#fdca26"
             ],
             [
              1,
              "#f0f921"
             ]
            ],
            "type": "heatmap"
           }
          ],
          "heatmapgl": [
           {
            "colorbar": {
             "outlinewidth": 0,
             "ticks": ""
            },
            "colorscale": [
             [
              0,
              "#0d0887"
             ],
             [
              0.1111111111111111,
              "#46039f"
             ],
             [
              0.2222222222222222,
              "#7201a8"
             ],
             [
              0.3333333333333333,
              "#9c179e"
             ],
             [
              0.4444444444444444,
              "#bd3786"
             ],
             [
              0.5555555555555556,
              "#d8576b"
             ],
             [
              0.6666666666666666,
              "#ed7953"
             ],
             [
              0.7777777777777778,
              "#fb9f3a"
             ],
             [
              0.8888888888888888,
              "#fdca26"
             ],
             [
              1,
              "#f0f921"
             ]
            ],
            "type": "heatmapgl"
           }
          ],
          "histogram": [
           {
            "marker": {
             "colorbar": {
              "outlinewidth": 0,
              "ticks": ""
             }
            },
            "type": "histogram"
           }
          ],
          "histogram2d": [
           {
            "colorbar": {
             "outlinewidth": 0,
             "ticks": ""
            },
            "colorscale": [
             [
              0,
              "#0d0887"
             ],
             [
              0.1111111111111111,
              "#46039f"
             ],
             [
              0.2222222222222222,
              "#7201a8"
             ],
             [
              0.3333333333333333,
              "#9c179e"
             ],
             [
              0.4444444444444444,
              "#bd3786"
             ],
             [
              0.5555555555555556,
              "#d8576b"
             ],
             [
              0.6666666666666666,
              "#ed7953"
             ],
             [
              0.7777777777777778,
              "#fb9f3a"
             ],
             [
              0.8888888888888888,
              "#fdca26"
             ],
             [
              1,
              "#f0f921"
             ]
            ],
            "type": "histogram2d"
           }
          ],
          "histogram2dcontour": [
           {
            "colorbar": {
             "outlinewidth": 0,
             "ticks": ""
            },
            "colorscale": [
             [
              0,
              "#0d0887"
             ],
             [
              0.1111111111111111,
              "#46039f"
             ],
             [
              0.2222222222222222,
              "#7201a8"
             ],
             [
              0.3333333333333333,
              "#9c179e"
             ],
             [
              0.4444444444444444,
              "#bd3786"
             ],
             [
              0.5555555555555556,
              "#d8576b"
             ],
             [
              0.6666666666666666,
              "#ed7953"
             ],
             [
              0.7777777777777778,
              "#fb9f3a"
             ],
             [
              0.8888888888888888,
              "#fdca26"
             ],
             [
              1,
              "#f0f921"
             ]
            ],
            "type": "histogram2dcontour"
           }
          ],
          "mesh3d": [
           {
            "colorbar": {
             "outlinewidth": 0,
             "ticks": ""
            },
            "type": "mesh3d"
           }
          ],
          "parcoords": [
           {
            "line": {
             "colorbar": {
              "outlinewidth": 0,
              "ticks": ""
             }
            },
            "type": "parcoords"
           }
          ],
          "scatter": [
           {
            "marker": {
             "colorbar": {
              "outlinewidth": 0,
              "ticks": ""
             }
            },
            "type": "scatter"
           }
          ],
          "scatter3d": [
           {
            "line": {
             "colorbar": {
              "outlinewidth": 0,
              "ticks": ""
             }
            },
            "marker": {
             "colorbar": {
              "outlinewidth": 0,
              "ticks": ""
             }
            },
            "type": "scatter3d"
           }
          ],
          "scattercarpet": [
           {
            "marker": {
             "colorbar": {
              "outlinewidth": 0,
              "ticks": ""
             }
            },
            "type": "scattercarpet"
           }
          ],
          "scattergeo": [
           {
            "marker": {
             "colorbar": {
              "outlinewidth": 0,
              "ticks": ""
             }
            },
            "type": "scattergeo"
           }
          ],
          "scattergl": [
           {
            "marker": {
             "colorbar": {
              "outlinewidth": 0,
              "ticks": ""
             }
            },
            "type": "scattergl"
           }
          ],
          "scattermapbox": [
           {
            "marker": {
             "colorbar": {
              "outlinewidth": 0,
              "ticks": ""
             }
            },
            "type": "scattermapbox"
           }
          ],
          "scatterpolar": [
           {
            "marker": {
             "colorbar": {
              "outlinewidth": 0,
              "ticks": ""
             }
            },
            "type": "scatterpolar"
           }
          ],
          "scatterpolargl": [
           {
            "marker": {
             "colorbar": {
              "outlinewidth": 0,
              "ticks": ""
             }
            },
            "type": "scatterpolargl"
           }
          ],
          "scatterternary": [
           {
            "marker": {
             "colorbar": {
              "outlinewidth": 0,
              "ticks": ""
             }
            },
            "type": "scatterternary"
           }
          ],
          "surface": [
           {
            "colorbar": {
             "outlinewidth": 0,
             "ticks": ""
            },
            "colorscale": [
             [
              0,
              "#0d0887"
             ],
             [
              0.1111111111111111,
              "#46039f"
             ],
             [
              0.2222222222222222,
              "#7201a8"
             ],
             [
              0.3333333333333333,
              "#9c179e"
             ],
             [
              0.4444444444444444,
              "#bd3786"
             ],
             [
              0.5555555555555556,
              "#d8576b"
             ],
             [
              0.6666666666666666,
              "#ed7953"
             ],
             [
              0.7777777777777778,
              "#fb9f3a"
             ],
             [
              0.8888888888888888,
              "#fdca26"
             ],
             [
              1,
              "#f0f921"
             ]
            ],
            "type": "surface"
           }
          ],
          "table": [
           {
            "cells": {
             "fill": {
              "color": "#EBF0F8"
             },
             "line": {
              "color": "white"
             }
            },
            "header": {
             "fill": {
              "color": "#C8D4E3"
             },
             "line": {
              "color": "white"
             }
            },
            "type": "table"
           }
          ]
         },
         "layout": {
          "annotationdefaults": {
           "arrowcolor": "#2a3f5f",
           "arrowhead": 0,
           "arrowwidth": 1
          },
          "colorscale": {
           "diverging": [
            [
             0,
             "#8e0152"
            ],
            [
             0.1,
             "#c51b7d"
            ],
            [
             0.2,
             "#de77ae"
            ],
            [
             0.3,
             "#f1b6da"
            ],
            [
             0.4,
             "#fde0ef"
            ],
            [
             0.5,
             "#f7f7f7"
            ],
            [
             0.6,
             "#e6f5d0"
            ],
            [
             0.7,
             "#b8e186"
            ],
            [
             0.8,
             "#7fbc41"
            ],
            [
             0.9,
             "#4d9221"
            ],
            [
             1,
             "#276419"
            ]
           ],
           "sequential": [
            [
             0,
             "#0d0887"
            ],
            [
             0.1111111111111111,
             "#46039f"
            ],
            [
             0.2222222222222222,
             "#7201a8"
            ],
            [
             0.3333333333333333,
             "#9c179e"
            ],
            [
             0.4444444444444444,
             "#bd3786"
            ],
            [
             0.5555555555555556,
             "#d8576b"
            ],
            [
             0.6666666666666666,
             "#ed7953"
            ],
            [
             0.7777777777777778,
             "#fb9f3a"
            ],
            [
             0.8888888888888888,
             "#fdca26"
            ],
            [
             1,
             "#f0f921"
            ]
           ],
           "sequentialminus": [
            [
             0,
             "#0d0887"
            ],
            [
             0.1111111111111111,
             "#46039f"
            ],
            [
             0.2222222222222222,
             "#7201a8"
            ],
            [
             0.3333333333333333,
             "#9c179e"
            ],
            [
             0.4444444444444444,
             "#bd3786"
            ],
            [
             0.5555555555555556,
             "#d8576b"
            ],
            [
             0.6666666666666666,
             "#ed7953"
            ],
            [
             0.7777777777777778,
             "#fb9f3a"
            ],
            [
             0.8888888888888888,
             "#fdca26"
            ],
            [
             1,
             "#f0f921"
            ]
           ]
          },
          "colorway": [
           "#636efa",
           "#EF553B",
           "#00cc96",
           "#ab63fa",
           "#FFA15A",
           "#19d3f3",
           "#FF6692",
           "#B6E880",
           "#FF97FF",
           "#FECB52"
          ],
          "font": {
           "color": "#2a3f5f"
          },
          "geo": {
           "bgcolor": "white",
           "lakecolor": "white",
           "landcolor": "#E5ECF6",
           "showlakes": true,
           "showland": true,
           "subunitcolor": "white"
          },
          "hoverlabel": {
           "align": "left"
          },
          "hovermode": "closest",
          "mapbox": {
           "style": "light"
          },
          "paper_bgcolor": "white",
          "plot_bgcolor": "#E5ECF6",
          "polar": {
           "angularaxis": {
            "gridcolor": "white",
            "linecolor": "white",
            "ticks": ""
           },
           "bgcolor": "#E5ECF6",
           "radialaxis": {
            "gridcolor": "white",
            "linecolor": "white",
            "ticks": ""
           }
          },
          "scene": {
           "xaxis": {
            "backgroundcolor": "#E5ECF6",
            "gridcolor": "white",
            "gridwidth": 2,
            "linecolor": "white",
            "showbackground": true,
            "ticks": "",
            "zerolinecolor": "white"
           },
           "yaxis": {
            "backgroundcolor": "#E5ECF6",
            "gridcolor": "white",
            "gridwidth": 2,
            "linecolor": "white",
            "showbackground": true,
            "ticks": "",
            "zerolinecolor": "white"
           },
           "zaxis": {
            "backgroundcolor": "#E5ECF6",
            "gridcolor": "white",
            "gridwidth": 2,
            "linecolor": "white",
            "showbackground": true,
            "ticks": "",
            "zerolinecolor": "white"
           }
          },
          "shapedefaults": {
           "line": {
            "color": "#2a3f5f"
           }
          },
          "ternary": {
           "aaxis": {
            "gridcolor": "white",
            "linecolor": "white",
            "ticks": ""
           },
           "baxis": {
            "gridcolor": "white",
            "linecolor": "white",
            "ticks": ""
           },
           "bgcolor": "#E5ECF6",
           "caxis": {
            "gridcolor": "white",
            "linecolor": "white",
            "ticks": ""
           }
          },
          "title": {
           "x": 0.05
          },
          "xaxis": {
           "automargin": true,
           "gridcolor": "white",
           "linecolor": "white",
           "ticks": "",
           "zerolinecolor": "white",
           "zerolinewidth": 2
          },
          "yaxis": {
           "automargin": true,
           "gridcolor": "white",
           "linecolor": "white",
           "ticks": "",
           "zerolinecolor": "white",
           "zerolinewidth": 2
          }
         }
        }
       }
      },
      "text/html": [
       "<div>\n",
       "        \n",
       "        \n",
       "            <div id=\"8a3da147-0eea-4534-bdcc-d782320d408f\" class=\"plotly-graph-div\" style=\"height:525px; width:100%;\"></div>\n",
       "            <script type=\"text/javascript\">\n",
       "                require([\"plotly\"], function(Plotly) {\n",
       "                    window.PLOTLYENV=window.PLOTLYENV || {};\n",
       "                    \n",
       "                if (document.getElementById(\"8a3da147-0eea-4534-bdcc-d782320d408f\")) {\n",
       "                    Plotly.newPlot(\n",
       "                        '8a3da147-0eea-4534-bdcc-d782320d408f',\n",
       "                        [{\"mode\": \"markers\", \"name\": \"data\", \"type\": \"scatter\", \"x\": [208.6, 208.5, 206.8, 204.7, 200.6, 197.6, 204.2, 213.2, 215.5, 211.7, 216.0, 203.3, 214.1, 233.2, 205.6, 207.7, 201.3, 199.8, 219.9, 207.3, 200.4, 204.1, 200.4, 220.3, 216.5, 198.0, 230.9, 202.0, 202.9, 200.5, 196.9, 212.7, 200.2, 214.9, 211.8, 210.0, 220.1, 218.7, 205.5, 206.2, 197.5, 206.2, 206.8, 209.8, 203.7, 212.3, 203.7, 220.4, 207.6, 203.7, 214.3, 219.3, 213.0, 208.8, 210.4, 234.0, 211.4, 231.5, 210.2, 186.9, 218.4, 207.5, 197.0, 187.8, 213.8, 216.1, 214.3, 210.2, 211.3, 211.3, 186.0, 202.7, 213.8, 207.3, 205.4, 204.0, 209.2, 216.6, 208.1, 197.1, 197.8, 201.7, 172.2, 219.4, 183.8, 178.9, 186.9, 185.2, 191.4, 208.2, 207.2, 194.5, 200.5, 189.7, 190.4, 179.1, 188.1, 188.6, 186.1, 188.7, 187.2, 179.0, 201.5, 201.3, 182.1, 189.9, 189.2, 202.1, 192.9, 183.4, 185.9, 184.7, 191.7, 181.2, 212.4, 168.1, 182.8, 190.8, 180.4, 207.4, 192.1, 189.7, 182.1, 184.9, 184.7, 185.2, 187.0, 187.8, 187.4, 191.9, 188.7, 202.7, 189.5, 189.1, 187.3, 203.3, 189.1, 183.4, 172.5, 201.3, 178.2, 182.3, 191.4, 179.8, 189.8, 184.7, 181.4, 200.7, 190.1, 200.9, 188.1, 186.7, 181.1, 183.0, 188.0], \"y\": [1743.8, 1762.9, 1909.5, 1827.0, 1641.2, 1627.2, 1701.4, 1800.1, 1828.0, 1793.2, 1829.9, 1734.3, 1821.9, 1835.2, 1733.4, 1753.4, 1645.0, 1689.5, 1784.7, 1756.3, 1827.0, 1698.7, 1659.3, 1812.2, 1691.5, 1703.9, 1820.8, 1668.4, 1732.8, 1688.9, 1735.5, 1735.4, 1676.3, 1823.1, 1772.6, 1768.0, 1875.2, 1867.6, 1759.4, 1737.8, 1636.0, 1677.6, 1746.4, 1759.1, 1688.0, 1765.6, 1691.7, 1796.3, 1763.5, 1724.8, 1830.9, 1787.1, 1772.0, 1759.2, 1752.4, 1858.8, 1772.1, 1827.3, 1780.9, 1676.7, 1770.0, 1724.8, 1697.2, 1657.5, 1783.3, 1710.3, 1807.2, 1751.6, 1758.4, 1754.3, 1671.5, 1715.0, 1756.9, 1741.9, 1745.6, 1661.2, 1754.8, 1824.9, 1740.5, 1679.3, 1592.1, 1598.7, 1628.4, 1659.9, 1587.0, 1534.8, 1618.8, 1589.3, 1616.3, 1701.2, 1710.3, 1624.2, 1664.7, 1671.1, 1571.5, 1562.7, 1605.3, 1605.4, 1609.3, 1606.9, 1610.0, 1524.0, 1645.4, 1655.5, 1570.4, 1548.8, 1565.2, 1667.3, 1683.8, 1554.0, 1610.4, 1581.2, 1690.4, 1586.3, 1696.8, 1499.5, 1579.5, 1564.2, 1559.0, 1637.3, 1543.3, 1607.5, 1578.0, 1621.0, 1591.5, 1575.0, 1602.2, 1574.0, 1601.9, 1554.0, 1619.0, 1650.8, 1620.3, 1574.9, 1573.8, 1688.8, 1631.1, 1588.6, 1493.7, 1638.5, 1539.0, 1568.0, 1563.6, 1566.4, 1565.4, 1618.6, 1535.6, 1646.6, 1524.1, 1673.9, 1517.8, 1598.3, 1542.6, 1631.5, 1564.5]}, {\"mode\": \"markers\", \"name\": \"retta \", \"type\": \"scatter\", \"x\": [208.6, 208.5, 206.8, 204.7, 200.6, 197.6, 204.2, 213.2, 215.5, 211.7, 216.0, 203.3, 214.1, 233.2, 205.6, 207.7, 201.3, 199.8, 219.9, 207.3, 200.4, 204.1, 200.4, 220.3, 216.5, 198.0, 230.9, 202.0, 202.9, 200.5, 196.9, 212.7, 200.2, 214.9, 211.8, 210.0, 220.1, 218.7, 205.5, 206.2, 197.5, 206.2, 206.8, 209.8, 203.7, 212.3, 203.7, 220.4, 207.6, 203.7, 214.3, 219.3, 213.0, 208.8, 210.4, 234.0, 211.4, 231.5, 210.2, 186.9, 218.4, 207.5, 197.0, 187.8, 213.8, 216.1, 214.3, 210.2, 211.3, 211.3, 186.0, 202.7, 213.8, 207.3, 205.4, 204.0, 209.2, 216.6, 208.1, 197.1, 197.8, 201.7, 172.2, 219.4, 183.8, 178.9, 186.9, 185.2, 191.4, 208.2, 207.2, 194.5, 200.5, 189.7, 190.4, 179.1, 188.1, 188.6, 186.1, 188.7, 187.2, 179.0, 201.5, 201.3, 182.1, 189.9, 189.2, 202.1, 192.9, 183.4, 185.9, 184.7, 191.7, 181.2, 212.4, 168.1, 182.8, 190.8, 180.4, 207.4, 192.1, 189.7, 182.1, 184.9, 184.7, 185.2, 187.0, 187.8, 187.4, 191.9, 188.7, 202.7, 189.5, 189.1, 187.3, 203.3, 189.1, 183.4, 172.5, 201.3, 178.2, 182.3, 191.4, 179.8, 189.8, 184.7, 181.4, 200.7, 190.1, 200.9, 188.1, 186.7, 181.1, 183.0, 188.0], \"y\": [1733.5359540444135, 1732.9213527223435, 1722.473130247152, 1709.56650248368, 1684.3678482788064, 1665.9298086167037, 1706.4934958733295, 1761.8076148596379, 1775.94344526725, 1752.5885950285865, 1779.0164518776005, 1700.9620839746988, 1767.3390267582686, 1884.727879273656, 1715.0979143823108, 1728.0045421457828, 1688.670057533297, 1679.4510377022457, 1802.985903438334, 1725.5461368575025, 1683.138645634666, 1705.8788945512595, 1683.138645634666, 1805.4443087266145, 1782.0894584879509, 1668.388213904984, 1870.592048866044, 1692.9722667877877, 1698.5036786864184, 1683.7532469567363, 1661.627599362213, 1758.7346082492872, 1681.9094429905258, 1772.2558373348295, 1753.2031963506565, 1742.1403725533949, 1804.2151060824742, 1795.610687573493, 1714.4833130602408, 1718.7855223147315, 1665.3152072946334, 1718.7855223147315, 1722.473130247152, 1740.9111699092548, 1703.4204892629791, 1756.2762029610071, 1703.4204892629791, 1806.0589100486845, 1727.3899408237128, 1703.4204892629791, 1768.5682294024089, 1799.2982955059135, 1760.5784122154976, 1734.7651566885538, 1744.5987778416754, 1889.6446898502168, 1750.7447910623762, 1874.2796567984647, 1743.3695751975351, 1600.167467155204, 1793.7668836072826, 1726.7753395016427, 1662.242200684283, 1605.6988790538346, 1765.4952227920585, 1779.6310531996705, 1768.5682294024089, 1743.3695751975351, 1750.1301897403062, 1750.1301897403062, 1594.636055256573, 1697.2744760422781, 1765.4952227920585, 1725.5461368575025, 1713.8687117381708, 1705.2642932291894, 1737.2235619768342, 1782.704059810021, 1730.4629474340632, 1662.856802006353, 1667.159011260844, 1691.1284628215772, 1509.8210728109004, 1799.9128968279836, 1581.1148261710312, 1550.9993613895965, 1600.167467155204, 1589.7192446800123, 1627.824526648358, 1731.0775487561332, 1724.9315355354322, 1646.8771676325307, 1683.7532469567363, 1617.3763041731663, 1621.678513427657, 1552.2285640337366, 1607.542683020045, 1610.6156896303953, 1595.250656578643, 1611.2302909524653, 1602.011271121414, 1551.6139627116665, 1689.899260177437, 1688.670057533297, 1570.6666036958395, 1618.6055068173066, 1614.303297562816, 1693.5868681098577, 1637.0435464794093, 1578.6564208827506, 1594.021453934503, 1586.6462380696616, 1629.668330614568, 1565.1351917972086, 1756.8908042830772, 1484.6224186060267, 1574.9688129503302, 1624.1369187159376, 1560.2183812206479, 1726.1607381795725, 1632.1267359028486, 1617.3763041731663, 1570.6666036958395, 1587.875440713802, 1586.6462380696616, 1589.7192446800123, 1600.782068477274, 1605.6988790538346, 1603.2404737655543, 1630.8975332587083, 1611.2302909524653, 1697.2744760422781, 1616.1471015290263, 1613.6886962407457, 1602.6258724434842, 1700.9620839746988, 1613.6886962407457, 1578.6564208827506, 1511.6648767771107, 1688.670057533297, 1546.6971521351059, 1571.8958063399798, 1627.824526648358, 1556.5307732882275, 1617.9909054952366, 1586.6462380696616, 1566.3643944413488, 1684.9824496008764, 1619.8347094614467, 1686.2116522450167, 1607.542683020045, 1598.9382645110636, 1564.5205904751385, 1576.1980155944702, 1606.928081697975]}],\n",
       "                        {\"template\": {\"data\": {\"bar\": [{\"error_x\": {\"color\": \"#2a3f5f\"}, \"error_y\": {\"color\": \"#2a3f5f\"}, \"marker\": {\"line\": {\"color\": \"#E5ECF6\", \"width\": 0.5}}, \"type\": \"bar\"}], \"barpolar\": [{\"marker\": {\"line\": {\"color\": \"#E5ECF6\", \"width\": 0.5}}, \"type\": \"barpolar\"}], \"carpet\": [{\"aaxis\": {\"endlinecolor\": \"#2a3f5f\", \"gridcolor\": \"white\", \"linecolor\": \"white\", \"minorgridcolor\": \"white\", \"startlinecolor\": \"#2a3f5f\"}, \"baxis\": {\"endlinecolor\": \"#2a3f5f\", \"gridcolor\": \"white\", \"linecolor\": \"white\", \"minorgridcolor\": \"white\", \"startlinecolor\": \"#2a3f5f\"}, \"type\": \"carpet\"}], \"choropleth\": [{\"colorbar\": {\"outlinewidth\": 0, \"ticks\": \"\"}, \"type\": \"choropleth\"}], \"contour\": [{\"colorbar\": {\"outlinewidth\": 0, \"ticks\": \"\"}, \"colorscale\": [[0.0, \"#0d0887\"], [0.1111111111111111, \"#46039f\"], [0.2222222222222222, \"#7201a8\"], [0.3333333333333333, \"#9c179e\"], [0.4444444444444444, \"#bd3786\"], [0.5555555555555556, \"#d8576b\"], [0.6666666666666666, \"#ed7953\"], [0.7777777777777778, \"#fb9f3a\"], [0.8888888888888888, \"#fdca26\"], [1.0, \"#f0f921\"]], \"type\": \"contour\"}], \"contourcarpet\": [{\"colorbar\": {\"outlinewidth\": 0, \"ticks\": \"\"}, \"type\": \"contourcarpet\"}], \"heatmap\": [{\"colorbar\": {\"outlinewidth\": 0, \"ticks\": \"\"}, \"colorscale\": [[0.0, \"#0d0887\"], [0.1111111111111111, \"#46039f\"], [0.2222222222222222, \"#7201a8\"], [0.3333333333333333, \"#9c179e\"], [0.4444444444444444, \"#bd3786\"], [0.5555555555555556, \"#d8576b\"], [0.6666666666666666, \"#ed7953\"], [0.7777777777777778, \"#fb9f3a\"], [0.8888888888888888, \"#fdca26\"], [1.0, \"#f0f921\"]], \"type\": \"heatmap\"}], \"heatmapgl\": [{\"colorbar\": {\"outlinewidth\": 0, \"ticks\": \"\"}, \"colorscale\": [[0.0, \"#0d0887\"], [0.1111111111111111, \"#46039f\"], [0.2222222222222222, \"#7201a8\"], [0.3333333333333333, \"#9c179e\"], [0.4444444444444444, \"#bd3786\"], [0.5555555555555556, \"#d8576b\"], [0.6666666666666666, \"#ed7953\"], [0.7777777777777778, \"#fb9f3a\"], [0.8888888888888888, \"#fdca26\"], [1.0, \"#f0f921\"]], \"type\": \"heatmapgl\"}], \"histogram\": [{\"marker\": {\"colorbar\": {\"outlinewidth\": 0, \"ticks\": \"\"}}, \"type\": \"histogram\"}], \"histogram2d\": [{\"colorbar\": {\"outlinewidth\": 0, \"ticks\": \"\"}, \"colorscale\": [[0.0, \"#0d0887\"], [0.1111111111111111, \"#46039f\"], [0.2222222222222222, \"#7201a8\"], [0.3333333333333333, \"#9c179e\"], [0.4444444444444444, \"#bd3786\"], [0.5555555555555556, \"#d8576b\"], [0.6666666666666666, \"#ed7953\"], [0.7777777777777778, \"#fb9f3a\"], [0.8888888888888888, \"#fdca26\"], [1.0, \"#f0f921\"]], \"type\": \"histogram2d\"}], \"histogram2dcontour\": [{\"colorbar\": {\"outlinewidth\": 0, \"ticks\": \"\"}, \"colorscale\": [[0.0, \"#0d0887\"], [0.1111111111111111, \"#46039f\"], [0.2222222222222222, \"#7201a8\"], [0.3333333333333333, \"#9c179e\"], [0.4444444444444444, \"#bd3786\"], [0.5555555555555556, \"#d8576b\"], [0.6666666666666666, \"#ed7953\"], [0.7777777777777778, \"#fb9f3a\"], [0.8888888888888888, \"#fdca26\"], [1.0, \"#f0f921\"]], \"type\": \"histogram2dcontour\"}], \"mesh3d\": [{\"colorbar\": {\"outlinewidth\": 0, \"ticks\": \"\"}, \"type\": \"mesh3d\"}], \"parcoords\": [{\"line\": {\"colorbar\": {\"outlinewidth\": 0, \"ticks\": \"\"}}, \"type\": \"parcoords\"}], \"scatter\": [{\"marker\": {\"colorbar\": {\"outlinewidth\": 0, \"ticks\": \"\"}}, \"type\": \"scatter\"}], \"scatter3d\": [{\"line\": {\"colorbar\": {\"outlinewidth\": 0, \"ticks\": \"\"}}, \"marker\": {\"colorbar\": {\"outlinewidth\": 0, \"ticks\": \"\"}}, \"type\": \"scatter3d\"}], \"scattercarpet\": [{\"marker\": {\"colorbar\": {\"outlinewidth\": 0, \"ticks\": \"\"}}, \"type\": \"scattercarpet\"}], \"scattergeo\": [{\"marker\": {\"colorbar\": {\"outlinewidth\": 0, \"ticks\": \"\"}}, \"type\": \"scattergeo\"}], \"scattergl\": [{\"marker\": {\"colorbar\": {\"outlinewidth\": 0, \"ticks\": \"\"}}, \"type\": \"scattergl\"}], \"scattermapbox\": [{\"marker\": {\"colorbar\": {\"outlinewidth\": 0, \"ticks\": \"\"}}, \"type\": \"scattermapbox\"}], \"scatterpolar\": [{\"marker\": {\"colorbar\": {\"outlinewidth\": 0, \"ticks\": \"\"}}, \"type\": \"scatterpolar\"}], \"scatterpolargl\": [{\"marker\": {\"colorbar\": {\"outlinewidth\": 0, \"ticks\": \"\"}}, \"type\": \"scatterpolargl\"}], \"scatterternary\": [{\"marker\": {\"colorbar\": {\"outlinewidth\": 0, \"ticks\": \"\"}}, \"type\": \"scatterternary\"}], \"surface\": [{\"colorbar\": {\"outlinewidth\": 0, \"ticks\": \"\"}, \"colorscale\": [[0.0, \"#0d0887\"], [0.1111111111111111, \"#46039f\"], [0.2222222222222222, \"#7201a8\"], [0.3333333333333333, \"#9c179e\"], [0.4444444444444444, \"#bd3786\"], [0.5555555555555556, \"#d8576b\"], [0.6666666666666666, \"#ed7953\"], [0.7777777777777778, \"#fb9f3a\"], [0.8888888888888888, \"#fdca26\"], [1.0, \"#f0f921\"]], \"type\": \"surface\"}], \"table\": [{\"cells\": {\"fill\": {\"color\": \"#EBF0F8\"}, \"line\": {\"color\": \"white\"}}, \"header\": {\"fill\": {\"color\": \"#C8D4E3\"}, \"line\": {\"color\": \"white\"}}, \"type\": \"table\"}]}, \"layout\": {\"annotationdefaults\": {\"arrowcolor\": \"#2a3f5f\", \"arrowhead\": 0, \"arrowwidth\": 1}, \"colorscale\": {\"diverging\": [[0, \"#8e0152\"], [0.1, \"#c51b7d\"], [0.2, \"#de77ae\"], [0.3, \"#f1b6da\"], [0.4, \"#fde0ef\"], [0.5, \"#f7f7f7\"], [0.6, \"#e6f5d0\"], [0.7, \"#b8e186\"], [0.8, \"#7fbc41\"], [0.9, \"#4d9221\"], [1, \"#276419\"]], \"sequential\": [[0.0, \"#0d0887\"], [0.1111111111111111, \"#46039f\"], [0.2222222222222222, \"#7201a8\"], [0.3333333333333333, \"#9c179e\"], [0.4444444444444444, \"#bd3786\"], [0.5555555555555556, \"#d8576b\"], [0.6666666666666666, \"#ed7953\"], [0.7777777777777778, \"#fb9f3a\"], [0.8888888888888888, \"#fdca26\"], [1.0, \"#f0f921\"]], \"sequentialminus\": [[0.0, \"#0d0887\"], [0.1111111111111111, \"#46039f\"], [0.2222222222222222, \"#7201a8\"], [0.3333333333333333, \"#9c179e\"], [0.4444444444444444, \"#bd3786\"], [0.5555555555555556, \"#d8576b\"], [0.6666666666666666, \"#ed7953\"], [0.7777777777777778, \"#fb9f3a\"], [0.8888888888888888, \"#fdca26\"], [1.0, \"#f0f921\"]]}, \"colorway\": [\"#636efa\", \"#EF553B\", \"#00cc96\", \"#ab63fa\", \"#FFA15A\", \"#19d3f3\", \"#FF6692\", \"#B6E880\", \"#FF97FF\", \"#FECB52\"], \"font\": {\"color\": \"#2a3f5f\"}, \"geo\": {\"bgcolor\": \"white\", \"lakecolor\": \"white\", \"landcolor\": \"#E5ECF6\", \"showlakes\": true, \"showland\": true, \"subunitcolor\": \"white\"}, \"hoverlabel\": {\"align\": \"left\"}, \"hovermode\": \"closest\", \"mapbox\": {\"style\": \"light\"}, \"paper_bgcolor\": \"white\", \"plot_bgcolor\": \"#E5ECF6\", \"polar\": {\"angularaxis\": {\"gridcolor\": \"white\", \"linecolor\": \"white\", \"ticks\": \"\"}, \"bgcolor\": \"#E5ECF6\", \"radialaxis\": {\"gridcolor\": \"white\", \"linecolor\": \"white\", \"ticks\": \"\"}}, \"scene\": {\"xaxis\": {\"backgroundcolor\": \"#E5ECF6\", \"gridcolor\": \"white\", \"gridwidth\": 2, \"linecolor\": \"white\", \"showbackground\": true, \"ticks\": \"\", \"zerolinecolor\": \"white\"}, \"yaxis\": {\"backgroundcolor\": \"#E5ECF6\", \"gridcolor\": \"white\", \"gridwidth\": 2, \"linecolor\": \"white\", \"showbackground\": true, \"ticks\": \"\", \"zerolinecolor\": \"white\"}, \"zaxis\": {\"backgroundcolor\": \"#E5ECF6\", \"gridcolor\": \"white\", \"gridwidth\": 2, \"linecolor\": \"white\", \"showbackground\": true, \"ticks\": \"\", \"zerolinecolor\": \"white\"}}, \"shapedefaults\": {\"line\": {\"color\": \"#2a3f5f\"}}, \"ternary\": {\"aaxis\": {\"gridcolor\": \"white\", \"linecolor\": \"white\", \"ticks\": \"\"}, \"baxis\": {\"gridcolor\": \"white\", \"linecolor\": \"white\", \"ticks\": \"\"}, \"bgcolor\": \"#E5ECF6\", \"caxis\": {\"gridcolor\": \"white\", \"linecolor\": \"white\", \"ticks\": \"\"}}, \"title\": {\"x\": 0.05}, \"xaxis\": {\"automargin\": true, \"gridcolor\": \"white\", \"linecolor\": \"white\", \"ticks\": \"\", \"zerolinecolor\": \"white\", \"zerolinewidth\": 2}, \"yaxis\": {\"automargin\": true, \"gridcolor\": \"white\", \"linecolor\": \"white\", \"ticks\": \"\", \"zerolinecolor\": \"white\", \"zerolinewidth\": 2}}}},\n",
       "                        {\"responsive\": true}\n",
       "                    ).then(function(){\n",
       "                            \n",
       "var gd = document.getElementById('8a3da147-0eea-4534-bdcc-d782320d408f');\n",
       "var x = new MutationObserver(function (mutations, observer) {{\n",
       "        var display = window.getComputedStyle(gd).display;\n",
       "        if (!display || display === 'none') {{\n",
       "            console.log([gd, 'removed!']);\n",
       "            Plotly.purge(gd);\n",
       "            observer.disconnect();\n",
       "        }}\n",
       "}});\n",
       "\n",
       "// Listen for the removal of the full notebook cells\n",
       "var notebookContainer = gd.closest('#notebook-container');\n",
       "if (notebookContainer) {{\n",
       "    x.observe(notebookContainer, {childList: true});\n",
       "}}\n",
       "\n",
       "// Listen for the clearing of the current output cell\n",
       "var outputEl = gd.closest('.output');\n",
       "if (outputEl) {{\n",
       "    x.observe(outputEl, {childList: true});\n",
       "}}\n",
       "\n",
       "                        })\n",
       "                };\n",
       "                });\n",
       "            </script>\n",
       "        </div>"
      ]
     },
     "metadata": {},
     "output_type": "display_data"
    }
   ],
   "source": [
    "# Punto 2\n",
    "#Disegnare in un unico grafico lo scatter plot delle osservazioni e la retta di regressione\n",
    "\n",
    "\n",
    "py.init_notebook_mode(connected=True)\n",
    "y_retta=w*x[:,0]+b\n",
    "\n",
    "data=[\n",
    "    go.Scatter(x=x[:,0],y=y,mode=\"markers\",name=\"data\"),\n",
    "    go.Scatter(x=x[:,0],y=y_retta,mode=\"markers\",name=\"retta \")\n",
    "]\n",
    "layout = go.Layout()\n",
    "fig = go.Figure(data, layout)\n",
    "\n",
    "\n",
    "py.iplot(fig)"
   ]
  },
  {
   "cell_type": "code",
   "execution_count": 22,
   "metadata": {},
   "outputs": [
    {
     "name": "stdout",
     "output_type": "stream",
     "text": [
      "il coeffiente di determinazione R2 è 0.7623590030663299\n"
     ]
    }
   ],
   "source": [
    "# Punto 3\n",
    "\n",
    "#Calcolate il coeffiente di determinazione ``R^2`` utilizzando il metodo ``score``\n",
    "R2 = linRegr.score(x,y)\n",
    "print(f\"il coeffiente di determinazione R2 è {R2}\")"
   ]
  },
  {
   "cell_type": "code",
   "execution_count": 23,
   "metadata": {},
   "outputs": [
    {
     "data": {
      "text/html": [
       "        <script type=\"text/javascript\">\n",
       "        window.PlotlyConfig = {MathJaxConfig: 'local'};\n",
       "        if (window.MathJax) {MathJax.Hub.Config({SVG: {font: \"STIX-Web\"}});}\n",
       "        if (typeof require !== 'undefined') {\n",
       "        require.undef(\"plotly\");\n",
       "        requirejs.config({\n",
       "            paths: {\n",
       "                'plotly': ['https://cdn.plot.ly/plotly-latest.min']\n",
       "            }\n",
       "        });\n",
       "        require(['plotly'], function(Plotly) {\n",
       "            window._Plotly = Plotly;\n",
       "        });\n",
       "        }\n",
       "        </script>\n",
       "        "
      ]
     },
     "metadata": {},
     "output_type": "display_data"
    },
    {
     "data": {
      "application/vnd.plotly.v1+json": {
       "config": {
        "linkText": "Export to plot.ly",
        "plotlyServerURL": "https://plot.ly",
        "showLink": false
       },
       "data": [
        {
         "mode": "markers",
         "name": "predict",
         "type": "scatter",
         "x": [
          208.6,
          208.5,
          206.8,
          204.7,
          200.6,
          197.6,
          204.2,
          213.2,
          215.5,
          211.7,
          216,
          203.3,
          214.1,
          233.2,
          205.6,
          207.7,
          201.3,
          199.8,
          219.9,
          207.3,
          200.4,
          204.1,
          200.4,
          220.3,
          216.5,
          198,
          230.9,
          202,
          202.9,
          200.5,
          196.9,
          212.7,
          200.2,
          214.9,
          211.8,
          210,
          220.1,
          218.7,
          205.5,
          206.2,
          197.5,
          206.2,
          206.8,
          209.8,
          203.7,
          212.3,
          203.7,
          220.4,
          207.6,
          203.7,
          214.3,
          219.3,
          213,
          208.8,
          210.4,
          234,
          211.4,
          231.5,
          210.2,
          186.9,
          218.4,
          207.5,
          197,
          187.8,
          213.8,
          216.1,
          214.3,
          210.2,
          211.3,
          211.3,
          186,
          202.7,
          213.8,
          207.3,
          205.4,
          204,
          209.2,
          216.6,
          208.1,
          197.1,
          197.8,
          201.7,
          172.2,
          219.4,
          183.8,
          178.9,
          186.9,
          185.2,
          191.4,
          208.2,
          207.2,
          194.5,
          200.5,
          189.7,
          190.4,
          179.1,
          188.1,
          188.6,
          186.1,
          188.7,
          187.2,
          179,
          201.5,
          201.3,
          182.1,
          189.9,
          189.2,
          202.1,
          192.9,
          183.4,
          185.9,
          184.7,
          191.7,
          181.2,
          212.4,
          168.1,
          182.8,
          190.8,
          180.4,
          207.4,
          192.1,
          189.7,
          182.1,
          184.9,
          184.7,
          185.2,
          187,
          187.8,
          187.4,
          191.9,
          188.7,
          202.7,
          189.5,
          189.1,
          187.3,
          203.3,
          189.1,
          183.4,
          172.5,
          201.3,
          178.2,
          182.3,
          191.4,
          179.8,
          189.8,
          184.7,
          181.4,
          200.7,
          190.1,
          200.9,
          188.1,
          186.7,
          181.1,
          183,
          188
         ],
         "y": [
          1733.5359540444135,
          1732.9213527223435,
          1722.473130247152,
          1709.56650248368,
          1684.3678482788064,
          1665.9298086167037,
          1706.4934958733295,
          1761.8076148596379,
          1775.94344526725,
          1752.5885950285865,
          1779.0164518776005,
          1700.9620839746988,
          1767.3390267582686,
          1884.727879273656,
          1715.0979143823108,
          1728.0045421457828,
          1688.670057533297,
          1679.4510377022457,
          1802.985903438334,
          1725.5461368575025,
          1683.138645634666,
          1705.8788945512595,
          1683.138645634666,
          1805.4443087266145,
          1782.0894584879509,
          1668.388213904984,
          1870.592048866044,
          1692.9722667877877,
          1698.5036786864184,
          1683.7532469567363,
          1661.627599362213,
          1758.7346082492872,
          1681.9094429905258,
          1772.2558373348295,
          1753.2031963506565,
          1742.1403725533949,
          1804.2151060824742,
          1795.610687573493,
          1714.4833130602408,
          1718.7855223147315,
          1665.3152072946334,
          1718.7855223147315,
          1722.473130247152,
          1740.9111699092548,
          1703.4204892629791,
          1756.2762029610071,
          1703.4204892629791,
          1806.0589100486845,
          1727.3899408237128,
          1703.4204892629791,
          1768.5682294024089,
          1799.2982955059135,
          1760.5784122154976,
          1734.7651566885538,
          1744.5987778416754,
          1889.6446898502168,
          1750.7447910623762,
          1874.2796567984647,
          1743.3695751975351,
          1600.167467155204,
          1793.7668836072826,
          1726.7753395016427,
          1662.242200684283,
          1605.6988790538346,
          1765.4952227920585,
          1779.6310531996705,
          1768.5682294024089,
          1743.3695751975351,
          1750.1301897403062,
          1750.1301897403062,
          1594.636055256573,
          1697.2744760422781,
          1765.4952227920585,
          1725.5461368575025,
          1713.8687117381708,
          1705.2642932291894,
          1737.2235619768342,
          1782.704059810021,
          1730.4629474340632,
          1662.856802006353,
          1667.159011260844,
          1691.1284628215772,
          1509.8210728109004,
          1799.9128968279836,
          1581.1148261710312,
          1550.9993613895965,
          1600.167467155204,
          1589.7192446800123,
          1627.824526648358,
          1731.0775487561332,
          1724.9315355354322,
          1646.8771676325307,
          1683.7532469567363,
          1617.3763041731663,
          1621.678513427657,
          1552.2285640337366,
          1607.542683020045,
          1610.6156896303953,
          1595.250656578643,
          1611.2302909524653,
          1602.011271121414,
          1551.6139627116665,
          1689.899260177437,
          1688.670057533297,
          1570.6666036958395,
          1618.6055068173066,
          1614.303297562816,
          1693.5868681098577,
          1637.0435464794093,
          1578.6564208827506,
          1594.021453934503,
          1586.6462380696616,
          1629.668330614568,
          1565.1351917972086,
          1756.8908042830772,
          1484.6224186060267,
          1574.9688129503302,
          1624.1369187159376,
          1560.2183812206479,
          1726.1607381795725,
          1632.1267359028486,
          1617.3763041731663,
          1570.6666036958395,
          1587.875440713802,
          1586.6462380696616,
          1589.7192446800123,
          1600.782068477274,
          1605.6988790538346,
          1603.2404737655543,
          1630.8975332587083,
          1611.2302909524653,
          1697.2744760422781,
          1616.1471015290263,
          1613.6886962407457,
          1602.6258724434842,
          1700.9620839746988,
          1613.6886962407457,
          1578.6564208827506,
          1511.6648767771107,
          1688.670057533297,
          1546.6971521351059,
          1571.8958063399798,
          1627.824526648358,
          1556.5307732882275,
          1617.9909054952366,
          1586.6462380696616,
          1566.3643944413488,
          1684.9824496008764,
          1619.8347094614467,
          1686.2116522450167,
          1607.542683020045,
          1598.9382645110636,
          1564.5205904751385,
          1576.1980155944702,
          1606.928081697975
         ]
        }
       ],
       "layout": {
        "template": {
         "data": {
          "bar": [
           {
            "error_x": {
             "color": "#2a3f5f"
            },
            "error_y": {
             "color": "#2a3f5f"
            },
            "marker": {
             "line": {
              "color": "#E5ECF6",
              "width": 0.5
             }
            },
            "type": "bar"
           }
          ],
          "barpolar": [
           {
            "marker": {
             "line": {
              "color": "#E5ECF6",
              "width": 0.5
             }
            },
            "type": "barpolar"
           }
          ],
          "carpet": [
           {
            "aaxis": {
             "endlinecolor": "#2a3f5f",
             "gridcolor": "white",
             "linecolor": "white",
             "minorgridcolor": "white",
             "startlinecolor": "#2a3f5f"
            },
            "baxis": {
             "endlinecolor": "#2a3f5f",
             "gridcolor": "white",
             "linecolor": "white",
             "minorgridcolor": "white",
             "startlinecolor": "#2a3f5f"
            },
            "type": "carpet"
           }
          ],
          "choropleth": [
           {
            "colorbar": {
             "outlinewidth": 0,
             "ticks": ""
            },
            "type": "choropleth"
           }
          ],
          "contour": [
           {
            "colorbar": {
             "outlinewidth": 0,
             "ticks": ""
            },
            "colorscale": [
             [
              0,
              "#0d0887"
             ],
             [
              0.1111111111111111,
              "#46039f"
             ],
             [
              0.2222222222222222,
              "#7201a8"
             ],
             [
              0.3333333333333333,
              "#9c179e"
             ],
             [
              0.4444444444444444,
              "#bd3786"
             ],
             [
              0.5555555555555556,
              "#d8576b"
             ],
             [
              0.6666666666666666,
              "#ed7953"
             ],
             [
              0.7777777777777778,
              "#fb9f3a"
             ],
             [
              0.8888888888888888,
              "#fdca26"
             ],
             [
              1,
              "#f0f921"
             ]
            ],
            "type": "contour"
           }
          ],
          "contourcarpet": [
           {
            "colorbar": {
             "outlinewidth": 0,
             "ticks": ""
            },
            "type": "contourcarpet"
           }
          ],
          "heatmap": [
           {
            "colorbar": {
             "outlinewidth": 0,
             "ticks": ""
            },
            "colorscale": [
             [
              0,
              "#0d0887"
             ],
             [
              0.1111111111111111,
              "#46039f"
             ],
             [
              0.2222222222222222,
              "#7201a8"
             ],
             [
              0.3333333333333333,
              "#9c179e"
             ],
             [
              0.4444444444444444,
              "#bd3786"
             ],
             [
              0.5555555555555556,
              "#d8576b"
             ],
             [
              0.6666666666666666,
              "#ed7953"
             ],
             [
              0.7777777777777778,
              "#fb9f3a"
             ],
             [
              0.8888888888888888,
              "#fdca26"
             ],
             [
              1,
              "#f0f921"
             ]
            ],
            "type": "heatmap"
           }
          ],
          "heatmapgl": [
           {
            "colorbar": {
             "outlinewidth": 0,
             "ticks": ""
            },
            "colorscale": [
             [
              0,
              "#0d0887"
             ],
             [
              0.1111111111111111,
              "#46039f"
             ],
             [
              0.2222222222222222,
              "#7201a8"
             ],
             [
              0.3333333333333333,
              "#9c179e"
             ],
             [
              0.4444444444444444,
              "#bd3786"
             ],
             [
              0.5555555555555556,
              "#d8576b"
             ],
             [
              0.6666666666666666,
              "#ed7953"
             ],
             [
              0.7777777777777778,
              "#fb9f3a"
             ],
             [
              0.8888888888888888,
              "#fdca26"
             ],
             [
              1,
              "#f0f921"
             ]
            ],
            "type": "heatmapgl"
           }
          ],
          "histogram": [
           {
            "marker": {
             "colorbar": {
              "outlinewidth": 0,
              "ticks": ""
             }
            },
            "type": "histogram"
           }
          ],
          "histogram2d": [
           {
            "colorbar": {
             "outlinewidth": 0,
             "ticks": ""
            },
            "colorscale": [
             [
              0,
              "#0d0887"
             ],
             [
              0.1111111111111111,
              "#46039f"
             ],
             [
              0.2222222222222222,
              "#7201a8"
             ],
             [
              0.3333333333333333,
              "#9c179e"
             ],
             [
              0.4444444444444444,
              "#bd3786"
             ],
             [
              0.5555555555555556,
              "#d8576b"
             ],
             [
              0.6666666666666666,
              "#ed7953"
             ],
             [
              0.7777777777777778,
              "#fb9f3a"
             ],
             [
              0.8888888888888888,
              "#fdca26"
             ],
             [
              1,
              "#f0f921"
             ]
            ],
            "type": "histogram2d"
           }
          ],
          "histogram2dcontour": [
           {
            "colorbar": {
             "outlinewidth": 0,
             "ticks": ""
            },
            "colorscale": [
             [
              0,
              "#0d0887"
             ],
             [
              0.1111111111111111,
              "#46039f"
             ],
             [
              0.2222222222222222,
              "#7201a8"
             ],
             [
              0.3333333333333333,
              "#9c179e"
             ],
             [
              0.4444444444444444,
              "#bd3786"
             ],
             [
              0.5555555555555556,
              "#d8576b"
             ],
             [
              0.6666666666666666,
              "#ed7953"
             ],
             [
              0.7777777777777778,
              "#fb9f3a"
             ],
             [
              0.8888888888888888,
              "#fdca26"
             ],
             [
              1,
              "#f0f921"
             ]
            ],
            "type": "histogram2dcontour"
           }
          ],
          "mesh3d": [
           {
            "colorbar": {
             "outlinewidth": 0,
             "ticks": ""
            },
            "type": "mesh3d"
           }
          ],
          "parcoords": [
           {
            "line": {
             "colorbar": {
              "outlinewidth": 0,
              "ticks": ""
             }
            },
            "type": "parcoords"
           }
          ],
          "scatter": [
           {
            "marker": {
             "colorbar": {
              "outlinewidth": 0,
              "ticks": ""
             }
            },
            "type": "scatter"
           }
          ],
          "scatter3d": [
           {
            "line": {
             "colorbar": {
              "outlinewidth": 0,
              "ticks": ""
             }
            },
            "marker": {
             "colorbar": {
              "outlinewidth": 0,
              "ticks": ""
             }
            },
            "type": "scatter3d"
           }
          ],
          "scattercarpet": [
           {
            "marker": {
             "colorbar": {
              "outlinewidth": 0,
              "ticks": ""
             }
            },
            "type": "scattercarpet"
           }
          ],
          "scattergeo": [
           {
            "marker": {
             "colorbar": {
              "outlinewidth": 0,
              "ticks": ""
             }
            },
            "type": "scattergeo"
           }
          ],
          "scattergl": [
           {
            "marker": {
             "colorbar": {
              "outlinewidth": 0,
              "ticks": ""
             }
            },
            "type": "scattergl"
           }
          ],
          "scattermapbox": [
           {
            "marker": {
             "colorbar": {
              "outlinewidth": 0,
              "ticks": ""
             }
            },
            "type": "scattermapbox"
           }
          ],
          "scatterpolar": [
           {
            "marker": {
             "colorbar": {
              "outlinewidth": 0,
              "ticks": ""
             }
            },
            "type": "scatterpolar"
           }
          ],
          "scatterpolargl": [
           {
            "marker": {
             "colorbar": {
              "outlinewidth": 0,
              "ticks": ""
             }
            },
            "type": "scatterpolargl"
           }
          ],
          "scatterternary": [
           {
            "marker": {
             "colorbar": {
              "outlinewidth": 0,
              "ticks": ""
             }
            },
            "type": "scatterternary"
           }
          ],
          "surface": [
           {
            "colorbar": {
             "outlinewidth": 0,
             "ticks": ""
            },
            "colorscale": [
             [
              0,
              "#0d0887"
             ],
             [
              0.1111111111111111,
              "#46039f"
             ],
             [
              0.2222222222222222,
              "#7201a8"
             ],
             [
              0.3333333333333333,
              "#9c179e"
             ],
             [
              0.4444444444444444,
              "#bd3786"
             ],
             [
              0.5555555555555556,
              "#d8576b"
             ],
             [
              0.6666666666666666,
              "#ed7953"
             ],
             [
              0.7777777777777778,
              "#fb9f3a"
             ],
             [
              0.8888888888888888,
              "#fdca26"
             ],
             [
              1,
              "#f0f921"
             ]
            ],
            "type": "surface"
           }
          ],
          "table": [
           {
            "cells": {
             "fill": {
              "color": "#EBF0F8"
             },
             "line": {
              "color": "white"
             }
            },
            "header": {
             "fill": {
              "color": "#C8D4E3"
             },
             "line": {
              "color": "white"
             }
            },
            "type": "table"
           }
          ]
         },
         "layout": {
          "annotationdefaults": {
           "arrowcolor": "#2a3f5f",
           "arrowhead": 0,
           "arrowwidth": 1
          },
          "colorscale": {
           "diverging": [
            [
             0,
             "#8e0152"
            ],
            [
             0.1,
             "#c51b7d"
            ],
            [
             0.2,
             "#de77ae"
            ],
            [
             0.3,
             "#f1b6da"
            ],
            [
             0.4,
             "#fde0ef"
            ],
            [
             0.5,
             "#f7f7f7"
            ],
            [
             0.6,
             "#e6f5d0"
            ],
            [
             0.7,
             "#b8e186"
            ],
            [
             0.8,
             "#7fbc41"
            ],
            [
             0.9,
             "#4d9221"
            ],
            [
             1,
             "#276419"
            ]
           ],
           "sequential": [
            [
             0,
             "#0d0887"
            ],
            [
             0.1111111111111111,
             "#46039f"
            ],
            [
             0.2222222222222222,
             "#7201a8"
            ],
            [
             0.3333333333333333,
             "#9c179e"
            ],
            [
             0.4444444444444444,
             "#bd3786"
            ],
            [
             0.5555555555555556,
             "#d8576b"
            ],
            [
             0.6666666666666666,
             "#ed7953"
            ],
            [
             0.7777777777777778,
             "#fb9f3a"
            ],
            [
             0.8888888888888888,
             "#fdca26"
            ],
            [
             1,
             "#f0f921"
            ]
           ],
           "sequentialminus": [
            [
             0,
             "#0d0887"
            ],
            [
             0.1111111111111111,
             "#46039f"
            ],
            [
             0.2222222222222222,
             "#7201a8"
            ],
            [
             0.3333333333333333,
             "#9c179e"
            ],
            [
             0.4444444444444444,
             "#bd3786"
            ],
            [
             0.5555555555555556,
             "#d8576b"
            ],
            [
             0.6666666666666666,
             "#ed7953"
            ],
            [
             0.7777777777777778,
             "#fb9f3a"
            ],
            [
             0.8888888888888888,
             "#fdca26"
            ],
            [
             1,
             "#f0f921"
            ]
           ]
          },
          "colorway": [
           "#636efa",
           "#EF553B",
           "#00cc96",
           "#ab63fa",
           "#FFA15A",
           "#19d3f3",
           "#FF6692",
           "#B6E880",
           "#FF97FF",
           "#FECB52"
          ],
          "font": {
           "color": "#2a3f5f"
          },
          "geo": {
           "bgcolor": "white",
           "lakecolor": "white",
           "landcolor": "#E5ECF6",
           "showlakes": true,
           "showland": true,
           "subunitcolor": "white"
          },
          "hoverlabel": {
           "align": "left"
          },
          "hovermode": "closest",
          "mapbox": {
           "style": "light"
          },
          "paper_bgcolor": "white",
          "plot_bgcolor": "#E5ECF6",
          "polar": {
           "angularaxis": {
            "gridcolor": "white",
            "linecolor": "white",
            "ticks": ""
           },
           "bgcolor": "#E5ECF6",
           "radialaxis": {
            "gridcolor": "white",
            "linecolor": "white",
            "ticks": ""
           }
          },
          "scene": {
           "xaxis": {
            "backgroundcolor": "#E5ECF6",
            "gridcolor": "white",
            "gridwidth": 2,
            "linecolor": "white",
            "showbackground": true,
            "ticks": "",
            "zerolinecolor": "white"
           },
           "yaxis": {
            "backgroundcolor": "#E5ECF6",
            "gridcolor": "white",
            "gridwidth": 2,
            "linecolor": "white",
            "showbackground": true,
            "ticks": "",
            "zerolinecolor": "white"
           },
           "zaxis": {
            "backgroundcolor": "#E5ECF6",
            "gridcolor": "white",
            "gridwidth": 2,
            "linecolor": "white",
            "showbackground": true,
            "ticks": "",
            "zerolinecolor": "white"
           }
          },
          "shapedefaults": {
           "line": {
            "color": "#2a3f5f"
           }
          },
          "ternary": {
           "aaxis": {
            "gridcolor": "white",
            "linecolor": "white",
            "ticks": ""
           },
           "baxis": {
            "gridcolor": "white",
            "linecolor": "white",
            "ticks": ""
           },
           "bgcolor": "#E5ECF6",
           "caxis": {
            "gridcolor": "white",
            "linecolor": "white",
            "ticks": ""
           }
          },
          "title": {
           "x": 0.05
          },
          "xaxis": {
           "automargin": true,
           "gridcolor": "white",
           "linecolor": "white",
           "ticks": "",
           "zerolinecolor": "white",
           "zerolinewidth": 2
          },
          "yaxis": {
           "automargin": true,
           "gridcolor": "white",
           "linecolor": "white",
           "ticks": "",
           "zerolinecolor": "white",
           "zerolinewidth": 2
          }
         }
        }
       }
      },
      "text/html": [
       "<div>\n",
       "        \n",
       "        \n",
       "            <div id=\"a68c8a62-b8b9-4d9c-9cab-a42db1b256bb\" class=\"plotly-graph-div\" style=\"height:525px; width:100%;\"></div>\n",
       "            <script type=\"text/javascript\">\n",
       "                require([\"plotly\"], function(Plotly) {\n",
       "                    window.PLOTLYENV=window.PLOTLYENV || {};\n",
       "                    \n",
       "                if (document.getElementById(\"a68c8a62-b8b9-4d9c-9cab-a42db1b256bb\")) {\n",
       "                    Plotly.newPlot(\n",
       "                        'a68c8a62-b8b9-4d9c-9cab-a42db1b256bb',\n",
       "                        [{\"mode\": \"markers\", \"name\": \"predict\", \"type\": \"scatter\", \"x\": [208.6, 208.5, 206.8, 204.7, 200.6, 197.6, 204.2, 213.2, 215.5, 211.7, 216.0, 203.3, 214.1, 233.2, 205.6, 207.7, 201.3, 199.8, 219.9, 207.3, 200.4, 204.1, 200.4, 220.3, 216.5, 198.0, 230.9, 202.0, 202.9, 200.5, 196.9, 212.7, 200.2, 214.9, 211.8, 210.0, 220.1, 218.7, 205.5, 206.2, 197.5, 206.2, 206.8, 209.8, 203.7, 212.3, 203.7, 220.4, 207.6, 203.7, 214.3, 219.3, 213.0, 208.8, 210.4, 234.0, 211.4, 231.5, 210.2, 186.9, 218.4, 207.5, 197.0, 187.8, 213.8, 216.1, 214.3, 210.2, 211.3, 211.3, 186.0, 202.7, 213.8, 207.3, 205.4, 204.0, 209.2, 216.6, 208.1, 197.1, 197.8, 201.7, 172.2, 219.4, 183.8, 178.9, 186.9, 185.2, 191.4, 208.2, 207.2, 194.5, 200.5, 189.7, 190.4, 179.1, 188.1, 188.6, 186.1, 188.7, 187.2, 179.0, 201.5, 201.3, 182.1, 189.9, 189.2, 202.1, 192.9, 183.4, 185.9, 184.7, 191.7, 181.2, 212.4, 168.1, 182.8, 190.8, 180.4, 207.4, 192.1, 189.7, 182.1, 184.9, 184.7, 185.2, 187.0, 187.8, 187.4, 191.9, 188.7, 202.7, 189.5, 189.1, 187.3, 203.3, 189.1, 183.4, 172.5, 201.3, 178.2, 182.3, 191.4, 179.8, 189.8, 184.7, 181.4, 200.7, 190.1, 200.9, 188.1, 186.7, 181.1, 183.0, 188.0], \"y\": [1733.5359540444135, 1732.9213527223435, 1722.473130247152, 1709.56650248368, 1684.3678482788064, 1665.9298086167037, 1706.4934958733295, 1761.8076148596379, 1775.94344526725, 1752.5885950285865, 1779.0164518776005, 1700.9620839746988, 1767.3390267582686, 1884.727879273656, 1715.0979143823108, 1728.0045421457828, 1688.670057533297, 1679.4510377022457, 1802.985903438334, 1725.5461368575025, 1683.138645634666, 1705.8788945512595, 1683.138645634666, 1805.4443087266145, 1782.0894584879509, 1668.388213904984, 1870.592048866044, 1692.9722667877877, 1698.5036786864184, 1683.7532469567363, 1661.627599362213, 1758.7346082492872, 1681.9094429905258, 1772.2558373348295, 1753.2031963506565, 1742.1403725533949, 1804.2151060824742, 1795.610687573493, 1714.4833130602408, 1718.7855223147315, 1665.3152072946334, 1718.7855223147315, 1722.473130247152, 1740.9111699092548, 1703.4204892629791, 1756.2762029610071, 1703.4204892629791, 1806.0589100486845, 1727.3899408237128, 1703.4204892629791, 1768.5682294024089, 1799.2982955059135, 1760.5784122154976, 1734.7651566885538, 1744.5987778416754, 1889.6446898502168, 1750.7447910623762, 1874.2796567984647, 1743.3695751975351, 1600.167467155204, 1793.7668836072826, 1726.7753395016427, 1662.242200684283, 1605.6988790538346, 1765.4952227920585, 1779.6310531996705, 1768.5682294024089, 1743.3695751975351, 1750.1301897403062, 1750.1301897403062, 1594.636055256573, 1697.2744760422781, 1765.4952227920585, 1725.5461368575025, 1713.8687117381708, 1705.2642932291894, 1737.2235619768342, 1782.704059810021, 1730.4629474340632, 1662.856802006353, 1667.159011260844, 1691.1284628215772, 1509.8210728109004, 1799.9128968279836, 1581.1148261710312, 1550.9993613895965, 1600.167467155204, 1589.7192446800123, 1627.824526648358, 1731.0775487561332, 1724.9315355354322, 1646.8771676325307, 1683.7532469567363, 1617.3763041731663, 1621.678513427657, 1552.2285640337366, 1607.542683020045, 1610.6156896303953, 1595.250656578643, 1611.2302909524653, 1602.011271121414, 1551.6139627116665, 1689.899260177437, 1688.670057533297, 1570.6666036958395, 1618.6055068173066, 1614.303297562816, 1693.5868681098577, 1637.0435464794093, 1578.6564208827506, 1594.021453934503, 1586.6462380696616, 1629.668330614568, 1565.1351917972086, 1756.8908042830772, 1484.6224186060267, 1574.9688129503302, 1624.1369187159376, 1560.2183812206479, 1726.1607381795725, 1632.1267359028486, 1617.3763041731663, 1570.6666036958395, 1587.875440713802, 1586.6462380696616, 1589.7192446800123, 1600.782068477274, 1605.6988790538346, 1603.2404737655543, 1630.8975332587083, 1611.2302909524653, 1697.2744760422781, 1616.1471015290263, 1613.6886962407457, 1602.6258724434842, 1700.9620839746988, 1613.6886962407457, 1578.6564208827506, 1511.6648767771107, 1688.670057533297, 1546.6971521351059, 1571.8958063399798, 1627.824526648358, 1556.5307732882275, 1617.9909054952366, 1586.6462380696616, 1566.3643944413488, 1684.9824496008764, 1619.8347094614467, 1686.2116522450167, 1607.542683020045, 1598.9382645110636, 1564.5205904751385, 1576.1980155944702, 1606.928081697975]}],\n",
       "                        {\"template\": {\"data\": {\"bar\": [{\"error_x\": {\"color\": \"#2a3f5f\"}, \"error_y\": {\"color\": \"#2a3f5f\"}, \"marker\": {\"line\": {\"color\": \"#E5ECF6\", \"width\": 0.5}}, \"type\": \"bar\"}], \"barpolar\": [{\"marker\": {\"line\": {\"color\": \"#E5ECF6\", \"width\": 0.5}}, \"type\": \"barpolar\"}], \"carpet\": [{\"aaxis\": {\"endlinecolor\": \"#2a3f5f\", \"gridcolor\": \"white\", \"linecolor\": \"white\", \"minorgridcolor\": \"white\", \"startlinecolor\": \"#2a3f5f\"}, \"baxis\": {\"endlinecolor\": \"#2a3f5f\", \"gridcolor\": \"white\", \"linecolor\": \"white\", \"minorgridcolor\": \"white\", \"startlinecolor\": \"#2a3f5f\"}, \"type\": \"carpet\"}], \"choropleth\": [{\"colorbar\": {\"outlinewidth\": 0, \"ticks\": \"\"}, \"type\": \"choropleth\"}], \"contour\": [{\"colorbar\": {\"outlinewidth\": 0, \"ticks\": \"\"}, \"colorscale\": [[0.0, \"#0d0887\"], [0.1111111111111111, \"#46039f\"], [0.2222222222222222, \"#7201a8\"], [0.3333333333333333, \"#9c179e\"], [0.4444444444444444, \"#bd3786\"], [0.5555555555555556, \"#d8576b\"], [0.6666666666666666, \"#ed7953\"], [0.7777777777777778, \"#fb9f3a\"], [0.8888888888888888, \"#fdca26\"], [1.0, \"#f0f921\"]], \"type\": \"contour\"}], \"contourcarpet\": [{\"colorbar\": {\"outlinewidth\": 0, \"ticks\": \"\"}, \"type\": \"contourcarpet\"}], \"heatmap\": [{\"colorbar\": {\"outlinewidth\": 0, \"ticks\": \"\"}, \"colorscale\": [[0.0, \"#0d0887\"], [0.1111111111111111, \"#46039f\"], [0.2222222222222222, \"#7201a8\"], [0.3333333333333333, \"#9c179e\"], [0.4444444444444444, \"#bd3786\"], [0.5555555555555556, \"#d8576b\"], [0.6666666666666666, \"#ed7953\"], [0.7777777777777778, \"#fb9f3a\"], [0.8888888888888888, \"#fdca26\"], [1.0, \"#f0f921\"]], \"type\": \"heatmap\"}], \"heatmapgl\": [{\"colorbar\": {\"outlinewidth\": 0, \"ticks\": \"\"}, \"colorscale\": [[0.0, \"#0d0887\"], [0.1111111111111111, \"#46039f\"], [0.2222222222222222, \"#7201a8\"], [0.3333333333333333, \"#9c179e\"], [0.4444444444444444, \"#bd3786\"], [0.5555555555555556, \"#d8576b\"], [0.6666666666666666, \"#ed7953\"], [0.7777777777777778, \"#fb9f3a\"], [0.8888888888888888, \"#fdca26\"], [1.0, \"#f0f921\"]], \"type\": \"heatmapgl\"}], \"histogram\": [{\"marker\": {\"colorbar\": {\"outlinewidth\": 0, \"ticks\": \"\"}}, \"type\": \"histogram\"}], \"histogram2d\": [{\"colorbar\": {\"outlinewidth\": 0, \"ticks\": \"\"}, \"colorscale\": [[0.0, \"#0d0887\"], [0.1111111111111111, \"#46039f\"], [0.2222222222222222, \"#7201a8\"], [0.3333333333333333, \"#9c179e\"], [0.4444444444444444, \"#bd3786\"], [0.5555555555555556, \"#d8576b\"], [0.6666666666666666, \"#ed7953\"], [0.7777777777777778, \"#fb9f3a\"], [0.8888888888888888, \"#fdca26\"], [1.0, \"#f0f921\"]], \"type\": \"histogram2d\"}], \"histogram2dcontour\": [{\"colorbar\": {\"outlinewidth\": 0, \"ticks\": \"\"}, \"colorscale\": [[0.0, \"#0d0887\"], [0.1111111111111111, \"#46039f\"], [0.2222222222222222, \"#7201a8\"], [0.3333333333333333, \"#9c179e\"], [0.4444444444444444, \"#bd3786\"], [0.5555555555555556, \"#d8576b\"], [0.6666666666666666, \"#ed7953\"], [0.7777777777777778, \"#fb9f3a\"], [0.8888888888888888, \"#fdca26\"], [1.0, \"#f0f921\"]], \"type\": \"histogram2dcontour\"}], \"mesh3d\": [{\"colorbar\": {\"outlinewidth\": 0, \"ticks\": \"\"}, \"type\": \"mesh3d\"}], \"parcoords\": [{\"line\": {\"colorbar\": {\"outlinewidth\": 0, \"ticks\": \"\"}}, \"type\": \"parcoords\"}], \"scatter\": [{\"marker\": {\"colorbar\": {\"outlinewidth\": 0, \"ticks\": \"\"}}, \"type\": \"scatter\"}], \"scatter3d\": [{\"line\": {\"colorbar\": {\"outlinewidth\": 0, \"ticks\": \"\"}}, \"marker\": {\"colorbar\": {\"outlinewidth\": 0, \"ticks\": \"\"}}, \"type\": \"scatter3d\"}], \"scattercarpet\": [{\"marker\": {\"colorbar\": {\"outlinewidth\": 0, \"ticks\": \"\"}}, \"type\": \"scattercarpet\"}], \"scattergeo\": [{\"marker\": {\"colorbar\": {\"outlinewidth\": 0, \"ticks\": \"\"}}, \"type\": \"scattergeo\"}], \"scattergl\": [{\"marker\": {\"colorbar\": {\"outlinewidth\": 0, \"ticks\": \"\"}}, \"type\": \"scattergl\"}], \"scattermapbox\": [{\"marker\": {\"colorbar\": {\"outlinewidth\": 0, \"ticks\": \"\"}}, \"type\": \"scattermapbox\"}], \"scatterpolar\": [{\"marker\": {\"colorbar\": {\"outlinewidth\": 0, \"ticks\": \"\"}}, \"type\": \"scatterpolar\"}], \"scatterpolargl\": [{\"marker\": {\"colorbar\": {\"outlinewidth\": 0, \"ticks\": \"\"}}, \"type\": \"scatterpolargl\"}], \"scatterternary\": [{\"marker\": {\"colorbar\": {\"outlinewidth\": 0, \"ticks\": \"\"}}, \"type\": \"scatterternary\"}], \"surface\": [{\"colorbar\": {\"outlinewidth\": 0, \"ticks\": \"\"}, \"colorscale\": [[0.0, \"#0d0887\"], [0.1111111111111111, \"#46039f\"], [0.2222222222222222, \"#7201a8\"], [0.3333333333333333, \"#9c179e\"], [0.4444444444444444, \"#bd3786\"], [0.5555555555555556, \"#d8576b\"], [0.6666666666666666, \"#ed7953\"], [0.7777777777777778, \"#fb9f3a\"], [0.8888888888888888, \"#fdca26\"], [1.0, \"#f0f921\"]], \"type\": \"surface\"}], \"table\": [{\"cells\": {\"fill\": {\"color\": \"#EBF0F8\"}, \"line\": {\"color\": \"white\"}}, \"header\": {\"fill\": {\"color\": \"#C8D4E3\"}, \"line\": {\"color\": \"white\"}}, \"type\": \"table\"}]}, \"layout\": {\"annotationdefaults\": {\"arrowcolor\": \"#2a3f5f\", \"arrowhead\": 0, \"arrowwidth\": 1}, \"colorscale\": {\"diverging\": [[0, \"#8e0152\"], [0.1, \"#c51b7d\"], [0.2, \"#de77ae\"], [0.3, \"#f1b6da\"], [0.4, \"#fde0ef\"], [0.5, \"#f7f7f7\"], [0.6, \"#e6f5d0\"], [0.7, \"#b8e186\"], [0.8, \"#7fbc41\"], [0.9, \"#4d9221\"], [1, \"#276419\"]], \"sequential\": [[0.0, \"#0d0887\"], [0.1111111111111111, \"#46039f\"], [0.2222222222222222, \"#7201a8\"], [0.3333333333333333, \"#9c179e\"], [0.4444444444444444, \"#bd3786\"], [0.5555555555555556, \"#d8576b\"], [0.6666666666666666, \"#ed7953\"], [0.7777777777777778, \"#fb9f3a\"], [0.8888888888888888, \"#fdca26\"], [1.0, \"#f0f921\"]], \"sequentialminus\": [[0.0, \"#0d0887\"], [0.1111111111111111, \"#46039f\"], [0.2222222222222222, \"#7201a8\"], [0.3333333333333333, \"#9c179e\"], [0.4444444444444444, \"#bd3786\"], [0.5555555555555556, \"#d8576b\"], [0.6666666666666666, \"#ed7953\"], [0.7777777777777778, \"#fb9f3a\"], [0.8888888888888888, \"#fdca26\"], [1.0, \"#f0f921\"]]}, \"colorway\": [\"#636efa\", \"#EF553B\", \"#00cc96\", \"#ab63fa\", \"#FFA15A\", \"#19d3f3\", \"#FF6692\", \"#B6E880\", \"#FF97FF\", \"#FECB52\"], \"font\": {\"color\": \"#2a3f5f\"}, \"geo\": {\"bgcolor\": \"white\", \"lakecolor\": \"white\", \"landcolor\": \"#E5ECF6\", \"showlakes\": true, \"showland\": true, \"subunitcolor\": \"white\"}, \"hoverlabel\": {\"align\": \"left\"}, \"hovermode\": \"closest\", \"mapbox\": {\"style\": \"light\"}, \"paper_bgcolor\": \"white\", \"plot_bgcolor\": \"#E5ECF6\", \"polar\": {\"angularaxis\": {\"gridcolor\": \"white\", \"linecolor\": \"white\", \"ticks\": \"\"}, \"bgcolor\": \"#E5ECF6\", \"radialaxis\": {\"gridcolor\": \"white\", \"linecolor\": \"white\", \"ticks\": \"\"}}, \"scene\": {\"xaxis\": {\"backgroundcolor\": \"#E5ECF6\", \"gridcolor\": \"white\", \"gridwidth\": 2, \"linecolor\": \"white\", \"showbackground\": true, \"ticks\": \"\", \"zerolinecolor\": \"white\"}, \"yaxis\": {\"backgroundcolor\": \"#E5ECF6\", \"gridcolor\": \"white\", \"gridwidth\": 2, \"linecolor\": \"white\", \"showbackground\": true, \"ticks\": \"\", \"zerolinecolor\": \"white\"}, \"zaxis\": {\"backgroundcolor\": \"#E5ECF6\", \"gridcolor\": \"white\", \"gridwidth\": 2, \"linecolor\": \"white\", \"showbackground\": true, \"ticks\": \"\", \"zerolinecolor\": \"white\"}}, \"shapedefaults\": {\"line\": {\"color\": \"#2a3f5f\"}}, \"ternary\": {\"aaxis\": {\"gridcolor\": \"white\", \"linecolor\": \"white\", \"ticks\": \"\"}, \"baxis\": {\"gridcolor\": \"white\", \"linecolor\": \"white\", \"ticks\": \"\"}, \"bgcolor\": \"#E5ECF6\", \"caxis\": {\"gridcolor\": \"white\", \"linecolor\": \"white\", \"ticks\": \"\"}}, \"title\": {\"x\": 0.05}, \"xaxis\": {\"automargin\": true, \"gridcolor\": \"white\", \"linecolor\": \"white\", \"ticks\": \"\", \"zerolinecolor\": \"white\", \"zerolinewidth\": 2}, \"yaxis\": {\"automargin\": true, \"gridcolor\": \"white\", \"linecolor\": \"white\", \"ticks\": \"\", \"zerolinecolor\": \"white\", \"zerolinewidth\": 2}}}},\n",
       "                        {\"responsive\": true}\n",
       "                    ).then(function(){\n",
       "                            \n",
       "var gd = document.getElementById('a68c8a62-b8b9-4d9c-9cab-a42db1b256bb');\n",
       "var x = new MutationObserver(function (mutations, observer) {{\n",
       "        var display = window.getComputedStyle(gd).display;\n",
       "        if (!display || display === 'none') {{\n",
       "            console.log([gd, 'removed!']);\n",
       "            Plotly.purge(gd);\n",
       "            observer.disconnect();\n",
       "        }}\n",
       "}});\n",
       "\n",
       "// Listen for the removal of the full notebook cells\n",
       "var notebookContainer = gd.closest('#notebook-container');\n",
       "if (notebookContainer) {{\n",
       "    x.observe(notebookContainer, {childList: true});\n",
       "}}\n",
       "\n",
       "// Listen for the clearing of the current output cell\n",
       "var outputEl = gd.closest('.output');\n",
       "if (outputEl) {{\n",
       "    x.observe(outputEl, {childList: true});\n",
       "}}\n",
       "\n",
       "                        })\n",
       "                };\n",
       "                });\n",
       "            </script>\n",
       "        </div>"
      ]
     },
     "metadata": {},
     "output_type": "display_data"
    },
    {
     "name": "stdout",
     "output_type": "stream",
     "text": [
      "i valori della retta calcolati dal metodo predict sono : \n",
      "\n",
      "[1733.53595404 1732.92135272 1722.47313025 1709.56650248 1684.36784828\n",
      " 1665.92980862 1706.49349587 1761.80761486 1775.94344527 1752.58859503\n",
      " 1779.01645188 1700.96208397 1767.33902676 1884.72787927 1715.09791438\n",
      " 1728.00454215 1688.67005753 1679.4510377  1802.98590344 1725.54613686\n",
      " 1683.13864563 1705.87889455 1683.13864563 1805.44430873 1782.08945849\n",
      " 1668.3882139  1870.59204887 1692.97226679 1698.50367869 1683.75324696\n",
      " 1661.62759936 1758.73460825 1681.90944299 1772.25583733 1753.20319635\n",
      " 1742.14037255 1804.21510608 1795.61068757 1714.48331306 1718.78552231\n",
      " 1665.31520729 1718.78552231 1722.47313025 1740.91116991 1703.42048926\n",
      " 1756.27620296 1703.42048926 1806.05891005 1727.38994082 1703.42048926\n",
      " 1768.5682294  1799.29829551 1760.57841222 1734.76515669 1744.59877784\n",
      " 1889.64468985 1750.74479106 1874.2796568  1743.3695752  1600.16746716\n",
      " 1793.76688361 1726.7753395  1662.24220068 1605.69887905 1765.49522279\n",
      " 1779.6310532  1768.5682294  1743.3695752  1750.13018974 1750.13018974\n",
      " 1594.63605526 1697.27447604 1765.49522279 1725.54613686 1713.86871174\n",
      " 1705.26429323 1737.22356198 1782.70405981 1730.46294743 1662.85680201\n",
      " 1667.15901126 1691.12846282 1509.82107281 1799.91289683 1581.11482617\n",
      " 1550.99936139 1600.16746716 1589.71924468 1627.82452665 1731.07754876\n",
      " 1724.93153554 1646.87716763 1683.75324696 1617.37630417 1621.67851343\n",
      " 1552.22856403 1607.54268302 1610.61568963 1595.25065658 1611.23029095\n",
      " 1602.01127112 1551.61396271 1689.89926018 1688.67005753 1570.6666037\n",
      " 1618.60550682 1614.30329756 1693.58686811 1637.04354648 1578.65642088\n",
      " 1594.02145393 1586.64623807 1629.66833061 1565.1351918  1756.89080428\n",
      " 1484.62241861 1574.96881295 1624.13691872 1560.21838122 1726.16073818\n",
      " 1632.1267359  1617.37630417 1570.6666037  1587.87544071 1586.64623807\n",
      " 1589.71924468 1600.78206848 1605.69887905 1603.24047377 1630.89753326\n",
      " 1611.23029095 1697.27447604 1616.14710153 1613.68869624 1602.62587244\n",
      " 1700.96208397 1613.68869624 1578.65642088 1511.66487678 1688.67005753\n",
      " 1546.69715214 1571.89580634 1627.82452665 1556.53077329 1617.9909055\n",
      " 1586.64623807 1566.36439444 1684.9824496  1619.83470946 1686.21165225\n",
      " 1607.54268302 1598.93826451 1564.52059048 1576.19801559 1606.9280817 ]\n",
      "\n",
      "\n",
      "\n",
      "\n",
      "\n",
      "\n",
      "\n",
      "\n",
      "\n",
      "\n",
      "Calcolo l'SSE :\n",
      "SSE= 320977773.54354876\n"
     ]
    }
   ],
   "source": [
    "# Punto 4\n",
    "\n",
    "#Usate il metodo predict per calcolate il valore della funzione y = x*w+b per ogni valore di x. Calcolate il SSE\n",
    "py.init_notebook_mode(connected=True)\n",
    "y_pre=linRegr.predict(x)\n",
    "\n",
    "data=[\n",
    "   #go.Scatter(x=x[:,0],y=y_retta,mode=\"markers\",name=\"retta \"),\n",
    "    go.Scatter(x=x[:,0],y=y_pre,mode=\"markers\",name=\"predict\")\n",
    "]\n",
    "layout = go.Layout()\n",
    "fig = go.Figure(data, layout)\n",
    "py.iplot(fig)\n",
    "\n",
    "print(\"i valori della retta calcolati dal metodo predict sono : \\n\")\n",
    "\n",
    "print(y_pre)\n",
    "\n",
    "print(\"\\n\\n\\n\\n\\n\\n\\n\\n\\n\")\n",
    "\n",
    "print(\"Calcolo l'SSE :\")\n",
    "\n",
    "SSE=0.0\n",
    "SSE=(y_pre-(w*x+b))**2\n",
    "somma=np.sum(SSE)\n",
    "SSE=0.0\n",
    "print(f\"SSE= {somma}\")"
   ]
  },
  {
   "cell_type": "markdown",
   "metadata": {},
   "source": [
    "## Esercizio 2\n",
    "Si consideri il dataset *kc_house_data.csv* disponibile su ``iCorsi``, che contiene informazioni sugli appartamenti venduti da Maggio 2014 a Maggio 2015 nella [King County](https://en.wikipedia.org/wiki/King_County,_Washington). Tra le informazioni disponibili sono presenti prezzo di vendita, caratteristiche dell'abitazione (es., dimensione dell'abitazione, numero di camere da letto, rapporto tra numero di bagni e camere da letto, etc.). Informazioni sul dataset si possono trovare [QUI](https://www.kaggle.com/harlfoxem/housesalesprediction).\n",
    "\n",
    "L'obbiettivo di questo esercizio è costruire un modello di regressione lineare (sia semplice che multipla) che spieghi la relazione tra le variabili indipendenti (caratteristiche dell'abitazione) e la variabile target (prezzo di vendita).\n",
    "\n",
    "Eseguite la cella per caricare il dataset (caricheremo solo l'1% dell'intero dataset). Tramite il comando ``train_test_split``, dividiamo in maniera randomica il dataset appena caricato in 2 datasets disgiunti, che chiameremo ``dfTrain`` e ``dfTest`` e che costituiranno, rispettivamente, il set di training (usato per costruire il modello di regressione lineare), e il set di test (usato per valutare le performance del modello di regressione costruito). La dimensione del set di training e del set di test sono il 70% e 30% del dataset.\n",
    "\n",
    "Visualizzate i dataset caricati, guardate quali sono i nomi degli attributi e capite cosa rappresentano, aiutandovi con la descrizione disponibile online al seguente [link](https://www.kaggle.com/harlfoxem/housesalesprediction)."
   ]
  },
  {
   "cell_type": "code",
   "execution_count": 25,
   "metadata": {},
   "outputs": [
    {
     "name": "stdout",
     "output_type": "stream",
     "text": [
      "Training dataset:\n"
     ]
    },
    {
     "data": {
      "text/html": [
       "<div>\n",
       "<style scoped>\n",
       "    .dataframe tbody tr th:only-of-type {\n",
       "        vertical-align: middle;\n",
       "    }\n",
       "\n",
       "    .dataframe tbody tr th {\n",
       "        vertical-align: top;\n",
       "    }\n",
       "\n",
       "    .dataframe thead th {\n",
       "        text-align: right;\n",
       "    }\n",
       "</style>\n",
       "<table border=\"1\" class=\"dataframe\">\n",
       "  <thead>\n",
       "    <tr style=\"text-align: right;\">\n",
       "      <th></th>\n",
       "      <th>id</th>\n",
       "      <th>date</th>\n",
       "      <th>price</th>\n",
       "      <th>bedrooms</th>\n",
       "      <th>bathrooms</th>\n",
       "      <th>sqft_living</th>\n",
       "      <th>sqft_lot</th>\n",
       "      <th>floors</th>\n",
       "      <th>waterfront</th>\n",
       "      <th>view</th>\n",
       "      <th>...</th>\n",
       "      <th>grade</th>\n",
       "      <th>sqft_above</th>\n",
       "      <th>sqft_basement</th>\n",
       "      <th>yr_built</th>\n",
       "      <th>yr_renovated</th>\n",
       "      <th>zipcode</th>\n",
       "      <th>lat</th>\n",
       "      <th>long</th>\n",
       "      <th>sqft_living15</th>\n",
       "      <th>sqft_lot15</th>\n",
       "    </tr>\n",
       "  </thead>\n",
       "  <tbody>\n",
       "    <tr>\n",
       "      <th>12838</th>\n",
       "      <td>3296000040</td>\n",
       "      <td>20140923T000000</td>\n",
       "      <td>542000.0</td>\n",
       "      <td>3</td>\n",
       "      <td>2.50</td>\n",
       "      <td>1990</td>\n",
       "      <td>15985</td>\n",
       "      <td>1.0</td>\n",
       "      <td>0</td>\n",
       "      <td>0</td>\n",
       "      <td>...</td>\n",
       "      <td>8</td>\n",
       "      <td>1540</td>\n",
       "      <td>450</td>\n",
       "      <td>1964</td>\n",
       "      <td>0</td>\n",
       "      <td>98007</td>\n",
       "      <td>47.6205</td>\n",
       "      <td>-122.141</td>\n",
       "      <td>2470</td>\n",
       "      <td>10125</td>\n",
       "    </tr>\n",
       "    <tr>\n",
       "      <th>12618</th>\n",
       "      <td>6617500085</td>\n",
       "      <td>20150422T000000</td>\n",
       "      <td>500000.0</td>\n",
       "      <td>4</td>\n",
       "      <td>2.50</td>\n",
       "      <td>2900</td>\n",
       "      <td>5760</td>\n",
       "      <td>1.0</td>\n",
       "      <td>0</td>\n",
       "      <td>0</td>\n",
       "      <td>...</td>\n",
       "      <td>8</td>\n",
       "      <td>1660</td>\n",
       "      <td>1240</td>\n",
       "      <td>1959</td>\n",
       "      <td>0</td>\n",
       "      <td>98118</td>\n",
       "      <td>47.5500</td>\n",
       "      <td>-122.272</td>\n",
       "      <td>2250</td>\n",
       "      <td>6098</td>\n",
       "    </tr>\n",
       "    <tr>\n",
       "      <th>4296</th>\n",
       "      <td>7116500705</td>\n",
       "      <td>20150129T000000</td>\n",
       "      <td>156000.0</td>\n",
       "      <td>2</td>\n",
       "      <td>1.00</td>\n",
       "      <td>920</td>\n",
       "      <td>5889</td>\n",
       "      <td>1.0</td>\n",
       "      <td>0</td>\n",
       "      <td>0</td>\n",
       "      <td>...</td>\n",
       "      <td>6</td>\n",
       "      <td>920</td>\n",
       "      <td>0</td>\n",
       "      <td>1950</td>\n",
       "      <td>0</td>\n",
       "      <td>98002</td>\n",
       "      <td>47.3012</td>\n",
       "      <td>-122.218</td>\n",
       "      <td>1210</td>\n",
       "      <td>6180</td>\n",
       "    </tr>\n",
       "    <tr>\n",
       "      <th>9414</th>\n",
       "      <td>5700003630</td>\n",
       "      <td>20140630T000000</td>\n",
       "      <td>1925000.0</td>\n",
       "      <td>5</td>\n",
       "      <td>4.25</td>\n",
       "      <td>4830</td>\n",
       "      <td>8050</td>\n",
       "      <td>2.5</td>\n",
       "      <td>0</td>\n",
       "      <td>2</td>\n",
       "      <td>...</td>\n",
       "      <td>11</td>\n",
       "      <td>3710</td>\n",
       "      <td>1120</td>\n",
       "      <td>1914</td>\n",
       "      <td>0</td>\n",
       "      <td>98144</td>\n",
       "      <td>47.5789</td>\n",
       "      <td>-122.286</td>\n",
       "      <td>4470</td>\n",
       "      <td>9194</td>\n",
       "    </tr>\n",
       "    <tr>\n",
       "      <th>6914</th>\n",
       "      <td>6821600005</td>\n",
       "      <td>20150403T000000</td>\n",
       "      <td>710000.0</td>\n",
       "      <td>4</td>\n",
       "      <td>1.75</td>\n",
       "      <td>2120</td>\n",
       "      <td>5400</td>\n",
       "      <td>1.0</td>\n",
       "      <td>0</td>\n",
       "      <td>0</td>\n",
       "      <td>...</td>\n",
       "      <td>8</td>\n",
       "      <td>1060</td>\n",
       "      <td>1060</td>\n",
       "      <td>1941</td>\n",
       "      <td>0</td>\n",
       "      <td>98199</td>\n",
       "      <td>47.6501</td>\n",
       "      <td>-122.395</td>\n",
       "      <td>2052</td>\n",
       "      <td>6000</td>\n",
       "    </tr>\n",
       "    <tr>\n",
       "      <th>14298</th>\n",
       "      <td>923000120</td>\n",
       "      <td>20150408T000000</td>\n",
       "      <td>515000.0</td>\n",
       "      <td>3</td>\n",
       "      <td>1.50</td>\n",
       "      <td>2200</td>\n",
       "      <td>7620</td>\n",
       "      <td>1.0</td>\n",
       "      <td>0</td>\n",
       "      <td>0</td>\n",
       "      <td>...</td>\n",
       "      <td>7</td>\n",
       "      <td>1130</td>\n",
       "      <td>1070</td>\n",
       "      <td>1942</td>\n",
       "      <td>0</td>\n",
       "      <td>98177</td>\n",
       "      <td>47.7263</td>\n",
       "      <td>-122.363</td>\n",
       "      <td>2170</td>\n",
       "      <td>7672</td>\n",
       "    </tr>\n",
       "    <tr>\n",
       "      <th>15468</th>\n",
       "      <td>4202400078</td>\n",
       "      <td>20150128T000000</td>\n",
       "      <td>175000.0</td>\n",
       "      <td>2</td>\n",
       "      <td>1.00</td>\n",
       "      <td>1410</td>\n",
       "      <td>7000</td>\n",
       "      <td>1.0</td>\n",
       "      <td>0</td>\n",
       "      <td>0</td>\n",
       "      <td>...</td>\n",
       "      <td>7</td>\n",
       "      <td>1410</td>\n",
       "      <td>0</td>\n",
       "      <td>1968</td>\n",
       "      <td>0</td>\n",
       "      <td>98055</td>\n",
       "      <td>47.4908</td>\n",
       "      <td>-122.223</td>\n",
       "      <td>1540</td>\n",
       "      <td>6000</td>\n",
       "    </tr>\n",
       "    <tr>\n",
       "      <th>14585</th>\n",
       "      <td>6672900220</td>\n",
       "      <td>20150112T000000</td>\n",
       "      <td>984000.0</td>\n",
       "      <td>4</td>\n",
       "      <td>2.25</td>\n",
       "      <td>2390</td>\n",
       "      <td>12292</td>\n",
       "      <td>1.0</td>\n",
       "      <td>0</td>\n",
       "      <td>0</td>\n",
       "      <td>...</td>\n",
       "      <td>9</td>\n",
       "      <td>2390</td>\n",
       "      <td>0</td>\n",
       "      <td>1962</td>\n",
       "      <td>0</td>\n",
       "      <td>98040</td>\n",
       "      <td>47.5528</td>\n",
       "      <td>-122.221</td>\n",
       "      <td>2870</td>\n",
       "      <td>12337</td>\n",
       "    </tr>\n",
       "    <tr>\n",
       "      <th>16118</th>\n",
       "      <td>9432900250</td>\n",
       "      <td>20150309T000000</td>\n",
       "      <td>329990.0</td>\n",
       "      <td>4</td>\n",
       "      <td>2.75</td>\n",
       "      <td>2420</td>\n",
       "      <td>8438</td>\n",
       "      <td>2.0</td>\n",
       "      <td>0</td>\n",
       "      <td>0</td>\n",
       "      <td>...</td>\n",
       "      <td>8</td>\n",
       "      <td>2420</td>\n",
       "      <td>0</td>\n",
       "      <td>1997</td>\n",
       "      <td>0</td>\n",
       "      <td>98022</td>\n",
       "      <td>47.2089</td>\n",
       "      <td>-122.011</td>\n",
       "      <td>2270</td>\n",
       "      <td>8770</td>\n",
       "    </tr>\n",
       "    <tr>\n",
       "      <th>20145</th>\n",
       "      <td>9264450460</td>\n",
       "      <td>20140603T000000</td>\n",
       "      <td>309000.0</td>\n",
       "      <td>5</td>\n",
       "      <td>2.75</td>\n",
       "      <td>2481</td>\n",
       "      <td>4045</td>\n",
       "      <td>2.0</td>\n",
       "      <td>0</td>\n",
       "      <td>0</td>\n",
       "      <td>...</td>\n",
       "      <td>8</td>\n",
       "      <td>2481</td>\n",
       "      <td>0</td>\n",
       "      <td>2014</td>\n",
       "      <td>0</td>\n",
       "      <td>98001</td>\n",
       "      <td>47.2602</td>\n",
       "      <td>-122.284</td>\n",
       "      <td>2363</td>\n",
       "      <td>4175</td>\n",
       "    </tr>\n",
       "    <tr>\n",
       "      <th>5412</th>\n",
       "      <td>240000269</td>\n",
       "      <td>20150124T000000</td>\n",
       "      <td>530000.0</td>\n",
       "      <td>4</td>\n",
       "      <td>4.50</td>\n",
       "      <td>4060</td>\n",
       "      <td>10800</td>\n",
       "      <td>2.0</td>\n",
       "      <td>0</td>\n",
       "      <td>0</td>\n",
       "      <td>...</td>\n",
       "      <td>10</td>\n",
       "      <td>4060</td>\n",
       "      <td>0</td>\n",
       "      <td>2007</td>\n",
       "      <td>0</td>\n",
       "      <td>98188</td>\n",
       "      <td>47.4241</td>\n",
       "      <td>-122.290</td>\n",
       "      <td>1830</td>\n",
       "      <td>9768</td>\n",
       "    </tr>\n",
       "    <tr>\n",
       "      <th>6355</th>\n",
       "      <td>4340000080</td>\n",
       "      <td>20150327T000000</td>\n",
       "      <td>1450000.0</td>\n",
       "      <td>4</td>\n",
       "      <td>3.50</td>\n",
       "      <td>2820</td>\n",
       "      <td>7809</td>\n",
       "      <td>2.0</td>\n",
       "      <td>0</td>\n",
       "      <td>0</td>\n",
       "      <td>...</td>\n",
       "      <td>10</td>\n",
       "      <td>2820</td>\n",
       "      <td>0</td>\n",
       "      <td>1995</td>\n",
       "      <td>0</td>\n",
       "      <td>98004</td>\n",
       "      <td>47.6220</td>\n",
       "      <td>-122.195</td>\n",
       "      <td>2630</td>\n",
       "      <td>7904</td>\n",
       "    </tr>\n",
       "    <tr>\n",
       "      <th>11717</th>\n",
       "      <td>2185000685</td>\n",
       "      <td>20141124T000000</td>\n",
       "      <td>208417.0</td>\n",
       "      <td>2</td>\n",
       "      <td>1.00</td>\n",
       "      <td>840</td>\n",
       "      <td>4200</td>\n",
       "      <td>1.0</td>\n",
       "      <td>0</td>\n",
       "      <td>0</td>\n",
       "      <td>...</td>\n",
       "      <td>5</td>\n",
       "      <td>840</td>\n",
       "      <td>0</td>\n",
       "      <td>1938</td>\n",
       "      <td>0</td>\n",
       "      <td>98108</td>\n",
       "      <td>47.5292</td>\n",
       "      <td>-122.316</td>\n",
       "      <td>830</td>\n",
       "      <td>5000</td>\n",
       "    </tr>\n",
       "    <tr>\n",
       "      <th>6036</th>\n",
       "      <td>2770606890</td>\n",
       "      <td>20140807T000000</td>\n",
       "      <td>450000.0</td>\n",
       "      <td>4</td>\n",
       "      <td>1.75</td>\n",
       "      <td>1520</td>\n",
       "      <td>5250</td>\n",
       "      <td>1.0</td>\n",
       "      <td>0</td>\n",
       "      <td>0</td>\n",
       "      <td>...</td>\n",
       "      <td>6</td>\n",
       "      <td>1520</td>\n",
       "      <td>0</td>\n",
       "      <td>1949</td>\n",
       "      <td>0</td>\n",
       "      <td>98199</td>\n",
       "      <td>47.6581</td>\n",
       "      <td>-122.390</td>\n",
       "      <td>1530</td>\n",
       "      <td>5250</td>\n",
       "    </tr>\n",
       "    <tr>\n",
       "      <th>21133</th>\n",
       "      <td>8562770080</td>\n",
       "      <td>20141030T000000</td>\n",
       "      <td>613000.0</td>\n",
       "      <td>3</td>\n",
       "      <td>3.25</td>\n",
       "      <td>2440</td>\n",
       "      <td>2812</td>\n",
       "      <td>2.0</td>\n",
       "      <td>0</td>\n",
       "      <td>0</td>\n",
       "      <td>...</td>\n",
       "      <td>8</td>\n",
       "      <td>1710</td>\n",
       "      <td>730</td>\n",
       "      <td>2005</td>\n",
       "      <td>0</td>\n",
       "      <td>98027</td>\n",
       "      <td>47.5362</td>\n",
       "      <td>-122.072</td>\n",
       "      <td>2440</td>\n",
       "      <td>2836</td>\n",
       "    </tr>\n",
       "    <tr>\n",
       "      <th>20756</th>\n",
       "      <td>3057000400</td>\n",
       "      <td>20140708T000000</td>\n",
       "      <td>249000.0</td>\n",
       "      <td>2</td>\n",
       "      <td>1.50</td>\n",
       "      <td>1090</td>\n",
       "      <td>2686</td>\n",
       "      <td>2.0</td>\n",
       "      <td>0</td>\n",
       "      <td>0</td>\n",
       "      <td>...</td>\n",
       "      <td>7</td>\n",
       "      <td>1090</td>\n",
       "      <td>0</td>\n",
       "      <td>1982</td>\n",
       "      <td>0</td>\n",
       "      <td>98034</td>\n",
       "      <td>47.7170</td>\n",
       "      <td>-122.190</td>\n",
       "      <td>1160</td>\n",
       "      <td>2158</td>\n",
       "    </tr>\n",
       "    <tr>\n",
       "      <th>20257</th>\n",
       "      <td>8924100372</td>\n",
       "      <td>20150423T000000</td>\n",
       "      <td>1302000.0</td>\n",
       "      <td>4</td>\n",
       "      <td>3.50</td>\n",
       "      <td>3590</td>\n",
       "      <td>5334</td>\n",
       "      <td>2.0</td>\n",
       "      <td>0</td>\n",
       "      <td>2</td>\n",
       "      <td>...</td>\n",
       "      <td>9</td>\n",
       "      <td>3140</td>\n",
       "      <td>450</td>\n",
       "      <td>2006</td>\n",
       "      <td>0</td>\n",
       "      <td>98115</td>\n",
       "      <td>47.6763</td>\n",
       "      <td>-122.267</td>\n",
       "      <td>2100</td>\n",
       "      <td>6250</td>\n",
       "    </tr>\n",
       "    <tr>\n",
       "      <th>9526</th>\n",
       "      <td>396100110</td>\n",
       "      <td>20140516T000000</td>\n",
       "      <td>282613.0</td>\n",
       "      <td>2</td>\n",
       "      <td>1.00</td>\n",
       "      <td>830</td>\n",
       "      <td>6017</td>\n",
       "      <td>1.0</td>\n",
       "      <td>0</td>\n",
       "      <td>0</td>\n",
       "      <td>...</td>\n",
       "      <td>6</td>\n",
       "      <td>830</td>\n",
       "      <td>0</td>\n",
       "      <td>1954</td>\n",
       "      <td>0</td>\n",
       "      <td>98133</td>\n",
       "      <td>47.7466</td>\n",
       "      <td>-122.334</td>\n",
       "      <td>1340</td>\n",
       "      <td>6040</td>\n",
       "    </tr>\n",
       "    <tr>\n",
       "      <th>9912</th>\n",
       "      <td>5153200358</td>\n",
       "      <td>20141029T000000</td>\n",
       "      <td>240000.0</td>\n",
       "      <td>5</td>\n",
       "      <td>1.75</td>\n",
       "      <td>2460</td>\n",
       "      <td>16000</td>\n",
       "      <td>1.0</td>\n",
       "      <td>0</td>\n",
       "      <td>0</td>\n",
       "      <td>...</td>\n",
       "      <td>7</td>\n",
       "      <td>1230</td>\n",
       "      <td>1230</td>\n",
       "      <td>1957</td>\n",
       "      <td>0</td>\n",
       "      <td>98023</td>\n",
       "      <td>47.3305</td>\n",
       "      <td>-122.351</td>\n",
       "      <td>1990</td>\n",
       "      <td>16000</td>\n",
       "    </tr>\n",
       "    <tr>\n",
       "      <th>13244</th>\n",
       "      <td>519000043</td>\n",
       "      <td>20140714T000000</td>\n",
       "      <td>602000.0</td>\n",
       "      <td>3</td>\n",
       "      <td>2.50</td>\n",
       "      <td>1640</td>\n",
       "      <td>3804</td>\n",
       "      <td>2.0</td>\n",
       "      <td>0</td>\n",
       "      <td>0</td>\n",
       "      <td>...</td>\n",
       "      <td>8</td>\n",
       "      <td>1640</td>\n",
       "      <td>0</td>\n",
       "      <td>1998</td>\n",
       "      <td>0</td>\n",
       "      <td>98122</td>\n",
       "      <td>47.6103</td>\n",
       "      <td>-122.300</td>\n",
       "      <td>1440</td>\n",
       "      <td>3230</td>\n",
       "    </tr>\n",
       "    <tr>\n",
       "      <th>17385</th>\n",
       "      <td>1890000225</td>\n",
       "      <td>20140620T000000</td>\n",
       "      <td>725000.0</td>\n",
       "      <td>6</td>\n",
       "      <td>1.75</td>\n",
       "      <td>2380</td>\n",
       "      <td>4080</td>\n",
       "      <td>2.0</td>\n",
       "      <td>0</td>\n",
       "      <td>0</td>\n",
       "      <td>...</td>\n",
       "      <td>8</td>\n",
       "      <td>2380</td>\n",
       "      <td>0</td>\n",
       "      <td>1917</td>\n",
       "      <td>0</td>\n",
       "      <td>98105</td>\n",
       "      <td>47.6629</td>\n",
       "      <td>-122.325</td>\n",
       "      <td>2030</td>\n",
       "      <td>4080</td>\n",
       "    </tr>\n",
       "    <tr>\n",
       "      <th>8918</th>\n",
       "      <td>9407001790</td>\n",
       "      <td>20140826T000000</td>\n",
       "      <td>290000.0</td>\n",
       "      <td>3</td>\n",
       "      <td>1.00</td>\n",
       "      <td>1010</td>\n",
       "      <td>10800</td>\n",
       "      <td>1.0</td>\n",
       "      <td>0</td>\n",
       "      <td>0</td>\n",
       "      <td>...</td>\n",
       "      <td>7</td>\n",
       "      <td>1010</td>\n",
       "      <td>0</td>\n",
       "      <td>1972</td>\n",
       "      <td>0</td>\n",
       "      <td>98045</td>\n",
       "      <td>47.4483</td>\n",
       "      <td>-121.773</td>\n",
       "      <td>1370</td>\n",
       "      <td>9500</td>\n",
       "    </tr>\n",
       "    <tr>\n",
       "      <th>10534</th>\n",
       "      <td>7016310270</td>\n",
       "      <td>20150410T000000</td>\n",
       "      <td>467000.0</td>\n",
       "      <td>4</td>\n",
       "      <td>2.50</td>\n",
       "      <td>2220</td>\n",
       "      <td>7210</td>\n",
       "      <td>1.0</td>\n",
       "      <td>0</td>\n",
       "      <td>0</td>\n",
       "      <td>...</td>\n",
       "      <td>7</td>\n",
       "      <td>1270</td>\n",
       "      <td>950</td>\n",
       "      <td>1973</td>\n",
       "      <td>0</td>\n",
       "      <td>98011</td>\n",
       "      <td>47.7428</td>\n",
       "      <td>-122.183</td>\n",
       "      <td>2220</td>\n",
       "      <td>7313</td>\n",
       "    </tr>\n",
       "    <tr>\n",
       "      <th>18636</th>\n",
       "      <td>6792100090</td>\n",
       "      <td>20140914T000000</td>\n",
       "      <td>683000.0</td>\n",
       "      <td>4</td>\n",
       "      <td>2.50</td>\n",
       "      <td>2620</td>\n",
       "      <td>10489</td>\n",
       "      <td>2.0</td>\n",
       "      <td>0</td>\n",
       "      <td>0</td>\n",
       "      <td>...</td>\n",
       "      <td>9</td>\n",
       "      <td>2620</td>\n",
       "      <td>0</td>\n",
       "      <td>1990</td>\n",
       "      <td>0</td>\n",
       "      <td>98052</td>\n",
       "      <td>47.6732</td>\n",
       "      <td>-122.143</td>\n",
       "      <td>2430</td>\n",
       "      <td>7701</td>\n",
       "    </tr>\n",
       "    <tr>\n",
       "      <th>6052</th>\n",
       "      <td>624110020</td>\n",
       "      <td>20140925T000000</td>\n",
       "      <td>730000.0</td>\n",
       "      <td>3</td>\n",
       "      <td>3.00</td>\n",
       "      <td>3460</td>\n",
       "      <td>13129</td>\n",
       "      <td>2.0</td>\n",
       "      <td>0</td>\n",
       "      <td>0</td>\n",
       "      <td>...</td>\n",
       "      <td>9</td>\n",
       "      <td>2560</td>\n",
       "      <td>900</td>\n",
       "      <td>1988</td>\n",
       "      <td>0</td>\n",
       "      <td>98077</td>\n",
       "      <td>47.7315</td>\n",
       "      <td>-122.058</td>\n",
       "      <td>3460</td>\n",
       "      <td>12568</td>\n",
       "    </tr>\n",
       "    <tr>\n",
       "      <th>4106</th>\n",
       "      <td>7701450110</td>\n",
       "      <td>20140815T000000</td>\n",
       "      <td>1038000.0</td>\n",
       "      <td>4</td>\n",
       "      <td>2.50</td>\n",
       "      <td>3770</td>\n",
       "      <td>10893</td>\n",
       "      <td>2.0</td>\n",
       "      <td>0</td>\n",
       "      <td>2</td>\n",
       "      <td>...</td>\n",
       "      <td>11</td>\n",
       "      <td>3770</td>\n",
       "      <td>0</td>\n",
       "      <td>1997</td>\n",
       "      <td>0</td>\n",
       "      <td>98006</td>\n",
       "      <td>47.5646</td>\n",
       "      <td>-122.129</td>\n",
       "      <td>3710</td>\n",
       "      <td>9685</td>\n",
       "    </tr>\n",
       "    <tr>\n",
       "      <th>12626</th>\n",
       "      <td>2781270210</td>\n",
       "      <td>20150224T000000</td>\n",
       "      <td>209900.0</td>\n",
       "      <td>2</td>\n",
       "      <td>2.00</td>\n",
       "      <td>1180</td>\n",
       "      <td>3003</td>\n",
       "      <td>2.0</td>\n",
       "      <td>0</td>\n",
       "      <td>0</td>\n",
       "      <td>...</td>\n",
       "      <td>6</td>\n",
       "      <td>1180</td>\n",
       "      <td>0</td>\n",
       "      <td>2005</td>\n",
       "      <td>0</td>\n",
       "      <td>98038</td>\n",
       "      <td>47.3491</td>\n",
       "      <td>-122.020</td>\n",
       "      <td>1310</td>\n",
       "      <td>3003</td>\n",
       "    </tr>\n",
       "    <tr>\n",
       "      <th>12909</th>\n",
       "      <td>3755200220</td>\n",
       "      <td>20140718T000000</td>\n",
       "      <td>334009.0</td>\n",
       "      <td>4</td>\n",
       "      <td>2.00</td>\n",
       "      <td>1650</td>\n",
       "      <td>9305</td>\n",
       "      <td>1.0</td>\n",
       "      <td>0</td>\n",
       "      <td>0</td>\n",
       "      <td>...</td>\n",
       "      <td>6</td>\n",
       "      <td>1650</td>\n",
       "      <td>0</td>\n",
       "      <td>1960</td>\n",
       "      <td>0</td>\n",
       "      <td>98034</td>\n",
       "      <td>47.7183</td>\n",
       "      <td>-122.213</td>\n",
       "      <td>1860</td>\n",
       "      <td>7486</td>\n",
       "    </tr>\n",
       "    <tr>\n",
       "      <th>5513</th>\n",
       "      <td>9283800050</td>\n",
       "      <td>20140819T000000</td>\n",
       "      <td>575000.0</td>\n",
       "      <td>2</td>\n",
       "      <td>1.50</td>\n",
       "      <td>1750</td>\n",
       "      <td>19709</td>\n",
       "      <td>1.5</td>\n",
       "      <td>0</td>\n",
       "      <td>0</td>\n",
       "      <td>...</td>\n",
       "      <td>8</td>\n",
       "      <td>1440</td>\n",
       "      <td>310</td>\n",
       "      <td>1978</td>\n",
       "      <td>0</td>\n",
       "      <td>98010</td>\n",
       "      <td>47.3351</td>\n",
       "      <td>-122.044</td>\n",
       "      <td>1950</td>\n",
       "      <td>21075</td>\n",
       "    </tr>\n",
       "    <tr>\n",
       "      <th>8149</th>\n",
       "      <td>3971700937</td>\n",
       "      <td>20140827T000000</td>\n",
       "      <td>270000.0</td>\n",
       "      <td>3</td>\n",
       "      <td>1.75</td>\n",
       "      <td>1260</td>\n",
       "      <td>7500</td>\n",
       "      <td>1.0</td>\n",
       "      <td>0</td>\n",
       "      <td>0</td>\n",
       "      <td>...</td>\n",
       "      <td>6</td>\n",
       "      <td>840</td>\n",
       "      <td>420</td>\n",
       "      <td>1947</td>\n",
       "      <td>0</td>\n",
       "      <td>98155</td>\n",
       "      <td>47.7720</td>\n",
       "      <td>-122.323</td>\n",
       "      <td>1340</td>\n",
       "      <td>7500</td>\n",
       "    </tr>\n",
       "    <tr>\n",
       "      <th>...</th>\n",
       "      <td>...</td>\n",
       "      <td>...</td>\n",
       "      <td>...</td>\n",
       "      <td>...</td>\n",
       "      <td>...</td>\n",
       "      <td>...</td>\n",
       "      <td>...</td>\n",
       "      <td>...</td>\n",
       "      <td>...</td>\n",
       "      <td>...</td>\n",
       "      <td>...</td>\n",
       "      <td>...</td>\n",
       "      <td>...</td>\n",
       "      <td>...</td>\n",
       "      <td>...</td>\n",
       "      <td>...</td>\n",
       "      <td>...</td>\n",
       "      <td>...</td>\n",
       "      <td>...</td>\n",
       "      <td>...</td>\n",
       "      <td>...</td>\n",
       "    </tr>\n",
       "    <tr>\n",
       "      <th>1807</th>\n",
       "      <td>2025770560</td>\n",
       "      <td>20141103T000000</td>\n",
       "      <td>930000.0</td>\n",
       "      <td>4</td>\n",
       "      <td>4.25</td>\n",
       "      <td>5710</td>\n",
       "      <td>24663</td>\n",
       "      <td>2.0</td>\n",
       "      <td>0</td>\n",
       "      <td>0</td>\n",
       "      <td>...</td>\n",
       "      <td>11</td>\n",
       "      <td>5710</td>\n",
       "      <td>0</td>\n",
       "      <td>2007</td>\n",
       "      <td>0</td>\n",
       "      <td>98092</td>\n",
       "      <td>47.3065</td>\n",
       "      <td>-122.158</td>\n",
       "      <td>4060</td>\n",
       "      <td>23847</td>\n",
       "    </tr>\n",
       "    <tr>\n",
       "      <th>9453</th>\n",
       "      <td>7215730040</td>\n",
       "      <td>20140515T000000</td>\n",
       "      <td>695000.0</td>\n",
       "      <td>4</td>\n",
       "      <td>3.00</td>\n",
       "      <td>3150</td>\n",
       "      <td>9130</td>\n",
       "      <td>2.0</td>\n",
       "      <td>0</td>\n",
       "      <td>0</td>\n",
       "      <td>...</td>\n",
       "      <td>9</td>\n",
       "      <td>3150</td>\n",
       "      <td>0</td>\n",
       "      <td>2001</td>\n",
       "      <td>0</td>\n",
       "      <td>98075</td>\n",
       "      <td>47.5974</td>\n",
       "      <td>-122.017</td>\n",
       "      <td>2970</td>\n",
       "      <td>6228</td>\n",
       "    </tr>\n",
       "    <tr>\n",
       "      <th>6067</th>\n",
       "      <td>3275850020</td>\n",
       "      <td>20150413T000000</td>\n",
       "      <td>781000.0</td>\n",
       "      <td>4</td>\n",
       "      <td>2.50</td>\n",
       "      <td>2590</td>\n",
       "      <td>8571</td>\n",
       "      <td>2.0</td>\n",
       "      <td>0</td>\n",
       "      <td>0</td>\n",
       "      <td>...</td>\n",
       "      <td>9</td>\n",
       "      <td>2590</td>\n",
       "      <td>0</td>\n",
       "      <td>1988</td>\n",
       "      <td>0</td>\n",
       "      <td>98052</td>\n",
       "      <td>47.6910</td>\n",
       "      <td>-122.105</td>\n",
       "      <td>2360</td>\n",
       "      <td>8155</td>\n",
       "    </tr>\n",
       "    <tr>\n",
       "      <th>383</th>\n",
       "      <td>8563040160</td>\n",
       "      <td>20150121T000000</td>\n",
       "      <td>560000.0</td>\n",
       "      <td>4</td>\n",
       "      <td>2.25</td>\n",
       "      <td>2550</td>\n",
       "      <td>7800</td>\n",
       "      <td>1.0</td>\n",
       "      <td>0</td>\n",
       "      <td>0</td>\n",
       "      <td>...</td>\n",
       "      <td>8</td>\n",
       "      <td>1580</td>\n",
       "      <td>970</td>\n",
       "      <td>1968</td>\n",
       "      <td>0</td>\n",
       "      <td>98052</td>\n",
       "      <td>47.6283</td>\n",
       "      <td>-122.095</td>\n",
       "      <td>2420</td>\n",
       "      <td>8050</td>\n",
       "    </tr>\n",
       "    <tr>\n",
       "      <th>5714</th>\n",
       "      <td>9297300255</td>\n",
       "      <td>20140716T000000</td>\n",
       "      <td>565000.0</td>\n",
       "      <td>3</td>\n",
       "      <td>3.00</td>\n",
       "      <td>2110</td>\n",
       "      <td>4000</td>\n",
       "      <td>1.0</td>\n",
       "      <td>0</td>\n",
       "      <td>2</td>\n",
       "      <td>...</td>\n",
       "      <td>7</td>\n",
       "      <td>1110</td>\n",
       "      <td>1000</td>\n",
       "      <td>1965</td>\n",
       "      <td>0</td>\n",
       "      <td>98126</td>\n",
       "      <td>47.5696</td>\n",
       "      <td>-122.375</td>\n",
       "      <td>1730</td>\n",
       "      <td>4000</td>\n",
       "    </tr>\n",
       "    <tr>\n",
       "      <th>13585</th>\n",
       "      <td>5490700085</td>\n",
       "      <td>20140911T000000</td>\n",
       "      <td>340000.0</td>\n",
       "      <td>5</td>\n",
       "      <td>2.00</td>\n",
       "      <td>1750</td>\n",
       "      <td>8220</td>\n",
       "      <td>1.0</td>\n",
       "      <td>0</td>\n",
       "      <td>0</td>\n",
       "      <td>...</td>\n",
       "      <td>7</td>\n",
       "      <td>1750</td>\n",
       "      <td>0</td>\n",
       "      <td>1956</td>\n",
       "      <td>0</td>\n",
       "      <td>98155</td>\n",
       "      <td>47.7694</td>\n",
       "      <td>-122.321</td>\n",
       "      <td>1210</td>\n",
       "      <td>6760</td>\n",
       "    </tr>\n",
       "    <tr>\n",
       "      <th>5512</th>\n",
       "      <td>1822069109</td>\n",
       "      <td>20140910T000000</td>\n",
       "      <td>485000.0</td>\n",
       "      <td>3</td>\n",
       "      <td>2.50</td>\n",
       "      <td>2540</td>\n",
       "      <td>51836</td>\n",
       "      <td>1.0</td>\n",
       "      <td>0</td>\n",
       "      <td>0</td>\n",
       "      <td>...</td>\n",
       "      <td>8</td>\n",
       "      <td>1820</td>\n",
       "      <td>720</td>\n",
       "      <td>1976</td>\n",
       "      <td>0</td>\n",
       "      <td>98042</td>\n",
       "      <td>47.3890</td>\n",
       "      <td>-122.088</td>\n",
       "      <td>1650</td>\n",
       "      <td>51836</td>\n",
       "    </tr>\n",
       "    <tr>\n",
       "      <th>3910</th>\n",
       "      <td>8946700100</td>\n",
       "      <td>20141208T000000</td>\n",
       "      <td>408500.0</td>\n",
       "      <td>4</td>\n",
       "      <td>2.50</td>\n",
       "      <td>2720</td>\n",
       "      <td>7043</td>\n",
       "      <td>2.0</td>\n",
       "      <td>0</td>\n",
       "      <td>0</td>\n",
       "      <td>...</td>\n",
       "      <td>9</td>\n",
       "      <td>2720</td>\n",
       "      <td>0</td>\n",
       "      <td>2003</td>\n",
       "      <td>0</td>\n",
       "      <td>98092</td>\n",
       "      <td>47.3315</td>\n",
       "      <td>-122.169</td>\n",
       "      <td>2640</td>\n",
       "      <td>6958</td>\n",
       "    </tr>\n",
       "    <tr>\n",
       "      <th>2020</th>\n",
       "      <td>3760500516</td>\n",
       "      <td>20140724T000000</td>\n",
       "      <td>835000.0</td>\n",
       "      <td>5</td>\n",
       "      <td>4.00</td>\n",
       "      <td>3600</td>\n",
       "      <td>14720</td>\n",
       "      <td>1.0</td>\n",
       "      <td>0</td>\n",
       "      <td>2</td>\n",
       "      <td>...</td>\n",
       "      <td>8</td>\n",
       "      <td>1800</td>\n",
       "      <td>1800</td>\n",
       "      <td>1960</td>\n",
       "      <td>0</td>\n",
       "      <td>98034</td>\n",
       "      <td>47.7022</td>\n",
       "      <td>-122.227</td>\n",
       "      <td>3600</td>\n",
       "      <td>15358</td>\n",
       "    </tr>\n",
       "    <tr>\n",
       "      <th>2830</th>\n",
       "      <td>7974200820</td>\n",
       "      <td>20140821T000000</td>\n",
       "      <td>865000.0</td>\n",
       "      <td>5</td>\n",
       "      <td>3.00</td>\n",
       "      <td>2900</td>\n",
       "      <td>6730</td>\n",
       "      <td>1.0</td>\n",
       "      <td>0</td>\n",
       "      <td>0</td>\n",
       "      <td>...</td>\n",
       "      <td>8</td>\n",
       "      <td>1830</td>\n",
       "      <td>1070</td>\n",
       "      <td>1977</td>\n",
       "      <td>0</td>\n",
       "      <td>98115</td>\n",
       "      <td>47.6784</td>\n",
       "      <td>-122.285</td>\n",
       "      <td>2370</td>\n",
       "      <td>6283</td>\n",
       "    </tr>\n",
       "    <tr>\n",
       "      <th>10069</th>\n",
       "      <td>1157200189</td>\n",
       "      <td>20140514T000000</td>\n",
       "      <td>356000.0</td>\n",
       "      <td>3</td>\n",
       "      <td>3.50</td>\n",
       "      <td>2100</td>\n",
       "      <td>12384</td>\n",
       "      <td>2.0</td>\n",
       "      <td>0</td>\n",
       "      <td>0</td>\n",
       "      <td>...</td>\n",
       "      <td>9</td>\n",
       "      <td>2100</td>\n",
       "      <td>0</td>\n",
       "      <td>1980</td>\n",
       "      <td>0</td>\n",
       "      <td>98188</td>\n",
       "      <td>47.4687</td>\n",
       "      <td>-122.263</td>\n",
       "      <td>2400</td>\n",
       "      <td>7776</td>\n",
       "    </tr>\n",
       "    <tr>\n",
       "      <th>7201</th>\n",
       "      <td>6868200029</td>\n",
       "      <td>20140929T000000</td>\n",
       "      <td>467500.0</td>\n",
       "      <td>3</td>\n",
       "      <td>1.75</td>\n",
       "      <td>2260</td>\n",
       "      <td>8512</td>\n",
       "      <td>1.0</td>\n",
       "      <td>0</td>\n",
       "      <td>0</td>\n",
       "      <td>...</td>\n",
       "      <td>7</td>\n",
       "      <td>1130</td>\n",
       "      <td>1130</td>\n",
       "      <td>1948</td>\n",
       "      <td>0</td>\n",
       "      <td>98125</td>\n",
       "      <td>47.7129</td>\n",
       "      <td>-122.304</td>\n",
       "      <td>2240</td>\n",
       "      <td>8040</td>\n",
       "    </tr>\n",
       "    <tr>\n",
       "      <th>13809</th>\n",
       "      <td>263000155</td>\n",
       "      <td>20140505T000000</td>\n",
       "      <td>418000.0</td>\n",
       "      <td>3</td>\n",
       "      <td>2.00</td>\n",
       "      <td>1410</td>\n",
       "      <td>6030</td>\n",
       "      <td>1.5</td>\n",
       "      <td>0</td>\n",
       "      <td>0</td>\n",
       "      <td>...</td>\n",
       "      <td>7</td>\n",
       "      <td>1410</td>\n",
       "      <td>0</td>\n",
       "      <td>1930</td>\n",
       "      <td>0</td>\n",
       "      <td>98103</td>\n",
       "      <td>47.6994</td>\n",
       "      <td>-122.347</td>\n",
       "      <td>1410</td>\n",
       "      <td>6300</td>\n",
       "    </tr>\n",
       "    <tr>\n",
       "      <th>17494</th>\n",
       "      <td>7431500280</td>\n",
       "      <td>20141110T000000</td>\n",
       "      <td>959750.0</td>\n",
       "      <td>4</td>\n",
       "      <td>3.00</td>\n",
       "      <td>3060</td>\n",
       "      <td>50002</td>\n",
       "      <td>1.0</td>\n",
       "      <td>0</td>\n",
       "      <td>2</td>\n",
       "      <td>...</td>\n",
       "      <td>8</td>\n",
       "      <td>2460</td>\n",
       "      <td>600</td>\n",
       "      <td>1957</td>\n",
       "      <td>0</td>\n",
       "      <td>98008</td>\n",
       "      <td>47.6205</td>\n",
       "      <td>-122.096</td>\n",
       "      <td>2740</td>\n",
       "      <td>16181</td>\n",
       "    </tr>\n",
       "    <tr>\n",
       "      <th>2325</th>\n",
       "      <td>3634100030</td>\n",
       "      <td>20150109T000000</td>\n",
       "      <td>270000.0</td>\n",
       "      <td>4</td>\n",
       "      <td>2.00</td>\n",
       "      <td>1830</td>\n",
       "      <td>5220</td>\n",
       "      <td>1.5</td>\n",
       "      <td>0</td>\n",
       "      <td>0</td>\n",
       "      <td>...</td>\n",
       "      <td>7</td>\n",
       "      <td>1830</td>\n",
       "      <td>0</td>\n",
       "      <td>1951</td>\n",
       "      <td>0</td>\n",
       "      <td>98118</td>\n",
       "      <td>47.5331</td>\n",
       "      <td>-122.278</td>\n",
       "      <td>1760</td>\n",
       "      <td>5757</td>\n",
       "    </tr>\n",
       "    <tr>\n",
       "      <th>19093</th>\n",
       "      <td>3345700165</td>\n",
       "      <td>20141202T000000</td>\n",
       "      <td>450000.0</td>\n",
       "      <td>3</td>\n",
       "      <td>2.25</td>\n",
       "      <td>2530</td>\n",
       "      <td>27227</td>\n",
       "      <td>2.0</td>\n",
       "      <td>0</td>\n",
       "      <td>0</td>\n",
       "      <td>...</td>\n",
       "      <td>8</td>\n",
       "      <td>2530</td>\n",
       "      <td>0</td>\n",
       "      <td>1987</td>\n",
       "      <td>0</td>\n",
       "      <td>98056</td>\n",
       "      <td>47.5270</td>\n",
       "      <td>-122.193</td>\n",
       "      <td>2160</td>\n",
       "      <td>30192</td>\n",
       "    </tr>\n",
       "    <tr>\n",
       "      <th>14759</th>\n",
       "      <td>422049203</td>\n",
       "      <td>20141024T000000</td>\n",
       "      <td>239000.0</td>\n",
       "      <td>3</td>\n",
       "      <td>1.50</td>\n",
       "      <td>1330</td>\n",
       "      <td>6540</td>\n",
       "      <td>1.0</td>\n",
       "      <td>0</td>\n",
       "      <td>0</td>\n",
       "      <td>...</td>\n",
       "      <td>7</td>\n",
       "      <td>900</td>\n",
       "      <td>430</td>\n",
       "      <td>1971</td>\n",
       "      <td>0</td>\n",
       "      <td>98188</td>\n",
       "      <td>47.4239</td>\n",
       "      <td>-122.292</td>\n",
       "      <td>1400</td>\n",
       "      <td>11500</td>\n",
       "    </tr>\n",
       "    <tr>\n",
       "      <th>13438</th>\n",
       "      <td>8712100720</td>\n",
       "      <td>20140815T000000</td>\n",
       "      <td>785000.0</td>\n",
       "      <td>3</td>\n",
       "      <td>2.00</td>\n",
       "      <td>2090</td>\n",
       "      <td>5015</td>\n",
       "      <td>1.5</td>\n",
       "      <td>0</td>\n",
       "      <td>0</td>\n",
       "      <td>...</td>\n",
       "      <td>7</td>\n",
       "      <td>2090</td>\n",
       "      <td>0</td>\n",
       "      <td>1920</td>\n",
       "      <td>0</td>\n",
       "      <td>98112</td>\n",
       "      <td>47.6378</td>\n",
       "      <td>-122.301</td>\n",
       "      <td>1930</td>\n",
       "      <td>4250</td>\n",
       "    </tr>\n",
       "    <tr>\n",
       "      <th>18769</th>\n",
       "      <td>8917100153</td>\n",
       "      <td>20140910T000000</td>\n",
       "      <td>585000.0</td>\n",
       "      <td>4</td>\n",
       "      <td>2.50</td>\n",
       "      <td>2370</td>\n",
       "      <td>15200</td>\n",
       "      <td>1.0</td>\n",
       "      <td>0</td>\n",
       "      <td>0</td>\n",
       "      <td>...</td>\n",
       "      <td>8</td>\n",
       "      <td>1660</td>\n",
       "      <td>710</td>\n",
       "      <td>1975</td>\n",
       "      <td>0</td>\n",
       "      <td>98052</td>\n",
       "      <td>47.6295</td>\n",
       "      <td>-122.089</td>\n",
       "      <td>2360</td>\n",
       "      <td>13879</td>\n",
       "    </tr>\n",
       "    <tr>\n",
       "      <th>4954</th>\n",
       "      <td>8078700020</td>\n",
       "      <td>20140603T000000</td>\n",
       "      <td>474900.0</td>\n",
       "      <td>3</td>\n",
       "      <td>2.25</td>\n",
       "      <td>1800</td>\n",
       "      <td>43647</td>\n",
       "      <td>1.0</td>\n",
       "      <td>0</td>\n",
       "      <td>0</td>\n",
       "      <td>...</td>\n",
       "      <td>8</td>\n",
       "      <td>1800</td>\n",
       "      <td>0</td>\n",
       "      <td>1976</td>\n",
       "      <td>0</td>\n",
       "      <td>98072</td>\n",
       "      <td>47.7757</td>\n",
       "      <td>-122.132</td>\n",
       "      <td>2480</td>\n",
       "      <td>25608</td>\n",
       "    </tr>\n",
       "    <tr>\n",
       "      <th>3125</th>\n",
       "      <td>5100401468</td>\n",
       "      <td>20140715T000000</td>\n",
       "      <td>448000.0</td>\n",
       "      <td>2</td>\n",
       "      <td>1.00</td>\n",
       "      <td>1110</td>\n",
       "      <td>5413</td>\n",
       "      <td>1.0</td>\n",
       "      <td>0</td>\n",
       "      <td>0</td>\n",
       "      <td>...</td>\n",
       "      <td>6</td>\n",
       "      <td>890</td>\n",
       "      <td>220</td>\n",
       "      <td>1937</td>\n",
       "      <td>0</td>\n",
       "      <td>98115</td>\n",
       "      <td>47.6925</td>\n",
       "      <td>-122.320</td>\n",
       "      <td>1300</td>\n",
       "      <td>5413</td>\n",
       "    </tr>\n",
       "    <tr>\n",
       "      <th>4821</th>\n",
       "      <td>9839301060</td>\n",
       "      <td>20150406T000000</td>\n",
       "      <td>650500.0</td>\n",
       "      <td>3</td>\n",
       "      <td>1.75</td>\n",
       "      <td>1740</td>\n",
       "      <td>4400</td>\n",
       "      <td>1.5</td>\n",
       "      <td>0</td>\n",
       "      <td>0</td>\n",
       "      <td>...</td>\n",
       "      <td>8</td>\n",
       "      <td>1740</td>\n",
       "      <td>0</td>\n",
       "      <td>1903</td>\n",
       "      <td>0</td>\n",
       "      <td>98122</td>\n",
       "      <td>47.6115</td>\n",
       "      <td>-122.292</td>\n",
       "      <td>1740</td>\n",
       "      <td>4400</td>\n",
       "    </tr>\n",
       "    <tr>\n",
       "      <th>3018</th>\n",
       "      <td>2291401425</td>\n",
       "      <td>20140910T000000</td>\n",
       "      <td>485000.0</td>\n",
       "      <td>5</td>\n",
       "      <td>2.00</td>\n",
       "      <td>1910</td>\n",
       "      <td>5508</td>\n",
       "      <td>1.0</td>\n",
       "      <td>0</td>\n",
       "      <td>0</td>\n",
       "      <td>...</td>\n",
       "      <td>7</td>\n",
       "      <td>1020</td>\n",
       "      <td>890</td>\n",
       "      <td>1968</td>\n",
       "      <td>0</td>\n",
       "      <td>98133</td>\n",
       "      <td>47.7074</td>\n",
       "      <td>-122.349</td>\n",
       "      <td>1030</td>\n",
       "      <td>7440</td>\n",
       "    </tr>\n",
       "    <tr>\n",
       "      <th>2851</th>\n",
       "      <td>9126100850</td>\n",
       "      <td>20141120T000000</td>\n",
       "      <td>534000.0</td>\n",
       "      <td>5</td>\n",
       "      <td>2.00</td>\n",
       "      <td>2280</td>\n",
       "      <td>3600</td>\n",
       "      <td>2.0</td>\n",
       "      <td>0</td>\n",
       "      <td>0</td>\n",
       "      <td>...</td>\n",
       "      <td>7</td>\n",
       "      <td>2280</td>\n",
       "      <td>0</td>\n",
       "      <td>1992</td>\n",
       "      <td>0</td>\n",
       "      <td>98122</td>\n",
       "      <td>47.6056</td>\n",
       "      <td>-122.305</td>\n",
       "      <td>1740</td>\n",
       "      <td>1800</td>\n",
       "    </tr>\n",
       "    <tr>\n",
       "      <th>14358</th>\n",
       "      <td>8718500665</td>\n",
       "      <td>20140724T000000</td>\n",
       "      <td>375000.0</td>\n",
       "      <td>3</td>\n",
       "      <td>1.00</td>\n",
       "      <td>1610</td>\n",
       "      <td>11250</td>\n",
       "      <td>1.0</td>\n",
       "      <td>0</td>\n",
       "      <td>0</td>\n",
       "      <td>...</td>\n",
       "      <td>7</td>\n",
       "      <td>1090</td>\n",
       "      <td>520</td>\n",
       "      <td>1975</td>\n",
       "      <td>0</td>\n",
       "      <td>98028</td>\n",
       "      <td>47.7391</td>\n",
       "      <td>-122.256</td>\n",
       "      <td>2040</td>\n",
       "      <td>10692</td>\n",
       "    </tr>\n",
       "    <tr>\n",
       "      <th>8288</th>\n",
       "      <td>9828200762</td>\n",
       "      <td>20140628T000000</td>\n",
       "      <td>650000.0</td>\n",
       "      <td>2</td>\n",
       "      <td>1.00</td>\n",
       "      <td>1050</td>\n",
       "      <td>2542</td>\n",
       "      <td>1.0</td>\n",
       "      <td>0</td>\n",
       "      <td>0</td>\n",
       "      <td>...</td>\n",
       "      <td>7</td>\n",
       "      <td>880</td>\n",
       "      <td>170</td>\n",
       "      <td>1904</td>\n",
       "      <td>0</td>\n",
       "      <td>98122</td>\n",
       "      <td>47.6172</td>\n",
       "      <td>-122.298</td>\n",
       "      <td>1620</td>\n",
       "      <td>1809</td>\n",
       "    </tr>\n",
       "    <tr>\n",
       "      <th>16941</th>\n",
       "      <td>2626119028</td>\n",
       "      <td>20150323T000000</td>\n",
       "      <td>160000.0</td>\n",
       "      <td>3</td>\n",
       "      <td>1.00</td>\n",
       "      <td>1140</td>\n",
       "      <td>3240</td>\n",
       "      <td>1.5</td>\n",
       "      <td>0</td>\n",
       "      <td>0</td>\n",
       "      <td>...</td>\n",
       "      <td>6</td>\n",
       "      <td>1140</td>\n",
       "      <td>0</td>\n",
       "      <td>1910</td>\n",
       "      <td>0</td>\n",
       "      <td>98014</td>\n",
       "      <td>47.7093</td>\n",
       "      <td>-121.364</td>\n",
       "      <td>1140</td>\n",
       "      <td>4700</td>\n",
       "    </tr>\n",
       "    <tr>\n",
       "      <th>15473</th>\n",
       "      <td>6072400280</td>\n",
       "      <td>20140619T000000</td>\n",
       "      <td>619850.0</td>\n",
       "      <td>4</td>\n",
       "      <td>2.50</td>\n",
       "      <td>2270</td>\n",
       "      <td>9247</td>\n",
       "      <td>1.0</td>\n",
       "      <td>0</td>\n",
       "      <td>0</td>\n",
       "      <td>...</td>\n",
       "      <td>8</td>\n",
       "      <td>1500</td>\n",
       "      <td>770</td>\n",
       "      <td>1972</td>\n",
       "      <td>0</td>\n",
       "      <td>98006</td>\n",
       "      <td>47.5602</td>\n",
       "      <td>-122.176</td>\n",
       "      <td>2270</td>\n",
       "      <td>9163</td>\n",
       "    </tr>\n",
       "    <tr>\n",
       "      <th>2350</th>\n",
       "      <td>3298201170</td>\n",
       "      <td>20141110T000000</td>\n",
       "      <td>350000.0</td>\n",
       "      <td>3</td>\n",
       "      <td>1.00</td>\n",
       "      <td>940</td>\n",
       "      <td>7811</td>\n",
       "      <td>1.0</td>\n",
       "      <td>0</td>\n",
       "      <td>0</td>\n",
       "      <td>...</td>\n",
       "      <td>6</td>\n",
       "      <td>940</td>\n",
       "      <td>0</td>\n",
       "      <td>1959</td>\n",
       "      <td>0</td>\n",
       "      <td>98008</td>\n",
       "      <td>47.6195</td>\n",
       "      <td>-122.118</td>\n",
       "      <td>1180</td>\n",
       "      <td>7490</td>\n",
       "    </tr>\n",
       "    <tr>\n",
       "      <th>14984</th>\n",
       "      <td>4136960010</td>\n",
       "      <td>20150327T000000</td>\n",
       "      <td>480000.0</td>\n",
       "      <td>5</td>\n",
       "      <td>3.50</td>\n",
       "      <td>3480</td>\n",
       "      <td>12821</td>\n",
       "      <td>2.0</td>\n",
       "      <td>0</td>\n",
       "      <td>2</td>\n",
       "      <td>...</td>\n",
       "      <td>10</td>\n",
       "      <td>2890</td>\n",
       "      <td>590</td>\n",
       "      <td>2004</td>\n",
       "      <td>0</td>\n",
       "      <td>98092</td>\n",
       "      <td>47.2641</td>\n",
       "      <td>-122.215</td>\n",
       "      <td>3400</td>\n",
       "      <td>9870</td>\n",
       "    </tr>\n",
       "  </tbody>\n",
       "</table>\n",
       "<p>151 rows × 21 columns</p>\n",
       "</div>"
      ],
      "text/plain": [
       "               id             date      price  bedrooms  bathrooms  \\\n",
       "12838  3296000040  20140923T000000   542000.0         3       2.50   \n",
       "12618  6617500085  20150422T000000   500000.0         4       2.50   \n",
       "4296   7116500705  20150129T000000   156000.0         2       1.00   \n",
       "9414   5700003630  20140630T000000  1925000.0         5       4.25   \n",
       "6914   6821600005  20150403T000000   710000.0         4       1.75   \n",
       "14298   923000120  20150408T000000   515000.0         3       1.50   \n",
       "15468  4202400078  20150128T000000   175000.0         2       1.00   \n",
       "14585  6672900220  20150112T000000   984000.0         4       2.25   \n",
       "16118  9432900250  20150309T000000   329990.0         4       2.75   \n",
       "20145  9264450460  20140603T000000   309000.0         5       2.75   \n",
       "5412    240000269  20150124T000000   530000.0         4       4.50   \n",
       "6355   4340000080  20150327T000000  1450000.0         4       3.50   \n",
       "11717  2185000685  20141124T000000   208417.0         2       1.00   \n",
       "6036   2770606890  20140807T000000   450000.0         4       1.75   \n",
       "21133  8562770080  20141030T000000   613000.0         3       3.25   \n",
       "20756  3057000400  20140708T000000   249000.0         2       1.50   \n",
       "20257  8924100372  20150423T000000  1302000.0         4       3.50   \n",
       "9526    396100110  20140516T000000   282613.0         2       1.00   \n",
       "9912   5153200358  20141029T000000   240000.0         5       1.75   \n",
       "13244   519000043  20140714T000000   602000.0         3       2.50   \n",
       "17385  1890000225  20140620T000000   725000.0         6       1.75   \n",
       "8918   9407001790  20140826T000000   290000.0         3       1.00   \n",
       "10534  7016310270  20150410T000000   467000.0         4       2.50   \n",
       "18636  6792100090  20140914T000000   683000.0         4       2.50   \n",
       "6052    624110020  20140925T000000   730000.0         3       3.00   \n",
       "4106   7701450110  20140815T000000  1038000.0         4       2.50   \n",
       "12626  2781270210  20150224T000000   209900.0         2       2.00   \n",
       "12909  3755200220  20140718T000000   334009.0         4       2.00   \n",
       "5513   9283800050  20140819T000000   575000.0         2       1.50   \n",
       "8149   3971700937  20140827T000000   270000.0         3       1.75   \n",
       "...           ...              ...        ...       ...        ...   \n",
       "1807   2025770560  20141103T000000   930000.0         4       4.25   \n",
       "9453   7215730040  20140515T000000   695000.0         4       3.00   \n",
       "6067   3275850020  20150413T000000   781000.0         4       2.50   \n",
       "383    8563040160  20150121T000000   560000.0         4       2.25   \n",
       "5714   9297300255  20140716T000000   565000.0         3       3.00   \n",
       "13585  5490700085  20140911T000000   340000.0         5       2.00   \n",
       "5512   1822069109  20140910T000000   485000.0         3       2.50   \n",
       "3910   8946700100  20141208T000000   408500.0         4       2.50   \n",
       "2020   3760500516  20140724T000000   835000.0         5       4.00   \n",
       "2830   7974200820  20140821T000000   865000.0         5       3.00   \n",
       "10069  1157200189  20140514T000000   356000.0         3       3.50   \n",
       "7201   6868200029  20140929T000000   467500.0         3       1.75   \n",
       "13809   263000155  20140505T000000   418000.0         3       2.00   \n",
       "17494  7431500280  20141110T000000   959750.0         4       3.00   \n",
       "2325   3634100030  20150109T000000   270000.0         4       2.00   \n",
       "19093  3345700165  20141202T000000   450000.0         3       2.25   \n",
       "14759   422049203  20141024T000000   239000.0         3       1.50   \n",
       "13438  8712100720  20140815T000000   785000.0         3       2.00   \n",
       "18769  8917100153  20140910T000000   585000.0         4       2.50   \n",
       "4954   8078700020  20140603T000000   474900.0         3       2.25   \n",
       "3125   5100401468  20140715T000000   448000.0         2       1.00   \n",
       "4821   9839301060  20150406T000000   650500.0         3       1.75   \n",
       "3018   2291401425  20140910T000000   485000.0         5       2.00   \n",
       "2851   9126100850  20141120T000000   534000.0         5       2.00   \n",
       "14358  8718500665  20140724T000000   375000.0         3       1.00   \n",
       "8288   9828200762  20140628T000000   650000.0         2       1.00   \n",
       "16941  2626119028  20150323T000000   160000.0         3       1.00   \n",
       "15473  6072400280  20140619T000000   619850.0         4       2.50   \n",
       "2350   3298201170  20141110T000000   350000.0         3       1.00   \n",
       "14984  4136960010  20150327T000000   480000.0         5       3.50   \n",
       "\n",
       "       sqft_living  sqft_lot  floors  waterfront  view  ...  grade  \\\n",
       "12838         1990     15985     1.0           0     0  ...      8   \n",
       "12618         2900      5760     1.0           0     0  ...      8   \n",
       "4296           920      5889     1.0           0     0  ...      6   \n",
       "9414          4830      8050     2.5           0     2  ...     11   \n",
       "6914          2120      5400     1.0           0     0  ...      8   \n",
       "14298         2200      7620     1.0           0     0  ...      7   \n",
       "15468         1410      7000     1.0           0     0  ...      7   \n",
       "14585         2390     12292     1.0           0     0  ...      9   \n",
       "16118         2420      8438     2.0           0     0  ...      8   \n",
       "20145         2481      4045     2.0           0     0  ...      8   \n",
       "5412          4060     10800     2.0           0     0  ...     10   \n",
       "6355          2820      7809     2.0           0     0  ...     10   \n",
       "11717          840      4200     1.0           0     0  ...      5   \n",
       "6036          1520      5250     1.0           0     0  ...      6   \n",
       "21133         2440      2812     2.0           0     0  ...      8   \n",
       "20756         1090      2686     2.0           0     0  ...      7   \n",
       "20257         3590      5334     2.0           0     2  ...      9   \n",
       "9526           830      6017     1.0           0     0  ...      6   \n",
       "9912          2460     16000     1.0           0     0  ...      7   \n",
       "13244         1640      3804     2.0           0     0  ...      8   \n",
       "17385         2380      4080     2.0           0     0  ...      8   \n",
       "8918          1010     10800     1.0           0     0  ...      7   \n",
       "10534         2220      7210     1.0           0     0  ...      7   \n",
       "18636         2620     10489     2.0           0     0  ...      9   \n",
       "6052          3460     13129     2.0           0     0  ...      9   \n",
       "4106          3770     10893     2.0           0     2  ...     11   \n",
       "12626         1180      3003     2.0           0     0  ...      6   \n",
       "12909         1650      9305     1.0           0     0  ...      6   \n",
       "5513          1750     19709     1.5           0     0  ...      8   \n",
       "8149          1260      7500     1.0           0     0  ...      6   \n",
       "...            ...       ...     ...         ...   ...  ...    ...   \n",
       "1807          5710     24663     2.0           0     0  ...     11   \n",
       "9453          3150      9130     2.0           0     0  ...      9   \n",
       "6067          2590      8571     2.0           0     0  ...      9   \n",
       "383           2550      7800     1.0           0     0  ...      8   \n",
       "5714          2110      4000     1.0           0     2  ...      7   \n",
       "13585         1750      8220     1.0           0     0  ...      7   \n",
       "5512          2540     51836     1.0           0     0  ...      8   \n",
       "3910          2720      7043     2.0           0     0  ...      9   \n",
       "2020          3600     14720     1.0           0     2  ...      8   \n",
       "2830          2900      6730     1.0           0     0  ...      8   \n",
       "10069         2100     12384     2.0           0     0  ...      9   \n",
       "7201          2260      8512     1.0           0     0  ...      7   \n",
       "13809         1410      6030     1.5           0     0  ...      7   \n",
       "17494         3060     50002     1.0           0     2  ...      8   \n",
       "2325          1830      5220     1.5           0     0  ...      7   \n",
       "19093         2530     27227     2.0           0     0  ...      8   \n",
       "14759         1330      6540     1.0           0     0  ...      7   \n",
       "13438         2090      5015     1.5           0     0  ...      7   \n",
       "18769         2370     15200     1.0           0     0  ...      8   \n",
       "4954          1800     43647     1.0           0     0  ...      8   \n",
       "3125          1110      5413     1.0           0     0  ...      6   \n",
       "4821          1740      4400     1.5           0     0  ...      8   \n",
       "3018          1910      5508     1.0           0     0  ...      7   \n",
       "2851          2280      3600     2.0           0     0  ...      7   \n",
       "14358         1610     11250     1.0           0     0  ...      7   \n",
       "8288          1050      2542     1.0           0     0  ...      7   \n",
       "16941         1140      3240     1.5           0     0  ...      6   \n",
       "15473         2270      9247     1.0           0     0  ...      8   \n",
       "2350           940      7811     1.0           0     0  ...      6   \n",
       "14984         3480     12821     2.0           0     2  ...     10   \n",
       "\n",
       "       sqft_above  sqft_basement  yr_built  yr_renovated  zipcode      lat  \\\n",
       "12838        1540            450      1964             0    98007  47.6205   \n",
       "12618        1660           1240      1959             0    98118  47.5500   \n",
       "4296          920              0      1950             0    98002  47.3012   \n",
       "9414         3710           1120      1914             0    98144  47.5789   \n",
       "6914         1060           1060      1941             0    98199  47.6501   \n",
       "14298        1130           1070      1942             0    98177  47.7263   \n",
       "15468        1410              0      1968             0    98055  47.4908   \n",
       "14585        2390              0      1962             0    98040  47.5528   \n",
       "16118        2420              0      1997             0    98022  47.2089   \n",
       "20145        2481              0      2014             0    98001  47.2602   \n",
       "5412         4060              0      2007             0    98188  47.4241   \n",
       "6355         2820              0      1995             0    98004  47.6220   \n",
       "11717         840              0      1938             0    98108  47.5292   \n",
       "6036         1520              0      1949             0    98199  47.6581   \n",
       "21133        1710            730      2005             0    98027  47.5362   \n",
       "20756        1090              0      1982             0    98034  47.7170   \n",
       "20257        3140            450      2006             0    98115  47.6763   \n",
       "9526          830              0      1954             0    98133  47.7466   \n",
       "9912         1230           1230      1957             0    98023  47.3305   \n",
       "13244        1640              0      1998             0    98122  47.6103   \n",
       "17385        2380              0      1917             0    98105  47.6629   \n",
       "8918         1010              0      1972             0    98045  47.4483   \n",
       "10534        1270            950      1973             0    98011  47.7428   \n",
       "18636        2620              0      1990             0    98052  47.6732   \n",
       "6052         2560            900      1988             0    98077  47.7315   \n",
       "4106         3770              0      1997             0    98006  47.5646   \n",
       "12626        1180              0      2005             0    98038  47.3491   \n",
       "12909        1650              0      1960             0    98034  47.7183   \n",
       "5513         1440            310      1978             0    98010  47.3351   \n",
       "8149          840            420      1947             0    98155  47.7720   \n",
       "...           ...            ...       ...           ...      ...      ...   \n",
       "1807         5710              0      2007             0    98092  47.3065   \n",
       "9453         3150              0      2001             0    98075  47.5974   \n",
       "6067         2590              0      1988             0    98052  47.6910   \n",
       "383          1580            970      1968             0    98052  47.6283   \n",
       "5714         1110           1000      1965             0    98126  47.5696   \n",
       "13585        1750              0      1956             0    98155  47.7694   \n",
       "5512         1820            720      1976             0    98042  47.3890   \n",
       "3910         2720              0      2003             0    98092  47.3315   \n",
       "2020         1800           1800      1960             0    98034  47.7022   \n",
       "2830         1830           1070      1977             0    98115  47.6784   \n",
       "10069        2100              0      1980             0    98188  47.4687   \n",
       "7201         1130           1130      1948             0    98125  47.7129   \n",
       "13809        1410              0      1930             0    98103  47.6994   \n",
       "17494        2460            600      1957             0    98008  47.6205   \n",
       "2325         1830              0      1951             0    98118  47.5331   \n",
       "19093        2530              0      1987             0    98056  47.5270   \n",
       "14759         900            430      1971             0    98188  47.4239   \n",
       "13438        2090              0      1920             0    98112  47.6378   \n",
       "18769        1660            710      1975             0    98052  47.6295   \n",
       "4954         1800              0      1976             0    98072  47.7757   \n",
       "3125          890            220      1937             0    98115  47.6925   \n",
       "4821         1740              0      1903             0    98122  47.6115   \n",
       "3018         1020            890      1968             0    98133  47.7074   \n",
       "2851         2280              0      1992             0    98122  47.6056   \n",
       "14358        1090            520      1975             0    98028  47.7391   \n",
       "8288          880            170      1904             0    98122  47.6172   \n",
       "16941        1140              0      1910             0    98014  47.7093   \n",
       "15473        1500            770      1972             0    98006  47.5602   \n",
       "2350          940              0      1959             0    98008  47.6195   \n",
       "14984        2890            590      2004             0    98092  47.2641   \n",
       "\n",
       "          long  sqft_living15  sqft_lot15  \n",
       "12838 -122.141           2470       10125  \n",
       "12618 -122.272           2250        6098  \n",
       "4296  -122.218           1210        6180  \n",
       "9414  -122.286           4470        9194  \n",
       "6914  -122.395           2052        6000  \n",
       "14298 -122.363           2170        7672  \n",
       "15468 -122.223           1540        6000  \n",
       "14585 -122.221           2870       12337  \n",
       "16118 -122.011           2270        8770  \n",
       "20145 -122.284           2363        4175  \n",
       "5412  -122.290           1830        9768  \n",
       "6355  -122.195           2630        7904  \n",
       "11717 -122.316            830        5000  \n",
       "6036  -122.390           1530        5250  \n",
       "21133 -122.072           2440        2836  \n",
       "20756 -122.190           1160        2158  \n",
       "20257 -122.267           2100        6250  \n",
       "9526  -122.334           1340        6040  \n",
       "9912  -122.351           1990       16000  \n",
       "13244 -122.300           1440        3230  \n",
       "17385 -122.325           2030        4080  \n",
       "8918  -121.773           1370        9500  \n",
       "10534 -122.183           2220        7313  \n",
       "18636 -122.143           2430        7701  \n",
       "6052  -122.058           3460       12568  \n",
       "4106  -122.129           3710        9685  \n",
       "12626 -122.020           1310        3003  \n",
       "12909 -122.213           1860        7486  \n",
       "5513  -122.044           1950       21075  \n",
       "8149  -122.323           1340        7500  \n",
       "...        ...            ...         ...  \n",
       "1807  -122.158           4060       23847  \n",
       "9453  -122.017           2970        6228  \n",
       "6067  -122.105           2360        8155  \n",
       "383   -122.095           2420        8050  \n",
       "5714  -122.375           1730        4000  \n",
       "13585 -122.321           1210        6760  \n",
       "5512  -122.088           1650       51836  \n",
       "3910  -122.169           2640        6958  \n",
       "2020  -122.227           3600       15358  \n",
       "2830  -122.285           2370        6283  \n",
       "10069 -122.263           2400        7776  \n",
       "7201  -122.304           2240        8040  \n",
       "13809 -122.347           1410        6300  \n",
       "17494 -122.096           2740       16181  \n",
       "2325  -122.278           1760        5757  \n",
       "19093 -122.193           2160       30192  \n",
       "14759 -122.292           1400       11500  \n",
       "13438 -122.301           1930        4250  \n",
       "18769 -122.089           2360       13879  \n",
       "4954  -122.132           2480       25608  \n",
       "3125  -122.320           1300        5413  \n",
       "4821  -122.292           1740        4400  \n",
       "3018  -122.349           1030        7440  \n",
       "2851  -122.305           1740        1800  \n",
       "14358 -122.256           2040       10692  \n",
       "8288  -122.298           1620        1809  \n",
       "16941 -121.364           1140        4700  \n",
       "15473 -122.176           2270        9163  \n",
       "2350  -122.118           1180        7490  \n",
       "14984 -122.215           3400        9870  \n",
       "\n",
       "[151 rows x 21 columns]"
      ]
     },
     "execution_count": 25,
     "metadata": {},
     "output_type": "execute_result"
    }
   ],
   "source": [
    "import pandas as pd\n",
    "import numpy as np\n",
    "from sklearn import linear_model\n",
    "from sklearn.model_selection import train_test_split\n",
    "\n",
    "df = pd.read_csv('kc_house_data.csv')\n",
    "df = df.sample(frac=0.01, random_state=42) # carico solo l'1% del dataset originale\n",
    "\n",
    "[dfTrain, dfTest] = train_test_split(df, test_size=0.3, random_state=42) # la dimensione del test set è il 30% del dataset \n",
    "\n",
    "# Visualizziamo come è fatto il dataset\n",
    "print('Training dataset:')\n",
    "dfTrain"
   ]
  },
  {
   "cell_type": "markdown",
   "metadata": {},
   "source": [
    "### 2.1\n",
    "Utilizzando il dataset di training ``dfTrain`` caricato prima, costruite un modello di regressione lineare semplice che spieghi la relazione tra la variabile target *price* (prezzo di vendita in $) e la variabile esplicativa *sqft_living* (dimensione dell'abitazione in ``square feet``). \n",
    "\n",
    "Nello specifico, si eseguano i seguenti punti:\n",
    "- Generate lo scatter plot delle osservazioni. Notate una relazione tra la variabile esplicativa e la variabile target? \n",
    "- Calcolate i parametri del modello di regressione lineare ``y=x*w+b``(Hint: usare i comandi del pacchetto scikit-learn)\n",
    "- Disegnare in un unico grafico lo scatter plot delle osservazioni del trainig set e la retta di regressione.\n",
    "- Calcolate il valore della funzione ``y = x*w+b`` per ogni valore di x del training set e del test set (Hint: usate il comando ``predict``). Si plottino, in 2 figure separate, i residui sul training test e sul test set.\n",
    "- Calcolate il coeffiente di determinazione ``R^2``e il SSE sia sul training set che sul test set. \n",
    "\n",
    "Nota: Si esegua la cella sotto per estrarre dal dataset di training e test la variabile target *price* e la variabile esplicativa *sqft_living*"
   ]
  },
  {
   "cell_type": "code",
   "execution_count": 28,
   "metadata": {},
   "outputs": [
    {
     "name": "stdout",
     "output_type": "stream",
     "text": [
      "Length of training dataset: 151\n",
      "Length of test dataset: 65\n"
     ]
    }
   ],
   "source": [
    "# Carichiamo le variabili che ci interessano\n",
    "\n",
    "#variabile targer\n",
    "yTrain = dfTrain['price'].values\n",
    "#variabile esplicativa\n",
    "xTrain = dfTrain['sqft_living'].values\n",
    "\n",
    "yTest = dfTest['price'].values\n",
    "xTest = dfTest['sqft_living'].values\n",
    "\n",
    "print(f\"Length of training dataset: {len(yTrain)}\")\n",
    "print(f\"Length of test dataset: {len(yTest)}\")\n",
    "\n",
    "\n",
    "# Facciamo il reshape delle variabili esplicative per avere array di dimensione 2 con m righe e 1 colonna\n",
    "mTrain = len(xTrain)\n",
    "mTest = len(xTest)\n",
    "\n",
    "xTrain = np.reshape(xTrain,(mTrain,1))\n",
    "xTest = np.reshape(xTest,(mTest,1))"
   ]
  },
  {
   "cell_type": "code",
   "execution_count": 30,
   "metadata": {},
   "outputs": [
    {
     "data": {
      "text/html": [
       "        <script type=\"text/javascript\">\n",
       "        window.PlotlyConfig = {MathJaxConfig: 'local'};\n",
       "        if (window.MathJax) {MathJax.Hub.Config({SVG: {font: \"STIX-Web\"}});}\n",
       "        if (typeof require !== 'undefined') {\n",
       "        require.undef(\"plotly\");\n",
       "        requirejs.config({\n",
       "            paths: {\n",
       "                'plotly': ['https://cdn.plot.ly/plotly-latest.min']\n",
       "            }\n",
       "        });\n",
       "        require(['plotly'], function(Plotly) {\n",
       "            window._Plotly = Plotly;\n",
       "        });\n",
       "        }\n",
       "        </script>\n",
       "        "
      ]
     },
     "metadata": {},
     "output_type": "display_data"
    },
    {
     "data": {
      "application/vnd.plotly.v1+json": {
       "config": {
        "linkText": "Export to plot.ly",
        "plotlyServerURL": "https://plot.ly",
        "showLink": false
       },
       "data": [
        {
         "mode": "markers",
         "type": "scatter",
         "x": [
          1990,
          2900,
          920,
          4830,
          2120,
          2200,
          1410,
          2390,
          2420,
          2481,
          4060,
          2820,
          840,
          1520,
          2440,
          1090,
          3590,
          830,
          2460,
          1640,
          2380,
          1010,
          2220,
          2620,
          3460,
          3770,
          1180,
          1650,
          1750,
          1260,
          1540,
          3270,
          1280,
          3920,
          1040,
          1129,
          2590,
          2830,
          1240,
          1640,
          1930,
          1680,
          1520,
          2690,
          520,
          2970,
          1460,
          3180,
          2550,
          1850,
          4120,
          2230,
          2800,
          2330,
          1430,
          1830,
          1290,
          1140,
          2630,
          1600,
          2070,
          1060,
          1347,
          2000,
          970,
          1460,
          1010,
          2120,
          2260,
          910,
          2790,
          1610,
          3680,
          1790,
          4285,
          1270,
          1540,
          1580,
          1330,
          1650,
          1710,
          5860,
          4560,
          1700,
          1560,
          3540,
          1520,
          2160,
          1410,
          2290,
          2160,
          1340,
          1800,
          1120,
          2050,
          1500,
          3220,
          1970,
          1140,
          1600,
          1960,
          2790,
          2980,
          2160,
          4360,
          850,
          1670,
          1810,
          1390,
          1590,
          2400,
          2290,
          1300,
          2080,
          1630,
          1530,
          2200,
          2560,
          1620,
          1510,
          1180,
          5710,
          3150,
          2590,
          2550,
          2110,
          1750,
          2540,
          2720,
          3600,
          2900,
          2100,
          2260,
          1410,
          3060,
          1830,
          2530,
          1330,
          2090,
          2370,
          1800,
          1110,
          1740,
          1910,
          2280,
          1610,
          1050,
          1140,
          2270,
          940,
          3480
         ],
         "y": [
          542000,
          500000,
          156000,
          1925000,
          710000,
          515000,
          175000,
          984000,
          329990,
          309000,
          530000,
          1450000,
          208417,
          450000,
          613000,
          249000,
          1302000,
          282613,
          240000,
          602000,
          725000,
          290000,
          467000,
          683000,
          730000,
          1038000,
          209900,
          334009,
          575000,
          270000,
          252000,
          560000,
          309000,
          827500,
          411100,
          330000,
          920000,
          710000,
          476900,
          250000,
          385000,
          347000,
          320000,
          790000,
          275000,
          829000,
          180000,
          340000,
          711000,
          605000,
          863000,
          699950,
          665000,
          690000,
          345000,
          638000,
          265000,
          197200,
          1297000,
          280000,
          365000,
          310000,
          321000,
          320000,
          209500,
          312000,
          310000,
          518500,
          514000,
          223000,
          560000,
          268000,
          595000,
          392000,
          1890000,
          531000,
          500000,
          495000,
          375000,
          400000,
          362500,
          1750000,
          1490000,
          250000,
          525000,
          800000,
          535000,
          440000,
          410000,
          685000,
          856000,
          330000,
          680000,
          316000,
          455000,
          230000,
          558000,
          432000,
          540000,
          384500,
          365000,
          695000,
          330000,
          410000,
          795127,
          298000,
          985000,
          503500,
          275000,
          305000,
          675000,
          630000,
          675000,
          589950,
          327000,
          500000,
          585000,
          350000,
          350000,
          441500,
          447500,
          930000,
          695000,
          781000,
          560000,
          565000,
          340000,
          485000,
          408500,
          835000,
          865000,
          356000,
          467500,
          418000,
          959750,
          270000,
          450000,
          239000,
          785000,
          585000,
          474900,
          448000,
          650500,
          485000,
          534000,
          375000,
          650000,
          160000,
          619850,
          350000,
          480000
         ]
        }
       ],
       "layout": {
        "template": {
         "data": {
          "bar": [
           {
            "error_x": {
             "color": "#2a3f5f"
            },
            "error_y": {
             "color": "#2a3f5f"
            },
            "marker": {
             "line": {
              "color": "#E5ECF6",
              "width": 0.5
             }
            },
            "type": "bar"
           }
          ],
          "barpolar": [
           {
            "marker": {
             "line": {
              "color": "#E5ECF6",
              "width": 0.5
             }
            },
            "type": "barpolar"
           }
          ],
          "carpet": [
           {
            "aaxis": {
             "endlinecolor": "#2a3f5f",
             "gridcolor": "white",
             "linecolor": "white",
             "minorgridcolor": "white",
             "startlinecolor": "#2a3f5f"
            },
            "baxis": {
             "endlinecolor": "#2a3f5f",
             "gridcolor": "white",
             "linecolor": "white",
             "minorgridcolor": "white",
             "startlinecolor": "#2a3f5f"
            },
            "type": "carpet"
           }
          ],
          "choropleth": [
           {
            "colorbar": {
             "outlinewidth": 0,
             "ticks": ""
            },
            "type": "choropleth"
           }
          ],
          "contour": [
           {
            "colorbar": {
             "outlinewidth": 0,
             "ticks": ""
            },
            "colorscale": [
             [
              0,
              "#0d0887"
             ],
             [
              0.1111111111111111,
              "#46039f"
             ],
             [
              0.2222222222222222,
              "#7201a8"
             ],
             [
              0.3333333333333333,
              "#9c179e"
             ],
             [
              0.4444444444444444,
              "#bd3786"
             ],
             [
              0.5555555555555556,
              "#d8576b"
             ],
             [
              0.6666666666666666,
              "#ed7953"
             ],
             [
              0.7777777777777778,
              "#fb9f3a"
             ],
             [
              0.8888888888888888,
              "#fdca26"
             ],
             [
              1,
              "#f0f921"
             ]
            ],
            "type": "contour"
           }
          ],
          "contourcarpet": [
           {
            "colorbar": {
             "outlinewidth": 0,
             "ticks": ""
            },
            "type": "contourcarpet"
           }
          ],
          "heatmap": [
           {
            "colorbar": {
             "outlinewidth": 0,
             "ticks": ""
            },
            "colorscale": [
             [
              0,
              "#0d0887"
             ],
             [
              0.1111111111111111,
              "#46039f"
             ],
             [
              0.2222222222222222,
              "#7201a8"
             ],
             [
              0.3333333333333333,
              "#9c179e"
             ],
             [
              0.4444444444444444,
              "#bd3786"
             ],
             [
              0.5555555555555556,
              "#d8576b"
             ],
             [
              0.6666666666666666,
              "#ed7953"
             ],
             [
              0.7777777777777778,
              "#fb9f3a"
             ],
             [
              0.8888888888888888,
              "#fdca26"
             ],
             [
              1,
              "#f0f921"
             ]
            ],
            "type": "heatmap"
           }
          ],
          "heatmapgl": [
           {
            "colorbar": {
             "outlinewidth": 0,
             "ticks": ""
            },
            "colorscale": [
             [
              0,
              "#0d0887"
             ],
             [
              0.1111111111111111,
              "#46039f"
             ],
             [
              0.2222222222222222,
              "#7201a8"
             ],
             [
              0.3333333333333333,
              "#9c179e"
             ],
             [
              0.4444444444444444,
              "#bd3786"
             ],
             [
              0.5555555555555556,
              "#d8576b"
             ],
             [
              0.6666666666666666,
              "#ed7953"
             ],
             [
              0.7777777777777778,
              "#fb9f3a"
             ],
             [
              0.8888888888888888,
              "#fdca26"
             ],
             [
              1,
              "#f0f921"
             ]
            ],
            "type": "heatmapgl"
           }
          ],
          "histogram": [
           {
            "marker": {
             "colorbar": {
              "outlinewidth": 0,
              "ticks": ""
             }
            },
            "type": "histogram"
           }
          ],
          "histogram2d": [
           {
            "colorbar": {
             "outlinewidth": 0,
             "ticks": ""
            },
            "colorscale": [
             [
              0,
              "#0d0887"
             ],
             [
              0.1111111111111111,
              "#46039f"
             ],
             [
              0.2222222222222222,
              "#7201a8"
             ],
             [
              0.3333333333333333,
              "#9c179e"
             ],
             [
              0.4444444444444444,
              "#bd3786"
             ],
             [
              0.5555555555555556,
              "#d8576b"
             ],
             [
              0.6666666666666666,
              "#ed7953"
             ],
             [
              0.7777777777777778,
              "#fb9f3a"
             ],
             [
              0.8888888888888888,
              "#fdca26"
             ],
             [
              1,
              "#f0f921"
             ]
            ],
            "type": "histogram2d"
           }
          ],
          "histogram2dcontour": [
           {
            "colorbar": {
             "outlinewidth": 0,
             "ticks": ""
            },
            "colorscale": [
             [
              0,
              "#0d0887"
             ],
             [
              0.1111111111111111,
              "#46039f"
             ],
             [
              0.2222222222222222,
              "#7201a8"
             ],
             [
              0.3333333333333333,
              "#9c179e"
             ],
             [
              0.4444444444444444,
              "#bd3786"
             ],
             [
              0.5555555555555556,
              "#d8576b"
             ],
             [
              0.6666666666666666,
              "#ed7953"
             ],
             [
              0.7777777777777778,
              "#fb9f3a"
             ],
             [
              0.8888888888888888,
              "#fdca26"
             ],
             [
              1,
              "#f0f921"
             ]
            ],
            "type": "histogram2dcontour"
           }
          ],
          "mesh3d": [
           {
            "colorbar": {
             "outlinewidth": 0,
             "ticks": ""
            },
            "type": "mesh3d"
           }
          ],
          "parcoords": [
           {
            "line": {
             "colorbar": {
              "outlinewidth": 0,
              "ticks": ""
             }
            },
            "type": "parcoords"
           }
          ],
          "scatter": [
           {
            "marker": {
             "colorbar": {
              "outlinewidth": 0,
              "ticks": ""
             }
            },
            "type": "scatter"
           }
          ],
          "scatter3d": [
           {
            "line": {
             "colorbar": {
              "outlinewidth": 0,
              "ticks": ""
             }
            },
            "marker": {
             "colorbar": {
              "outlinewidth": 0,
              "ticks": ""
             }
            },
            "type": "scatter3d"
           }
          ],
          "scattercarpet": [
           {
            "marker": {
             "colorbar": {
              "outlinewidth": 0,
              "ticks": ""
             }
            },
            "type": "scattercarpet"
           }
          ],
          "scattergeo": [
           {
            "marker": {
             "colorbar": {
              "outlinewidth": 0,
              "ticks": ""
             }
            },
            "type": "scattergeo"
           }
          ],
          "scattergl": [
           {
            "marker": {
             "colorbar": {
              "outlinewidth": 0,
              "ticks": ""
             }
            },
            "type": "scattergl"
           }
          ],
          "scattermapbox": [
           {
            "marker": {
             "colorbar": {
              "outlinewidth": 0,
              "ticks": ""
             }
            },
            "type": "scattermapbox"
           }
          ],
          "scatterpolar": [
           {
            "marker": {
             "colorbar": {
              "outlinewidth": 0,
              "ticks": ""
             }
            },
            "type": "scatterpolar"
           }
          ],
          "scatterpolargl": [
           {
            "marker": {
             "colorbar": {
              "outlinewidth": 0,
              "ticks": ""
             }
            },
            "type": "scatterpolargl"
           }
          ],
          "scatterternary": [
           {
            "marker": {
             "colorbar": {
              "outlinewidth": 0,
              "ticks": ""
             }
            },
            "type": "scatterternary"
           }
          ],
          "surface": [
           {
            "colorbar": {
             "outlinewidth": 0,
             "ticks": ""
            },
            "colorscale": [
             [
              0,
              "#0d0887"
             ],
             [
              0.1111111111111111,
              "#46039f"
             ],
             [
              0.2222222222222222,
              "#7201a8"
             ],
             [
              0.3333333333333333,
              "#9c179e"
             ],
             [
              0.4444444444444444,
              "#bd3786"
             ],
             [
              0.5555555555555556,
              "#d8576b"
             ],
             [
              0.6666666666666666,
              "#ed7953"
             ],
             [
              0.7777777777777778,
              "#fb9f3a"
             ],
             [
              0.8888888888888888,
              "#fdca26"
             ],
             [
              1,
              "#f0f921"
             ]
            ],
            "type": "surface"
           }
          ],
          "table": [
           {
            "cells": {
             "fill": {
              "color": "#EBF0F8"
             },
             "line": {
              "color": "white"
             }
            },
            "header": {
             "fill": {
              "color": "#C8D4E3"
             },
             "line": {
              "color": "white"
             }
            },
            "type": "table"
           }
          ]
         },
         "layout": {
          "annotationdefaults": {
           "arrowcolor": "#2a3f5f",
           "arrowhead": 0,
           "arrowwidth": 1
          },
          "colorscale": {
           "diverging": [
            [
             0,
             "#8e0152"
            ],
            [
             0.1,
             "#c51b7d"
            ],
            [
             0.2,
             "#de77ae"
            ],
            [
             0.3,
             "#f1b6da"
            ],
            [
             0.4,
             "#fde0ef"
            ],
            [
             0.5,
             "#f7f7f7"
            ],
            [
             0.6,
             "#e6f5d0"
            ],
            [
             0.7,
             "#b8e186"
            ],
            [
             0.8,
             "#7fbc41"
            ],
            [
             0.9,
             "#4d9221"
            ],
            [
             1,
             "#276419"
            ]
           ],
           "sequential": [
            [
             0,
             "#0d0887"
            ],
            [
             0.1111111111111111,
             "#46039f"
            ],
            [
             0.2222222222222222,
             "#7201a8"
            ],
            [
             0.3333333333333333,
             "#9c179e"
            ],
            [
             0.4444444444444444,
             "#bd3786"
            ],
            [
             0.5555555555555556,
             "#d8576b"
            ],
            [
             0.6666666666666666,
             "#ed7953"
            ],
            [
             0.7777777777777778,
             "#fb9f3a"
            ],
            [
             0.8888888888888888,
             "#fdca26"
            ],
            [
             1,
             "#f0f921"
            ]
           ],
           "sequentialminus": [
            [
             0,
             "#0d0887"
            ],
            [
             0.1111111111111111,
             "#46039f"
            ],
            [
             0.2222222222222222,
             "#7201a8"
            ],
            [
             0.3333333333333333,
             "#9c179e"
            ],
            [
             0.4444444444444444,
             "#bd3786"
            ],
            [
             0.5555555555555556,
             "#d8576b"
            ],
            [
             0.6666666666666666,
             "#ed7953"
            ],
            [
             0.7777777777777778,
             "#fb9f3a"
            ],
            [
             0.8888888888888888,
             "#fdca26"
            ],
            [
             1,
             "#f0f921"
            ]
           ]
          },
          "colorway": [
           "#636efa",
           "#EF553B",
           "#00cc96",
           "#ab63fa",
           "#FFA15A",
           "#19d3f3",
           "#FF6692",
           "#B6E880",
           "#FF97FF",
           "#FECB52"
          ],
          "font": {
           "color": "#2a3f5f"
          },
          "geo": {
           "bgcolor": "white",
           "lakecolor": "white",
           "landcolor": "#E5ECF6",
           "showlakes": true,
           "showland": true,
           "subunitcolor": "white"
          },
          "hoverlabel": {
           "align": "left"
          },
          "hovermode": "closest",
          "mapbox": {
           "style": "light"
          },
          "paper_bgcolor": "white",
          "plot_bgcolor": "#E5ECF6",
          "polar": {
           "angularaxis": {
            "gridcolor": "white",
            "linecolor": "white",
            "ticks": ""
           },
           "bgcolor": "#E5ECF6",
           "radialaxis": {
            "gridcolor": "white",
            "linecolor": "white",
            "ticks": ""
           }
          },
          "scene": {
           "xaxis": {
            "backgroundcolor": "#E5ECF6",
            "gridcolor": "white",
            "gridwidth": 2,
            "linecolor": "white",
            "showbackground": true,
            "ticks": "",
            "zerolinecolor": "white"
           },
           "yaxis": {
            "backgroundcolor": "#E5ECF6",
            "gridcolor": "white",
            "gridwidth": 2,
            "linecolor": "white",
            "showbackground": true,
            "ticks": "",
            "zerolinecolor": "white"
           },
           "zaxis": {
            "backgroundcolor": "#E5ECF6",
            "gridcolor": "white",
            "gridwidth": 2,
            "linecolor": "white",
            "showbackground": true,
            "ticks": "",
            "zerolinecolor": "white"
           }
          },
          "shapedefaults": {
           "line": {
            "color": "#2a3f5f"
           }
          },
          "ternary": {
           "aaxis": {
            "gridcolor": "white",
            "linecolor": "white",
            "ticks": ""
           },
           "baxis": {
            "gridcolor": "white",
            "linecolor": "white",
            "ticks": ""
           },
           "bgcolor": "#E5ECF6",
           "caxis": {
            "gridcolor": "white",
            "linecolor": "white",
            "ticks": ""
           }
          },
          "title": {
           "x": 0.05
          },
          "xaxis": {
           "automargin": true,
           "gridcolor": "white",
           "linecolor": "white",
           "ticks": "",
           "zerolinecolor": "white",
           "zerolinewidth": 2
          },
          "yaxis": {
           "automargin": true,
           "gridcolor": "white",
           "linecolor": "white",
           "ticks": "",
           "zerolinecolor": "white",
           "zerolinewidth": 2
          }
         }
        }
       }
      },
      "text/html": [
       "<div>\n",
       "        \n",
       "        \n",
       "            <div id=\"678b93f8-fe63-4aee-bd81-a83d85f1c0c7\" class=\"plotly-graph-div\" style=\"height:525px; width:100%;\"></div>\n",
       "            <script type=\"text/javascript\">\n",
       "                require([\"plotly\"], function(Plotly) {\n",
       "                    window.PLOTLYENV=window.PLOTLYENV || {};\n",
       "                    \n",
       "                if (document.getElementById(\"678b93f8-fe63-4aee-bd81-a83d85f1c0c7\")) {\n",
       "                    Plotly.newPlot(\n",
       "                        '678b93f8-fe63-4aee-bd81-a83d85f1c0c7',\n",
       "                        [{\"mode\": \"markers\", \"type\": \"scatter\", \"x\": [1990, 2900, 920, 4830, 2120, 2200, 1410, 2390, 2420, 2481, 4060, 2820, 840, 1520, 2440, 1090, 3590, 830, 2460, 1640, 2380, 1010, 2220, 2620, 3460, 3770, 1180, 1650, 1750, 1260, 1540, 3270, 1280, 3920, 1040, 1129, 2590, 2830, 1240, 1640, 1930, 1680, 1520, 2690, 520, 2970, 1460, 3180, 2550, 1850, 4120, 2230, 2800, 2330, 1430, 1830, 1290, 1140, 2630, 1600, 2070, 1060, 1347, 2000, 970, 1460, 1010, 2120, 2260, 910, 2790, 1610, 3680, 1790, 4285, 1270, 1540, 1580, 1330, 1650, 1710, 5860, 4560, 1700, 1560, 3540, 1520, 2160, 1410, 2290, 2160, 1340, 1800, 1120, 2050, 1500, 3220, 1970, 1140, 1600, 1960, 2790, 2980, 2160, 4360, 850, 1670, 1810, 1390, 1590, 2400, 2290, 1300, 2080, 1630, 1530, 2200, 2560, 1620, 1510, 1180, 5710, 3150, 2590, 2550, 2110, 1750, 2540, 2720, 3600, 2900, 2100, 2260, 1410, 3060, 1830, 2530, 1330, 2090, 2370, 1800, 1110, 1740, 1910, 2280, 1610, 1050, 1140, 2270, 940, 3480], \"y\": [542000.0, 500000.0, 156000.0, 1925000.0, 710000.0, 515000.0, 175000.0, 984000.0, 329990.0, 309000.0, 530000.0, 1450000.0, 208417.0, 450000.0, 613000.0, 249000.0, 1302000.0, 282613.0, 240000.0, 602000.0, 725000.0, 290000.0, 467000.0, 683000.0, 730000.0, 1038000.0, 209900.0, 334009.0, 575000.0, 270000.0, 252000.0, 560000.0, 309000.0, 827500.0, 411100.0, 330000.0, 920000.0, 710000.0, 476900.0, 250000.0, 385000.0, 347000.0, 320000.0, 790000.0, 275000.0, 829000.0, 180000.0, 340000.0, 711000.0, 605000.0, 863000.0, 699950.0, 665000.0, 690000.0, 345000.0, 638000.0, 265000.0, 197200.0, 1297000.0, 280000.0, 365000.0, 310000.0, 321000.0, 320000.0, 209500.0, 312000.0, 310000.0, 518500.0, 514000.0, 223000.0, 560000.0, 268000.0, 595000.0, 392000.0, 1890000.0, 531000.0, 500000.0, 495000.0, 375000.0, 400000.0, 362500.0, 1750000.0, 1490000.0, 250000.0, 525000.0, 800000.0, 535000.0, 440000.0, 410000.0, 685000.0, 856000.0, 330000.0, 680000.0, 316000.0, 455000.0, 230000.0, 558000.0, 432000.0, 540000.0, 384500.0, 365000.0, 695000.0, 330000.0, 410000.0, 795127.0, 298000.0, 985000.0, 503500.0, 275000.0, 305000.0, 675000.0, 630000.0, 675000.0, 589950.0, 327000.0, 500000.0, 585000.0, 350000.0, 350000.0, 441500.0, 447500.0, 930000.0, 695000.0, 781000.0, 560000.0, 565000.0, 340000.0, 485000.0, 408500.0, 835000.0, 865000.0, 356000.0, 467500.0, 418000.0, 959750.0, 270000.0, 450000.0, 239000.0, 785000.0, 585000.0, 474900.0, 448000.0, 650500.0, 485000.0, 534000.0, 375000.0, 650000.0, 160000.0, 619850.0, 350000.0, 480000.0]}],\n",
       "                        {\"template\": {\"data\": {\"bar\": [{\"error_x\": {\"color\": \"#2a3f5f\"}, \"error_y\": {\"color\": \"#2a3f5f\"}, \"marker\": {\"line\": {\"color\": \"#E5ECF6\", \"width\": 0.5}}, \"type\": \"bar\"}], \"barpolar\": [{\"marker\": {\"line\": {\"color\": \"#E5ECF6\", \"width\": 0.5}}, \"type\": \"barpolar\"}], \"carpet\": [{\"aaxis\": {\"endlinecolor\": \"#2a3f5f\", \"gridcolor\": \"white\", \"linecolor\": \"white\", \"minorgridcolor\": \"white\", \"startlinecolor\": \"#2a3f5f\"}, \"baxis\": {\"endlinecolor\": \"#2a3f5f\", \"gridcolor\": \"white\", \"linecolor\": \"white\", \"minorgridcolor\": \"white\", \"startlinecolor\": \"#2a3f5f\"}, \"type\": \"carpet\"}], \"choropleth\": [{\"colorbar\": {\"outlinewidth\": 0, \"ticks\": \"\"}, \"type\": \"choropleth\"}], \"contour\": [{\"colorbar\": {\"outlinewidth\": 0, \"ticks\": \"\"}, \"colorscale\": [[0.0, \"#0d0887\"], [0.1111111111111111, \"#46039f\"], [0.2222222222222222, \"#7201a8\"], [0.3333333333333333, \"#9c179e\"], [0.4444444444444444, \"#bd3786\"], [0.5555555555555556, \"#d8576b\"], [0.6666666666666666, \"#ed7953\"], [0.7777777777777778, \"#fb9f3a\"], [0.8888888888888888, \"#fdca26\"], [1.0, \"#f0f921\"]], \"type\": \"contour\"}], \"contourcarpet\": [{\"colorbar\": {\"outlinewidth\": 0, \"ticks\": \"\"}, \"type\": \"contourcarpet\"}], \"heatmap\": [{\"colorbar\": {\"outlinewidth\": 0, \"ticks\": \"\"}, \"colorscale\": [[0.0, \"#0d0887\"], [0.1111111111111111, \"#46039f\"], [0.2222222222222222, \"#7201a8\"], [0.3333333333333333, \"#9c179e\"], [0.4444444444444444, \"#bd3786\"], [0.5555555555555556, \"#d8576b\"], [0.6666666666666666, \"#ed7953\"], [0.7777777777777778, \"#fb9f3a\"], [0.8888888888888888, \"#fdca26\"], [1.0, \"#f0f921\"]], \"type\": \"heatmap\"}], \"heatmapgl\": [{\"colorbar\": {\"outlinewidth\": 0, \"ticks\": \"\"}, \"colorscale\": [[0.0, \"#0d0887\"], [0.1111111111111111, \"#46039f\"], [0.2222222222222222, \"#7201a8\"], [0.3333333333333333, \"#9c179e\"], [0.4444444444444444, \"#bd3786\"], [0.5555555555555556, \"#d8576b\"], [0.6666666666666666, \"#ed7953\"], [0.7777777777777778, \"#fb9f3a\"], [0.8888888888888888, \"#fdca26\"], [1.0, \"#f0f921\"]], \"type\": \"heatmapgl\"}], \"histogram\": [{\"marker\": {\"colorbar\": {\"outlinewidth\": 0, \"ticks\": \"\"}}, \"type\": \"histogram\"}], \"histogram2d\": [{\"colorbar\": {\"outlinewidth\": 0, \"ticks\": \"\"}, \"colorscale\": [[0.0, \"#0d0887\"], [0.1111111111111111, \"#46039f\"], [0.2222222222222222, \"#7201a8\"], [0.3333333333333333, \"#9c179e\"], [0.4444444444444444, \"#bd3786\"], [0.5555555555555556, \"#d8576b\"], [0.6666666666666666, \"#ed7953\"], [0.7777777777777778, \"#fb9f3a\"], [0.8888888888888888, \"#fdca26\"], [1.0, \"#f0f921\"]], \"type\": \"histogram2d\"}], \"histogram2dcontour\": [{\"colorbar\": {\"outlinewidth\": 0, \"ticks\": \"\"}, \"colorscale\": [[0.0, \"#0d0887\"], [0.1111111111111111, \"#46039f\"], [0.2222222222222222, \"#7201a8\"], [0.3333333333333333, \"#9c179e\"], [0.4444444444444444, \"#bd3786\"], [0.5555555555555556, \"#d8576b\"], [0.6666666666666666, \"#ed7953\"], [0.7777777777777778, \"#fb9f3a\"], [0.8888888888888888, \"#fdca26\"], [1.0, \"#f0f921\"]], \"type\": \"histogram2dcontour\"}], \"mesh3d\": [{\"colorbar\": {\"outlinewidth\": 0, \"ticks\": \"\"}, \"type\": \"mesh3d\"}], \"parcoords\": [{\"line\": {\"colorbar\": {\"outlinewidth\": 0, \"ticks\": \"\"}}, \"type\": \"parcoords\"}], \"scatter\": [{\"marker\": {\"colorbar\": {\"outlinewidth\": 0, \"ticks\": \"\"}}, \"type\": \"scatter\"}], \"scatter3d\": [{\"line\": {\"colorbar\": {\"outlinewidth\": 0, \"ticks\": \"\"}}, \"marker\": {\"colorbar\": {\"outlinewidth\": 0, \"ticks\": \"\"}}, \"type\": \"scatter3d\"}], \"scattercarpet\": [{\"marker\": {\"colorbar\": {\"outlinewidth\": 0, \"ticks\": \"\"}}, \"type\": \"scattercarpet\"}], \"scattergeo\": [{\"marker\": {\"colorbar\": {\"outlinewidth\": 0, \"ticks\": \"\"}}, \"type\": \"scattergeo\"}], \"scattergl\": [{\"marker\": {\"colorbar\": {\"outlinewidth\": 0, \"ticks\": \"\"}}, \"type\": \"scattergl\"}], \"scattermapbox\": [{\"marker\": {\"colorbar\": {\"outlinewidth\": 0, \"ticks\": \"\"}}, \"type\": \"scattermapbox\"}], \"scatterpolar\": [{\"marker\": {\"colorbar\": {\"outlinewidth\": 0, \"ticks\": \"\"}}, \"type\": \"scatterpolar\"}], \"scatterpolargl\": [{\"marker\": {\"colorbar\": {\"outlinewidth\": 0, \"ticks\": \"\"}}, \"type\": \"scatterpolargl\"}], \"scatterternary\": [{\"marker\": {\"colorbar\": {\"outlinewidth\": 0, \"ticks\": \"\"}}, \"type\": \"scatterternary\"}], \"surface\": [{\"colorbar\": {\"outlinewidth\": 0, \"ticks\": \"\"}, \"colorscale\": [[0.0, \"#0d0887\"], [0.1111111111111111, \"#46039f\"], [0.2222222222222222, \"#7201a8\"], [0.3333333333333333, \"#9c179e\"], [0.4444444444444444, \"#bd3786\"], [0.5555555555555556, \"#d8576b\"], [0.6666666666666666, \"#ed7953\"], [0.7777777777777778, \"#fb9f3a\"], [0.8888888888888888, \"#fdca26\"], [1.0, \"#f0f921\"]], \"type\": \"surface\"}], \"table\": [{\"cells\": {\"fill\": {\"color\": \"#EBF0F8\"}, \"line\": {\"color\": \"white\"}}, \"header\": {\"fill\": {\"color\": \"#C8D4E3\"}, \"line\": {\"color\": \"white\"}}, \"type\": \"table\"}]}, \"layout\": {\"annotationdefaults\": {\"arrowcolor\": \"#2a3f5f\", \"arrowhead\": 0, \"arrowwidth\": 1}, \"colorscale\": {\"diverging\": [[0, \"#8e0152\"], [0.1, \"#c51b7d\"], [0.2, \"#de77ae\"], [0.3, \"#f1b6da\"], [0.4, \"#fde0ef\"], [0.5, \"#f7f7f7\"], [0.6, \"#e6f5d0\"], [0.7, \"#b8e186\"], [0.8, \"#7fbc41\"], [0.9, \"#4d9221\"], [1, \"#276419\"]], \"sequential\": [[0.0, \"#0d0887\"], [0.1111111111111111, \"#46039f\"], [0.2222222222222222, \"#7201a8\"], [0.3333333333333333, \"#9c179e\"], [0.4444444444444444, \"#bd3786\"], [0.5555555555555556, \"#d8576b\"], [0.6666666666666666, \"#ed7953\"], [0.7777777777777778, \"#fb9f3a\"], [0.8888888888888888, \"#fdca26\"], [1.0, \"#f0f921\"]], \"sequentialminus\": [[0.0, \"#0d0887\"], [0.1111111111111111, \"#46039f\"], [0.2222222222222222, \"#7201a8\"], [0.3333333333333333, \"#9c179e\"], [0.4444444444444444, \"#bd3786\"], [0.5555555555555556, \"#d8576b\"], [0.6666666666666666, \"#ed7953\"], [0.7777777777777778, \"#fb9f3a\"], [0.8888888888888888, \"#fdca26\"], [1.0, \"#f0f921\"]]}, \"colorway\": [\"#636efa\", \"#EF553B\", \"#00cc96\", \"#ab63fa\", \"#FFA15A\", \"#19d3f3\", \"#FF6692\", \"#B6E880\", \"#FF97FF\", \"#FECB52\"], \"font\": {\"color\": \"#2a3f5f\"}, \"geo\": {\"bgcolor\": \"white\", \"lakecolor\": \"white\", \"landcolor\": \"#E5ECF6\", \"showlakes\": true, \"showland\": true, \"subunitcolor\": \"white\"}, \"hoverlabel\": {\"align\": \"left\"}, \"hovermode\": \"closest\", \"mapbox\": {\"style\": \"light\"}, \"paper_bgcolor\": \"white\", \"plot_bgcolor\": \"#E5ECF6\", \"polar\": {\"angularaxis\": {\"gridcolor\": \"white\", \"linecolor\": \"white\", \"ticks\": \"\"}, \"bgcolor\": \"#E5ECF6\", \"radialaxis\": {\"gridcolor\": \"white\", \"linecolor\": \"white\", \"ticks\": \"\"}}, \"scene\": {\"xaxis\": {\"backgroundcolor\": \"#E5ECF6\", \"gridcolor\": \"white\", \"gridwidth\": 2, \"linecolor\": \"white\", \"showbackground\": true, \"ticks\": \"\", \"zerolinecolor\": \"white\"}, \"yaxis\": {\"backgroundcolor\": \"#E5ECF6\", \"gridcolor\": \"white\", \"gridwidth\": 2, \"linecolor\": \"white\", \"showbackground\": true, \"ticks\": \"\", \"zerolinecolor\": \"white\"}, \"zaxis\": {\"backgroundcolor\": \"#E5ECF6\", \"gridcolor\": \"white\", \"gridwidth\": 2, \"linecolor\": \"white\", \"showbackground\": true, \"ticks\": \"\", \"zerolinecolor\": \"white\"}}, \"shapedefaults\": {\"line\": {\"color\": \"#2a3f5f\"}}, \"ternary\": {\"aaxis\": {\"gridcolor\": \"white\", \"linecolor\": \"white\", \"ticks\": \"\"}, \"baxis\": {\"gridcolor\": \"white\", \"linecolor\": \"white\", \"ticks\": \"\"}, \"bgcolor\": \"#E5ECF6\", \"caxis\": {\"gridcolor\": \"white\", \"linecolor\": \"white\", \"ticks\": \"\"}}, \"title\": {\"x\": 0.05}, \"xaxis\": {\"automargin\": true, \"gridcolor\": \"white\", \"linecolor\": \"white\", \"ticks\": \"\", \"zerolinecolor\": \"white\", \"zerolinewidth\": 2}, \"yaxis\": {\"automargin\": true, \"gridcolor\": \"white\", \"linecolor\": \"white\", \"ticks\": \"\", \"zerolinecolor\": \"white\", \"zerolinewidth\": 2}}}},\n",
       "                        {\"responsive\": true}\n",
       "                    ).then(function(){\n",
       "                            \n",
       "var gd = document.getElementById('678b93f8-fe63-4aee-bd81-a83d85f1c0c7');\n",
       "var x = new MutationObserver(function (mutations, observer) {{\n",
       "        var display = window.getComputedStyle(gd).display;\n",
       "        if (!display || display === 'none') {{\n",
       "            console.log([gd, 'removed!']);\n",
       "            Plotly.purge(gd);\n",
       "            observer.disconnect();\n",
       "        }}\n",
       "}});\n",
       "\n",
       "// Listen for the removal of the full notebook cells\n",
       "var notebookContainer = gd.closest('#notebook-container');\n",
       "if (notebookContainer) {{\n",
       "    x.observe(notebookContainer, {childList: true});\n",
       "}}\n",
       "\n",
       "// Listen for the clearing of the current output cell\n",
       "var outputEl = gd.closest('.output');\n",
       "if (outputEl) {{\n",
       "    x.observe(outputEl, {childList: true});\n",
       "}}\n",
       "\n",
       "                        })\n",
       "                };\n",
       "                });\n",
       "            </script>\n",
       "        </div>"
      ]
     },
     "metadata": {},
     "output_type": "display_data"
    }
   ],
   "source": [
    "# Solution (Punto 1)\n",
    "\n",
    "import plotly.offline as py\n",
    "import plotly.graph_objs as go\n",
    "py.init_notebook_mode(connected=True)\n",
    "\n",
    "data=[\n",
    "    go.Scatter(x=xTrain[:,0],y=yTrain,mode=\"markers\")\n",
    "]\n",
    "\n",
    "layout = go.Layout()\n",
    "fig = go.Figure(data, layout)\n",
    "py.iplot(fig)"
   ]
  },
  {
   "cell_type": "code",
   "execution_count": null,
   "metadata": {},
   "outputs": [],
   "source": [
    "# Solution (Punto 2)\n",
    "import sklearn\n",
    "import sklearn.linear_model\n",
    "linRegr = sklearn.linear_model.LinearRegression()\n",
    "\n",
    "# Facciamo il reshape delle variabili esplicative per avere array di dimensione 2 con m righe e 1 colonna\n",
    "xTrain=np.reshape(xTrain,(mTrain,1))\n",
    "\n",
    "# Costruisco il modello di regressione lineare\n",
    "linRegr.fit(xTrain, yTrain)\n",
    "# Stampo i parametri w e b del modello di regressione\n",
    "w = linRegr.coef_\n",
    "b = linRegr.intercept_\n",
    "print(f\"Parametri w: {w}\")\n",
    "print(f\"Intercetta b: {b}\")"
   ]
  },
  {
   "cell_type": "code",
   "execution_count": 37,
   "metadata": {},
   "outputs": [
    {
     "data": {
      "application/vnd.plotly.v1+json": {
       "config": {
        "linkText": "Export to plot.ly",
        "plotlyServerURL": "https://plot.ly",
        "showLink": false
       },
       "data": [
        {
         "line": {
          "color": "blue"
         },
         "mode": "markers",
         "name": "retta",
         "type": "scatter",
         "x": [
          1990,
          2900,
          920,
          4830,
          2120,
          2200,
          1410,
          2390,
          2420,
          2481,
          4060,
          2820,
          840,
          1520,
          2440,
          1090,
          3590,
          830,
          2460,
          1640,
          2380,
          1010,
          2220,
          2620,
          3460,
          3770,
          1180,
          1650,
          1750,
          1260,
          1540,
          3270,
          1280,
          3920,
          1040,
          1129,
          2590,
          2830,
          1240,
          1640,
          1930,
          1680,
          1520,
          2690,
          520,
          2970,
          1460,
          3180,
          2550,
          1850,
          4120,
          2230,
          2800,
          2330,
          1430,
          1830,
          1290,
          1140,
          2630,
          1600,
          2070,
          1060,
          1347,
          2000,
          970,
          1460,
          1010,
          2120,
          2260,
          910,
          2790,
          1610,
          3680,
          1790,
          4285,
          1270,
          1540,
          1580,
          1330,
          1650,
          1710,
          5860,
          4560,
          1700,
          1560,
          3540,
          1520,
          2160,
          1410,
          2290,
          2160,
          1340,
          1800,
          1120,
          2050,
          1500,
          3220,
          1970,
          1140,
          1600,
          1960,
          2790,
          2980,
          2160,
          4360,
          850,
          1670,
          1810,
          1390,
          1590,
          2400,
          2290,
          1300,
          2080,
          1630,
          1530,
          2200,
          2560,
          1620,
          1510,
          1180,
          5710,
          3150,
          2590,
          2550,
          2110,
          1750,
          2540,
          2720,
          3600,
          2900,
          2100,
          2260,
          1410,
          3060,
          1830,
          2530,
          1330,
          2090,
          2370,
          1800,
          1110,
          1740,
          1910,
          2280,
          1610,
          1050,
          1140,
          2270,
          940,
          3480
         ],
         "y": [
          12682.04390540102,
          18274.915936238853,
          6105.809759251044,
          30136.721452191618,
          13481.025624092139,
          13972.706681748214,
          9117.356237394491,
          15140.449193681387,
          15324.829590302414,
          15699.736396765169,
          25404.29127225191,
          17783.234878582778,
          5614.12870159497,
          9793.417691671591,
          15447.749854716432,
          7150.632006770199,
          22515.665058522485,
          5552.668569387962,
          15570.670119130451,
          10530.939278155702,
          15078.989061474378,
          6658.950949114126,
          14095.62694616223,
          16554.032234442595,
          21716.68333983136,
          23621.947438248644,
          7703.773196633281,
          10592.39941036271,
          11207.000732432802,
          8195.454254289354,
          9916.33795608561,
          20548.940827898194,
          8318.374518703373,
          24543.849421353785,
          6843.331345735153,
          7390.326522377534,
          16369.65183782157,
          17844.695010789786,
          8072.5339898753355,
          10530.939278155702,
          12313.283112158966,
          10776.779806983737,
          9793.417691671591,
          16984.25315989166,
          3647.404470970678,
          18705.13686168792,
          9424.656898429537,
          19995.79963803511,
          16123.811308993532,
          11821.602054502893,
          25773.05206549397,
          14157.08707836924,
          17660.31461416876,
          14771.688400439332,
          9240.27650180851,
          11698.681790088875,
          8379.834650910381,
          7457.932667805245,
          16615.492366649603,
          10285.098749327664,
          13173.724963057093,
          6966.251610149171,
          8730.157404490334,
          12743.50403760803,
          6413.110420286089,
          9424.656898429537,
          6658.950949114126,
          13481.025624092139,
          14341.467474990268,
          6044.349627044035,
          17598.854481961753,
          10346.558881534675,
          23068.80624838557,
          11452.841261260839,
          26787.144246909615,
          8256.914386496363,
          9916.33795608561,
          10162.178484913646,
          8625.675179738417,
          10592.39941036271,
          10961.160203604764,
          36467.11506951356,
          28477.29788260237,
          10899.700071397756,
          10039.258220499629,
          22208.364397487436,
          9793.417691671591,
          13726.866152920176,
          9117.356237394491,
          14525.847871611295,
          13726.866152920176,
          8687.135311945427,
          11514.301393467847,
          7335.012403391226,
          13050.804698643076,
          9670.497427257573,
          20241.640166863144,
          12559.123640987003,
          7457.932667805245,
          10285.098749327664,
          12497.663508779993,
          17598.854481961753,
          18766.596993894927,
          13726.866152920176,
          27248.095238462185,
          5675.5888338019795,
          10715.319674776729,
          11575.761525674856,
          8994.435972980473,
          10223.638617120656,
          15201.909325888395,
          14525.847871611295,
          8441.294783117391,
          13235.185095264103,
          10469.479145948691,
          9854.8778238786,
          13972.706681748214,
          16185.271441200543,
          10408.019013741683,
          9731.957559464583,
          7703.773196633281,
          35545.21308640842,
          19811.419241414078,
          16369.65183782157,
          16123.811308993532,
          13419.56549188513,
          11207.000732432802,
          16062.351176786524,
          17168.633556512686,
          22577.125190729494,
          18274.915936238853,
          13358.105359678122,
          14341.467474990268,
          9117.356237394491,
          19258.278051550995,
          11698.681790088875,
          16000.891044579514,
          8625.675179738417,
          13296.645227471112,
          15017.528929267368,
          11514.301393467847,
          7273.552271184217,
          11145.540600225793,
          12190.362847744947,
          14464.387739404287,
          10346.558881534675,
          6904.791477942163,
          7457.932667805245,
          14402.927607197276,
          6228.730023665062,
          21839.603604245385
         ]
        },
        {
         "mode": "markers",
         "name": "data",
         "type": "scatter",
         "x": [
          1990,
          2900,
          920,
          4830,
          2120,
          2200,
          1410,
          2390,
          2420,
          2481,
          4060,
          2820,
          840,
          1520,
          2440,
          1090,
          3590,
          830,
          2460,
          1640,
          2380,
          1010,
          2220,
          2620,
          3460,
          3770,
          1180,
          1650,
          1750,
          1260,
          1540,
          3270,
          1280,
          3920,
          1040,
          1129,
          2590,
          2830,
          1240,
          1640,
          1930,
          1680,
          1520,
          2690,
          520,
          2970,
          1460,
          3180,
          2550,
          1850,
          4120,
          2230,
          2800,
          2330,
          1430,
          1830,
          1290,
          1140,
          2630,
          1600,
          2070,
          1060,
          1347,
          2000,
          970,
          1460,
          1010,
          2120,
          2260,
          910,
          2790,
          1610,
          3680,
          1790,
          4285,
          1270,
          1540,
          1580,
          1330,
          1650,
          1710,
          5860,
          4560,
          1700,
          1560,
          3540,
          1520,
          2160,
          1410,
          2290,
          2160,
          1340,
          1800,
          1120,
          2050,
          1500,
          3220,
          1970,
          1140,
          1600,
          1960,
          2790,
          2980,
          2160,
          4360,
          850,
          1670,
          1810,
          1390,
          1590,
          2400,
          2290,
          1300,
          2080,
          1630,
          1530,
          2200,
          2560,
          1620,
          1510,
          1180,
          5710,
          3150,
          2590,
          2550,
          2110,
          1750,
          2540,
          2720,
          3600,
          2900,
          2100,
          2260,
          1410,
          3060,
          1830,
          2530,
          1330,
          2090,
          2370,
          1800,
          1110,
          1740,
          1910,
          2280,
          1610,
          1050,
          1140,
          2270,
          940,
          3480
         ],
         "y": [
          542000,
          500000,
          156000,
          1925000,
          710000,
          515000,
          175000,
          984000,
          329990,
          309000,
          530000,
          1450000,
          208417,
          450000,
          613000,
          249000,
          1302000,
          282613,
          240000,
          602000,
          725000,
          290000,
          467000,
          683000,
          730000,
          1038000,
          209900,
          334009,
          575000,
          270000,
          252000,
          560000,
          309000,
          827500,
          411100,
          330000,
          920000,
          710000,
          476900,
          250000,
          385000,
          347000,
          320000,
          790000,
          275000,
          829000,
          180000,
          340000,
          711000,
          605000,
          863000,
          699950,
          665000,
          690000,
          345000,
          638000,
          265000,
          197200,
          1297000,
          280000,
          365000,
          310000,
          321000,
          320000,
          209500,
          312000,
          310000,
          518500,
          514000,
          223000,
          560000,
          268000,
          595000,
          392000,
          1890000,
          531000,
          500000,
          495000,
          375000,
          400000,
          362500,
          1750000,
          1490000,
          250000,
          525000,
          800000,
          535000,
          440000,
          410000,
          685000,
          856000,
          330000,
          680000,
          316000,
          455000,
          230000,
          558000,
          432000,
          540000,
          384500,
          365000,
          695000,
          330000,
          410000,
          795127,
          298000,
          985000,
          503500,
          275000,
          305000,
          675000,
          630000,
          675000,
          589950,
          327000,
          500000,
          585000,
          350000,
          350000,
          441500,
          447500,
          930000,
          695000,
          781000,
          560000,
          565000,
          340000,
          485000,
          408500,
          835000,
          865000,
          356000,
          467500,
          418000,
          959750,
          270000,
          450000,
          239000,
          785000,
          585000,
          474900,
          448000,
          650500,
          485000,
          534000,
          375000,
          650000,
          160000,
          619850,
          350000,
          480000
         ]
        }
       ],
       "layout": {
        "template": {
         "data": {
          "bar": [
           {
            "error_x": {
             "color": "#2a3f5f"
            },
            "error_y": {
             "color": "#2a3f5f"
            },
            "marker": {
             "line": {
              "color": "#E5ECF6",
              "width": 0.5
             }
            },
            "type": "bar"
           }
          ],
          "barpolar": [
           {
            "marker": {
             "line": {
              "color": "#E5ECF6",
              "width": 0.5
             }
            },
            "type": "barpolar"
           }
          ],
          "carpet": [
           {
            "aaxis": {
             "endlinecolor": "#2a3f5f",
             "gridcolor": "white",
             "linecolor": "white",
             "minorgridcolor": "white",
             "startlinecolor": "#2a3f5f"
            },
            "baxis": {
             "endlinecolor": "#2a3f5f",
             "gridcolor": "white",
             "linecolor": "white",
             "minorgridcolor": "white",
             "startlinecolor": "#2a3f5f"
            },
            "type": "carpet"
           }
          ],
          "choropleth": [
           {
            "colorbar": {
             "outlinewidth": 0,
             "ticks": ""
            },
            "type": "choropleth"
           }
          ],
          "contour": [
           {
            "colorbar": {
             "outlinewidth": 0,
             "ticks": ""
            },
            "colorscale": [
             [
              0,
              "#0d0887"
             ],
             [
              0.1111111111111111,
              "#46039f"
             ],
             [
              0.2222222222222222,
              "#7201a8"
             ],
             [
              0.3333333333333333,
              "#9c179e"
             ],
             [
              0.4444444444444444,
              "#bd3786"
             ],
             [
              0.5555555555555556,
              "#d8576b"
             ],
             [
              0.6666666666666666,
              "#ed7953"
             ],
             [
              0.7777777777777778,
              "#fb9f3a"
             ],
             [
              0.8888888888888888,
              "#fdca26"
             ],
             [
              1,
              "#f0f921"
             ]
            ],
            "type": "contour"
           }
          ],
          "contourcarpet": [
           {
            "colorbar": {
             "outlinewidth": 0,
             "ticks": ""
            },
            "type": "contourcarpet"
           }
          ],
          "heatmap": [
           {
            "colorbar": {
             "outlinewidth": 0,
             "ticks": ""
            },
            "colorscale": [
             [
              0,
              "#0d0887"
             ],
             [
              0.1111111111111111,
              "#46039f"
             ],
             [
              0.2222222222222222,
              "#7201a8"
             ],
             [
              0.3333333333333333,
              "#9c179e"
             ],
             [
              0.4444444444444444,
              "#bd3786"
             ],
             [
              0.5555555555555556,
              "#d8576b"
             ],
             [
              0.6666666666666666,
              "#ed7953"
             ],
             [
              0.7777777777777778,
              "#fb9f3a"
             ],
             [
              0.8888888888888888,
              "#fdca26"
             ],
             [
              1,
              "#f0f921"
             ]
            ],
            "type": "heatmap"
           }
          ],
          "heatmapgl": [
           {
            "colorbar": {
             "outlinewidth": 0,
             "ticks": ""
            },
            "colorscale": [
             [
              0,
              "#0d0887"
             ],
             [
              0.1111111111111111,
              "#46039f"
             ],
             [
              0.2222222222222222,
              "#7201a8"
             ],
             [
              0.3333333333333333,
              "#9c179e"
             ],
             [
              0.4444444444444444,
              "#bd3786"
             ],
             [
              0.5555555555555556,
              "#d8576b"
             ],
             [
              0.6666666666666666,
              "#ed7953"
             ],
             [
              0.7777777777777778,
              "#fb9f3a"
             ],
             [
              0.8888888888888888,
              "#fdca26"
             ],
             [
              1,
              "#f0f921"
             ]
            ],
            "type": "heatmapgl"
           }
          ],
          "histogram": [
           {
            "marker": {
             "colorbar": {
              "outlinewidth": 0,
              "ticks": ""
             }
            },
            "type": "histogram"
           }
          ],
          "histogram2d": [
           {
            "colorbar": {
             "outlinewidth": 0,
             "ticks": ""
            },
            "colorscale": [
             [
              0,
              "#0d0887"
             ],
             [
              0.1111111111111111,
              "#46039f"
             ],
             [
              0.2222222222222222,
              "#7201a8"
             ],
             [
              0.3333333333333333,
              "#9c179e"
             ],
             [
              0.4444444444444444,
              "#bd3786"
             ],
             [
              0.5555555555555556,
              "#d8576b"
             ],
             [
              0.6666666666666666,
              "#ed7953"
             ],
             [
              0.7777777777777778,
              "#fb9f3a"
             ],
             [
              0.8888888888888888,
              "#fdca26"
             ],
             [
              1,
              "#f0f921"
             ]
            ],
            "type": "histogram2d"
           }
          ],
          "histogram2dcontour": [
           {
            "colorbar": {
             "outlinewidth": 0,
             "ticks": ""
            },
            "colorscale": [
             [
              0,
              "#0d0887"
             ],
             [
              0.1111111111111111,
              "#46039f"
             ],
             [
              0.2222222222222222,
              "#7201a8"
             ],
             [
              0.3333333333333333,
              "#9c179e"
             ],
             [
              0.4444444444444444,
              "#bd3786"
             ],
             [
              0.5555555555555556,
              "#d8576b"
             ],
             [
              0.6666666666666666,
              "#ed7953"
             ],
             [
              0.7777777777777778,
              "#fb9f3a"
             ],
             [
              0.8888888888888888,
              "#fdca26"
             ],
             [
              1,
              "#f0f921"
             ]
            ],
            "type": "histogram2dcontour"
           }
          ],
          "mesh3d": [
           {
            "colorbar": {
             "outlinewidth": 0,
             "ticks": ""
            },
            "type": "mesh3d"
           }
          ],
          "parcoords": [
           {
            "line": {
             "colorbar": {
              "outlinewidth": 0,
              "ticks": ""
             }
            },
            "type": "parcoords"
           }
          ],
          "scatter": [
           {
            "marker": {
             "colorbar": {
              "outlinewidth": 0,
              "ticks": ""
             }
            },
            "type": "scatter"
           }
          ],
          "scatter3d": [
           {
            "line": {
             "colorbar": {
              "outlinewidth": 0,
              "ticks": ""
             }
            },
            "marker": {
             "colorbar": {
              "outlinewidth": 0,
              "ticks": ""
             }
            },
            "type": "scatter3d"
           }
          ],
          "scattercarpet": [
           {
            "marker": {
             "colorbar": {
              "outlinewidth": 0,
              "ticks": ""
             }
            },
            "type": "scattercarpet"
           }
          ],
          "scattergeo": [
           {
            "marker": {
             "colorbar": {
              "outlinewidth": 0,
              "ticks": ""
             }
            },
            "type": "scattergeo"
           }
          ],
          "scattergl": [
           {
            "marker": {
             "colorbar": {
              "outlinewidth": 0,
              "ticks": ""
             }
            },
            "type": "scattergl"
           }
          ],
          "scattermapbox": [
           {
            "marker": {
             "colorbar": {
              "outlinewidth": 0,
              "ticks": ""
             }
            },
            "type": "scattermapbox"
           }
          ],
          "scatterpolar": [
           {
            "marker": {
             "colorbar": {
              "outlinewidth": 0,
              "ticks": ""
             }
            },
            "type": "scatterpolar"
           }
          ],
          "scatterpolargl": [
           {
            "marker": {
             "colorbar": {
              "outlinewidth": 0,
              "ticks": ""
             }
            },
            "type": "scatterpolargl"
           }
          ],
          "scatterternary": [
           {
            "marker": {
             "colorbar": {
              "outlinewidth": 0,
              "ticks": ""
             }
            },
            "type": "scatterternary"
           }
          ],
          "surface": [
           {
            "colorbar": {
             "outlinewidth": 0,
             "ticks": ""
            },
            "colorscale": [
             [
              0,
              "#0d0887"
             ],
             [
              0.1111111111111111,
              "#46039f"
             ],
             [
              0.2222222222222222,
              "#7201a8"
             ],
             [
              0.3333333333333333,
              "#9c179e"
             ],
             [
              0.4444444444444444,
              "#bd3786"
             ],
             [
              0.5555555555555556,
              "#d8576b"
             ],
             [
              0.6666666666666666,
              "#ed7953"
             ],
             [
              0.7777777777777778,
              "#fb9f3a"
             ],
             [
              0.8888888888888888,
              "#fdca26"
             ],
             [
              1,
              "#f0f921"
             ]
            ],
            "type": "surface"
           }
          ],
          "table": [
           {
            "cells": {
             "fill": {
              "color": "#EBF0F8"
             },
             "line": {
              "color": "white"
             }
            },
            "header": {
             "fill": {
              "color": "#C8D4E3"
             },
             "line": {
              "color": "white"
             }
            },
            "type": "table"
           }
          ]
         },
         "layout": {
          "annotationdefaults": {
           "arrowcolor": "#2a3f5f",
           "arrowhead": 0,
           "arrowwidth": 1
          },
          "colorscale": {
           "diverging": [
            [
             0,
             "#8e0152"
            ],
            [
             0.1,
             "#c51b7d"
            ],
            [
             0.2,
             "#de77ae"
            ],
            [
             0.3,
             "#f1b6da"
            ],
            [
             0.4,
             "#fde0ef"
            ],
            [
             0.5,
             "#f7f7f7"
            ],
            [
             0.6,
             "#e6f5d0"
            ],
            [
             0.7,
             "#b8e186"
            ],
            [
             0.8,
             "#7fbc41"
            ],
            [
             0.9,
             "#4d9221"
            ],
            [
             1,
             "#276419"
            ]
           ],
           "sequential": [
            [
             0,
             "#0d0887"
            ],
            [
             0.1111111111111111,
             "#46039f"
            ],
            [
             0.2222222222222222,
             "#7201a8"
            ],
            [
             0.3333333333333333,
             "#9c179e"
            ],
            [
             0.4444444444444444,
             "#bd3786"
            ],
            [
             0.5555555555555556,
             "#d8576b"
            ],
            [
             0.6666666666666666,
             "#ed7953"
            ],
            [
             0.7777777777777778,
             "#fb9f3a"
            ],
            [
             0.8888888888888888,
             "#fdca26"
            ],
            [
             1,
             "#f0f921"
            ]
           ],
           "sequentialminus": [
            [
             0,
             "#0d0887"
            ],
            [
             0.1111111111111111,
             "#46039f"
            ],
            [
             0.2222222222222222,
             "#7201a8"
            ],
            [
             0.3333333333333333,
             "#9c179e"
            ],
            [
             0.4444444444444444,
             "#bd3786"
            ],
            [
             0.5555555555555556,
             "#d8576b"
            ],
            [
             0.6666666666666666,
             "#ed7953"
            ],
            [
             0.7777777777777778,
             "#fb9f3a"
            ],
            [
             0.8888888888888888,
             "#fdca26"
            ],
            [
             1,
             "#f0f921"
            ]
           ]
          },
          "colorway": [
           "#636efa",
           "#EF553B",
           "#00cc96",
           "#ab63fa",
           "#FFA15A",
           "#19d3f3",
           "#FF6692",
           "#B6E880",
           "#FF97FF",
           "#FECB52"
          ],
          "font": {
           "color": "#2a3f5f"
          },
          "geo": {
           "bgcolor": "white",
           "lakecolor": "white",
           "landcolor": "#E5ECF6",
           "showlakes": true,
           "showland": true,
           "subunitcolor": "white"
          },
          "hoverlabel": {
           "align": "left"
          },
          "hovermode": "closest",
          "mapbox": {
           "style": "light"
          },
          "paper_bgcolor": "white",
          "plot_bgcolor": "#E5ECF6",
          "polar": {
           "angularaxis": {
            "gridcolor": "white",
            "linecolor": "white",
            "ticks": ""
           },
           "bgcolor": "#E5ECF6",
           "radialaxis": {
            "gridcolor": "white",
            "linecolor": "white",
            "ticks": ""
           }
          },
          "scene": {
           "xaxis": {
            "backgroundcolor": "#E5ECF6",
            "gridcolor": "white",
            "gridwidth": 2,
            "linecolor": "white",
            "showbackground": true,
            "ticks": "",
            "zerolinecolor": "white"
           },
           "yaxis": {
            "backgroundcolor": "#E5ECF6",
            "gridcolor": "white",
            "gridwidth": 2,
            "linecolor": "white",
            "showbackground": true,
            "ticks": "",
            "zerolinecolor": "white"
           },
           "zaxis": {
            "backgroundcolor": "#E5ECF6",
            "gridcolor": "white",
            "gridwidth": 2,
            "linecolor": "white",
            "showbackground": true,
            "ticks": "",
            "zerolinecolor": "white"
           }
          },
          "shapedefaults": {
           "line": {
            "color": "#2a3f5f"
           }
          },
          "ternary": {
           "aaxis": {
            "gridcolor": "white",
            "linecolor": "white",
            "ticks": ""
           },
           "baxis": {
            "gridcolor": "white",
            "linecolor": "white",
            "ticks": ""
           },
           "bgcolor": "#E5ECF6",
           "caxis": {
            "gridcolor": "white",
            "linecolor": "white",
            "ticks": ""
           }
          },
          "title": {
           "x": 0.05
          },
          "xaxis": {
           "automargin": true,
           "gridcolor": "white",
           "linecolor": "white",
           "ticks": "",
           "zerolinecolor": "white",
           "zerolinewidth": 2
          },
          "yaxis": {
           "automargin": true,
           "gridcolor": "white",
           "linecolor": "white",
           "ticks": "",
           "zerolinecolor": "white",
           "zerolinewidth": 2
          }
         }
        },
        "xaxis": {
         "title": {
          "text": "Living in square feet"
         }
        },
        "yaxis": {
         "title": {
          "text": "Prize"
         }
        }
       }
      },
      "text/html": [
       "<div>\n",
       "        \n",
       "        \n",
       "            <div id=\"6c33b337-b8f7-4059-8e19-70c1fd32de28\" class=\"plotly-graph-div\" style=\"height:525px; width:100%;\"></div>\n",
       "            <script type=\"text/javascript\">\n",
       "                require([\"plotly\"], function(Plotly) {\n",
       "                    window.PLOTLYENV=window.PLOTLYENV || {};\n",
       "                    \n",
       "                if (document.getElementById(\"6c33b337-b8f7-4059-8e19-70c1fd32de28\")) {\n",
       "                    Plotly.newPlot(\n",
       "                        '6c33b337-b8f7-4059-8e19-70c1fd32de28',\n",
       "                        [{\"line\": {\"color\": \"blue\"}, \"mode\": \"markers\", \"name\": \"retta\", \"type\": \"scatter\", \"x\": [1990, 2900, 920, 4830, 2120, 2200, 1410, 2390, 2420, 2481, 4060, 2820, 840, 1520, 2440, 1090, 3590, 830, 2460, 1640, 2380, 1010, 2220, 2620, 3460, 3770, 1180, 1650, 1750, 1260, 1540, 3270, 1280, 3920, 1040, 1129, 2590, 2830, 1240, 1640, 1930, 1680, 1520, 2690, 520, 2970, 1460, 3180, 2550, 1850, 4120, 2230, 2800, 2330, 1430, 1830, 1290, 1140, 2630, 1600, 2070, 1060, 1347, 2000, 970, 1460, 1010, 2120, 2260, 910, 2790, 1610, 3680, 1790, 4285, 1270, 1540, 1580, 1330, 1650, 1710, 5860, 4560, 1700, 1560, 3540, 1520, 2160, 1410, 2290, 2160, 1340, 1800, 1120, 2050, 1500, 3220, 1970, 1140, 1600, 1960, 2790, 2980, 2160, 4360, 850, 1670, 1810, 1390, 1590, 2400, 2290, 1300, 2080, 1630, 1530, 2200, 2560, 1620, 1510, 1180, 5710, 3150, 2590, 2550, 2110, 1750, 2540, 2720, 3600, 2900, 2100, 2260, 1410, 3060, 1830, 2530, 1330, 2090, 2370, 1800, 1110, 1740, 1910, 2280, 1610, 1050, 1140, 2270, 940, 3480], \"y\": [12682.04390540102, 18274.915936238853, 6105.809759251044, 30136.721452191618, 13481.025624092139, 13972.706681748214, 9117.356237394491, 15140.449193681387, 15324.829590302414, 15699.736396765169, 25404.29127225191, 17783.234878582778, 5614.12870159497, 9793.417691671591, 15447.749854716432, 7150.632006770199, 22515.665058522485, 5552.668569387962, 15570.670119130451, 10530.939278155702, 15078.989061474378, 6658.950949114126, 14095.62694616223, 16554.032234442595, 21716.68333983136, 23621.947438248644, 7703.773196633281, 10592.39941036271, 11207.000732432802, 8195.454254289354, 9916.33795608561, 20548.940827898194, 8318.374518703373, 24543.849421353785, 6843.331345735153, 7390.326522377534, 16369.65183782157, 17844.695010789786, 8072.5339898753355, 10530.939278155702, 12313.283112158966, 10776.779806983737, 9793.417691671591, 16984.25315989166, 3647.404470970678, 18705.13686168792, 9424.656898429537, 19995.79963803511, 16123.811308993532, 11821.602054502893, 25773.05206549397, 14157.08707836924, 17660.31461416876, 14771.688400439332, 9240.27650180851, 11698.681790088875, 8379.834650910381, 7457.932667805245, 16615.492366649603, 10285.098749327664, 13173.724963057093, 6966.251610149171, 8730.157404490334, 12743.50403760803, 6413.110420286089, 9424.656898429537, 6658.950949114126, 13481.025624092139, 14341.467474990268, 6044.349627044035, 17598.854481961753, 10346.558881534675, 23068.80624838557, 11452.841261260839, 26787.144246909615, 8256.914386496363, 9916.33795608561, 10162.178484913646, 8625.675179738417, 10592.39941036271, 10961.160203604764, 36467.11506951356, 28477.29788260237, 10899.700071397756, 10039.258220499629, 22208.364397487436, 9793.417691671591, 13726.866152920176, 9117.356237394491, 14525.847871611295, 13726.866152920176, 8687.135311945427, 11514.301393467847, 7335.012403391226, 13050.804698643076, 9670.497427257573, 20241.640166863144, 12559.123640987003, 7457.932667805245, 10285.098749327664, 12497.663508779993, 17598.854481961753, 18766.596993894927, 13726.866152920176, 27248.095238462185, 5675.5888338019795, 10715.319674776729, 11575.761525674856, 8994.435972980473, 10223.638617120656, 15201.909325888395, 14525.847871611295, 8441.294783117391, 13235.185095264103, 10469.479145948691, 9854.8778238786, 13972.706681748214, 16185.271441200543, 10408.019013741683, 9731.957559464583, 7703.773196633281, 35545.21308640842, 19811.419241414078, 16369.65183782157, 16123.811308993532, 13419.56549188513, 11207.000732432802, 16062.351176786524, 17168.633556512686, 22577.125190729494, 18274.915936238853, 13358.105359678122, 14341.467474990268, 9117.356237394491, 19258.278051550995, 11698.681790088875, 16000.891044579514, 8625.675179738417, 13296.645227471112, 15017.528929267368, 11514.301393467847, 7273.552271184217, 11145.540600225793, 12190.362847744947, 14464.387739404287, 10346.558881534675, 6904.791477942163, 7457.932667805245, 14402.927607197276, 6228.730023665062, 21839.603604245385]}, {\"mode\": \"markers\", \"name\": \"data\", \"type\": \"scatter\", \"x\": [1990, 2900, 920, 4830, 2120, 2200, 1410, 2390, 2420, 2481, 4060, 2820, 840, 1520, 2440, 1090, 3590, 830, 2460, 1640, 2380, 1010, 2220, 2620, 3460, 3770, 1180, 1650, 1750, 1260, 1540, 3270, 1280, 3920, 1040, 1129, 2590, 2830, 1240, 1640, 1930, 1680, 1520, 2690, 520, 2970, 1460, 3180, 2550, 1850, 4120, 2230, 2800, 2330, 1430, 1830, 1290, 1140, 2630, 1600, 2070, 1060, 1347, 2000, 970, 1460, 1010, 2120, 2260, 910, 2790, 1610, 3680, 1790, 4285, 1270, 1540, 1580, 1330, 1650, 1710, 5860, 4560, 1700, 1560, 3540, 1520, 2160, 1410, 2290, 2160, 1340, 1800, 1120, 2050, 1500, 3220, 1970, 1140, 1600, 1960, 2790, 2980, 2160, 4360, 850, 1670, 1810, 1390, 1590, 2400, 2290, 1300, 2080, 1630, 1530, 2200, 2560, 1620, 1510, 1180, 5710, 3150, 2590, 2550, 2110, 1750, 2540, 2720, 3600, 2900, 2100, 2260, 1410, 3060, 1830, 2530, 1330, 2090, 2370, 1800, 1110, 1740, 1910, 2280, 1610, 1050, 1140, 2270, 940, 3480], \"y\": [542000.0, 500000.0, 156000.0, 1925000.0, 710000.0, 515000.0, 175000.0, 984000.0, 329990.0, 309000.0, 530000.0, 1450000.0, 208417.0, 450000.0, 613000.0, 249000.0, 1302000.0, 282613.0, 240000.0, 602000.0, 725000.0, 290000.0, 467000.0, 683000.0, 730000.0, 1038000.0, 209900.0, 334009.0, 575000.0, 270000.0, 252000.0, 560000.0, 309000.0, 827500.0, 411100.0, 330000.0, 920000.0, 710000.0, 476900.0, 250000.0, 385000.0, 347000.0, 320000.0, 790000.0, 275000.0, 829000.0, 180000.0, 340000.0, 711000.0, 605000.0, 863000.0, 699950.0, 665000.0, 690000.0, 345000.0, 638000.0, 265000.0, 197200.0, 1297000.0, 280000.0, 365000.0, 310000.0, 321000.0, 320000.0, 209500.0, 312000.0, 310000.0, 518500.0, 514000.0, 223000.0, 560000.0, 268000.0, 595000.0, 392000.0, 1890000.0, 531000.0, 500000.0, 495000.0, 375000.0, 400000.0, 362500.0, 1750000.0, 1490000.0, 250000.0, 525000.0, 800000.0, 535000.0, 440000.0, 410000.0, 685000.0, 856000.0, 330000.0, 680000.0, 316000.0, 455000.0, 230000.0, 558000.0, 432000.0, 540000.0, 384500.0, 365000.0, 695000.0, 330000.0, 410000.0, 795127.0, 298000.0, 985000.0, 503500.0, 275000.0, 305000.0, 675000.0, 630000.0, 675000.0, 589950.0, 327000.0, 500000.0, 585000.0, 350000.0, 350000.0, 441500.0, 447500.0, 930000.0, 695000.0, 781000.0, 560000.0, 565000.0, 340000.0, 485000.0, 408500.0, 835000.0, 865000.0, 356000.0, 467500.0, 418000.0, 959750.0, 270000.0, 450000.0, 239000.0, 785000.0, 585000.0, 474900.0, 448000.0, 650500.0, 485000.0, 534000.0, 375000.0, 650000.0, 160000.0, 619850.0, 350000.0, 480000.0]}],\n",
       "                        {\"template\": {\"data\": {\"bar\": [{\"error_x\": {\"color\": \"#2a3f5f\"}, \"error_y\": {\"color\": \"#2a3f5f\"}, \"marker\": {\"line\": {\"color\": \"#E5ECF6\", \"width\": 0.5}}, \"type\": \"bar\"}], \"barpolar\": [{\"marker\": {\"line\": {\"color\": \"#E5ECF6\", \"width\": 0.5}}, \"type\": \"barpolar\"}], \"carpet\": [{\"aaxis\": {\"endlinecolor\": \"#2a3f5f\", \"gridcolor\": \"white\", \"linecolor\": \"white\", \"minorgridcolor\": \"white\", \"startlinecolor\": \"#2a3f5f\"}, \"baxis\": {\"endlinecolor\": \"#2a3f5f\", \"gridcolor\": \"white\", \"linecolor\": \"white\", \"minorgridcolor\": \"white\", \"startlinecolor\": \"#2a3f5f\"}, \"type\": \"carpet\"}], \"choropleth\": [{\"colorbar\": {\"outlinewidth\": 0, \"ticks\": \"\"}, \"type\": \"choropleth\"}], \"contour\": [{\"colorbar\": {\"outlinewidth\": 0, \"ticks\": \"\"}, \"colorscale\": [[0.0, \"#0d0887\"], [0.1111111111111111, \"#46039f\"], [0.2222222222222222, \"#7201a8\"], [0.3333333333333333, \"#9c179e\"], [0.4444444444444444, \"#bd3786\"], [0.5555555555555556, \"#d8576b\"], [0.6666666666666666, \"#ed7953\"], [0.7777777777777778, \"#fb9f3a\"], [0.8888888888888888, \"#fdca26\"], [1.0, \"#f0f921\"]], \"type\": \"contour\"}], \"contourcarpet\": [{\"colorbar\": {\"outlinewidth\": 0, \"ticks\": \"\"}, \"type\": \"contourcarpet\"}], \"heatmap\": [{\"colorbar\": {\"outlinewidth\": 0, \"ticks\": \"\"}, \"colorscale\": [[0.0, \"#0d0887\"], [0.1111111111111111, \"#46039f\"], [0.2222222222222222, \"#7201a8\"], [0.3333333333333333, \"#9c179e\"], [0.4444444444444444, \"#bd3786\"], [0.5555555555555556, \"#d8576b\"], [0.6666666666666666, \"#ed7953\"], [0.7777777777777778, \"#fb9f3a\"], [0.8888888888888888, \"#fdca26\"], [1.0, \"#f0f921\"]], \"type\": \"heatmap\"}], \"heatmapgl\": [{\"colorbar\": {\"outlinewidth\": 0, \"ticks\": \"\"}, \"colorscale\": [[0.0, \"#0d0887\"], [0.1111111111111111, \"#46039f\"], [0.2222222222222222, \"#7201a8\"], [0.3333333333333333, \"#9c179e\"], [0.4444444444444444, \"#bd3786\"], [0.5555555555555556, \"#d8576b\"], [0.6666666666666666, \"#ed7953\"], [0.7777777777777778, \"#fb9f3a\"], [0.8888888888888888, \"#fdca26\"], [1.0, \"#f0f921\"]], \"type\": \"heatmapgl\"}], \"histogram\": [{\"marker\": {\"colorbar\": {\"outlinewidth\": 0, \"ticks\": \"\"}}, \"type\": \"histogram\"}], \"histogram2d\": [{\"colorbar\": {\"outlinewidth\": 0, \"ticks\": \"\"}, \"colorscale\": [[0.0, \"#0d0887\"], [0.1111111111111111, \"#46039f\"], [0.2222222222222222, \"#7201a8\"], [0.3333333333333333, \"#9c179e\"], [0.4444444444444444, \"#bd3786\"], [0.5555555555555556, \"#d8576b\"], [0.6666666666666666, \"#ed7953\"], [0.7777777777777778, \"#fb9f3a\"], [0.8888888888888888, \"#fdca26\"], [1.0, \"#f0f921\"]], \"type\": \"histogram2d\"}], \"histogram2dcontour\": [{\"colorbar\": {\"outlinewidth\": 0, \"ticks\": \"\"}, \"colorscale\": [[0.0, \"#0d0887\"], [0.1111111111111111, \"#46039f\"], [0.2222222222222222, \"#7201a8\"], [0.3333333333333333, \"#9c179e\"], [0.4444444444444444, \"#bd3786\"], [0.5555555555555556, \"#d8576b\"], [0.6666666666666666, \"#ed7953\"], [0.7777777777777778, \"#fb9f3a\"], [0.8888888888888888, \"#fdca26\"], [1.0, \"#f0f921\"]], \"type\": \"histogram2dcontour\"}], \"mesh3d\": [{\"colorbar\": {\"outlinewidth\": 0, \"ticks\": \"\"}, \"type\": \"mesh3d\"}], \"parcoords\": [{\"line\": {\"colorbar\": {\"outlinewidth\": 0, \"ticks\": \"\"}}, \"type\": \"parcoords\"}], \"scatter\": [{\"marker\": {\"colorbar\": {\"outlinewidth\": 0, \"ticks\": \"\"}}, \"type\": \"scatter\"}], \"scatter3d\": [{\"line\": {\"colorbar\": {\"outlinewidth\": 0, \"ticks\": \"\"}}, \"marker\": {\"colorbar\": {\"outlinewidth\": 0, \"ticks\": \"\"}}, \"type\": \"scatter3d\"}], \"scattercarpet\": [{\"marker\": {\"colorbar\": {\"outlinewidth\": 0, \"ticks\": \"\"}}, \"type\": \"scattercarpet\"}], \"scattergeo\": [{\"marker\": {\"colorbar\": {\"outlinewidth\": 0, \"ticks\": \"\"}}, \"type\": \"scattergeo\"}], \"scattergl\": [{\"marker\": {\"colorbar\": {\"outlinewidth\": 0, \"ticks\": \"\"}}, \"type\": \"scattergl\"}], \"scattermapbox\": [{\"marker\": {\"colorbar\": {\"outlinewidth\": 0, \"ticks\": \"\"}}, \"type\": \"scattermapbox\"}], \"scatterpolar\": [{\"marker\": {\"colorbar\": {\"outlinewidth\": 0, \"ticks\": \"\"}}, \"type\": \"scatterpolar\"}], \"scatterpolargl\": [{\"marker\": {\"colorbar\": {\"outlinewidth\": 0, \"ticks\": \"\"}}, \"type\": \"scatterpolargl\"}], \"scatterternary\": [{\"marker\": {\"colorbar\": {\"outlinewidth\": 0, \"ticks\": \"\"}}, \"type\": \"scatterternary\"}], \"surface\": [{\"colorbar\": {\"outlinewidth\": 0, \"ticks\": \"\"}, \"colorscale\": [[0.0, \"#0d0887\"], [0.1111111111111111, \"#46039f\"], [0.2222222222222222, \"#7201a8\"], [0.3333333333333333, \"#9c179e\"], [0.4444444444444444, \"#bd3786\"], [0.5555555555555556, \"#d8576b\"], [0.6666666666666666, \"#ed7953\"], [0.7777777777777778, \"#fb9f3a\"], [0.8888888888888888, \"#fdca26\"], [1.0, \"#f0f921\"]], \"type\": \"surface\"}], \"table\": [{\"cells\": {\"fill\": {\"color\": \"#EBF0F8\"}, \"line\": {\"color\": \"white\"}}, \"header\": {\"fill\": {\"color\": \"#C8D4E3\"}, \"line\": {\"color\": \"white\"}}, \"type\": \"table\"}]}, \"layout\": {\"annotationdefaults\": {\"arrowcolor\": \"#2a3f5f\", \"arrowhead\": 0, \"arrowwidth\": 1}, \"colorscale\": {\"diverging\": [[0, \"#8e0152\"], [0.1, \"#c51b7d\"], [0.2, \"#de77ae\"], [0.3, \"#f1b6da\"], [0.4, \"#fde0ef\"], [0.5, \"#f7f7f7\"], [0.6, \"#e6f5d0\"], [0.7, \"#b8e186\"], [0.8, \"#7fbc41\"], [0.9, \"#4d9221\"], [1, \"#276419\"]], \"sequential\": [[0.0, \"#0d0887\"], [0.1111111111111111, \"#46039f\"], [0.2222222222222222, \"#7201a8\"], [0.3333333333333333, \"#9c179e\"], [0.4444444444444444, \"#bd3786\"], [0.5555555555555556, \"#d8576b\"], [0.6666666666666666, \"#ed7953\"], [0.7777777777777778, \"#fb9f3a\"], [0.8888888888888888, \"#fdca26\"], [1.0, \"#f0f921\"]], \"sequentialminus\": [[0.0, \"#0d0887\"], [0.1111111111111111, \"#46039f\"], [0.2222222222222222, \"#7201a8\"], [0.3333333333333333, \"#9c179e\"], [0.4444444444444444, \"#bd3786\"], [0.5555555555555556, \"#d8576b\"], [0.6666666666666666, \"#ed7953\"], [0.7777777777777778, \"#fb9f3a\"], [0.8888888888888888, \"#fdca26\"], [1.0, \"#f0f921\"]]}, \"colorway\": [\"#636efa\", \"#EF553B\", \"#00cc96\", \"#ab63fa\", \"#FFA15A\", \"#19d3f3\", \"#FF6692\", \"#B6E880\", \"#FF97FF\", \"#FECB52\"], \"font\": {\"color\": \"#2a3f5f\"}, \"geo\": {\"bgcolor\": \"white\", \"lakecolor\": \"white\", \"landcolor\": \"#E5ECF6\", \"showlakes\": true, \"showland\": true, \"subunitcolor\": \"white\"}, \"hoverlabel\": {\"align\": \"left\"}, \"hovermode\": \"closest\", \"mapbox\": {\"style\": \"light\"}, \"paper_bgcolor\": \"white\", \"plot_bgcolor\": \"#E5ECF6\", \"polar\": {\"angularaxis\": {\"gridcolor\": \"white\", \"linecolor\": \"white\", \"ticks\": \"\"}, \"bgcolor\": \"#E5ECF6\", \"radialaxis\": {\"gridcolor\": \"white\", \"linecolor\": \"white\", \"ticks\": \"\"}}, \"scene\": {\"xaxis\": {\"backgroundcolor\": \"#E5ECF6\", \"gridcolor\": \"white\", \"gridwidth\": 2, \"linecolor\": \"white\", \"showbackground\": true, \"ticks\": \"\", \"zerolinecolor\": \"white\"}, \"yaxis\": {\"backgroundcolor\": \"#E5ECF6\", \"gridcolor\": \"white\", \"gridwidth\": 2, \"linecolor\": \"white\", \"showbackground\": true, \"ticks\": \"\", \"zerolinecolor\": \"white\"}, \"zaxis\": {\"backgroundcolor\": \"#E5ECF6\", \"gridcolor\": \"white\", \"gridwidth\": 2, \"linecolor\": \"white\", \"showbackground\": true, \"ticks\": \"\", \"zerolinecolor\": \"white\"}}, \"shapedefaults\": {\"line\": {\"color\": \"#2a3f5f\"}}, \"ternary\": {\"aaxis\": {\"gridcolor\": \"white\", \"linecolor\": \"white\", \"ticks\": \"\"}, \"baxis\": {\"gridcolor\": \"white\", \"linecolor\": \"white\", \"ticks\": \"\"}, \"bgcolor\": \"#E5ECF6\", \"caxis\": {\"gridcolor\": \"white\", \"linecolor\": \"white\", \"ticks\": \"\"}}, \"title\": {\"x\": 0.05}, \"xaxis\": {\"automargin\": true, \"gridcolor\": \"white\", \"linecolor\": \"white\", \"ticks\": \"\", \"zerolinecolor\": \"white\", \"zerolinewidth\": 2}, \"yaxis\": {\"automargin\": true, \"gridcolor\": \"white\", \"linecolor\": \"white\", \"ticks\": \"\", \"zerolinecolor\": \"white\", \"zerolinewidth\": 2}}}, \"xaxis\": {\"title\": {\"text\": \"Living in square feet\"}}, \"yaxis\": {\"title\": {\"text\": \"Prize\"}}},\n",
       "                        {\"responsive\": true}\n",
       "                    ).then(function(){\n",
       "                            \n",
       "var gd = document.getElementById('6c33b337-b8f7-4059-8e19-70c1fd32de28');\n",
       "var x = new MutationObserver(function (mutations, observer) {{\n",
       "        var display = window.getComputedStyle(gd).display;\n",
       "        if (!display || display === 'none') {{\n",
       "            console.log([gd, 'removed!']);\n",
       "            Plotly.purge(gd);\n",
       "            observer.disconnect();\n",
       "        }}\n",
       "}});\n",
       "\n",
       "// Listen for the removal of the full notebook cells\n",
       "var notebookContainer = gd.closest('#notebook-container');\n",
       "if (notebookContainer) {{\n",
       "    x.observe(notebookContainer, {childList: true});\n",
       "}}\n",
       "\n",
       "// Listen for the clearing of the current output cell\n",
       "var outputEl = gd.closest('.output');\n",
       "if (outputEl) {{\n",
       "    x.observe(outputEl, {childList: true});\n",
       "}}\n",
       "\n",
       "                        })\n",
       "                };\n",
       "                });\n",
       "            </script>\n",
       "        </div>"
      ]
     },
     "metadata": {},
     "output_type": "display_data"
    }
   ],
   "source": [
    "# Solution (punto 3)\n",
    "\n",
    "#Disegnare in un unico grafico lo scatter plot delle osservazioni del trainig set e la retta di regressione\n",
    "traceRetta=go.Scatter(x=xTrain[:,0],y=w*xTrain[:,0]+b,name='retta',mode=\"markers\",line = {'color': 'blue'})\n",
    "traceData=go.Scatter(x=xTrain[:,0], y=yTrain, mode=\"markers\", name=\"data\")\n",
    "layout = go.Layout(\n",
    "    xaxis = dict(title=\"Living in square feet\"),\n",
    "    yaxis = dict(title=\"Prize\")\n",
    ")\n",
    "#traceRetta,\n",
    "fig = go.Figure(data=[traceRetta,traceData], layout=layout)\n",
    "py.iplot(fig)"
   ]
  },
  {
   "cell_type": "code",
   "execution_count": 33,
   "metadata": {},
   "outputs": [
    {
     "data": {
      "application/vnd.plotly.v1+json": {
       "config": {
        "linkText": "Export to plot.ly",
        "plotlyServerURL": "https://plot.ly",
        "showLink": false
       },
       "data": [
        {
         "line": {
          "color": "blue"
         },
         "mode": "markers",
         "name": "data",
         "type": "scatter",
         "x": [
          1990,
          2900,
          920,
          4830,
          2120,
          2200,
          1410,
          2390,
          2420,
          2481,
          4060,
          2820,
          840,
          1520,
          2440,
          1090,
          3590,
          830,
          2460,
          1640,
          2380,
          1010,
          2220,
          2620,
          3460,
          3770,
          1180,
          1650,
          1750,
          1260,
          1540,
          3270,
          1280,
          3920,
          1040,
          1129,
          2590,
          2830,
          1240,
          1640,
          1930,
          1680,
          1520,
          2690,
          520,
          2970,
          1460,
          3180,
          2550,
          1850,
          4120,
          2230,
          2800,
          2330,
          1430,
          1830,
          1290,
          1140,
          2630,
          1600,
          2070,
          1060,
          1347,
          2000,
          970,
          1460,
          1010,
          2120,
          2260,
          910,
          2790,
          1610,
          3680,
          1790,
          4285,
          1270,
          1540,
          1580,
          1330,
          1650,
          1710,
          5860,
          4560,
          1700,
          1560,
          3540,
          1520,
          2160,
          1410,
          2290,
          2160,
          1340,
          1800,
          1120,
          2050,
          1500,
          3220,
          1970,
          1140,
          1600,
          1960,
          2790,
          2980,
          2160,
          4360,
          850,
          1670,
          1810,
          1390,
          1590,
          2400,
          2290,
          1300,
          2080,
          1630,
          1530,
          2200,
          2560,
          1620,
          1510,
          1180,
          5710,
          3150,
          2590,
          2550,
          2110,
          1750,
          2540,
          2720,
          3600,
          2900,
          2100,
          2260,
          1410,
          3060,
          1830,
          2530,
          1330,
          2090,
          2370,
          1800,
          1110,
          1740,
          1910,
          2280,
          1610,
          1050,
          1140,
          2270,
          940,
          3480
         ],
         "y": [
          529317.956094599,
          481725.08406376117,
          149894.19024074895,
          1894863.2785478083,
          696518.9743759079,
          501027.2933182518,
          165882.6437626055,
          968859.5508063186,
          314665.1704096976,
          293300.26360323484,
          504595.7087277481,
          1432216.7651214171,
          202802.87129840502,
          440206.5823083284,
          597552.2501452835,
          241849.3679932298,
          1279484.3349414775,
          277060.331430612,
          224429.32988086954,
          591469.0607218443,
          709921.0109385257,
          283341.0490508859,
          452904.37305383774,
          666445.9677655573,
          708283.3166601686,
          1014378.0525617513,
          202196.2268033667,
          323416.6005896373,
          563792.9992675672,
          261804.54574571064,
          242083.6620439144,
          539451.0591721018,
          300681.6254812966,
          802956.1505786462,
          404256.6686542648,
          322609.67347762245,
          903630.3481621784,
          692155.3049892102,
          468827.46601012466,
          239469.0607218443,
          372686.71688784106,
          336223.2201930163,
          310206.5823083284,
          773015.7468401083,
          271352.5955290293,
          810294.8631383121,
          170575.34310157047,
          320004.2003619649,
          694876.1886910065,
          593178.3979454971,
          837226.947934506,
          685792.9129216308,
          647339.6853858313,
          675228.3115995607,
          335759.7234981915,
          626301.3182099111,
          256620.16534908963,
          189742.06733219477,
          1280384.5076333503,
          269714.90125067235,
          351826.2750369429,
          303033.74838985084,
          312269.84259550966,
          307256.49596239196,
          203086.8895797139,
          302575.34310157044,
          303341.0490508859,
          505018.97437590786,
          499658.5325250097,
          216955.65037295598,
          542401.1455180382,
          257653.44111846533,
          571931.1937516144,
          380547.15873873915,
          1863212.8557530905,
          522743.08561350364,
          490083.6620439144,
          484837.82151508634,
          366374.32482026157,
          389407.6005896373,
          351538.8397963952,
          1713532.8849304863,
          1461522.7021173977,
          239100.29992860224,
          514960.7417795004,
          777791.6356025125,
          525206.5823083284,
          426273.1338470798,
          400882.6437626055,
          670474.1521283888,
          842273.1338470798,
          321312.8646880546,
          668485.6986065322,
          308664.98759660876,
          441949.1953013569,
          220329.50257274244,
          537758.3598331369,
          419440.876359013,
          532542.0673321948,
          374214.90125067235,
          352502.33649122,
          677401.1455180382,
          311233.4030061051,
          396273.1338470798,
          767878.9047615378,
          292324.411166198,
          974284.6803252232,
          491924.23847432516,
          266005.56402701954,
          294776.3613828793,
          659798.0906741116,
          615474.1521283888,
          666558.7052168826,
          576714.8149047359,
          316530.5208540513,
          490145.1221761214,
          571027.2933182517,
          333814.7285587995,
          339591.9809862583,
          431768.04244053544,
          439796.22680336674,
          894454.7869135916,
          675188.580758586,
          764630.3481621784,
          543876.1886910065,
          551580.4345081148,
          328792.9992675672,
          468937.6488232135,
          391331.3664434873,
          812422.8748092705,
          846725.0840637612,
          342641.8946403219,
          453158.5325250097,
          408882.6437626055,
          940491.721948449,
          258301.3182099111,
          433999.1089554205,
          230374.3248202616,
          771703.3547725289,
          569982.4710707327,
          463385.6986065321,
          440726.4477288158,
          639354.4593997742,
          472809.63715225505,
          519535.6122605957,
          364653.4411184653,
          643095.2085220579,
          152542.06733219477,
          605447.0723928027,
          343771.26997633494,
          458160.3963957546
         ]
        }
       ],
       "layout": {
        "template": {
         "data": {
          "bar": [
           {
            "error_x": {
             "color": "#2a3f5f"
            },
            "error_y": {
             "color": "#2a3f5f"
            },
            "marker": {
             "line": {
              "color": "#E5ECF6",
              "width": 0.5
             }
            },
            "type": "bar"
           }
          ],
          "barpolar": [
           {
            "marker": {
             "line": {
              "color": "#E5ECF6",
              "width": 0.5
             }
            },
            "type": "barpolar"
           }
          ],
          "carpet": [
           {
            "aaxis": {
             "endlinecolor": "#2a3f5f",
             "gridcolor": "white",
             "linecolor": "white",
             "minorgridcolor": "white",
             "startlinecolor": "#2a3f5f"
            },
            "baxis": {
             "endlinecolor": "#2a3f5f",
             "gridcolor": "white",
             "linecolor": "white",
             "minorgridcolor": "white",
             "startlinecolor": "#2a3f5f"
            },
            "type": "carpet"
           }
          ],
          "choropleth": [
           {
            "colorbar": {
             "outlinewidth": 0,
             "ticks": ""
            },
            "type": "choropleth"
           }
          ],
          "contour": [
           {
            "colorbar": {
             "outlinewidth": 0,
             "ticks": ""
            },
            "colorscale": [
             [
              0,
              "#0d0887"
             ],
             [
              0.1111111111111111,
              "#46039f"
             ],
             [
              0.2222222222222222,
              "#7201a8"
             ],
             [
              0.3333333333333333,
              "#9c179e"
             ],
             [
              0.4444444444444444,
              "#bd3786"
             ],
             [
              0.5555555555555556,
              "#d8576b"
             ],
             [
              0.6666666666666666,
              "#ed7953"
             ],
             [
              0.7777777777777778,
              "#fb9f3a"
             ],
             [
              0.8888888888888888,
              "#fdca26"
             ],
             [
              1,
              "#f0f921"
             ]
            ],
            "type": "contour"
           }
          ],
          "contourcarpet": [
           {
            "colorbar": {
             "outlinewidth": 0,
             "ticks": ""
            },
            "type": "contourcarpet"
           }
          ],
          "heatmap": [
           {
            "colorbar": {
             "outlinewidth": 0,
             "ticks": ""
            },
            "colorscale": [
             [
              0,
              "#0d0887"
             ],
             [
              0.1111111111111111,
              "#46039f"
             ],
             [
              0.2222222222222222,
              "#7201a8"
             ],
             [
              0.3333333333333333,
              "#9c179e"
             ],
             [
              0.4444444444444444,
              "#bd3786"
             ],
             [
              0.5555555555555556,
              "#d8576b"
             ],
             [
              0.6666666666666666,
              "#ed7953"
             ],
             [
              0.7777777777777778,
              "#fb9f3a"
             ],
             [
              0.8888888888888888,
              "#fdca26"
             ],
             [
              1,
              "#f0f921"
             ]
            ],
            "type": "heatmap"
           }
          ],
          "heatmapgl": [
           {
            "colorbar": {
             "outlinewidth": 0,
             "ticks": ""
            },
            "colorscale": [
             [
              0,
              "#0d0887"
             ],
             [
              0.1111111111111111,
              "#46039f"
             ],
             [
              0.2222222222222222,
              "#7201a8"
             ],
             [
              0.3333333333333333,
              "#9c179e"
             ],
             [
              0.4444444444444444,
              "#bd3786"
             ],
             [
              0.5555555555555556,
              "#d8576b"
             ],
             [
              0.6666666666666666,
              "#ed7953"
             ],
             [
              0.7777777777777778,
              "#fb9f3a"
             ],
             [
              0.8888888888888888,
              "#fdca26"
             ],
             [
              1,
              "#f0f921"
             ]
            ],
            "type": "heatmapgl"
           }
          ],
          "histogram": [
           {
            "marker": {
             "colorbar": {
              "outlinewidth": 0,
              "ticks": ""
             }
            },
            "type": "histogram"
           }
          ],
          "histogram2d": [
           {
            "colorbar": {
             "outlinewidth": 0,
             "ticks": ""
            },
            "colorscale": [
             [
              0,
              "#0d0887"
             ],
             [
              0.1111111111111111,
              "#46039f"
             ],
             [
              0.2222222222222222,
              "#7201a8"
             ],
             [
              0.3333333333333333,
              "#9c179e"
             ],
             [
              0.4444444444444444,
              "#bd3786"
             ],
             [
              0.5555555555555556,
              "#d8576b"
             ],
             [
              0.6666666666666666,
              "#ed7953"
             ],
             [
              0.7777777777777778,
              "#fb9f3a"
             ],
             [
              0.8888888888888888,
              "#fdca26"
             ],
             [
              1,
              "#f0f921"
             ]
            ],
            "type": "histogram2d"
           }
          ],
          "histogram2dcontour": [
           {
            "colorbar": {
             "outlinewidth": 0,
             "ticks": ""
            },
            "colorscale": [
             [
              0,
              "#0d0887"
             ],
             [
              0.1111111111111111,
              "#46039f"
             ],
             [
              0.2222222222222222,
              "#7201a8"
             ],
             [
              0.3333333333333333,
              "#9c179e"
             ],
             [
              0.4444444444444444,
              "#bd3786"
             ],
             [
              0.5555555555555556,
              "#d8576b"
             ],
             [
              0.6666666666666666,
              "#ed7953"
             ],
             [
              0.7777777777777778,
              "#fb9f3a"
             ],
             [
              0.8888888888888888,
              "#fdca26"
             ],
             [
              1,
              "#f0f921"
             ]
            ],
            "type": "histogram2dcontour"
           }
          ],
          "mesh3d": [
           {
            "colorbar": {
             "outlinewidth": 0,
             "ticks": ""
            },
            "type": "mesh3d"
           }
          ],
          "parcoords": [
           {
            "line": {
             "colorbar": {
              "outlinewidth": 0,
              "ticks": ""
             }
            },
            "type": "parcoords"
           }
          ],
          "scatter": [
           {
            "marker": {
             "colorbar": {
              "outlinewidth": 0,
              "ticks": ""
             }
            },
            "type": "scatter"
           }
          ],
          "scatter3d": [
           {
            "line": {
             "colorbar": {
              "outlinewidth": 0,
              "ticks": ""
             }
            },
            "marker": {
             "colorbar": {
              "outlinewidth": 0,
              "ticks": ""
             }
            },
            "type": "scatter3d"
           }
          ],
          "scattercarpet": [
           {
            "marker": {
             "colorbar": {
              "outlinewidth": 0,
              "ticks": ""
             }
            },
            "type": "scattercarpet"
           }
          ],
          "scattergeo": [
           {
            "marker": {
             "colorbar": {
              "outlinewidth": 0,
              "ticks": ""
             }
            },
            "type": "scattergeo"
           }
          ],
          "scattergl": [
           {
            "marker": {
             "colorbar": {
              "outlinewidth": 0,
              "ticks": ""
             }
            },
            "type": "scattergl"
           }
          ],
          "scattermapbox": [
           {
            "marker": {
             "colorbar": {
              "outlinewidth": 0,
              "ticks": ""
             }
            },
            "type": "scattermapbox"
           }
          ],
          "scatterpolar": [
           {
            "marker": {
             "colorbar": {
              "outlinewidth": 0,
              "ticks": ""
             }
            },
            "type": "scatterpolar"
           }
          ],
          "scatterpolargl": [
           {
            "marker": {
             "colorbar": {
              "outlinewidth": 0,
              "ticks": ""
             }
            },
            "type": "scatterpolargl"
           }
          ],
          "scatterternary": [
           {
            "marker": {
             "colorbar": {
              "outlinewidth": 0,
              "ticks": ""
             }
            },
            "type": "scatterternary"
           }
          ],
          "surface": [
           {
            "colorbar": {
             "outlinewidth": 0,
             "ticks": ""
            },
            "colorscale": [
             [
              0,
              "#0d0887"
             ],
             [
              0.1111111111111111,
              "#46039f"
             ],
             [
              0.2222222222222222,
              "#7201a8"
             ],
             [
              0.3333333333333333,
              "#9c179e"
             ],
             [
              0.4444444444444444,
              "#bd3786"
             ],
             [
              0.5555555555555556,
              "#d8576b"
             ],
             [
              0.6666666666666666,
              "#ed7953"
             ],
             [
              0.7777777777777778,
              "#fb9f3a"
             ],
             [
              0.8888888888888888,
              "#fdca26"
             ],
             [
              1,
              "#f0f921"
             ]
            ],
            "type": "surface"
           }
          ],
          "table": [
           {
            "cells": {
             "fill": {
              "color": "#EBF0F8"
             },
             "line": {
              "color": "white"
             }
            },
            "header": {
             "fill": {
              "color": "#C8D4E3"
             },
             "line": {
              "color": "white"
             }
            },
            "type": "table"
           }
          ]
         },
         "layout": {
          "annotationdefaults": {
           "arrowcolor": "#2a3f5f",
           "arrowhead": 0,
           "arrowwidth": 1
          },
          "colorscale": {
           "diverging": [
            [
             0,
             "#8e0152"
            ],
            [
             0.1,
             "#c51b7d"
            ],
            [
             0.2,
             "#de77ae"
            ],
            [
             0.3,
             "#f1b6da"
            ],
            [
             0.4,
             "#fde0ef"
            ],
            [
             0.5,
             "#f7f7f7"
            ],
            [
             0.6,
             "#e6f5d0"
            ],
            [
             0.7,
             "#b8e186"
            ],
            [
             0.8,
             "#7fbc41"
            ],
            [
             0.9,
             "#4d9221"
            ],
            [
             1,
             "#276419"
            ]
           ],
           "sequential": [
            [
             0,
             "#0d0887"
            ],
            [
             0.1111111111111111,
             "#46039f"
            ],
            [
             0.2222222222222222,
             "#7201a8"
            ],
            [
             0.3333333333333333,
             "#9c179e"
            ],
            [
             0.4444444444444444,
             "#bd3786"
            ],
            [
             0.5555555555555556,
             "#d8576b"
            ],
            [
             0.6666666666666666,
             "#ed7953"
            ],
            [
             0.7777777777777778,
             "#fb9f3a"
            ],
            [
             0.8888888888888888,
             "#fdca26"
            ],
            [
             1,
             "#f0f921"
            ]
           ],
           "sequentialminus": [
            [
             0,
             "#0d0887"
            ],
            [
             0.1111111111111111,
             "#46039f"
            ],
            [
             0.2222222222222222,
             "#7201a8"
            ],
            [
             0.3333333333333333,
             "#9c179e"
            ],
            [
             0.4444444444444444,
             "#bd3786"
            ],
            [
             0.5555555555555556,
             "#d8576b"
            ],
            [
             0.6666666666666666,
             "#ed7953"
            ],
            [
             0.7777777777777778,
             "#fb9f3a"
            ],
            [
             0.8888888888888888,
             "#fdca26"
            ],
            [
             1,
             "#f0f921"
            ]
           ]
          },
          "colorway": [
           "#636efa",
           "#EF553B",
           "#00cc96",
           "#ab63fa",
           "#FFA15A",
           "#19d3f3",
           "#FF6692",
           "#B6E880",
           "#FF97FF",
           "#FECB52"
          ],
          "font": {
           "color": "#2a3f5f"
          },
          "geo": {
           "bgcolor": "white",
           "lakecolor": "white",
           "landcolor": "#E5ECF6",
           "showlakes": true,
           "showland": true,
           "subunitcolor": "white"
          },
          "hoverlabel": {
           "align": "left"
          },
          "hovermode": "closest",
          "mapbox": {
           "style": "light"
          },
          "paper_bgcolor": "white",
          "plot_bgcolor": "#E5ECF6",
          "polar": {
           "angularaxis": {
            "gridcolor": "white",
            "linecolor": "white",
            "ticks": ""
           },
           "bgcolor": "#E5ECF6",
           "radialaxis": {
            "gridcolor": "white",
            "linecolor": "white",
            "ticks": ""
           }
          },
          "scene": {
           "xaxis": {
            "backgroundcolor": "#E5ECF6",
            "gridcolor": "white",
            "gridwidth": 2,
            "linecolor": "white",
            "showbackground": true,
            "ticks": "",
            "zerolinecolor": "white"
           },
           "yaxis": {
            "backgroundcolor": "#E5ECF6",
            "gridcolor": "white",
            "gridwidth": 2,
            "linecolor": "white",
            "showbackground": true,
            "ticks": "",
            "zerolinecolor": "white"
           },
           "zaxis": {
            "backgroundcolor": "#E5ECF6",
            "gridcolor": "white",
            "gridwidth": 2,
            "linecolor": "white",
            "showbackground": true,
            "ticks": "",
            "zerolinecolor": "white"
           }
          },
          "shapedefaults": {
           "line": {
            "color": "#2a3f5f"
           }
          },
          "ternary": {
           "aaxis": {
            "gridcolor": "white",
            "linecolor": "white",
            "ticks": ""
           },
           "baxis": {
            "gridcolor": "white",
            "linecolor": "white",
            "ticks": ""
           },
           "bgcolor": "#E5ECF6",
           "caxis": {
            "gridcolor": "white",
            "linecolor": "white",
            "ticks": ""
           }
          },
          "title": {
           "x": 0.05
          },
          "xaxis": {
           "automargin": true,
           "gridcolor": "white",
           "linecolor": "white",
           "ticks": "",
           "zerolinecolor": "white",
           "zerolinewidth": 2
          },
          "yaxis": {
           "automargin": true,
           "gridcolor": "white",
           "linecolor": "white",
           "ticks": "",
           "zerolinecolor": "white",
           "zerolinewidth": 2
          }
         }
        },
        "xaxis": {
         "title": {
          "text": "Living in square feet"
         }
        },
        "yaxis": {
         "title": {
          "text": "Prize"
         }
        }
       }
      },
      "text/html": [
       "<div>\n",
       "        \n",
       "        \n",
       "            <div id=\"a2202f7c-3d70-4bc2-a59c-14bcbe7a3008\" class=\"plotly-graph-div\" style=\"height:525px; width:100%;\"></div>\n",
       "            <script type=\"text/javascript\">\n",
       "                require([\"plotly\"], function(Plotly) {\n",
       "                    window.PLOTLYENV=window.PLOTLYENV || {};\n",
       "                    \n",
       "                if (document.getElementById(\"a2202f7c-3d70-4bc2-a59c-14bcbe7a3008\")) {\n",
       "                    Plotly.newPlot(\n",
       "                        'a2202f7c-3d70-4bc2-a59c-14bcbe7a3008',\n",
       "                        [{\"line\": {\"color\": \"blue\"}, \"mode\": \"markers\", \"name\": \"data\", \"type\": \"scatter\", \"x\": [1990, 2900, 920, 4830, 2120, 2200, 1410, 2390, 2420, 2481, 4060, 2820, 840, 1520, 2440, 1090, 3590, 830, 2460, 1640, 2380, 1010, 2220, 2620, 3460, 3770, 1180, 1650, 1750, 1260, 1540, 3270, 1280, 3920, 1040, 1129, 2590, 2830, 1240, 1640, 1930, 1680, 1520, 2690, 520, 2970, 1460, 3180, 2550, 1850, 4120, 2230, 2800, 2330, 1430, 1830, 1290, 1140, 2630, 1600, 2070, 1060, 1347, 2000, 970, 1460, 1010, 2120, 2260, 910, 2790, 1610, 3680, 1790, 4285, 1270, 1540, 1580, 1330, 1650, 1710, 5860, 4560, 1700, 1560, 3540, 1520, 2160, 1410, 2290, 2160, 1340, 1800, 1120, 2050, 1500, 3220, 1970, 1140, 1600, 1960, 2790, 2980, 2160, 4360, 850, 1670, 1810, 1390, 1590, 2400, 2290, 1300, 2080, 1630, 1530, 2200, 2560, 1620, 1510, 1180, 5710, 3150, 2590, 2550, 2110, 1750, 2540, 2720, 3600, 2900, 2100, 2260, 1410, 3060, 1830, 2530, 1330, 2090, 2370, 1800, 1110, 1740, 1910, 2280, 1610, 1050, 1140, 2270, 940, 3480], \"y\": [529317.956094599, 481725.08406376117, 149894.19024074895, 1894863.2785478083, 696518.9743759079, 501027.2933182518, 165882.6437626055, 968859.5508063186, 314665.1704096976, 293300.26360323484, 504595.7087277481, 1432216.7651214171, 202802.87129840502, 440206.5823083284, 597552.2501452835, 241849.3679932298, 1279484.3349414775, 277060.331430612, 224429.32988086954, 591469.0607218443, 709921.0109385257, 283341.0490508859, 452904.37305383774, 666445.9677655573, 708283.3166601686, 1014378.0525617513, 202196.2268033667, 323416.6005896373, 563792.9992675672, 261804.54574571064, 242083.6620439144, 539451.0591721018, 300681.6254812966, 802956.1505786462, 404256.6686542648, 322609.67347762245, 903630.3481621784, 692155.3049892102, 468827.46601012466, 239469.0607218443, 372686.71688784106, 336223.2201930163, 310206.5823083284, 773015.7468401083, 271352.5955290293, 810294.8631383121, 170575.34310157047, 320004.2003619649, 694876.1886910065, 593178.3979454971, 837226.947934506, 685792.9129216308, 647339.6853858313, 675228.3115995607, 335759.7234981915, 626301.3182099111, 256620.16534908963, 189742.06733219477, 1280384.5076333503, 269714.90125067235, 351826.2750369429, 303033.74838985084, 312269.84259550966, 307256.49596239196, 203086.8895797139, 302575.34310157044, 303341.0490508859, 505018.97437590786, 499658.5325250097, 216955.65037295598, 542401.1455180382, 257653.44111846533, 571931.1937516144, 380547.15873873915, 1863212.8557530905, 522743.08561350364, 490083.6620439144, 484837.82151508634, 366374.32482026157, 389407.6005896373, 351538.8397963952, 1713532.8849304863, 1461522.7021173977, 239100.29992860224, 514960.7417795004, 777791.6356025125, 525206.5823083284, 426273.1338470798, 400882.6437626055, 670474.1521283888, 842273.1338470798, 321312.8646880546, 668485.6986065322, 308664.98759660876, 441949.1953013569, 220329.50257274244, 537758.3598331369, 419440.876359013, 532542.0673321948, 374214.90125067235, 352502.33649122, 677401.1455180382, 311233.4030061051, 396273.1338470798, 767878.9047615378, 292324.411166198, 974284.6803252232, 491924.23847432516, 266005.56402701954, 294776.3613828793, 659798.0906741116, 615474.1521283888, 666558.7052168826, 576714.8149047359, 316530.5208540513, 490145.1221761214, 571027.2933182517, 333814.7285587995, 339591.9809862583, 431768.04244053544, 439796.22680336674, 894454.7869135916, 675188.580758586, 764630.3481621784, 543876.1886910065, 551580.4345081148, 328792.9992675672, 468937.6488232135, 391331.3664434873, 812422.8748092705, 846725.0840637612, 342641.8946403219, 453158.5325250097, 408882.6437626055, 940491.721948449, 258301.3182099111, 433999.1089554205, 230374.3248202616, 771703.3547725289, 569982.4710707327, 463385.6986065321, 440726.4477288158, 639354.4593997742, 472809.63715225505, 519535.6122605957, 364653.4411184653, 643095.2085220579, 152542.06733219477, 605447.0723928027, 343771.26997633494, 458160.3963957546]}],\n",
       "                        {\"template\": {\"data\": {\"bar\": [{\"error_x\": {\"color\": \"#2a3f5f\"}, \"error_y\": {\"color\": \"#2a3f5f\"}, \"marker\": {\"line\": {\"color\": \"#E5ECF6\", \"width\": 0.5}}, \"type\": \"bar\"}], \"barpolar\": [{\"marker\": {\"line\": {\"color\": \"#E5ECF6\", \"width\": 0.5}}, \"type\": \"barpolar\"}], \"carpet\": [{\"aaxis\": {\"endlinecolor\": \"#2a3f5f\", \"gridcolor\": \"white\", \"linecolor\": \"white\", \"minorgridcolor\": \"white\", \"startlinecolor\": \"#2a3f5f\"}, \"baxis\": {\"endlinecolor\": \"#2a3f5f\", \"gridcolor\": \"white\", \"linecolor\": \"white\", \"minorgridcolor\": \"white\", \"startlinecolor\": \"#2a3f5f\"}, \"type\": \"carpet\"}], \"choropleth\": [{\"colorbar\": {\"outlinewidth\": 0, \"ticks\": \"\"}, \"type\": \"choropleth\"}], \"contour\": [{\"colorbar\": {\"outlinewidth\": 0, \"ticks\": \"\"}, \"colorscale\": [[0.0, \"#0d0887\"], [0.1111111111111111, \"#46039f\"], [0.2222222222222222, \"#7201a8\"], [0.3333333333333333, \"#9c179e\"], [0.4444444444444444, \"#bd3786\"], [0.5555555555555556, \"#d8576b\"], [0.6666666666666666, \"#ed7953\"], [0.7777777777777778, \"#fb9f3a\"], [0.8888888888888888, \"#fdca26\"], [1.0, \"#f0f921\"]], \"type\": \"contour\"}], \"contourcarpet\": [{\"colorbar\": {\"outlinewidth\": 0, \"ticks\": \"\"}, \"type\": \"contourcarpet\"}], \"heatmap\": [{\"colorbar\": {\"outlinewidth\": 0, \"ticks\": \"\"}, \"colorscale\": [[0.0, \"#0d0887\"], [0.1111111111111111, \"#46039f\"], [0.2222222222222222, \"#7201a8\"], [0.3333333333333333, \"#9c179e\"], [0.4444444444444444, \"#bd3786\"], [0.5555555555555556, \"#d8576b\"], [0.6666666666666666, \"#ed7953\"], [0.7777777777777778, \"#fb9f3a\"], [0.8888888888888888, \"#fdca26\"], [1.0, \"#f0f921\"]], \"type\": \"heatmap\"}], \"heatmapgl\": [{\"colorbar\": {\"outlinewidth\": 0, \"ticks\": \"\"}, \"colorscale\": [[0.0, \"#0d0887\"], [0.1111111111111111, \"#46039f\"], [0.2222222222222222, \"#7201a8\"], [0.3333333333333333, \"#9c179e\"], [0.4444444444444444, \"#bd3786\"], [0.5555555555555556, \"#d8576b\"], [0.6666666666666666, \"#ed7953\"], [0.7777777777777778, \"#fb9f3a\"], [0.8888888888888888, \"#fdca26\"], [1.0, \"#f0f921\"]], \"type\": \"heatmapgl\"}], \"histogram\": [{\"marker\": {\"colorbar\": {\"outlinewidth\": 0, \"ticks\": \"\"}}, \"type\": \"histogram\"}], \"histogram2d\": [{\"colorbar\": {\"outlinewidth\": 0, \"ticks\": \"\"}, \"colorscale\": [[0.0, \"#0d0887\"], [0.1111111111111111, \"#46039f\"], [0.2222222222222222, \"#7201a8\"], [0.3333333333333333, \"#9c179e\"], [0.4444444444444444, \"#bd3786\"], [0.5555555555555556, \"#d8576b\"], [0.6666666666666666, \"#ed7953\"], [0.7777777777777778, \"#fb9f3a\"], [0.8888888888888888, \"#fdca26\"], [1.0, \"#f0f921\"]], \"type\": \"histogram2d\"}], \"histogram2dcontour\": [{\"colorbar\": {\"outlinewidth\": 0, \"ticks\": \"\"}, \"colorscale\": [[0.0, \"#0d0887\"], [0.1111111111111111, \"#46039f\"], [0.2222222222222222, \"#7201a8\"], [0.3333333333333333, \"#9c179e\"], [0.4444444444444444, \"#bd3786\"], [0.5555555555555556, \"#d8576b\"], [0.6666666666666666, \"#ed7953\"], [0.7777777777777778, \"#fb9f3a\"], [0.8888888888888888, \"#fdca26\"], [1.0, \"#f0f921\"]], \"type\": \"histogram2dcontour\"}], \"mesh3d\": [{\"colorbar\": {\"outlinewidth\": 0, \"ticks\": \"\"}, \"type\": \"mesh3d\"}], \"parcoords\": [{\"line\": {\"colorbar\": {\"outlinewidth\": 0, \"ticks\": \"\"}}, \"type\": \"parcoords\"}], \"scatter\": [{\"marker\": {\"colorbar\": {\"outlinewidth\": 0, \"ticks\": \"\"}}, \"type\": \"scatter\"}], \"scatter3d\": [{\"line\": {\"colorbar\": {\"outlinewidth\": 0, \"ticks\": \"\"}}, \"marker\": {\"colorbar\": {\"outlinewidth\": 0, \"ticks\": \"\"}}, \"type\": \"scatter3d\"}], \"scattercarpet\": [{\"marker\": {\"colorbar\": {\"outlinewidth\": 0, \"ticks\": \"\"}}, \"type\": \"scattercarpet\"}], \"scattergeo\": [{\"marker\": {\"colorbar\": {\"outlinewidth\": 0, \"ticks\": \"\"}}, \"type\": \"scattergeo\"}], \"scattergl\": [{\"marker\": {\"colorbar\": {\"outlinewidth\": 0, \"ticks\": \"\"}}, \"type\": \"scattergl\"}], \"scattermapbox\": [{\"marker\": {\"colorbar\": {\"outlinewidth\": 0, \"ticks\": \"\"}}, \"type\": \"scattermapbox\"}], \"scatterpolar\": [{\"marker\": {\"colorbar\": {\"outlinewidth\": 0, \"ticks\": \"\"}}, \"type\": \"scatterpolar\"}], \"scatterpolargl\": [{\"marker\": {\"colorbar\": {\"outlinewidth\": 0, \"ticks\": \"\"}}, \"type\": \"scatterpolargl\"}], \"scatterternary\": [{\"marker\": {\"colorbar\": {\"outlinewidth\": 0, \"ticks\": \"\"}}, \"type\": \"scatterternary\"}], \"surface\": [{\"colorbar\": {\"outlinewidth\": 0, \"ticks\": \"\"}, \"colorscale\": [[0.0, \"#0d0887\"], [0.1111111111111111, \"#46039f\"], [0.2222222222222222, \"#7201a8\"], [0.3333333333333333, \"#9c179e\"], [0.4444444444444444, \"#bd3786\"], [0.5555555555555556, \"#d8576b\"], [0.6666666666666666, \"#ed7953\"], [0.7777777777777778, \"#fb9f3a\"], [0.8888888888888888, \"#fdca26\"], [1.0, \"#f0f921\"]], \"type\": \"surface\"}], \"table\": [{\"cells\": {\"fill\": {\"color\": \"#EBF0F8\"}, \"line\": {\"color\": \"white\"}}, \"header\": {\"fill\": {\"color\": \"#C8D4E3\"}, \"line\": {\"color\": \"white\"}}, \"type\": \"table\"}]}, \"layout\": {\"annotationdefaults\": {\"arrowcolor\": \"#2a3f5f\", \"arrowhead\": 0, \"arrowwidth\": 1}, \"colorscale\": {\"diverging\": [[0, \"#8e0152\"], [0.1, \"#c51b7d\"], [0.2, \"#de77ae\"], [0.3, \"#f1b6da\"], [0.4, \"#fde0ef\"], [0.5, \"#f7f7f7\"], [0.6, \"#e6f5d0\"], [0.7, \"#b8e186\"], [0.8, \"#7fbc41\"], [0.9, \"#4d9221\"], [1, \"#276419\"]], \"sequential\": [[0.0, \"#0d0887\"], [0.1111111111111111, \"#46039f\"], [0.2222222222222222, \"#7201a8\"], [0.3333333333333333, \"#9c179e\"], [0.4444444444444444, \"#bd3786\"], [0.5555555555555556, \"#d8576b\"], [0.6666666666666666, \"#ed7953\"], [0.7777777777777778, \"#fb9f3a\"], [0.8888888888888888, \"#fdca26\"], [1.0, \"#f0f921\"]], \"sequentialminus\": [[0.0, \"#0d0887\"], [0.1111111111111111, \"#46039f\"], [0.2222222222222222, \"#7201a8\"], [0.3333333333333333, \"#9c179e\"], [0.4444444444444444, \"#bd3786\"], [0.5555555555555556, \"#d8576b\"], [0.6666666666666666, \"#ed7953\"], [0.7777777777777778, \"#fb9f3a\"], [0.8888888888888888, \"#fdca26\"], [1.0, \"#f0f921\"]]}, \"colorway\": [\"#636efa\", \"#EF553B\", \"#00cc96\", \"#ab63fa\", \"#FFA15A\", \"#19d3f3\", \"#FF6692\", \"#B6E880\", \"#FF97FF\", \"#FECB52\"], \"font\": {\"color\": \"#2a3f5f\"}, \"geo\": {\"bgcolor\": \"white\", \"lakecolor\": \"white\", \"landcolor\": \"#E5ECF6\", \"showlakes\": true, \"showland\": true, \"subunitcolor\": \"white\"}, \"hoverlabel\": {\"align\": \"left\"}, \"hovermode\": \"closest\", \"mapbox\": {\"style\": \"light\"}, \"paper_bgcolor\": \"white\", \"plot_bgcolor\": \"#E5ECF6\", \"polar\": {\"angularaxis\": {\"gridcolor\": \"white\", \"linecolor\": \"white\", \"ticks\": \"\"}, \"bgcolor\": \"#E5ECF6\", \"radialaxis\": {\"gridcolor\": \"white\", \"linecolor\": \"white\", \"ticks\": \"\"}}, \"scene\": {\"xaxis\": {\"backgroundcolor\": \"#E5ECF6\", \"gridcolor\": \"white\", \"gridwidth\": 2, \"linecolor\": \"white\", \"showbackground\": true, \"ticks\": \"\", \"zerolinecolor\": \"white\"}, \"yaxis\": {\"backgroundcolor\": \"#E5ECF6\", \"gridcolor\": \"white\", \"gridwidth\": 2, \"linecolor\": \"white\", \"showbackground\": true, \"ticks\": \"\", \"zerolinecolor\": \"white\"}, \"zaxis\": {\"backgroundcolor\": \"#E5ECF6\", \"gridcolor\": \"white\", \"gridwidth\": 2, \"linecolor\": \"white\", \"showbackground\": true, \"ticks\": \"\", \"zerolinecolor\": \"white\"}}, \"shapedefaults\": {\"line\": {\"color\": \"#2a3f5f\"}}, \"ternary\": {\"aaxis\": {\"gridcolor\": \"white\", \"linecolor\": \"white\", \"ticks\": \"\"}, \"baxis\": {\"gridcolor\": \"white\", \"linecolor\": \"white\", \"ticks\": \"\"}, \"bgcolor\": \"#E5ECF6\", \"caxis\": {\"gridcolor\": \"white\", \"linecolor\": \"white\", \"ticks\": \"\"}}, \"title\": {\"x\": 0.05}, \"xaxis\": {\"automargin\": true, \"gridcolor\": \"white\", \"linecolor\": \"white\", \"ticks\": \"\", \"zerolinecolor\": \"white\", \"zerolinewidth\": 2}, \"yaxis\": {\"automargin\": true, \"gridcolor\": \"white\", \"linecolor\": \"white\", \"ticks\": \"\", \"zerolinecolor\": \"white\", \"zerolinewidth\": 2}}}, \"xaxis\": {\"title\": {\"text\": \"Living in square feet\"}}, \"yaxis\": {\"title\": {\"text\": \"Prize\"}}},\n",
       "                        {\"responsive\": true}\n",
       "                    ).then(function(){\n",
       "                            \n",
       "var gd = document.getElementById('a2202f7c-3d70-4bc2-a59c-14bcbe7a3008');\n",
       "var x = new MutationObserver(function (mutations, observer) {{\n",
       "        var display = window.getComputedStyle(gd).display;\n",
       "        if (!display || display === 'none') {{\n",
       "            console.log([gd, 'removed!']);\n",
       "            Plotly.purge(gd);\n",
       "            observer.disconnect();\n",
       "        }}\n",
       "}});\n",
       "\n",
       "// Listen for the removal of the full notebook cells\n",
       "var notebookContainer = gd.closest('#notebook-container');\n",
       "if (notebookContainer) {{\n",
       "    x.observe(notebookContainer, {childList: true});\n",
       "}}\n",
       "\n",
       "// Listen for the clearing of the current output cell\n",
       "var outputEl = gd.closest('.output');\n",
       "if (outputEl) {{\n",
       "    x.observe(outputEl, {childList: true});\n",
       "}}\n",
       "\n",
       "                        })\n",
       "                };\n",
       "                });\n",
       "            </script>\n",
       "        </div>"
      ]
     },
     "metadata": {},
     "output_type": "display_data"
    },
    {
     "data": {
      "application/vnd.plotly.v1+json": {
       "config": {
        "linkText": "Export to plot.ly",
        "plotlyServerURL": "https://plot.ly",
        "showLink": false
       },
       "data": [
        {
         "line": {
          "color": "red"
         },
         "mode": "markers",
         "name": "data",
         "type": "scatter",
         "x": [
          2130,
          2230,
          3720,
          3400,
          4130,
          1330,
          1840,
          2310,
          1190,
          2490,
          1320,
          1360,
          1420,
          910,
          3120,
          1110,
          1720,
          1440,
          2990,
          3080,
          730,
          4410,
          5730,
          1920,
          4680,
          2330,
          1610,
          1430,
          1360,
          1590,
          2610,
          4720,
          1420,
          3810,
          2240,
          2080,
          3430,
          2410,
          2050,
          3330,
          1830,
          3550,
          710,
          2070,
          2490,
          1270,
          1950,
          2320,
          1980,
          1240,
          3420,
          1160,
          1530,
          2340,
          2040,
          1110,
          1960,
          3600,
          1780,
          2320,
          1120,
          1710,
          1300,
          1990,
          1270
         ],
         "y": [
          306457.51424370083,
          425842.9129216308,
          1251685.3532227864,
          442652.0774534107,
          1044165.487802299,
          227241.3248202616,
          461039.8580777041,
          835351.2318639747,
          312234.7666711597,
          556744.9494842485,
          304435.7849524686,
          416189.94442364055,
          225821.1836303985,
          598955.650372956,
          1205372.961155207,
          312726.4477288158,
          223927.37966418822,
          345698.2633659845,
          556171.9428738981,
          280618.801684035,
          170011.93275268213,
          572444.6041005028,
          1192331.8666491776,
          536748.177020048,
          1130785.1805309136,
          375228.31159956066,
          360653.4411184653,
          790759.7234981915,
          244389.94442364055,
          326776.3613828793,
          727207.4278977644,
          845539.3400020854,
          706821.1836303985,
          942132.2120329234,
          321281.45278942375,
          329264.8149047359,
          975467.6970567896,
          602686.6305419046,
          259949.19530135693,
          809082.2983788598,
          274952.3182099111,
          557730.1754703056,
          380379.8530170962,
          1236826.275036943,
          1129244.9494842484,
          531743.0856135036,
          296563.796623427,
          245289.7717317677,
          342379.416226806,
          322927.46601012466,
          2228529.1571889967,
          298419.1470677807,
          644145.1221761215,
          603166.8514673536,
          538010.655433564,
          742726.4477288158,
          461502.33649122,
          901412.8748092705,
          249608.61887094617,
          385289.7717317677,
          457664.98759660876,
          200038.83979639524,
          387558.70521688263,
          332317.956094599,
          251743.08561350364
         ]
        }
       ],
       "layout": {
        "template": {
         "data": {
          "bar": [
           {
            "error_x": {
             "color": "#2a3f5f"
            },
            "error_y": {
             "color": "#2a3f5f"
            },
            "marker": {
             "line": {
              "color": "#E5ECF6",
              "width": 0.5
             }
            },
            "type": "bar"
           }
          ],
          "barpolar": [
           {
            "marker": {
             "line": {
              "color": "#E5ECF6",
              "width": 0.5
             }
            },
            "type": "barpolar"
           }
          ],
          "carpet": [
           {
            "aaxis": {
             "endlinecolor": "#2a3f5f",
             "gridcolor": "white",
             "linecolor": "white",
             "minorgridcolor": "white",
             "startlinecolor": "#2a3f5f"
            },
            "baxis": {
             "endlinecolor": "#2a3f5f",
             "gridcolor": "white",
             "linecolor": "white",
             "minorgridcolor": "white",
             "startlinecolor": "#2a3f5f"
            },
            "type": "carpet"
           }
          ],
          "choropleth": [
           {
            "colorbar": {
             "outlinewidth": 0,
             "ticks": ""
            },
            "type": "choropleth"
           }
          ],
          "contour": [
           {
            "colorbar": {
             "outlinewidth": 0,
             "ticks": ""
            },
            "colorscale": [
             [
              0,
              "#0d0887"
             ],
             [
              0.1111111111111111,
              "#46039f"
             ],
             [
              0.2222222222222222,
              "#7201a8"
             ],
             [
              0.3333333333333333,
              "#9c179e"
             ],
             [
              0.4444444444444444,
              "#bd3786"
             ],
             [
              0.5555555555555556,
              "#d8576b"
             ],
             [
              0.6666666666666666,
              "#ed7953"
             ],
             [
              0.7777777777777778,
              "#fb9f3a"
             ],
             [
              0.8888888888888888,
              "#fdca26"
             ],
             [
              1,
              "#f0f921"
             ]
            ],
            "type": "contour"
           }
          ],
          "contourcarpet": [
           {
            "colorbar": {
             "outlinewidth": 0,
             "ticks": ""
            },
            "type": "contourcarpet"
           }
          ],
          "heatmap": [
           {
            "colorbar": {
             "outlinewidth": 0,
             "ticks": ""
            },
            "colorscale": [
             [
              0,
              "#0d0887"
             ],
             [
              0.1111111111111111,
              "#46039f"
             ],
             [
              0.2222222222222222,
              "#7201a8"
             ],
             [
              0.3333333333333333,
              "#9c179e"
             ],
             [
              0.4444444444444444,
              "#bd3786"
             ],
             [
              0.5555555555555556,
              "#d8576b"
             ],
             [
              0.6666666666666666,
              "#ed7953"
             ],
             [
              0.7777777777777778,
              "#fb9f3a"
             ],
             [
              0.8888888888888888,
              "#fdca26"
             ],
             [
              1,
              "#f0f921"
             ]
            ],
            "type": "heatmap"
           }
          ],
          "heatmapgl": [
           {
            "colorbar": {
             "outlinewidth": 0,
             "ticks": ""
            },
            "colorscale": [
             [
              0,
              "#0d0887"
             ],
             [
              0.1111111111111111,
              "#46039f"
             ],
             [
              0.2222222222222222,
              "#7201a8"
             ],
             [
              0.3333333333333333,
              "#9c179e"
             ],
             [
              0.4444444444444444,
              "#bd3786"
             ],
             [
              0.5555555555555556,
              "#d8576b"
             ],
             [
              0.6666666666666666,
              "#ed7953"
             ],
             [
              0.7777777777777778,
              "#fb9f3a"
             ],
             [
              0.8888888888888888,
              "#fdca26"
             ],
             [
              1,
              "#f0f921"
             ]
            ],
            "type": "heatmapgl"
           }
          ],
          "histogram": [
           {
            "marker": {
             "colorbar": {
              "outlinewidth": 0,
              "ticks": ""
             }
            },
            "type": "histogram"
           }
          ],
          "histogram2d": [
           {
            "colorbar": {
             "outlinewidth": 0,
             "ticks": ""
            },
            "colorscale": [
             [
              0,
              "#0d0887"
             ],
             [
              0.1111111111111111,
              "#46039f"
             ],
             [
              0.2222222222222222,
              "#7201a8"
             ],
             [
              0.3333333333333333,
              "#9c179e"
             ],
             [
              0.4444444444444444,
              "#bd3786"
             ],
             [
              0.5555555555555556,
              "#d8576b"
             ],
             [
              0.6666666666666666,
              "#ed7953"
             ],
             [
              0.7777777777777778,
              "#fb9f3a"
             ],
             [
              0.8888888888888888,
              "#fdca26"
             ],
             [
              1,
              "#f0f921"
             ]
            ],
            "type": "histogram2d"
           }
          ],
          "histogram2dcontour": [
           {
            "colorbar": {
             "outlinewidth": 0,
             "ticks": ""
            },
            "colorscale": [
             [
              0,
              "#0d0887"
             ],
             [
              0.1111111111111111,
              "#46039f"
             ],
             [
              0.2222222222222222,
              "#7201a8"
             ],
             [
              0.3333333333333333,
              "#9c179e"
             ],
             [
              0.4444444444444444,
              "#bd3786"
             ],
             [
              0.5555555555555556,
              "#d8576b"
             ],
             [
              0.6666666666666666,
              "#ed7953"
             ],
             [
              0.7777777777777778,
              "#fb9f3a"
             ],
             [
              0.8888888888888888,
              "#fdca26"
             ],
             [
              1,
              "#f0f921"
             ]
            ],
            "type": "histogram2dcontour"
           }
          ],
          "mesh3d": [
           {
            "colorbar": {
             "outlinewidth": 0,
             "ticks": ""
            },
            "type": "mesh3d"
           }
          ],
          "parcoords": [
           {
            "line": {
             "colorbar": {
              "outlinewidth": 0,
              "ticks": ""
             }
            },
            "type": "parcoords"
           }
          ],
          "scatter": [
           {
            "marker": {
             "colorbar": {
              "outlinewidth": 0,
              "ticks": ""
             }
            },
            "type": "scatter"
           }
          ],
          "scatter3d": [
           {
            "line": {
             "colorbar": {
              "outlinewidth": 0,
              "ticks": ""
             }
            },
            "marker": {
             "colorbar": {
              "outlinewidth": 0,
              "ticks": ""
             }
            },
            "type": "scatter3d"
           }
          ],
          "scattercarpet": [
           {
            "marker": {
             "colorbar": {
              "outlinewidth": 0,
              "ticks": ""
             }
            },
            "type": "scattercarpet"
           }
          ],
          "scattergeo": [
           {
            "marker": {
             "colorbar": {
              "outlinewidth": 0,
              "ticks": ""
             }
            },
            "type": "scattergeo"
           }
          ],
          "scattergl": [
           {
            "marker": {
             "colorbar": {
              "outlinewidth": 0,
              "ticks": ""
             }
            },
            "type": "scattergl"
           }
          ],
          "scattermapbox": [
           {
            "marker": {
             "colorbar": {
              "outlinewidth": 0,
              "ticks": ""
             }
            },
            "type": "scattermapbox"
           }
          ],
          "scatterpolar": [
           {
            "marker": {
             "colorbar": {
              "outlinewidth": 0,
              "ticks": ""
             }
            },
            "type": "scatterpolar"
           }
          ],
          "scatterpolargl": [
           {
            "marker": {
             "colorbar": {
              "outlinewidth": 0,
              "ticks": ""
             }
            },
            "type": "scatterpolargl"
           }
          ],
          "scatterternary": [
           {
            "marker": {
             "colorbar": {
              "outlinewidth": 0,
              "ticks": ""
             }
            },
            "type": "scatterternary"
           }
          ],
          "surface": [
           {
            "colorbar": {
             "outlinewidth": 0,
             "ticks": ""
            },
            "colorscale": [
             [
              0,
              "#0d0887"
             ],
             [
              0.1111111111111111,
              "#46039f"
             ],
             [
              0.2222222222222222,
              "#7201a8"
             ],
             [
              0.3333333333333333,
              "#9c179e"
             ],
             [
              0.4444444444444444,
              "#bd3786"
             ],
             [
              0.5555555555555556,
              "#d8576b"
             ],
             [
              0.6666666666666666,
              "#ed7953"
             ],
             [
              0.7777777777777778,
              "#fb9f3a"
             ],
             [
              0.8888888888888888,
              "#fdca26"
             ],
             [
              1,
              "#f0f921"
             ]
            ],
            "type": "surface"
           }
          ],
          "table": [
           {
            "cells": {
             "fill": {
              "color": "#EBF0F8"
             },
             "line": {
              "color": "white"
             }
            },
            "header": {
             "fill": {
              "color": "#C8D4E3"
             },
             "line": {
              "color": "white"
             }
            },
            "type": "table"
           }
          ]
         },
         "layout": {
          "annotationdefaults": {
           "arrowcolor": "#2a3f5f",
           "arrowhead": 0,
           "arrowwidth": 1
          },
          "colorscale": {
           "diverging": [
            [
             0,
             "#8e0152"
            ],
            [
             0.1,
             "#c51b7d"
            ],
            [
             0.2,
             "#de77ae"
            ],
            [
             0.3,
             "#f1b6da"
            ],
            [
             0.4,
             "#fde0ef"
            ],
            [
             0.5,
             "#f7f7f7"
            ],
            [
             0.6,
             "#e6f5d0"
            ],
            [
             0.7,
             "#b8e186"
            ],
            [
             0.8,
             "#7fbc41"
            ],
            [
             0.9,
             "#4d9221"
            ],
            [
             1,
             "#276419"
            ]
           ],
           "sequential": [
            [
             0,
             "#0d0887"
            ],
            [
             0.1111111111111111,
             "#46039f"
            ],
            [
             0.2222222222222222,
             "#7201a8"
            ],
            [
             0.3333333333333333,
             "#9c179e"
            ],
            [
             0.4444444444444444,
             "#bd3786"
            ],
            [
             0.5555555555555556,
             "#d8576b"
            ],
            [
             0.6666666666666666,
             "#ed7953"
            ],
            [
             0.7777777777777778,
             "#fb9f3a"
            ],
            [
             0.8888888888888888,
             "#fdca26"
            ],
            [
             1,
             "#f0f921"
            ]
           ],
           "sequentialminus": [
            [
             0,
             "#0d0887"
            ],
            [
             0.1111111111111111,
             "#46039f"
            ],
            [
             0.2222222222222222,
             "#7201a8"
            ],
            [
             0.3333333333333333,
             "#9c179e"
            ],
            [
             0.4444444444444444,
             "#bd3786"
            ],
            [
             0.5555555555555556,
             "#d8576b"
            ],
            [
             0.6666666666666666,
             "#ed7953"
            ],
            [
             0.7777777777777778,
             "#fb9f3a"
            ],
            [
             0.8888888888888888,
             "#fdca26"
            ],
            [
             1,
             "#f0f921"
            ]
           ]
          },
          "colorway": [
           "#636efa",
           "#EF553B",
           "#00cc96",
           "#ab63fa",
           "#FFA15A",
           "#19d3f3",
           "#FF6692",
           "#B6E880",
           "#FF97FF",
           "#FECB52"
          ],
          "font": {
           "color": "#2a3f5f"
          },
          "geo": {
           "bgcolor": "white",
           "lakecolor": "white",
           "landcolor": "#E5ECF6",
           "showlakes": true,
           "showland": true,
           "subunitcolor": "white"
          },
          "hoverlabel": {
           "align": "left"
          },
          "hovermode": "closest",
          "mapbox": {
           "style": "light"
          },
          "paper_bgcolor": "white",
          "plot_bgcolor": "#E5ECF6",
          "polar": {
           "angularaxis": {
            "gridcolor": "white",
            "linecolor": "white",
            "ticks": ""
           },
           "bgcolor": "#E5ECF6",
           "radialaxis": {
            "gridcolor": "white",
            "linecolor": "white",
            "ticks": ""
           }
          },
          "scene": {
           "xaxis": {
            "backgroundcolor": "#E5ECF6",
            "gridcolor": "white",
            "gridwidth": 2,
            "linecolor": "white",
            "showbackground": true,
            "ticks": "",
            "zerolinecolor": "white"
           },
           "yaxis": {
            "backgroundcolor": "#E5ECF6",
            "gridcolor": "white",
            "gridwidth": 2,
            "linecolor": "white",
            "showbackground": true,
            "ticks": "",
            "zerolinecolor": "white"
           },
           "zaxis": {
            "backgroundcolor": "#E5ECF6",
            "gridcolor": "white",
            "gridwidth": 2,
            "linecolor": "white",
            "showbackground": true,
            "ticks": "",
            "zerolinecolor": "white"
           }
          },
          "shapedefaults": {
           "line": {
            "color": "#2a3f5f"
           }
          },
          "ternary": {
           "aaxis": {
            "gridcolor": "white",
            "linecolor": "white",
            "ticks": ""
           },
           "baxis": {
            "gridcolor": "white",
            "linecolor": "white",
            "ticks": ""
           },
           "bgcolor": "#E5ECF6",
           "caxis": {
            "gridcolor": "white",
            "linecolor": "white",
            "ticks": ""
           }
          },
          "title": {
           "x": 0.05
          },
          "xaxis": {
           "automargin": true,
           "gridcolor": "white",
           "linecolor": "white",
           "ticks": "",
           "zerolinecolor": "white",
           "zerolinewidth": 2
          },
          "yaxis": {
           "automargin": true,
           "gridcolor": "white",
           "linecolor": "white",
           "ticks": "",
           "zerolinecolor": "white",
           "zerolinewidth": 2
          }
         }
        },
        "xaxis": {
         "title": {
          "text": "Living in square feet abc"
         }
        },
        "yaxis": {
         "title": {
          "text": "Prize abc"
         }
        }
       }
      },
      "text/html": [
       "<div>\n",
       "        \n",
       "        \n",
       "            <div id=\"f196afa6-54a7-4af7-beb7-cc988b1bc71e\" class=\"plotly-graph-div\" style=\"height:525px; width:100%;\"></div>\n",
       "            <script type=\"text/javascript\">\n",
       "                require([\"plotly\"], function(Plotly) {\n",
       "                    window.PLOTLYENV=window.PLOTLYENV || {};\n",
       "                    \n",
       "                if (document.getElementById(\"f196afa6-54a7-4af7-beb7-cc988b1bc71e\")) {\n",
       "                    Plotly.newPlot(\n",
       "                        'f196afa6-54a7-4af7-beb7-cc988b1bc71e',\n",
       "                        [{\"line\": {\"color\": \"red\"}, \"mode\": \"markers\", \"name\": \"data\", \"type\": \"scatter\", \"x\": [2130, 2230, 3720, 3400, 4130, 1330, 1840, 2310, 1190, 2490, 1320, 1360, 1420, 910, 3120, 1110, 1720, 1440, 2990, 3080, 730, 4410, 5730, 1920, 4680, 2330, 1610, 1430, 1360, 1590, 2610, 4720, 1420, 3810, 2240, 2080, 3430, 2410, 2050, 3330, 1830, 3550, 710, 2070, 2490, 1270, 1950, 2320, 1980, 1240, 3420, 1160, 1530, 2340, 2040, 1110, 1960, 3600, 1780, 2320, 1120, 1710, 1300, 1990, 1270], \"y\": [306457.51424370083, 425842.9129216308, 1251685.3532227864, 442652.0774534107, 1044165.487802299, 227241.3248202616, 461039.8580777041, 835351.2318639747, 312234.7666711597, 556744.9494842485, 304435.7849524686, 416189.94442364055, 225821.1836303985, 598955.650372956, 1205372.961155207, 312726.4477288158, 223927.37966418822, 345698.2633659845, 556171.9428738981, 280618.801684035, 170011.93275268213, 572444.6041005028, 1192331.8666491776, 536748.177020048, 1130785.1805309136, 375228.31159956066, 360653.4411184653, 790759.7234981915, 244389.94442364055, 326776.3613828793, 727207.4278977644, 845539.3400020854, 706821.1836303985, 942132.2120329234, 321281.45278942375, 329264.8149047359, 975467.6970567896, 602686.6305419046, 259949.19530135693, 809082.2983788598, 274952.3182099111, 557730.1754703056, 380379.8530170962, 1236826.275036943, 1129244.9494842484, 531743.0856135036, 296563.796623427, 245289.7717317677, 342379.416226806, 322927.46601012466, 2228529.1571889967, 298419.1470677807, 644145.1221761215, 603166.8514673536, 538010.655433564, 742726.4477288158, 461502.33649122, 901412.8748092705, 249608.61887094617, 385289.7717317677, 457664.98759660876, 200038.83979639524, 387558.70521688263, 332317.956094599, 251743.08561350364]}],\n",
       "                        {\"template\": {\"data\": {\"bar\": [{\"error_x\": {\"color\": \"#2a3f5f\"}, \"error_y\": {\"color\": \"#2a3f5f\"}, \"marker\": {\"line\": {\"color\": \"#E5ECF6\", \"width\": 0.5}}, \"type\": \"bar\"}], \"barpolar\": [{\"marker\": {\"line\": {\"color\": \"#E5ECF6\", \"width\": 0.5}}, \"type\": \"barpolar\"}], \"carpet\": [{\"aaxis\": {\"endlinecolor\": \"#2a3f5f\", \"gridcolor\": \"white\", \"linecolor\": \"white\", \"minorgridcolor\": \"white\", \"startlinecolor\": \"#2a3f5f\"}, \"baxis\": {\"endlinecolor\": \"#2a3f5f\", \"gridcolor\": \"white\", \"linecolor\": \"white\", \"minorgridcolor\": \"white\", \"startlinecolor\": \"#2a3f5f\"}, \"type\": \"carpet\"}], \"choropleth\": [{\"colorbar\": {\"outlinewidth\": 0, \"ticks\": \"\"}, \"type\": \"choropleth\"}], \"contour\": [{\"colorbar\": {\"outlinewidth\": 0, \"ticks\": \"\"}, \"colorscale\": [[0.0, \"#0d0887\"], [0.1111111111111111, \"#46039f\"], [0.2222222222222222, \"#7201a8\"], [0.3333333333333333, \"#9c179e\"], [0.4444444444444444, \"#bd3786\"], [0.5555555555555556, \"#d8576b\"], [0.6666666666666666, \"#ed7953\"], [0.7777777777777778, \"#fb9f3a\"], [0.8888888888888888, \"#fdca26\"], [1.0, \"#f0f921\"]], \"type\": \"contour\"}], \"contourcarpet\": [{\"colorbar\": {\"outlinewidth\": 0, \"ticks\": \"\"}, \"type\": \"contourcarpet\"}], \"heatmap\": [{\"colorbar\": {\"outlinewidth\": 0, \"ticks\": \"\"}, \"colorscale\": [[0.0, \"#0d0887\"], [0.1111111111111111, \"#46039f\"], [0.2222222222222222, \"#7201a8\"], [0.3333333333333333, \"#9c179e\"], [0.4444444444444444, \"#bd3786\"], [0.5555555555555556, \"#d8576b\"], [0.6666666666666666, \"#ed7953\"], [0.7777777777777778, \"#fb9f3a\"], [0.8888888888888888, \"#fdca26\"], [1.0, \"#f0f921\"]], \"type\": \"heatmap\"}], \"heatmapgl\": [{\"colorbar\": {\"outlinewidth\": 0, \"ticks\": \"\"}, \"colorscale\": [[0.0, \"#0d0887\"], [0.1111111111111111, \"#46039f\"], [0.2222222222222222, \"#7201a8\"], [0.3333333333333333, \"#9c179e\"], [0.4444444444444444, \"#bd3786\"], [0.5555555555555556, \"#d8576b\"], [0.6666666666666666, \"#ed7953\"], [0.7777777777777778, \"#fb9f3a\"], [0.8888888888888888, \"#fdca26\"], [1.0, \"#f0f921\"]], \"type\": \"heatmapgl\"}], \"histogram\": [{\"marker\": {\"colorbar\": {\"outlinewidth\": 0, \"ticks\": \"\"}}, \"type\": \"histogram\"}], \"histogram2d\": [{\"colorbar\": {\"outlinewidth\": 0, \"ticks\": \"\"}, \"colorscale\": [[0.0, \"#0d0887\"], [0.1111111111111111, \"#46039f\"], [0.2222222222222222, \"#7201a8\"], [0.3333333333333333, \"#9c179e\"], [0.4444444444444444, \"#bd3786\"], [0.5555555555555556, \"#d8576b\"], [0.6666666666666666, \"#ed7953\"], [0.7777777777777778, \"#fb9f3a\"], [0.8888888888888888, \"#fdca26\"], [1.0, \"#f0f921\"]], \"type\": \"histogram2d\"}], \"histogram2dcontour\": [{\"colorbar\": {\"outlinewidth\": 0, \"ticks\": \"\"}, \"colorscale\": [[0.0, \"#0d0887\"], [0.1111111111111111, \"#46039f\"], [0.2222222222222222, \"#7201a8\"], [0.3333333333333333, \"#9c179e\"], [0.4444444444444444, \"#bd3786\"], [0.5555555555555556, \"#d8576b\"], [0.6666666666666666, \"#ed7953\"], [0.7777777777777778, \"#fb9f3a\"], [0.8888888888888888, \"#fdca26\"], [1.0, \"#f0f921\"]], \"type\": \"histogram2dcontour\"}], \"mesh3d\": [{\"colorbar\": {\"outlinewidth\": 0, \"ticks\": \"\"}, \"type\": \"mesh3d\"}], \"parcoords\": [{\"line\": {\"colorbar\": {\"outlinewidth\": 0, \"ticks\": \"\"}}, \"type\": \"parcoords\"}], \"scatter\": [{\"marker\": {\"colorbar\": {\"outlinewidth\": 0, \"ticks\": \"\"}}, \"type\": \"scatter\"}], \"scatter3d\": [{\"line\": {\"colorbar\": {\"outlinewidth\": 0, \"ticks\": \"\"}}, \"marker\": {\"colorbar\": {\"outlinewidth\": 0, \"ticks\": \"\"}}, \"type\": \"scatter3d\"}], \"scattercarpet\": [{\"marker\": {\"colorbar\": {\"outlinewidth\": 0, \"ticks\": \"\"}}, \"type\": \"scattercarpet\"}], \"scattergeo\": [{\"marker\": {\"colorbar\": {\"outlinewidth\": 0, \"ticks\": \"\"}}, \"type\": \"scattergeo\"}], \"scattergl\": [{\"marker\": {\"colorbar\": {\"outlinewidth\": 0, \"ticks\": \"\"}}, \"type\": \"scattergl\"}], \"scattermapbox\": [{\"marker\": {\"colorbar\": {\"outlinewidth\": 0, \"ticks\": \"\"}}, \"type\": \"scattermapbox\"}], \"scatterpolar\": [{\"marker\": {\"colorbar\": {\"outlinewidth\": 0, \"ticks\": \"\"}}, \"type\": \"scatterpolar\"}], \"scatterpolargl\": [{\"marker\": {\"colorbar\": {\"outlinewidth\": 0, \"ticks\": \"\"}}, \"type\": \"scatterpolargl\"}], \"scatterternary\": [{\"marker\": {\"colorbar\": {\"outlinewidth\": 0, \"ticks\": \"\"}}, \"type\": \"scatterternary\"}], \"surface\": [{\"colorbar\": {\"outlinewidth\": 0, \"ticks\": \"\"}, \"colorscale\": [[0.0, \"#0d0887\"], [0.1111111111111111, \"#46039f\"], [0.2222222222222222, \"#7201a8\"], [0.3333333333333333, \"#9c179e\"], [0.4444444444444444, \"#bd3786\"], [0.5555555555555556, \"#d8576b\"], [0.6666666666666666, \"#ed7953\"], [0.7777777777777778, \"#fb9f3a\"], [0.8888888888888888, \"#fdca26\"], [1.0, \"#f0f921\"]], \"type\": \"surface\"}], \"table\": [{\"cells\": {\"fill\": {\"color\": \"#EBF0F8\"}, \"line\": {\"color\": \"white\"}}, \"header\": {\"fill\": {\"color\": \"#C8D4E3\"}, \"line\": {\"color\": \"white\"}}, \"type\": \"table\"}]}, \"layout\": {\"annotationdefaults\": {\"arrowcolor\": \"#2a3f5f\", \"arrowhead\": 0, \"arrowwidth\": 1}, \"colorscale\": {\"diverging\": [[0, \"#8e0152\"], [0.1, \"#c51b7d\"], [0.2, \"#de77ae\"], [0.3, \"#f1b6da\"], [0.4, \"#fde0ef\"], [0.5, \"#f7f7f7\"], [0.6, \"#e6f5d0\"], [0.7, \"#b8e186\"], [0.8, \"#7fbc41\"], [0.9, \"#4d9221\"], [1, \"#276419\"]], \"sequential\": [[0.0, \"#0d0887\"], [0.1111111111111111, \"#46039f\"], [0.2222222222222222, \"#7201a8\"], [0.3333333333333333, \"#9c179e\"], [0.4444444444444444, \"#bd3786\"], [0.5555555555555556, \"#d8576b\"], [0.6666666666666666, \"#ed7953\"], [0.7777777777777778, \"#fb9f3a\"], [0.8888888888888888, \"#fdca26\"], [1.0, \"#f0f921\"]], \"sequentialminus\": [[0.0, \"#0d0887\"], [0.1111111111111111, \"#46039f\"], [0.2222222222222222, \"#7201a8\"], [0.3333333333333333, \"#9c179e\"], [0.4444444444444444, \"#bd3786\"], [0.5555555555555556, \"#d8576b\"], [0.6666666666666666, \"#ed7953\"], [0.7777777777777778, \"#fb9f3a\"], [0.8888888888888888, \"#fdca26\"], [1.0, \"#f0f921\"]]}, \"colorway\": [\"#636efa\", \"#EF553B\", \"#00cc96\", \"#ab63fa\", \"#FFA15A\", \"#19d3f3\", \"#FF6692\", \"#B6E880\", \"#FF97FF\", \"#FECB52\"], \"font\": {\"color\": \"#2a3f5f\"}, \"geo\": {\"bgcolor\": \"white\", \"lakecolor\": \"white\", \"landcolor\": \"#E5ECF6\", \"showlakes\": true, \"showland\": true, \"subunitcolor\": \"white\"}, \"hoverlabel\": {\"align\": \"left\"}, \"hovermode\": \"closest\", \"mapbox\": {\"style\": \"light\"}, \"paper_bgcolor\": \"white\", \"plot_bgcolor\": \"#E5ECF6\", \"polar\": {\"angularaxis\": {\"gridcolor\": \"white\", \"linecolor\": \"white\", \"ticks\": \"\"}, \"bgcolor\": \"#E5ECF6\", \"radialaxis\": {\"gridcolor\": \"white\", \"linecolor\": \"white\", \"ticks\": \"\"}}, \"scene\": {\"xaxis\": {\"backgroundcolor\": \"#E5ECF6\", \"gridcolor\": \"white\", \"gridwidth\": 2, \"linecolor\": \"white\", \"showbackground\": true, \"ticks\": \"\", \"zerolinecolor\": \"white\"}, \"yaxis\": {\"backgroundcolor\": \"#E5ECF6\", \"gridcolor\": \"white\", \"gridwidth\": 2, \"linecolor\": \"white\", \"showbackground\": true, \"ticks\": \"\", \"zerolinecolor\": \"white\"}, \"zaxis\": {\"backgroundcolor\": \"#E5ECF6\", \"gridcolor\": \"white\", \"gridwidth\": 2, \"linecolor\": \"white\", \"showbackground\": true, \"ticks\": \"\", \"zerolinecolor\": \"white\"}}, \"shapedefaults\": {\"line\": {\"color\": \"#2a3f5f\"}}, \"ternary\": {\"aaxis\": {\"gridcolor\": \"white\", \"linecolor\": \"white\", \"ticks\": \"\"}, \"baxis\": {\"gridcolor\": \"white\", \"linecolor\": \"white\", \"ticks\": \"\"}, \"bgcolor\": \"#E5ECF6\", \"caxis\": {\"gridcolor\": \"white\", \"linecolor\": \"white\", \"ticks\": \"\"}}, \"title\": {\"x\": 0.05}, \"xaxis\": {\"automargin\": true, \"gridcolor\": \"white\", \"linecolor\": \"white\", \"ticks\": \"\", \"zerolinecolor\": \"white\", \"zerolinewidth\": 2}, \"yaxis\": {\"automargin\": true, \"gridcolor\": \"white\", \"linecolor\": \"white\", \"ticks\": \"\", \"zerolinecolor\": \"white\", \"zerolinewidth\": 2}}}, \"xaxis\": {\"title\": {\"text\": \"Living in square feet abc\"}}, \"yaxis\": {\"title\": {\"text\": \"Prize abc\"}}},\n",
       "                        {\"responsive\": true}\n",
       "                    ).then(function(){\n",
       "                            \n",
       "var gd = document.getElementById('f196afa6-54a7-4af7-beb7-cc988b1bc71e');\n",
       "var x = new MutationObserver(function (mutations, observer) {{\n",
       "        var display = window.getComputedStyle(gd).display;\n",
       "        if (!display || display === 'none') {{\n",
       "            console.log([gd, 'removed!']);\n",
       "            Plotly.purge(gd);\n",
       "            observer.disconnect();\n",
       "        }}\n",
       "}});\n",
       "\n",
       "// Listen for the removal of the full notebook cells\n",
       "var notebookContainer = gd.closest('#notebook-container');\n",
       "if (notebookContainer) {{\n",
       "    x.observe(notebookContainer, {childList: true});\n",
       "}}\n",
       "\n",
       "// Listen for the clearing of the current output cell\n",
       "var outputEl = gd.closest('.output');\n",
       "if (outputEl) {{\n",
       "    x.observe(outputEl, {childList: true});\n",
       "}}\n",
       "\n",
       "                        })\n",
       "                };\n",
       "                });\n",
       "            </script>\n",
       "        </div>"
      ]
     },
     "metadata": {},
     "output_type": "display_data"
    }
   ],
   "source": [
    "# Solution (Punto 4)\n",
    "\n",
    "mTrain = len(xTrain)\n",
    "mTest = len(xTest)\n",
    "\n",
    "xTest = np.reshape(xTest,(len(xTest),1))\n",
    "yhatTrain=linRegr.predict(xTrain)\n",
    "yhatTest=linRegr.predict(xTest)\n",
    "data = [\n",
    "    go.Scatter(x=xTrain[:,0], y=yTrain-yhatTrain, mode=\"markers\", name=\"data\",line = {'color': 'blue'}),\n",
    "]\n",
    "layout = go.Layout(\n",
    "    xaxis = dict(title=\"Living in square feet\"),\n",
    "    yaxis = dict(title=\"Prize\")\n",
    ")\n",
    "fig = go.Figure(data, layout)\n",
    "py.iplot(fig)\n",
    "data1 = [\n",
    "    go.Scatter(x=xTest[:,0], y=yTest-yhatTest, mode=\"markers\", name=\"data\",line = {'color': 'red'}),\n",
    "]\n",
    "layout1 = go.Layout(\n",
    "    xaxis = dict(title=\"Living in square feet abc\"),\n",
    "    yaxis = dict(title=\"Prize abc\")\n",
    ")\n",
    "fig1 = go.Figure(data1, layout1)\n",
    "py.iplot(fig1)"
   ]
  },
  {
   "cell_type": "code",
   "execution_count": 34,
   "metadata": {},
   "outputs": [
    {
     "name": "stdout",
     "output_type": "stream",
     "text": [
      "coeficiente R2 del data set di Train -2.8602402827934243\n",
      "coeficiente R2 del data set di Test -2.3486544375897904\n",
      "SSE Test = 1900048232264098.5\n",
      "SSE Train= 8472794721945146.0\n"
     ]
    }
   ],
   "source": [
    "# Solution (Punto 5)\n",
    "\n",
    "#Calcolate il coeffiente di determinazione R^2e il SSE sia sul training set che sul test set.\n",
    "\n",
    "\n",
    "R2test=linRegr.score(xTest,yTest)\n",
    "R2Train=linRegr.score(xTrain,yTrain)\n",
    "print(f\"coeficiente R2 del data set di Train {R2Train}\")\n",
    "print(f\"coeficiente R2 del data set di Test {R2test}\")\n",
    "SSE=0.0\n",
    "SSE=(yTest-(w*xTest+b))**2\n",
    "somma=np.sum(SSE)\n",
    "SSE=0.0\n",
    "print(f\"SSE Test = {somma}\")\n",
    "SSE=(yTrain-(w*xTrain+b))**2\n",
    "somma=np.sum(SSE)\n",
    "print(f\"SSE Train= {somma}\")"
   ]
  },
  {
   "cell_type": "markdown",
   "metadata": {},
   "source": [
    "### 2.2\n",
    "Si ripetano i punti  dell'esercizio precedente, utilizzando come variabile target sempre il prezzo di vendita, ma come variabile esplicativa non piu' la dimensione dell'abitazione, ma la variabile *grade*. La variabile *grade* assume valori tra 1 e 13 e rappresenta la classe di appartenenza dell'abitazione data dalla King County sulla base di una perizia imparziale."
   ]
  },
  {
   "cell_type": "code",
   "execution_count": 39,
   "metadata": {},
   "outputs": [],
   "source": [
    "# Solution (punto 0: Carichiamo le variabili che ci interessano)\n",
    "\n",
    "yTrain = dfTrain['price'].values\n",
    "xTrain = dfTrain['grade'].values\n",
    "\n",
    "yTest = dfTest['price'].values\n",
    "xTest = dfTest['grade'].values\n",
    "\n",
    "# Facciamo il reshape delle variabili esplicative per avere array di dimensione 2 con m righe e 1 colonna\n",
    "mTrain = len(xTrain)\n",
    "mTest = len(xTest)\n",
    "\n",
    "xTrain = np.reshape(xTrain,(mTrain,1))\n",
    "xTest = np.reshape(xTest,(mTest,1))"
   ]
  },
  {
   "cell_type": "code",
   "execution_count": 40,
   "metadata": {},
   "outputs": [],
   "source": [
    "# Solution (Punto 1)\n",
    "\n",
    "yTrain = dfTrain['price'].values\n",
    "xTrain = dfTrain['grade'].values\n",
    "\n",
    "yTest = dfTest['price'].values\n",
    "xTest = dfTest['grade'].values\n",
    "\n",
    "# Facciamo il reshape delle variabili esplicative per avere array di dimensione 2 con m righe e 1 colonna\n",
    "mTrain = len(xTrain)\n",
    "mTest = len(xTest)\n",
    "\n",
    "xTrain = np.reshape(xTrain,(mTrain,1))\n",
    "xTest = np.reshape(xTest,(mTest,1))"
   ]
  },
  {
   "cell_type": "code",
   "execution_count": 41,
   "metadata": {},
   "outputs": [
    {
     "data": {
      "text/html": [
       "        <script type=\"text/javascript\">\n",
       "        window.PlotlyConfig = {MathJaxConfig: 'local'};\n",
       "        if (window.MathJax) {MathJax.Hub.Config({SVG: {font: \"STIX-Web\"}});}\n",
       "        if (typeof require !== 'undefined') {\n",
       "        require.undef(\"plotly\");\n",
       "        requirejs.config({\n",
       "            paths: {\n",
       "                'plotly': ['https://cdn.plot.ly/plotly-latest.min']\n",
       "            }\n",
       "        });\n",
       "        require(['plotly'], function(Plotly) {\n",
       "            window._Plotly = Plotly;\n",
       "        });\n",
       "        }\n",
       "        </script>\n",
       "        "
      ]
     },
     "metadata": {},
     "output_type": "display_data"
    },
    {
     "data": {
      "application/vnd.plotly.v1+json": {
       "config": {
        "linkText": "Export to plot.ly",
        "plotlyServerURL": "https://plot.ly",
        "showLink": false
       },
       "data": [
        {
         "mode": "markers",
         "type": "scatter",
         "x": [
          8,
          8,
          6,
          11,
          8,
          7,
          7,
          9,
          8,
          8,
          10,
          10,
          5,
          6,
          8,
          7,
          9,
          6,
          7,
          8,
          8,
          7,
          7,
          9,
          9,
          11,
          6,
          6,
          8,
          6,
          7,
          8,
          6,
          9,
          7,
          7,
          9,
          10,
          6,
          7,
          7,
          7,
          7,
          9,
          5,
          8,
          6,
          8,
          9,
          8,
          10,
          8,
          8,
          9,
          7,
          8,
          6,
          6,
          9,
          7,
          8,
          6,
          7,
          7,
          7,
          7,
          6,
          8,
          7,
          6,
          8,
          7,
          8,
          7,
          10,
          8,
          7,
          8,
          6,
          7,
          7,
          10,
          12,
          7,
          6,
          9,
          7,
          8,
          6,
          7,
          9,
          7,
          7,
          7,
          7,
          7,
          9,
          7,
          7,
          8,
          7,
          9,
          8,
          7,
          10,
          5,
          8,
          7,
          7,
          7,
          7,
          8,
          8,
          8,
          7,
          7,
          8,
          8,
          6,
          7,
          7,
          11,
          9,
          9,
          8,
          7,
          7,
          8,
          9,
          8,
          8,
          9,
          7,
          7,
          8,
          7,
          8,
          7,
          7,
          8,
          8,
          6,
          8,
          7,
          7,
          7,
          7,
          6,
          8,
          6,
          10
         ],
         "y": [
          542000,
          500000,
          156000,
          1925000,
          710000,
          515000,
          175000,
          984000,
          329990,
          309000,
          530000,
          1450000,
          208417,
          450000,
          613000,
          249000,
          1302000,
          282613,
          240000,
          602000,
          725000,
          290000,
          467000,
          683000,
          730000,
          1038000,
          209900,
          334009,
          575000,
          270000,
          252000,
          560000,
          309000,
          827500,
          411100,
          330000,
          920000,
          710000,
          476900,
          250000,
          385000,
          347000,
          320000,
          790000,
          275000,
          829000,
          180000,
          340000,
          711000,
          605000,
          863000,
          699950,
          665000,
          690000,
          345000,
          638000,
          265000,
          197200,
          1297000,
          280000,
          365000,
          310000,
          321000,
          320000,
          209500,
          312000,
          310000,
          518500,
          514000,
          223000,
          560000,
          268000,
          595000,
          392000,
          1890000,
          531000,
          500000,
          495000,
          375000,
          400000,
          362500,
          1750000,
          1490000,
          250000,
          525000,
          800000,
          535000,
          440000,
          410000,
          685000,
          856000,
          330000,
          680000,
          316000,
          455000,
          230000,
          558000,
          432000,
          540000,
          384500,
          365000,
          695000,
          330000,
          410000,
          795127,
          298000,
          985000,
          503500,
          275000,
          305000,
          675000,
          630000,
          675000,
          589950,
          327000,
          500000,
          585000,
          350000,
          350000,
          441500,
          447500,
          930000,
          695000,
          781000,
          560000,
          565000,
          340000,
          485000,
          408500,
          835000,
          865000,
          356000,
          467500,
          418000,
          959750,
          270000,
          450000,
          239000,
          785000,
          585000,
          474900,
          448000,
          650500,
          485000,
          534000,
          375000,
          650000,
          160000,
          619850,
          350000,
          480000
         ]
        }
       ],
       "layout": {
        "template": {
         "data": {
          "bar": [
           {
            "error_x": {
             "color": "#2a3f5f"
            },
            "error_y": {
             "color": "#2a3f5f"
            },
            "marker": {
             "line": {
              "color": "#E5ECF6",
              "width": 0.5
             }
            },
            "type": "bar"
           }
          ],
          "barpolar": [
           {
            "marker": {
             "line": {
              "color": "#E5ECF6",
              "width": 0.5
             }
            },
            "type": "barpolar"
           }
          ],
          "carpet": [
           {
            "aaxis": {
             "endlinecolor": "#2a3f5f",
             "gridcolor": "white",
             "linecolor": "white",
             "minorgridcolor": "white",
             "startlinecolor": "#2a3f5f"
            },
            "baxis": {
             "endlinecolor": "#2a3f5f",
             "gridcolor": "white",
             "linecolor": "white",
             "minorgridcolor": "white",
             "startlinecolor": "#2a3f5f"
            },
            "type": "carpet"
           }
          ],
          "choropleth": [
           {
            "colorbar": {
             "outlinewidth": 0,
             "ticks": ""
            },
            "type": "choropleth"
           }
          ],
          "contour": [
           {
            "colorbar": {
             "outlinewidth": 0,
             "ticks": ""
            },
            "colorscale": [
             [
              0,
              "#0d0887"
             ],
             [
              0.1111111111111111,
              "#46039f"
             ],
             [
              0.2222222222222222,
              "#7201a8"
             ],
             [
              0.3333333333333333,
              "#9c179e"
             ],
             [
              0.4444444444444444,
              "#bd3786"
             ],
             [
              0.5555555555555556,
              "#d8576b"
             ],
             [
              0.6666666666666666,
              "#ed7953"
             ],
             [
              0.7777777777777778,
              "#fb9f3a"
             ],
             [
              0.8888888888888888,
              "#fdca26"
             ],
             [
              1,
              "#f0f921"
             ]
            ],
            "type": "contour"
           }
          ],
          "contourcarpet": [
           {
            "colorbar": {
             "outlinewidth": 0,
             "ticks": ""
            },
            "type": "contourcarpet"
           }
          ],
          "heatmap": [
           {
            "colorbar": {
             "outlinewidth": 0,
             "ticks": ""
            },
            "colorscale": [
             [
              0,
              "#0d0887"
             ],
             [
              0.1111111111111111,
              "#46039f"
             ],
             [
              0.2222222222222222,
              "#7201a8"
             ],
             [
              0.3333333333333333,
              "#9c179e"
             ],
             [
              0.4444444444444444,
              "#bd3786"
             ],
             [
              0.5555555555555556,
              "#d8576b"
             ],
             [
              0.6666666666666666,
              "#ed7953"
             ],
             [
              0.7777777777777778,
              "#fb9f3a"
             ],
             [
              0.8888888888888888,
              "#fdca26"
             ],
             [
              1,
              "#f0f921"
             ]
            ],
            "type": "heatmap"
           }
          ],
          "heatmapgl": [
           {
            "colorbar": {
             "outlinewidth": 0,
             "ticks": ""
            },
            "colorscale": [
             [
              0,
              "#0d0887"
             ],
             [
              0.1111111111111111,
              "#46039f"
             ],
             [
              0.2222222222222222,
              "#7201a8"
             ],
             [
              0.3333333333333333,
              "#9c179e"
             ],
             [
              0.4444444444444444,
              "#bd3786"
             ],
             [
              0.5555555555555556,
              "#d8576b"
             ],
             [
              0.6666666666666666,
              "#ed7953"
             ],
             [
              0.7777777777777778,
              "#fb9f3a"
             ],
             [
              0.8888888888888888,
              "#fdca26"
             ],
             [
              1,
              "#f0f921"
             ]
            ],
            "type": "heatmapgl"
           }
          ],
          "histogram": [
           {
            "marker": {
             "colorbar": {
              "outlinewidth": 0,
              "ticks": ""
             }
            },
            "type": "histogram"
           }
          ],
          "histogram2d": [
           {
            "colorbar": {
             "outlinewidth": 0,
             "ticks": ""
            },
            "colorscale": [
             [
              0,
              "#0d0887"
             ],
             [
              0.1111111111111111,
              "#46039f"
             ],
             [
              0.2222222222222222,
              "#7201a8"
             ],
             [
              0.3333333333333333,
              "#9c179e"
             ],
             [
              0.4444444444444444,
              "#bd3786"
             ],
             [
              0.5555555555555556,
              "#d8576b"
             ],
             [
              0.6666666666666666,
              "#ed7953"
             ],
             [
              0.7777777777777778,
              "#fb9f3a"
             ],
             [
              0.8888888888888888,
              "#fdca26"
             ],
             [
              1,
              "#f0f921"
             ]
            ],
            "type": "histogram2d"
           }
          ],
          "histogram2dcontour": [
           {
            "colorbar": {
             "outlinewidth": 0,
             "ticks": ""
            },
            "colorscale": [
             [
              0,
              "#0d0887"
             ],
             [
              0.1111111111111111,
              "#46039f"
             ],
             [
              0.2222222222222222,
              "#7201a8"
             ],
             [
              0.3333333333333333,
              "#9c179e"
             ],
             [
              0.4444444444444444,
              "#bd3786"
             ],
             [
              0.5555555555555556,
              "#d8576b"
             ],
             [
              0.6666666666666666,
              "#ed7953"
             ],
             [
              0.7777777777777778,
              "#fb9f3a"
             ],
             [
              0.8888888888888888,
              "#fdca26"
             ],
             [
              1,
              "#f0f921"
             ]
            ],
            "type": "histogram2dcontour"
           }
          ],
          "mesh3d": [
           {
            "colorbar": {
             "outlinewidth": 0,
             "ticks": ""
            },
            "type": "mesh3d"
           }
          ],
          "parcoords": [
           {
            "line": {
             "colorbar": {
              "outlinewidth": 0,
              "ticks": ""
             }
            },
            "type": "parcoords"
           }
          ],
          "scatter": [
           {
            "marker": {
             "colorbar": {
              "outlinewidth": 0,
              "ticks": ""
             }
            },
            "type": "scatter"
           }
          ],
          "scatter3d": [
           {
            "line": {
             "colorbar": {
              "outlinewidth": 0,
              "ticks": ""
             }
            },
            "marker": {
             "colorbar": {
              "outlinewidth": 0,
              "ticks": ""
             }
            },
            "type": "scatter3d"
           }
          ],
          "scattercarpet": [
           {
            "marker": {
             "colorbar": {
              "outlinewidth": 0,
              "ticks": ""
             }
            },
            "type": "scattercarpet"
           }
          ],
          "scattergeo": [
           {
            "marker": {
             "colorbar": {
              "outlinewidth": 0,
              "ticks": ""
             }
            },
            "type": "scattergeo"
           }
          ],
          "scattergl": [
           {
            "marker": {
             "colorbar": {
              "outlinewidth": 0,
              "ticks": ""
             }
            },
            "type": "scattergl"
           }
          ],
          "scattermapbox": [
           {
            "marker": {
             "colorbar": {
              "outlinewidth": 0,
              "ticks": ""
             }
            },
            "type": "scattermapbox"
           }
          ],
          "scatterpolar": [
           {
            "marker": {
             "colorbar": {
              "outlinewidth": 0,
              "ticks": ""
             }
            },
            "type": "scatterpolar"
           }
          ],
          "scatterpolargl": [
           {
            "marker": {
             "colorbar": {
              "outlinewidth": 0,
              "ticks": ""
             }
            },
            "type": "scatterpolargl"
           }
          ],
          "scatterternary": [
           {
            "marker": {
             "colorbar": {
              "outlinewidth": 0,
              "ticks": ""
             }
            },
            "type": "scatterternary"
           }
          ],
          "surface": [
           {
            "colorbar": {
             "outlinewidth": 0,
             "ticks": ""
            },
            "colorscale": [
             [
              0,
              "#0d0887"
             ],
             [
              0.1111111111111111,
              "#46039f"
             ],
             [
              0.2222222222222222,
              "#7201a8"
             ],
             [
              0.3333333333333333,
              "#9c179e"
             ],
             [
              0.4444444444444444,
              "#bd3786"
             ],
             [
              0.5555555555555556,
              "#d8576b"
             ],
             [
              0.6666666666666666,
              "#ed7953"
             ],
             [
              0.7777777777777778,
              "#fb9f3a"
             ],
             [
              0.8888888888888888,
              "#fdca26"
             ],
             [
              1,
              "#f0f921"
             ]
            ],
            "type": "surface"
           }
          ],
          "table": [
           {
            "cells": {
             "fill": {
              "color": "#EBF0F8"
             },
             "line": {
              "color": "white"
             }
            },
            "header": {
             "fill": {
              "color": "#C8D4E3"
             },
             "line": {
              "color": "white"
             }
            },
            "type": "table"
           }
          ]
         },
         "layout": {
          "annotationdefaults": {
           "arrowcolor": "#2a3f5f",
           "arrowhead": 0,
           "arrowwidth": 1
          },
          "colorscale": {
           "diverging": [
            [
             0,
             "#8e0152"
            ],
            [
             0.1,
             "#c51b7d"
            ],
            [
             0.2,
             "#de77ae"
            ],
            [
             0.3,
             "#f1b6da"
            ],
            [
             0.4,
             "#fde0ef"
            ],
            [
             0.5,
             "#f7f7f7"
            ],
            [
             0.6,
             "#e6f5d0"
            ],
            [
             0.7,
             "#b8e186"
            ],
            [
             0.8,
             "#7fbc41"
            ],
            [
             0.9,
             "#4d9221"
            ],
            [
             1,
             "#276419"
            ]
           ],
           "sequential": [
            [
             0,
             "#0d0887"
            ],
            [
             0.1111111111111111,
             "#46039f"
            ],
            [
             0.2222222222222222,
             "#7201a8"
            ],
            [
             0.3333333333333333,
             "#9c179e"
            ],
            [
             0.4444444444444444,
             "#bd3786"
            ],
            [
             0.5555555555555556,
             "#d8576b"
            ],
            [
             0.6666666666666666,
             "#ed7953"
            ],
            [
             0.7777777777777778,
             "#fb9f3a"
            ],
            [
             0.8888888888888888,
             "#fdca26"
            ],
            [
             1,
             "#f0f921"
            ]
           ],
           "sequentialminus": [
            [
             0,
             "#0d0887"
            ],
            [
             0.1111111111111111,
             "#46039f"
            ],
            [
             0.2222222222222222,
             "#7201a8"
            ],
            [
             0.3333333333333333,
             "#9c179e"
            ],
            [
             0.4444444444444444,
             "#bd3786"
            ],
            [
             0.5555555555555556,
             "#d8576b"
            ],
            [
             0.6666666666666666,
             "#ed7953"
            ],
            [
             0.7777777777777778,
             "#fb9f3a"
            ],
            [
             0.8888888888888888,
             "#fdca26"
            ],
            [
             1,
             "#f0f921"
            ]
           ]
          },
          "colorway": [
           "#636efa",
           "#EF553B",
           "#00cc96",
           "#ab63fa",
           "#FFA15A",
           "#19d3f3",
           "#FF6692",
           "#B6E880",
           "#FF97FF",
           "#FECB52"
          ],
          "font": {
           "color": "#2a3f5f"
          },
          "geo": {
           "bgcolor": "white",
           "lakecolor": "white",
           "landcolor": "#E5ECF6",
           "showlakes": true,
           "showland": true,
           "subunitcolor": "white"
          },
          "hoverlabel": {
           "align": "left"
          },
          "hovermode": "closest",
          "mapbox": {
           "style": "light"
          },
          "paper_bgcolor": "white",
          "plot_bgcolor": "#E5ECF6",
          "polar": {
           "angularaxis": {
            "gridcolor": "white",
            "linecolor": "white",
            "ticks": ""
           },
           "bgcolor": "#E5ECF6",
           "radialaxis": {
            "gridcolor": "white",
            "linecolor": "white",
            "ticks": ""
           }
          },
          "scene": {
           "xaxis": {
            "backgroundcolor": "#E5ECF6",
            "gridcolor": "white",
            "gridwidth": 2,
            "linecolor": "white",
            "showbackground": true,
            "ticks": "",
            "zerolinecolor": "white"
           },
           "yaxis": {
            "backgroundcolor": "#E5ECF6",
            "gridcolor": "white",
            "gridwidth": 2,
            "linecolor": "white",
            "showbackground": true,
            "ticks": "",
            "zerolinecolor": "white"
           },
           "zaxis": {
            "backgroundcolor": "#E5ECF6",
            "gridcolor": "white",
            "gridwidth": 2,
            "linecolor": "white",
            "showbackground": true,
            "ticks": "",
            "zerolinecolor": "white"
           }
          },
          "shapedefaults": {
           "line": {
            "color": "#2a3f5f"
           }
          },
          "ternary": {
           "aaxis": {
            "gridcolor": "white",
            "linecolor": "white",
            "ticks": ""
           },
           "baxis": {
            "gridcolor": "white",
            "linecolor": "white",
            "ticks": ""
           },
           "bgcolor": "#E5ECF6",
           "caxis": {
            "gridcolor": "white",
            "linecolor": "white",
            "ticks": ""
           }
          },
          "title": {
           "x": 0.05
          },
          "xaxis": {
           "automargin": true,
           "gridcolor": "white",
           "linecolor": "white",
           "ticks": "",
           "zerolinecolor": "white",
           "zerolinewidth": 2
          },
          "yaxis": {
           "automargin": true,
           "gridcolor": "white",
           "linecolor": "white",
           "ticks": "",
           "zerolinecolor": "white",
           "zerolinewidth": 2
          }
         }
        }
       }
      },
      "text/html": [
       "<div>\n",
       "        \n",
       "        \n",
       "            <div id=\"d3e32a20-87d5-4830-b39e-47d1813337b6\" class=\"plotly-graph-div\" style=\"height:525px; width:100%;\"></div>\n",
       "            <script type=\"text/javascript\">\n",
       "                require([\"plotly\"], function(Plotly) {\n",
       "                    window.PLOTLYENV=window.PLOTLYENV || {};\n",
       "                    \n",
       "                if (document.getElementById(\"d3e32a20-87d5-4830-b39e-47d1813337b6\")) {\n",
       "                    Plotly.newPlot(\n",
       "                        'd3e32a20-87d5-4830-b39e-47d1813337b6',\n",
       "                        [{\"mode\": \"markers\", \"type\": \"scatter\", \"x\": [8, 8, 6, 11, 8, 7, 7, 9, 8, 8, 10, 10, 5, 6, 8, 7, 9, 6, 7, 8, 8, 7, 7, 9, 9, 11, 6, 6, 8, 6, 7, 8, 6, 9, 7, 7, 9, 10, 6, 7, 7, 7, 7, 9, 5, 8, 6, 8, 9, 8, 10, 8, 8, 9, 7, 8, 6, 6, 9, 7, 8, 6, 7, 7, 7, 7, 6, 8, 7, 6, 8, 7, 8, 7, 10, 8, 7, 8, 6, 7, 7, 10, 12, 7, 6, 9, 7, 8, 6, 7, 9, 7, 7, 7, 7, 7, 9, 7, 7, 8, 7, 9, 8, 7, 10, 5, 8, 7, 7, 7, 7, 8, 8, 8, 7, 7, 8, 8, 6, 7, 7, 11, 9, 9, 8, 7, 7, 8, 9, 8, 8, 9, 7, 7, 8, 7, 8, 7, 7, 8, 8, 6, 8, 7, 7, 7, 7, 6, 8, 6, 10], \"y\": [542000.0, 500000.0, 156000.0, 1925000.0, 710000.0, 515000.0, 175000.0, 984000.0, 329990.0, 309000.0, 530000.0, 1450000.0, 208417.0, 450000.0, 613000.0, 249000.0, 1302000.0, 282613.0, 240000.0, 602000.0, 725000.0, 290000.0, 467000.0, 683000.0, 730000.0, 1038000.0, 209900.0, 334009.0, 575000.0, 270000.0, 252000.0, 560000.0, 309000.0, 827500.0, 411100.0, 330000.0, 920000.0, 710000.0, 476900.0, 250000.0, 385000.0, 347000.0, 320000.0, 790000.0, 275000.0, 829000.0, 180000.0, 340000.0, 711000.0, 605000.0, 863000.0, 699950.0, 665000.0, 690000.0, 345000.0, 638000.0, 265000.0, 197200.0, 1297000.0, 280000.0, 365000.0, 310000.0, 321000.0, 320000.0, 209500.0, 312000.0, 310000.0, 518500.0, 514000.0, 223000.0, 560000.0, 268000.0, 595000.0, 392000.0, 1890000.0, 531000.0, 500000.0, 495000.0, 375000.0, 400000.0, 362500.0, 1750000.0, 1490000.0, 250000.0, 525000.0, 800000.0, 535000.0, 440000.0, 410000.0, 685000.0, 856000.0, 330000.0, 680000.0, 316000.0, 455000.0, 230000.0, 558000.0, 432000.0, 540000.0, 384500.0, 365000.0, 695000.0, 330000.0, 410000.0, 795127.0, 298000.0, 985000.0, 503500.0, 275000.0, 305000.0, 675000.0, 630000.0, 675000.0, 589950.0, 327000.0, 500000.0, 585000.0, 350000.0, 350000.0, 441500.0, 447500.0, 930000.0, 695000.0, 781000.0, 560000.0, 565000.0, 340000.0, 485000.0, 408500.0, 835000.0, 865000.0, 356000.0, 467500.0, 418000.0, 959750.0, 270000.0, 450000.0, 239000.0, 785000.0, 585000.0, 474900.0, 448000.0, 650500.0, 485000.0, 534000.0, 375000.0, 650000.0, 160000.0, 619850.0, 350000.0, 480000.0]}],\n",
       "                        {\"template\": {\"data\": {\"bar\": [{\"error_x\": {\"color\": \"#2a3f5f\"}, \"error_y\": {\"color\": \"#2a3f5f\"}, \"marker\": {\"line\": {\"color\": \"#E5ECF6\", \"width\": 0.5}}, \"type\": \"bar\"}], \"barpolar\": [{\"marker\": {\"line\": {\"color\": \"#E5ECF6\", \"width\": 0.5}}, \"type\": \"barpolar\"}], \"carpet\": [{\"aaxis\": {\"endlinecolor\": \"#2a3f5f\", \"gridcolor\": \"white\", \"linecolor\": \"white\", \"minorgridcolor\": \"white\", \"startlinecolor\": \"#2a3f5f\"}, \"baxis\": {\"endlinecolor\": \"#2a3f5f\", \"gridcolor\": \"white\", \"linecolor\": \"white\", \"minorgridcolor\": \"white\", \"startlinecolor\": \"#2a3f5f\"}, \"type\": \"carpet\"}], \"choropleth\": [{\"colorbar\": {\"outlinewidth\": 0, \"ticks\": \"\"}, \"type\": \"choropleth\"}], \"contour\": [{\"colorbar\": {\"outlinewidth\": 0, \"ticks\": \"\"}, \"colorscale\": [[0.0, \"#0d0887\"], [0.1111111111111111, \"#46039f\"], [0.2222222222222222, \"#7201a8\"], [0.3333333333333333, \"#9c179e\"], [0.4444444444444444, \"#bd3786\"], [0.5555555555555556, \"#d8576b\"], [0.6666666666666666, \"#ed7953\"], [0.7777777777777778, \"#fb9f3a\"], [0.8888888888888888, \"#fdca26\"], [1.0, \"#f0f921\"]], \"type\": \"contour\"}], \"contourcarpet\": [{\"colorbar\": {\"outlinewidth\": 0, \"ticks\": \"\"}, \"type\": \"contourcarpet\"}], \"heatmap\": [{\"colorbar\": {\"outlinewidth\": 0, \"ticks\": \"\"}, \"colorscale\": [[0.0, \"#0d0887\"], [0.1111111111111111, \"#46039f\"], [0.2222222222222222, \"#7201a8\"], [0.3333333333333333, \"#9c179e\"], [0.4444444444444444, \"#bd3786\"], [0.5555555555555556, \"#d8576b\"], [0.6666666666666666, \"#ed7953\"], [0.7777777777777778, \"#fb9f3a\"], [0.8888888888888888, \"#fdca26\"], [1.0, \"#f0f921\"]], \"type\": \"heatmap\"}], \"heatmapgl\": [{\"colorbar\": {\"outlinewidth\": 0, \"ticks\": \"\"}, \"colorscale\": [[0.0, \"#0d0887\"], [0.1111111111111111, \"#46039f\"], [0.2222222222222222, \"#7201a8\"], [0.3333333333333333, \"#9c179e\"], [0.4444444444444444, \"#bd3786\"], [0.5555555555555556, \"#d8576b\"], [0.6666666666666666, \"#ed7953\"], [0.7777777777777778, \"#fb9f3a\"], [0.8888888888888888, \"#fdca26\"], [1.0, \"#f0f921\"]], \"type\": \"heatmapgl\"}], \"histogram\": [{\"marker\": {\"colorbar\": {\"outlinewidth\": 0, \"ticks\": \"\"}}, \"type\": \"histogram\"}], \"histogram2d\": [{\"colorbar\": {\"outlinewidth\": 0, \"ticks\": \"\"}, \"colorscale\": [[0.0, \"#0d0887\"], [0.1111111111111111, \"#46039f\"], [0.2222222222222222, \"#7201a8\"], [0.3333333333333333, \"#9c179e\"], [0.4444444444444444, \"#bd3786\"], [0.5555555555555556, \"#d8576b\"], [0.6666666666666666, \"#ed7953\"], [0.7777777777777778, \"#fb9f3a\"], [0.8888888888888888, \"#fdca26\"], [1.0, \"#f0f921\"]], \"type\": \"histogram2d\"}], \"histogram2dcontour\": [{\"colorbar\": {\"outlinewidth\": 0, \"ticks\": \"\"}, \"colorscale\": [[0.0, \"#0d0887\"], [0.1111111111111111, \"#46039f\"], [0.2222222222222222, \"#7201a8\"], [0.3333333333333333, \"#9c179e\"], [0.4444444444444444, \"#bd3786\"], [0.5555555555555556, \"#d8576b\"], [0.6666666666666666, \"#ed7953\"], [0.7777777777777778, \"#fb9f3a\"], [0.8888888888888888, \"#fdca26\"], [1.0, \"#f0f921\"]], \"type\": \"histogram2dcontour\"}], \"mesh3d\": [{\"colorbar\": {\"outlinewidth\": 0, \"ticks\": \"\"}, \"type\": \"mesh3d\"}], \"parcoords\": [{\"line\": {\"colorbar\": {\"outlinewidth\": 0, \"ticks\": \"\"}}, \"type\": \"parcoords\"}], \"scatter\": [{\"marker\": {\"colorbar\": {\"outlinewidth\": 0, \"ticks\": \"\"}}, \"type\": \"scatter\"}], \"scatter3d\": [{\"line\": {\"colorbar\": {\"outlinewidth\": 0, \"ticks\": \"\"}}, \"marker\": {\"colorbar\": {\"outlinewidth\": 0, \"ticks\": \"\"}}, \"type\": \"scatter3d\"}], \"scattercarpet\": [{\"marker\": {\"colorbar\": {\"outlinewidth\": 0, \"ticks\": \"\"}}, \"type\": \"scattercarpet\"}], \"scattergeo\": [{\"marker\": {\"colorbar\": {\"outlinewidth\": 0, \"ticks\": \"\"}}, \"type\": \"scattergeo\"}], \"scattergl\": [{\"marker\": {\"colorbar\": {\"outlinewidth\": 0, \"ticks\": \"\"}}, \"type\": \"scattergl\"}], \"scattermapbox\": [{\"marker\": {\"colorbar\": {\"outlinewidth\": 0, \"ticks\": \"\"}}, \"type\": \"scattermapbox\"}], \"scatterpolar\": [{\"marker\": {\"colorbar\": {\"outlinewidth\": 0, \"ticks\": \"\"}}, \"type\": \"scatterpolar\"}], \"scatterpolargl\": [{\"marker\": {\"colorbar\": {\"outlinewidth\": 0, \"ticks\": \"\"}}, \"type\": \"scatterpolargl\"}], \"scatterternary\": [{\"marker\": {\"colorbar\": {\"outlinewidth\": 0, \"ticks\": \"\"}}, \"type\": \"scatterternary\"}], \"surface\": [{\"colorbar\": {\"outlinewidth\": 0, \"ticks\": \"\"}, \"colorscale\": [[0.0, \"#0d0887\"], [0.1111111111111111, \"#46039f\"], [0.2222222222222222, \"#7201a8\"], [0.3333333333333333, \"#9c179e\"], [0.4444444444444444, \"#bd3786\"], [0.5555555555555556, \"#d8576b\"], [0.6666666666666666, \"#ed7953\"], [0.7777777777777778, \"#fb9f3a\"], [0.8888888888888888, \"#fdca26\"], [1.0, \"#f0f921\"]], \"type\": \"surface\"}], \"table\": [{\"cells\": {\"fill\": {\"color\": \"#EBF0F8\"}, \"line\": {\"color\": \"white\"}}, \"header\": {\"fill\": {\"color\": \"#C8D4E3\"}, \"line\": {\"color\": \"white\"}}, \"type\": \"table\"}]}, \"layout\": {\"annotationdefaults\": {\"arrowcolor\": \"#2a3f5f\", \"arrowhead\": 0, \"arrowwidth\": 1}, \"colorscale\": {\"diverging\": [[0, \"#8e0152\"], [0.1, \"#c51b7d\"], [0.2, \"#de77ae\"], [0.3, \"#f1b6da\"], [0.4, \"#fde0ef\"], [0.5, \"#f7f7f7\"], [0.6, \"#e6f5d0\"], [0.7, \"#b8e186\"], [0.8, \"#7fbc41\"], [0.9, \"#4d9221\"], [1, \"#276419\"]], \"sequential\": [[0.0, \"#0d0887\"], [0.1111111111111111, \"#46039f\"], [0.2222222222222222, \"#7201a8\"], [0.3333333333333333, \"#9c179e\"], [0.4444444444444444, \"#bd3786\"], [0.5555555555555556, \"#d8576b\"], [0.6666666666666666, \"#ed7953\"], [0.7777777777777778, \"#fb9f3a\"], [0.8888888888888888, \"#fdca26\"], [1.0, \"#f0f921\"]], \"sequentialminus\": [[0.0, \"#0d0887\"], [0.1111111111111111, \"#46039f\"], [0.2222222222222222, \"#7201a8\"], [0.3333333333333333, \"#9c179e\"], [0.4444444444444444, \"#bd3786\"], [0.5555555555555556, \"#d8576b\"], [0.6666666666666666, \"#ed7953\"], [0.7777777777777778, \"#fb9f3a\"], [0.8888888888888888, \"#fdca26\"], [1.0, \"#f0f921\"]]}, \"colorway\": [\"#636efa\", \"#EF553B\", \"#00cc96\", \"#ab63fa\", \"#FFA15A\", \"#19d3f3\", \"#FF6692\", \"#B6E880\", \"#FF97FF\", \"#FECB52\"], \"font\": {\"color\": \"#2a3f5f\"}, \"geo\": {\"bgcolor\": \"white\", \"lakecolor\": \"white\", \"landcolor\": \"#E5ECF6\", \"showlakes\": true, \"showland\": true, \"subunitcolor\": \"white\"}, \"hoverlabel\": {\"align\": \"left\"}, \"hovermode\": \"closest\", \"mapbox\": {\"style\": \"light\"}, \"paper_bgcolor\": \"white\", \"plot_bgcolor\": \"#E5ECF6\", \"polar\": {\"angularaxis\": {\"gridcolor\": \"white\", \"linecolor\": \"white\", \"ticks\": \"\"}, \"bgcolor\": \"#E5ECF6\", \"radialaxis\": {\"gridcolor\": \"white\", \"linecolor\": \"white\", \"ticks\": \"\"}}, \"scene\": {\"xaxis\": {\"backgroundcolor\": \"#E5ECF6\", \"gridcolor\": \"white\", \"gridwidth\": 2, \"linecolor\": \"white\", \"showbackground\": true, \"ticks\": \"\", \"zerolinecolor\": \"white\"}, \"yaxis\": {\"backgroundcolor\": \"#E5ECF6\", \"gridcolor\": \"white\", \"gridwidth\": 2, \"linecolor\": \"white\", \"showbackground\": true, \"ticks\": \"\", \"zerolinecolor\": \"white\"}, \"zaxis\": {\"backgroundcolor\": \"#E5ECF6\", \"gridcolor\": \"white\", \"gridwidth\": 2, \"linecolor\": \"white\", \"showbackground\": true, \"ticks\": \"\", \"zerolinecolor\": \"white\"}}, \"shapedefaults\": {\"line\": {\"color\": \"#2a3f5f\"}}, \"ternary\": {\"aaxis\": {\"gridcolor\": \"white\", \"linecolor\": \"white\", \"ticks\": \"\"}, \"baxis\": {\"gridcolor\": \"white\", \"linecolor\": \"white\", \"ticks\": \"\"}, \"bgcolor\": \"#E5ECF6\", \"caxis\": {\"gridcolor\": \"white\", \"linecolor\": \"white\", \"ticks\": \"\"}}, \"title\": {\"x\": 0.05}, \"xaxis\": {\"automargin\": true, \"gridcolor\": \"white\", \"linecolor\": \"white\", \"ticks\": \"\", \"zerolinecolor\": \"white\", \"zerolinewidth\": 2}, \"yaxis\": {\"automargin\": true, \"gridcolor\": \"white\", \"linecolor\": \"white\", \"ticks\": \"\", \"zerolinecolor\": \"white\", \"zerolinewidth\": 2}}}},\n",
       "                        {\"responsive\": true}\n",
       "                    ).then(function(){\n",
       "                            \n",
       "var gd = document.getElementById('d3e32a20-87d5-4830-b39e-47d1813337b6');\n",
       "var x = new MutationObserver(function (mutations, observer) {{\n",
       "        var display = window.getComputedStyle(gd).display;\n",
       "        if (!display || display === 'none') {{\n",
       "            console.log([gd, 'removed!']);\n",
       "            Plotly.purge(gd);\n",
       "            observer.disconnect();\n",
       "        }}\n",
       "}});\n",
       "\n",
       "// Listen for the removal of the full notebook cells\n",
       "var notebookContainer = gd.closest('#notebook-container');\n",
       "if (notebookContainer) {{\n",
       "    x.observe(notebookContainer, {childList: true});\n",
       "}}\n",
       "\n",
       "// Listen for the clearing of the current output cell\n",
       "var outputEl = gd.closest('.output');\n",
       "if (outputEl) {{\n",
       "    x.observe(outputEl, {childList: true});\n",
       "}}\n",
       "\n",
       "                        })\n",
       "                };\n",
       "                });\n",
       "            </script>\n",
       "        </div>"
      ]
     },
     "metadata": {},
     "output_type": "display_data"
    }
   ],
   "source": [
    "# Solution (Punto 2)\n",
    "#Generate lo scatter plot delle osservazioni. Notate una relazione tra la variabile esplicativa e la variabile target?\n",
    "\n",
    "import plotly.offline as py\n",
    "import plotly.graph_objs as go\n",
    "py.init_notebook_mode(connected=True)\n",
    "data=[\n",
    "    go.Scatter(x=xTrain[:,0],y=yTrain,mode=\"markers\")\n",
    "]\n",
    "layout = go.Layout()\n",
    "fig = go.Figure(data, layout)\n",
    "py.iplot(fig)\n",
    "\n",
    "#possiamo notare che all'aumente del grade aumenta anche il prezzo di vendita"
   ]
  },
  {
   "cell_type": "code",
   "execution_count": 42,
   "metadata": {},
   "outputs": [
    {
     "name": "stdout",
     "output_type": "stream",
     "text": [
      "Parametri w: [182811.66205833]\n",
      "Intercetta b: -851070.4108805384\n"
     ]
    }
   ],
   "source": [
    "# Solution (Punto 3)\n",
    "#Calcolate i parametri del modello di regressione lineare y=x*w+b(Hint: usare i comandi del pacchetto scikit-learn)\n",
    "import sklearn\n",
    "import sklearn.linear_model\n",
    "linRegr = sklearn.linear_model.LinearRegression()\n",
    "\n",
    "# Facciamo il reshape delle variabili esplicative per avere array di dimensione 2 con m righe e 1 colonna\n",
    "xTrain=np.reshape(xTrain,(mTrain,1))\n",
    "\n",
    "# Costruisco il modello di regressione lineare\n",
    "linRegr.fit(xTrain, yTrain)\n",
    "# Stampo i parametri w e b del modello di regressione\n",
    "w = linRegr.coef_\n",
    "b = linRegr.intercept_\n",
    "print(f\"Parametri w: {w}\")\n",
    "print(f\"Intercetta b: {b}\")"
   ]
  },
  {
   "cell_type": "code",
   "execution_count": 43,
   "metadata": {},
   "outputs": [
    {
     "data": {
      "text/html": [
       "        <script type=\"text/javascript\">\n",
       "        window.PlotlyConfig = {MathJaxConfig: 'local'};\n",
       "        if (window.MathJax) {MathJax.Hub.Config({SVG: {font: \"STIX-Web\"}});}\n",
       "        if (typeof require !== 'undefined') {\n",
       "        require.undef(\"plotly\");\n",
       "        requirejs.config({\n",
       "            paths: {\n",
       "                'plotly': ['https://cdn.plot.ly/plotly-latest.min']\n",
       "            }\n",
       "        });\n",
       "        require(['plotly'], function(Plotly) {\n",
       "            window._Plotly = Plotly;\n",
       "        });\n",
       "        }\n",
       "        </script>\n",
       "        "
      ]
     },
     "metadata": {},
     "output_type": "display_data"
    },
    {
     "data": {
      "application/vnd.plotly.v1+json": {
       "config": {
        "linkText": "Export to plot.ly",
        "plotlyServerURL": "https://plot.ly",
        "showLink": false
       },
       "data": [
        {
         "mode": "markers",
         "name": "data",
         "type": "scatter",
         "x": [
          8,
          8,
          6,
          11,
          8,
          7,
          7,
          9,
          8,
          8,
          10,
          10,
          5,
          6,
          8,
          7,
          9,
          6,
          7,
          8,
          8,
          7,
          7,
          9,
          9,
          11,
          6,
          6,
          8,
          6,
          7,
          8,
          6,
          9,
          7,
          7,
          9,
          10,
          6,
          7,
          7,
          7,
          7,
          9,
          5,
          8,
          6,
          8,
          9,
          8,
          10,
          8,
          8,
          9,
          7,
          8,
          6,
          6,
          9,
          7,
          8,
          6,
          7,
          7,
          7,
          7,
          6,
          8,
          7,
          6,
          8,
          7,
          8,
          7,
          10,
          8,
          7,
          8,
          6,
          7,
          7,
          10,
          12,
          7,
          6,
          9,
          7,
          8,
          6,
          7,
          9,
          7,
          7,
          7,
          7,
          7,
          9,
          7,
          7,
          8,
          7,
          9,
          8,
          7,
          10,
          5,
          8,
          7,
          7,
          7,
          7,
          8,
          8,
          8,
          7,
          7,
          8,
          8,
          6,
          7,
          7,
          11,
          9,
          9,
          8,
          7,
          7,
          8,
          9,
          8,
          8,
          9,
          7,
          7,
          8,
          7,
          8,
          7,
          7,
          8,
          8,
          6,
          8,
          7,
          7,
          7,
          7,
          6,
          8,
          6,
          10
         ],
         "y": [
          542000,
          500000,
          156000,
          1925000,
          710000,
          515000,
          175000,
          984000,
          329990,
          309000,
          530000,
          1450000,
          208417,
          450000,
          613000,
          249000,
          1302000,
          282613,
          240000,
          602000,
          725000,
          290000,
          467000,
          683000,
          730000,
          1038000,
          209900,
          334009,
          575000,
          270000,
          252000,
          560000,
          309000,
          827500,
          411100,
          330000,
          920000,
          710000,
          476900,
          250000,
          385000,
          347000,
          320000,
          790000,
          275000,
          829000,
          180000,
          340000,
          711000,
          605000,
          863000,
          699950,
          665000,
          690000,
          345000,
          638000,
          265000,
          197200,
          1297000,
          280000,
          365000,
          310000,
          321000,
          320000,
          209500,
          312000,
          310000,
          518500,
          514000,
          223000,
          560000,
          268000,
          595000,
          392000,
          1890000,
          531000,
          500000,
          495000,
          375000,
          400000,
          362500,
          1750000,
          1490000,
          250000,
          525000,
          800000,
          535000,
          440000,
          410000,
          685000,
          856000,
          330000,
          680000,
          316000,
          455000,
          230000,
          558000,
          432000,
          540000,
          384500,
          365000,
          695000,
          330000,
          410000,
          795127,
          298000,
          985000,
          503500,
          275000,
          305000,
          675000,
          630000,
          675000,
          589950,
          327000,
          500000,
          585000,
          350000,
          350000,
          441500,
          447500,
          930000,
          695000,
          781000,
          560000,
          565000,
          340000,
          485000,
          408500,
          835000,
          865000,
          356000,
          467500,
          418000,
          959750,
          270000,
          450000,
          239000,
          785000,
          585000,
          474900,
          448000,
          650500,
          485000,
          534000,
          375000,
          650000,
          160000,
          619850,
          350000,
          480000
         ]
        },
        {
         "mode": "markers",
         "name": "retta ",
         "type": "scatter",
         "x": [
          8,
          8,
          6,
          11,
          8,
          7,
          7,
          9,
          8,
          8,
          10,
          10,
          5,
          6,
          8,
          7,
          9,
          6,
          7,
          8,
          8,
          7,
          7,
          9,
          9,
          11,
          6,
          6,
          8,
          6,
          7,
          8,
          6,
          9,
          7,
          7,
          9,
          10,
          6,
          7,
          7,
          7,
          7,
          9,
          5,
          8,
          6,
          8,
          9,
          8,
          10,
          8,
          8,
          9,
          7,
          8,
          6,
          6,
          9,
          7,
          8,
          6,
          7,
          7,
          7,
          7,
          6,
          8,
          7,
          6,
          8,
          7,
          8,
          7,
          10,
          8,
          7,
          8,
          6,
          7,
          7,
          10,
          12,
          7,
          6,
          9,
          7,
          8,
          6,
          7,
          9,
          7,
          7,
          7,
          7,
          7,
          9,
          7,
          7,
          8,
          7,
          9,
          8,
          7,
          10,
          5,
          8,
          7,
          7,
          7,
          7,
          8,
          8,
          8,
          7,
          7,
          8,
          8,
          6,
          7,
          7,
          11,
          9,
          9,
          8,
          7,
          7,
          8,
          9,
          8,
          8,
          9,
          7,
          7,
          8,
          7,
          8,
          7,
          7,
          8,
          8,
          6,
          8,
          7,
          7,
          7,
          7,
          6,
          8,
          6,
          10
         ],
         "y": [
          611422.8855860909,
          611422.8855860909,
          245799.5614694336,
          1159857.8717610769,
          611422.8855860909,
          428611.2235277621,
          428611.2235277621,
          794234.5476444196,
          611422.8855860909,
          611422.8855860909,
          977046.2097027481,
          977046.2097027481,
          62987.89941110485,
          245799.5614694336,
          611422.8855860909,
          428611.2235277621,
          794234.5476444196,
          245799.5614694336,
          428611.2235277621,
          611422.8855860909,
          611422.8855860909,
          428611.2235277621,
          428611.2235277621,
          794234.5476444196,
          794234.5476444196,
          1159857.8717610769,
          245799.5614694336,
          245799.5614694336,
          611422.8855860909,
          245799.5614694336,
          428611.2235277621,
          611422.8855860909,
          245799.5614694336,
          794234.5476444196,
          428611.2235277621,
          428611.2235277621,
          794234.5476444196,
          977046.2097027481,
          245799.5614694336,
          428611.2235277621,
          428611.2235277621,
          428611.2235277621,
          428611.2235277621,
          794234.5476444196,
          62987.89941110485,
          611422.8855860909,
          245799.5614694336,
          611422.8855860909,
          794234.5476444196,
          611422.8855860909,
          977046.2097027481,
          611422.8855860909,
          611422.8855860909,
          794234.5476444196,
          428611.2235277621,
          611422.8855860909,
          245799.5614694336,
          245799.5614694336,
          794234.5476444196,
          428611.2235277621,
          611422.8855860909,
          245799.5614694336,
          428611.2235277621,
          428611.2235277621,
          428611.2235277621,
          428611.2235277621,
          245799.5614694336,
          611422.8855860909,
          428611.2235277621,
          245799.5614694336,
          611422.8855860909,
          428611.2235277621,
          611422.8855860909,
          428611.2235277621,
          977046.2097027481,
          611422.8855860909,
          428611.2235277621,
          611422.8855860909,
          245799.5614694336,
          428611.2235277621,
          428611.2235277621,
          977046.2097027481,
          1342669.5338194056,
          428611.2235277621,
          245799.5614694336,
          794234.5476444196,
          428611.2235277621,
          611422.8855860909,
          245799.5614694336,
          428611.2235277621,
          794234.5476444196,
          428611.2235277621,
          428611.2235277621,
          428611.2235277621,
          428611.2235277621,
          428611.2235277621,
          794234.5476444196,
          428611.2235277621,
          428611.2235277621,
          611422.8855860909,
          428611.2235277621,
          794234.5476444196,
          611422.8855860909,
          428611.2235277621,
          977046.2097027481,
          62987.89941110485,
          611422.8855860909,
          428611.2235277621,
          428611.2235277621,
          428611.2235277621,
          428611.2235277621,
          611422.8855860909,
          611422.8855860909,
          611422.8855860909,
          428611.2235277621,
          428611.2235277621,
          611422.8855860909,
          611422.8855860909,
          245799.5614694336,
          428611.2235277621,
          428611.2235277621,
          1159857.8717610769,
          794234.5476444196,
          794234.5476444196,
          611422.8855860909,
          428611.2235277621,
          428611.2235277621,
          611422.8855860909,
          794234.5476444196,
          611422.8855860909,
          611422.8855860909,
          794234.5476444196,
          428611.2235277621,
          428611.2235277621,
          611422.8855860909,
          428611.2235277621,
          611422.8855860909,
          428611.2235277621,
          428611.2235277621,
          611422.8855860909,
          611422.8855860909,
          245799.5614694336,
          611422.8855860909,
          428611.2235277621,
          428611.2235277621,
          428611.2235277621,
          428611.2235277621,
          245799.5614694336,
          611422.8855860909,
          245799.5614694336,
          977046.2097027481
         ]
        }
       ],
       "layout": {
        "template": {
         "data": {
          "bar": [
           {
            "error_x": {
             "color": "#2a3f5f"
            },
            "error_y": {
             "color": "#2a3f5f"
            },
            "marker": {
             "line": {
              "color": "#E5ECF6",
              "width": 0.5
             }
            },
            "type": "bar"
           }
          ],
          "barpolar": [
           {
            "marker": {
             "line": {
              "color": "#E5ECF6",
              "width": 0.5
             }
            },
            "type": "barpolar"
           }
          ],
          "carpet": [
           {
            "aaxis": {
             "endlinecolor": "#2a3f5f",
             "gridcolor": "white",
             "linecolor": "white",
             "minorgridcolor": "white",
             "startlinecolor": "#2a3f5f"
            },
            "baxis": {
             "endlinecolor": "#2a3f5f",
             "gridcolor": "white",
             "linecolor": "white",
             "minorgridcolor": "white",
             "startlinecolor": "#2a3f5f"
            },
            "type": "carpet"
           }
          ],
          "choropleth": [
           {
            "colorbar": {
             "outlinewidth": 0,
             "ticks": ""
            },
            "type": "choropleth"
           }
          ],
          "contour": [
           {
            "colorbar": {
             "outlinewidth": 0,
             "ticks": ""
            },
            "colorscale": [
             [
              0,
              "#0d0887"
             ],
             [
              0.1111111111111111,
              "#46039f"
             ],
             [
              0.2222222222222222,
              "#7201a8"
             ],
             [
              0.3333333333333333,
              "#9c179e"
             ],
             [
              0.4444444444444444,
              "#bd3786"
             ],
             [
              0.5555555555555556,
              "#d8576b"
             ],
             [
              0.6666666666666666,
              "#ed7953"
             ],
             [
              0.7777777777777778,
              "#fb9f3a"
             ],
             [
              0.8888888888888888,
              "#fdca26"
             ],
             [
              1,
              "#f0f921"
             ]
            ],
            "type": "contour"
           }
          ],
          "contourcarpet": [
           {
            "colorbar": {
             "outlinewidth": 0,
             "ticks": ""
            },
            "type": "contourcarpet"
           }
          ],
          "heatmap": [
           {
            "colorbar": {
             "outlinewidth": 0,
             "ticks": ""
            },
            "colorscale": [
             [
              0,
              "#0d0887"
             ],
             [
              0.1111111111111111,
              "#46039f"
             ],
             [
              0.2222222222222222,
              "#7201a8"
             ],
             [
              0.3333333333333333,
              "#9c179e"
             ],
             [
              0.4444444444444444,
              "#bd3786"
             ],
             [
              0.5555555555555556,
              "#d8576b"
             ],
             [
              0.6666666666666666,
              "#ed7953"
             ],
             [
              0.7777777777777778,
              "#fb9f3a"
             ],
             [
              0.8888888888888888,
              "#fdca26"
             ],
             [
              1,
              "#f0f921"
             ]
            ],
            "type": "heatmap"
           }
          ],
          "heatmapgl": [
           {
            "colorbar": {
             "outlinewidth": 0,
             "ticks": ""
            },
            "colorscale": [
             [
              0,
              "#0d0887"
             ],
             [
              0.1111111111111111,
              "#46039f"
             ],
             [
              0.2222222222222222,
              "#7201a8"
             ],
             [
              0.3333333333333333,
              "#9c179e"
             ],
             [
              0.4444444444444444,
              "#bd3786"
             ],
             [
              0.5555555555555556,
              "#d8576b"
             ],
             [
              0.6666666666666666,
              "#ed7953"
             ],
             [
              0.7777777777777778,
              "#fb9f3a"
             ],
             [
              0.8888888888888888,
              "#fdca26"
             ],
             [
              1,
              "#f0f921"
             ]
            ],
            "type": "heatmapgl"
           }
          ],
          "histogram": [
           {
            "marker": {
             "colorbar": {
              "outlinewidth": 0,
              "ticks": ""
             }
            },
            "type": "histogram"
           }
          ],
          "histogram2d": [
           {
            "colorbar": {
             "outlinewidth": 0,
             "ticks": ""
            },
            "colorscale": [
             [
              0,
              "#0d0887"
             ],
             [
              0.1111111111111111,
              "#46039f"
             ],
             [
              0.2222222222222222,
              "#7201a8"
             ],
             [
              0.3333333333333333,
              "#9c179e"
             ],
             [
              0.4444444444444444,
              "#bd3786"
             ],
             [
              0.5555555555555556,
              "#d8576b"
             ],
             [
              0.6666666666666666,
              "#ed7953"
             ],
             [
              0.7777777777777778,
              "#fb9f3a"
             ],
             [
              0.8888888888888888,
              "#fdca26"
             ],
             [
              1,
              "#f0f921"
             ]
            ],
            "type": "histogram2d"
           }
          ],
          "histogram2dcontour": [
           {
            "colorbar": {
             "outlinewidth": 0,
             "ticks": ""
            },
            "colorscale": [
             [
              0,
              "#0d0887"
             ],
             [
              0.1111111111111111,
              "#46039f"
             ],
             [
              0.2222222222222222,
              "#7201a8"
             ],
             [
              0.3333333333333333,
              "#9c179e"
             ],
             [
              0.4444444444444444,
              "#bd3786"
             ],
             [
              0.5555555555555556,
              "#d8576b"
             ],
             [
              0.6666666666666666,
              "#ed7953"
             ],
             [
              0.7777777777777778,
              "#fb9f3a"
             ],
             [
              0.8888888888888888,
              "#fdca26"
             ],
             [
              1,
              "#f0f921"
             ]
            ],
            "type": "histogram2dcontour"
           }
          ],
          "mesh3d": [
           {
            "colorbar": {
             "outlinewidth": 0,
             "ticks": ""
            },
            "type": "mesh3d"
           }
          ],
          "parcoords": [
           {
            "line": {
             "colorbar": {
              "outlinewidth": 0,
              "ticks": ""
             }
            },
            "type": "parcoords"
           }
          ],
          "scatter": [
           {
            "marker": {
             "colorbar": {
              "outlinewidth": 0,
              "ticks": ""
             }
            },
            "type": "scatter"
           }
          ],
          "scatter3d": [
           {
            "line": {
             "colorbar": {
              "outlinewidth": 0,
              "ticks": ""
             }
            },
            "marker": {
             "colorbar": {
              "outlinewidth": 0,
              "ticks": ""
             }
            },
            "type": "scatter3d"
           }
          ],
          "scattercarpet": [
           {
            "marker": {
             "colorbar": {
              "outlinewidth": 0,
              "ticks": ""
             }
            },
            "type": "scattercarpet"
           }
          ],
          "scattergeo": [
           {
            "marker": {
             "colorbar": {
              "outlinewidth": 0,
              "ticks": ""
             }
            },
            "type": "scattergeo"
           }
          ],
          "scattergl": [
           {
            "marker": {
             "colorbar": {
              "outlinewidth": 0,
              "ticks": ""
             }
            },
            "type": "scattergl"
           }
          ],
          "scattermapbox": [
           {
            "marker": {
             "colorbar": {
              "outlinewidth": 0,
              "ticks": ""
             }
            },
            "type": "scattermapbox"
           }
          ],
          "scatterpolar": [
           {
            "marker": {
             "colorbar": {
              "outlinewidth": 0,
              "ticks": ""
             }
            },
            "type": "scatterpolar"
           }
          ],
          "scatterpolargl": [
           {
            "marker": {
             "colorbar": {
              "outlinewidth": 0,
              "ticks": ""
             }
            },
            "type": "scatterpolargl"
           }
          ],
          "scatterternary": [
           {
            "marker": {
             "colorbar": {
              "outlinewidth": 0,
              "ticks": ""
             }
            },
            "type": "scatterternary"
           }
          ],
          "surface": [
           {
            "colorbar": {
             "outlinewidth": 0,
             "ticks": ""
            },
            "colorscale": [
             [
              0,
              "#0d0887"
             ],
             [
              0.1111111111111111,
              "#46039f"
             ],
             [
              0.2222222222222222,
              "#7201a8"
             ],
             [
              0.3333333333333333,
              "#9c179e"
             ],
             [
              0.4444444444444444,
              "#bd3786"
             ],
             [
              0.5555555555555556,
              "#d8576b"
             ],
             [
              0.6666666666666666,
              "#ed7953"
             ],
             [
              0.7777777777777778,
              "#fb9f3a"
             ],
             [
              0.8888888888888888,
              "#fdca26"
             ],
             [
              1,
              "#f0f921"
             ]
            ],
            "type": "surface"
           }
          ],
          "table": [
           {
            "cells": {
             "fill": {
              "color": "#EBF0F8"
             },
             "line": {
              "color": "white"
             }
            },
            "header": {
             "fill": {
              "color": "#C8D4E3"
             },
             "line": {
              "color": "white"
             }
            },
            "type": "table"
           }
          ]
         },
         "layout": {
          "annotationdefaults": {
           "arrowcolor": "#2a3f5f",
           "arrowhead": 0,
           "arrowwidth": 1
          },
          "colorscale": {
           "diverging": [
            [
             0,
             "#8e0152"
            ],
            [
             0.1,
             "#c51b7d"
            ],
            [
             0.2,
             "#de77ae"
            ],
            [
             0.3,
             "#f1b6da"
            ],
            [
             0.4,
             "#fde0ef"
            ],
            [
             0.5,
             "#f7f7f7"
            ],
            [
             0.6,
             "#e6f5d0"
            ],
            [
             0.7,
             "#b8e186"
            ],
            [
             0.8,
             "#7fbc41"
            ],
            [
             0.9,
             "#4d9221"
            ],
            [
             1,
             "#276419"
            ]
           ],
           "sequential": [
            [
             0,
             "#0d0887"
            ],
            [
             0.1111111111111111,
             "#46039f"
            ],
            [
             0.2222222222222222,
             "#7201a8"
            ],
            [
             0.3333333333333333,
             "#9c179e"
            ],
            [
             0.4444444444444444,
             "#bd3786"
            ],
            [
             0.5555555555555556,
             "#d8576b"
            ],
            [
             0.6666666666666666,
             "#ed7953"
            ],
            [
             0.7777777777777778,
             "#fb9f3a"
            ],
            [
             0.8888888888888888,
             "#fdca26"
            ],
            [
             1,
             "#f0f921"
            ]
           ],
           "sequentialminus": [
            [
             0,
             "#0d0887"
            ],
            [
             0.1111111111111111,
             "#46039f"
            ],
            [
             0.2222222222222222,
             "#7201a8"
            ],
            [
             0.3333333333333333,
             "#9c179e"
            ],
            [
             0.4444444444444444,
             "#bd3786"
            ],
            [
             0.5555555555555556,
             "#d8576b"
            ],
            [
             0.6666666666666666,
             "#ed7953"
            ],
            [
             0.7777777777777778,
             "#fb9f3a"
            ],
            [
             0.8888888888888888,
             "#fdca26"
            ],
            [
             1,
             "#f0f921"
            ]
           ]
          },
          "colorway": [
           "#636efa",
           "#EF553B",
           "#00cc96",
           "#ab63fa",
           "#FFA15A",
           "#19d3f3",
           "#FF6692",
           "#B6E880",
           "#FF97FF",
           "#FECB52"
          ],
          "font": {
           "color": "#2a3f5f"
          },
          "geo": {
           "bgcolor": "white",
           "lakecolor": "white",
           "landcolor": "#E5ECF6",
           "showlakes": true,
           "showland": true,
           "subunitcolor": "white"
          },
          "hoverlabel": {
           "align": "left"
          },
          "hovermode": "closest",
          "mapbox": {
           "style": "light"
          },
          "paper_bgcolor": "white",
          "plot_bgcolor": "#E5ECF6",
          "polar": {
           "angularaxis": {
            "gridcolor": "white",
            "linecolor": "white",
            "ticks": ""
           },
           "bgcolor": "#E5ECF6",
           "radialaxis": {
            "gridcolor": "white",
            "linecolor": "white",
            "ticks": ""
           }
          },
          "scene": {
           "xaxis": {
            "backgroundcolor": "#E5ECF6",
            "gridcolor": "white",
            "gridwidth": 2,
            "linecolor": "white",
            "showbackground": true,
            "ticks": "",
            "zerolinecolor": "white"
           },
           "yaxis": {
            "backgroundcolor": "#E5ECF6",
            "gridcolor": "white",
            "gridwidth": 2,
            "linecolor": "white",
            "showbackground": true,
            "ticks": "",
            "zerolinecolor": "white"
           },
           "zaxis": {
            "backgroundcolor": "#E5ECF6",
            "gridcolor": "white",
            "gridwidth": 2,
            "linecolor": "white",
            "showbackground": true,
            "ticks": "",
            "zerolinecolor": "white"
           }
          },
          "shapedefaults": {
           "line": {
            "color": "#2a3f5f"
           }
          },
          "ternary": {
           "aaxis": {
            "gridcolor": "white",
            "linecolor": "white",
            "ticks": ""
           },
           "baxis": {
            "gridcolor": "white",
            "linecolor": "white",
            "ticks": ""
           },
           "bgcolor": "#E5ECF6",
           "caxis": {
            "gridcolor": "white",
            "linecolor": "white",
            "ticks": ""
           }
          },
          "title": {
           "x": 0.05
          },
          "xaxis": {
           "automargin": true,
           "gridcolor": "white",
           "linecolor": "white",
           "ticks": "",
           "zerolinecolor": "white",
           "zerolinewidth": 2
          },
          "yaxis": {
           "automargin": true,
           "gridcolor": "white",
           "linecolor": "white",
           "ticks": "",
           "zerolinecolor": "white",
           "zerolinewidth": 2
          }
         }
        }
       }
      },
      "text/html": [
       "<div>\n",
       "        \n",
       "        \n",
       "            <div id=\"781febfb-1267-490d-a5e9-a7833780e35c\" class=\"plotly-graph-div\" style=\"height:525px; width:100%;\"></div>\n",
       "            <script type=\"text/javascript\">\n",
       "                require([\"plotly\"], function(Plotly) {\n",
       "                    window.PLOTLYENV=window.PLOTLYENV || {};\n",
       "                    \n",
       "                if (document.getElementById(\"781febfb-1267-490d-a5e9-a7833780e35c\")) {\n",
       "                    Plotly.newPlot(\n",
       "                        '781febfb-1267-490d-a5e9-a7833780e35c',\n",
       "                        [{\"mode\": \"markers\", \"name\": \"data\", \"type\": \"scatter\", \"x\": [8, 8, 6, 11, 8, 7, 7, 9, 8, 8, 10, 10, 5, 6, 8, 7, 9, 6, 7, 8, 8, 7, 7, 9, 9, 11, 6, 6, 8, 6, 7, 8, 6, 9, 7, 7, 9, 10, 6, 7, 7, 7, 7, 9, 5, 8, 6, 8, 9, 8, 10, 8, 8, 9, 7, 8, 6, 6, 9, 7, 8, 6, 7, 7, 7, 7, 6, 8, 7, 6, 8, 7, 8, 7, 10, 8, 7, 8, 6, 7, 7, 10, 12, 7, 6, 9, 7, 8, 6, 7, 9, 7, 7, 7, 7, 7, 9, 7, 7, 8, 7, 9, 8, 7, 10, 5, 8, 7, 7, 7, 7, 8, 8, 8, 7, 7, 8, 8, 6, 7, 7, 11, 9, 9, 8, 7, 7, 8, 9, 8, 8, 9, 7, 7, 8, 7, 8, 7, 7, 8, 8, 6, 8, 7, 7, 7, 7, 6, 8, 6, 10], \"y\": [542000.0, 500000.0, 156000.0, 1925000.0, 710000.0, 515000.0, 175000.0, 984000.0, 329990.0, 309000.0, 530000.0, 1450000.0, 208417.0, 450000.0, 613000.0, 249000.0, 1302000.0, 282613.0, 240000.0, 602000.0, 725000.0, 290000.0, 467000.0, 683000.0, 730000.0, 1038000.0, 209900.0, 334009.0, 575000.0, 270000.0, 252000.0, 560000.0, 309000.0, 827500.0, 411100.0, 330000.0, 920000.0, 710000.0, 476900.0, 250000.0, 385000.0, 347000.0, 320000.0, 790000.0, 275000.0, 829000.0, 180000.0, 340000.0, 711000.0, 605000.0, 863000.0, 699950.0, 665000.0, 690000.0, 345000.0, 638000.0, 265000.0, 197200.0, 1297000.0, 280000.0, 365000.0, 310000.0, 321000.0, 320000.0, 209500.0, 312000.0, 310000.0, 518500.0, 514000.0, 223000.0, 560000.0, 268000.0, 595000.0, 392000.0, 1890000.0, 531000.0, 500000.0, 495000.0, 375000.0, 400000.0, 362500.0, 1750000.0, 1490000.0, 250000.0, 525000.0, 800000.0, 535000.0, 440000.0, 410000.0, 685000.0, 856000.0, 330000.0, 680000.0, 316000.0, 455000.0, 230000.0, 558000.0, 432000.0, 540000.0, 384500.0, 365000.0, 695000.0, 330000.0, 410000.0, 795127.0, 298000.0, 985000.0, 503500.0, 275000.0, 305000.0, 675000.0, 630000.0, 675000.0, 589950.0, 327000.0, 500000.0, 585000.0, 350000.0, 350000.0, 441500.0, 447500.0, 930000.0, 695000.0, 781000.0, 560000.0, 565000.0, 340000.0, 485000.0, 408500.0, 835000.0, 865000.0, 356000.0, 467500.0, 418000.0, 959750.0, 270000.0, 450000.0, 239000.0, 785000.0, 585000.0, 474900.0, 448000.0, 650500.0, 485000.0, 534000.0, 375000.0, 650000.0, 160000.0, 619850.0, 350000.0, 480000.0]}, {\"mode\": \"markers\", \"name\": \"retta \", \"type\": \"scatter\", \"x\": [8, 8, 6, 11, 8, 7, 7, 9, 8, 8, 10, 10, 5, 6, 8, 7, 9, 6, 7, 8, 8, 7, 7, 9, 9, 11, 6, 6, 8, 6, 7, 8, 6, 9, 7, 7, 9, 10, 6, 7, 7, 7, 7, 9, 5, 8, 6, 8, 9, 8, 10, 8, 8, 9, 7, 8, 6, 6, 9, 7, 8, 6, 7, 7, 7, 7, 6, 8, 7, 6, 8, 7, 8, 7, 10, 8, 7, 8, 6, 7, 7, 10, 12, 7, 6, 9, 7, 8, 6, 7, 9, 7, 7, 7, 7, 7, 9, 7, 7, 8, 7, 9, 8, 7, 10, 5, 8, 7, 7, 7, 7, 8, 8, 8, 7, 7, 8, 8, 6, 7, 7, 11, 9, 9, 8, 7, 7, 8, 9, 8, 8, 9, 7, 7, 8, 7, 8, 7, 7, 8, 8, 6, 8, 7, 7, 7, 7, 6, 8, 6, 10], \"y\": [611422.8855860909, 611422.8855860909, 245799.5614694336, 1159857.8717610769, 611422.8855860909, 428611.2235277621, 428611.2235277621, 794234.5476444196, 611422.8855860909, 611422.8855860909, 977046.2097027481, 977046.2097027481, 62987.89941110485, 245799.5614694336, 611422.8855860909, 428611.2235277621, 794234.5476444196, 245799.5614694336, 428611.2235277621, 611422.8855860909, 611422.8855860909, 428611.2235277621, 428611.2235277621, 794234.5476444196, 794234.5476444196, 1159857.8717610769, 245799.5614694336, 245799.5614694336, 611422.8855860909, 245799.5614694336, 428611.2235277621, 611422.8855860909, 245799.5614694336, 794234.5476444196, 428611.2235277621, 428611.2235277621, 794234.5476444196, 977046.2097027481, 245799.5614694336, 428611.2235277621, 428611.2235277621, 428611.2235277621, 428611.2235277621, 794234.5476444196, 62987.89941110485, 611422.8855860909, 245799.5614694336, 611422.8855860909, 794234.5476444196, 611422.8855860909, 977046.2097027481, 611422.8855860909, 611422.8855860909, 794234.5476444196, 428611.2235277621, 611422.8855860909, 245799.5614694336, 245799.5614694336, 794234.5476444196, 428611.2235277621, 611422.8855860909, 245799.5614694336, 428611.2235277621, 428611.2235277621, 428611.2235277621, 428611.2235277621, 245799.5614694336, 611422.8855860909, 428611.2235277621, 245799.5614694336, 611422.8855860909, 428611.2235277621, 611422.8855860909, 428611.2235277621, 977046.2097027481, 611422.8855860909, 428611.2235277621, 611422.8855860909, 245799.5614694336, 428611.2235277621, 428611.2235277621, 977046.2097027481, 1342669.5338194056, 428611.2235277621, 245799.5614694336, 794234.5476444196, 428611.2235277621, 611422.8855860909, 245799.5614694336, 428611.2235277621, 794234.5476444196, 428611.2235277621, 428611.2235277621, 428611.2235277621, 428611.2235277621, 428611.2235277621, 794234.5476444196, 428611.2235277621, 428611.2235277621, 611422.8855860909, 428611.2235277621, 794234.5476444196, 611422.8855860909, 428611.2235277621, 977046.2097027481, 62987.89941110485, 611422.8855860909, 428611.2235277621, 428611.2235277621, 428611.2235277621, 428611.2235277621, 611422.8855860909, 611422.8855860909, 611422.8855860909, 428611.2235277621, 428611.2235277621, 611422.8855860909, 611422.8855860909, 245799.5614694336, 428611.2235277621, 428611.2235277621, 1159857.8717610769, 794234.5476444196, 794234.5476444196, 611422.8855860909, 428611.2235277621, 428611.2235277621, 611422.8855860909, 794234.5476444196, 611422.8855860909, 611422.8855860909, 794234.5476444196, 428611.2235277621, 428611.2235277621, 611422.8855860909, 428611.2235277621, 611422.8855860909, 428611.2235277621, 428611.2235277621, 611422.8855860909, 611422.8855860909, 245799.5614694336, 611422.8855860909, 428611.2235277621, 428611.2235277621, 428611.2235277621, 428611.2235277621, 245799.5614694336, 611422.8855860909, 245799.5614694336, 977046.2097027481]}],\n",
       "                        {\"template\": {\"data\": {\"bar\": [{\"error_x\": {\"color\": \"#2a3f5f\"}, \"error_y\": {\"color\": \"#2a3f5f\"}, \"marker\": {\"line\": {\"color\": \"#E5ECF6\", \"width\": 0.5}}, \"type\": \"bar\"}], \"barpolar\": [{\"marker\": {\"line\": {\"color\": \"#E5ECF6\", \"width\": 0.5}}, \"type\": \"barpolar\"}], \"carpet\": [{\"aaxis\": {\"endlinecolor\": \"#2a3f5f\", \"gridcolor\": \"white\", \"linecolor\": \"white\", \"minorgridcolor\": \"white\", \"startlinecolor\": \"#2a3f5f\"}, \"baxis\": {\"endlinecolor\": \"#2a3f5f\", \"gridcolor\": \"white\", \"linecolor\": \"white\", \"minorgridcolor\": \"white\", \"startlinecolor\": \"#2a3f5f\"}, \"type\": \"carpet\"}], \"choropleth\": [{\"colorbar\": {\"outlinewidth\": 0, \"ticks\": \"\"}, \"type\": \"choropleth\"}], \"contour\": [{\"colorbar\": {\"outlinewidth\": 0, \"ticks\": \"\"}, \"colorscale\": [[0.0, \"#0d0887\"], [0.1111111111111111, \"#46039f\"], [0.2222222222222222, \"#7201a8\"], [0.3333333333333333, \"#9c179e\"], [0.4444444444444444, \"#bd3786\"], [0.5555555555555556, \"#d8576b\"], [0.6666666666666666, \"#ed7953\"], [0.7777777777777778, \"#fb9f3a\"], [0.8888888888888888, \"#fdca26\"], [1.0, \"#f0f921\"]], \"type\": \"contour\"}], \"contourcarpet\": [{\"colorbar\": {\"outlinewidth\": 0, \"ticks\": \"\"}, \"type\": \"contourcarpet\"}], \"heatmap\": [{\"colorbar\": {\"outlinewidth\": 0, \"ticks\": \"\"}, \"colorscale\": [[0.0, \"#0d0887\"], [0.1111111111111111, \"#46039f\"], [0.2222222222222222, \"#7201a8\"], [0.3333333333333333, \"#9c179e\"], [0.4444444444444444, \"#bd3786\"], [0.5555555555555556, \"#d8576b\"], [0.6666666666666666, \"#ed7953\"], [0.7777777777777778, \"#fb9f3a\"], [0.8888888888888888, \"#fdca26\"], [1.0, \"#f0f921\"]], \"type\": \"heatmap\"}], \"heatmapgl\": [{\"colorbar\": {\"outlinewidth\": 0, \"ticks\": \"\"}, \"colorscale\": [[0.0, \"#0d0887\"], [0.1111111111111111, \"#46039f\"], [0.2222222222222222, \"#7201a8\"], [0.3333333333333333, \"#9c179e\"], [0.4444444444444444, \"#bd3786\"], [0.5555555555555556, \"#d8576b\"], [0.6666666666666666, \"#ed7953\"], [0.7777777777777778, \"#fb9f3a\"], [0.8888888888888888, \"#fdca26\"], [1.0, \"#f0f921\"]], \"type\": \"heatmapgl\"}], \"histogram\": [{\"marker\": {\"colorbar\": {\"outlinewidth\": 0, \"ticks\": \"\"}}, \"type\": \"histogram\"}], \"histogram2d\": [{\"colorbar\": {\"outlinewidth\": 0, \"ticks\": \"\"}, \"colorscale\": [[0.0, \"#0d0887\"], [0.1111111111111111, \"#46039f\"], [0.2222222222222222, \"#7201a8\"], [0.3333333333333333, \"#9c179e\"], [0.4444444444444444, \"#bd3786\"], [0.5555555555555556, \"#d8576b\"], [0.6666666666666666, \"#ed7953\"], [0.7777777777777778, \"#fb9f3a\"], [0.8888888888888888, \"#fdca26\"], [1.0, \"#f0f921\"]], \"type\": \"histogram2d\"}], \"histogram2dcontour\": [{\"colorbar\": {\"outlinewidth\": 0, \"ticks\": \"\"}, \"colorscale\": [[0.0, \"#0d0887\"], [0.1111111111111111, \"#46039f\"], [0.2222222222222222, \"#7201a8\"], [0.3333333333333333, \"#9c179e\"], [0.4444444444444444, \"#bd3786\"], [0.5555555555555556, \"#d8576b\"], [0.6666666666666666, \"#ed7953\"], [0.7777777777777778, \"#fb9f3a\"], [0.8888888888888888, \"#fdca26\"], [1.0, \"#f0f921\"]], \"type\": \"histogram2dcontour\"}], \"mesh3d\": [{\"colorbar\": {\"outlinewidth\": 0, \"ticks\": \"\"}, \"type\": \"mesh3d\"}], \"parcoords\": [{\"line\": {\"colorbar\": {\"outlinewidth\": 0, \"ticks\": \"\"}}, \"type\": \"parcoords\"}], \"scatter\": [{\"marker\": {\"colorbar\": {\"outlinewidth\": 0, \"ticks\": \"\"}}, \"type\": \"scatter\"}], \"scatter3d\": [{\"line\": {\"colorbar\": {\"outlinewidth\": 0, \"ticks\": \"\"}}, \"marker\": {\"colorbar\": {\"outlinewidth\": 0, \"ticks\": \"\"}}, \"type\": \"scatter3d\"}], \"scattercarpet\": [{\"marker\": {\"colorbar\": {\"outlinewidth\": 0, \"ticks\": \"\"}}, \"type\": \"scattercarpet\"}], \"scattergeo\": [{\"marker\": {\"colorbar\": {\"outlinewidth\": 0, \"ticks\": \"\"}}, \"type\": \"scattergeo\"}], \"scattergl\": [{\"marker\": {\"colorbar\": {\"outlinewidth\": 0, \"ticks\": \"\"}}, \"type\": \"scattergl\"}], \"scattermapbox\": [{\"marker\": {\"colorbar\": {\"outlinewidth\": 0, \"ticks\": \"\"}}, \"type\": \"scattermapbox\"}], \"scatterpolar\": [{\"marker\": {\"colorbar\": {\"outlinewidth\": 0, \"ticks\": \"\"}}, \"type\": \"scatterpolar\"}], \"scatterpolargl\": [{\"marker\": {\"colorbar\": {\"outlinewidth\": 0, \"ticks\": \"\"}}, \"type\": \"scatterpolargl\"}], \"scatterternary\": [{\"marker\": {\"colorbar\": {\"outlinewidth\": 0, \"ticks\": \"\"}}, \"type\": \"scatterternary\"}], \"surface\": [{\"colorbar\": {\"outlinewidth\": 0, \"ticks\": \"\"}, \"colorscale\": [[0.0, \"#0d0887\"], [0.1111111111111111, \"#46039f\"], [0.2222222222222222, \"#7201a8\"], [0.3333333333333333, \"#9c179e\"], [0.4444444444444444, \"#bd3786\"], [0.5555555555555556, \"#d8576b\"], [0.6666666666666666, \"#ed7953\"], [0.7777777777777778, \"#fb9f3a\"], [0.8888888888888888, \"#fdca26\"], [1.0, \"#f0f921\"]], \"type\": \"surface\"}], \"table\": [{\"cells\": {\"fill\": {\"color\": \"#EBF0F8\"}, \"line\": {\"color\": \"white\"}}, \"header\": {\"fill\": {\"color\": \"#C8D4E3\"}, \"line\": {\"color\": \"white\"}}, \"type\": \"table\"}]}, \"layout\": {\"annotationdefaults\": {\"arrowcolor\": \"#2a3f5f\", \"arrowhead\": 0, \"arrowwidth\": 1}, \"colorscale\": {\"diverging\": [[0, \"#8e0152\"], [0.1, \"#c51b7d\"], [0.2, \"#de77ae\"], [0.3, \"#f1b6da\"], [0.4, \"#fde0ef\"], [0.5, \"#f7f7f7\"], [0.6, \"#e6f5d0\"], [0.7, \"#b8e186\"], [0.8, \"#7fbc41\"], [0.9, \"#4d9221\"], [1, \"#276419\"]], \"sequential\": [[0.0, \"#0d0887\"], [0.1111111111111111, \"#46039f\"], [0.2222222222222222, \"#7201a8\"], [0.3333333333333333, \"#9c179e\"], [0.4444444444444444, \"#bd3786\"], [0.5555555555555556, \"#d8576b\"], [0.6666666666666666, \"#ed7953\"], [0.7777777777777778, \"#fb9f3a\"], [0.8888888888888888, \"#fdca26\"], [1.0, \"#f0f921\"]], \"sequentialminus\": [[0.0, \"#0d0887\"], [0.1111111111111111, \"#46039f\"], [0.2222222222222222, \"#7201a8\"], [0.3333333333333333, \"#9c179e\"], [0.4444444444444444, \"#bd3786\"], [0.5555555555555556, \"#d8576b\"], [0.6666666666666666, \"#ed7953\"], [0.7777777777777778, \"#fb9f3a\"], [0.8888888888888888, \"#fdca26\"], [1.0, \"#f0f921\"]]}, \"colorway\": [\"#636efa\", \"#EF553B\", \"#00cc96\", \"#ab63fa\", \"#FFA15A\", \"#19d3f3\", \"#FF6692\", \"#B6E880\", \"#FF97FF\", \"#FECB52\"], \"font\": {\"color\": \"#2a3f5f\"}, \"geo\": {\"bgcolor\": \"white\", \"lakecolor\": \"white\", \"landcolor\": \"#E5ECF6\", \"showlakes\": true, \"showland\": true, \"subunitcolor\": \"white\"}, \"hoverlabel\": {\"align\": \"left\"}, \"hovermode\": \"closest\", \"mapbox\": {\"style\": \"light\"}, \"paper_bgcolor\": \"white\", \"plot_bgcolor\": \"#E5ECF6\", \"polar\": {\"angularaxis\": {\"gridcolor\": \"white\", \"linecolor\": \"white\", \"ticks\": \"\"}, \"bgcolor\": \"#E5ECF6\", \"radialaxis\": {\"gridcolor\": \"white\", \"linecolor\": \"white\", \"ticks\": \"\"}}, \"scene\": {\"xaxis\": {\"backgroundcolor\": \"#E5ECF6\", \"gridcolor\": \"white\", \"gridwidth\": 2, \"linecolor\": \"white\", \"showbackground\": true, \"ticks\": \"\", \"zerolinecolor\": \"white\"}, \"yaxis\": {\"backgroundcolor\": \"#E5ECF6\", \"gridcolor\": \"white\", \"gridwidth\": 2, \"linecolor\": \"white\", \"showbackground\": true, \"ticks\": \"\", \"zerolinecolor\": \"white\"}, \"zaxis\": {\"backgroundcolor\": \"#E5ECF6\", \"gridcolor\": \"white\", \"gridwidth\": 2, \"linecolor\": \"white\", \"showbackground\": true, \"ticks\": \"\", \"zerolinecolor\": \"white\"}}, \"shapedefaults\": {\"line\": {\"color\": \"#2a3f5f\"}}, \"ternary\": {\"aaxis\": {\"gridcolor\": \"white\", \"linecolor\": \"white\", \"ticks\": \"\"}, \"baxis\": {\"gridcolor\": \"white\", \"linecolor\": \"white\", \"ticks\": \"\"}, \"bgcolor\": \"#E5ECF6\", \"caxis\": {\"gridcolor\": \"white\", \"linecolor\": \"white\", \"ticks\": \"\"}}, \"title\": {\"x\": 0.05}, \"xaxis\": {\"automargin\": true, \"gridcolor\": \"white\", \"linecolor\": \"white\", \"ticks\": \"\", \"zerolinecolor\": \"white\", \"zerolinewidth\": 2}, \"yaxis\": {\"automargin\": true, \"gridcolor\": \"white\", \"linecolor\": \"white\", \"ticks\": \"\", \"zerolinecolor\": \"white\", \"zerolinewidth\": 2}}}},\n",
       "                        {\"responsive\": true}\n",
       "                    ).then(function(){\n",
       "                            \n",
       "var gd = document.getElementById('781febfb-1267-490d-a5e9-a7833780e35c');\n",
       "var x = new MutationObserver(function (mutations, observer) {{\n",
       "        var display = window.getComputedStyle(gd).display;\n",
       "        if (!display || display === 'none') {{\n",
       "            console.log([gd, 'removed!']);\n",
       "            Plotly.purge(gd);\n",
       "            observer.disconnect();\n",
       "        }}\n",
       "}});\n",
       "\n",
       "// Listen for the removal of the full notebook cells\n",
       "var notebookContainer = gd.closest('#notebook-container');\n",
       "if (notebookContainer) {{\n",
       "    x.observe(notebookContainer, {childList: true});\n",
       "}}\n",
       "\n",
       "// Listen for the clearing of the current output cell\n",
       "var outputEl = gd.closest('.output');\n",
       "if (outputEl) {{\n",
       "    x.observe(outputEl, {childList: true});\n",
       "}}\n",
       "\n",
       "                        })\n",
       "                };\n",
       "                });\n",
       "            </script>\n",
       "        </div>"
      ]
     },
     "metadata": {},
     "output_type": "display_data"
    }
   ],
   "source": [
    "# Solution (Punto 4)\n",
    "#Disegnare in un unico grafico lo scatter plot delle osservazioni del trainig set e la retta di regressione.\n",
    "\n",
    "py.init_notebook_mode(connected=True)\n",
    "y_retta=w*xTrain[:,0]+b\n",
    "xx=xTrain[:,0]\n",
    "\n",
    "data=[\n",
    "    go.Scatter(x=xTrain[:,0],y=yTrain,mode=\"markers\",name=\"data\"),\n",
    "    go.Scatter(x=xTrain[:,0],y=y_retta,mode=\"markers\",name=\"retta \")\n",
    "]\n",
    "layout = go.Layout()\n",
    "fig = go.Figure(data, layout)\n",
    "\n",
    "\n",
    "py.iplot(fig)"
   ]
  },
  {
   "cell_type": "code",
   "execution_count": 44,
   "metadata": {},
   "outputs": [
    {
     "data": {
      "application/vnd.plotly.v1+json": {
       "config": {
        "linkText": "Export to plot.ly",
        "plotlyServerURL": "https://plot.ly",
        "showLink": false
       },
       "data": [
        {
         "line": {
          "color": "blue"
         },
         "mode": "markers",
         "name": "data",
         "type": "scatter",
         "x": [
          8,
          8,
          6,
          11,
          8,
          7,
          7,
          9,
          8,
          8,
          10,
          10,
          5,
          6,
          8,
          7,
          9,
          6,
          7,
          8,
          8,
          7,
          7,
          9,
          9,
          11,
          6,
          6,
          8,
          6,
          7,
          8,
          6,
          9,
          7,
          7,
          9,
          10,
          6,
          7,
          7,
          7,
          7,
          9,
          5,
          8,
          6,
          8,
          9,
          8,
          10,
          8,
          8,
          9,
          7,
          8,
          6,
          6,
          9,
          7,
          8,
          6,
          7,
          7,
          7,
          7,
          6,
          8,
          7,
          6,
          8,
          7,
          8,
          7,
          10,
          8,
          7,
          8,
          6,
          7,
          7,
          10,
          12,
          7,
          6,
          9,
          7,
          8,
          6,
          7,
          9,
          7,
          7,
          7,
          7,
          7,
          9,
          7,
          7,
          8,
          7,
          9,
          8,
          7,
          10,
          5,
          8,
          7,
          7,
          7,
          7,
          8,
          8,
          8,
          7,
          7,
          8,
          8,
          6,
          7,
          7,
          11,
          9,
          9,
          8,
          7,
          7,
          8,
          9,
          8,
          8,
          9,
          7,
          7,
          8,
          7,
          8,
          7,
          7,
          8,
          8,
          6,
          8,
          7,
          7,
          7,
          7,
          6,
          8,
          6,
          10
         ],
         "y": [
          -69422.88558609085,
          -111422.88558609085,
          -89799.5614694336,
          765142.1282389231,
          98577.11441390915,
          86388.77647223789,
          -253611.2235277621,
          189765.4523555804,
          -281432.88558609085,
          -302422.88558609085,
          -447046.2097027481,
          472953.7902972519,
          145429.10058889515,
          204200.4385305664,
          1577.1144139091484,
          -179611.2235277621,
          507765.4523555804,
          36813.438530566404,
          -188611.2235277621,
          -9422.885586090852,
          113577.11441390915,
          -138611.2235277621,
          38388.77647223789,
          -111234.5476444196,
          -64234.547644419596,
          -121857.87176107685,
          -35899.561469433596,
          88209.4385305664,
          -36422.88558609085,
          24200.438530566404,
          -176611.2235277621,
          -51422.88558609085,
          63200.438530566404,
          33265.452355580404,
          -17511.223527762108,
          -98611.22352776211,
          125765.4523555804,
          -267046.2097027481,
          231100.4385305664,
          -178611.2235277621,
          -43611.22352776211,
          -81611.22352776211,
          -108611.22352776211,
          -4234.547644419596,
          212012.10058889515,
          217577.11441390915,
          -65799.5614694336,
          -271422.88558609085,
          -83234.5476444196,
          -6422.885586090852,
          -114046.2097027481,
          88527.11441390915,
          53577.11441390915,
          -104234.5476444196,
          -83611.22352776211,
          26577.11441390915,
          19200.438530566404,
          -48599.561469433596,
          502765.4523555804,
          -148611.2235277621,
          -246422.88558609085,
          64200.438530566404,
          -107611.22352776211,
          -108611.22352776211,
          -219111.2235277621,
          -116611.22352776211,
          64200.438530566404,
          -92922.88558609085,
          85388.77647223789,
          -22799.561469433596,
          -51422.88558609085,
          -160611.2235277621,
          -16422.88558609085,
          -36611.22352776211,
          912953.7902972519,
          -80422.88558609085,
          71388.77647223789,
          -116422.88558609085,
          129200.4385305664,
          -28611.223527762108,
          -66111.22352776211,
          772953.7902972519,
          147330.4661805944,
          -178611.2235277621,
          279200.4385305664,
          5765.452355580404,
          106388.77647223789,
          -171422.88558609085,
          164200.4385305664,
          256388.7764722379,
          61765.452355580404,
          -98611.22352776211,
          251388.7764722379,
          -112611.22352776211,
          26388.776472237892,
          -198611.2235277621,
          -236234.5476444196,
          3388.7764722378924,
          111388.77647223789,
          -226922.88558609085,
          -63611.22352776211,
          -99234.5476444196,
          -281422.88558609085,
          -18611.223527762108,
          -181919.2097027481,
          235012.10058889515,
          373577.11441390915,
          74888.77647223789,
          -153611.2235277621,
          -123611.22352776211,
          246388.7764722379,
          18577.11441390915,
          63577.11441390915,
          -21472.88558609085,
          -101611.22352776211,
          71388.77647223789,
          -26422.88558609085,
          -261422.88558609085,
          104200.4385305664,
          12888.776472237892,
          18888.776472237892,
          -229857.87176107685,
          -99234.5476444196,
          -13234.547644419596,
          -51422.88558609085,
          136388.7764722379,
          -88611.22352776211,
          -126422.88558609085,
          -385734.5476444196,
          223577.11441390915,
          253577.11441390915,
          -438234.5476444196,
          38888.77647223789,
          -10611.223527762108,
          348327.11441390915,
          -158611.2235277621,
          -161422.88558609085,
          -189611.2235277621,
          356388.7764722379,
          -26422.88558609085,
          -136522.88558609085,
          202200.4385305664,
          39077.11441390915,
          56388.77647223789,
          105388.77647223789,
          -53611.22352776211,
          221388.7764722379,
          -85799.5614694336,
          8427.114413909148,
          104200.4385305664,
          -497046.2097027481
         ]
        }
       ],
       "layout": {
        "template": {
         "data": {
          "bar": [
           {
            "error_x": {
             "color": "#2a3f5f"
            },
            "error_y": {
             "color": "#2a3f5f"
            },
            "marker": {
             "line": {
              "color": "#E5ECF6",
              "width": 0.5
             }
            },
            "type": "bar"
           }
          ],
          "barpolar": [
           {
            "marker": {
             "line": {
              "color": "#E5ECF6",
              "width": 0.5
             }
            },
            "type": "barpolar"
           }
          ],
          "carpet": [
           {
            "aaxis": {
             "endlinecolor": "#2a3f5f",
             "gridcolor": "white",
             "linecolor": "white",
             "minorgridcolor": "white",
             "startlinecolor": "#2a3f5f"
            },
            "baxis": {
             "endlinecolor": "#2a3f5f",
             "gridcolor": "white",
             "linecolor": "white",
             "minorgridcolor": "white",
             "startlinecolor": "#2a3f5f"
            },
            "type": "carpet"
           }
          ],
          "choropleth": [
           {
            "colorbar": {
             "outlinewidth": 0,
             "ticks": ""
            },
            "type": "choropleth"
           }
          ],
          "contour": [
           {
            "colorbar": {
             "outlinewidth": 0,
             "ticks": ""
            },
            "colorscale": [
             [
              0,
              "#0d0887"
             ],
             [
              0.1111111111111111,
              "#46039f"
             ],
             [
              0.2222222222222222,
              "#7201a8"
             ],
             [
              0.3333333333333333,
              "#9c179e"
             ],
             [
              0.4444444444444444,
              "#bd3786"
             ],
             [
              0.5555555555555556,
              "#d8576b"
             ],
             [
              0.6666666666666666,
              "#ed7953"
             ],
             [
              0.7777777777777778,
              "#fb9f3a"
             ],
             [
              0.8888888888888888,
              "#fdca26"
             ],
             [
              1,
              "#f0f921"
             ]
            ],
            "type": "contour"
           }
          ],
          "contourcarpet": [
           {
            "colorbar": {
             "outlinewidth": 0,
             "ticks": ""
            },
            "type": "contourcarpet"
           }
          ],
          "heatmap": [
           {
            "colorbar": {
             "outlinewidth": 0,
             "ticks": ""
            },
            "colorscale": [
             [
              0,
              "#0d0887"
             ],
             [
              0.1111111111111111,
              "#46039f"
             ],
             [
              0.2222222222222222,
              "#7201a8"
             ],
             [
              0.3333333333333333,
              "#9c179e"
             ],
             [
              0.4444444444444444,
              "#bd3786"
             ],
             [
              0.5555555555555556,
              "#d8576b"
             ],
             [
              0.6666666666666666,
              "#ed7953"
             ],
             [
              0.7777777777777778,
              "#fb9f3a"
             ],
             [
              0.8888888888888888,
              "#fdca26"
             ],
             [
              1,
              "#f0f921"
             ]
            ],
            "type": "heatmap"
           }
          ],
          "heatmapgl": [
           {
            "colorbar": {
             "outlinewidth": 0,
             "ticks": ""
            },
            "colorscale": [
             [
              0,
              "#0d0887"
             ],
             [
              0.1111111111111111,
              "#46039f"
             ],
             [
              0.2222222222222222,
              "#7201a8"
             ],
             [
              0.3333333333333333,
              "#9c179e"
             ],
             [
              0.4444444444444444,
              "#bd3786"
             ],
             [
              0.5555555555555556,
              "#d8576b"
             ],
             [
              0.6666666666666666,
              "#ed7953"
             ],
             [
              0.7777777777777778,
              "#fb9f3a"
             ],
             [
              0.8888888888888888,
              "#fdca26"
             ],
             [
              1,
              "#f0f921"
             ]
            ],
            "type": "heatmapgl"
           }
          ],
          "histogram": [
           {
            "marker": {
             "colorbar": {
              "outlinewidth": 0,
              "ticks": ""
             }
            },
            "type": "histogram"
           }
          ],
          "histogram2d": [
           {
            "colorbar": {
             "outlinewidth": 0,
             "ticks": ""
            },
            "colorscale": [
             [
              0,
              "#0d0887"
             ],
             [
              0.1111111111111111,
              "#46039f"
             ],
             [
              0.2222222222222222,
              "#7201a8"
             ],
             [
              0.3333333333333333,
              "#9c179e"
             ],
             [
              0.4444444444444444,
              "#bd3786"
             ],
             [
              0.5555555555555556,
              "#d8576b"
             ],
             [
              0.6666666666666666,
              "#ed7953"
             ],
             [
              0.7777777777777778,
              "#fb9f3a"
             ],
             [
              0.8888888888888888,
              "#fdca26"
             ],
             [
              1,
              "#f0f921"
             ]
            ],
            "type": "histogram2d"
           }
          ],
          "histogram2dcontour": [
           {
            "colorbar": {
             "outlinewidth": 0,
             "ticks": ""
            },
            "colorscale": [
             [
              0,
              "#0d0887"
             ],
             [
              0.1111111111111111,
              "#46039f"
             ],
             [
              0.2222222222222222,
              "#7201a8"
             ],
             [
              0.3333333333333333,
              "#9c179e"
             ],
             [
              0.4444444444444444,
              "#bd3786"
             ],
             [
              0.5555555555555556,
              "#d8576b"
             ],
             [
              0.6666666666666666,
              "#ed7953"
             ],
             [
              0.7777777777777778,
              "#fb9f3a"
             ],
             [
              0.8888888888888888,
              "#fdca26"
             ],
             [
              1,
              "#f0f921"
             ]
            ],
            "type": "histogram2dcontour"
           }
          ],
          "mesh3d": [
           {
            "colorbar": {
             "outlinewidth": 0,
             "ticks": ""
            },
            "type": "mesh3d"
           }
          ],
          "parcoords": [
           {
            "line": {
             "colorbar": {
              "outlinewidth": 0,
              "ticks": ""
             }
            },
            "type": "parcoords"
           }
          ],
          "scatter": [
           {
            "marker": {
             "colorbar": {
              "outlinewidth": 0,
              "ticks": ""
             }
            },
            "type": "scatter"
           }
          ],
          "scatter3d": [
           {
            "line": {
             "colorbar": {
              "outlinewidth": 0,
              "ticks": ""
             }
            },
            "marker": {
             "colorbar": {
              "outlinewidth": 0,
              "ticks": ""
             }
            },
            "type": "scatter3d"
           }
          ],
          "scattercarpet": [
           {
            "marker": {
             "colorbar": {
              "outlinewidth": 0,
              "ticks": ""
             }
            },
            "type": "scattercarpet"
           }
          ],
          "scattergeo": [
           {
            "marker": {
             "colorbar": {
              "outlinewidth": 0,
              "ticks": ""
             }
            },
            "type": "scattergeo"
           }
          ],
          "scattergl": [
           {
            "marker": {
             "colorbar": {
              "outlinewidth": 0,
              "ticks": ""
             }
            },
            "type": "scattergl"
           }
          ],
          "scattermapbox": [
           {
            "marker": {
             "colorbar": {
              "outlinewidth": 0,
              "ticks": ""
             }
            },
            "type": "scattermapbox"
           }
          ],
          "scatterpolar": [
           {
            "marker": {
             "colorbar": {
              "outlinewidth": 0,
              "ticks": ""
             }
            },
            "type": "scatterpolar"
           }
          ],
          "scatterpolargl": [
           {
            "marker": {
             "colorbar": {
              "outlinewidth": 0,
              "ticks": ""
             }
            },
            "type": "scatterpolargl"
           }
          ],
          "scatterternary": [
           {
            "marker": {
             "colorbar": {
              "outlinewidth": 0,
              "ticks": ""
             }
            },
            "type": "scatterternary"
           }
          ],
          "surface": [
           {
            "colorbar": {
             "outlinewidth": 0,
             "ticks": ""
            },
            "colorscale": [
             [
              0,
              "#0d0887"
             ],
             [
              0.1111111111111111,
              "#46039f"
             ],
             [
              0.2222222222222222,
              "#7201a8"
             ],
             [
              0.3333333333333333,
              "#9c179e"
             ],
             [
              0.4444444444444444,
              "#bd3786"
             ],
             [
              0.5555555555555556,
              "#d8576b"
             ],
             [
              0.6666666666666666,
              "#ed7953"
             ],
             [
              0.7777777777777778,
              "#fb9f3a"
             ],
             [
              0.8888888888888888,
              "#fdca26"
             ],
             [
              1,
              "#f0f921"
             ]
            ],
            "type": "surface"
           }
          ],
          "table": [
           {
            "cells": {
             "fill": {
              "color": "#EBF0F8"
             },
             "line": {
              "color": "white"
             }
            },
            "header": {
             "fill": {
              "color": "#C8D4E3"
             },
             "line": {
              "color": "white"
             }
            },
            "type": "table"
           }
          ]
         },
         "layout": {
          "annotationdefaults": {
           "arrowcolor": "#2a3f5f",
           "arrowhead": 0,
           "arrowwidth": 1
          },
          "colorscale": {
           "diverging": [
            [
             0,
             "#8e0152"
            ],
            [
             0.1,
             "#c51b7d"
            ],
            [
             0.2,
             "#de77ae"
            ],
            [
             0.3,
             "#f1b6da"
            ],
            [
             0.4,
             "#fde0ef"
            ],
            [
             0.5,
             "#f7f7f7"
            ],
            [
             0.6,
             "#e6f5d0"
            ],
            [
             0.7,
             "#b8e186"
            ],
            [
             0.8,
             "#7fbc41"
            ],
            [
             0.9,
             "#4d9221"
            ],
            [
             1,
             "#276419"
            ]
           ],
           "sequential": [
            [
             0,
             "#0d0887"
            ],
            [
             0.1111111111111111,
             "#46039f"
            ],
            [
             0.2222222222222222,
             "#7201a8"
            ],
            [
             0.3333333333333333,
             "#9c179e"
            ],
            [
             0.4444444444444444,
             "#bd3786"
            ],
            [
             0.5555555555555556,
             "#d8576b"
            ],
            [
             0.6666666666666666,
             "#ed7953"
            ],
            [
             0.7777777777777778,
             "#fb9f3a"
            ],
            [
             0.8888888888888888,
             "#fdca26"
            ],
            [
             1,
             "#f0f921"
            ]
           ],
           "sequentialminus": [
            [
             0,
             "#0d0887"
            ],
            [
             0.1111111111111111,
             "#46039f"
            ],
            [
             0.2222222222222222,
             "#7201a8"
            ],
            [
             0.3333333333333333,
             "#9c179e"
            ],
            [
             0.4444444444444444,
             "#bd3786"
            ],
            [
             0.5555555555555556,
             "#d8576b"
            ],
            [
             0.6666666666666666,
             "#ed7953"
            ],
            [
             0.7777777777777778,
             "#fb9f3a"
            ],
            [
             0.8888888888888888,
             "#fdca26"
            ],
            [
             1,
             "#f0f921"
            ]
           ]
          },
          "colorway": [
           "#636efa",
           "#EF553B",
           "#00cc96",
           "#ab63fa",
           "#FFA15A",
           "#19d3f3",
           "#FF6692",
           "#B6E880",
           "#FF97FF",
           "#FECB52"
          ],
          "font": {
           "color": "#2a3f5f"
          },
          "geo": {
           "bgcolor": "white",
           "lakecolor": "white",
           "landcolor": "#E5ECF6",
           "showlakes": true,
           "showland": true,
           "subunitcolor": "white"
          },
          "hoverlabel": {
           "align": "left"
          },
          "hovermode": "closest",
          "mapbox": {
           "style": "light"
          },
          "paper_bgcolor": "white",
          "plot_bgcolor": "#E5ECF6",
          "polar": {
           "angularaxis": {
            "gridcolor": "white",
            "linecolor": "white",
            "ticks": ""
           },
           "bgcolor": "#E5ECF6",
           "radialaxis": {
            "gridcolor": "white",
            "linecolor": "white",
            "ticks": ""
           }
          },
          "scene": {
           "xaxis": {
            "backgroundcolor": "#E5ECF6",
            "gridcolor": "white",
            "gridwidth": 2,
            "linecolor": "white",
            "showbackground": true,
            "ticks": "",
            "zerolinecolor": "white"
           },
           "yaxis": {
            "backgroundcolor": "#E5ECF6",
            "gridcolor": "white",
            "gridwidth": 2,
            "linecolor": "white",
            "showbackground": true,
            "ticks": "",
            "zerolinecolor": "white"
           },
           "zaxis": {
            "backgroundcolor": "#E5ECF6",
            "gridcolor": "white",
            "gridwidth": 2,
            "linecolor": "white",
            "showbackground": true,
            "ticks": "",
            "zerolinecolor": "white"
           }
          },
          "shapedefaults": {
           "line": {
            "color": "#2a3f5f"
           }
          },
          "ternary": {
           "aaxis": {
            "gridcolor": "white",
            "linecolor": "white",
            "ticks": ""
           },
           "baxis": {
            "gridcolor": "white",
            "linecolor": "white",
            "ticks": ""
           },
           "bgcolor": "#E5ECF6",
           "caxis": {
            "gridcolor": "white",
            "linecolor": "white",
            "ticks": ""
           }
          },
          "title": {
           "x": 0.05
          },
          "xaxis": {
           "automargin": true,
           "gridcolor": "white",
           "linecolor": "white",
           "ticks": "",
           "zerolinecolor": "white",
           "zerolinewidth": 2
          },
          "yaxis": {
           "automargin": true,
           "gridcolor": "white",
           "linecolor": "white",
           "ticks": "",
           "zerolinecolor": "white",
           "zerolinewidth": 2
          }
         }
        },
        "xaxis": {
         "title": {
          "text": "Living in square feet"
         }
        },
        "yaxis": {
         "title": {
          "text": "Prize"
         }
        }
       }
      },
      "text/html": [
       "<div>\n",
       "        \n",
       "        \n",
       "            <div id=\"a0d1c1a8-9898-4a6c-b7a4-87bd88b9ce36\" class=\"plotly-graph-div\" style=\"height:525px; width:100%;\"></div>\n",
       "            <script type=\"text/javascript\">\n",
       "                require([\"plotly\"], function(Plotly) {\n",
       "                    window.PLOTLYENV=window.PLOTLYENV || {};\n",
       "                    \n",
       "                if (document.getElementById(\"a0d1c1a8-9898-4a6c-b7a4-87bd88b9ce36\")) {\n",
       "                    Plotly.newPlot(\n",
       "                        'a0d1c1a8-9898-4a6c-b7a4-87bd88b9ce36',\n",
       "                        [{\"line\": {\"color\": \"blue\"}, \"mode\": \"markers\", \"name\": \"data\", \"type\": \"scatter\", \"x\": [8, 8, 6, 11, 8, 7, 7, 9, 8, 8, 10, 10, 5, 6, 8, 7, 9, 6, 7, 8, 8, 7, 7, 9, 9, 11, 6, 6, 8, 6, 7, 8, 6, 9, 7, 7, 9, 10, 6, 7, 7, 7, 7, 9, 5, 8, 6, 8, 9, 8, 10, 8, 8, 9, 7, 8, 6, 6, 9, 7, 8, 6, 7, 7, 7, 7, 6, 8, 7, 6, 8, 7, 8, 7, 10, 8, 7, 8, 6, 7, 7, 10, 12, 7, 6, 9, 7, 8, 6, 7, 9, 7, 7, 7, 7, 7, 9, 7, 7, 8, 7, 9, 8, 7, 10, 5, 8, 7, 7, 7, 7, 8, 8, 8, 7, 7, 8, 8, 6, 7, 7, 11, 9, 9, 8, 7, 7, 8, 9, 8, 8, 9, 7, 7, 8, 7, 8, 7, 7, 8, 8, 6, 8, 7, 7, 7, 7, 6, 8, 6, 10], \"y\": [-69422.88558609085, -111422.88558609085, -89799.5614694336, 765142.1282389231, 98577.11441390915, 86388.77647223789, -253611.2235277621, 189765.4523555804, -281432.88558609085, -302422.88558609085, -447046.2097027481, 472953.7902972519, 145429.10058889515, 204200.4385305664, 1577.1144139091484, -179611.2235277621, 507765.4523555804, 36813.438530566404, -188611.2235277621, -9422.885586090852, 113577.11441390915, -138611.2235277621, 38388.77647223789, -111234.5476444196, -64234.547644419596, -121857.87176107685, -35899.561469433596, 88209.4385305664, -36422.88558609085, 24200.438530566404, -176611.2235277621, -51422.88558609085, 63200.438530566404, 33265.452355580404, -17511.223527762108, -98611.22352776211, 125765.4523555804, -267046.2097027481, 231100.4385305664, -178611.2235277621, -43611.22352776211, -81611.22352776211, -108611.22352776211, -4234.547644419596, 212012.10058889515, 217577.11441390915, -65799.5614694336, -271422.88558609085, -83234.5476444196, -6422.885586090852, -114046.2097027481, 88527.11441390915, 53577.11441390915, -104234.5476444196, -83611.22352776211, 26577.11441390915, 19200.438530566404, -48599.561469433596, 502765.4523555804, -148611.2235277621, -246422.88558609085, 64200.438530566404, -107611.22352776211, -108611.22352776211, -219111.2235277621, -116611.22352776211, 64200.438530566404, -92922.88558609085, 85388.77647223789, -22799.561469433596, -51422.88558609085, -160611.2235277621, -16422.88558609085, -36611.22352776211, 912953.7902972519, -80422.88558609085, 71388.77647223789, -116422.88558609085, 129200.4385305664, -28611.223527762108, -66111.22352776211, 772953.7902972519, 147330.4661805944, -178611.2235277621, 279200.4385305664, 5765.452355580404, 106388.77647223789, -171422.88558609085, 164200.4385305664, 256388.7764722379, 61765.452355580404, -98611.22352776211, 251388.7764722379, -112611.22352776211, 26388.776472237892, -198611.2235277621, -236234.5476444196, 3388.7764722378924, 111388.77647223789, -226922.88558609085, -63611.22352776211, -99234.5476444196, -281422.88558609085, -18611.223527762108, -181919.2097027481, 235012.10058889515, 373577.11441390915, 74888.77647223789, -153611.2235277621, -123611.22352776211, 246388.7764722379, 18577.11441390915, 63577.11441390915, -21472.88558609085, -101611.22352776211, 71388.77647223789, -26422.88558609085, -261422.88558609085, 104200.4385305664, 12888.776472237892, 18888.776472237892, -229857.87176107685, -99234.5476444196, -13234.547644419596, -51422.88558609085, 136388.7764722379, -88611.22352776211, -126422.88558609085, -385734.5476444196, 223577.11441390915, 253577.11441390915, -438234.5476444196, 38888.77647223789, -10611.223527762108, 348327.11441390915, -158611.2235277621, -161422.88558609085, -189611.2235277621, 356388.7764722379, -26422.88558609085, -136522.88558609085, 202200.4385305664, 39077.11441390915, 56388.77647223789, 105388.77647223789, -53611.22352776211, 221388.7764722379, -85799.5614694336, 8427.114413909148, 104200.4385305664, -497046.2097027481]}],\n",
       "                        {\"template\": {\"data\": {\"bar\": [{\"error_x\": {\"color\": \"#2a3f5f\"}, \"error_y\": {\"color\": \"#2a3f5f\"}, \"marker\": {\"line\": {\"color\": \"#E5ECF6\", \"width\": 0.5}}, \"type\": \"bar\"}], \"barpolar\": [{\"marker\": {\"line\": {\"color\": \"#E5ECF6\", \"width\": 0.5}}, \"type\": \"barpolar\"}], \"carpet\": [{\"aaxis\": {\"endlinecolor\": \"#2a3f5f\", \"gridcolor\": \"white\", \"linecolor\": \"white\", \"minorgridcolor\": \"white\", \"startlinecolor\": \"#2a3f5f\"}, \"baxis\": {\"endlinecolor\": \"#2a3f5f\", \"gridcolor\": \"white\", \"linecolor\": \"white\", \"minorgridcolor\": \"white\", \"startlinecolor\": \"#2a3f5f\"}, \"type\": \"carpet\"}], \"choropleth\": [{\"colorbar\": {\"outlinewidth\": 0, \"ticks\": \"\"}, \"type\": \"choropleth\"}], \"contour\": [{\"colorbar\": {\"outlinewidth\": 0, \"ticks\": \"\"}, \"colorscale\": [[0.0, \"#0d0887\"], [0.1111111111111111, \"#46039f\"], [0.2222222222222222, \"#7201a8\"], [0.3333333333333333, \"#9c179e\"], [0.4444444444444444, \"#bd3786\"], [0.5555555555555556, \"#d8576b\"], [0.6666666666666666, \"#ed7953\"], [0.7777777777777778, \"#fb9f3a\"], [0.8888888888888888, \"#fdca26\"], [1.0, \"#f0f921\"]], \"type\": \"contour\"}], \"contourcarpet\": [{\"colorbar\": {\"outlinewidth\": 0, \"ticks\": \"\"}, \"type\": \"contourcarpet\"}], \"heatmap\": [{\"colorbar\": {\"outlinewidth\": 0, \"ticks\": \"\"}, \"colorscale\": [[0.0, \"#0d0887\"], [0.1111111111111111, \"#46039f\"], [0.2222222222222222, \"#7201a8\"], [0.3333333333333333, \"#9c179e\"], [0.4444444444444444, \"#bd3786\"], [0.5555555555555556, \"#d8576b\"], [0.6666666666666666, \"#ed7953\"], [0.7777777777777778, \"#fb9f3a\"], [0.8888888888888888, \"#fdca26\"], [1.0, \"#f0f921\"]], \"type\": \"heatmap\"}], \"heatmapgl\": [{\"colorbar\": {\"outlinewidth\": 0, \"ticks\": \"\"}, \"colorscale\": [[0.0, \"#0d0887\"], [0.1111111111111111, \"#46039f\"], [0.2222222222222222, \"#7201a8\"], [0.3333333333333333, \"#9c179e\"], [0.4444444444444444, \"#bd3786\"], [0.5555555555555556, \"#d8576b\"], [0.6666666666666666, \"#ed7953\"], [0.7777777777777778, \"#fb9f3a\"], [0.8888888888888888, \"#fdca26\"], [1.0, \"#f0f921\"]], \"type\": \"heatmapgl\"}], \"histogram\": [{\"marker\": {\"colorbar\": {\"outlinewidth\": 0, \"ticks\": \"\"}}, \"type\": \"histogram\"}], \"histogram2d\": [{\"colorbar\": {\"outlinewidth\": 0, \"ticks\": \"\"}, \"colorscale\": [[0.0, \"#0d0887\"], [0.1111111111111111, \"#46039f\"], [0.2222222222222222, \"#7201a8\"], [0.3333333333333333, \"#9c179e\"], [0.4444444444444444, \"#bd3786\"], [0.5555555555555556, \"#d8576b\"], [0.6666666666666666, \"#ed7953\"], [0.7777777777777778, \"#fb9f3a\"], [0.8888888888888888, \"#fdca26\"], [1.0, \"#f0f921\"]], \"type\": \"histogram2d\"}], \"histogram2dcontour\": [{\"colorbar\": {\"outlinewidth\": 0, \"ticks\": \"\"}, \"colorscale\": [[0.0, \"#0d0887\"], [0.1111111111111111, \"#46039f\"], [0.2222222222222222, \"#7201a8\"], [0.3333333333333333, \"#9c179e\"], [0.4444444444444444, \"#bd3786\"], [0.5555555555555556, \"#d8576b\"], [0.6666666666666666, \"#ed7953\"], [0.7777777777777778, \"#fb9f3a\"], [0.8888888888888888, \"#fdca26\"], [1.0, \"#f0f921\"]], \"type\": \"histogram2dcontour\"}], \"mesh3d\": [{\"colorbar\": {\"outlinewidth\": 0, \"ticks\": \"\"}, \"type\": \"mesh3d\"}], \"parcoords\": [{\"line\": {\"colorbar\": {\"outlinewidth\": 0, \"ticks\": \"\"}}, \"type\": \"parcoords\"}], \"scatter\": [{\"marker\": {\"colorbar\": {\"outlinewidth\": 0, \"ticks\": \"\"}}, \"type\": \"scatter\"}], \"scatter3d\": [{\"line\": {\"colorbar\": {\"outlinewidth\": 0, \"ticks\": \"\"}}, \"marker\": {\"colorbar\": {\"outlinewidth\": 0, \"ticks\": \"\"}}, \"type\": \"scatter3d\"}], \"scattercarpet\": [{\"marker\": {\"colorbar\": {\"outlinewidth\": 0, \"ticks\": \"\"}}, \"type\": \"scattercarpet\"}], \"scattergeo\": [{\"marker\": {\"colorbar\": {\"outlinewidth\": 0, \"ticks\": \"\"}}, \"type\": \"scattergeo\"}], \"scattergl\": [{\"marker\": {\"colorbar\": {\"outlinewidth\": 0, \"ticks\": \"\"}}, \"type\": \"scattergl\"}], \"scattermapbox\": [{\"marker\": {\"colorbar\": {\"outlinewidth\": 0, \"ticks\": \"\"}}, \"type\": \"scattermapbox\"}], \"scatterpolar\": [{\"marker\": {\"colorbar\": {\"outlinewidth\": 0, \"ticks\": \"\"}}, \"type\": \"scatterpolar\"}], \"scatterpolargl\": [{\"marker\": {\"colorbar\": {\"outlinewidth\": 0, \"ticks\": \"\"}}, \"type\": \"scatterpolargl\"}], \"scatterternary\": [{\"marker\": {\"colorbar\": {\"outlinewidth\": 0, \"ticks\": \"\"}}, \"type\": \"scatterternary\"}], \"surface\": [{\"colorbar\": {\"outlinewidth\": 0, \"ticks\": \"\"}, \"colorscale\": [[0.0, \"#0d0887\"], [0.1111111111111111, \"#46039f\"], [0.2222222222222222, \"#7201a8\"], [0.3333333333333333, \"#9c179e\"], [0.4444444444444444, \"#bd3786\"], [0.5555555555555556, \"#d8576b\"], [0.6666666666666666, \"#ed7953\"], [0.7777777777777778, \"#fb9f3a\"], [0.8888888888888888, \"#fdca26\"], [1.0, \"#f0f921\"]], \"type\": \"surface\"}], \"table\": [{\"cells\": {\"fill\": {\"color\": \"#EBF0F8\"}, \"line\": {\"color\": \"white\"}}, \"header\": {\"fill\": {\"color\": \"#C8D4E3\"}, \"line\": {\"color\": \"white\"}}, \"type\": \"table\"}]}, \"layout\": {\"annotationdefaults\": {\"arrowcolor\": \"#2a3f5f\", \"arrowhead\": 0, \"arrowwidth\": 1}, \"colorscale\": {\"diverging\": [[0, \"#8e0152\"], [0.1, \"#c51b7d\"], [0.2, \"#de77ae\"], [0.3, \"#f1b6da\"], [0.4, \"#fde0ef\"], [0.5, \"#f7f7f7\"], [0.6, \"#e6f5d0\"], [0.7, \"#b8e186\"], [0.8, \"#7fbc41\"], [0.9, \"#4d9221\"], [1, \"#276419\"]], \"sequential\": [[0.0, \"#0d0887\"], [0.1111111111111111, \"#46039f\"], [0.2222222222222222, \"#7201a8\"], [0.3333333333333333, \"#9c179e\"], [0.4444444444444444, \"#bd3786\"], [0.5555555555555556, \"#d8576b\"], [0.6666666666666666, \"#ed7953\"], [0.7777777777777778, \"#fb9f3a\"], [0.8888888888888888, \"#fdca26\"], [1.0, \"#f0f921\"]], \"sequentialminus\": [[0.0, \"#0d0887\"], [0.1111111111111111, \"#46039f\"], [0.2222222222222222, \"#7201a8\"], [0.3333333333333333, \"#9c179e\"], [0.4444444444444444, \"#bd3786\"], [0.5555555555555556, \"#d8576b\"], [0.6666666666666666, \"#ed7953\"], [0.7777777777777778, \"#fb9f3a\"], [0.8888888888888888, \"#fdca26\"], [1.0, \"#f0f921\"]]}, \"colorway\": [\"#636efa\", \"#EF553B\", \"#00cc96\", \"#ab63fa\", \"#FFA15A\", \"#19d3f3\", \"#FF6692\", \"#B6E880\", \"#FF97FF\", \"#FECB52\"], \"font\": {\"color\": \"#2a3f5f\"}, \"geo\": {\"bgcolor\": \"white\", \"lakecolor\": \"white\", \"landcolor\": \"#E5ECF6\", \"showlakes\": true, \"showland\": true, \"subunitcolor\": \"white\"}, \"hoverlabel\": {\"align\": \"left\"}, \"hovermode\": \"closest\", \"mapbox\": {\"style\": \"light\"}, \"paper_bgcolor\": \"white\", \"plot_bgcolor\": \"#E5ECF6\", \"polar\": {\"angularaxis\": {\"gridcolor\": \"white\", \"linecolor\": \"white\", \"ticks\": \"\"}, \"bgcolor\": \"#E5ECF6\", \"radialaxis\": {\"gridcolor\": \"white\", \"linecolor\": \"white\", \"ticks\": \"\"}}, \"scene\": {\"xaxis\": {\"backgroundcolor\": \"#E5ECF6\", \"gridcolor\": \"white\", \"gridwidth\": 2, \"linecolor\": \"white\", \"showbackground\": true, \"ticks\": \"\", \"zerolinecolor\": \"white\"}, \"yaxis\": {\"backgroundcolor\": \"#E5ECF6\", \"gridcolor\": \"white\", \"gridwidth\": 2, \"linecolor\": \"white\", \"showbackground\": true, \"ticks\": \"\", \"zerolinecolor\": \"white\"}, \"zaxis\": {\"backgroundcolor\": \"#E5ECF6\", \"gridcolor\": \"white\", \"gridwidth\": 2, \"linecolor\": \"white\", \"showbackground\": true, \"ticks\": \"\", \"zerolinecolor\": \"white\"}}, \"shapedefaults\": {\"line\": {\"color\": \"#2a3f5f\"}}, \"ternary\": {\"aaxis\": {\"gridcolor\": \"white\", \"linecolor\": \"white\", \"ticks\": \"\"}, \"baxis\": {\"gridcolor\": \"white\", \"linecolor\": \"white\", \"ticks\": \"\"}, \"bgcolor\": \"#E5ECF6\", \"caxis\": {\"gridcolor\": \"white\", \"linecolor\": \"white\", \"ticks\": \"\"}}, \"title\": {\"x\": 0.05}, \"xaxis\": {\"automargin\": true, \"gridcolor\": \"white\", \"linecolor\": \"white\", \"ticks\": \"\", \"zerolinecolor\": \"white\", \"zerolinewidth\": 2}, \"yaxis\": {\"automargin\": true, \"gridcolor\": \"white\", \"linecolor\": \"white\", \"ticks\": \"\", \"zerolinecolor\": \"white\", \"zerolinewidth\": 2}}}, \"xaxis\": {\"title\": {\"text\": \"Living in square feet\"}}, \"yaxis\": {\"title\": {\"text\": \"Prize\"}}},\n",
       "                        {\"responsive\": true}\n",
       "                    ).then(function(){\n",
       "                            \n",
       "var gd = document.getElementById('a0d1c1a8-9898-4a6c-b7a4-87bd88b9ce36');\n",
       "var x = new MutationObserver(function (mutations, observer) {{\n",
       "        var display = window.getComputedStyle(gd).display;\n",
       "        if (!display || display === 'none') {{\n",
       "            console.log([gd, 'removed!']);\n",
       "            Plotly.purge(gd);\n",
       "            observer.disconnect();\n",
       "        }}\n",
       "}});\n",
       "\n",
       "// Listen for the removal of the full notebook cells\n",
       "var notebookContainer = gd.closest('#notebook-container');\n",
       "if (notebookContainer) {{\n",
       "    x.observe(notebookContainer, {childList: true});\n",
       "}}\n",
       "\n",
       "// Listen for the clearing of the current output cell\n",
       "var outputEl = gd.closest('.output');\n",
       "if (outputEl) {{\n",
       "    x.observe(outputEl, {childList: true});\n",
       "}}\n",
       "\n",
       "                        })\n",
       "                };\n",
       "                });\n",
       "            </script>\n",
       "        </div>"
      ]
     },
     "metadata": {},
     "output_type": "display_data"
    },
    {
     "data": {
      "application/vnd.plotly.v1+json": {
       "config": {
        "linkText": "Export to plot.ly",
        "plotlyServerURL": "https://plot.ly",
        "showLink": false
       },
       "data": [
        {
         "line": {
          "color": "red"
         },
         "mode": "markers",
         "name": "data",
         "type": "scatter",
         "x": [
          7,
          7,
          9,
          8,
          11,
          5,
          8,
          8,
          6,
          9,
          7,
          7,
          7,
          7,
          9,
          7,
          8,
          7,
          9,
          7,
          6,
          9,
          11,
          8,
          10,
          8,
          7,
          7,
          5,
          8,
          10,
          11,
          7,
          10,
          8,
          8,
          11,
          8,
          6,
          9,
          7,
          7,
          6,
          9,
          8,
          7,
          7,
          7,
          8,
          7,
          9,
          7,
          8,
          9,
          7,
          7,
          8,
          9,
          7,
          8,
          7,
          7,
          7,
          8,
          6
         ],
         "y": [
          -108611.22352776211,
          11388.776472237892,
          480765.4523555804,
          -147422.88558609085,
          -89857.87176107685,
          172879.10058889515,
          -138622.88558609085,
          238577.11441390915,
          74200.4385305664,
          -221734.5476444196,
          -115611.22352776211,
          -3611.2235277621076,
          -193611.2235277621,
          176388.7764722379,
          430765.4523555804,
          -108611.22352776211,
          -376472.88558609085,
          -73611.22352776211,
          -219234.5476444196,
          -128611.22352776211,
          -70849.5614694336,
          -194234.5476444196,
          68142.12823892315,
          -62422.88558609085,
          182953.7902972519,
          -221422.88558609085,
          -57611.22352776211,
          371388.7764722379,
          190212.10058889515,
          -274422.88558609085,
          -233346.2097027481,
          -284857.87176107685,
          287388.7764722379,
          -11046.209702748107,
          -275922.88558609085,
          -268922.88558609085,
          -162857.87176107685,
          6527.114413909148,
          27200.438530566404,
          35765.452355580404,
          -141960.2235277621,
          151388.7764722379,
          139395.4385305664,
          455765.4523555804,
          533577.1144139091,
          111388.77647223789,
          -119611.22352776211,
          -168611.2235277621,
          -256422.88558609085,
          -97611.22352776211,
          1455765.4523555804,
          -122611.22352776211,
          42577.11441390915,
          -176234.5476444196,
          122388.77647223789,
          321388.7764722379,
          -137422.88558609085,
          129755.4523555804,
          -167611.2235277621,
          -211422.88558609085,
          36388.77647223789,
          -217611.2235277621,
          -32611.223527762108,
          -266422.88558609085,
          14200.438530566404
         ]
        }
       ],
       "layout": {
        "template": {
         "data": {
          "bar": [
           {
            "error_x": {
             "color": "#2a3f5f"
            },
            "error_y": {
             "color": "#2a3f5f"
            },
            "marker": {
             "line": {
              "color": "#E5ECF6",
              "width": 0.5
             }
            },
            "type": "bar"
           }
          ],
          "barpolar": [
           {
            "marker": {
             "line": {
              "color": "#E5ECF6",
              "width": 0.5
             }
            },
            "type": "barpolar"
           }
          ],
          "carpet": [
           {
            "aaxis": {
             "endlinecolor": "#2a3f5f",
             "gridcolor": "white",
             "linecolor": "white",
             "minorgridcolor": "white",
             "startlinecolor": "#2a3f5f"
            },
            "baxis": {
             "endlinecolor": "#2a3f5f",
             "gridcolor": "white",
             "linecolor": "white",
             "minorgridcolor": "white",
             "startlinecolor": "#2a3f5f"
            },
            "type": "carpet"
           }
          ],
          "choropleth": [
           {
            "colorbar": {
             "outlinewidth": 0,
             "ticks": ""
            },
            "type": "choropleth"
           }
          ],
          "contour": [
           {
            "colorbar": {
             "outlinewidth": 0,
             "ticks": ""
            },
            "colorscale": [
             [
              0,
              "#0d0887"
             ],
             [
              0.1111111111111111,
              "#46039f"
             ],
             [
              0.2222222222222222,
              "#7201a8"
             ],
             [
              0.3333333333333333,
              "#9c179e"
             ],
             [
              0.4444444444444444,
              "#bd3786"
             ],
             [
              0.5555555555555556,
              "#d8576b"
             ],
             [
              0.6666666666666666,
              "#ed7953"
             ],
             [
              0.7777777777777778,
              "#fb9f3a"
             ],
             [
              0.8888888888888888,
              "#fdca26"
             ],
             [
              1,
              "#f0f921"
             ]
            ],
            "type": "contour"
           }
          ],
          "contourcarpet": [
           {
            "colorbar": {
             "outlinewidth": 0,
             "ticks": ""
            },
            "type": "contourcarpet"
           }
          ],
          "heatmap": [
           {
            "colorbar": {
             "outlinewidth": 0,
             "ticks": ""
            },
            "colorscale": [
             [
              0,
              "#0d0887"
             ],
             [
              0.1111111111111111,
              "#46039f"
             ],
             [
              0.2222222222222222,
              "#7201a8"
             ],
             [
              0.3333333333333333,
              "#9c179e"
             ],
             [
              0.4444444444444444,
              "#bd3786"
             ],
             [
              0.5555555555555556,
              "#d8576b"
             ],
             [
              0.6666666666666666,
              "#ed7953"
             ],
             [
              0.7777777777777778,
              "#fb9f3a"
             ],
             [
              0.8888888888888888,
              "#fdca26"
             ],
             [
              1,
              "#f0f921"
             ]
            ],
            "type": "heatmap"
           }
          ],
          "heatmapgl": [
           {
            "colorbar": {
             "outlinewidth": 0,
             "ticks": ""
            },
            "colorscale": [
             [
              0,
              "#0d0887"
             ],
             [
              0.1111111111111111,
              "#46039f"
             ],
             [
              0.2222222222222222,
              "#7201a8"
             ],
             [
              0.3333333333333333,
              "#9c179e"
             ],
             [
              0.4444444444444444,
              "#bd3786"
             ],
             [
              0.5555555555555556,
              "#d8576b"
             ],
             [
              0.6666666666666666,
              "#ed7953"
             ],
             [
              0.7777777777777778,
              "#fb9f3a"
             ],
             [
              0.8888888888888888,
              "#fdca26"
             ],
             [
              1,
              "#f0f921"
             ]
            ],
            "type": "heatmapgl"
           }
          ],
          "histogram": [
           {
            "marker": {
             "colorbar": {
              "outlinewidth": 0,
              "ticks": ""
             }
            },
            "type": "histogram"
           }
          ],
          "histogram2d": [
           {
            "colorbar": {
             "outlinewidth": 0,
             "ticks": ""
            },
            "colorscale": [
             [
              0,
              "#0d0887"
             ],
             [
              0.1111111111111111,
              "#46039f"
             ],
             [
              0.2222222222222222,
              "#7201a8"
             ],
             [
              0.3333333333333333,
              "#9c179e"
             ],
             [
              0.4444444444444444,
              "#bd3786"
             ],
             [
              0.5555555555555556,
              "#d8576b"
             ],
             [
              0.6666666666666666,
              "#ed7953"
             ],
             [
              0.7777777777777778,
              "#fb9f3a"
             ],
             [
              0.8888888888888888,
              "#fdca26"
             ],
             [
              1,
              "#f0f921"
             ]
            ],
            "type": "histogram2d"
           }
          ],
          "histogram2dcontour": [
           {
            "colorbar": {
             "outlinewidth": 0,
             "ticks": ""
            },
            "colorscale": [
             [
              0,
              "#0d0887"
             ],
             [
              0.1111111111111111,
              "#46039f"
             ],
             [
              0.2222222222222222,
              "#7201a8"
             ],
             [
              0.3333333333333333,
              "#9c179e"
             ],
             [
              0.4444444444444444,
              "#bd3786"
             ],
             [
              0.5555555555555556,
              "#d8576b"
             ],
             [
              0.6666666666666666,
              "#ed7953"
             ],
             [
              0.7777777777777778,
              "#fb9f3a"
             ],
             [
              0.8888888888888888,
              "#fdca26"
             ],
             [
              1,
              "#f0f921"
             ]
            ],
            "type": "histogram2dcontour"
           }
          ],
          "mesh3d": [
           {
            "colorbar": {
             "outlinewidth": 0,
             "ticks": ""
            },
            "type": "mesh3d"
           }
          ],
          "parcoords": [
           {
            "line": {
             "colorbar": {
              "outlinewidth": 0,
              "ticks": ""
             }
            },
            "type": "parcoords"
           }
          ],
          "scatter": [
           {
            "marker": {
             "colorbar": {
              "outlinewidth": 0,
              "ticks": ""
             }
            },
            "type": "scatter"
           }
          ],
          "scatter3d": [
           {
            "line": {
             "colorbar": {
              "outlinewidth": 0,
              "ticks": ""
             }
            },
            "marker": {
             "colorbar": {
              "outlinewidth": 0,
              "ticks": ""
             }
            },
            "type": "scatter3d"
           }
          ],
          "scattercarpet": [
           {
            "marker": {
             "colorbar": {
              "outlinewidth": 0,
              "ticks": ""
             }
            },
            "type": "scattercarpet"
           }
          ],
          "scattergeo": [
           {
            "marker": {
             "colorbar": {
              "outlinewidth": 0,
              "ticks": ""
             }
            },
            "type": "scattergeo"
           }
          ],
          "scattergl": [
           {
            "marker": {
             "colorbar": {
              "outlinewidth": 0,
              "ticks": ""
             }
            },
            "type": "scattergl"
           }
          ],
          "scattermapbox": [
           {
            "marker": {
             "colorbar": {
              "outlinewidth": 0,
              "ticks": ""
             }
            },
            "type": "scattermapbox"
           }
          ],
          "scatterpolar": [
           {
            "marker": {
             "colorbar": {
              "outlinewidth": 0,
              "ticks": ""
             }
            },
            "type": "scatterpolar"
           }
          ],
          "scatterpolargl": [
           {
            "marker": {
             "colorbar": {
              "outlinewidth": 0,
              "ticks": ""
             }
            },
            "type": "scatterpolargl"
           }
          ],
          "scatterternary": [
           {
            "marker": {
             "colorbar": {
              "outlinewidth": 0,
              "ticks": ""
             }
            },
            "type": "scatterternary"
           }
          ],
          "surface": [
           {
            "colorbar": {
             "outlinewidth": 0,
             "ticks": ""
            },
            "colorscale": [
             [
              0,
              "#0d0887"
             ],
             [
              0.1111111111111111,
              "#46039f"
             ],
             [
              0.2222222222222222,
              "#7201a8"
             ],
             [
              0.3333333333333333,
              "#9c179e"
             ],
             [
              0.4444444444444444,
              "#bd3786"
             ],
             [
              0.5555555555555556,
              "#d8576b"
             ],
             [
              0.6666666666666666,
              "#ed7953"
             ],
             [
              0.7777777777777778,
              "#fb9f3a"
             ],
             [
              0.8888888888888888,
              "#fdca26"
             ],
             [
              1,
              "#f0f921"
             ]
            ],
            "type": "surface"
           }
          ],
          "table": [
           {
            "cells": {
             "fill": {
              "color": "#EBF0F8"
             },
             "line": {
              "color": "white"
             }
            },
            "header": {
             "fill": {
              "color": "#C8D4E3"
             },
             "line": {
              "color": "white"
             }
            },
            "type": "table"
           }
          ]
         },
         "layout": {
          "annotationdefaults": {
           "arrowcolor": "#2a3f5f",
           "arrowhead": 0,
           "arrowwidth": 1
          },
          "colorscale": {
           "diverging": [
            [
             0,
             "#8e0152"
            ],
            [
             0.1,
             "#c51b7d"
            ],
            [
             0.2,
             "#de77ae"
            ],
            [
             0.3,
             "#f1b6da"
            ],
            [
             0.4,
             "#fde0ef"
            ],
            [
             0.5,
             "#f7f7f7"
            ],
            [
             0.6,
             "#e6f5d0"
            ],
            [
             0.7,
             "#b8e186"
            ],
            [
             0.8,
             "#7fbc41"
            ],
            [
             0.9,
             "#4d9221"
            ],
            [
             1,
             "#276419"
            ]
           ],
           "sequential": [
            [
             0,
             "#0d0887"
            ],
            [
             0.1111111111111111,
             "#46039f"
            ],
            [
             0.2222222222222222,
             "#7201a8"
            ],
            [
             0.3333333333333333,
             "#9c179e"
            ],
            [
             0.4444444444444444,
             "#bd3786"
            ],
            [
             0.5555555555555556,
             "#d8576b"
            ],
            [
             0.6666666666666666,
             "#ed7953"
            ],
            [
             0.7777777777777778,
             "#fb9f3a"
            ],
            [
             0.8888888888888888,
             "#fdca26"
            ],
            [
             1,
             "#f0f921"
            ]
           ],
           "sequentialminus": [
            [
             0,
             "#0d0887"
            ],
            [
             0.1111111111111111,
             "#46039f"
            ],
            [
             0.2222222222222222,
             "#7201a8"
            ],
            [
             0.3333333333333333,
             "#9c179e"
            ],
            [
             0.4444444444444444,
             "#bd3786"
            ],
            [
             0.5555555555555556,
             "#d8576b"
            ],
            [
             0.6666666666666666,
             "#ed7953"
            ],
            [
             0.7777777777777778,
             "#fb9f3a"
            ],
            [
             0.8888888888888888,
             "#fdca26"
            ],
            [
             1,
             "#f0f921"
            ]
           ]
          },
          "colorway": [
           "#636efa",
           "#EF553B",
           "#00cc96",
           "#ab63fa",
           "#FFA15A",
           "#19d3f3",
           "#FF6692",
           "#B6E880",
           "#FF97FF",
           "#FECB52"
          ],
          "font": {
           "color": "#2a3f5f"
          },
          "geo": {
           "bgcolor": "white",
           "lakecolor": "white",
           "landcolor": "#E5ECF6",
           "showlakes": true,
           "showland": true,
           "subunitcolor": "white"
          },
          "hoverlabel": {
           "align": "left"
          },
          "hovermode": "closest",
          "mapbox": {
           "style": "light"
          },
          "paper_bgcolor": "white",
          "plot_bgcolor": "#E5ECF6",
          "polar": {
           "angularaxis": {
            "gridcolor": "white",
            "linecolor": "white",
            "ticks": ""
           },
           "bgcolor": "#E5ECF6",
           "radialaxis": {
            "gridcolor": "white",
            "linecolor": "white",
            "ticks": ""
           }
          },
          "scene": {
           "xaxis": {
            "backgroundcolor": "#E5ECF6",
            "gridcolor": "white",
            "gridwidth": 2,
            "linecolor": "white",
            "showbackground": true,
            "ticks": "",
            "zerolinecolor": "white"
           },
           "yaxis": {
            "backgroundcolor": "#E5ECF6",
            "gridcolor": "white",
            "gridwidth": 2,
            "linecolor": "white",
            "showbackground": true,
            "ticks": "",
            "zerolinecolor": "white"
           },
           "zaxis": {
            "backgroundcolor": "#E5ECF6",
            "gridcolor": "white",
            "gridwidth": 2,
            "linecolor": "white",
            "showbackground": true,
            "ticks": "",
            "zerolinecolor": "white"
           }
          },
          "shapedefaults": {
           "line": {
            "color": "#2a3f5f"
           }
          },
          "ternary": {
           "aaxis": {
            "gridcolor": "white",
            "linecolor": "white",
            "ticks": ""
           },
           "baxis": {
            "gridcolor": "white",
            "linecolor": "white",
            "ticks": ""
           },
           "bgcolor": "#E5ECF6",
           "caxis": {
            "gridcolor": "white",
            "linecolor": "white",
            "ticks": ""
           }
          },
          "title": {
           "x": 0.05
          },
          "xaxis": {
           "automargin": true,
           "gridcolor": "white",
           "linecolor": "white",
           "ticks": "",
           "zerolinecolor": "white",
           "zerolinewidth": 2
          },
          "yaxis": {
           "automargin": true,
           "gridcolor": "white",
           "linecolor": "white",
           "ticks": "",
           "zerolinecolor": "white",
           "zerolinewidth": 2
          }
         }
        },
        "xaxis": {
         "title": {
          "text": "Living in square feet abc"
         }
        },
        "yaxis": {
         "title": {
          "text": "Prize abc"
         }
        }
       }
      },
      "text/html": [
       "<div>\n",
       "        \n",
       "        \n",
       "            <div id=\"f503d7da-c1c6-4df3-bc37-13c406e4c2dd\" class=\"plotly-graph-div\" style=\"height:525px; width:100%;\"></div>\n",
       "            <script type=\"text/javascript\">\n",
       "                require([\"plotly\"], function(Plotly) {\n",
       "                    window.PLOTLYENV=window.PLOTLYENV || {};\n",
       "                    \n",
       "                if (document.getElementById(\"f503d7da-c1c6-4df3-bc37-13c406e4c2dd\")) {\n",
       "                    Plotly.newPlot(\n",
       "                        'f503d7da-c1c6-4df3-bc37-13c406e4c2dd',\n",
       "                        [{\"line\": {\"color\": \"red\"}, \"mode\": \"markers\", \"name\": \"data\", \"type\": \"scatter\", \"x\": [7, 7, 9, 8, 11, 5, 8, 8, 6, 9, 7, 7, 7, 7, 9, 7, 8, 7, 9, 7, 6, 9, 11, 8, 10, 8, 7, 7, 5, 8, 10, 11, 7, 10, 8, 8, 11, 8, 6, 9, 7, 7, 6, 9, 8, 7, 7, 7, 8, 7, 9, 7, 8, 9, 7, 7, 8, 9, 7, 8, 7, 7, 7, 8, 6], \"y\": [-108611.22352776211, 11388.776472237892, 480765.4523555804, -147422.88558609085, -89857.87176107685, 172879.10058889515, -138622.88558609085, 238577.11441390915, 74200.4385305664, -221734.5476444196, -115611.22352776211, -3611.2235277621076, -193611.2235277621, 176388.7764722379, 430765.4523555804, -108611.22352776211, -376472.88558609085, -73611.22352776211, -219234.5476444196, -128611.22352776211, -70849.5614694336, -194234.5476444196, 68142.12823892315, -62422.88558609085, 182953.7902972519, -221422.88558609085, -57611.22352776211, 371388.7764722379, 190212.10058889515, -274422.88558609085, -233346.2097027481, -284857.87176107685, 287388.7764722379, -11046.209702748107, -275922.88558609085, -268922.88558609085, -162857.87176107685, 6527.114413909148, 27200.438530566404, 35765.452355580404, -141960.2235277621, 151388.7764722379, 139395.4385305664, 455765.4523555804, 533577.1144139091, 111388.77647223789, -119611.22352776211, -168611.2235277621, -256422.88558609085, -97611.22352776211, 1455765.4523555804, -122611.22352776211, 42577.11441390915, -176234.5476444196, 122388.77647223789, 321388.7764722379, -137422.88558609085, 129755.4523555804, -167611.2235277621, -211422.88558609085, 36388.77647223789, -217611.2235277621, -32611.223527762108, -266422.88558609085, 14200.438530566404]}],\n",
       "                        {\"template\": {\"data\": {\"bar\": [{\"error_x\": {\"color\": \"#2a3f5f\"}, \"error_y\": {\"color\": \"#2a3f5f\"}, \"marker\": {\"line\": {\"color\": \"#E5ECF6\", \"width\": 0.5}}, \"type\": \"bar\"}], \"barpolar\": [{\"marker\": {\"line\": {\"color\": \"#E5ECF6\", \"width\": 0.5}}, \"type\": \"barpolar\"}], \"carpet\": [{\"aaxis\": {\"endlinecolor\": \"#2a3f5f\", \"gridcolor\": \"white\", \"linecolor\": \"white\", \"minorgridcolor\": \"white\", \"startlinecolor\": \"#2a3f5f\"}, \"baxis\": {\"endlinecolor\": \"#2a3f5f\", \"gridcolor\": \"white\", \"linecolor\": \"white\", \"minorgridcolor\": \"white\", \"startlinecolor\": \"#2a3f5f\"}, \"type\": \"carpet\"}], \"choropleth\": [{\"colorbar\": {\"outlinewidth\": 0, \"ticks\": \"\"}, \"type\": \"choropleth\"}], \"contour\": [{\"colorbar\": {\"outlinewidth\": 0, \"ticks\": \"\"}, \"colorscale\": [[0.0, \"#0d0887\"], [0.1111111111111111, \"#46039f\"], [0.2222222222222222, \"#7201a8\"], [0.3333333333333333, \"#9c179e\"], [0.4444444444444444, \"#bd3786\"], [0.5555555555555556, \"#d8576b\"], [0.6666666666666666, \"#ed7953\"], [0.7777777777777778, \"#fb9f3a\"], [0.8888888888888888, \"#fdca26\"], [1.0, \"#f0f921\"]], \"type\": \"contour\"}], \"contourcarpet\": [{\"colorbar\": {\"outlinewidth\": 0, \"ticks\": \"\"}, \"type\": \"contourcarpet\"}], \"heatmap\": [{\"colorbar\": {\"outlinewidth\": 0, \"ticks\": \"\"}, \"colorscale\": [[0.0, \"#0d0887\"], [0.1111111111111111, \"#46039f\"], [0.2222222222222222, \"#7201a8\"], [0.3333333333333333, \"#9c179e\"], [0.4444444444444444, \"#bd3786\"], [0.5555555555555556, \"#d8576b\"], [0.6666666666666666, \"#ed7953\"], [0.7777777777777778, \"#fb9f3a\"], [0.8888888888888888, \"#fdca26\"], [1.0, \"#f0f921\"]], \"type\": \"heatmap\"}], \"heatmapgl\": [{\"colorbar\": {\"outlinewidth\": 0, \"ticks\": \"\"}, \"colorscale\": [[0.0, \"#0d0887\"], [0.1111111111111111, \"#46039f\"], [0.2222222222222222, \"#7201a8\"], [0.3333333333333333, \"#9c179e\"], [0.4444444444444444, \"#bd3786\"], [0.5555555555555556, \"#d8576b\"], [0.6666666666666666, \"#ed7953\"], [0.7777777777777778, \"#fb9f3a\"], [0.8888888888888888, \"#fdca26\"], [1.0, \"#f0f921\"]], \"type\": \"heatmapgl\"}], \"histogram\": [{\"marker\": {\"colorbar\": {\"outlinewidth\": 0, \"ticks\": \"\"}}, \"type\": \"histogram\"}], \"histogram2d\": [{\"colorbar\": {\"outlinewidth\": 0, \"ticks\": \"\"}, \"colorscale\": [[0.0, \"#0d0887\"], [0.1111111111111111, \"#46039f\"], [0.2222222222222222, \"#7201a8\"], [0.3333333333333333, \"#9c179e\"], [0.4444444444444444, \"#bd3786\"], [0.5555555555555556, \"#d8576b\"], [0.6666666666666666, \"#ed7953\"], [0.7777777777777778, \"#fb9f3a\"], [0.8888888888888888, \"#fdca26\"], [1.0, \"#f0f921\"]], \"type\": \"histogram2d\"}], \"histogram2dcontour\": [{\"colorbar\": {\"outlinewidth\": 0, \"ticks\": \"\"}, \"colorscale\": [[0.0, \"#0d0887\"], [0.1111111111111111, \"#46039f\"], [0.2222222222222222, \"#7201a8\"], [0.3333333333333333, \"#9c179e\"], [0.4444444444444444, \"#bd3786\"], [0.5555555555555556, \"#d8576b\"], [0.6666666666666666, \"#ed7953\"], [0.7777777777777778, \"#fb9f3a\"], [0.8888888888888888, \"#fdca26\"], [1.0, \"#f0f921\"]], \"type\": \"histogram2dcontour\"}], \"mesh3d\": [{\"colorbar\": {\"outlinewidth\": 0, \"ticks\": \"\"}, \"type\": \"mesh3d\"}], \"parcoords\": [{\"line\": {\"colorbar\": {\"outlinewidth\": 0, \"ticks\": \"\"}}, \"type\": \"parcoords\"}], \"scatter\": [{\"marker\": {\"colorbar\": {\"outlinewidth\": 0, \"ticks\": \"\"}}, \"type\": \"scatter\"}], \"scatter3d\": [{\"line\": {\"colorbar\": {\"outlinewidth\": 0, \"ticks\": \"\"}}, \"marker\": {\"colorbar\": {\"outlinewidth\": 0, \"ticks\": \"\"}}, \"type\": \"scatter3d\"}], \"scattercarpet\": [{\"marker\": {\"colorbar\": {\"outlinewidth\": 0, \"ticks\": \"\"}}, \"type\": \"scattercarpet\"}], \"scattergeo\": [{\"marker\": {\"colorbar\": {\"outlinewidth\": 0, \"ticks\": \"\"}}, \"type\": \"scattergeo\"}], \"scattergl\": [{\"marker\": {\"colorbar\": {\"outlinewidth\": 0, \"ticks\": \"\"}}, \"type\": \"scattergl\"}], \"scattermapbox\": [{\"marker\": {\"colorbar\": {\"outlinewidth\": 0, \"ticks\": \"\"}}, \"type\": \"scattermapbox\"}], \"scatterpolar\": [{\"marker\": {\"colorbar\": {\"outlinewidth\": 0, \"ticks\": \"\"}}, \"type\": \"scatterpolar\"}], \"scatterpolargl\": [{\"marker\": {\"colorbar\": {\"outlinewidth\": 0, \"ticks\": \"\"}}, \"type\": \"scatterpolargl\"}], \"scatterternary\": [{\"marker\": {\"colorbar\": {\"outlinewidth\": 0, \"ticks\": \"\"}}, \"type\": \"scatterternary\"}], \"surface\": [{\"colorbar\": {\"outlinewidth\": 0, \"ticks\": \"\"}, \"colorscale\": [[0.0, \"#0d0887\"], [0.1111111111111111, \"#46039f\"], [0.2222222222222222, \"#7201a8\"], [0.3333333333333333, \"#9c179e\"], [0.4444444444444444, \"#bd3786\"], [0.5555555555555556, \"#d8576b\"], [0.6666666666666666, \"#ed7953\"], [0.7777777777777778, \"#fb9f3a\"], [0.8888888888888888, \"#fdca26\"], [1.0, \"#f0f921\"]], \"type\": \"surface\"}], \"table\": [{\"cells\": {\"fill\": {\"color\": \"#EBF0F8\"}, \"line\": {\"color\": \"white\"}}, \"header\": {\"fill\": {\"color\": \"#C8D4E3\"}, \"line\": {\"color\": \"white\"}}, \"type\": \"table\"}]}, \"layout\": {\"annotationdefaults\": {\"arrowcolor\": \"#2a3f5f\", \"arrowhead\": 0, \"arrowwidth\": 1}, \"colorscale\": {\"diverging\": [[0, \"#8e0152\"], [0.1, \"#c51b7d\"], [0.2, \"#de77ae\"], [0.3, \"#f1b6da\"], [0.4, \"#fde0ef\"], [0.5, \"#f7f7f7\"], [0.6, \"#e6f5d0\"], [0.7, \"#b8e186\"], [0.8, \"#7fbc41\"], [0.9, \"#4d9221\"], [1, \"#276419\"]], \"sequential\": [[0.0, \"#0d0887\"], [0.1111111111111111, \"#46039f\"], [0.2222222222222222, \"#7201a8\"], [0.3333333333333333, \"#9c179e\"], [0.4444444444444444, \"#bd3786\"], [0.5555555555555556, \"#d8576b\"], [0.6666666666666666, \"#ed7953\"], [0.7777777777777778, \"#fb9f3a\"], [0.8888888888888888, \"#fdca26\"], [1.0, \"#f0f921\"]], \"sequentialminus\": [[0.0, \"#0d0887\"], [0.1111111111111111, \"#46039f\"], [0.2222222222222222, \"#7201a8\"], [0.3333333333333333, \"#9c179e\"], [0.4444444444444444, \"#bd3786\"], [0.5555555555555556, \"#d8576b\"], [0.6666666666666666, \"#ed7953\"], [0.7777777777777778, \"#fb9f3a\"], [0.8888888888888888, \"#fdca26\"], [1.0, \"#f0f921\"]]}, \"colorway\": [\"#636efa\", \"#EF553B\", \"#00cc96\", \"#ab63fa\", \"#FFA15A\", \"#19d3f3\", \"#FF6692\", \"#B6E880\", \"#FF97FF\", \"#FECB52\"], \"font\": {\"color\": \"#2a3f5f\"}, \"geo\": {\"bgcolor\": \"white\", \"lakecolor\": \"white\", \"landcolor\": \"#E5ECF6\", \"showlakes\": true, \"showland\": true, \"subunitcolor\": \"white\"}, \"hoverlabel\": {\"align\": \"left\"}, \"hovermode\": \"closest\", \"mapbox\": {\"style\": \"light\"}, \"paper_bgcolor\": \"white\", \"plot_bgcolor\": \"#E5ECF6\", \"polar\": {\"angularaxis\": {\"gridcolor\": \"white\", \"linecolor\": \"white\", \"ticks\": \"\"}, \"bgcolor\": \"#E5ECF6\", \"radialaxis\": {\"gridcolor\": \"white\", \"linecolor\": \"white\", \"ticks\": \"\"}}, \"scene\": {\"xaxis\": {\"backgroundcolor\": \"#E5ECF6\", \"gridcolor\": \"white\", \"gridwidth\": 2, \"linecolor\": \"white\", \"showbackground\": true, \"ticks\": \"\", \"zerolinecolor\": \"white\"}, \"yaxis\": {\"backgroundcolor\": \"#E5ECF6\", \"gridcolor\": \"white\", \"gridwidth\": 2, \"linecolor\": \"white\", \"showbackground\": true, \"ticks\": \"\", \"zerolinecolor\": \"white\"}, \"zaxis\": {\"backgroundcolor\": \"#E5ECF6\", \"gridcolor\": \"white\", \"gridwidth\": 2, \"linecolor\": \"white\", \"showbackground\": true, \"ticks\": \"\", \"zerolinecolor\": \"white\"}}, \"shapedefaults\": {\"line\": {\"color\": \"#2a3f5f\"}}, \"ternary\": {\"aaxis\": {\"gridcolor\": \"white\", \"linecolor\": \"white\", \"ticks\": \"\"}, \"baxis\": {\"gridcolor\": \"white\", \"linecolor\": \"white\", \"ticks\": \"\"}, \"bgcolor\": \"#E5ECF6\", \"caxis\": {\"gridcolor\": \"white\", \"linecolor\": \"white\", \"ticks\": \"\"}}, \"title\": {\"x\": 0.05}, \"xaxis\": {\"automargin\": true, \"gridcolor\": \"white\", \"linecolor\": \"white\", \"ticks\": \"\", \"zerolinecolor\": \"white\", \"zerolinewidth\": 2}, \"yaxis\": {\"automargin\": true, \"gridcolor\": \"white\", \"linecolor\": \"white\", \"ticks\": \"\", \"zerolinecolor\": \"white\", \"zerolinewidth\": 2}}}, \"xaxis\": {\"title\": {\"text\": \"Living in square feet abc\"}}, \"yaxis\": {\"title\": {\"text\": \"Prize abc\"}}},\n",
       "                        {\"responsive\": true}\n",
       "                    ).then(function(){\n",
       "                            \n",
       "var gd = document.getElementById('f503d7da-c1c6-4df3-bc37-13c406e4c2dd');\n",
       "var x = new MutationObserver(function (mutations, observer) {{\n",
       "        var display = window.getComputedStyle(gd).display;\n",
       "        if (!display || display === 'none') {{\n",
       "            console.log([gd, 'removed!']);\n",
       "            Plotly.purge(gd);\n",
       "            observer.disconnect();\n",
       "        }}\n",
       "}});\n",
       "\n",
       "// Listen for the removal of the full notebook cells\n",
       "var notebookContainer = gd.closest('#notebook-container');\n",
       "if (notebookContainer) {{\n",
       "    x.observe(notebookContainer, {childList: true});\n",
       "}}\n",
       "\n",
       "// Listen for the clearing of the current output cell\n",
       "var outputEl = gd.closest('.output');\n",
       "if (outputEl) {{\n",
       "    x.observe(outputEl, {childList: true});\n",
       "}}\n",
       "\n",
       "                        })\n",
       "                };\n",
       "                });\n",
       "            </script>\n",
       "        </div>"
      ]
     },
     "metadata": {},
     "output_type": "display_data"
    }
   ],
   "source": [
    "# Solution (Punto 5)\n",
    "#Calcolate il valore della funzione y = x*w+b per ogni valore di x del training set e del test set\n",
    "#(Hint: usate il comando predict). Si plottino, in 2 figure separate, i residui sul training test e sul test set.\n",
    "\n",
    "mTrain = len(xTrain)\n",
    "mTest = len(xTest)\n",
    "\n",
    "xTest = np.reshape(xTest,(len(xTest),1))\n",
    "yhatTrain=linRegr.predict(xTrain)\n",
    "yhatTest=linRegr.predict(xTest)\n",
    "data = [\n",
    "    go.Scatter(x=xTrain[:,0], y=yTrain-yhatTrain, mode=\"markers\", name=\"data\",line = {'color': 'blue'}),\n",
    "]\n",
    "layout = go.Layout(\n",
    "    xaxis = dict(title=\"Living in square feet\"),\n",
    "    yaxis = dict(title=\"Prize\")\n",
    ")\n",
    "fig = go.Figure(data, layout)\n",
    "py.iplot(fig)\n",
    "data1 = [\n",
    "    go.Scatter(x=xTest[:,0], y=yTest-yhatTest, mode=\"markers\", name=\"data\",line = {'color': 'red'}),\n",
    "]\n",
    "layout1 = go.Layout(\n",
    "    xaxis = dict(title=\"Living in square feet abc\"),\n",
    "    yaxis = dict(title=\"Prize abc\")\n",
    ")\n",
    "fig1 = go.Figure(data1, layout1)\n",
    "py.iplot(fig1)"
   ]
  },
  {
   "cell_type": "markdown",
   "metadata": {},
   "source": [
    "## 2.3 (Regressione lineare multipla)\n",
    "\n",
    "Dagli esercizi precedenti abbiamo notato che c'è una relazione tra la variabile *price* e le variabili eslicative *sqft_living* (dimensione dell'appartamento) e *grade* (classe di appartenenza dell'abitazione). Sino ad ora, queste relazioni sono state descritte (in maniera piu' o meno accurata) da 2 modelli indipendenti di regressione lineare semplice.\n",
    "\n",
    "In questa parte dell'esercizio useremo le due variabili esplicative *sqft_living* e *grade* contemporaneamente per provare a spiegare la variabile target *price*. \n",
    "\n",
    "Nello specifico, utilizzando sempre il dataset di training *dfTrain* caricato prima, si vuole costruire un unico modello di regressione lineare multipla che spieghi la relazione tra la variabile target e le 2 variabili splicative *sqft_living* e *grade*. \n",
    "\n",
    "\n",
    "Si eseguano i seguenti punti:\n",
    "- Generate uno scatter plot 3D delle osservazioni (sull'asse x mettete le osservazioni della variabile *sqft_living*, sull'asse y le osservazioni della variabile *grade*, e sull'asse z le osservazioni della variabile target *price*). Guardate la cella di Hint sotto per capire come generare uno scatter plot tridimensionale.\n",
    "- Calcolate i parametri del modello di regressione lineare multipla ``y=x*w+b = sqft_living*w1 + grade*w2 + b``\n",
    "- Disegnare in un unico grafico lo scatter plot tridimensionale delle osservazioni del trainig set e il modello di regressione lineare (questo modello sarà un piano). Guardate la cella di Hint sotto per capire come disegnare un piano nello spazio.\n",
    "- Calcolate il valore della funzione ``y = x*w+b`` per ogni valore di x del training set e del test set. Si plottino, in 2 figure separate, i residui sul training test e sul test set.\n",
    "- Calcolate il coeffiente di determinazione ``R^2``e il SSE sia sul training set che sul test set. Il coefficiente $R^2$ del modello di regressione lineare multipla è piu' alto rispetto all' $R^2$ ottenuto dai singoli modelli di regressione lineare semplice? Quale tra i 3 modelli di regressione lineare calcolati sino ad ora (2 modelli di regressione lineare semplice calcolati al punto 2.1 e 2.2 e il modello di regressione lineare multipla calcolato ora) predice meglio il prezzo di vendita delle case? Hint: Guardare l' $R^2$ sui dati di test.  \n",
    "\n",
    "Nota: Si esegua la cella sotto per caricare le variabile esplicative in un unico array a DUE dimensione, con m righe e 2 colonne."
   ]
  },
  {
   "cell_type": "code",
   "execution_count": null,
   "metadata": {},
   "outputs": [],
   "source": [
    "xTrain = dfTrain[['sqft_living', 'grade']].values\n",
    "xTest = dfTest[['sqft_living', 'grade']].values"
   ]
  },
  {
   "cell_type": "code",
   "execution_count": null,
   "metadata": {},
   "outputs": [],
   "source": [
    "# Hint (3D scatter plot)\n",
    "\n",
    "x = np.random.randn(1000)\n",
    "y = np.random.randn(1000)\n",
    "z = x**2 + y\n",
    "\n",
    "trace = go.Scatter3d(x = x, y = y, z = z, mode = 'markers', marker = dict(size = 3) ) \n",
    "layout = go.Layout(scene = dict(xaxis = dict(title = 'x'), yaxis = dict(title = 'y'), zaxis = dict(title = 'z')))\n",
    "\n",
    "fig = go.Figure([trace], layout)\n",
    "py.iplot(fig)"
   ]
  },
  {
   "cell_type": "code",
   "execution_count": null,
   "metadata": {},
   "outputs": [],
   "source": [
    "# Hint (Disegnare piano nello spazio che passa per punti allineati)\n",
    "\n",
    "x = np.array([1,2,3])\n",
    "y = np.array([1,2,3])\n",
    "z = np.zeros((3,3))\n",
    "\n",
    "for ind1 in range(len(x)):\n",
    "    for ind2 in range(len(y)):\n",
    "        z[ind1,ind2] = 5*x[ind1] + 10*y[ind2] - 0.4   # Equazione del piano\n",
    "\n",
    "trace = go.Surface(x = x, y = y, z = z) \n",
    "layout = go.Layout(scene = dict(xaxis = dict(title = 'x'), yaxis = dict(title = 'y'), zaxis = dict(title = 'z')))\n",
    "\n",
    "fig = go.Figure([trace], layout)\n",
    "py.iplot(fig)"
   ]
  },
  {
   "cell_type": "code",
   "execution_count": null,
   "metadata": {},
   "outputs": [],
   "source": [
    "# Solution (punto 1)\n",
    "\n",
    "..."
   ]
  },
  {
   "cell_type": "code",
   "execution_count": null,
   "metadata": {},
   "outputs": [],
   "source": [
    "# Solution (punto 2)\n",
    "\n",
    "..."
   ]
  },
  {
   "cell_type": "code",
   "execution_count": null,
   "metadata": {},
   "outputs": [],
   "source": [
    "# Solution (punto 3)\n",
    "\n",
    "..."
   ]
  },
  {
   "cell_type": "code",
   "execution_count": null,
   "metadata": {},
   "outputs": [],
   "source": [
    "# Solution (Punto 4)\n",
    "\n",
    "..."
   ]
  },
  {
   "cell_type": "code",
   "execution_count": null,
   "metadata": {},
   "outputs": [],
   "source": [
    "# Solution (punto 5)\n",
    "\n",
    "..."
   ]
  },
  {
   "cell_type": "markdown",
   "metadata": {},
   "source": [
    "## 2.4\n",
    "\n",
    "In questo esercizio studieremo come varia il SSE e il coefficiente di determinazione $R^2$ sia sui dati di training che sui dati di test all'aumentare del numero delle variabili esplicative.\n",
    "\n",
    "\n",
    "Si consideri il solito dataset sulle abitazioni nella King County, la variabile target *price* e il seguente insieme di 8 variabili esplicative (vedere il sito web per capire cosa rappresenta ogni variabile):\n",
    "\n",
    "['sqft_living', 'grade', 'lat', 'long', 'yr_built', 'zipcode', 'sqft_lot', 'sqft_basement']. \n",
    "\n",
    "\n",
    "Si costruiscano 8 diversi modelli di regressione lineare con complessità crescente secondo questo criterio:\n",
    "- Il primo modello utilizza come variabile esplicativa solo 'sqft_living'\n",
    "- Il secondo modello utilizza 2 variabili esplicative ['sqft_living', 'grade']:\n",
    "- Il terzo modello utilizza 3 variabili esplicative ['sqft_living', 'grade', 'lat']\n",
    "- Il quarto modello utilizza 4 variabili esplicative ['sqft_living', 'grade', 'lat', 'long']\n",
    "- ...\n",
    "- L'ottavo modello utilizza tutte le 8 variabili esplicative ['sqft_living', 'grade', 'lat', 'long', 'yr_built', 'zipcode', 'sqft_lot', 'sqft_basement']. \n",
    "\n",
    "\n",
    "Si calcolo il SSE e il coefficiente $R^2$ per tutti gli 8 modelli, sia sul set di training che sul set di test. \n",
    "\n",
    "- E' sempre vero che all'aumentare della complessità del modello l'SSE sul dataset di training diminuisce sempre? Sapete motivare la risposta con la teoria?\n",
    "- E' sempre vero che all'aumentare della complessità del modello l' $R^2$ sul dataset di training aumenta sempre?\n",
    "- E' sempre vero che all'aumentare della complessità del modello l'SSE sul dataset di test diminuisce sempre?\n",
    "- E' sempre vero che all'aumentare della complessità del modello l'$R^2$ sul dataset di test aumenta sempre?"
   ]
  },
  {
   "cell_type": "code",
   "execution_count": null,
   "metadata": {},
   "outputs": [],
   "source": [
    "# Solution (punto 0: Carichiamo tutte le variabili esplicative in un unico array)\n"
   ]
  },
  {
   "cell_type": "code",
   "execution_count": null,
   "metadata": {},
   "outputs": [],
   "source": [
    "# Solution\n"
   ]
  },
  {
   "cell_type": "markdown",
   "metadata": {},
   "source": [
    "**Solution**\n",
    "\n",
    "- E' sempre vero che all'aumentare della complessità del modello l'SSE sul dataset di training diminuisce sempre? Sapete motivare la risposta con la teoria?\n",
    "\n",
    "- E' sempre vero che all'aumentare della complessità del modello l' $R^2$ sul dataset di training aumenta sempre? \n",
    "\n",
    "- E' sempre vero che all'aumentare della complessità del modello l'SSE sul dataset di test diminuisce sempre? \n",
    "\n",
    "- E' sempre vero che all'aumentare della complessità del modello l'$R^2$ sul dataset di test aumenta sempre? "
   ]
  }
 ],
 "metadata": {
  "kernelspec": {
   "display_name": "Python 3",
   "language": "python",
   "name": "python3"
  },
  "language_info": {
   "codemirror_mode": {
    "name": "ipython",
    "version": 3
   },
   "file_extension": ".py",
   "mimetype": "text/x-python",
   "name": "python",
   "nbconvert_exporter": "python",
   "pygments_lexer": "ipython3",
   "version": "3.7.3"
  }
 },
 "nbformat": 4,
 "nbformat_minor": 2
}
